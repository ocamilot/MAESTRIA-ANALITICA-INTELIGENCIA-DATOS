{
 "cells": [
  {
   "cell_type": "code",
   "execution_count": 1,
   "metadata": {},
   "outputs": [],
   "source": [
    "import numpy as np\n",
    "from sklearn.linear_model import LinearRegression"
   ]
  },
  {
   "cell_type": "code",
   "execution_count": 2,
   "metadata": {},
   "outputs": [],
   "source": [
    "# Datos de entrenamiento con validacion cruzada, distribucion de datos con Fold 2. En total 6 datos, 3 para test y 3 para trian, cambiandolos de orden en cada iteracion.\n",
    "x1_train=([-0.05], [0.79], [-2.24])\n",
    "y1_train=[0.35, 7.37 , -5.84]\n",
    "x1_test=[[0.83] , [0.20] , [-0.63]]\n",
    "y1_test=[4.29 , 4.36 , 0.06]\n"
   ]
  },
  {
   "cell_type": "code",
   "execution_count": 3,
   "metadata": {},
   "outputs": [
    {
     "data": {
      "text/plain": [
       "1.2604114799975352"
      ]
     },
     "execution_count": 3,
     "metadata": {},
     "output_type": "execute_result"
    }
   ],
   "source": [
    "# Regresion lineal usando librerias\n",
    "linmod=LinearRegression()\n",
    "linmod.fit(x1_train,y1_train)\n",
    "pred = linmod.predict(x1_test)\n",
    "\n",
    "MSE1=np.average(np.square(pred-y1_test))\n",
    "MSE1"
   ]
  },
  {
   "cell_type": "code",
   "execution_count": 4,
   "metadata": {},
   "outputs": [
    {
     "data": {
      "text/plain": [
       "4.235543680896021"
      ]
     },
     "execution_count": 4,
     "metadata": {},
     "output_type": "execute_result"
    }
   ],
   "source": [
    "linmod=LinearRegression()\n",
    "linmod.fit(x1_test,y1_test)\n",
    "pred = linmod.predict(x1_train)\n",
    "\n",
    "MSE2=np.average(np.square(pred-y1_train))\n",
    "MSE2"
   ]
  },
  {
   "cell_type": "code",
   "execution_count": 5,
   "metadata": {},
   "outputs": [
    {
     "data": {
      "text/plain": [
       "2.7479775804467783"
      ]
     },
     "execution_count": 5,
     "metadata": {},
     "output_type": "execute_result"
    }
   ],
   "source": [
    "m=(MSE1 + MSE2)/2\n",
    "m"
   ]
  }
 ],
 "metadata": {
  "kernelspec": {
   "display_name": "Python 3",
   "language": "python",
   "name": "python3"
  },
  "language_info": {
   "codemirror_mode": {
    "name": "ipython",
    "version": 3
   },
   "file_extension": ".py",
   "mimetype": "text/x-python",
   "name": "python",
   "nbconvert_exporter": "python",
   "pygments_lexer": "ipython3",
   "version": "3.11.3"
  }
 },
 "nbformat": 4,
 "nbformat_minor": 2
}
