{
 "cells": [
  {
   "cell_type": "markdown",
   "metadata": {},
   "source": [
    "![image info](https://raw.githubusercontent.com/albahnsen/MIAD_ML_and_NLP/main/images/banner_1.png)"
   ]
  },
  {
   "cell_type": "markdown",
   "metadata": {},
   "source": [
    "# Redes Neuronales\n",
    "\n",
    "En este notebook aprenderá a construir y a entrenar redes neuronales de una capa y multicapas, usando la librería [Keras](https://keras.io/).\n",
    "\n",
    "Este notebook tiene una licencia de [Creative Commons Attribution-ShareAlike 3.0 Unported License](http://creativecommons.org/licenses/by-sa/3.0/deed.en_US). Un agradecimiento especial para [Valerio Maggio](https://mpba.fbk.eu)."
   ]
  },
  {
   "cell_type": "markdown",
   "metadata": {},
   "source": [
    "## Instrucciones Generales\n",
    "\n",
    "Keras es una librería de redes neuronales altamente modular, escrita en Python y capaz de ejecutarse sobre TensorFlow o Theano. Fue desarrollada con el objetivo de permitir una experimentación rápida con modelos de redes neuronales.\n",
    "\n",
    "Este notebook esta compuesto por dos secciones. En la primera sección, usted beberá construir y entrenar una red neuronal de una capa para predecir el precio de una casa con el set de datos Boston Housing Data. En la segunda parte, se usará el mismo dataset pero usted beberá construir y entrenar una red neuronal multicapa para identificar sus ventajas. Para conocer más detalles de la base, puede ingresar al siguiente [vínculo](https://archive.ics.uci.edu/ml/machine-learning-databases/housing/).\n",
    "   \n",
    "Para realizar la actividad, solo siga las indicaciones asociadas a cada celda del notebook. "
   ]
  },
  {
   "cell_type": "markdown",
   "metadata": {},
   "source": [
    "## Importar base de datos y librerías"
   ]
  },
  {
   "cell_type": "code",
   "execution_count": 1,
   "metadata": {},
   "outputs": [],
   "source": [
    "import warnings\n",
    "warnings.filterwarnings('ignore')"
   ]
  },
  {
   "cell_type": "code",
   "execution_count": 2,
   "metadata": {},
   "outputs": [],
   "source": [
    "# Importación librerías\n",
    "import pandas as pd\n",
    "from sklearn.datasets import load_boston\n",
    "import numpy as np\n",
    "import matplotlib.pyplot as plt\n",
    "from sklearn.model_selection import train_test_split"
   ]
  },
  {
   "cell_type": "code",
   "execution_count": 3,
   "metadata": {},
   "outputs": [
    {
     "data": {
      "text/html": [
       "<div>\n",
       "<style scoped>\n",
       "    .dataframe tbody tr th:only-of-type {\n",
       "        vertical-align: middle;\n",
       "    }\n",
       "\n",
       "    .dataframe tbody tr th {\n",
       "        vertical-align: top;\n",
       "    }\n",
       "\n",
       "    .dataframe thead th {\n",
       "        text-align: right;\n",
       "    }\n",
       "</style>\n",
       "<table border=\"1\" class=\"dataframe\">\n",
       "  <thead>\n",
       "    <tr style=\"text-align: right;\">\n",
       "      <th></th>\n",
       "      <th>CRIM</th>\n",
       "      <th>ZN</th>\n",
       "      <th>INDUS</th>\n",
       "      <th>CHAS</th>\n",
       "      <th>NOX</th>\n",
       "      <th>RM</th>\n",
       "      <th>AGE</th>\n",
       "      <th>DIS</th>\n",
       "      <th>RAD</th>\n",
       "      <th>TAX</th>\n",
       "      <th>PTRATIO</th>\n",
       "      <th>B</th>\n",
       "      <th>LSTAT</th>\n",
       "    </tr>\n",
       "  </thead>\n",
       "  <tbody>\n",
       "    <tr>\n",
       "      <th>0</th>\n",
       "      <td>0.00632</td>\n",
       "      <td>18.0</td>\n",
       "      <td>2.31</td>\n",
       "      <td>0.0</td>\n",
       "      <td>0.538</td>\n",
       "      <td>6.575</td>\n",
       "      <td>65.2</td>\n",
       "      <td>4.0900</td>\n",
       "      <td>1.0</td>\n",
       "      <td>296.0</td>\n",
       "      <td>15.3</td>\n",
       "      <td>396.90</td>\n",
       "      <td>4.98</td>\n",
       "    </tr>\n",
       "    <tr>\n",
       "      <th>1</th>\n",
       "      <td>0.02731</td>\n",
       "      <td>0.0</td>\n",
       "      <td>7.07</td>\n",
       "      <td>0.0</td>\n",
       "      <td>0.469</td>\n",
       "      <td>6.421</td>\n",
       "      <td>78.9</td>\n",
       "      <td>4.9671</td>\n",
       "      <td>2.0</td>\n",
       "      <td>242.0</td>\n",
       "      <td>17.8</td>\n",
       "      <td>396.90</td>\n",
       "      <td>9.14</td>\n",
       "    </tr>\n",
       "    <tr>\n",
       "      <th>2</th>\n",
       "      <td>0.02729</td>\n",
       "      <td>0.0</td>\n",
       "      <td>7.07</td>\n",
       "      <td>0.0</td>\n",
       "      <td>0.469</td>\n",
       "      <td>7.185</td>\n",
       "      <td>61.1</td>\n",
       "      <td>4.9671</td>\n",
       "      <td>2.0</td>\n",
       "      <td>242.0</td>\n",
       "      <td>17.8</td>\n",
       "      <td>392.83</td>\n",
       "      <td>4.03</td>\n",
       "    </tr>\n",
       "    <tr>\n",
       "      <th>3</th>\n",
       "      <td>0.03237</td>\n",
       "      <td>0.0</td>\n",
       "      <td>2.18</td>\n",
       "      <td>0.0</td>\n",
       "      <td>0.458</td>\n",
       "      <td>6.998</td>\n",
       "      <td>45.8</td>\n",
       "      <td>6.0622</td>\n",
       "      <td>3.0</td>\n",
       "      <td>222.0</td>\n",
       "      <td>18.7</td>\n",
       "      <td>394.63</td>\n",
       "      <td>2.94</td>\n",
       "    </tr>\n",
       "    <tr>\n",
       "      <th>4</th>\n",
       "      <td>0.06905</td>\n",
       "      <td>0.0</td>\n",
       "      <td>2.18</td>\n",
       "      <td>0.0</td>\n",
       "      <td>0.458</td>\n",
       "      <td>7.147</td>\n",
       "      <td>54.2</td>\n",
       "      <td>6.0622</td>\n",
       "      <td>3.0</td>\n",
       "      <td>222.0</td>\n",
       "      <td>18.7</td>\n",
       "      <td>396.90</td>\n",
       "      <td>5.33</td>\n",
       "    </tr>\n",
       "  </tbody>\n",
       "</table>\n",
       "</div>"
      ],
      "text/plain": [
       "      CRIM    ZN  INDUS  CHAS    NOX     RM   AGE     DIS  RAD    TAX  \\\n",
       "0  0.00632  18.0   2.31   0.0  0.538  6.575  65.2  4.0900  1.0  296.0   \n",
       "1  0.02731   0.0   7.07   0.0  0.469  6.421  78.9  4.9671  2.0  242.0   \n",
       "2  0.02729   0.0   7.07   0.0  0.469  7.185  61.1  4.9671  2.0  242.0   \n",
       "3  0.03237   0.0   2.18   0.0  0.458  6.998  45.8  6.0622  3.0  222.0   \n",
       "4  0.06905   0.0   2.18   0.0  0.458  7.147  54.2  6.0622  3.0  222.0   \n",
       "\n",
       "   PTRATIO       B  LSTAT  \n",
       "0     15.3  396.90   4.98  \n",
       "1     17.8  396.90   9.14  \n",
       "2     17.8  392.83   4.03  \n",
       "3     18.7  394.63   2.94  \n",
       "4     18.7  396.90   5.33  "
      ]
     },
     "execution_count": 3,
     "metadata": {},
     "output_type": "execute_result"
    }
   ],
   "source": [
    "from sklearn.datasets import load_boston\n",
    "# Carga de datos de la librería sklearn\n",
    "boston_dataset = load_boston()\n",
    "boston = pd.DataFrame(boston_dataset.data, columns=boston_dataset.feature_names)\n",
    "boston.head()"
   ]
  },
  {
   "cell_type": "markdown",
   "metadata": {},
   "source": [
    "## Definición de variables predictoras  y de interés"
   ]
  },
  {
   "cell_type": "code",
   "execution_count": 4,
   "metadata": {},
   "outputs": [],
   "source": [
    "# Definición de variables predictoras (X)\n",
    "X = boston.drop(boston.columns[-1],axis=1)\n",
    "# Definición de variable de interés (y)\n",
    "Y = pd.DataFrame(np.array(boston_dataset.target), columns=['labels'])"
   ]
  },
  {
   "cell_type": "code",
   "execution_count": 5,
   "metadata": {},
   "outputs": [
    {
     "data": {
      "text/plain": [
       "pandas.core.frame.DataFrame"
      ]
     },
     "execution_count": 5,
     "metadata": {},
     "output_type": "execute_result"
    }
   ],
   "source": [
    "# Separación de variables predictoras (X) y variable de interés (y) en set de entrenamiento y test usandola función train_test_split\n",
    "X_train, X_test , Y_train, Y_test = train_test_split(X,Y, test_size=0.3 ,random_state=22)\n",
    "type(X_train)"
   ]
  },
  {
   "cell_type": "code",
   "execution_count": 6,
   "metadata": {},
   "outputs": [],
   "source": [
    "# Normalización de variables predictoras (X) con la función StandardScaler\n",
    "from sklearn.preprocessing import StandardScaler\n",
    "\n",
    "# Definición de la función StandardScaler\n",
    "scaler = StandardScaler()\n",
    "scaler.fit(X)\n",
    "\n",
    "# Transformación de los set de entrenamiento y test\n",
    "X_train = pd.DataFrame(data=scaler.transform(X_train), columns=X_train.columns, index=X_train.index)\n",
    "X_test = pd.DataFrame(data=scaler.transform(X_test), columns=X_test.columns, index=X_test.index)\n",
    "\n",
    "X_train = np.array(X_train)\n",
    "Y_train = np.array(Y_train)\n",
    "\n",
    "X_test = np.array(X_test)\n",
    "Y_test = np.array(Y_test)"
   ]
  },
  {
   "cell_type": "code",
   "execution_count": 7,
   "metadata": {},
   "outputs": [
    {
     "name": "stdout",
     "output_type": "stream",
     "text": [
      "1  output variables\n"
     ]
    }
   ],
   "source": [
    "# Definición de dimensiones de salida, varaibles de interés\n",
    "output_var = Y_train.shape[1]\n",
    "print(output_var, ' output variables')"
   ]
  },
  {
   "cell_type": "code",
   "execution_count": 8,
   "metadata": {},
   "outputs": [
    {
     "name": "stdout",
     "output_type": "stream",
     "text": [
      "12 input variables\n"
     ]
    }
   ],
   "source": [
    "# Definición de dimensiones de entrada, varaibles predictoras\n",
    "dims = X_train.shape[1]\n",
    "print(dims, 'input variables')"
   ]
  },
  {
   "cell_type": "markdown",
   "metadata": {},
   "source": [
    "# Red neuronal de una sola capa"
   ]
  },
  {
   "cell_type": "code",
   "execution_count": 9,
   "metadata": {
    "scrolled": true
   },
   "outputs": [],
   "source": [
    "# Importación librerías\n",
    "from keras.models import Sequential\n",
    "from keras.layers import Dense, Activation\n",
    "from livelossplot import PlotLossesKeras\n",
    "from keras import backend as K\n",
    "import keras.optimizers as opts"
   ]
  },
  {
   "cell_type": "code",
   "execution_count": 10,
   "metadata": {
    "scrolled": false
   },
   "outputs": [
    {
     "name": "stdout",
     "output_type": "stream",
     "text": [
      "Model: \"sequential\"\n",
      "_________________________________________________________________\n",
      " Layer (type)                Output Shape              Param #   \n",
      "=================================================================\n",
      " dense (Dense)               (None, 1)                 13        \n",
      "                                                                 \n",
      "=================================================================\n",
      "Total params: 13\n",
      "Trainable params: 13\n",
      "Non-trainable params: 0\n",
      "_________________________________________________________________\n",
      "None\n"
     ]
    }
   ],
   "source": [
    "K.clear_session()\n",
    "\n",
    "# Definición red neuronal con la función Sequential()\n",
    "model = Sequential()\n",
    "# Definición de la capa densa con un tamaño de salida igual a output_var y un input_shape de dims\n",
    "model.add(Dense(output_var, input_shape=(dims,)))\n",
    "\n",
    "# Impresión de la arquitectura de la red neuronal\n",
    "print(model.summary())"
   ]
  },
  {
   "cell_type": "code",
   "execution_count": 11,
   "metadata": {},
   "outputs": [],
   "source": [
    "# Definición de función de perdida. Se usa mean_squared_error dado que es un ejercicio de regresión\n",
    "model.compile(optimizer='sgd', loss='mean_squared_error')"
   ]
  },
  {
   "cell_type": "code",
   "execution_count": 12,
   "metadata": {
    "scrolled": false
   },
   "outputs": [
    {
     "data": {
      "image/png": "[encoded data removed]",
      "text/plain": [
       "<Figure size 864x576 with 2 Axes>"
      ]
     },
     "metadata": {
      "needs_background": "light"
     },
     "output_type": "display_data"
    },
    {
     "name": "stdout",
     "output_type": "stream",
     "text": [
      "Loss\n",
      "\ttraining         \t (min:   28.063, max:  484.206, cur:   29.669)\n",
      "\tvalidation       \t (min:   24.882, max:  384.745, cur:   27.407)\n",
      "12/12 [==============================] - 0s 29ms/step - loss: 29.6689 - val_loss: 27.4070\n"
     ]
    },
    {
     "data": {
      "text/plain": [
       "<keras.callbacks.History at 0x71295422d6d0>"
      ]
     },
     "execution_count": 12,
     "metadata": {},
     "output_type": "execute_result"
    }
   ],
   "source": [
    "# Entrenamiento de la red neuronal con 50 épocas\n",
    "model.fit(X_train, Y_train, \n",
    "          verbose=1, \n",
    "          epochs=50, \n",
    "          validation_data=(X_test, Y_test),\n",
    "          callbacks=[PlotLossesKeras()])"
   ]
  },
  {
   "cell_type": "markdown",
   "metadata": {},
   "source": [
    "## Red neuronal de una sola capa con early stopping"
   ]
  },
  {
   "cell_type": "code",
   "execution_count": 13,
   "metadata": {},
   "outputs": [],
   "source": [
    "# Importación librerías\n",
    "from sklearn.model_selection import train_test_split\n",
    "from keras.callbacks import EarlyStopping, ModelCheckpoint"
   ]
  },
  {
   "cell_type": "code",
   "execution_count": 14,
   "metadata": {},
   "outputs": [
    {
     "name": "stdout",
     "output_type": "stream",
     "text": [
      "Model: \"sequential\"\n",
      "_________________________________________________________________\n",
      " Layer (type)                Output Shape              Param #   \n",
      "=================================================================\n",
      " dense (Dense)               (None, 1)                 13        \n",
      "                                                                 \n",
      "=================================================================\n",
      "Total params: 13\n",
      "Trainable params: 13\n",
      "Non-trainable params: 0\n",
      "_________________________________________________________________\n",
      "None\n"
     ]
    }
   ],
   "source": [
    "K.clear_session()\n",
    "\n",
    "# Definición red neuronal con la función Sequential()\n",
    "model = Sequential()\n",
    "# Definición de la capa densa con un tamaño de salida igual a output_var y un input_shape de dims\n",
    "model.add(Dense(output_var, input_shape=(dims,)))\n",
    "# Definición de función de perdida. Se usa mean_squared_error dado que es un ejercicio de regresión\n",
    "model.compile(optimizer='sgd', loss='mean_squared_error')\n",
    "\n",
    "# Impresión de la arquitectura de la red neuronal\n",
    "print(model.summary())"
   ]
  },
  {
   "cell_type": "code",
   "execution_count": 15,
   "metadata": {},
   "outputs": [],
   "source": [
    "# Definición de la función EarlyStopping para considerar durante el entrenamiento\n",
    "early_stop = EarlyStopping(monitor='val_loss', patience=2, verbose=1) "
   ]
  },
  {
   "cell_type": "code",
   "execution_count": 16,
   "metadata": {},
   "outputs": [],
   "source": [
    "# Definición de la función ModelCheckpoint para guardar el modelo con mejor desempeño\n",
    "fBestModel = 'best_model.h5'\n",
    "best_model = ModelCheckpoint(fBestModel, verbose=0, save_best_only=True)"
   ]
  },
  {
   "cell_type": "code",
   "execution_count": 17,
   "metadata": {
    "scrolled": true
   },
   "outputs": [
    {
     "name": "stdout",
     "output_type": "stream",
     "text": [
      "Epoch 1/50\n",
      "3/3 [==============================] - 0s 64ms/step - loss: 541.6776 - val_loss: 541.4011\n",
      "Epoch 2/50\n",
      "3/3 [==============================] - 0s 29ms/step - loss: 481.9247 - val_loss: 482.3522\n",
      "Epoch 3/50\n",
      "3/3 [==============================] - 0s 32ms/step - loss: 429.9276 - val_loss: 431.3716\n",
      "Epoch 4/50\n",
      "3/3 [==============================] - 0s 32ms/step - loss: 384.3050 - val_loss: 386.1591\n",
      "Epoch 5/50\n",
      "3/3 [==============================] - 0s 30ms/step - loss: 344.6863 - val_loss: 346.0499\n",
      "Epoch 6/50\n",
      "3/3 [==============================] - 0s 28ms/step - loss: 309.3674 - val_loss: 310.9236\n",
      "Epoch 7/50\n",
      "3/3 [==============================] - 0s 31ms/step - loss: 278.1700 - val_loss: 279.5092\n",
      "Epoch 8/50\n",
      "3/3 [==============================] - 0s 28ms/step - loss: 250.1513 - val_loss: 251.6772\n",
      "Epoch 9/50\n",
      "3/3 [==============================] - 0s 27ms/step - loss: 226.0755 - val_loss: 227.0862\n",
      "Epoch 10/50\n",
      "3/3 [==============================] - 0s 27ms/step - loss: 204.2107 - val_loss: 205.4395\n",
      "Epoch 11/50\n",
      "3/3 [==============================] - 0s 28ms/step - loss: 185.0439 - val_loss: 185.6992\n",
      "Epoch 12/50\n",
      "3/3 [==============================] - 0s 29ms/step - loss: 167.7755 - val_loss: 168.2895\n",
      "Epoch 13/50\n",
      "3/3 [==============================] - 0s 29ms/step - loss: 152.4674 - val_loss: 153.1121\n",
      "Epoch 14/50\n",
      "3/3 [==============================] - 0s 29ms/step - loss: 139.0163 - val_loss: 139.0075\n",
      "Epoch 15/50\n",
      "3/3 [==============================] - 0s 28ms/step - loss: 126.8914 - val_loss: 126.7261\n",
      "Epoch 16/50\n",
      "3/3 [==============================] - 0s 27ms/step - loss: 116.2209 - val_loss: 115.8791\n",
      "Epoch 17/50\n",
      "3/3 [==============================] - 0s 29ms/step - loss: 106.5298 - val_loss: 106.3062\n",
      "Epoch 18/50\n",
      "3/3 [==============================] - 0s 27ms/step - loss: 98.1147 - val_loss: 97.6403\n",
      "Epoch 19/50\n",
      "3/3 [==============================] - 0s 28ms/step - loss: 90.5569 - val_loss: 89.8141\n",
      "Epoch 20/50\n",
      "3/3 [==============================] - 0s 29ms/step - loss: 83.8437 - val_loss: 83.0184\n",
      "Epoch 21/50\n",
      "3/3 [==============================] - 0s 27ms/step - loss: 77.9538 - val_loss: 76.7736\n",
      "Epoch 22/50\n",
      "3/3 [==============================] - 0s 32ms/step - loss: 72.5702 - val_loss: 71.3479\n",
      "Epoch 23/50\n",
      "3/3 [==============================] - 0s 30ms/step - loss: 67.9402 - val_loss: 66.4509\n",
      "Epoch 24/50\n",
      "3/3 [==============================] - 0s 29ms/step - loss: 63.8453 - val_loss: 62.0708\n",
      "Epoch 25/50\n",
      "3/3 [==============================] - 0s 31ms/step - loss: 59.9924 - val_loss: 58.3137\n",
      "Epoch 26/50\n",
      "3/3 [==============================] - 0s 28ms/step - loss: 56.5629 - val_loss: 54.8666\n",
      "Epoch 27/50\n",
      "3/3 [==============================] - 0s 29ms/step - loss: 53.6051 - val_loss: 51.7326\n",
      "Epoch 28/50\n",
      "3/3 [==============================] - 0s 30ms/step - loss: 50.9200 - val_loss: 48.9276\n",
      "Epoch 29/50\n",
      "3/3 [==============================] - 0s 29ms/step - loss: 48.5721 - val_loss: 46.5382\n",
      "Epoch 30/50\n",
      "3/3 [==============================] - 0s 29ms/step - loss: 46.4508 - val_loss: 44.3569\n",
      "Epoch 31/50\n",
      "3/3 [==============================] - 0s 29ms/step - loss: 44.6111 - val_loss: 42.4257\n",
      "Epoch 32/50\n",
      "3/3 [==============================] - 0s 28ms/step - loss: 42.9633 - val_loss: 40.6740\n",
      "Epoch 33/50\n",
      "3/3 [==============================] - 0s 28ms/step - loss: 41.4453 - val_loss: 39.1130\n",
      "Epoch 34/50\n",
      "3/3 [==============================] - 0s 33ms/step - loss: 40.0747 - val_loss: 37.7595\n",
      "Epoch 35/50\n",
      "3/3 [==============================] - 0s 29ms/step - loss: 38.9425 - val_loss: 36.6494\n",
      "Epoch 36/50\n",
      "3/3 [==============================] - 0s 29ms/step - loss: 37.9195 - val_loss: 35.6057\n",
      "Epoch 37/50\n",
      "3/3 [==============================] - 0s 29ms/step - loss: 36.8791 - val_loss: 34.5716\n",
      "Epoch 38/50\n",
      "3/3 [==============================] - 0s 29ms/step - loss: 36.0195 - val_loss: 33.6594\n",
      "Epoch 39/50\n",
      "3/3 [==============================] - 0s 30ms/step - loss: 35.2556 - val_loss: 32.8784\n",
      "Epoch 40/50\n",
      "3/3 [==============================] - 0s 30ms/step - loss: 34.5724 - val_loss: 32.1991\n",
      "Epoch 41/50\n",
      "3/3 [==============================] - 0s 30ms/step - loss: 34.0279 - val_loss: 31.5247\n",
      "Epoch 42/50\n",
      "3/3 [==============================] - 0s 29ms/step - loss: 33.4131 - val_loss: 31.0067\n",
      "Epoch 43/50\n",
      "3/3 [==============================] - 0s 30ms/step - loss: 32.9693 - val_loss: 30.5401\n",
      "Epoch 44/50\n",
      "3/3 [==============================] - 0s 29ms/step - loss: 32.6633 - val_loss: 30.0143\n",
      "Epoch 45/50\n",
      "3/3 [==============================] - 0s 28ms/step - loss: 32.1553 - val_loss: 29.5822\n",
      "Epoch 46/50\n",
      "3/3 [==============================] - 0s 27ms/step - loss: 31.7681 - val_loss: 29.2226\n",
      "Epoch 47/50\n",
      "3/3 [==============================] - 0s 28ms/step - loss: 31.4122 - val_loss: 28.9782\n",
      "Epoch 48/50\n",
      "3/3 [==============================] - 0s 29ms/step - loss: 31.1159 - val_loss: 28.6915\n",
      "Epoch 49/50\n",
      "3/3 [==============================] - 0s 28ms/step - loss: 30.9085 - val_loss: 28.4085\n",
      "Epoch 50/50\n",
      "3/3 [==============================] - 0s 28ms/step - loss: 30.6466 - val_loss: 28.2531\n"
     ]
    },
    {
     "data": {
      "text/plain": [
       "<keras.callbacks.History at 0x7891985b4a50>"
      ]
     },
     "execution_count": 17,
     "metadata": {},
     "output_type": "execute_result"
    }
   ],
   "source": [
    "# Entrenamiento de la red neuronal con 50 épocas y early stopping\n",
    "model.fit(X_train, Y_train, \n",
    "          verbose=True, \n",
    "          epochs=50, \n",
    "          batch_size=128,\n",
    "          validation_data=(X_test,Y_test),\n",
    "          callbacks=[best_model, early_stop])"
   ]
  },
  {
   "cell_type": "markdown",
   "metadata": {},
   "source": [
    "# Red Neuronal Multicapa"
   ]
  },
  {
   "cell_type": "code",
   "execution_count": 18,
   "metadata": {},
   "outputs": [
    {
     "name": "stdout",
     "output_type": "stream",
     "text": [
      "Model: \"sequential\"\n",
      "_________________________________________________________________\n",
      " Layer (type)                Output Shape              Param #   \n",
      "=================================================================\n",
      " dense (Dense)               (None, 256)               3328      \n",
      "                                                                 \n",
      " dense_1 (Dense)             (None, 256)               65792     \n",
      "                                                                 \n",
      " dense_2 (Dense)             (None, 1)                 257       \n",
      "                                                                 \n",
      " activation (Activation)     (None, 1)                 0         \n",
      "                                                                 \n",
      "=================================================================\n",
      "Total params: 69,377\n",
      "Trainable params: 69,377\n",
      "Non-trainable params: 0\n",
      "_________________________________________________________________\n",
      "None\n"
     ]
    }
   ],
   "source": [
    "K.clear_session()\n",
    "\n",
    "# Definición red neuronal con la función Sequential()\n",
    "model = Sequential()\n",
    "\n",
    "# Definición de la capa densa con un tamaño de salida igual a output_var y un input_shape de dims\n",
    "model.add(Dense(256, input_shape=(dims,),activation='relu'))\n",
    "model.add(Dense(256,activation='relu'))\n",
    "model.add(Dense(output_var))\n",
    "model.add(Activation('relu'))\n",
    "\n",
    "# Impresión de la arquitectura de la red neuronal\n",
    "print(model.summary())"
   ]
  },
  {
   "cell_type": "code",
   "execution_count": 19,
   "metadata": {},
   "outputs": [],
   "source": [
    "# Definición de función de perdida. Se usa mean_squared_error dado que es un ejercicio de regresión\n",
    "model.compile(optimizer='sgd', loss='mean_squared_error')"
   ]
  },
  {
   "cell_type": "code",
   "execution_count": 20,
   "metadata": {},
   "outputs": [],
   "source": [
    "# Separación de datos de entrenamiento para considerar un set de validación durante entrenamiento\n",
    "X_train, X_val, Y_train, Y_val = train_test_split(X_train, Y_train, test_size=0.15, random_state=42)"
   ]
  },
  {
   "cell_type": "code",
   "execution_count": 21,
   "metadata": {},
   "outputs": [
    {
     "data": {
      "image/png": "[encoded data removed]",
      "text/plain": [
       "<Figure size 864x576 with 2 Axes>"
      ]
     },
     "metadata": {
      "needs_background": "light"
     },
     "output_type": "display_data"
    },
    {
     "name": "stdout",
     "output_type": "stream",
     "text": [
      "Loss\n",
      "\ttraining         \t (min:   10.284, max:  376.952, cur:   12.089)\n",
      "\tvalidation       \t (min:   13.034, max:  379.109, cur:   19.509)\n",
      "10/10 [==============================] - 0s 30ms/step - loss: 12.0892 - val_loss: 19.5093\n"
     ]
    },
    {
     "data": {
      "text/plain": [
       "<keras.callbacks.History at 0x703a6431a8d0>"
      ]
     },
     "execution_count": 21,
     "metadata": {},
     "output_type": "execute_result"
    }
   ],
   "source": [
    "# Entrenamiento de la red neuronal con 50 épocas\n",
    "model.fit(X_train, Y_train,\n",
    "          validation_data = (X_val, Y_val),\n",
    "          epochs=50, \n",
    "          callbacks=[PlotLossesKeras()])"
   ]
  },
  {
   "cell_type": "markdown",
   "metadata": {},
   "source": [
    "### TRABAJO FINAL MATERIA - RED NEURONAL DE UNA CAPA"
   ]
  },
  {
   "cell_type": "markdown",
   "metadata": {},
   "source": [
    "#### Red neuronal de una capa sin tratar datos"
   ]
  },
  {
   "cell_type": "code",
   "execution_count": 17,
   "metadata": {},
   "outputs": [
    {
     "name": "stderr",
     "output_type": "stream",
     "text": [
      "[nltk_data] Downloading package wordnet to /home/jovyan/nltk_data...\n",
      "[nltk_data]   Package wordnet is already up-to-date!\n",
      "[nltk_data] Downloading package stopwords to /home/jovyan/nltk_data...\n",
      "[nltk_data]   Package stopwords is already up-to-date!\n",
      "[nltk_data] Downloading package omw-1.4 to /home/jovyan/nltk_data...\n"
     ]
    },
    {
     "data": {
      "text/plain": [
       "True"
      ]
     },
     "execution_count": 17,
     "metadata": {},
     "output_type": "execute_result"
    }
   ],
   "source": [
    "# Carga de datos de archivo .csv\n",
    "# Importación librerías\n",
    "import pandas as pd\n",
    "import os\n",
    "import numpy as np\n",
    "from sklearn.feature_extraction.text import CountVectorizer\n",
    "from sklearn.preprocessing import MultiLabelBinarizer\n",
    "from sklearn.metrics import r2_score, roc_auc_score\n",
    "from sklearn.model_selection import train_test_split\n",
    "from keras import backend as K\n",
    "from livelossplot import PlotLossesKeras\n",
    "from keras.models import Sequential\n",
    "from keras.layers import Dense, Activation\n",
    "\n",
    "\n",
    "dataTraining = pd.read_csv('dataTraining.csv', encoding='UTF-8', index_col=0)\n",
    "dataTesting = pd.read_csv('dataTesting.csv', encoding='UTF-8', index_col=0)\n",
    "\n",
    "# Importación de librerias\n",
    "from nltk.stem import WordNetLemmatizer\n",
    "wordnet_lemmatizer = WordNetLemmatizer()\n",
    "import nltk\n",
    "nltk.download('wordnet')\n",
    "\n",
    "import nltk\n",
    "from nltk.corpus import stopwords\n",
    "nltk.download('stopwords')\n",
    "nltk.download('omw-1.4')\n"
   ]
  },
  {
   "cell_type": "code",
   "execution_count": 148,
   "metadata": {},
   "outputs": [],
   "source": [
    "# Definición de variables predictoras (X)\n",
    "vect = CountVectorizer(max_features=1000)\n",
    "X_dtm = vect.fit_transform(dataTraining['plot'])\n",
    "# Definición de variable de interés (y)\n",
    "dataTraining['genres'] = dataTraining['genres'].map(lambda x: eval(x))\n",
    "le = MultiLabelBinarizer()\n",
    "y_genres = le.fit_transform(dataTraining['genres'])"
   ]
  },
  {
   "cell_type": "code",
   "execution_count": 15,
   "metadata": {},
   "outputs": [],
   "source": [
    "# Separación de variables predictoras (X) y variable de interés (y) en set de entrenamiento y test usandola función train_test_split\n",
    "X_train, X_test, y_train_genres, y_test_genres = train_test_split(X_dtm, y_genres, test_size=0.33, random_state=42)"
   ]
  },
  {
   "cell_type": "code",
   "execution_count": 16,
   "metadata": {},
   "outputs": [],
   "source": [
    "X_train = X_train.toarray()\n",
    "X_test = X_test.toarray()\n"
   ]
  },
  {
   "cell_type": "code",
   "execution_count": 17,
   "metadata": {},
   "outputs": [
    {
     "name": "stdout",
     "output_type": "stream",
     "text": [
      "24  output variables\n",
      "1000 input variables\n"
     ]
    }
   ],
   "source": [
    "# Definición de dimensiones de salida y entrada\n",
    "output_var = y_test_genres.shape[1]\n",
    "print(output_var, ' output variables')\n",
    "\n",
    "dims = X_train.shape[1]\n",
    "print(dims, 'input variables')"
   ]
  },
  {
   "cell_type": "code",
   "execution_count": 18,
   "metadata": {},
   "outputs": [
    {
     "name": "stdout",
     "output_type": "stream",
     "text": [
      "Model: \"sequential\"\n",
      "_________________________________________________________________\n",
      " Layer (type)                Output Shape              Param #   \n",
      "=================================================================\n",
      " dense (Dense)               (None, 24)                24024     \n",
      "                                                                 \n",
      "=================================================================\n",
      "Total params: 24,024\n",
      "Trainable params: 24,024\n",
      "Non-trainable params: 0\n",
      "_________________________________________________________________\n",
      "None\n"
     ]
    }
   ],
   "source": [
    "# Red neuronal de una sola capa\n",
    "K.clear_session()\n",
    "\n",
    "# Definición red neuronal con la función Sequential()\n",
    "model = Sequential()\n",
    "# Definición de la capa densa con un tamaño de salida igual a output_var y un input_shape de dims\n",
    "model.add(Dense(output_var, activation='sigmoid', input_shape=(dims,)))\n",
    "\n",
    "# Impresión de la arquitectura de la red neuronal\n",
    "print(model.summary())"
   ]
  },
  {
   "cell_type": "code",
   "execution_count": 19,
   "metadata": {},
   "outputs": [
    {
     "data": {
      "image/png": "[encoded data removed]",
      "text/plain": [
       "<Figure size 864x576 with 2 Axes>"
      ]
     },
     "metadata": {
      "needs_background": "light"
     },
     "output_type": "display_data"
    },
    {
     "name": "stdout",
     "output_type": "stream",
     "text": [
      "Loss\n",
      "\ttraining         \t (min:    0.173, max:    0.382, cur:    0.173)\n",
      "\tvalidation       \t (min:    0.245, max:    0.330, cur:    0.245)\n",
      "166/166 [==============================] - 1s 4ms/step - loss: 0.1731 - val_loss: 0.2454\n"
     ]
    },
    {
     "data": {
      "text/plain": [
       "0.7816287128290126"
      ]
     },
     "execution_count": 19,
     "metadata": {},
     "output_type": "execute_result"
    }
   ],
   "source": [
    "# Definición de función de perdida. Se usa mean_squared_error dado que es un ejercicio de regresión\n",
    "model.compile(optimizer='adam', loss='binary_crossentropy')\n",
    "\n",
    "# Entrenamiento de la red neuronal con 100 épocas\n",
    "model.fit(X_train, y_train_genres,\n",
    "          verbose=1,\n",
    "          epochs=15,\n",
    "          validation_data=(X_test, y_test_genres),\n",
    "          callbacks=[PlotLossesKeras()])\n",
    "\n",
    "# Obtener las predicciones del modelo en el conjunto de test\n",
    "y_pred_genres = model.predict(X_test)\n",
    "\n",
    "# Impresión del desempeño del modelo\n",
    "roc_auc_score(y_test_genres, y_pred_genres, average='macro')\n"
   ]
  },
  {
   "cell_type": "code",
   "execution_count": 122,
   "metadata": {
    "scrolled": true
   },
   "outputs": [
    {
     "data": {
      "text/html": [
       "<div>\n",
       "<style scoped>\n",
       "    .dataframe tbody tr th:only-of-type {\n",
       "        vertical-align: middle;\n",
       "    }\n",
       "\n",
       "    .dataframe tbody tr th {\n",
       "        vertical-align: top;\n",
       "    }\n",
       "\n",
       "    .dataframe thead th {\n",
       "        text-align: right;\n",
       "    }\n",
       "</style>\n",
       "<table border=\"1\" class=\"dataframe\">\n",
       "  <thead>\n",
       "    <tr style=\"text-align: right;\">\n",
       "      <th></th>\n",
       "      <th>p_Action</th>\n",
       "      <th>p_Adventure</th>\n",
       "      <th>p_Animation</th>\n",
       "      <th>p_Biography</th>\n",
       "      <th>p_Comedy</th>\n",
       "      <th>p_Crime</th>\n",
       "      <th>p_Documentary</th>\n",
       "      <th>p_Drama</th>\n",
       "      <th>p_Family</th>\n",
       "      <th>p_Fantasy</th>\n",
       "      <th>...</th>\n",
       "      <th>p_Musical</th>\n",
       "      <th>p_Mystery</th>\n",
       "      <th>p_News</th>\n",
       "      <th>p_Romance</th>\n",
       "      <th>p_Sci-Fi</th>\n",
       "      <th>p_Short</th>\n",
       "      <th>p_Sport</th>\n",
       "      <th>p_Thriller</th>\n",
       "      <th>p_War</th>\n",
       "      <th>p_Western</th>\n",
       "    </tr>\n",
       "  </thead>\n",
       "  <tbody>\n",
       "    <tr>\n",
       "      <th>1</th>\n",
       "      <td>0.083696</td>\n",
       "      <td>2.542231e-01</td>\n",
       "      <td>3.955425e-05</td>\n",
       "      <td>9.788573e-04</td>\n",
       "      <td>0.432622</td>\n",
       "      <td>0.009827</td>\n",
       "      <td>1.107550e-06</td>\n",
       "      <td>0.408686</td>\n",
       "      <td>2.209008e-03</td>\n",
       "      <td>6.167387e-01</td>\n",
       "      <td>...</td>\n",
       "      <td>0.000364</td>\n",
       "      <td>0.031941</td>\n",
       "      <td>1.607606e-13</td>\n",
       "      <td>0.987834</td>\n",
       "      <td>0.010361</td>\n",
       "      <td>8.869105e-10</td>\n",
       "      <td>2.868325e-03</td>\n",
       "      <td>0.016304</td>\n",
       "      <td>8.718967e-04</td>\n",
       "      <td>9.657657e-05</td>\n",
       "    </tr>\n",
       "    <tr>\n",
       "      <th>4</th>\n",
       "      <td>0.011326</td>\n",
       "      <td>8.587539e-04</td>\n",
       "      <td>1.805127e-04</td>\n",
       "      <td>7.706654e-02</td>\n",
       "      <td>0.071781</td>\n",
       "      <td>0.476179</td>\n",
       "      <td>1.865038e-02</td>\n",
       "      <td>0.866215</td>\n",
       "      <td>6.654263e-04</td>\n",
       "      <td>4.752278e-04</td>\n",
       "      <td>...</td>\n",
       "      <td>0.001623</td>\n",
       "      <td>0.012086</td>\n",
       "      <td>5.840195e-07</td>\n",
       "      <td>0.006049</td>\n",
       "      <td>0.000593</td>\n",
       "      <td>7.637341e-06</td>\n",
       "      <td>9.301488e-05</td>\n",
       "      <td>0.131377</td>\n",
       "      <td>5.091757e-03</td>\n",
       "      <td>6.800670e-05</td>\n",
       "    </tr>\n",
       "    <tr>\n",
       "      <th>5</th>\n",
       "      <td>0.000075</td>\n",
       "      <td>2.087943e-11</td>\n",
       "      <td>3.939168e-27</td>\n",
       "      <td>2.329350e-04</td>\n",
       "      <td>0.000165</td>\n",
       "      <td>0.999807</td>\n",
       "      <td>3.267026e-11</td>\n",
       "      <td>0.951614</td>\n",
       "      <td>1.948271e-15</td>\n",
       "      <td>2.747027e-07</td>\n",
       "      <td>...</td>\n",
       "      <td>0.000043</td>\n",
       "      <td>0.985898</td>\n",
       "      <td>0.000000e+00</td>\n",
       "      <td>0.000766</td>\n",
       "      <td>0.000188</td>\n",
       "      <td>7.957745e-31</td>\n",
       "      <td>9.082344e-13</td>\n",
       "      <td>0.638535</td>\n",
       "      <td>5.971686e-15</td>\n",
       "      <td>6.764250e-23</td>\n",
       "    </tr>\n",
       "    <tr>\n",
       "      <th>6</th>\n",
       "      <td>0.000309</td>\n",
       "      <td>5.263448e-03</td>\n",
       "      <td>6.355688e-11</td>\n",
       "      <td>4.175019e-02</td>\n",
       "      <td>0.001174</td>\n",
       "      <td>0.000137</td>\n",
       "      <td>9.179735e-09</td>\n",
       "      <td>0.998106</td>\n",
       "      <td>1.998391e-05</td>\n",
       "      <td>3.597915e-03</td>\n",
       "      <td>...</td>\n",
       "      <td>0.000207</td>\n",
       "      <td>0.000144</td>\n",
       "      <td>3.132926e-23</td>\n",
       "      <td>0.020194</td>\n",
       "      <td>0.001558</td>\n",
       "      <td>1.229521e-19</td>\n",
       "      <td>8.486273e-07</td>\n",
       "      <td>0.723398</td>\n",
       "      <td>5.284299e-01</td>\n",
       "      <td>4.712607e-08</td>\n",
       "    </tr>\n",
       "    <tr>\n",
       "      <th>7</th>\n",
       "      <td>0.000329</td>\n",
       "      <td>9.895951e-03</td>\n",
       "      <td>6.335546e-08</td>\n",
       "      <td>1.368730e-07</td>\n",
       "      <td>0.160795</td>\n",
       "      <td>0.005378</td>\n",
       "      <td>5.448824e-16</td>\n",
       "      <td>0.076282</td>\n",
       "      <td>1.386404e-04</td>\n",
       "      <td>4.385517e-01</td>\n",
       "      <td>...</td>\n",
       "      <td>0.000002</td>\n",
       "      <td>0.001913</td>\n",
       "      <td>4.257806e-21</td>\n",
       "      <td>0.219047</td>\n",
       "      <td>0.227805</td>\n",
       "      <td>1.520042e-10</td>\n",
       "      <td>4.916599e-15</td>\n",
       "      <td>0.255219</td>\n",
       "      <td>6.126446e-07</td>\n",
       "      <td>2.399034e-07</td>\n",
       "    </tr>\n",
       "  </tbody>\n",
       "</table>\n",
       "<p>5 rows × 24 columns</p>\n",
       "</div>"
      ],
      "text/plain": [
       "   p_Action   p_Adventure   p_Animation   p_Biography  p_Comedy   p_Crime  \\\n",
       "1  0.083696  2.542231e-01  3.955425e-05  9.788573e-04  0.432622  0.009827   \n",
       "4  0.011326  8.587539e-04  1.805127e-04  7.706654e-02  0.071781  0.476179   \n",
       "5  0.000075  2.087943e-11  3.939168e-27  2.329350e-04  0.000165  0.999807   \n",
       "6  0.000309  5.263448e-03  6.355688e-11  4.175019e-02  0.001174  0.000137   \n",
       "7  0.000329  9.895951e-03  6.335546e-08  1.368730e-07  0.160795  0.005378   \n",
       "\n",
       "   p_Documentary   p_Drama      p_Family     p_Fantasy  ...  p_Musical  \\\n",
       "1   1.107550e-06  0.408686  2.209008e-03  6.167387e-01  ...   0.000364   \n",
       "4   1.865038e-02  0.866215  6.654263e-04  4.752278e-04  ...   0.001623   \n",
       "5   3.267026e-11  0.951614  1.948271e-15  2.747027e-07  ...   0.000043   \n",
       "6   9.179735e-09  0.998106  1.998391e-05  3.597915e-03  ...   0.000207   \n",
       "7   5.448824e-16  0.076282  1.386404e-04  4.385517e-01  ...   0.000002   \n",
       "\n",
       "   p_Mystery        p_News  p_Romance  p_Sci-Fi       p_Short       p_Sport  \\\n",
       "1   0.031941  1.607606e-13   0.987834  0.010361  8.869105e-10  2.868325e-03   \n",
       "4   0.012086  5.840195e-07   0.006049  0.000593  7.637341e-06  9.301488e-05   \n",
       "5   0.985898  0.000000e+00   0.000766  0.000188  7.957745e-31  9.082344e-13   \n",
       "6   0.000144  3.132926e-23   0.020194  0.001558  1.229521e-19  8.486273e-07   \n",
       "7   0.001913  4.257806e-21   0.219047  0.227805  1.520042e-10  4.916599e-15   \n",
       "\n",
       "   p_Thriller         p_War     p_Western  \n",
       "1    0.016304  8.718967e-04  9.657657e-05  \n",
       "4    0.131377  5.091757e-03  6.800670e-05  \n",
       "5    0.638535  5.971686e-15  6.764250e-23  \n",
       "6    0.723398  5.284299e-01  4.712607e-08  \n",
       "7    0.255219  6.126446e-07  2.399034e-07  \n",
       "\n",
       "[5 rows x 24 columns]"
      ]
     },
     "execution_count": 122,
     "metadata": {},
     "output_type": "execute_result"
    }
   ],
   "source": [
    "#transformación variables predictoras X del conjunto de test\n",
    "X_test_dtm = vect.transform(dataTesting['plot'])\n",
    "\n",
    "cols = ['p_Action', 'p_Adventure', 'p_Animation', 'p_Biography', 'p_Comedy', 'p_Crime', 'p_Documentary', 'p_Drama', 'p_Family',\n",
    "        'p_Fantasy', 'p_Film-Noir', 'p_History', 'p_Horror', 'p_Music', 'p_Musical', 'p_Mystery', 'p_News', 'p_Romance',\n",
    "        'p_Sci-Fi', 'p_Short', 'p_Sport', 'p_Thriller', 'p_War', 'p_Western']\n",
    "\n",
    "# Predicción del conjunto de test\n",
    "y_pred_test_genres = model.predict(X_test_dtm)\n",
    "# Guardar predicciones en formato exigido en la competencia de kaggle\n",
    "res = pd.DataFrame(y_pred_test_genres, index=dataTesting.index, columns=cols)\n",
    "res.to_csv('pred_genres_text_RF.csv', index_label='ID')\n",
    "res.head()"
   ]
  },
  {
   "cell_type": "markdown",
   "metadata": {},
   "source": [
    "### Normalizando los datos (Media=0 y Desviacion estandar =1)"
   ]
  },
  {
   "cell_type": "code",
   "execution_count": 52,
   "metadata": {},
   "outputs": [
    {
     "name": "stderr",
     "output_type": "stream",
     "text": [
      "[nltk_data] Downloading package wordnet to /home/jovyan/nltk_data...\n",
      "[nltk_data]   Package wordnet is already up-to-date!\n",
      "[nltk_data] Downloading package stopwords to /home/jovyan/nltk_data...\n",
      "[nltk_data]   Package stopwords is already up-to-date!\n",
      "[nltk_data] Downloading package omw-1.4 to /home/jovyan/nltk_data...\n",
      "[nltk_data]   Package omw-1.4 is already up-to-date!\n"
     ]
    }
   ],
   "source": [
    "# Carga de datos de archivo .csv\n",
    "# Importación librerías\n",
    "import pandas as pd\n",
    "import os\n",
    "import numpy as np\n",
    "from sklearn.feature_extraction.text import CountVectorizer\n",
    "from sklearn.preprocessing import MultiLabelBinarizer\n",
    "from sklearn.metrics import r2_score, roc_auc_score\n",
    "from sklearn.model_selection import train_test_split\n",
    "from keras import backend as K\n",
    "from livelossplot import PlotLossesKeras\n",
    "from keras.models import Sequential\n",
    "from keras.layers import Dense, Activation\n",
    "\n",
    "\n",
    "dataTraining = pd.read_csv('dataTraining.csv', encoding='UTF-8', index_col=0)\n",
    "dataTesting = pd.read_csv('dataTesting.csv', encoding='UTF-8', index_col=0)\n",
    "\n",
    "# Importación de librerias\n",
    "from nltk.stem import WordNetLemmatizer\n",
    "wordnet_lemmatizer = WordNetLemmatizer()\n",
    "import nltk\n",
    "nltk.download('wordnet')\n",
    "\n",
    "import nltk\n",
    "from nltk.corpus import stopwords\n",
    "nltk.download('stopwords')\n",
    "nltk.download('omw-1.4')\n",
    "\n",
    "# Definición de variables predictoras (X)\n",
    "vect = CountVectorizer(max_features=1000)\n",
    "X_dtm = vect.fit_transform(dataTraining['plot'])\n",
    "# Definición de variable de interés (y)\n",
    "dataTraining['genres'] = dataTraining['genres'].map(lambda x: eval(x))\n",
    "le = MultiLabelBinarizer()\n",
    "y_genres = le.fit_transform(dataTraining['genres'])\n",
    "\n",
    "# Separación de variables predictoras (X) y variable de interés (y) en set de entrenamiento y test usandola función train_test_split\n",
    "X_train, X_test, y_train_genres, y_test_genres = train_test_split(X_dtm, y_genres, test_size=0.33, random_state=42)\n",
    "\n",
    "X_train = X_train.toarray()\n",
    "X_train = pd.DataFrame(X_train)\n",
    "\n",
    "X_test = X_test.toarray()\n",
    "X_test = pd.DataFrame(X_test)\n"
   ]
  },
  {
   "cell_type": "code",
   "execution_count": 53,
   "metadata": {},
   "outputs": [],
   "source": [
    "from scipy.sparse import csr_matrix\n",
    "# Convertir a matriz densa de NumPy\n",
    "X_dtm_dense = X_dtm.toarray()\n",
    "# Convertir a DataFrame de pandas\n",
    "X_dtm_df = pd.DataFrame(X_dtm_dense)\n",
    "\n"
   ]
  },
  {
   "cell_type": "code",
   "execution_count": 54,
   "metadata": {},
   "outputs": [],
   "source": [
    "# Normalización de variables predictoras (X) con la función StandardScaler\n",
    "from sklearn.preprocessing import StandardScaler\n",
    "\n",
    "# Definición de la función StandardScaler\n",
    "scaler = StandardScaler()\n",
    "scaler.fit(X_dtm_df)\n",
    "\n",
    "# Transformación de los set de entrenamiento y test\n",
    "X_train = pd.DataFrame(data=scaler.transform(X_train), columns=X_train.columns, index=X_train.index)\n",
    "X_test = pd.DataFrame(data=scaler.transform(X_test), columns=X_test.columns, index=X_test.index)\n",
    "\n",
    "X_train = np.array(X_train)\n",
    "X_test = np.array(X_test)\n"
   ]
  },
  {
   "cell_type": "code",
   "execution_count": 55,
   "metadata": {
    "scrolled": true
   },
   "outputs": [
    {
     "name": "stdout",
     "output_type": "stream",
     "text": [
      "24  output variables\n",
      "1000 input variables\n",
      "Model: \"sequential\"\n",
      "_________________________________________________________________\n",
      " Layer (type)                Output Shape              Param #   \n",
      "=================================================================\n",
      " dense (Dense)               (None, 24)                24024     \n",
      "                                                                 \n",
      "=================================================================\n",
      "Total params: 24,024\n",
      "Trainable params: 24,024\n",
      "Non-trainable params: 0\n",
      "_________________________________________________________________\n",
      "None\n"
     ]
    }
   ],
   "source": [
    "# Definición de dimensiones de salida y entrada\n",
    "output_var = y_test_genres.shape[1]\n",
    "print(output_var, ' output variables')\n",
    "\n",
    "dims = X_train.shape[1]\n",
    "print(dims, 'input variables')\n",
    "\n",
    "# Red neuronal de una sola capa\n",
    "K.clear_session()\n",
    "\n",
    "# Definición red neuronal con la función Sequential()\n",
    "model = Sequential()\n",
    "# Definición de la capa densa con un tamaño de salida igual a output_var y un input_shape de dims\n",
    "model.add(Dense(output_var, activation='sigmoid', input_shape=(dims,)))\n",
    "\n",
    "# Impresión de la arquitectura de la red neuronal\n",
    "print(model.summary())"
   ]
  },
  {
   "cell_type": "code",
   "execution_count": 56,
   "metadata": {},
   "outputs": [
    {
     "data": {
      "image/png": "[encoded data removed]",
      "text/plain": [
       "<Figure size 864x576 with 2 Axes>"
      ]
     },
     "metadata": {
      "needs_background": "light"
     },
     "output_type": "display_data"
    },
    {
     "name": "stdout",
     "output_type": "stream",
     "text": [
      "Loss\n",
      "\ttraining         \t (min:    0.236, max:    0.808, cur:    0.236)\n",
      "\tvalidation       \t (min:    0.343, max:    0.738, cur:    0.343)\n",
      "166/166 [==============================] - 1s 4ms/step - loss: 0.2362 - val_loss: 0.3432\n"
     ]
    },
    {
     "data": {
      "text/plain": [
       "0.7487885405182291"
      ]
     },
     "execution_count": 56,
     "metadata": {},
     "output_type": "execute_result"
    }
   ],
   "source": [
    "# Definición de función de perdida. Se usa mean_squared_error dado que es un ejercicio de regresión\n",
    "model.compile(optimizer='adam', loss='binary_crossentropy')\n",
    "\n",
    "# Entrenamiento de la red neuronal con 100 épocas\n",
    "model.fit(X_train, y_train_genres,\n",
    "          verbose=1,\n",
    "          epochs=15,\n",
    "          validation_data=(X_test, y_test_genres),\n",
    "          callbacks=[PlotLossesKeras()])\n",
    "\n",
    "# Obtener las predicciones del modelo en el conjunto de test\n",
    "y_pred_genres = model.predict(X_test)\n",
    "\n",
    "# Impresión del desempeño del modelo\n",
    "roc_auc_score(y_test_genres, y_pred_genres, average='macro')\n"
   ]
  },
  {
   "cell_type": "markdown",
   "metadata": {},
   "source": [
    "#### Haciendo limpieza de datos + stopwords + normalizacion"
   ]
  },
  {
   "cell_type": "code",
   "execution_count": 104,
   "metadata": {
    "scrolled": true
   },
   "outputs": [
    {
     "name": "stderr",
     "output_type": "stream",
     "text": [
      "[nltk_data] Downloading package stopwords to /home/jovyan/nltk_data...\n",
      "[nltk_data]   Package stopwords is already up-to-date!\n"
     ]
    },
    {
     "data": {
      "text/plain": [
       "(7895, 1000)"
      ]
     },
     "execution_count": 104,
     "metadata": {},
     "output_type": "execute_result"
    }
   ],
   "source": [
    "import re\n",
    "from nltk.corpus import stopwords\n",
    "from nltk.stem import WordNetLemmatizer\n",
    "from sklearn.feature_extraction.text import CountVectorizer\n",
    "import numpy as np\n",
    "import pandas as pd\n",
    "\n",
    "# Descargar stopwords de NLTK si no están disponibles\n",
    "import nltk\n",
    "nltk.download('stopwords')\n",
    "\n",
    "# Inicializar lematizador y lista de stop words\n",
    "wordnet_lemmatizer = WordNetLemmatizer()\n",
    "stop_words = set(stopwords.words('english'))\n",
    "\n",
    "# Función para lematizar el texto con verbos y eliminar puntuación y palabras no significativas\n",
    "def split_into_lemmas(text):\n",
    "    # Convertir a minúsculas\n",
    "    text = text.lower()\n",
    "    # Eliminar puntuación\n",
    "    text = re.sub(r'[^\\w\\s]', '', text)\n",
    "    # Dividir en palabras\n",
    "    words = text.split()\n",
    "    # Eliminar stop words y palabras no significativas, y lematizar\n",
    "    lemmatized_words = [wordnet_lemmatizer.lemmatize(word, pos='v') for word in words if word not in stop_words and len(word) > 2]\n",
    "    return lemmatized_words\n",
    "\n",
    "# Definición de variables predictoras (X) - Analyzer personalizado maneja lowercase y stopwords\n",
    "vect = CountVectorizer(lowercase=False, stop_words=None, max_features=1000, analyzer=split_into_lemmas)\n",
    "X_dtm = vect.fit_transform(dataTraining['plot'])\n",
    "X_dtm.shape"
   ]
  },
  {
   "cell_type": "code",
   "execution_count": 105,
   "metadata": {},
   "outputs": [
    {
     "name": "stdout",
     "output_type": "stream",
     "text": [
      "24  output variables\n",
      "1000 input variables\n",
      "Model: \"sequential\"\n",
      "_________________________________________________________________\n",
      " Layer (type)                Output Shape              Param #   \n",
      "=================================================================\n",
      " dense (Dense)               (None, 24)                24024     \n",
      "                                                                 \n",
      "=================================================================\n",
      "Total params: 24,024\n",
      "Trainable params: 24,024\n",
      "Non-trainable params: 0\n",
      "_________________________________________________________________\n",
      "None\n"
     ]
    }
   ],
   "source": [
    "# Definición de variable de interés (y)\n",
    "dataTraining['genres'] = dataTraining['genres'].map(lambda x: eval(x))\n",
    "le = MultiLabelBinarizer()\n",
    "y_genres = le.fit_transform(dataTraining['genres'])\n",
    "# Separación de variables predictoras (X) y variable de interés (y) en set de entrenamiento y test usandola función train_test_split\n",
    "X_train, X_test, y_train_genres, y_test_genres = train_test_split(X_dtm, y_genres, test_size=0.33, random_state=42)\n",
    "X_train = X_train.toarray()\n",
    "X_test = X_test.toarray()\n",
    "\n",
    "\n",
    "# Definición de dimensiones de salida y entrada\n",
    "output_var = y_test_genres.shape[1]\n",
    "print(output_var, ' output variables')\n",
    "\n",
    "dims = X_train.shape[1]\n",
    "print(dims, 'input variables')\n",
    "\n",
    "# Red neuronal de una sola capa\n",
    "K.clear_session()\n",
    "\n",
    "# Definición red neuronal con la función Sequential()\n",
    "model = Sequential()\n",
    "# Definición de la capa densa con un tamaño de salida igual a output_var y un input_shape de dims\n",
    "model.add(Dense(output_var, activation='sigmoid', input_shape=(dims,)))\n",
    "\n",
    "# Impresión de la arquitectura de la red neuronal\n",
    "print(model.summary())"
   ]
  },
  {
   "cell_type": "code",
   "execution_count": 106,
   "metadata": {
    "scrolled": true
   },
   "outputs": [
    {
     "data": {
      "image/png": "[encoded data removed]",
      "text/plain": [
       "<Figure size 864x576 with 2 Axes>"
      ]
     },
     "metadata": {
      "needs_background": "light"
     },
     "output_type": "display_data"
    },
    {
     "name": "stdout",
     "output_type": "stream",
     "text": [
      "Loss\n",
      "\ttraining         \t (min:    0.160, max:    0.421, cur:    0.160)\n",
      "\tvalidation       \t (min:    0.241, max:    0.340, cur:    0.241)\n",
      "166/166 [==============================] - 1s 4ms/step - loss: 0.1601 - val_loss: 0.2413\n"
     ]
    },
    {
     "data": {
      "text/plain": [
       "0.7972543072748723"
      ]
     },
     "execution_count": 106,
     "metadata": {},
     "output_type": "execute_result"
    }
   ],
   "source": [
    "# Definición de función de perdida. Se usa mean_squared_error dado que es un ejercicio de regresión\n",
    "model.compile(optimizer='adam', loss='binary_crossentropy')\n",
    "\n",
    "# Entrenamiento de la red neuronal con 100 épocas\n",
    "model.fit(X_train, y_train_genres,\n",
    "          verbose=1,\n",
    "          epochs=20,\n",
    "          validation_data=(X_test, y_test_genres),\n",
    "          callbacks=[PlotLossesKeras()])\n",
    "\n",
    "# Obtener las predicciones del modelo en el conjunto de test\n",
    "y_pred_genres = model.predict(X_test)\n",
    "\n",
    "# Impresión del desempeño del modelo\n",
    "roc_auc_score(y_test_genres, y_pred_genres, average='macro')\n"
   ]
  },
  {
   "cell_type": "markdown",
   "metadata": {},
   "source": [
    "#### RED NEURONAL MULTICAPA  ----> Hasta el momento mejor prediccion"
   ]
  },
  {
   "cell_type": "code",
   "execution_count": 128,
   "metadata": {},
   "outputs": [
    {
     "name": "stderr",
     "output_type": "stream",
     "text": [
      "[nltk_data] Downloading package stopwords to /home/jovyan/nltk_data...\n",
      "[nltk_data]   Package stopwords is already up-to-date!\n"
     ]
    },
    {
     "name": "stdout",
     "output_type": "stream",
     "text": [
      "(7895, 1000)\n",
      "24  output variables\n",
      "1000 input variables\n"
     ]
    }
   ],
   "source": [
    "import re\n",
    "from nltk.corpus import stopwords\n",
    "from nltk.stem import WordNetLemmatizer\n",
    "from sklearn.feature_extraction.text import CountVectorizer\n",
    "import numpy as np\n",
    "import pandas as pd\n",
    "\n",
    "# Descargar stopwords de NLTK si no están disponibles\n",
    "import nltk\n",
    "nltk.download('stopwords')\n",
    "\n",
    "# Inicializar lematizador y lista de stop words\n",
    "wordnet_lemmatizer = WordNetLemmatizer()\n",
    "stop_words = set(stopwords.words('english'))\n",
    "\n",
    "# Función para lematizar el texto con verbos y eliminar puntuación y palabras no significativas\n",
    "def split_into_lemmas(text):\n",
    "    # Convertir a minúsculas\n",
    "    text = text.lower()\n",
    "    # Eliminar puntuación\n",
    "    text = re.sub(r'[^\\w\\s]', '', text)\n",
    "    # Dividir en palabras\n",
    "    words = text.split()\n",
    "    # Eliminar stop words y palabras no significativas, y lematizar\n",
    "    lemmatized_words = [wordnet_lemmatizer.lemmatize(word, pos='v') for word in words if word not in stop_words and len(word) > 2]\n",
    "    return lemmatized_words\n",
    "\n",
    "# Definición de variables predictoras (X) - Analyzer personalizado maneja lowercase y stopwords\n",
    "vect = CountVectorizer(lowercase=False, stop_words=None, max_features=1000, analyzer=split_into_lemmas)\n",
    "X_dtm = vect.fit_transform(dataTraining['plot'])\n",
    "print(X_dtm.shape)\n",
    "# Definición de variable de interés (y)\n",
    "dataTraining['genres'] = dataTraining['genres'].map(lambda x: eval(x))\n",
    "le = MultiLabelBinarizer()\n",
    "y_genres = le.fit_transform(dataTraining['genres'])\n",
    "# Separación de variables predictoras (X) y variable de interés (y) en set de entrenamiento y test usandola función train_test_split\n",
    "X_train, X_test, y_train_genres, y_test_genres = train_test_split(X_dtm, y_genres, test_size=0.33, random_state=42)\n",
    "X_train = X_train.toarray()\n",
    "X_test = X_test.toarray()\n",
    "\n",
    "\n",
    "# Definición de dimensiones de salida y entrada\n",
    "output_var = y_test_genres.shape[1]\n",
    "print(output_var, ' output variables')\n",
    "\n",
    "dims = X_train.shape[1]\n",
    "print(dims, 'input variables')"
   ]
  },
  {
   "cell_type": "code",
   "execution_count": 129,
   "metadata": {},
   "outputs": [
    {
     "name": "stdout",
     "output_type": "stream",
     "text": [
      "Model: \"sequential\"\n",
      "_________________________________________________________________\n",
      " Layer (type)                Output Shape              Param #   \n",
      "=================================================================\n",
      " dense (Dense)               (None, 256)               256256    \n",
      "                                                                 \n",
      " dense_1 (Dense)             (None, 256)               65792     \n",
      "                                                                 \n",
      " dense_2 (Dense)             (None, 24)                6168      \n",
      "                                                                 \n",
      " activation (Activation)     (None, 24)                0         \n",
      "                                                                 \n",
      "=================================================================\n",
      "Total params: 328,216\n",
      "Trainable params: 328,216\n",
      "Non-trainable params: 0\n",
      "_________________________________________________________________\n",
      "None\n"
     ]
    }
   ],
   "source": [
    "\n",
    "K.clear_session()\n",
    "\n",
    "# Definición red neuronal con la función Sequential()\n",
    "model = Sequential()\n",
    "\n",
    "# Definición de la capa densa con un tamaño de salida igual a output_var y un input_shape de dims\n",
    "model.add(Dense(256, input_shape=(dims,),activation='sigmoid'))\n",
    "model.add(Dense(256,activation='sigmoid'))\n",
    "model.add(Dense(output_var))\n",
    "model.add(Activation('sigmoid'))\n",
    "\n",
    "# Impresión de la arquitectura de la red neuronal\n",
    "print(model.summary())\n"
   ]
  },
  {
   "cell_type": "code",
   "execution_count": 130,
   "metadata": {},
   "outputs": [
    {
     "data": {
      "image/png": "[encoded data removed]",
      "text/plain": [
       "<Figure size 864x576 with 2 Axes>"
      ]
     },
     "metadata": {
      "needs_background": "light"
     },
     "output_type": "display_data"
    },
    {
     "name": "stdout",
     "output_type": "stream",
     "text": [
      "Loss\n",
      "\ttraining         \t (min:    0.197, max:    0.304, cur:    0.197)\n",
      "\tvalidation       \t (min:    0.228, max:    0.284, cur:    0.228)\n",
      "166/166 [==============================] - 1s 7ms/step - loss: 0.1970 - val_loss: 0.2279\n"
     ]
    },
    {
     "data": {
      "text/plain": [
       "0.8371335558229007"
      ]
     },
     "execution_count": 130,
     "metadata": {},
     "output_type": "execute_result"
    }
   ],
   "source": [
    "# Definición de función de perdida. Se usa mean_squared_error dado que es un ejercicio de regresión\n",
    "model.compile(optimizer='adam', loss='binary_crossentropy')\n",
    "\n",
    "# Entrenamiento de la red neuronal con 100 épocas\n",
    "model.fit(X_train, y_train_genres,\n",
    "          verbose=1,\n",
    "          epochs=5,\n",
    "          validation_data=(X_test, y_test_genres),\n",
    "          callbacks=[PlotLossesKeras()])\n",
    "\n",
    "# Obtener las predicciones del modelo en el conjunto de test\n",
    "y_pred_genres = model.predict(X_test)\n",
    "\n",
    "# Impresión del desempeño del modelo\n",
    "roc_auc_score(y_test_genres, y_pred_genres, average='macro')"
   ]
  },
  {
   "cell_type": "code",
   "execution_count": 131,
   "metadata": {},
   "outputs": [
    {
     "data": {
      "text/html": [
       "<div>\n",
       "<style scoped>\n",
       "    .dataframe tbody tr th:only-of-type {\n",
       "        vertical-align: middle;\n",
       "    }\n",
       "\n",
       "    .dataframe tbody tr th {\n",
       "        vertical-align: top;\n",
       "    }\n",
       "\n",
       "    .dataframe thead th {\n",
       "        text-align: right;\n",
       "    }\n",
       "</style>\n",
       "<table border=\"1\" class=\"dataframe\">\n",
       "  <thead>\n",
       "    <tr style=\"text-align: right;\">\n",
       "      <th></th>\n",
       "      <th>p_Action</th>\n",
       "      <th>p_Adventure</th>\n",
       "      <th>p_Animation</th>\n",
       "      <th>p_Biography</th>\n",
       "      <th>p_Comedy</th>\n",
       "      <th>p_Crime</th>\n",
       "      <th>p_Documentary</th>\n",
       "      <th>p_Drama</th>\n",
       "      <th>p_Family</th>\n",
       "      <th>p_Fantasy</th>\n",
       "      <th>...</th>\n",
       "      <th>p_Musical</th>\n",
       "      <th>p_Mystery</th>\n",
       "      <th>p_News</th>\n",
       "      <th>p_Romance</th>\n",
       "      <th>p_Sci-Fi</th>\n",
       "      <th>p_Short</th>\n",
       "      <th>p_Sport</th>\n",
       "      <th>p_Thriller</th>\n",
       "      <th>p_War</th>\n",
       "      <th>p_Western</th>\n",
       "    </tr>\n",
       "  </thead>\n",
       "  <tbody>\n",
       "    <tr>\n",
       "      <th>1</th>\n",
       "      <td>0.010499</td>\n",
       "      <td>0.019097</td>\n",
       "      <td>0.006728</td>\n",
       "      <td>0.018274</td>\n",
       "      <td>0.378450</td>\n",
       "      <td>0.070925</td>\n",
       "      <td>0.007509</td>\n",
       "      <td>0.674868</td>\n",
       "      <td>0.016487</td>\n",
       "      <td>0.060909</td>\n",
       "      <td>...</td>\n",
       "      <td>0.027430</td>\n",
       "      <td>0.062426</td>\n",
       "      <td>0.001125</td>\n",
       "      <td>0.714297</td>\n",
       "      <td>0.010047</td>\n",
       "      <td>0.012945</td>\n",
       "      <td>0.004094</td>\n",
       "      <td>0.116311</td>\n",
       "      <td>0.004964</td>\n",
       "      <td>0.014821</td>\n",
       "    </tr>\n",
       "    <tr>\n",
       "      <th>4</th>\n",
       "      <td>0.037533</td>\n",
       "      <td>0.007030</td>\n",
       "      <td>0.003659</td>\n",
       "      <td>0.132742</td>\n",
       "      <td>0.216836</td>\n",
       "      <td>0.297568</td>\n",
       "      <td>0.192518</td>\n",
       "      <td>0.762320</td>\n",
       "      <td>0.006320</td>\n",
       "      <td>0.007101</td>\n",
       "      <td>...</td>\n",
       "      <td>0.009509</td>\n",
       "      <td>0.027598</td>\n",
       "      <td>0.001481</td>\n",
       "      <td>0.078508</td>\n",
       "      <td>0.009966</td>\n",
       "      <td>0.013207</td>\n",
       "      <td>0.028226</td>\n",
       "      <td>0.181358</td>\n",
       "      <td>0.024925</td>\n",
       "      <td>0.023643</td>\n",
       "    </tr>\n",
       "    <tr>\n",
       "      <th>5</th>\n",
       "      <td>0.021676</td>\n",
       "      <td>0.000800</td>\n",
       "      <td>0.000201</td>\n",
       "      <td>0.036531</td>\n",
       "      <td>0.053726</td>\n",
       "      <td>0.887612</td>\n",
       "      <td>0.035701</td>\n",
       "      <td>0.904820</td>\n",
       "      <td>0.000153</td>\n",
       "      <td>0.001518</td>\n",
       "      <td>...</td>\n",
       "      <td>0.001968</td>\n",
       "      <td>0.384306</td>\n",
       "      <td>0.000923</td>\n",
       "      <td>0.100444</td>\n",
       "      <td>0.005044</td>\n",
       "      <td>0.002531</td>\n",
       "      <td>0.001924</td>\n",
       "      <td>0.725763</td>\n",
       "      <td>0.008228</td>\n",
       "      <td>0.005608</td>\n",
       "    </tr>\n",
       "    <tr>\n",
       "      <th>6</th>\n",
       "      <td>0.007103</td>\n",
       "      <td>0.014612</td>\n",
       "      <td>0.002605</td>\n",
       "      <td>0.065217</td>\n",
       "      <td>0.071906</td>\n",
       "      <td>0.007466</td>\n",
       "      <td>0.043085</td>\n",
       "      <td>0.933171</td>\n",
       "      <td>0.008001</td>\n",
       "      <td>0.016599</td>\n",
       "      <td>...</td>\n",
       "      <td>0.006346</td>\n",
       "      <td>0.025166</td>\n",
       "      <td>0.001020</td>\n",
       "      <td>0.252438</td>\n",
       "      <td>0.021831</td>\n",
       "      <td>0.006177</td>\n",
       "      <td>0.010621</td>\n",
       "      <td>0.084500</td>\n",
       "      <td>0.105369</td>\n",
       "      <td>0.016501</td>\n",
       "    </tr>\n",
       "    <tr>\n",
       "      <th>7</th>\n",
       "      <td>0.025850</td>\n",
       "      <td>0.029945</td>\n",
       "      <td>0.011201</td>\n",
       "      <td>0.008643</td>\n",
       "      <td>0.053256</td>\n",
       "      <td>0.013443</td>\n",
       "      <td>0.040926</td>\n",
       "      <td>0.329750</td>\n",
       "      <td>0.017123</td>\n",
       "      <td>0.103983</td>\n",
       "      <td>...</td>\n",
       "      <td>0.002515</td>\n",
       "      <td>0.198226</td>\n",
       "      <td>0.000803</td>\n",
       "      <td>0.025843</td>\n",
       "      <td>0.611637</td>\n",
       "      <td>0.011281</td>\n",
       "      <td>0.003281</td>\n",
       "      <td>0.513832</td>\n",
       "      <td>0.005085</td>\n",
       "      <td>0.014991</td>\n",
       "    </tr>\n",
       "  </tbody>\n",
       "</table>\n",
       "<p>5 rows × 24 columns</p>\n",
       "</div>"
      ],
      "text/plain": [
       "   p_Action  p_Adventure  p_Animation  p_Biography  p_Comedy   p_Crime  \\\n",
       "1  0.010499     0.019097     0.006728     0.018274  0.378450  0.070925   \n",
       "4  0.037533     0.007030     0.003659     0.132742  0.216836  0.297568   \n",
       "5  0.021676     0.000800     0.000201     0.036531  0.053726  0.887612   \n",
       "6  0.007103     0.014612     0.002605     0.065217  0.071906  0.007466   \n",
       "7  0.025850     0.029945     0.011201     0.008643  0.053256  0.013443   \n",
       "\n",
       "   p_Documentary   p_Drama  p_Family  p_Fantasy  ...  p_Musical  p_Mystery  \\\n",
       "1       0.007509  0.674868  0.016487   0.060909  ...   0.027430   0.062426   \n",
       "4       0.192518  0.762320  0.006320   0.007101  ...   0.009509   0.027598   \n",
       "5       0.035701  0.904820  0.000153   0.001518  ...   0.001968   0.384306   \n",
       "6       0.043085  0.933171  0.008001   0.016599  ...   0.006346   0.025166   \n",
       "7       0.040926  0.329750  0.017123   0.103983  ...   0.002515   0.198226   \n",
       "\n",
       "     p_News  p_Romance  p_Sci-Fi   p_Short   p_Sport  p_Thriller     p_War  \\\n",
       "1  0.001125   0.714297  0.010047  0.012945  0.004094    0.116311  0.004964   \n",
       "4  0.001481   0.078508  0.009966  0.013207  0.028226    0.181358  0.024925   \n",
       "5  0.000923   0.100444  0.005044  0.002531  0.001924    0.725763  0.008228   \n",
       "6  0.001020   0.252438  0.021831  0.006177  0.010621    0.084500  0.105369   \n",
       "7  0.000803   0.025843  0.611637  0.011281  0.003281    0.513832  0.005085   \n",
       "\n",
       "   p_Western  \n",
       "1   0.014821  \n",
       "4   0.023643  \n",
       "5   0.005608  \n",
       "6   0.016501  \n",
       "7   0.014991  \n",
       "\n",
       "[5 rows x 24 columns]"
      ]
     },
     "execution_count": 131,
     "metadata": {},
     "output_type": "execute_result"
    }
   ],
   "source": [
    "#transformación variables predictoras X del conjunto de test\n",
    "X_test_dtm = vect.transform(dataTesting['plot'])\n",
    "\n",
    "cols = ['p_Action', 'p_Adventure', 'p_Animation', 'p_Biography', 'p_Comedy', 'p_Crime', 'p_Documentary', 'p_Drama', 'p_Family',\n",
    "        'p_Fantasy', 'p_Film-Noir', 'p_History', 'p_Horror', 'p_Music', 'p_Musical', 'p_Mystery', 'p_News', 'p_Romance',\n",
    "        'p_Sci-Fi', 'p_Short', 'p_Sport', 'p_Thriller', 'p_War', 'p_Western']\n",
    "\n",
    "# Predicción del conjunto de test\n",
    "y_pred_test_genres = model.predict(X_test_dtm)\n",
    "# Guardar predicciones en formato exigido en la competencia de kaggle\n",
    "res = pd.DataFrame(y_pred_test_genres, index=dataTesting.index, columns=cols)\n",
    "res.to_csv('pred_genres_text_RF.csv', index_label='ID')\n",
    "res.head()"
   ]
  },
  {
   "cell_type": "markdown",
   "metadata": {},
   "source": [
    "PUEDO BORRAR ESTA - SOLO ESTOY PROBANDO CON EL OPTIMIZADOR DE SGD"
   ]
  },
  {
   "cell_type": "code",
   "execution_count": 152,
   "metadata": {},
   "outputs": [
    {
     "data": {
      "image/png": "[encoded data removed]",
      "text/plain": [
       "<Figure size 864x576 with 2 Axes>"
      ]
     },
     "metadata": {
      "needs_background": "light"
     },
     "output_type": "display_data"
    },
    {
     "name": "stdout",
     "output_type": "stream",
     "text": [
      "accuracy\n",
      "\ttraining         \t (min:    0.191, max:    0.218, cur:    0.201)\n",
      "\tvalidation       \t (min:    0.193, max:    0.193, cur:    0.193)\n",
      "Loss\n",
      "\ttraining         \t (min:    0.296, max:    0.538, cur:    0.296)\n",
      "\tvalidation       \t (min:    0.298, max:    0.358, cur:    0.298)\n",
      "166/166 [==============================] - 2s 10ms/step - loss: 0.2959 - accuracy: 0.2014 - val_loss: 0.2983 - val_accuracy: 0.1926 - lr: 2.0000e-04\n",
      "ROC AUC Score: 0.5552856944838851\n"
     ]
    }
   ],
   "source": [
    "import re\n",
    "from nltk.corpus import stopwords\n",
    "from nltk.stem import WordNetLemmatizer\n",
    "from sklearn.feature_extraction.text import CountVectorizer\n",
    "import numpy as np\n",
    "import pandas as pd\n",
    "import nltk\n",
    "from sklearn.preprocessing import MultiLabelBinarizer\n",
    "from sklearn.model_selection import train_test_split\n",
    "from keras import backend as K\n",
    "from livelossplot import PlotLossesKeras\n",
    "from keras.models import Sequential\n",
    "from keras.layers import Dense, Dropout, Activation\n",
    "from keras.callbacks import EarlyStopping, ReduceLROnPlateau\n",
    "from keras.regularizers import l2\n",
    "\n",
    "\n",
    "# Descargar stopwords de NLTK si no están disponibles\n",
    "nltk.download('stopwords')\n",
    "\n",
    "# Inicializar lematizador y lista de stop words\n",
    "wordnet_lemmatizer = WordNetLemmatizer()\n",
    "stop_words = set(stopwords.words('english'))\n",
    "\n",
    "# Función para lematizar el texto con verbos y eliminar puntuación y palabras no significativas\n",
    "def split_into_lemmas(text):\n",
    "    text = text.lower()\n",
    "    text = re.sub(r'[^\\w\\s]', '', text)\n",
    "    words = text.split()\n",
    "    lemmatized_words = [wordnet_lemmatizer.lemmatize(word, pos='v') for word in words if word not in stop_words and len(word) > 2]\n",
    "    return lemmatized_words\n",
    "\n",
    "# Definición de variables predictoras (X)\n",
    "vect = CountVectorizer(lowercase=False, stop_words=None, max_features=1000, analyzer=split_into_lemmas)\n",
    "X_dtm = vect.fit_transform(dataTraining['plot'])\n",
    "print(X_dtm.shape)\n",
    "\n",
    "# Definición de variable de interés (y)\n",
    "dataTraining['genres'] = dataTraining['genres'].map(lambda x: eval(x))\n",
    "le = MultiLabelBinarizer()\n",
    "y_genres = le.fit_transform(dataTraining['genres'])\n",
    "\n",
    "# Separación de variables predictoras (X) y variable de interés (y) en set de entrenamiento y test usando train_test_split\n",
    "X_train, X_test, y_train_genres, y_test_genres = train_test_split(X_dtm, y_genres, test_size=0.33, random_state=42)\n",
    "X_train = X_train.toarray()\n",
    "X_test = X_test.toarray()\n",
    "\n",
    "# Definición de dimensiones de salida y entrada\n",
    "output_var = y_test_genres.shape[1]\n",
    "print(output_var, 'output variables')\n",
    "\n",
    "dims = X_train.shape[1]\n",
    "print(dims, 'input variables')\n",
    "\n",
    "K.clear_session()\n",
    "\n",
    "# Definición red neuronal con la función Sequential()\n",
    "model = Sequential()\n",
    "model.add(Dense(256, input_shape=(dims,), activation='sigmoid', kernel_regularizer=l2(0.001)))\n",
    "model.add(Dropout(0.5))\n",
    "model.add(Dense(256, activation='sigmoid', kernel_regularizer=l2(0.001)))\n",
    "model.add(Dropout(0.5))\n",
    "model.add(Dense(output_var, activation='sigmoid', kernel_regularizer=l2(0.001)))\n",
    "\n",
    "# Impresión de la arquitectura de la red neuronal\n",
    "print(model.summary())\n",
    "\n",
    "# Compilación del modelo\n",
    "model.compile(optimizer='adam', loss='binary_crossentropy')\n",
    "\n",
    "# Callbacks\n",
    "early_stopping = EarlyStopping(monitor='val_loss', patience=10, restore_best_weights=True)\n",
    "reduce_lr = ReduceLROnPlateau(monitor='val_loss', factor=0.2, patience=5, min_lr=0.0001)\n",
    "\n",
    "# Entrenamiento de la red neuronal\n",
    "model.fit(X_train, y_train_genres,\n",
    "          verbose=1,\n",
    "          epochs=20,\n",
    "          batch_size=32,\n",
    "          validation_data=(X_test, y_test_genres),\n",
    "          callbacks=[PlotLossesKeras(), early_stopping, reduce_lr])\n",
    "\n",
    "# Obtener las predicciones del modelo en el conjunto de test\n",
    "y_pred_genres = model.predict(X_test)\n",
    "\n",
    "# Impresión del desempeño del modelo\n",
    "print(\"ROC AUC Score:\", roc_auc_score(y_test_genres, y_pred_genres, average='macro'))\n"
   ]
  },
  {
   "cell_type": "code",
   "execution_count": 159,
   "metadata": {},
   "outputs": [
    {
     "data": {
      "image/png": "[encoded data removed]",
      "text/plain": [
       "<Figure size 864x576 with 2 Axes>"
      ]
     },
     "metadata": {
      "needs_background": "light"
     },
     "output_type": "display_data"
    },
    {
     "name": "stdout",
     "output_type": "stream",
     "text": [
      "Loss\n",
      "\ttraining         \t (min:    0.295, max:    0.452, cur:    0.295)\n",
      "\tvalidation       \t (min:    0.297, max:    0.312, cur:    0.297)\n",
      "166/166 [==============================] - 1s 9ms/step - loss: 0.2948 - val_loss: 0.2969\n"
     ]
    },
    {
     "data": {
      "text/plain": [
       "0.5371906957209251"
      ]
     },
     "execution_count": 159,
     "metadata": {},
     "output_type": "execute_result"
    }
   ],
   "source": [
    "import re\n",
    "from nltk.corpus import stopwords\n",
    "from nltk.stem import WordNetLemmatizer\n",
    "from sklearn.feature_extraction.text import CountVectorizer\n",
    "import numpy as np\n",
    "import pandas as pd\n",
    "\n",
    "# Descargar stopwords de NLTK si no están disponibles\n",
    "import nltk\n",
    "nltk.download('stopwords')\n",
    "\n",
    "# Inicializar lematizador y lista de stop words\n",
    "wordnet_lemmatizer = WordNetLemmatizer()\n",
    "stop_words = set(stopwords.words('english'))\n",
    "\n",
    "# Función para lematizar el texto con verbos y eliminar puntuación y palabras no significativas\n",
    "def split_into_lemmas(text):\n",
    "    # Convertir a minúsculas\n",
    "    text = text.lower()\n",
    "    # Eliminar puntuación\n",
    "    text = re.sub(r'[^\\w\\s]', '', text)\n",
    "    # Dividir en palabras\n",
    "    words = text.split()\n",
    "    # Eliminar stop words y palabras no significativas, y lematizar\n",
    "    lemmatized_words = [wordnet_lemmatizer.lemmatize(word, pos='v') for word in words if word not in stop_words and len(word) > 2]\n",
    "    return lemmatized_words\n",
    "\n",
    "# Definición de variables predictoras (X) - Analyzer personalizado maneja lowercase y stopwords\n",
    "vect = CountVectorizer(lowercase=False, stop_words=None, max_features=1000, analyzer=split_into_lemmas)\n",
    "X_dtm = vect.fit_transform(dataTraining['plot'])\n",
    "print(X_dtm.shape)\n",
    "# Definición de variable de interés (y)\n",
    "dataTraining['genres'] = dataTraining['genres'].map(lambda x: eval(x))\n",
    "le = MultiLabelBinarizer()\n",
    "y_genres = le.fit_transform(dataTraining['genres'])\n",
    "# Separación de variables predictoras (X) y variable de interés (y) en set de entrenamiento y test usandola función train_test_split\n",
    "X_train, X_test, y_train_genres, y_test_genres = train_test_split(X_dtm, y_genres, test_size=0.33, random_state=42)\n",
    "X_train = X_train.toarray()\n",
    "X_test = X_test.toarray()\n",
    "\n",
    "\n",
    "# Definición de dimensiones de salida y entrada\n",
    "output_var = y_test_genres.shape[1]\n",
    "print(output_var, ' output variables')\n",
    "\n",
    "dims = X_train.shape[1]\n",
    "print(dims, 'input variables')\n",
    "\n",
    "K.clear_session()\n",
    "\n",
    "# Definición red neuronal con la función Sequential()\n",
    "model = Sequential()\n",
    "\n",
    "# Definición de la capa densa con un tamaño de salida igual a output_var y un input_shape de dims\n",
    "model.add(Dense(256, input_shape=(dims,),activation='sigmoid', kernel_regularizer=l2(0.001)))\n",
    "model.add(Dense(256,activation='sigmoid', kernel_regularizer=l2(0.001)))\n",
    "model.add(Dense(output_var))\n",
    "model.add(Activation('sigmoid'))\n",
    "\n",
    "# Impresión de la arquitectura de la red neuronal\n",
    "print(model.summary())\n",
    "# Definición de función de perdida. Se usa mean_squared_error dado que es un ejercicio de regresión\n",
    "model.compile(optimizer='adam', loss='binary_crossentropy')\n",
    "\n",
    "# Entrenamiento de la red neuronal con 100 épocas\n",
    "model.fit(X_train, y_train_genres,\n",
    "          verbose=1,\n",
    "          epochs=5,\n",
    "          validation_data=(X_test, y_test_genres),\n",
    "          callbacks=[PlotLossesKeras()])\n",
    "\n",
    "# Obtener las predicciones del modelo en el conjunto de test\n",
    "y_pred_genres = model.predict(X_test)\n",
    "\n",
    "# Impresión del desempeño del modelo\n",
    "roc_auc_score(y_test_genres, y_pred_genres, average='macro')"
   ]
  },
  {
   "cell_type": "markdown",
   "metadata": {},
   "source": [
    "# SIGUIENDO EJEMPLO DE CAMI"
   ]
  },
  {
   "cell_type": "code",
   "execution_count": 19,
   "metadata": {},
   "outputs": [
    {
     "name": "stderr",
     "output_type": "stream",
     "text": [
      "[nltk_data] Downloading package stopwords to /home/jovyan/nltk_data...\n",
      "[nltk_data]   Package stopwords is already up-to-date!\n",
      "[nltk_data] Downloading package wordnet to /home/jovyan/nltk_data...\n",
      "[nltk_data]   Package wordnet is already up-to-date!\n"
     ]
    },
    {
     "data": {
      "text/plain": [
       "True"
      ]
     },
     "execution_count": 19,
     "metadata": {},
     "output_type": "execute_result"
    }
   ],
   "source": [
    "import re\n",
    "from nltk.corpus import stopwords\n",
    "from nltk.stem import WordNetLemmatizer\n",
    "from sklearn.feature_extraction.text import CountVectorizer, TfidfVectorizer\n",
    "import numpy as np\n",
    "import pandas as pd\n",
    "import pandas as pd\n",
    "import os\n",
    "import numpy as np\n",
    "from sklearn.feature_extraction.text import CountVectorizer\n",
    "from sklearn.preprocessing import MultiLabelBinarizer\n",
    "from sklearn.metrics import r2_score, roc_auc_score\n",
    "from sklearn.model_selection import train_test_split\n",
    "from keras import backend as K\n",
    "from livelossplot import PlotLossesKeras\n",
    "from keras.models import Sequential\n",
    "from keras.layers import Dense, Activation\n",
    "\n",
    "# Descargar stopwords de NLTK si no están disponibles\n",
    "import nltk\n",
    "nltk.download('stopwords')\n",
    "nltk.download('wordnet')"
   ]
  },
  {
   "cell_type": "code",
   "execution_count": 20,
   "metadata": {},
   "outputs": [],
   "source": [
    "# Carga de datos de archivo .csv\n",
    "dataTraining = pd.read_csv('dataTraining.csv', encoding='UTF-8', index_col=0)\n",
    "dataTesting = pd.read_csv('dataTesting.csv', encoding='UTF-8', index_col=0)\n"
   ]
  },
  {
   "cell_type": "code",
   "execution_count": 37,
   "metadata": {},
   "outputs": [
    {
     "name": "stdout",
     "output_type": "stream",
     "text": [
      "24  output variables\n",
      "38672 input variables\n"
     ]
    }
   ],
   "source": [
    "# Inicializar lematizador y lista de stop words\n",
    "wordnet_lemmatizer = WordNetLemmatizer()\n",
    "stop_words = set(stopwords.words('english'))\n",
    "\n",
    "# Función para lematizar el texto con verbos y eliminar puntuación y palabras no significativas\n",
    "def split_into_lemmas(text):\n",
    "    # Convertir a minúsculas\n",
    "    text = text.lower()\n",
    "    # Eliminar puntuación\n",
    "    text = re.sub(r'[^\\w\\s]', '', text)\n",
    "    # Dividir en palabras\n",
    "    words = text.split()\n",
    "    # Eliminar stop words y palabras no significativas, y lematizar\n",
    "    lemmatized_words = [wordnet_lemmatizer.lemmatize(word, pos='v') for word in words if word not in stop_words and len(word) > 2]\n",
    "    return lemmatized_words\n",
    "\n",
    "# Definición de variables predictoras (X) - Analyzer personalizado maneja lowercase y stopwords\n",
    "#vect = CountVectorizer(lowercase=False, stop_words=None, max_features=1000, analyzer=split_into_lemmas)\n",
    "\n",
    "vect_tfidf = TfidfVectorizer()\n",
    "X_train = vect_tfidf.fit_transform(dataTraining['plot'])\n",
    "X_test_tfidf = vect_tfidf.transform(dataTesting['plot'])\n",
    "X_train = X_train.toarray()\n",
    "#X_dtm = vect.fit_transform(dataTraining['plot'])\n",
    "\n",
    "#print(X_dtm.shape)\n",
    "#print(X_train_tfidf.shape)\n",
    "\n",
    "# Definición de variable de interés (y)\n",
    "dataTraining['genres'] = dataTraining['genres'].map(lambda x: eval(x))\n",
    "le = MultiLabelBinarizer()\n",
    "y_genres = le.fit_transform(dataTraining['genres'])\n",
    "\n",
    "# Separación de variables predictoras (X) y variable de interés (y) en set de entrenamiento y test usandola función train_test_split\n",
    "#X_train, X_test, y_train_genres, y_test_genres = train_test_split(X_train_tfidf, y_genres, test_size=0.33, random_state=42)\n",
    "#X_train = X_train.toarray()\n",
    "#X_test = X_test.toarray()\n",
    "\n",
    "# Definición de dimensiones de salida y entrada\n",
    "output_var = y_genres.shape[1]\n",
    "print(output_var, ' output variables')\n",
    "\n",
    "dims = X_train.shape[1]\n",
    "print(dims, 'input variables')"
   ]
  },
  {
   "cell_type": "code",
   "execution_count": 35,
   "metadata": {},
   "outputs": [
    {
     "name": "stdout",
     "output_type": "stream",
     "text": [
      "Requirement already satisfied: livelossplot in /opt/conda/lib/python3.7/site-packages (0.5.4)\n",
      "Requirement already satisfied: bokeh in /opt/conda/lib/python3.7/site-packages (from livelossplot) (2.0.1)\n",
      "Requirement already satisfied: matplotlib in /opt/conda/lib/python3.7/site-packages (from livelossplot) (3.2.1)\n",
      "Requirement already satisfied: ipython in /opt/conda/lib/python3.7/site-packages (from livelossplot) (7.14.0)\n",
      "Requirement already satisfied: python-dateutil>=2.1 in /opt/conda/lib/python3.7/site-packages (from bokeh->livelossplot) (2.8.1)\n",
      "Requirement already satisfied: packaging>=16.8 in /opt/conda/lib/python3.7/site-packages (from bokeh->livelossplot) (20.1)\n",
      "Requirement already satisfied: typing-extensions>=3.7.4 in /opt/conda/lib/python3.7/site-packages (from bokeh->livelossplot) (3.7.4.2)\n",
      "Requirement already satisfied: PyYAML>=3.10 in /opt/conda/lib/python3.7/site-packages (from bokeh->livelossplot) (5.3.1)\n",
      "Requirement already satisfied: tornado>=5 in /opt/conda/lib/python3.7/site-packages (from bokeh->livelossplot) (6.0.4)\n",
      "Requirement already satisfied: pillow>=4.0 in /opt/conda/lib/python3.7/site-packages (from bokeh->livelossplot) (7.1.2)\n",
      "Requirement already satisfied: Jinja2>=2.7 in /opt/conda/lib/python3.7/site-packages (from bokeh->livelossplot) (3.0.3)\n",
      "Requirement already satisfied: numpy>=1.11.3 in /opt/conda/lib/python3.7/site-packages (from bokeh->livelossplot) (1.18.4)\n",
      "Requirement already satisfied: decorator in /opt/conda/lib/python3.7/site-packages (from ipython->livelossplot) (4.4.2)\n",
      "Requirement already satisfied: backcall in /opt/conda/lib/python3.7/site-packages (from ipython->livelossplot) (0.1.0)\n",
      "Requirement already satisfied: prompt-toolkit!=3.0.0,!=3.0.1,<3.1.0,>=2.0.0 in /opt/conda/lib/python3.7/site-packages (from ipython->livelossplot) (3.0.5)\n",
      "Requirement already satisfied: pickleshare in /opt/conda/lib/python3.7/site-packages (from ipython->livelossplot) (0.7.5)\n",
      "Requirement already satisfied: setuptools>=18.5 in /opt/conda/lib/python3.7/site-packages (from ipython->livelossplot) (46.1.3.post20200325)\n",
      "Requirement already satisfied: pygments in /opt/conda/lib/python3.7/site-packages (from ipython->livelossplot) (2.6.1)\n",
      "Requirement already satisfied: pexpect in /opt/conda/lib/python3.7/site-packages (from ipython->livelossplot) (4.8.0)\n",
      "Requirement already satisfied: traitlets>=4.2 in /opt/conda/lib/python3.7/site-packages (from ipython->livelossplot) (4.3.3)\n",
      "Requirement already satisfied: jedi>=0.10 in /opt/conda/lib/python3.7/site-packages (from ipython->livelossplot) (0.17.0)\n",
      "Requirement already satisfied: cycler>=0.10 in /opt/conda/lib/python3.7/site-packages (from matplotlib->livelossplot) (0.10.0)\n",
      "Requirement already satisfied: pyparsing!=2.0.4,!=2.1.2,!=2.1.6,>=2.0.1 in /opt/conda/lib/python3.7/site-packages (from matplotlib->livelossplot) (2.4.7)\n",
      "Requirement already satisfied: kiwisolver>=1.0.1 in /opt/conda/lib/python3.7/site-packages (from matplotlib->livelossplot) (1.2.0)\n",
      "Requirement already satisfied: six in /opt/conda/lib/python3.7/site-packages (from cycler>=0.10->matplotlib->livelossplot) (1.14.0)\n",
      "Requirement already satisfied: parso>=0.7.0 in /opt/conda/lib/python3.7/site-packages (from jedi>=0.10->ipython->livelossplot) (0.7.0)\n",
      "Requirement already satisfied: MarkupSafe>=2.0 in /opt/conda/lib/python3.7/site-packages (from Jinja2>=2.7->bokeh->livelossplot) (2.0.1)\n",
      "Requirement already satisfied: wcwidth in /opt/conda/lib/python3.7/site-packages (from prompt-toolkit!=3.0.0,!=3.0.1,<3.1.0,>=2.0.0->ipython->livelossplot) (0.1.9)\n",
      "Requirement already satisfied: ipython-genutils in /opt/conda/lib/python3.7/site-packages (from traitlets>=4.2->ipython->livelossplot) (0.2.0)\n",
      "Requirement already satisfied: ptyprocess>=0.5 in /opt/conda/lib/python3.7/site-packages (from pexpect->ipython->livelossplot) (0.6.0)\n",
      "Note: you may need to restart the kernel to use updated packages.\n"
     ]
    }
   ],
   "source": [
    "pip install livelossplot\n"
   ]
  },
  {
   "cell_type": "code",
   "execution_count": 31,
   "metadata": {},
   "outputs": [],
   "source": [
    "from keras.models import Sequential\n",
    "from keras.layers import Dense, Activation, Dropout\n",
    "from keras.callbacks import EarlyStopping\n",
    "from livelossplot import PlotLossesKeras\n",
    "# Definición de función que crea una red neuronal a partir de diferentes parámetros (nn_model_params)\n",
    "# En esta función se consideran 7 parámetos a calibrar, sin embargo se pueden agregar o quitar tantos como lo consideren pertinente\n",
    "def nn_model_params(optimizer ,\n",
    "                    neurons,\n",
    "                    batch_size,\n",
    "                    epochs,\n",
    "                    activation,\n",
    "                    patience,\n",
    "                    loss):\n",
    "\n",
    "    K.clear_session()\n",
    "\n",
    "    # Definición red neuronal con la función Sequential()\n",
    "    model = Sequential()\n",
    "\n",
    "    # Definición de las capas de la red con el número de neuronas y la función de activación definidos en la función nn_model_params\n",
    "    model.add(Dense(neurons, input_shape=(dims,), activation=activation))\n",
    "    model.add(Dropout(0.1))\n",
    "    model.add(Dense(output_var, activation=activation))\n",
    "\n",
    "    # Definición de función de perdida con parámetros definidos en la función nn_model_params\n",
    "    model.compile(optimizer = optimizer, loss=loss)\n",
    "\n",
    "    # Definición de la función EarlyStopping con parámetro definido en la función nn_model_params\n",
    "    early_stopping = EarlyStopping(monitor=\"val_loss\", patience = patience)\n",
    "\n",
    "    # Entrenamiento de la red neuronal con parámetros definidos en la función nn_model_params\n",
    "    model.fit(X_train, y_genres,\n",
    "              #validation_data = (X_test, y_test_genres),\n",
    "              epochs=epochs,\n",
    "              batch_size=batch_size,\n",
    "              callbacks=[early_stopping, PlotLossesKeras()],\n",
    "              verbose=True\n",
    "              )\n",
    "\n",
    "    return model"
   ]
  },
  {
   "cell_type": "code",
   "execution_count": 38,
   "metadata": {},
   "outputs": [
    {
     "data": {
      "image/png": "[encoded data removed]",
      "text/plain": [
       "<Figure size 864x576 with 2 Axes>"
      ]
     },
     "metadata": {
      "needs_background": "light"
     },
     "output_type": "display_data"
    },
    {
     "name": "stdout",
     "output_type": "stream",
     "text": [
      "Loss\n",
      "\tloss             \t (min:    0.007, max:    0.349, cur:    0.007)\n",
      "494/494 [==============================] - 4s 9ms/step - loss: 0.0071\n"
     ]
    }
   ],
   "source": [
    "model = nn_model_params(optimizer = 'adam',\n",
    "                        neurons=32,\n",
    "                        batch_size=16,\n",
    "                        epochs=100,\n",
    "                        activation='sigmoid',\n",
    "                        patience=10,\n",
    "                        loss='binary_crossentropy')"
   ]
  },
  {
   "cell_type": "code",
   "execution_count": 28,
   "metadata": {},
   "outputs": [
    {
     "name": "stdout",
     "output_type": "stream",
     "text": [
      "0.8778515262370745\n"
     ]
    }
   ],
   "source": [
    "# Obtain predictions on the test set\n",
    "y_pred_genres = model.predict(X_test)\n",
    "\n",
    "# Evaluate model performance (replace with your preferred metric)\n",
    "from sklearn.metrics import roc_auc_score\n",
    "print(roc_auc_score(y_test_genres, y_pred_genres, average='macro'))"
   ]
  },
  {
   "cell_type": "code",
   "execution_count": 39,
   "metadata": {},
   "outputs": [],
   "source": [
    "# transformación variables predictoras X del conjunto de test\n",
    "X_test_dtm = vect_tfidf.transform(dataTesting['plot'])\n",
    "\n",
    "cols = ['p_Action', 'p_Adventure', 'p_Animation', 'p_Biography', 'p_Comedy', 'p_Crime', 'p_Documentary', 'p_Drama', 'p_Family',\n",
    "        'p_Fantasy', 'p_Film-Noir', 'p_History', 'p_Horror', 'p_Music', 'p_Musical', 'p_Mystery', 'p_News', 'p_Romance',\n",
    "        'p_Sci-Fi', 'p_Short', 'p_Sport', 'p_Thriller', 'p_War', 'p_Western']\n",
    "\n",
    "X_test_dtm_dense = X_test_dtm.toarray()\n",
    "\n",
    "# Predicción del conjunto de test\n",
    "y_pred_genres = model.predict(X_test_dtm_dense)"
   ]
  },
  {
   "cell_type": "code",
   "execution_count": 40,
   "metadata": {},
   "outputs": [
    {
     "data": {
      "text/html": [
       "<div>\n",
       "<style scoped>\n",
       "    .dataframe tbody tr th:only-of-type {\n",
       "        vertical-align: middle;\n",
       "    }\n",
       "\n",
       "    .dataframe tbody tr th {\n",
       "        vertical-align: top;\n",
       "    }\n",
       "\n",
       "    .dataframe thead th {\n",
       "        text-align: right;\n",
       "    }\n",
       "</style>\n",
       "<table border=\"1\" class=\"dataframe\">\n",
       "  <thead>\n",
       "    <tr style=\"text-align: right;\">\n",
       "      <th></th>\n",
       "      <th>p_Action</th>\n",
       "      <th>p_Adventure</th>\n",
       "      <th>p_Animation</th>\n",
       "      <th>p_Biography</th>\n",
       "      <th>p_Comedy</th>\n",
       "      <th>p_Crime</th>\n",
       "      <th>p_Documentary</th>\n",
       "      <th>p_Drama</th>\n",
       "      <th>p_Family</th>\n",
       "      <th>p_Fantasy</th>\n",
       "      <th>...</th>\n",
       "      <th>p_Musical</th>\n",
       "      <th>p_Mystery</th>\n",
       "      <th>p_News</th>\n",
       "      <th>p_Romance</th>\n",
       "      <th>p_Sci-Fi</th>\n",
       "      <th>p_Short</th>\n",
       "      <th>p_Sport</th>\n",
       "      <th>p_Thriller</th>\n",
       "      <th>p_War</th>\n",
       "      <th>p_Western</th>\n",
       "    </tr>\n",
       "  </thead>\n",
       "  <tbody>\n",
       "    <tr>\n",
       "      <th>1</th>\n",
       "      <td>7.881045e-03</td>\n",
       "      <td>3.018975e-04</td>\n",
       "      <td>1.169903e-08</td>\n",
       "      <td>4.061150e-06</td>\n",
       "      <td>2.846575e-02</td>\n",
       "      <td>0.000840</td>\n",
       "      <td>4.485271e-08</td>\n",
       "      <td>0.455911</td>\n",
       "      <td>1.419293e-07</td>\n",
       "      <td>2.448976e-03</td>\n",
       "      <td>...</td>\n",
       "      <td>7.942256e-05</td>\n",
       "      <td>0.000738</td>\n",
       "      <td>3.977479e-10</td>\n",
       "      <td>9.896249e-01</td>\n",
       "      <td>7.811415e-07</td>\n",
       "      <td>2.187069e-06</td>\n",
       "      <td>2.285410e-06</td>\n",
       "      <td>0.000047</td>\n",
       "      <td>4.092017e-05</td>\n",
       "      <td>8.793736e-06</td>\n",
       "    </tr>\n",
       "    <tr>\n",
       "      <th>4</th>\n",
       "      <td>1.834750e-03</td>\n",
       "      <td>1.300066e-05</td>\n",
       "      <td>8.739010e-08</td>\n",
       "      <td>5.013943e-04</td>\n",
       "      <td>4.142022e-01</td>\n",
       "      <td>0.235863</td>\n",
       "      <td>1.035701e-06</td>\n",
       "      <td>0.994322</td>\n",
       "      <td>3.387536e-05</td>\n",
       "      <td>2.210691e-06</td>\n",
       "      <td>...</td>\n",
       "      <td>2.614541e-05</td>\n",
       "      <td>0.000006</td>\n",
       "      <td>1.918242e-07</td>\n",
       "      <td>8.987677e-07</td>\n",
       "      <td>1.253566e-06</td>\n",
       "      <td>7.603677e-06</td>\n",
       "      <td>6.736826e-06</td>\n",
       "      <td>0.400641</td>\n",
       "      <td>4.925388e-06</td>\n",
       "      <td>4.072531e-05</td>\n",
       "    </tr>\n",
       "    <tr>\n",
       "      <th>5</th>\n",
       "      <td>1.836121e-04</td>\n",
       "      <td>1.777544e-07</td>\n",
       "      <td>4.331852e-09</td>\n",
       "      <td>2.679229e-03</td>\n",
       "      <td>1.350693e-05</td>\n",
       "      <td>0.981360</td>\n",
       "      <td>1.351535e-04</td>\n",
       "      <td>0.995247</td>\n",
       "      <td>6.727614e-09</td>\n",
       "      <td>1.149084e-07</td>\n",
       "      <td>...</td>\n",
       "      <td>1.143766e-05</td>\n",
       "      <td>0.245670</td>\n",
       "      <td>2.622413e-06</td>\n",
       "      <td>1.968503e-03</td>\n",
       "      <td>2.560262e-05</td>\n",
       "      <td>6.993919e-05</td>\n",
       "      <td>3.528987e-06</td>\n",
       "      <td>0.914990</td>\n",
       "      <td>1.930062e-05</td>\n",
       "      <td>2.864897e-04</td>\n",
       "    </tr>\n",
       "    <tr>\n",
       "      <th>6</th>\n",
       "      <td>1.379848e-04</td>\n",
       "      <td>2.246499e-04</td>\n",
       "      <td>2.065357e-07</td>\n",
       "      <td>9.884881e-05</td>\n",
       "      <td>5.376100e-07</td>\n",
       "      <td>0.000111</td>\n",
       "      <td>4.830441e-06</td>\n",
       "      <td>0.998459</td>\n",
       "      <td>7.682005e-07</td>\n",
       "      <td>7.263625e-05</td>\n",
       "      <td>...</td>\n",
       "      <td>7.916181e-07</td>\n",
       "      <td>0.001727</td>\n",
       "      <td>2.450579e-07</td>\n",
       "      <td>5.276203e-04</td>\n",
       "      <td>9.152323e-03</td>\n",
       "      <td>9.530315e-07</td>\n",
       "      <td>3.931490e-06</td>\n",
       "      <td>0.671618</td>\n",
       "      <td>5.040169e-04</td>\n",
       "      <td>3.440015e-05</td>\n",
       "    </tr>\n",
       "    <tr>\n",
       "      <th>7</th>\n",
       "      <td>5.644008e-08</td>\n",
       "      <td>1.718679e-06</td>\n",
       "      <td>2.133358e-07</td>\n",
       "      <td>1.595742e-07</td>\n",
       "      <td>7.460979e-02</td>\n",
       "      <td>0.000542</td>\n",
       "      <td>4.918251e-07</td>\n",
       "      <td>0.002077</td>\n",
       "      <td>3.115535e-04</td>\n",
       "      <td>9.550273e-03</td>\n",
       "      <td>...</td>\n",
       "      <td>1.184895e-05</td>\n",
       "      <td>0.001328</td>\n",
       "      <td>4.321249e-08</td>\n",
       "      <td>7.696152e-04</td>\n",
       "      <td>2.746958e-01</td>\n",
       "      <td>1.555252e-05</td>\n",
       "      <td>7.775523e-09</td>\n",
       "      <td>0.213002</td>\n",
       "      <td>1.187504e-08</td>\n",
       "      <td>2.718612e-07</td>\n",
       "    </tr>\n",
       "  </tbody>\n",
       "</table>\n",
       "<p>5 rows × 24 columns</p>\n",
       "</div>"
      ],
      "text/plain": [
       "       p_Action   p_Adventure   p_Animation   p_Biography      p_Comedy  \\\n",
       "1  7.881045e-03  3.018975e-04  1.169903e-08  4.061150e-06  2.846575e-02   \n",
       "4  1.834750e-03  1.300066e-05  8.739010e-08  5.013943e-04  4.142022e-01   \n",
       "5  1.836121e-04  1.777544e-07  4.331852e-09  2.679229e-03  1.350693e-05   \n",
       "6  1.379848e-04  2.246499e-04  2.065357e-07  9.884881e-05  5.376100e-07   \n",
       "7  5.644008e-08  1.718679e-06  2.133358e-07  1.595742e-07  7.460979e-02   \n",
       "\n",
       "    p_Crime  p_Documentary   p_Drama      p_Family     p_Fantasy  ...  \\\n",
       "1  0.000840   4.485271e-08  0.455911  1.419293e-07  2.448976e-03  ...   \n",
       "4  0.235863   1.035701e-06  0.994322  3.387536e-05  2.210691e-06  ...   \n",
       "5  0.981360   1.351535e-04  0.995247  6.727614e-09  1.149084e-07  ...   \n",
       "6  0.000111   4.830441e-06  0.998459  7.682005e-07  7.263625e-05  ...   \n",
       "7  0.000542   4.918251e-07  0.002077  3.115535e-04  9.550273e-03  ...   \n",
       "\n",
       "      p_Musical  p_Mystery        p_News     p_Romance      p_Sci-Fi  \\\n",
       "1  7.942256e-05   0.000738  3.977479e-10  9.896249e-01  7.811415e-07   \n",
       "4  2.614541e-05   0.000006  1.918242e-07  8.987677e-07  1.253566e-06   \n",
       "5  1.143766e-05   0.245670  2.622413e-06  1.968503e-03  2.560262e-05   \n",
       "6  7.916181e-07   0.001727  2.450579e-07  5.276203e-04  9.152323e-03   \n",
       "7  1.184895e-05   0.001328  4.321249e-08  7.696152e-04  2.746958e-01   \n",
       "\n",
       "        p_Short       p_Sport  p_Thriller         p_War     p_Western  \n",
       "1  2.187069e-06  2.285410e-06    0.000047  4.092017e-05  8.793736e-06  \n",
       "4  7.603677e-06  6.736826e-06    0.400641  4.925388e-06  4.072531e-05  \n",
       "5  6.993919e-05  3.528987e-06    0.914990  1.930062e-05  2.864897e-04  \n",
       "6  9.530315e-07  3.931490e-06    0.671618  5.040169e-04  3.440015e-05  \n",
       "7  1.555252e-05  7.775523e-09    0.213002  1.187504e-08  2.718612e-07  \n",
       "\n",
       "[5 rows x 24 columns]"
      ]
     },
     "execution_count": 40,
     "metadata": {},
     "output_type": "execute_result"
    }
   ],
   "source": [
    "cols = ['p_Action', 'p_Adventure', 'p_Animation', 'p_Biography', 'p_Comedy', 'p_Crime', 'p_Documentary', 'p_Drama', 'p_Family',\n",
    "        'p_Fantasy', 'p_Film-Noir', 'p_History', 'p_Horror', 'p_Music', 'p_Musical', 'p_Mystery', 'p_News', 'p_Romance',\n",
    "        'p_Sci-Fi', 'p_Short', 'p_Sport', 'p_Thriller', 'p_War', 'p_Western']\n",
    "\n",
    "# Guardar predicciones en formato exigido en la competencia de kaggle\n",
    "res = pd.DataFrame(y_pred_genres, index=dataTesting.index, columns=cols)\n",
    "res.to_csv('pred_genres_text_RF_idf.csv', index_label='ID')\n",
    "res.head()"
   ]
  },
  {
   "cell_type": "markdown",
   "metadata": {},
   "source": [
    "## Otra prueba"
   ]
  },
  {
   "cell_type": "code",
   "execution_count": 21,
   "metadata": {},
   "outputs": [
    {
     "name": "stderr",
     "output_type": "stream",
     "text": [
      "[nltk_data] Downloading package stopwords to /home/jovyan/nltk_data...\n",
      "[nltk_data]   Package stopwords is already up-to-date!\n"
     ]
    },
    {
     "name": "stdout",
     "output_type": "stream",
     "text": [
      "(7895, 38535)\n",
      "24  output variables\n",
      "38535 input variables\n"
     ]
    }
   ],
   "source": [
    "# Inicializar lematizador y lista de stop words\n",
    "wordnet_lemmatizer = WordNetLemmatizer()\n",
    "stop_words = set(stopwords.words('english'))\n",
    "\n",
    "from sklearn.feature_extraction.text import TfidfVectorizer\n",
    "import string\n",
    "import nltk\n",
    "from nltk.corpus import stopwords\n",
    "\n",
    "# Descargar stopwords si no lo has hecho antes\n",
    "nltk.download('stopwords')\n",
    "\n",
    "# Definir una función para preprocesar el texto\n",
    "def preprocess_text(text):\n",
    "    # Convertir el texto a minúsculas\n",
    "    text = text.lower()\n",
    "    # Eliminar signos de puntuación\n",
    "    text = ''.join([char for char in text if char not in string.punctuation])\n",
    "    # Eliminar stopwords\n",
    "    stop_words = set(stopwords.words('english'))\n",
    "    words = text.split()\n",
    "    text = ' '.join([word for word in words if word not in stop_words])\n",
    "    return text\n",
    "\n",
    "vect_tfidf = TfidfVectorizer(preprocessor=preprocess_text)\n",
    "X_train_tfidf = vect_tfidf.fit_transform(dataTraining['plot'])\n",
    "X_test_tfidf = vect_tfidf.transform(dataTesting['plot'])\n",
    "\n",
    "#X_dtm = vect.fit_transform(dataTraining['plot'])\n",
    "\n",
    "#print(X_dtm.shape)\n",
    "print(X_train_tfidf.shape)\n",
    "\n",
    "# Definición de variable de interés (y)\n",
    "dataTraining['genres'] = dataTraining['genres'].map(lambda x: eval(x))\n",
    "le = MultiLabelBinarizer()\n",
    "y_genres = le.fit_transform(dataTraining['genres'])\n",
    "\n",
    "# Separación de variables predictoras (X) y variable de interés (y) en set de entrenamiento y test usandola función train_test_split\n",
    "X_train, X_test, y_train_genres, y_test_genres = train_test_split(X_train_tfidf, y_genres, test_size=0.33, random_state=42)\n",
    "X_train = X_train.toarray()\n",
    "X_test = X_test.toarray()\n",
    "\n",
    "# Definición de dimensiones de salida y entrada\n",
    "output_var = y_test_genres.shape[1]\n",
    "print(output_var, ' output variables')\n",
    "\n",
    "dims = X_train.shape[1]\n",
    "print(dims, 'input variables')"
   ]
  },
  {
   "cell_type": "code",
   "execution_count": 22,
   "metadata": {},
   "outputs": [
    {
     "name": "stdout",
     "output_type": "stream",
     "text": [
      "             word  frequency\n",
      "0          eunice  76.473925\n",
      "1         kwimper  74.878613\n",
      "2     jourdonnais  64.626099\n",
      "3           manly  60.169900\n",
      "4             arn  55.648602\n",
      "..            ...        ...\n",
      "295        manuel  13.116084\n",
      "296        graphs  13.113322\n",
      "297    councilman  13.108322\n",
      "298  superhighway  13.085952\n",
      "299       newland  13.077757\n",
      "\n",
      "[300 rows x 2 columns]\n"
     ]
    }
   ],
   "source": [
    "import pandas as pd\n",
    "\n",
    "# Obtener el vocabulario y sus índices\n",
    "vocabulario = vect_tfidf.vocabulary_\n",
    "\n",
    "# Obtener las palabras y sus frecuencias\n",
    "words = list(vocabulario.keys())  # Obtener las palabras del vocabulario\n",
    "frequencies = X_train.sum(axis=0).flatten()  # Calcular las frecuencias de las palabras en X_train\n",
    "\n",
    "# Crear un DataFrame con las palabras y sus frecuencias\n",
    "word_freq = pd.DataFrame({'word': words, 'frequency': frequencies})\n",
    "\n",
    "# Ordenar las palabras por frecuencia descendente\n",
    "word_freq = word_freq.sort_values(by='frequency', ascending=False).reset_index(drop=True)\n",
    "\n",
    "# Mostrar las palabras y sus frecuencias\n",
    "print(word_freq.head(300))\n"
   ]
  },
  {
   "cell_type": "code",
   "execution_count": 23,
   "metadata": {},
   "outputs": [],
   "source": [
    "from keras.models import Sequential\n",
    "from keras.layers import Dense, Activation, Dropout\n",
    "from keras.callbacks import EarlyStopping\n",
    "from livelossplot import PlotLossesKeras\n",
    "# Definición de función que crea una red neuronal a partir de diferentes parámetros (nn_model_params)\n",
    "# En esta función se consideran 7 parámetos a calibrar, sin embargo se pueden agregar o quitar tantos como lo consideren pertinente\n",
    "def nn_model_params(optimizer ,\n",
    "                    neurons,\n",
    "                    batch_size,\n",
    "                    epochs,\n",
    "                    activation,\n",
    "                    patience,\n",
    "                    loss):\n",
    "\n",
    "    K.clear_session()\n",
    "\n",
    "    # Definición red neuronal con la función Sequential()\n",
    "    model = Sequential()\n",
    "\n",
    "    # Definición de las capas de la red con el número de neuronas y la función de activación definidos en la función nn_model_params\n",
    "    model.add(Dense(neurons, input_shape=(dims,), activation=activation))\n",
    "    model.add(Dropout(0.1))\n",
    "    model.add(Dense(output_var, activation=activation))\n",
    "\n",
    "    # Definición de función de perdida con parámetros definidos en la función nn_model_params\n",
    "    model.compile(optimizer = optimizer, loss=loss)\n",
    "\n",
    "    # Definición de la función EarlyStopping con parámetro definido en la función nn_model_params\n",
    "    early_stopping = EarlyStopping(monitor=\"val_loss\", patience = patience)\n",
    "\n",
    "    # Entrenamiento de la red neuronal con parámetros definidos en la función nn_model_params\n",
    "    model.fit(X_train, y_train_genres,\n",
    "              validation_data = (X_test, y_test_genres),\n",
    "              epochs=epochs,\n",
    "              batch_size=batch_size,\n",
    "              callbacks=[early_stopping, PlotLossesKeras()],\n",
    "              verbose=True\n",
    "              )\n",
    "\n",
    "    return model"
   ]
  },
  {
   "cell_type": "code",
   "execution_count": 24,
   "metadata": {},
   "outputs": [
    {
     "data": {
      "image/png": "[encoded data removed]",
      "text/plain": [
       "<Figure size 864x576 with 2 Axes>"
      ]
     },
     "metadata": {
      "needs_background": "light"
     },
     "output_type": "display_data"
    },
    {
     "name": "stdout",
     "output_type": "stream",
     "text": [
      "Loss\n",
      "\ttraining         \t (min:    0.061, max:    0.358, cur:    0.061)\n",
      "\tvalidation       \t (min:    0.219, max:    0.296, cur:    0.231)\n",
      "331/331 [==============================] - 5s 15ms/step - loss: 0.0611 - val_loss: 0.2313\n"
     ]
    }
   ],
   "source": [
    "model = nn_model_params(optimizer = 'adam',\n",
    "                        neurons=32,\n",
    "                        batch_size=16,\n",
    "                        epochs=100,\n",
    "                        activation='sigmoid',\n",
    "                        patience=10,\n",
    "                        loss='binary_crossentropy')"
   ]
  },
  {
   "cell_type": "code",
   "execution_count": 25,
   "metadata": {},
   "outputs": [
    {
     "name": "stdout",
     "output_type": "stream",
     "text": [
      "0.8746039134680167\n"
     ]
    }
   ],
   "source": [
    "# Obtain predictions on the test set\n",
    "y_pred_genres = model.predict(X_test)\n",
    "\n",
    "# Evaluate model performance (replace with your preferred metric)\n",
    "from sklearn.metrics import roc_auc_score\n",
    "print(roc_auc_score(y_test_genres, y_pred_genres, average='macro'))"
   ]
  },
  {
   "cell_type": "code",
   "execution_count": 26,
   "metadata": {},
   "outputs": [],
   "source": [
    "# transformación variables predictoras X del conjunto de test\n",
    "X_test_dtm = vect_tfidf.transform(dataTesting['plot'])\n",
    "\n",
    "cols = ['p_Action', 'p_Adventure', 'p_Animation', 'p_Biography', 'p_Comedy', 'p_Crime', 'p_Documentary', 'p_Drama', 'p_Family',\n",
    "        'p_Fantasy', 'p_Film-Noir', 'p_History', 'p_Horror', 'p_Music', 'p_Musical', 'p_Mystery', 'p_News', 'p_Romance',\n",
    "        'p_Sci-Fi', 'p_Short', 'p_Sport', 'p_Thriller', 'p_War', 'p_Western']\n",
    "\n",
    "X_test_dtm_dense = X_test_dtm.toarray()\n",
    "\n",
    "# Predicción del conjunto de test\n",
    "y_pred_genres = model.predict(X_test_dtm_dense)"
   ]
  },
  {
   "cell_type": "code",
   "execution_count": 27,
   "metadata": {},
   "outputs": [
    {
     "data": {
      "text/html": [
       "<div>\n",
       "<style scoped>\n",
       "    .dataframe tbody tr th:only-of-type {\n",
       "        vertical-align: middle;\n",
       "    }\n",
       "\n",
       "    .dataframe tbody tr th {\n",
       "        vertical-align: top;\n",
       "    }\n",
       "\n",
       "    .dataframe thead th {\n",
       "        text-align: right;\n",
       "    }\n",
       "</style>\n",
       "<table border=\"1\" class=\"dataframe\">\n",
       "  <thead>\n",
       "    <tr style=\"text-align: right;\">\n",
       "      <th></th>\n",
       "      <th>p_Action</th>\n",
       "      <th>p_Adventure</th>\n",
       "      <th>p_Animation</th>\n",
       "      <th>p_Biography</th>\n",
       "      <th>p_Comedy</th>\n",
       "      <th>p_Crime</th>\n",
       "      <th>p_Documentary</th>\n",
       "      <th>p_Drama</th>\n",
       "      <th>p_Family</th>\n",
       "      <th>p_Fantasy</th>\n",
       "      <th>...</th>\n",
       "      <th>p_Musical</th>\n",
       "      <th>p_Mystery</th>\n",
       "      <th>p_News</th>\n",
       "      <th>p_Romance</th>\n",
       "      <th>p_Sci-Fi</th>\n",
       "      <th>p_Short</th>\n",
       "      <th>p_Sport</th>\n",
       "      <th>p_Thriller</th>\n",
       "      <th>p_War</th>\n",
       "      <th>p_Western</th>\n",
       "    </tr>\n",
       "  </thead>\n",
       "  <tbody>\n",
       "    <tr>\n",
       "      <th>1</th>\n",
       "      <td>0.005633</td>\n",
       "      <td>0.019934</td>\n",
       "      <td>0.001515</td>\n",
       "      <td>0.002782</td>\n",
       "      <td>0.136509</td>\n",
       "      <td>0.013773</td>\n",
       "      <td>0.000822</td>\n",
       "      <td>0.680619</td>\n",
       "      <td>0.004559</td>\n",
       "      <td>0.041586</td>\n",
       "      <td>...</td>\n",
       "      <td>0.012161</td>\n",
       "      <td>0.039269</td>\n",
       "      <td>0.000124</td>\n",
       "      <td>0.857657</td>\n",
       "      <td>0.003806</td>\n",
       "      <td>0.003095</td>\n",
       "      <td>0.000971</td>\n",
       "      <td>0.030404</td>\n",
       "      <td>0.001667</td>\n",
       "      <td>0.004860</td>\n",
       "    </tr>\n",
       "    <tr>\n",
       "      <th>4</th>\n",
       "      <td>0.034230</td>\n",
       "      <td>0.001299</td>\n",
       "      <td>0.000341</td>\n",
       "      <td>0.036467</td>\n",
       "      <td>0.103663</td>\n",
       "      <td>0.628917</td>\n",
       "      <td>0.005027</td>\n",
       "      <td>0.885104</td>\n",
       "      <td>0.000595</td>\n",
       "      <td>0.001241</td>\n",
       "      <td>...</td>\n",
       "      <td>0.001892</td>\n",
       "      <td>0.005949</td>\n",
       "      <td>0.000377</td>\n",
       "      <td>0.004172</td>\n",
       "      <td>0.000716</td>\n",
       "      <td>0.003111</td>\n",
       "      <td>0.004925</td>\n",
       "      <td>0.237000</td>\n",
       "      <td>0.006195</td>\n",
       "      <td>0.006373</td>\n",
       "    </tr>\n",
       "    <tr>\n",
       "      <th>5</th>\n",
       "      <td>0.028970</td>\n",
       "      <td>0.000934</td>\n",
       "      <td>0.000066</td>\n",
       "      <td>0.019640</td>\n",
       "      <td>0.009347</td>\n",
       "      <td>0.853652</td>\n",
       "      <td>0.000486</td>\n",
       "      <td>0.985911</td>\n",
       "      <td>0.000121</td>\n",
       "      <td>0.000273</td>\n",
       "      <td>...</td>\n",
       "      <td>0.001108</td>\n",
       "      <td>0.237225</td>\n",
       "      <td>0.000270</td>\n",
       "      <td>0.038401</td>\n",
       "      <td>0.002539</td>\n",
       "      <td>0.001146</td>\n",
       "      <td>0.001712</td>\n",
       "      <td>0.902947</td>\n",
       "      <td>0.010931</td>\n",
       "      <td>0.002608</td>\n",
       "    </tr>\n",
       "    <tr>\n",
       "      <th>6</th>\n",
       "      <td>0.012495</td>\n",
       "      <td>0.006693</td>\n",
       "      <td>0.000388</td>\n",
       "      <td>0.034948</td>\n",
       "      <td>0.011137</td>\n",
       "      <td>0.006963</td>\n",
       "      <td>0.002246</td>\n",
       "      <td>0.972139</td>\n",
       "      <td>0.000446</td>\n",
       "      <td>0.002122</td>\n",
       "      <td>...</td>\n",
       "      <td>0.002820</td>\n",
       "      <td>0.042058</td>\n",
       "      <td>0.000425</td>\n",
       "      <td>0.149705</td>\n",
       "      <td>0.044676</td>\n",
       "      <td>0.002786</td>\n",
       "      <td>0.004679</td>\n",
       "      <td>0.438281</td>\n",
       "      <td>0.055705</td>\n",
       "      <td>0.003655</td>\n",
       "    </tr>\n",
       "    <tr>\n",
       "      <th>7</th>\n",
       "      <td>0.002606</td>\n",
       "      <td>0.002624</td>\n",
       "      <td>0.001915</td>\n",
       "      <td>0.003821</td>\n",
       "      <td>0.056632</td>\n",
       "      <td>0.018441</td>\n",
       "      <td>0.001119</td>\n",
       "      <td>0.179467</td>\n",
       "      <td>0.004797</td>\n",
       "      <td>0.071181</td>\n",
       "      <td>...</td>\n",
       "      <td>0.002558</td>\n",
       "      <td>0.129983</td>\n",
       "      <td>0.000246</td>\n",
       "      <td>0.065064</td>\n",
       "      <td>0.170155</td>\n",
       "      <td>0.005222</td>\n",
       "      <td>0.000586</td>\n",
       "      <td>0.273335</td>\n",
       "      <td>0.000184</td>\n",
       "      <td>0.001933</td>\n",
       "    </tr>\n",
       "  </tbody>\n",
       "</table>\n",
       "<p>5 rows × 24 columns</p>\n",
       "</div>"
      ],
      "text/plain": [
       "   p_Action  p_Adventure  p_Animation  p_Biography  p_Comedy   p_Crime  \\\n",
       "1  0.005633     0.019934     0.001515     0.002782  0.136509  0.013773   \n",
       "4  0.034230     0.001299     0.000341     0.036467  0.103663  0.628917   \n",
       "5  0.028970     0.000934     0.000066     0.019640  0.009347  0.853652   \n",
       "6  0.012495     0.006693     0.000388     0.034948  0.011137  0.006963   \n",
       "7  0.002606     0.002624     0.001915     0.003821  0.056632  0.018441   \n",
       "\n",
       "   p_Documentary   p_Drama  p_Family  p_Fantasy  ...  p_Musical  p_Mystery  \\\n",
       "1       0.000822  0.680619  0.004559   0.041586  ...   0.012161   0.039269   \n",
       "4       0.005027  0.885104  0.000595   0.001241  ...   0.001892   0.005949   \n",
       "5       0.000486  0.985911  0.000121   0.000273  ...   0.001108   0.237225   \n",
       "6       0.002246  0.972139  0.000446   0.002122  ...   0.002820   0.042058   \n",
       "7       0.001119  0.179467  0.004797   0.071181  ...   0.002558   0.129983   \n",
       "\n",
       "     p_News  p_Romance  p_Sci-Fi   p_Short   p_Sport  p_Thriller     p_War  \\\n",
       "1  0.000124   0.857657  0.003806  0.003095  0.000971    0.030404  0.001667   \n",
       "4  0.000377   0.004172  0.000716  0.003111  0.004925    0.237000  0.006195   \n",
       "5  0.000270   0.038401  0.002539  0.001146  0.001712    0.902947  0.010931   \n",
       "6  0.000425   0.149705  0.044676  0.002786  0.004679    0.438281  0.055705   \n",
       "7  0.000246   0.065064  0.170155  0.005222  0.000586    0.273335  0.000184   \n",
       "\n",
       "   p_Western  \n",
       "1   0.004860  \n",
       "4   0.006373  \n",
       "5   0.002608  \n",
       "6   0.003655  \n",
       "7   0.001933  \n",
       "\n",
       "[5 rows x 24 columns]"
      ]
     },
     "execution_count": 27,
     "metadata": {},
     "output_type": "execute_result"
    }
   ],
   "source": [
    "cols = ['p_Action', 'p_Adventure', 'p_Animation', 'p_Biography', 'p_Comedy', 'p_Crime', 'p_Documentary', 'p_Drama', 'p_Family',\n",
    "        'p_Fantasy', 'p_Film-Noir', 'p_History', 'p_Horror', 'p_Music', 'p_Musical', 'p_Mystery', 'p_News', 'p_Romance',\n",
    "        'p_Sci-Fi', 'p_Short', 'p_Sport', 'p_Thriller', 'p_War', 'p_Western']\n",
    "\n",
    "# Guardar predicciones en formato exigido en la competencia de kaggle\n",
    "res = pd.DataFrame(y_pred_genres, index=dataTesting.index, columns=cols)\n",
    "res.to_csv('pred_genres_text_RF_idf.csv', index_label='ID')\n",
    "res.head()"
   ]
  },
  {
   "cell_type": "markdown",
   "metadata": {},
   "source": [
    "## API"
   ]
  },
  {
   "cell_type": "code",
   "execution_count": 51,
   "metadata": {},
   "outputs": [
    {
     "name": "stderr",
     "output_type": "stream",
     "text": [
      "[nltk_data] Downloading package stopwords to /home/jovyan/nltk_data...\n",
      "[nltk_data]   Package stopwords is already up-to-date!\n",
      "[nltk_data] Downloading package wordnet to /home/jovyan/nltk_data...\n",
      "[nltk_data]   Package wordnet is already up-to-date!\n"
     ]
    },
    {
     "name": "stdout",
     "output_type": "stream",
     "text": [
      "(7895, 38535)\n",
      "24  output variables\n",
      "38535 input variables\n"
     ]
    }
   ],
   "source": [
    "import warnings\n",
    "warnings.filterwarnings('ignore')\n",
    "\n",
    "# Importación librerías\n",
    "import pandas as pd\n",
    "import os\n",
    "import numpy as np\n",
    "from sklearn.feature_extraction.text import TfidfVectorizer\n",
    "from sklearn.metrics import r2_score, roc_auc_score\n",
    "from sklearn.model_selection import train_test_split\n",
    "from nltk.corpus import stopwords\n",
    "from nltk.stem import WordNetLemmatizer\n",
    "from sklearn.preprocessing import MultiLabelBinarizer\n",
    "import re\n",
    "from nltk.corpus import stopwords\n",
    "\n",
    "# Descargar stopwords de NLTK si no están disponibles\n",
    "import nltk\n",
    "nltk.download('stopwords')\n",
    "nltk.download('wordnet')\n",
    "# Carga de datos de archivo .csv\n",
    "dataTraining = pd.read_csv('dataTraining.csv', encoding='UTF-8', index_col=0)\n",
    "dataTesting = pd.read_csv('dataTesting.csv', encoding='UTF-8', index_col=0)\n",
    "import string\n",
    "# Inicializar lematizador y lista de stop words\n",
    "stop_words = set(stopwords.words('english'))\n",
    "\n",
    "# Definir una función para preprocesar el texto\n",
    "def preprocess_text(text):\n",
    "  # Convertir el texto a minúsculas\n",
    "  text = text.lower()\n",
    "  # Eliminar signos de puntuación\n",
    "  text = ''.join([char for char in text if char not in string.punctuation])\n",
    "  # Eliminar stopwords\n",
    "  stop_words = set(stopwords.words('english'))\n",
    "  words = text.split()\n",
    "  text = ' '.join([word for word in words if word not in stop_words])\n",
    "\n",
    "  return text\n",
    "\n",
    "vect_tfidf = TfidfVectorizer(preprocessor=preprocess_text)\n",
    "X_train_tfidf = vect_tfidf.fit_transform(dataTraining['plot'])\n",
    "X_test_tfidf = vect_tfidf.transform(dataTesting['plot'])\n",
    "\n",
    "print(X_train_tfidf.shape)\n",
    "\n",
    "# Definición de variable de interés (y)\n",
    "dataTraining['genres'] = dataTraining['genres'].map(lambda x: eval(x))\n",
    "le = MultiLabelBinarizer()\n",
    "y_genres = le.fit_transform(dataTraining['genres'])\n",
    "\n",
    "# Separación de variables predictoras (X) y variable de interés (y) en set de entrenamiento y test usandola función train_test_split\n",
    "X_train, X_test, y_train_genres, y_test_genres = train_test_split(X_train_tfidf, y_genres, test_size=0.33,\n",
    "                                                                  random_state=42)\n",
    "X_train = X_train.toarray()\n",
    "X_test = X_test.toarray()\n",
    "\n",
    "# Definición de dimensiones de salida y entrada\n",
    "output_var = y_test_genres.shape[1]\n",
    "print(output_var, ' output variables')\n",
    "\n",
    "dims = X_train.shape[1]\n",
    "print(dims, 'input variables')"
   ]
  },
  {
   "cell_type": "code",
   "execution_count": 52,
   "metadata": {},
   "outputs": [],
   "source": [
    "from keras.models import Sequential\n",
    "from keras.layers import Dense, Activation, Dropout\n",
    "from keras.callbacks import EarlyStopping\n",
    "from livelossplot import PlotLossesKeras\n",
    "# Definición de función que crea una red neuronal a partir de diferentes parámetros (nn_model_params)\n",
    "# En esta función se consideran 7 parámetos a calibrar, sin embargo se pueden agregar o quitar tantos como lo consideren pertinente\n",
    "def nn_model_params(optimizer ,\n",
    "                    neurons,\n",
    "                    batch_size,\n",
    "                    epochs,\n",
    "                    activation,\n",
    "                    patience,\n",
    "                    loss):\n",
    "\n",
    "    K.clear_session()\n",
    "\n",
    "    # Definición red neuronal con la función Sequential()\n",
    "    model = Sequential()\n",
    "\n",
    "    # Definición de las capas de la red con el número de neuronas y la función de activación definidos en la función nn_model_params\n",
    "    model.add(Dense(neurons, input_shape=(dims,), activation=activation))\n",
    "    model.add(Dropout(0.1))\n",
    "    model.add(Dense(output_var, activation=activation))\n",
    "\n",
    "    # Definición de función de perdida con parámetros definidos en la función nn_model_params\n",
    "    model.compile(optimizer = optimizer, loss=loss)\n",
    "\n",
    "    # Definición de la función EarlyStopping con parámetro definido en la función nn_model_params\n",
    "    early_stopping = EarlyStopping(monitor=\"val_loss\", patience = patience)\n",
    "\n",
    "    # Entrenamiento de la red neuronal con parámetros definidos en la función nn_model_params\n",
    "    model.fit(X_train, y_train_genres,\n",
    "              validation_data = (X_test, y_test_genres),\n",
    "              epochs=epochs,\n",
    "              batch_size=batch_size,\n",
    "              callbacks=[early_stopping, PlotLossesKeras()],\n",
    "              verbose=True\n",
    "              )\n",
    "\n",
    "    return model"
   ]
  },
  {
   "cell_type": "code",
   "execution_count": 53,
   "metadata": {},
   "outputs": [
    {
     "data": {
      "image/png": "[encoded data removed]",
      "text/plain": [
       "<Figure size 864x576 with 2 Axes>"
      ]
     },
     "metadata": {
      "needs_background": "light"
     },
     "output_type": "display_data"
    },
    {
     "name": "stdout",
     "output_type": "stream",
     "text": [
      "Loss\n",
      "\ttraining         \t (min:    0.061, max:    0.364, cur:    0.061)\n",
      "\tvalidation       \t (min:    0.218, max:    0.297, cur:    0.233)\n",
      "331/331 [==============================] - 4s 11ms/step - loss: 0.0615 - val_loss: 0.2331\n"
     ]
    }
   ],
   "source": [
    "model = nn_model_params(optimizer = 'adam',\n",
    "                        neurons=32,\n",
    "                        batch_size=16,\n",
    "                        epochs=100,\n",
    "                        activation='sigmoid',\n",
    "                        patience=10,\n",
    "                        loss='binary_crossentropy')"
   ]
  },
  {
   "cell_type": "code",
   "execution_count": 54,
   "metadata": {},
   "outputs": [
    {
     "data": {
      "text/plain": [
       "['tfidf_vectorizer.pkl']"
      ]
     },
     "execution_count": 54,
     "metadata": {},
     "output_type": "execute_result"
    }
   ],
   "source": [
    "#joblib.dump(model, 'genre_classification_model.pkl')\n",
    "joblib.dump(vect_tfidf, 'tfidf_vectorizer.pkl')\n"
   ]
  },
  {
   "cell_type": "code",
   "execution_count": 45,
   "metadata": {},
   "outputs": [],
   "source": [
    "from sklearn.feature_extraction.text import TfidfVectorizer\n",
    "\n",
    "def predict_proba(text):\n",
    "    wordnet_lemmatizer = WordNetLemmatizer()\n",
    "    stop_words = set(stopwords.words('english'))\n",
    "    \n",
    "    # Convert text to lowercase\n",
    "    text = text.lower()\n",
    "    # Remove punctuation\n",
    "    text = ''.join([char for char in text if char not in string.punctuation])\n",
    "    # Remove stopwords\n",
    "    words = text.split()\n",
    "    text = ' '.join([word for word in words if word not in stop_words])\n",
    "    # Lemmatize words\n",
    "    text = ' '.join([wordnet_lemmatizer.lemmatize(word) for word in text.split()])    \n",
    "    \n",
    "    return text\n",
    "\n",
    "\n",
    "# Example input text\n",
    "documents = [\"prueba dos y mas\"]\n",
    "\n",
    "# Initialize the TfidfVectorizer\n",
    "vect_tfidf = TfidfVectorizer(preprocessor=predict_proba)\n",
    "\n",
    "# Transform the documents\n",
    "X_test_tfidf = vect_tfidf.fit_transform(documents)\n",
    "\n",
    "X_test_tfidf_dense = X_test_tfidf.toarray()\n",
    "\n",
    "\n",
    "joblib.dump(vect_tfidf, 'tfidf_vectorizer.pkl')\n",
    "\n",
    "\n",
    "\n"
   ]
  },
  {
   "cell_type": "code",
   "execution_count": 46,
   "metadata": {},
   "outputs": [
    {
     "ename": "ValueError",
     "evalue": "in user code:\n\n    File \"/opt/conda/lib/python3.7/site-packages/keras/engine/training.py\", line 1621, in predict_function  *\n        return step_function(self, iterator)\n    File \"/opt/conda/lib/python3.7/site-packages/keras/engine/training.py\", line 1611, in step_function  **\n        outputs = model.distribute_strategy.run(run_step, args=(data,))\n    File \"/opt/conda/lib/python3.7/site-packages/keras/engine/training.py\", line 1604, in run_step  **\n        outputs = model.predict_step(data)\n    File \"/opt/conda/lib/python3.7/site-packages/keras/engine/training.py\", line 1572, in predict_step\n        return self(x, training=False)\n    File \"/opt/conda/lib/python3.7/site-packages/keras/utils/traceback_utils.py\", line 67, in error_handler\n        raise e.with_traceback(filtered_tb) from None\n    File \"/opt/conda/lib/python3.7/site-packages/keras/engine/input_spec.py\", line 263, in assert_input_compatibility\n        raise ValueError(f'Input {input_index} of layer \"{layer_name}\" is '\n\n    ValueError: Input 0 of layer \"sequential\" is incompatible with the layer: expected shape=(None, 38535), found shape=(None, 3)\n",
     "output_type": "error",
     "traceback": [
      "\u001b[0;31m---------------------------------------------------------------------------\u001b[0m",
      "\u001b[0;31mValueError\u001b[0m                                Traceback (most recent call last)",
      "\u001b[0;32m<ipython-input-46-1814d82a3c97>\u001b[0m in \u001b[0;36m<module>\u001b[0;34m\u001b[0m\n\u001b[1;32m      1\u001b[0m \u001b[0mmodel\u001b[0m \u001b[0;34m=\u001b[0m \u001b[0mjoblib\u001b[0m\u001b[0;34m.\u001b[0m\u001b[0mload\u001b[0m\u001b[0;34m(\u001b[0m\u001b[0;34m'genre_classification_model.pkl'\u001b[0m\u001b[0;34m)\u001b[0m\u001b[0;34m\u001b[0m\u001b[0;34m\u001b[0m\u001b[0m\n\u001b[0;32m----> 2\u001b[0;31m \u001b[0mpredictions\u001b[0m \u001b[0;34m=\u001b[0m \u001b[0mmodel\u001b[0m\u001b[0;34m.\u001b[0m\u001b[0mpredict\u001b[0m\u001b[0;34m(\u001b[0m\u001b[0mX_test_tfidf_dense\u001b[0m\u001b[0;34m)\u001b[0m\u001b[0;34m\u001b[0m\u001b[0;34m\u001b[0m\u001b[0m\n\u001b[0m",
      "\u001b[0;32m/opt/conda/lib/python3.7/site-packages/keras/utils/traceback_utils.py\u001b[0m in \u001b[0;36merror_handler\u001b[0;34m(*args, **kwargs)\u001b[0m\n\u001b[1;32m     65\u001b[0m     \u001b[0;32mexcept\u001b[0m \u001b[0mException\u001b[0m \u001b[0;32mas\u001b[0m \u001b[0me\u001b[0m\u001b[0;34m:\u001b[0m  \u001b[0;31m# pylint: disable=broad-except\u001b[0m\u001b[0;34m\u001b[0m\u001b[0;34m\u001b[0m\u001b[0m\n\u001b[1;32m     66\u001b[0m       \u001b[0mfiltered_tb\u001b[0m \u001b[0;34m=\u001b[0m \u001b[0m_process_traceback_frames\u001b[0m\u001b[0;34m(\u001b[0m\u001b[0me\u001b[0m\u001b[0;34m.\u001b[0m\u001b[0m__traceback__\u001b[0m\u001b[0;34m)\u001b[0m\u001b[0;34m\u001b[0m\u001b[0;34m\u001b[0m\u001b[0m\n\u001b[0;32m---> 67\u001b[0;31m       \u001b[0;32mraise\u001b[0m \u001b[0me\u001b[0m\u001b[0;34m.\u001b[0m\u001b[0mwith_traceback\u001b[0m\u001b[0;34m(\u001b[0m\u001b[0mfiltered_tb\u001b[0m\u001b[0;34m)\u001b[0m \u001b[0;32mfrom\u001b[0m \u001b[0;32mNone\u001b[0m\u001b[0;34m\u001b[0m\u001b[0;34m\u001b[0m\u001b[0m\n\u001b[0m\u001b[1;32m     68\u001b[0m     \u001b[0;32mfinally\u001b[0m\u001b[0;34m:\u001b[0m\u001b[0;34m\u001b[0m\u001b[0;34m\u001b[0m\u001b[0m\n\u001b[1;32m     69\u001b[0m       \u001b[0;32mdel\u001b[0m \u001b[0mfiltered_tb\u001b[0m\u001b[0;34m\u001b[0m\u001b[0;34m\u001b[0m\u001b[0m\n",
      "\u001b[0;32m/opt/conda/lib/python3.7/site-packages/tensorflow/python/framework/func_graph.py\u001b[0m in \u001b[0;36mautograph_handler\u001b[0;34m(*args, **kwargs)\u001b[0m\n\u001b[1;32m   1127\u001b[0m           \u001b[0;32mexcept\u001b[0m \u001b[0mException\u001b[0m \u001b[0;32mas\u001b[0m \u001b[0me\u001b[0m\u001b[0;34m:\u001b[0m  \u001b[0;31m# pylint:disable=broad-except\u001b[0m\u001b[0;34m\u001b[0m\u001b[0;34m\u001b[0m\u001b[0m\n\u001b[1;32m   1128\u001b[0m             \u001b[0;32mif\u001b[0m \u001b[0mhasattr\u001b[0m\u001b[0;34m(\u001b[0m\u001b[0me\u001b[0m\u001b[0;34m,\u001b[0m \u001b[0;34m\"ag_error_metadata\"\u001b[0m\u001b[0;34m)\u001b[0m\u001b[0;34m:\u001b[0m\u001b[0;34m\u001b[0m\u001b[0;34m\u001b[0m\u001b[0m\n\u001b[0;32m-> 1129\u001b[0;31m               \u001b[0;32mraise\u001b[0m \u001b[0me\u001b[0m\u001b[0;34m.\u001b[0m\u001b[0mag_error_metadata\u001b[0m\u001b[0;34m.\u001b[0m\u001b[0mto_exception\u001b[0m\u001b[0;34m(\u001b[0m\u001b[0me\u001b[0m\u001b[0;34m)\u001b[0m\u001b[0;34m\u001b[0m\u001b[0;34m\u001b[0m\u001b[0m\n\u001b[0m\u001b[1;32m   1130\u001b[0m             \u001b[0;32melse\u001b[0m\u001b[0;34m:\u001b[0m\u001b[0;34m\u001b[0m\u001b[0;34m\u001b[0m\u001b[0m\n\u001b[1;32m   1131\u001b[0m               \u001b[0;32mraise\u001b[0m\u001b[0;34m\u001b[0m\u001b[0;34m\u001b[0m\u001b[0m\n",
      "\u001b[0;31mValueError\u001b[0m: in user code:\n\n    File \"/opt/conda/lib/python3.7/site-packages/keras/engine/training.py\", line 1621, in predict_function  *\n        return step_function(self, iterator)\n    File \"/opt/conda/lib/python3.7/site-packages/keras/engine/training.py\", line 1611, in step_function  **\n        outputs = model.distribute_strategy.run(run_step, args=(data,))\n    File \"/opt/conda/lib/python3.7/site-packages/keras/engine/training.py\", line 1604, in run_step  **\n        outputs = model.predict_step(data)\n    File \"/opt/conda/lib/python3.7/site-packages/keras/engine/training.py\", line 1572, in predict_step\n        return self(x, training=False)\n    File \"/opt/conda/lib/python3.7/site-packages/keras/utils/traceback_utils.py\", line 67, in error_handler\n        raise e.with_traceback(filtered_tb) from None\n    File \"/opt/conda/lib/python3.7/site-packages/keras/engine/input_spec.py\", line 263, in assert_input_compatibility\n        raise ValueError(f'Input {input_index} of layer \"{layer_name}\" is '\n\n    ValueError: Input 0 of layer \"sequential\" is incompatible with the layer: expected shape=(None, 38535), found shape=(None, 3)\n"
     ]
    }
   ],
   "source": [
    "model = joblib.load('genre_classification_model.pkl')\n",
    "predictions = model.predict(X_test_tfidf_dense)"
   ]
  },
  {
   "cell_type": "code",
   "execution_count": 56,
   "metadata": {},
   "outputs": [
    {
     "name": "stdout",
     "output_type": "stream",
     "text": [
      "[[0.03352571 0.02908668 0.00570163 0.01548341 0.14452443 0.01191309\n",
      "  0.01976424 0.11317524 0.01189968 0.01424578 0.00221133 0.00670961\n",
      "  0.02865753 0.00459221 0.01301509 0.01669392 0.00050601 0.01183796\n",
      "  0.0112859  0.0099487  0.00626937 0.13146031 0.0037066  0.00509277]]\n"
     ]
    }
   ],
   "source": [
    "import string\n",
    "import numpy as np\n",
    "from nltk.corpus import stopwords\n",
    "from nltk.stem import WordNetLemmatizer\n",
    "from sklearn.feature_extraction.text import TfidfVectorizer\n",
    "import joblib\n",
    "\n",
    "def predict_proba(text):\n",
    "    wordnet_lemmatizer = WordNetLemmatizer()\n",
    "    stop_words = set(stopwords.words('english'))\n",
    "    \n",
    "    # Convert text to lowercase\n",
    "    text = text.lower()\n",
    "    # Remove punctuation\n",
    "    text = ''.join([char for char in text if char not in string.punctuation])\n",
    "    # Remove stopwords\n",
    "    words = text.split()\n",
    "    text = ' '.join([word for word in words if word not in stop_words])\n",
    "    # Lemmatize words\n",
    "    text = ' '.join([wordnet_lemmatizer.lemmatize(word) for word in text.split()])    \n",
    "    \n",
    "    return text\n",
    "\n",
    "# Load the trained model and the vectorizer\n",
    "model = joblib.load('genre_classification_model.pkl')\n",
    "vect_tfidf = joblib.load('tfidf_vectorizer.pkl')\n",
    "\n",
    "# Example input text\n",
    "documents = [\"prueba dos y mas es de terror\"]\n",
    "\n",
    "# Transform the documents using the loaded vectorizer\n",
    "X_test_tfidf = vect_tfidf.transform(documents)\n",
    "\n",
    "# Convert the sparse matrix to dense format if required by the model\n",
    "X_test_tfidf_dense = X_test_tfidf.toarray()\n",
    "\n",
    "# Make predictions\n",
    "predictions = model.predict(X_test_tfidf_dense)\n",
    "print(predictions)\n"
   ]
  },
  {
   "cell_type": "code",
   "execution_count": 76,
   "metadata": {},
   "outputs": [
    {
     "data": {
      "text/plain": [
       "numpy.ndarray"
      ]
     },
     "execution_count": 76,
     "metadata": {},
     "output_type": "execute_result"
    }
   ],
   "source": [
    "type(predictions)"
   ]
  },
  {
   "cell_type": "code",
   "execution_count": 61,
   "metadata": {},
   "outputs": [
    {
     "ename": "ModuleNotFoundError",
     "evalue": "No module named 'flask_restx'",
     "output_type": "error",
     "traceback": [
      "\u001b[0;31m---------------------------------------------------------------------------\u001b[0m",
      "\u001b[0;31mModuleNotFoundError\u001b[0m                       Traceback (most recent call last)",
      "\u001b[0;32m<ipython-input-61-aeb47a50a8de>\u001b[0m in \u001b[0;36m<module>\u001b[0;34m\u001b[0m\n\u001b[1;32m      1\u001b[0m \u001b[0;32mfrom\u001b[0m \u001b[0mflask\u001b[0m \u001b[0;32mimport\u001b[0m \u001b[0mFlask\u001b[0m\u001b[0;34m,\u001b[0m \u001b[0mrequest\u001b[0m\u001b[0;34m\u001b[0m\u001b[0;34m\u001b[0m\u001b[0m\n\u001b[0;32m----> 2\u001b[0;31m \u001b[0;32mfrom\u001b[0m \u001b[0mflask_restx\u001b[0m \u001b[0;32mimport\u001b[0m \u001b[0mApi\u001b[0m\u001b[0;34m,\u001b[0m \u001b[0mResource\u001b[0m\u001b[0;34m,\u001b[0m \u001b[0mfields\u001b[0m\u001b[0;34m,\u001b[0m \u001b[0mreqparse\u001b[0m\u001b[0;34m\u001b[0m\u001b[0;34m\u001b[0m\u001b[0m\n\u001b[0m\u001b[1;32m      3\u001b[0m \u001b[0;32mimport\u001b[0m \u001b[0mjoblib\u001b[0m\u001b[0;34m\u001b[0m\u001b[0;34m\u001b[0m\u001b[0m\n\u001b[1;32m      4\u001b[0m \u001b[0;31m# from m09_model_deployment import predict_proba\u001b[0m\u001b[0;34m\u001b[0m\u001b[0;34m\u001b[0m\u001b[0;34m\u001b[0m\u001b[0m\n\u001b[1;32m      5\u001b[0m \u001b[0;32mfrom\u001b[0m \u001b[0mflask_cors\u001b[0m \u001b[0;32mimport\u001b[0m \u001b[0mCORS\u001b[0m\u001b[0;34m\u001b[0m\u001b[0;34m\u001b[0m\u001b[0m\n",
      "\u001b[0;31mModuleNotFoundError\u001b[0m: No module named 'flask_restx'"
     ]
    }
   ],
   "source": [
    "from flask import Flask, request\n",
    "from flask_restx import Api, Resource, fields, reqparse\n",
    "import joblib\n",
    "# from m09_model_deployment import predict_proba\n",
    "from flask_cors import CORS\n",
    "from werkzeug.datastructures import FileStorage\n",
    "import pandas as pd\n",
    "\n",
    "app = Flask(__name__)\n",
    "api = Api(\n",
    "    app, \n",
    "    version='1.0', \n",
    "    title='Car Price Prediction API',\n",
    "    description='Car Price Prediction API'\n",
    ")\n",
    "\n",
    "ns = api.namespace('predict', description='Car Price')\n",
    "\n",
    "# Definición de campos de respuesta\n",
    "resource_fields = api.model('Resource', {\n",
    "    'Prediccion_Precios_Carros': fields.List(fields.Float),\n",
    "})\n",
    "\n",
    "# Definición de argumentos para la API\n",
    "parser = reqparse.RequestParser()\n",
    "parser.add_argument('Year', type=int, required=True, help='Vehicle Year')\n",
    "parser.add_argument('Mileage', type=int, required=True, help='Vehicle Mileage')\n",
    "parser.add_argument('State', type=str, required=True, help='State of the vehicle')\n",
    "parser.add_argument('Make', type=str, required=True, help='Make of the vehicle')\n",
    "parser.add_argument('Model', type=str, required=True, help='Model of the vehicle')\n",
    "\n",
    "# Definición de la clase para la API\n",
    "@ns.route('/')\n",
    "class CarPriceApi(Resource):\n",
    "\n",
    "    @api.doc(parser=parser)\n",
    "    @api.marshal_with(resource_fields)\n",
    "    def post(self):\n",
    "        args = parser.parse_args()\n",
    "\n",
    "        # Llama a la función predict_price para realizar la predicción\n",
    "        prediction = predict_proba(args['Year'], args['Mileage'], args['State'], args['Make'], args['Model'])\n",
    "\n",
    "        # Devuelve el resultado como respuesta JSON\n",
    "        return {'Prediccion_Precios_Carros': [prediction]}, 200\n",
    "\n",
    "# Inicia el servidor Flask\n",
    "if __name__ == '__main__':\n",
    "    app.run(debug=True, use_reloader=False, host='0.0.0.0', port=5000)\n"
   ]
  },
  {
   "cell_type": "code",
   "execution_count": 71,
   "metadata": {},
   "outputs": [
    {
     "name": "stdout",
     "output_type": "stream",
     "text": [
      "Requirement already satisfied: flask in /opt/conda/lib/python3.7/site-packages (2.0.2)\n",
      "Requirement already satisfied: Jinja2>=3.0 in /opt/conda/lib/python3.7/site-packages (from flask) (3.0.3)\n",
      "Requirement already satisfied: click>=7.1.2 in /opt/conda/lib/python3.7/site-packages (from flask) (7.1.2)\n",
      "Requirement already satisfied: itsdangerous>=2.0 in /opt/conda/lib/python3.7/site-packages (from flask) (2.0.1)\n",
      "Requirement already satisfied: Werkzeug>=2.0 in /opt/conda/lib/python3.7/site-packages (from flask) (2.0.2)\n",
      "Requirement already satisfied: MarkupSafe>=2.0 in /opt/conda/lib/python3.7/site-packages (from Jinja2>=3.0->flask) (2.0.1)\n",
      "Note: you may need to restart the kernel to use updated packages.\n"
     ]
    }
   ],
   "source": [
    "pip install flask"
   ]
  },
  {
   "cell_type": "code",
   "execution_count": 75,
   "metadata": {},
   "outputs": [
    {
     "name": "stdout",
     "output_type": "stream",
     "text": [
      "\u001b[33mWARNING: Retrying (Retry(total=4, connect=None, read=None, redirect=None, status=None)) after connection broken by 'ProtocolError('Connection aborted.', OSError(0, 'Error'))': /simple/flask-restx/\u001b[0m\n",
      "\u001b[33mWARNING: Retrying (Retry(total=3, connect=None, read=None, redirect=None, status=None)) after connection broken by 'ProtocolError('Connection aborted.', OSError(0, 'Error'))': /simple/flask-restx/\u001b[0m\n",
      "\u001b[33mWARNING: Retrying (Retry(total=2, connect=None, read=None, redirect=None, status=None)) after connection broken by 'ProtocolError('Connection aborted.', OSError(0, 'Error'))': /simple/flask-restx/\u001b[0m\n",
      "\u001b[33mWARNING: Retrying (Retry(total=1, connect=None, read=None, redirect=None, status=None)) after connection broken by 'ProtocolError('Connection aborted.', OSError(0, 'Error'))': /simple/flask-restx/\u001b[0m\n",
      "\u001b[33mWARNING: Retrying (Retry(total=0, connect=None, read=None, redirect=None, status=None)) after connection broken by 'ProtocolError('Connection aborted.', OSError(0, 'Error'))': /simple/flask-restx/\u001b[0m\n",
      "\u001b[31mERROR: Could not find a version that satisfies the requirement flask_restx (from versions: none)\u001b[0m\n",
      "\u001b[31mERROR: No matching distribution found for flask_restx\u001b[0m\n",
      "Note: you may need to restart the kernel to use updated packages.\n"
     ]
    }
   ],
   "source": [
    "pip install flask_restx --index-url https://pypi.org/simple\n"
   ]
  },
  {
   "cell_type": "code",
   "execution_count": 66,
   "metadata": {},
   "outputs": [
    {
     "name": "stdout",
     "output_type": "stream",
     "text": [
      "Package                      Version\n",
      "---------------------------- -------------------\n",
      "absl-py                      1.0.0\n",
      "alembic                      1.4.2\n",
      "aniso8601                    9.0.1\n",
      "astunparse                   1.6.3\n",
      "async-generator              1.10\n",
      "attrs                        19.3.0\n",
      "backcall                     0.1.0\n",
      "beautifulsoup4               4.9.0\n",
      "bleach                       3.1.4\n",
      "blinker                      1.4\n",
      "bokeh                        2.0.1\n",
      "Bottleneck                   1.3.2\n",
      "brotlipy                     0.7.0\n",
      "cachetools                   4.2.4\n",
      "certifi                      2020.4.5.1\n",
      "certipy                      0.1.3\n",
      "cffi                         1.14.0\n",
      "chardet                      3.0.4\n",
      "click                        7.1.2\n",
      "cloudpickle                  1.4.1\n",
      "conda                        4.8.2\n",
      "conda-package-handling       1.6.0\n",
      "cryptography                 2.9.2\n",
      "cycler                       0.10.0\n",
      "Cython                       0.29.17\n",
      "cytoolz                      0.10.1\n",
      "dask                         2.15.0\n",
      "decorator                    4.4.2\n",
      "defusedxml                   0.6.0\n",
      "dill                         0.3.1.1\n",
      "distributed                  2.15.2\n",
      "entrypoints                  0.3\n",
      "fastcache                    1.1.0\n",
      "Flask                        2.0.2\n",
      "flask-restplus               0.13.0\n",
      "flatbuffers                  2.0\n",
      "fsspec                       0.7.3\n",
      "gast                         0.4.0\n",
      "gmpy2                        2.1.0b1\n",
      "google-auth                  2.3.3\n",
      "google-auth-oauthlib         0.4.6\n",
      "google-pasta                 0.2.0\n",
      "grpcio                       1.43.0\n",
      "h5py                         2.10.0\n",
      "HeapDict                     1.0.1\n",
      "idna                         2.9\n",
      "imageio                      2.8.0\n",
      "importlib-metadata           4.10.1\n",
      "ipykernel                    5.2.1\n",
      "ipympl                       0.5.6\n",
      "ipython                      7.14.0\n",
      "ipython-genutils             0.2.0\n",
      "ipywidgets                   7.5.1\n",
      "itsdangerous                 2.0.1\n",
      "jedi                         0.17.0\n",
      "Jinja2                       3.0.3\n",
      "joblib                       0.14.1\n",
      "json5                        0.9.0\n",
      "jsonschema                   3.2.0\n",
      "jupyter-client               6.1.3\n",
      "jupyter-core                 4.6.3\n",
      "jupyter-telemetry            0.0.5\n",
      "jupyterhub                   1.1.0\n",
      "jupyterlab                   2.1.1\n",
      "jupyterlab-server            1.1.1\n",
      "keras                        2.7.0\n",
      "Keras-Preprocessing          1.1.2\n",
      "kiwisolver                   1.2.0\n",
      "libclang                     12.0.0\n",
      "livelossplot                 0.5.4\n",
      "llvmlite                     0.31.0\n",
      "locket                       0.2.0\n",
      "Mako                         1.1.0\n",
      "Markdown                     3.3.6\n",
      "MarkupSafe                   2.0.1\n",
      "matplotlib                   3.2.1\n",
      "mistune                      0.8.4\n",
      "mock                         4.0.2\n",
      "mpmath                       1.1.0\n",
      "msgpack                      1.0.0\n",
      "nbconvert                    5.6.1\n",
      "nbformat                     5.0.6\n",
      "networkx                     2.4\n",
      "nltk                         3.6.7\n",
      "notebook                     6.0.3\n",
      "numba                        0.48.0\n",
      "numexpr                      2.7.1\n",
      "numpy                        1.18.4\n",
      "oauthlib                     3.0.1\n",
      "olefile                      0.46\n",
      "opt-einsum                   3.3.0\n",
      "packaging                    20.1\n",
      "pamela                       1.0.0\n",
      "pandas                       1.0.3\n",
      "pandocfilters                1.4.2\n",
      "parso                        0.7.0\n",
      "partd                        1.1.0\n",
      "patsy                        0.5.1\n",
      "pexpect                      4.8.0\n",
      "pickleshare                  0.7.5\n",
      "Pillow                       7.1.2\n",
      "pip                          21.3.1\n",
      "prometheus-client            0.7.1\n",
      "prompt-toolkit               3.0.5\n",
      "protobuf                     3.11.4\n",
      "psutil                       5.7.0\n",
      "ptyprocess                   0.6.0\n",
      "pyasn1                       0.4.8\n",
      "pyasn1-modules               0.2.8\n",
      "pycosat                      0.6.3\n",
      "pycparser                    2.20\n",
      "pycurl                       7.43.0.5\n",
      "Pygments                     2.6.1\n",
      "PyJWT                        1.7.1\n",
      "pyOpenSSL                    19.1.0\n",
      "pyparsing                    2.4.7\n",
      "pyrsistent                   0.16.0\n",
      "PySocks                      1.7.1\n",
      "python-dateutil              2.8.1\n",
      "python-editor                1.0.4\n",
      "python-json-logger           0.1.11\n",
      "pytz                         2020.1\n",
      "PyWavelets                   1.1.1\n",
      "PyYAML                       5.3.1\n",
      "pyzmq                        19.0.0\n",
      "regex                        2022.1.18\n",
      "requests                     2.23.0\n",
      "requests-oauthlib            1.3.0\n",
      "rsa                          4.8\n",
      "ruamel.yaml                  0.16.6\n",
      "ruamel-yaml                  0.15.80\n",
      "ruamel.yaml.clib             0.2.0\n",
      "scikit-image                 0.16.2\n",
      "scikit-learn                 0.22.2.post1\n",
      "scipy                        1.4.1\n",
      "seaborn                      0.10.1\n",
      "Send2Trash                   1.5.0\n",
      "setuptools                   46.1.3.post20200325\n",
      "six                          1.14.0\n",
      "sortedcontainers             2.1.0\n",
      "soupsieve                    1.9.4\n",
      "SQLAlchemy                   1.3.16\n",
      "statsmodels                  0.11.1\n",
      "sympy                        1.5.1\n",
      "tables                       3.6.1\n",
      "tblib                        1.6.0\n",
      "tensorboard                  2.8.0\n",
      "tensorboard-data-server      0.6.1\n",
      "tensorboard-plugin-wit       1.8.1\n",
      "tensorflow                   2.7.0\n",
      "tensorflow-estimator         2.7.0\n",
      "tensorflow-hub               0.12.0\n",
      "tensorflow-io-gcs-filesystem 0.23.1\n",
      "termcolor                    1.1.0\n",
      "terminado                    0.8.3\n",
      "testpath                     0.4.4\n",
      "toolz                        0.10.0\n",
      "tornado                      6.0.4\n",
      "tqdm                         4.45.0\n",
      "traitlets                    4.3.3\n",
      "typing-extensions            3.7.4.2\n",
      "urllib3                      1.25.9\n",
      "vincent                      0.4.4\n",
      "wcwidth                      0.1.9\n",
      "webencodings                 0.5.1\n",
      "Werkzeug                     2.0.2\n",
      "wheel                        0.34.2\n",
      "widgetsnbextension           3.5.1\n",
      "wrapt                        1.13.3\n",
      "xgboost                      1.5.2\n",
      "xlrd                         1.2.0\n",
      "zict                         2.0.0\n",
      "zipp                         3.1.0\n",
      "Note: you may need to restart the kernel to use updated packages.\n"
     ]
    }
   ],
   "source": [
    "pip list"
   ]
  },
  {
   "cell_type": "code",
   "execution_count": null,
   "metadata": {},
   "outputs": [],
   "source": []
  }
 ],
 "metadata": {
  "kernelspec": {
   "display_name": "Python 3",
   "language": "python",
   "name": "python3"
  },
  "language_info": {
   "codemirror_mode": {
    "name": "ipython",
    "version": 3
   },
   "file_extension": ".py",
   "mimetype": "text/x-python",
   "name": "python",
   "nbconvert_exporter": "python",
   "pygments_lexer": "ipython3",
   "version": "3.7.6"
  }
 },
 "nbformat": 4,
 "nbformat_minor": 2
}
