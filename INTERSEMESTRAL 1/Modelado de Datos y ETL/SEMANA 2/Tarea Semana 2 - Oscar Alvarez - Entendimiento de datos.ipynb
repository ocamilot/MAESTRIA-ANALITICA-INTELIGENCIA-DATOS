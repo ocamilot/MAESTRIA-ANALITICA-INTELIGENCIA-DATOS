{
 "cells": [
  {
   "cell_type": "markdown",
   "metadata": {
    "id": "YLE3Y7VOPn3G"
   },
   "source": [
    "# Tarea semana 2: Entendimiento de los datos con PySpark"
   ]
  },
  {
   "cell_type": "markdown",
   "metadata": {
    "id": "dm33nuYTPn3L"
   },
   "source": [
    "## Configuración e importe de paquetes"
   ]
  },
  {
   "cell_type": "code",
   "execution_count": 23,
   "metadata": {
    "id": "gGiDdRBNPn3M"
   },
   "outputs": [],
   "source": [
    "from pyspark.sql import SparkSession\n",
    "from pyspark.sql import functions\n",
    "from pyspark.sql.types import StructType\n",
    "from pyspark import SparkContext, SparkConf, SQLContext\n",
    "from pyspark.sql.types import FloatType, StringType, IntegerType, DateType\n",
    "from pyspark.sql.functions import udf, col, length, isnan, when, count, to_date, year, max as spark_max, min as spark_min, sum as spark_sum\n",
    "import pyspark.sql.functions as f\n",
    "import os \n",
    "from datetime import datetime\n",
    "from pyspark.sql import types as t\n",
    "from pandas_profiling import ProfileReport\n",
    "import matplotlib.pyplot as plt\n",
    "import numpy as np\n",
    "import pandas as pd"
   ]
  },
  {
   "cell_type": "markdown",
   "metadata": {
    "id": "Tyk0YmZRPn3N"
   },
   "source": [
    "Configuración del controlador e inicio de sesion Spark"
   ]
  },
  {
   "cell_type": "code",
   "execution_count": 2,
   "metadata": {
    "id": "0r-yix1rPn3O"
   },
   "outputs": [],
   "source": [
    "path_jar_driver = 'C:\\Program Files (x86)\\MySQL\\Connector J 8.0\\mysql-connector-java-8.0.28.jar'"
   ]
  },
  {
   "cell_type": "code",
   "execution_count": 3,
   "metadata": {
    "id": "0-m3Q2MtPn3O",
    "outputId": "459f0ec2-9a36-4a36-edac-427852524d95"
   },
   "outputs": [
    {
     "name": "stderr",
     "output_type": "stream",
     "text": [
      "C:\\Users\\estudiante\\anaconda3\\envs\\Tutoriales\\lib\\site-packages\\pyspark\\sql\\context.py:79: FutureWarning: Deprecated in 3.0.0. Use SparkSession.builder.getOrCreate() instead.\n",
      "  FutureWarning\n"
     ]
    }
   ],
   "source": [
    "#Configuración de la sesión\n",
    "conf=SparkConf() \\\n",
    "    .set('spark.driver.extraClassPath', path_jar_driver)\n",
    "\n",
    "spark_context = SparkContext(conf=conf)\n",
    "sql_context = SQLContext(spark_context)\n",
    "spark = sql_context.sparkSession"
   ]
  },
  {
   "cell_type": "code",
   "execution_count": 4,
   "metadata": {
    "id": "0eQw66SIPn3P"
   },
   "outputs": [],
   "source": [
    "# Si quiere practicar la conexion con el servidor de base de datos:\n",
    "db_connection_string = 'jdbc:mysql://157.253.236.120:8080/WWImportersTransactional'\n",
    "# El usuario es su estudiante _i asignado y su contraseña la encontrará en el archivo excel de Coursera \n",
    "db_user = 'Estudiante_1_202413'\n",
    "db_psswd = 'aabb1122'\n",
    "\n",
    "PATH='./'"
   ]
  },
  {
   "cell_type": "markdown",
   "metadata": {
    "id": "P1nkSAn5Pn3Q"
   },
   "source": [
    "## Perfilamiento de los datos"
   ]
  },
  {
   "cell_type": "markdown",
   "metadata": {
    "id": "LKHpN3nzPn3R"
   },
   "source": [
    "#### Conexión a fuente de datos"
   ]
  },
  {
   "cell_type": "code",
   "execution_count": 5,
   "metadata": {
    "id": "SsdwInchPn3R"
   },
   "outputs": [],
   "source": [
    "def obtener_dataframe_de_bd(db_connection_string, sql, db_user, db_psswd):\n",
    "    df_bd = spark.read.format('jdbc')\\\n",
    "        .option('url', db_connection_string) \\\n",
    "        .option('dbtable', sql) \\\n",
    "        .option('user', db_user) \\\n",
    "        .option('password', db_psswd) \\\n",
    "        .option('driver', 'com.mysql.cj.jdbc.Driver') \\\n",
    "        .load()\n",
    "    return df_bd"
   ]
  },
  {
   "cell_type": "markdown",
   "metadata": {
    "id": "3HZloEq5Pn3S"
   },
   "source": [
    "#### Cargue de datos"
   ]
  },
  {
   "cell_type": "code",
   "execution_count": 6,
   "metadata": {
    "id": "xMaQViPnPn3S"
   },
   "outputs": [],
   "source": [
    "sql_movimientos = 'WWImportersTransactional.movimientosCopia'"
   ]
  },
  {
   "cell_type": "code",
   "execution_count": 7,
   "metadata": {
    "id": "Ajy_XMshPn3T"
   },
   "outputs": [],
   "source": [
    "#Se cargan los dataframes desde la base de datos\n",
    "movimientos = obtener_dataframe_de_bd(db_connection_string, sql_movimientos, db_user, db_psswd)"
   ]
  },
  {
   "cell_type": "markdown",
   "metadata": {
    "id": "qxN27II0Pn3T"
   },
   "source": [
    "### Entendimiento general de datos"
   ]
  },
  {
   "cell_type": "code",
   "execution_count": 8,
   "metadata": {
    "id": "HtrqSl0zPn3T",
    "outputId": "c20c03fc-68d4-4d2e-eb8f-91a06cdd3174"
   },
   "outputs": [
    {
     "name": "stdout",
     "output_type": "stream",
     "text": [
      "+---------------------+----------+-----------------+---------+---------+-----------+---------------+----------------+--------+\n",
      "|TransaccionProductoID|ProductoID|TipoTransaccionID|ClienteID|InvoiceID|ProveedorID|OrdenDeCompraID|FechaTransaccion|Cantidad|\n",
      "+---------------------+----------+-----------------+---------+---------+-----------+---------------+----------------+--------+\n",
      "|               118903|       217|               10|    476.0|  24904.0|           |               |     Apr 25,2014|   -40.0|\n",
      "|               286890|       135|               10|     33.0|  60117.0|           |               |     Dec 10,2015|    -7.0|\n",
      "|               285233|       111|               10|    180.0|  59768.0|           |               |     Dec 04,2015|    -2.0|\n",
      "|               290145|       213|               10|     33.0|  60795.0|           |               |     Dec 23,2015|    -3.0|\n",
      "|               247492|        90|               10|     55.0|  51851.0|           |               |     Jul 27,2015|   -24.0|\n",
      "+---------------------+----------+-----------------+---------+---------+-----------+---------------+----------------+--------+\n",
      "only showing top 5 rows\n",
      "\n"
     ]
    }
   ],
   "source": [
    "movimientos.show(5)"
   ]
  },
  {
   "cell_type": "markdown",
   "metadata": {
    "id": "Q_aZvenTPn3U"
   },
   "source": [
    "Como puede observar en la tabla de movimientos tenemos información **relacionada con el movimiento de inventario de un producto, ya sea por que un cliente lo compro o se le compro a un proveedor**. La información del cliente es su identificador <i>ClienteID</i>, la informacion del proveedor es su identificador <i>ProveedorID</i>, el identificador de la transaccion es <i>TransaccionProductoID</i>, el identificador del producto es <i>ProductoID</i>, el tipo de transaccion es <i>TipoTransaccionID</i>, el identificador de la factura es <i>InvoiceID</i>, el numero de orden de compra es <i>OrdenDeCompraID</i>, le fecha en la que se realizo el movimiento es <i>FechaTransaccion</i> y la cantidad de producto retirado o ingresado al inventario es <i>Cantidad</i>.\n",
    "A continuacion observaremos los tipos de datos para cada variable."
   ]
  },
  {
   "cell_type": "code",
   "execution_count": 9,
   "metadata": {
    "id": "lLV_ItLhPn3U",
    "outputId": "db9438a4-0a6d-4809-ea99-752add60ad64"
   },
   "outputs": [
    {
     "data": {
      "text/plain": [
       "StructType(List(StructField(TransaccionProductoID,IntegerType,true),StructField(ProductoID,IntegerType,true),StructField(TipoTransaccionID,IntegerType,true),StructField(ClienteID,DoubleType,true),StructField(InvoiceID,DoubleType,true),StructField(ProveedorID,StringType,true),StructField(OrdenDeCompraID,StringType,true),StructField(FechaTransaccion,StringType,true),StructField(Cantidad,DoubleType,true)))"
      ]
     },
     "execution_count": 9,
     "metadata": {},
     "output_type": "execute_result"
    }
   ],
   "source": [
    "movimientos.schema"
   ]
  },
  {
   "cell_type": "markdown",
   "metadata": {
    "id": "GJDrzRVHPn3V"
   },
   "source": [
    "Con estos análisis podemos concluir que una fila de movimientos corresponde al ingreso o salida de inventario de un producto especifico identificado por su ProductoID. El ingreso de inventario estara asociado con la compra de inventario a un proveedor, mientras que la salida de inventario estara asociada con le venta de inventario a un cliente."
   ]
  },
  {
   "cell_type": "markdown",
   "metadata": {
    "id": "uw09BODdPn3V"
   },
   "source": [
    "Ahora vamos vañidar la cantidad de datos disponibles."
   ]
  },
  {
   "cell_type": "code",
   "execution_count": 10,
   "metadata": {
    "id": "g0Lvl535Pn3V",
    "outputId": "6fb3f30d-2179-4d50-ddd5-4880e28673d8"
   },
   "outputs": [
    {
     "name": "stdout",
     "output_type": "stream",
     "text": [
      "(204292, 9)\n"
     ]
    }
   ],
   "source": [
    "print((movimientos.count(), len(movimientos.columns)))"
   ]
  },
  {
   "cell_type": "markdown",
   "metadata": {
    "id": "kqwEyUFpPn3V"
   },
   "source": [
    "**¿Cuantos datos nos compartieron para el proyecto?**\n",
    "En total tenemos 204.292 movimientos de inventario y tenemos en total 9 variables a revisar de las cuales 6 son nùmericas asociadas a las órdenes, una es de tipo fecha y las demás son cadenas de caracteres. Es importante considerar que el ID deProveedor se definio como texto."
   ]
  },
  {
   "cell_type": "markdown",
   "metadata": {
    "id": "GnAScmClPn3W"
   },
   "source": [
    "### Revisión de reglas de negocio \n",
    "\n",
    "Primero se confirman las reglas proporcionadas por el negocio:\n",
    "1. La cantidad máxima de productos movidos es 50 millones por transacción. Esta regla no se cumple ya que como se oberva al filtrar por la columna Cantidad valores que sean mayores a 50 millones, no se obtienen resultados. Como podemos evidenciar el maximo valor de la columna Cantidad es de 67368 (valores positivos asociados a ingreso de inventario) y el minimo valor es de -360 (valores negativos asociados a retiro de inventario)."
   ]
  },
  {
   "cell_type": "code",
   "execution_count": 28,
   "metadata": {
    "id": "ssjlV5xbPn3W",
    "outputId": "2ab69e67-fcc0-42c0-bf32-425d65c5118b"
   },
   "outputs": [
    {
     "name": "stdout",
     "output_type": "stream",
     "text": [
      "+---------------------+----------+-----------------+---------+---------+-----------+---------------+----------------+--------+\n",
      "|TransaccionProductoID|ProductoID|TipoTransaccionID|ClienteID|InvoiceID|ProveedorID|OrdenDeCompraID|FechaTransaccion|Cantidad|\n",
      "+---------------------+----------+-----------------+---------+---------+-----------+---------------+----------------+--------+\n",
      "+---------------------+----------+-----------------+---------+---------+-----------+---------------+----------------+--------+\n",
      "\n",
      "+------------+------------+\n",
      "|max_Cantidad|min_Cantidad|\n",
      "+------------+------------+\n",
      "|     67368.0|      -360.0|\n",
      "+------------+------------+\n",
      "\n"
     ]
    }
   ],
   "source": [
    "cantidad_filtrada = movimientos.filter(col(\"Cantidad\") >= 50000000)\n",
    "# Mostrar las filas filtradas\n",
    "cantidad_filtrada.show()\n",
    "\n",
    "movimientos.agg(\n",
    "    spark_max(col(\"Cantidad\")).alias(\"max_Cantidad\"),\n",
    "    spark_min(col(\"Cantidad\")).alias(\"min_Cantidad\")\n",
    ").show()\n"
   ]
  },
  {
   "cell_type": "markdown",
   "metadata": {},
   "source": [
    "Adicionalmente suponiendo que pueda existir transacciones con ID repetido, representando un mismo movimiento se agrupa por TransaccionProductoID y se calcula la suma de la columna cantidad. Como se observ, agrupando por TransaccionProductoID el valor maximo de movimientos de entrada es de 133.392 mientras que el valor maximo de movimientos de salida es de -720, valores por debajo de 50 millones por transaccion."
   ]
  },
  {
   "cell_type": "code",
   "execution_count": 33,
   "metadata": {},
   "outputs": [
    {
     "name": "stdout",
     "output_type": "stream",
     "text": [
      "+------------+------------+\n",
      "|max_Cantidad|min_Cantidad|\n",
      "+------------+------------+\n",
      "|    133392.0|      -720.0|\n",
      "+------------+------------+\n",
      "\n"
     ]
    }
   ],
   "source": [
    "aggupacion_transaccion = movimientos.groupBy(\"TransaccionProductoID\").agg(\n",
    "    spark_sum(\"Cantidad\").alias(\"Total_Cantidad\"))\n",
    "\n",
    "aggupacion_transaccion.agg(\n",
    "    spark_max(col(\"Total_Cantidad\")).alias(\"max_Cantidad\"),\n",
    "    spark_min(col(\"Total_Cantidad\")).alias(\"min_Cantidad\")\n",
    ").show()\n",
    "\n"
   ]
  },
  {
   "cell_type": "markdown",
   "metadata": {
    "id": "1kH3BhCgPn3X"
   },
   "source": [
    "2. Existen 236.668 movimientos de producto realizados desde 2013. Ya que solamente hay 204.292 movimientos en total, esta afirmacion del negocio es falsa, ya queaun filtrando desde el año 2013, el maximo numero de movimientos que podriamos tener es de 204.292."
   ]
  },
  {
   "cell_type": "code",
   "execution_count": 13,
   "metadata": {
    "id": "MTV-XifxPn3X",
    "outputId": "6406990d-b30b-4e99-828a-bacbd587c951"
   },
   "outputs": [
    {
     "data": {
      "text/plain": [
       "204292"
      ]
     },
     "execution_count": 13,
     "metadata": {},
     "output_type": "execute_result"
    }
   ],
   "source": [
    "movimientos.count()"
   ]
  },
  {
   "cell_type": "markdown",
   "metadata": {},
   "source": [
    "3. Los movimientos están relacionados con 228.265 clientes. Esta afirmacion es falsa ya que solamente hay 204.292 movimientos en total, y aunque cada movimiento fuera realizado por un unico cliente, maximo podrian existir 204.292 clientes. En realidad solamente hay 664 clientes unicos en la tabla de movimientos identificados por el ClienteID."
   ]
  },
  {
   "cell_type": "code",
   "execution_count": 14,
   "metadata": {},
   "outputs": [
    {
     "data": {
      "text/plain": [
       "664"
      ]
     },
     "execution_count": 14,
     "metadata": {},
     "output_type": "execute_result"
    }
   ],
   "source": [
    "movimientos.select(col(\"ClienteID\")).distinct().count()"
   ]
  },
  {
   "cell_type": "markdown",
   "metadata": {},
   "source": [
    "4. El formato de fechas manejado es YYYY-MM-DD HH:MM:SS. Esta afirmacion del negocio es falsa, ya que se puede observar que solamente hay 140.038 movimientos cuya fecha maneja el formato YYYY-MM-DD HH:MM:SS. Quedan 64.254 movimientos que el formato de fecha no es YYYY-MM-DD HH:MM:SS. "
   ]
  },
  {
   "cell_type": "code",
   "execution_count": 15,
   "metadata": {},
   "outputs": [
    {
     "name": "stdout",
     "output_type": "stream",
     "text": [
      "Número total de ordenes: 204292, número de ordenes con formato correcto: 140038\n"
     ]
    }
   ],
   "source": [
    "regex = \"[0-2]\\d{3}-(0[1-9]|1[0-2])-(0[1-9]|[1-2][0-9]|3[0-1])\"\n",
    "cumplenFormato = movimientos.filter(movimientos[\"FechaTransaccion\"].rlike(regex))\n",
    "print(\"Número total de ordenes: \"+str(movimientos.count())+\", número de ordenes con formato correcto: \"+str(cumplenFormato.count()))"
   ]
  },
  {
   "cell_type": "code",
   "execution_count": 16,
   "metadata": {},
   "outputs": [
    {
     "name": "stdout",
     "output_type": "stream",
     "text": [
      "+----------------+\n",
      "|FechaTransaccion|\n",
      "+----------------+\n",
      "|     Apr 25,2014|\n",
      "|     Dec 10,2015|\n",
      "|     Dec 04,2015|\n",
      "|     Dec 23,2015|\n",
      "|     Jul 27,2015|\n",
      "|     Sep 15,2014|\n",
      "|     Aug 04,2015|\n",
      "|     Feb 23,2015|\n",
      "|     May 01,2015|\n",
      "|     Jan 08,2016|\n",
      "|     Mar 26,2014|\n",
      "|     Jul 31,2015|\n",
      "|     Sep 02,2014|\n",
      "|     Mar 15,2016|\n",
      "|     May 28,2016|\n",
      "|     Sep 09,2015|\n",
      "|     May 23,2014|\n",
      "|     Aug 20,2014|\n",
      "|     Jan 21,2015|\n",
      "|     Dec 29,2015|\n",
      "+----------------+\n",
      "only showing top 20 rows\n",
      "\n"
     ]
    },
    {
     "data": {
      "text/plain": [
       "(64254, None)"
      ]
     },
     "execution_count": 16,
     "metadata": {},
     "output_type": "execute_result"
    }
   ],
   "source": [
    "noCumplenFormato = movimientos.filter(~movimientos[\"FechaTransaccion\"].rlike(regex))\n",
    "noCumplenFormato.count(), noCumplenFormato.select(col(\"FechaTransaccion\")).show()"
   ]
  },
  {
   "cell_type": "markdown",
   "metadata": {},
   "source": [
    "5. Actualmente tenemos 13 proveedores. Esta afirmacion del negocioes falsa pues solo se observan movimientos con tres proveedores (ProvedoID 1, 4 y 7). Aunque en la tabla a continuacin se observa un registro vacio, este corresponde a los movimientos de clientes para los cuales el valor de ProveedorID no existe."
   ]
  },
  {
   "cell_type": "code",
   "execution_count": 17,
   "metadata": {},
   "outputs": [
    {
     "name": "stdout",
     "output_type": "stream",
     "text": [
      "4\n",
      "+-----------+\n",
      "|ProveedorID|\n",
      "+-----------+\n",
      "|        1.0|\n",
      "|        4.0|\n",
      "|        7.0|\n",
      "|           |\n",
      "+-----------+\n",
      "\n"
     ]
    }
   ],
   "source": [
    "print(movimientos.select(col(\"ProveedorID\")).distinct().count())\n",
    "movimientos.select(col(\"ProveedorID\")).distinct().show()"
   ]
  },
  {
   "cell_type": "markdown",
   "metadata": {
    "id": "UuZspay3Pn3Z"
   },
   "source": [
    "### Análisis descriptivo"
   ]
  },
  {
   "cell_type": "code",
   "execution_count": null,
   "metadata": {
    "id": "TkWrIdDhPn3Z",
    "outputId": "7d37ef91-452e-49d9-8282-f1676c2b5ea9"
   },
   "outputs": [
    {
     "data": {
      "text/html": [
       "<div>\n",
       "<style scoped>\n",
       "    .dataframe tbody tr th:only-of-type {\n",
       "        vertical-align: middle;\n",
       "    }\n",
       "\n",
       "    .dataframe tbody tr th {\n",
       "        vertical-align: top;\n",
       "    }\n",
       "\n",
       "    .dataframe thead th {\n",
       "        text-align: right;\n",
       "    }\n",
       "</style>\n",
       "<table border=\"1\" class=\"dataframe\">\n",
       "  <thead>\n",
       "    <tr style=\"text-align: right;\">\n",
       "      <th></th>\n",
       "      <th>summary</th>\n",
       "      <th>TransaccionProductoID</th>\n",
       "      <th>ProductoID</th>\n",
       "      <th>TipoTransaccionID</th>\n",
       "      <th>ClienteID</th>\n",
       "      <th>InvoiceID</th>\n",
       "      <th>ProveedorID</th>\n",
       "      <th>OrdenDeCompraID</th>\n",
       "      <th>FechaTransaccion</th>\n",
       "      <th>Cantidad</th>\n",
       "    </tr>\n",
       "  </thead>\n",
       "  <tbody>\n",
       "    <tr>\n",
       "      <th>0</th>\n",
       "      <td>count</td>\n",
       "      <td>204292</td>\n",
       "      <td>204292</td>\n",
       "      <td>204292</td>\n",
       "      <td>204292</td>\n",
       "      <td>204292</td>\n",
       "      <td>204292</td>\n",
       "      <td>204292</td>\n",
       "      <td>204292</td>\n",
       "      <td>204292</td>\n",
       "    </tr>\n",
       "    <tr>\n",
       "      <th>1</th>\n",
       "      <td>mean</td>\n",
       "      <td>212458.04047637695</td>\n",
       "      <td>110.70090850351458</td>\n",
       "      <td>10.035253460732676</td>\n",
       "      <td>517.3252941867523</td>\n",
       "      <td>42957.26929590978</td>\n",
       "      <td>4.951898734177215</td>\n",
       "      <td>1345.9973277074544</td>\n",
       "      <td>None</td>\n",
       "      <td>719.4997650421946</td>\n",
       "    </tr>\n",
       "    <tr>\n",
       "      <th>2</th>\n",
       "      <td>stddev</td>\n",
       "      <td>71352.37579752573</td>\n",
       "      <td>63.49014746219581</td>\n",
       "      <td>0.18563716955046372</td>\n",
       "      <td>353.50136995999276</td>\n",
       "      <td>16826.9772221931</td>\n",
       "      <td>1.406311225432683</td>\n",
       "      <td>420.37740964792835</td>\n",
       "      <td>None</td>\n",
       "      <td>4729.36659747762</td>\n",
       "    </tr>\n",
       "    <tr>\n",
       "      <th>3</th>\n",
       "      <td>min</td>\n",
       "      <td>89146</td>\n",
       "      <td>1</td>\n",
       "      <td>10</td>\n",
       "      <td>0.0</td>\n",
       "      <td>0.0</td>\n",
       "      <td></td>\n",
       "      <td></td>\n",
       "      <td>2013-12-31 07:00:00.0000000</td>\n",
       "      <td>-360.0</td>\n",
       "    </tr>\n",
       "    <tr>\n",
       "      <th>4</th>\n",
       "      <td>25%</td>\n",
       "      <td>150639</td>\n",
       "      <td>56</td>\n",
       "      <td>10</td>\n",
       "      <td>145.0</td>\n",
       "      <td>30120.0</td>\n",
       "      <td>4.0</td>\n",
       "      <td>986.0</td>\n",
       "      <td>None</td>\n",
       "      <td>-60.0</td>\n",
       "    </tr>\n",
       "    <tr>\n",
       "      <th>5</th>\n",
       "      <td>50%</td>\n",
       "      <td>212323</td>\n",
       "      <td>110</td>\n",
       "      <td>10</td>\n",
       "      <td>511.0</td>\n",
       "      <td>43546.0</td>\n",
       "      <td>4.0</td>\n",
       "      <td>1347.0</td>\n",
       "      <td>None</td>\n",
       "      <td>-9.0</td>\n",
       "    </tr>\n",
       "    <tr>\n",
       "      <th>6</th>\n",
       "      <td>75%</td>\n",
       "      <td>274216</td>\n",
       "      <td>166</td>\n",
       "      <td>10</td>\n",
       "      <td>877.0</td>\n",
       "      <td>56983.0</td>\n",
       "      <td>7.0</td>\n",
       "      <td>1710.0</td>\n",
       "      <td>None</td>\n",
       "      <td>-5.0</td>\n",
       "    </tr>\n",
       "    <tr>\n",
       "      <th>7</th>\n",
       "      <td>max</td>\n",
       "      <td>336251</td>\n",
       "      <td>227</td>\n",
       "      <td>12</td>\n",
       "      <td>1061.0</td>\n",
       "      <td>70510.0</td>\n",
       "      <td>7.0</td>\n",
       "      <td>999.0</td>\n",
       "      <td>Sep 30,2015</td>\n",
       "      <td>67368.0</td>\n",
       "    </tr>\n",
       "  </tbody>\n",
       "</table>\n",
       "</div>"
      ],
      "text/plain": [
       "  summary TransaccionProductoID          ProductoID    TipoTransaccionID  \\\n",
       "0   count                204292              204292               204292   \n",
       "1    mean    212458.04047637695  110.70090850351458   10.035253460732676   \n",
       "2  stddev     71352.37579752573   63.49014746219581  0.18563716955046372   \n",
       "3     min                 89146                   1                   10   \n",
       "4     25%                150639                  56                   10   \n",
       "5     50%                212323                 110                   10   \n",
       "6     75%                274216                 166                   10   \n",
       "7     max                336251                 227                   12   \n",
       "\n",
       "            ClienteID          InvoiceID        ProveedorID  \\\n",
       "0              204292             204292             204292   \n",
       "1   517.3252941867523  42957.26929590978  4.951898734177215   \n",
       "2  353.50136995999276   16826.9772221931  1.406311225432683   \n",
       "3                 0.0                0.0                      \n",
       "4               145.0            30120.0                4.0   \n",
       "5               511.0            43546.0                4.0   \n",
       "6               877.0            56983.0                7.0   \n",
       "7              1061.0            70510.0                7.0   \n",
       "\n",
       "      OrdenDeCompraID             FechaTransaccion           Cantidad  \n",
       "0              204292                       204292             204292  \n",
       "1  1345.9973277074544                         None  719.4997650421946  \n",
       "2  420.37740964792835                         None   4729.36659747762  \n",
       "3                      2013-12-31 07:00:00.0000000             -360.0  \n",
       "4               986.0                         None              -60.0  \n",
       "5              1347.0                         None               -9.0  \n",
       "6              1710.0                         None               -5.0  \n",
       "7               999.0                  Sep 30,2015            67368.0  "
      ]
     },
     "execution_count": 18,
     "metadata": {},
     "output_type": "execute_result"
    }
   ],
   "source": [
    "descriptivo = movimientos.summary().toPandas()\n",
    "descriptivo"
   ]
  },
  {
   "cell_type": "markdown",
   "metadata": {
    "id": "0zEoTVtOPn3Z"
   },
   "source": [
    "En las estadísticas anteriores vemos que todas las columnas tienen el mismo numero de valores, es decir 204.292, es decir que no hay columnas vacias, sin embargo es importe aclarar que si se observan columnas que tienen valores faltantes, como es el caso de ClienteID y ProveedorID, puesto que tienen valores vacios diferentes a null o None representando la ausencia de datos (Se ovserva el valor ''). También observamos el calculo de la media para la columna Cantidad, la cual tiene un valor de 719.4 y una desviacion estandar de 4729.3, tambien se observa el percentil 75% de la columna  Cantidad que indica que el 75% de los movimientos esta por debajo de - 5, se debe considerar que esto indica retiro de inventario de un producto relacionado con la compra de un cliente, adicionalmente podemos ver para la columna Cantidad que el minimo movimiento es de -360 y el maximo es de 67368, se debe tener especial cuidado con la interpretacion de estos valores ya que el valor negativo indica unicamente salida del inventario. Para la columna de FechaTransaccion se calcula el minimo y el maximo, sin embargo debe tenerse cuidado en esta informacion pues ya vimos que los formatos de los valores de esta columna son diferentes, lo que afecta la comparacion. \n",
    "Para las columnas TransaccionProductoID, ProductoID, TipoTransaccion ID, ClienteID, InvoiceID, ProveedorID y OrdenDeCompraID aunque se calcula valores descriptivos, para el ejercicio y entendiendo el significado de las variables no hace sentido su interpretacion directamente de la tabla anterior."
   ]
  },
  {
   "cell_type": "code",
   "execution_count": 19,
   "metadata": {
    "id": "dn8Ez79LPn3a",
    "outputId": "4fdf9370-9987-46a8-80c0-8b4c79655534"
   },
   "outputs": [
    {
     "data": {
      "text/plain": [
       "{'whiskers': [<matplotlib.lines.Line2D at 0x2623b0fdc88>,\n",
       "  <matplotlib.lines.Line2D at 0x2623b0fd508>],\n",
       " 'caps': [<matplotlib.lines.Line2D at 0x2623b0fd348>,\n",
       "  <matplotlib.lines.Line2D at 0x26235e05c48>],\n",
       " 'boxes': [<matplotlib.lines.Line2D at 0x2623b12a408>],\n",
       " 'medians': [<matplotlib.lines.Line2D at 0x26235dff248>],\n",
       " 'fliers': [<matplotlib.lines.Line2D at 0x2623b0fd488>],\n",
       " 'means': []}"
      ]
     },
     "execution_count": 19,
     "metadata": {},
     "output_type": "execute_result"
    },
    {
     "data": {
      "image/png": "[encoded data removed]",
      "text/plain": [
       "<Figure size 432x288 with 1 Axes>"
      ]
     },
     "metadata": {
      "needs_background": "light"
     },
     "output_type": "display_data"
    }
   ],
   "source": [
    "%matplotlib inline\n",
    "import matplotlib.pyplot as plt\n",
    "\n",
    "fig1, ax1 = plt.subplots()\n",
    "ax1.set_title('Cantidad')\n",
    "ax1.boxplot(np.array(movimientos.select('Cantidad').collect()))"
   ]
  },
  {
   "cell_type": "markdown",
   "metadata": {},
   "source": [
    "En el grafico boxplot anterior podemos observar para la columna Cantidad valores atipicos que llegan hasta cerca de los 70000."
   ]
  },
  {
   "cell_type": "markdown",
   "metadata": {
    "id": "c0_4fokYPn3a"
   },
   "source": [
    "En las tablas a continuacion podemos evidenciar la moda para la columna Proveedor ID y Cliente ID. Esto nos mostraria por un lado el proveedor con el que mas movimientos de inventario se hacen, en este caso el proveedor 4, con 4.832 movimientos ((El ProveedorID sin ID corresponde a los movimientos de clientes y no un movimiento de un cliente sin ID)). La segunda tabla nos muestra el cliente que mas movimientos realiza, es decir el cliente 980 con 409 movimientos de inventario (El ClienteID con ID 0 corresponde a los movimientos de proveedores y no un movimiento de un cliente con ID 0).  "
   ]
  },
  {
   "cell_type": "code",
   "execution_count": null,
   "metadata": {
    "id": "iz9SiUvHPn3b",
    "outputId": "449aaac6-4825-4104-e748-78056fc4f88f"
   },
   "outputs": [
    {
     "name": "stdout",
     "output_type": "stream",
     "text": [
      "+-----------+------+\n",
      "|ProveedorID| count|\n",
      "+-----------+------+\n",
      "|           |197182|\n",
      "|        4.0|  4832|\n",
      "|        7.0|  2267|\n",
      "|        1.0|    11|\n",
      "+-----------+------+\n",
      "\n"
     ]
    }
   ],
   "source": [
    "movimientos.groupby(\"ProveedorID\").count().orderBy(\"count\", ascending=False).show(5)"
   ]
  },
  {
   "cell_type": "code",
   "execution_count": 21,
   "metadata": {},
   "outputs": [
    {
     "name": "stdout",
     "output_type": "stream",
     "text": [
      "+---------+-----+\n",
      "|ClienteID|count|\n",
      "+---------+-----+\n",
      "|      0.0| 7156|\n",
      "|    980.0|  409|\n",
      "|    810.0|  401|\n",
      "|    804.0|  395|\n",
      "|    149.0|  395|\n",
      "+---------+-----+\n",
      "only showing top 5 rows\n",
      "\n"
     ]
    }
   ],
   "source": [
    "movimientos.groupby(\"ClienteID\").count().orderBy(\"count\", ascending=False).show(5)"
   ]
  },
  {
   "cell_type": "markdown",
   "metadata": {},
   "source": [
    "En el siguiente cuadro observamos la moda de la columna ProductID, indicandonos el producto con mas movimientos en el inventario, en este caso el prodcuto con ID 80. Es importante considerar que en esta tabla no se observa la cantidad de producto retirado o ingresado a stock, solo es un conteo de las filas para cada ID de producto."
   ]
  },
  {
   "cell_type": "code",
   "execution_count": 22,
   "metadata": {},
   "outputs": [
    {
     "name": "stdout",
     "output_type": "stream",
     "text": [
      "+----------+-----+\n",
      "|ProductoID|count|\n",
      "+----------+-----+\n",
      "|        80| 1488|\n",
      "|        95| 1477|\n",
      "|       184| 1339|\n",
      "|        86| 1318|\n",
      "|       193| 1312|\n",
      "+----------+-----+\n",
      "only showing top 5 rows\n",
      "\n"
     ]
    },
    {
     "data": {
      "text/plain": [
       "DataFrame[ProductoID: int, count: bigint]"
      ]
     },
     "execution_count": 22,
     "metadata": {},
     "output_type": "execute_result"
    }
   ],
   "source": [
    "movimientos.groupby(\"ProductoID\").count().orderBy(\"count\", ascending=False).show(5)\n",
    "movimientos.groupby(\"ProductoID\").count()"
   ]
  },
  {
   "cell_type": "markdown",
   "metadata": {
    "id": "9bG1x9gWPn3b",
    "tags": []
   },
   "source": [
    "## Análisis de calidad de datos"
   ]
  },
  {
   "cell_type": "markdown",
   "metadata": {
    "id": "WKPFuI9uPn3b"
   },
   "source": [
    "A continuación se definen dos funciones, la primera cuenta los valores vacios por columna de dataframe, la segunda retorna un diccionario de columnas con cardinalidad superior al 50%\n",
    "\n",
    "Te invito a revisar los recursos de calidad de datos que hemos visto en el curso, a continuacion ejemplos daremos algunos ejemplos por cada dimensión para el caso del tutorial"
   ]
  },
  {
   "cell_type": "markdown",
   "metadata": {
    "id": "ZHLs1H0hPn3b"
   },
   "source": [
    "### Unicidad\n",
    "\n",
    "A cotinuacion vamos a revisar la unicidad para cada una de las columnas de nuestro dataframe. Aunque desde la perspectiva de entendimiento de datos hay columnas que pueden tener valores repetidos, por ejemplo ProductoID, considerando que diferentes clientes pueden generar movimeintos del mismo ProductoID, es importante identificar cuales columnas no deberian tener valores repetidos, por ejemplo si consideramos la columna TransaccionProductoID que identifica la transaccion, no deberia existir un valor deplicado. Sin embargo evidenciamos que esta columna tiene valores duplicados.Para las otras columnas el analisis seria:\n",
    "\n",
    "    TipoTransaccionID: Podria tener valores duplicados ya que refleja entrada y salida de productos del inventario.\n",
    "    ClienteID: Puede tener valores repetido si se considera que un mismo cliente puede comprar diferentes productos.\n",
    "    InvoiceID: Puede tener valores repetidos si refleja un cliente o proveedor realizando movimiento de inventario. \n",
    "    OrdenDeCompraID: Una orden de compra podria estar atada a un mismo proveedor el cualabastece con diferentes productos a la empresa.\n",
    "Estos supuestos deben validarse con el negocio para corroborar que efectivamente sea valido la existencia de duplicados en estas columnas."
   ]
  },
  {
   "cell_type": "code",
   "execution_count": 23,
   "metadata": {},
   "outputs": [
    {
     "name": "stdout",
     "output_type": "stream",
     "text": [
      "La columna 'TransaccionProductoID' no es única en todo el DataFrame.\n",
      "La columna 'ProductoID' no es única en todo el DataFrame.\n",
      "La columna 'TipoTransaccionID' no es única en todo el DataFrame.\n",
      "La columna 'ClienteID' no es única en todo el DataFrame.\n",
      "La columna 'InvoiceID' no es única en todo el DataFrame.\n",
      "La columna 'ProveedorID' no es única en todo el DataFrame.\n",
      "La columna 'OrdenDeCompraID' no es única en todo el DataFrame.\n",
      "La columna 'FechaTransaccion' no es única en todo el DataFrame.\n",
      "La columna 'Cantidad' no es única en todo el DataFrame.\n"
     ]
    }
   ],
   "source": [
    "columnas = movimientos.columns\n",
    "\n",
    "for columna in columnas:\n",
    "    conteo_distintos = movimientos.select(columna).distinct().count()\n",
    "    if conteo_distintos == movimientos.count():\n",
    "        print(f\"La columna '{columna}' es única en todo el DataFrame.\")\n",
    "    else:\n",
    "        print(f\"La columna '{columna}' no es única en todo el DataFrame.\")\n"
   ]
  },
  {
   "cell_type": "markdown",
   "metadata": {},
   "source": [
    "A modeo de ejemplo se filtra por la columna TransaccionProductoID un valor que se identifico como duplicado (ID 200379). Como se evidencia las dos filas que aparecen tienen exactamente los mismos valores para todas las columnas."
   ]
  },
  {
   "cell_type": "code",
   "execution_count": 24,
   "metadata": {},
   "outputs": [
    {
     "data": {
      "text/html": [
       "<div>\n",
       "<style scoped>\n",
       "    .dataframe tbody tr th:only-of-type {\n",
       "        vertical-align: middle;\n",
       "    }\n",
       "\n",
       "    .dataframe tbody tr th {\n",
       "        vertical-align: top;\n",
       "    }\n",
       "\n",
       "    .dataframe thead th {\n",
       "        text-align: right;\n",
       "    }\n",
       "</style>\n",
       "<table border=\"1\" class=\"dataframe\">\n",
       "  <thead>\n",
       "    <tr style=\"text-align: right;\">\n",
       "      <th></th>\n",
       "      <th>TransaccionProductoID</th>\n",
       "      <th>ProductoID</th>\n",
       "      <th>TipoTransaccionID</th>\n",
       "      <th>ClienteID</th>\n",
       "      <th>InvoiceID</th>\n",
       "      <th>ProveedorID</th>\n",
       "      <th>OrdenDeCompraID</th>\n",
       "      <th>FechaTransaccion</th>\n",
       "      <th>Cantidad</th>\n",
       "    </tr>\n",
       "  </thead>\n",
       "  <tbody>\n",
       "    <tr>\n",
       "      <th>0</th>\n",
       "      <td>200379</td>\n",
       "      <td>25</td>\n",
       "      <td>10</td>\n",
       "      <td>484.0</td>\n",
       "      <td>41953.0</td>\n",
       "      <td></td>\n",
       "      <td></td>\n",
       "      <td>2015-02-21 12:00:00.0000000</td>\n",
       "      <td>-8.0</td>\n",
       "    </tr>\n",
       "    <tr>\n",
       "      <th>1</th>\n",
       "      <td>200379</td>\n",
       "      <td>25</td>\n",
       "      <td>10</td>\n",
       "      <td>484.0</td>\n",
       "      <td>41953.0</td>\n",
       "      <td></td>\n",
       "      <td></td>\n",
       "      <td>2015-02-21 12:00:00.0000000</td>\n",
       "      <td>-8.0</td>\n",
       "    </tr>\n",
       "  </tbody>\n",
       "</table>\n",
       "</div>"
      ],
      "text/plain": [
       "   TransaccionProductoID  ProductoID  TipoTransaccionID  ClienteID  InvoiceID  \\\n",
       "0                 200379          25                 10      484.0    41953.0   \n",
       "1                 200379          25                 10      484.0    41953.0   \n",
       "\n",
       "  ProveedorID OrdenDeCompraID             FechaTransaccion  Cantidad  \n",
       "0                              2015-02-21 12:00:00.0000000      -8.0  \n",
       "1                              2015-02-21 12:00:00.0000000      -8.0  "
      ]
     },
     "execution_count": 24,
     "metadata": {},
     "output_type": "execute_result"
    }
   ],
   "source": [
    "duplicado = movimientos.filter(col(\"TransaccionProductoID\") == 200379).toPandas()\n",
    "duplicado"
   ]
  },
  {
   "cell_type": "markdown",
   "metadata": {},
   "source": [
    "En conclusion ninguna columna tiene todos sus valores unicos. Debe confirmarse con el negocio si los supuestos de que el TransaccionProductoID no debe tener duplicados es correcto, asi como las suposiciones para las otras columnas."
   ]
  },
  {
   "cell_type": "markdown",
   "metadata": {},
   "source": [
    "### Validez"
   ]
  },
  {
   "cell_type": "code",
   "execution_count": 25,
   "metadata": {},
   "outputs": [
    {
     "name": "stdout",
     "output_type": "stream",
     "text": [
      "root\n",
      " |-- TransaccionProductoID: integer (nullable = true)\n",
      " |-- ProductoID: integer (nullable = true)\n",
      " |-- TipoTransaccionID: integer (nullable = true)\n",
      " |-- ClienteID: double (nullable = true)\n",
      " |-- InvoiceID: double (nullable = true)\n",
      " |-- ProveedorID: string (nullable = true)\n",
      " |-- OrdenDeCompraID: string (nullable = true)\n",
      " |-- FechaTransaccion: string (nullable = true)\n",
      " |-- Cantidad: double (nullable = true)\n",
      "\n"
     ]
    }
   ],
   "source": [
    "movimientos.printSchema()\n"
   ]
  },
  {
   "cell_type": "markdown",
   "metadata": {},
   "source": [
    "Podemos observar que la columna FechaTransaccion esta con formato String, siendo un fecha. De igual forma el ProveedorId esta definido como un string, siendo un numero el que lo identifica. Para la columna de OrdenDeCompraID se define como un string, siendo igualmente un numero. Finalmente la Columna cantidad tiene un valor double, que podria aceptar numeros decimales, sin embargo esto solo tendria sentido en el caso que se puedan adquirir porciones de un producto.\n",
    "\n",
    "Adicionalmente en las reglas de negocio validamos que el formato de la fecha no es el esperado, obteniendo 64.254 movimientos que el formato de fecha no es YYYY-MM-DD HH:MM:SS. \n",
    "\n",
    "En conclusion existe problemas de validez de los datos, por un lado en la definicion del tipo de dato para las columnas InvoiceID, ProveedorID, OrdenDeCompraID, FechaTransaccion y Cantidad."
   ]
  },
  {
   "cell_type": "markdown",
   "metadata": {
    "id": "QgkzeSm4Pn3b"
   },
   "source": [
    "### Completitud"
   ]
  },
  {
   "cell_type": "code",
   "execution_count": 26,
   "metadata": {
    "id": "mIWH-vVoPn3b"
   },
   "outputs": [],
   "source": [
    "def contar_vacios(df):\n",
    "    resultados = []\n",
    "    for c in df.columns:\n",
    "        # Contar valores nulos y cadenas vacías ('')\n",
    "        vacios = df.filter((df[c].isNull()) | (df[c] == '')).count()\n",
    "        if vacios != 0:\n",
    "            print('Número de vacíos para columna ' + c + ': ' + str(vacios))\n",
    "            resultados.append(vacios)\n",
    "        else:\n",
    "            print('Número de vacíos para columna ' + c + ': ' + \"es cero\")\n",
    "    return resultados\n",
    "\n",
    "def cardinalidad(df):\n",
    "    resultado = {}\n",
    "    for c in df.columns:\n",
    "        cardinalidad = df.select(col(c)).distinct().count()\n",
    "        if cardinalidad>=df.count()*0.5:\n",
    "            resultado[c] = cardinalidad\n",
    "    return resultado"
   ]
  },
  {
   "cell_type": "code",
   "execution_count": 27,
   "metadata": {
    "id": "da_z_ti-Pn3b",
    "outputId": "ecac9b39-d97a-422a-a579-698c5733ab7b"
   },
   "outputs": [
    {
     "name": "stdout",
     "output_type": "stream",
     "text": [
      "Número de vacíos para columna TransaccionProductoID: es cero\n",
      "Número de vacíos para columna ProductoID: es cero\n",
      "Número de vacíos para columna TipoTransaccionID: es cero\n",
      "Número de vacíos para columna ClienteID: es cero\n",
      "Número de vacíos para columna InvoiceID: es cero\n",
      "Número de vacíos para columna ProveedorID: 197182\n",
      "Número de vacíos para columna OrdenDeCompraID: 197182\n",
      "Número de vacíos para columna FechaTransaccion: es cero\n",
      "Número de vacíos para columna Cantidad: es cero\n"
     ]
    }
   ],
   "source": [
    "columnas_vacias_ordenes = contar_vacios(movimientos)"
   ]
  },
  {
   "cell_type": "code",
   "execution_count": 28,
   "metadata": {
    "id": "NxXQm_KEPn3c",
    "outputId": "419b9709-25fe-43dd-d63a-a9be645d11f7"
   },
   "outputs": [
    {
     "data": {
      "text/plain": [
       "{'TransaccionProductoID': 173659}"
      ]
     },
     "execution_count": 28,
     "metadata": {},
     "output_type": "execute_result"
    }
   ],
   "source": [
    "columnas_alta = cardinalidad(movimientos)\n",
    "columnas_alta"
   ]
  },
  {
   "cell_type": "markdown",
   "metadata": {},
   "source": [
    "Como se evidencia hay columnas que tienen valores faltantes ProveedorID y OrdenDeCompraID. Si se analiza el DataFrame, se evidencian columnas que tienen valores que parecen faltantes como el de ProveedorID, sin embargo en un analissi mas detallado se identifica que este valor corresponde a la designacion de ausencia con un valor tipo string de \"\". Aunque tener valores faltantes en este modo puede afectar el analisis, debe considerarse transformarlos a valores Null o None para representar la ausencia de valor. Para la logica de la columna de ProveedorID, es valido tener un valor faltante en este caso ya que cuando el movimiento lo hace un cliente y no un proveedor, es normal que no tenga valor. En el caso de ClienteID pasa algo similar pero se identifica con 0 el caso donde se tiene un movimiento de proveedor, que por ende no tendra un ID de cliente.\n",
    "\n",
    "En conclusion podemos decir que  hay datos faltantes pero debe validarse con el negocio si las suposiciones son correctas, ya que la ausencia de estos valores es congruente con la logica del negocio, y finalmente decidir transformar el dataframe con valores de Null o None para representar la ausencia de un valor."
   ]
  },
  {
   "cell_type": "markdown",
   "metadata": {
    "id": "LZyQcqCvPn3c"
   },
   "source": [
    "### Consistencia\n",
    "Anivel de consistencia podemos ver consistencia semantica en la descripcion de las columnas con los valores alamcenados en las mismas, ya que reflejan de forma correcta el contenido que se espera de estas columnas. \n",
    "\n",
    "Por otro lado evidenciamos en el analis de unicidad que no hay una consistencia para reflejar valores faltantes, por lo que es necesario poder estandarizar est ausencia de datos para simplificar el analisis y tener claridad de la interpretacion de los datos."
   ]
  },
  {
   "cell_type": "markdown",
   "metadata": {
    "id": "ct4KbukcPn3c"
   },
   "source": [
    "## Entendimiento de los datos adicional"
   ]
  },
  {
   "cell_type": "markdown",
   "metadata": {
    "id": "ltTluhtIPn3e"
   },
   "source": [
    "A continuacion se crea una tabla pivote para ver cuantos movimientos hay por ProductID y por ProveedorID. E simportante considerar que aca tambien se observa los movimientos de los clientes representados por el ProductID ''. "
   ]
  },
  {
   "cell_type": "code",
   "execution_count": 29,
   "metadata": {
    "id": "jTU_GHMIPn3e",
    "outputId": "d5c71e84-8815-4723-c916-d9b7ee138952"
   },
   "outputs": [
    {
     "name": "stdout",
     "output_type": "stream",
     "text": [
      "+----------+---+----+----+----+\n",
      "|ProductoID|   | 1.0| 4.0| 7.0|\n",
      "+----------+---+----+----+----+\n",
      "|       148|920|null|null|null|\n",
      "|        31|917|null|null|null|\n",
      "|       137|946|null|null|null|\n",
      "|        85|915|null|null|null|\n",
      "|        65|955|null|null|null|\n",
      "|        53|916|null|null|null|\n",
      "|       133|914|null|null|null|\n",
      "|        78|473|null| 823|null|\n",
      "|       108|930|null|null|null|\n",
      "|       155|877|null|null|null|\n",
      "|       211|884|null|null|null|\n",
      "|       193|508|null|null| 804|\n",
      "|        34|928|null|null|null|\n",
      "|       115|900|null|null|null|\n",
      "|       101|944|null|null|null|\n",
      "|       126|868|null|null|null|\n",
      "|        81|896|null|null|null|\n",
      "|       210|851|null|null|null|\n",
      "|        28|933|null|null|null|\n",
      "|       183|909|null|null|null|\n",
      "+----------+---+----+----+----+\n",
      "only showing top 20 rows\n",
      "\n"
     ]
    }
   ],
   "source": [
    "movimientos.groupBy('ProductoID').pivot('ProveedorID').count().show()"
   ]
  },
  {
   "cell_type": "markdown",
   "metadata": {
    "id": "h0eRDQmcPn3f"
   },
   "source": [
    "Acontinuacion se hace un analisis de correlaciones pero es importante considerar que estas relaciones no tienen un sentido logico implicito. Por ejemplo la variable InvoiceID con TransaccionProductID aparece con una correlacion alta (0.8) pero son dos variables que se no tienen aparentemente una relacion lgoica dentro del proceso de movimientos."
   ]
  },
  {
   "cell_type": "code",
   "execution_count": 30,
   "metadata": {
    "id": "TydBsUX-Pn3f",
    "outputId": "e4779562-9cd6-4881-e97f-d18e5e75f253"
   },
   "outputs": [
    {
     "data": {
      "text/html": [
       "<style type=\"text/css\">\n",
       "#T_28c50_row0_col0, #T_28c50_row1_col1, #T_28c50_row2_col2, #T_28c50_row3_col3, #T_28c50_row4_col4, #T_28c50_row5_col5 {\n",
       "  background-color: #b40426;\n",
       "  color: #f1f1f1;\n",
       "}\n",
       "#T_28c50_row0_col1, #T_28c50_row3_col0 {\n",
       "  background-color: #4257c9;\n",
       "  color: #f1f1f1;\n",
       "}\n",
       "#T_28c50_row0_col2, #T_28c50_row1_col4 {\n",
       "  background-color: #a7c5fe;\n",
       "  color: #000000;\n",
       "}\n",
       "#T_28c50_row0_col3 {\n",
       "  background-color: #88abfd;\n",
       "  color: #000000;\n",
       "}\n",
       "#T_28c50_row0_col4 {\n",
       "  background-color: #d55042;\n",
       "  color: #f1f1f1;\n",
       "}\n",
       "#T_28c50_row0_col5 {\n",
       "  background-color: #aac7fd;\n",
       "  color: #000000;\n",
       "}\n",
       "#T_28c50_row1_col0 {\n",
       "  background-color: #4055c8;\n",
       "  color: #f1f1f1;\n",
       "}\n",
       "#T_28c50_row1_col2 {\n",
       "  background-color: #aec9fc;\n",
       "  color: #000000;\n",
       "}\n",
       "#T_28c50_row1_col3 {\n",
       "  background-color: #7ea1fa;\n",
       "  color: #f1f1f1;\n",
       "}\n",
       "#T_28c50_row1_col5 {\n",
       "  background-color: #a2c1ff;\n",
       "  color: #000000;\n",
       "}\n",
       "#T_28c50_row2_col0, #T_28c50_row2_col3, #T_28c50_row2_col4, #T_28c50_row3_col1, #T_28c50_row4_col2, #T_28c50_row4_col5 {\n",
       "  background-color: #3b4cc0;\n",
       "  color: #f1f1f1;\n",
       "}\n",
       "#T_28c50_row2_col1, #T_28c50_row5_col1 {\n",
       "  background-color: #455cce;\n",
       "  color: #f1f1f1;\n",
       "}\n",
       "#T_28c50_row2_col5 {\n",
       "  background-color: #dc5d4a;\n",
       "  color: #f1f1f1;\n",
       "}\n",
       "#T_28c50_row3_col2 {\n",
       "  background-color: #6687ed;\n",
       "  color: #f1f1f1;\n",
       "}\n",
       "#T_28c50_row3_col4 {\n",
       "  background-color: #cad8ef;\n",
       "  color: #000000;\n",
       "}\n",
       "#T_28c50_row3_col5 {\n",
       "  background-color: #6180e9;\n",
       "  color: #f1f1f1;\n",
       "}\n",
       "#T_28c50_row4_col0 {\n",
       "  background-color: #e16751;\n",
       "  color: #f1f1f1;\n",
       "}\n",
       "#T_28c50_row4_col1 {\n",
       "  background-color: #3d50c3;\n",
       "  color: #f1f1f1;\n",
       "}\n",
       "#T_28c50_row4_col3 {\n",
       "  background-color: #abc8fd;\n",
       "  color: #000000;\n",
       "}\n",
       "#T_28c50_row5_col0 {\n",
       "  background-color: #4c66d6;\n",
       "  color: #f1f1f1;\n",
       "}\n",
       "#T_28c50_row5_col2 {\n",
       "  background-color: #d95847;\n",
       "  color: #f1f1f1;\n",
       "}\n",
       "#T_28c50_row5_col3 {\n",
       "  background-color: #445acc;\n",
       "  color: #f1f1f1;\n",
       "}\n",
       "#T_28c50_row5_col4 {\n",
       "  background-color: #4961d2;\n",
       "  color: #f1f1f1;\n",
       "}\n",
       "</style>\n",
       "<table id=\"T_28c50_\">\n",
       "  <thead>\n",
       "    <tr>\n",
       "      <th class=\"blank level0\" >&nbsp;</th>\n",
       "      <th class=\"col_heading level0 col0\" >TransaccionProductoID</th>\n",
       "      <th class=\"col_heading level0 col1\" >ProductoID</th>\n",
       "      <th class=\"col_heading level0 col2\" >TipoTransaccionID</th>\n",
       "      <th class=\"col_heading level0 col3\" >ClienteID</th>\n",
       "      <th class=\"col_heading level0 col4\" >InvoiceID</th>\n",
       "      <th class=\"col_heading level0 col5\" >Cantidad</th>\n",
       "    </tr>\n",
       "  </thead>\n",
       "  <tbody>\n",
       "    <tr>\n",
       "      <th id=\"T_28c50_level0_row0\" class=\"row_heading level0 row0\" >TransaccionProductoID</th>\n",
       "      <td id=\"T_28c50_row0_col0\" class=\"data row0 col0\" >1.000000</td>\n",
       "      <td id=\"T_28c50_row0_col1\" class=\"data row0 col1\" >0.017905</td>\n",
       "      <td id=\"T_28c50_row0_col2\" class=\"data row0 col2\" >-0.001819</td>\n",
       "      <td id=\"T_28c50_row0_col3\" class=\"data row0 col3\" >0.021868</td>\n",
       "      <td id=\"T_28c50_row0_col4\" class=\"data row0 col4\" >0.859235</td>\n",
       "      <td id=\"T_28c50_row0_col5\" class=\"data row0 col5\" >0.060616</td>\n",
       "    </tr>\n",
       "    <tr>\n",
       "      <th id=\"T_28c50_level0_row1\" class=\"row_heading level0 row1\" >ProductoID</th>\n",
       "      <td id=\"T_28c50_row1_col0\" class=\"data row1 col0\" >0.017905</td>\n",
       "      <td id=\"T_28c50_row1_col1\" class=\"data row1 col1\" >1.000000</td>\n",
       "      <td id=\"T_28c50_row1_col2\" class=\"data row1 col2\" >0.028463</td>\n",
       "      <td id=\"T_28c50_row1_col3\" class=\"data row1 col3\" >-0.009326</td>\n",
       "      <td id=\"T_28c50_row1_col4\" class=\"data row1 col4\" >0.001007</td>\n",
       "      <td id=\"T_28c50_row1_col5\" class=\"data row1 col5\" >0.028805</td>\n",
       "    </tr>\n",
       "    <tr>\n",
       "      <th id=\"T_28c50_level0_row2\" class=\"row_heading level0 row2\" >TipoTransaccionID</th>\n",
       "      <td id=\"T_28c50_row2_col0\" class=\"data row2 col0\" >-0.001819</td>\n",
       "      <td id=\"T_28c50_row2_col1\" class=\"data row2 col1\" >0.028463</td>\n",
       "      <td id=\"T_28c50_row2_col2\" class=\"data row2 col2\" >1.000000</td>\n",
       "      <td id=\"T_28c50_row2_col3\" class=\"data row2 col3\" >-0.277915</td>\n",
       "      <td id=\"T_28c50_row2_col4\" class=\"data row2 col4\" >-0.484808</td>\n",
       "      <td id=\"T_28c50_row2_col5\" class=\"data row2 col5\" >0.833650</td>\n",
       "    </tr>\n",
       "    <tr>\n",
       "      <th id=\"T_28c50_level0_row3\" class=\"row_heading level0 row3\" >ClienteID</th>\n",
       "      <td id=\"T_28c50_row3_col0\" class=\"data row3 col0\" >0.021868</td>\n",
       "      <td id=\"T_28c50_row3_col1\" class=\"data row3 col1\" >-0.009326</td>\n",
       "      <td id=\"T_28c50_row3_col2\" class=\"data row3 col2\" >-0.277915</td>\n",
       "      <td id=\"T_28c50_row3_col3\" class=\"data row3 col3\" >1.000000</td>\n",
       "      <td id=\"T_28c50_row3_col4\" class=\"data row3 col4\" >0.154670</td>\n",
       "      <td id=\"T_28c50_row3_col5\" class=\"data row3 col5\" >-0.234709</td>\n",
       "    </tr>\n",
       "    <tr>\n",
       "      <th id=\"T_28c50_level0_row4\" class=\"row_heading level0 row4\" >InvoiceID</th>\n",
       "      <td id=\"T_28c50_row4_col0\" class=\"data row4 col0\" >0.859235</td>\n",
       "      <td id=\"T_28c50_row4_col1\" class=\"data row4 col1\" >0.001007</td>\n",
       "      <td id=\"T_28c50_row4_col2\" class=\"data row4 col2\" >-0.484808</td>\n",
       "      <td id=\"T_28c50_row4_col3\" class=\"data row4 col3\" >0.154670</td>\n",
       "      <td id=\"T_28c50_row4_col4\" class=\"data row4 col4\" >1.000000</td>\n",
       "      <td id=\"T_28c50_row4_col5\" class=\"data row4 col5\" >-0.409633</td>\n",
       "    </tr>\n",
       "    <tr>\n",
       "      <th id=\"T_28c50_level0_row5\" class=\"row_heading level0 row5\" >Cantidad</th>\n",
       "      <td id=\"T_28c50_row5_col0\" class=\"data row5 col0\" >0.060616</td>\n",
       "      <td id=\"T_28c50_row5_col1\" class=\"data row5 col1\" >0.028805</td>\n",
       "      <td id=\"T_28c50_row5_col2\" class=\"data row5 col2\" >0.833650</td>\n",
       "      <td id=\"T_28c50_row5_col3\" class=\"data row5 col3\" >-0.234709</td>\n",
       "      <td id=\"T_28c50_row5_col4\" class=\"data row5 col4\" >-0.409633</td>\n",
       "      <td id=\"T_28c50_row5_col5\" class=\"data row5 col5\" >1.000000</td>\n",
       "    </tr>\n",
       "  </tbody>\n",
       "</table>\n"
      ],
      "text/plain": [
       "<pandas.io.formats.style.Styler at 0x2622ec4e408>"
      ]
     },
     "execution_count": 30,
     "metadata": {},
     "output_type": "execute_result"
    }
   ],
   "source": [
    "corr = movimientos.toPandas().corr(method='pearson')\n",
    "corr.style.background_gradient(cmap='coolwarm')"
   ]
  },
  {
   "cell_type": "markdown",
   "metadata": {
    "id": "kxj4KoVDPn3f",
    "tags": []
   },
   "source": [
    "## Conclusiones/resultados"
   ]
  },
  {
   "cell_type": "markdown",
   "metadata": {},
   "source": [
    "**Conclusiones generales:**\n",
    "\n",
    "1. En la tabla de movimientosCopia tenemos información **relacionada con el movimiento de inventario de un producto, ya sea por que un cliente lo compro o se le compro a un proveedor**\n",
    "2. Una fila de movimientos representa la entrada o salida de inventario de un producto especifico. Las entradas de inventario correspon a movimientos de proveedores, mientras que las salidas de inventario corresponden a movimientos de clientes. Puede existir casos distintos dentro del proceso de la compañia? Ejemplo, regresar inventario a un proveedor? La devolucion de un producto por parte de un cliente?\n",
    "3. La tabla de movimientosCopia tiene 204292 filas y  columnas 9.\n",
    "\n",
    "**Conclusiones de reglas de negocio:**\n",
    "\n",
    "1. La regla 1 no es cierta, ya que se observa que el maximo valor de la columna Cantidad es de 67368. Este calculo de 50 millones es correcto? Deben considerarse una transaccion como la union de varias filas de la base de datos, o una transaccion corresponde unicamente a una fila?\n",
    "2. La regla 2 no es cierta, el maximo numero de movimientos que podriamos tener es de 204.292, acorde con el tamaño de la tabla movimientosCopia. Es posible que falte datos historicos en la informacion compartida?\n",
    "3. La regla 3 es falsa, solamente hay 664 clientes unicos en la tabla de movimientos identificados por el ClienteID. Adicionalmente la tabla movimientosCopia solo tiene 204.292 registros. Es correcto considerar que un cliente unico se identifica por el ID ClienteID?\n",
    "4. Algunos formatos de fecha no coinciden con el dado en la regla 4, quedan 64.254 movimientos que el formato de fecha no es YYYY-MM-DD HH:MM:SS. En este caso el cambio de formato se puede implementar, ¿estan de acuerdo?\n",
    "5. La regla 5 es falsa,  pues solo se observan movimientos con tres proveedores (ProvedoID 1, 4 y 7). Es correcto identificar a cada proveedor por el ID proveedorID?\n",
    "\n",
    "**Conclusiones de calidad:**\n",
    "\n",
    "1. Ninguna columna contiene valores únicos. Es necesario confirmar  si la suposición de que la columna TransaccionProductoID no debe tener duplicados es correcta, así como verificar:\n",
    "\n",
    "    TipoTransaccionID: Podria tener valores duplicados ya que refleja entrada y salida de productos del inventario.\n",
    "    \n",
    "    ClienteID: Puede tener valores repetido si se considera que un mismo cliente puede comprar diferentes productos.\n",
    "    \n",
    "    InvoiceID: Puede tener valores repetidos si refleja un cliente o proveedor realizando movimiento de inventario. \n",
    "    \n",
    "    OrdenDeCompraID: Una orden de compra podria estar atada a un mismo proveedor el cualabastece con diferentes productos a la empresa.\n",
    "2. Existe problemas de validez de los datos, por un lado en la definicion del tipo de dato para las columnas InvoiceID, ProveedorID, OrdenDeCompraID, FechaTransaccion y Cantidad no reflejan el tipo de datos que se esta almacenando. Esto afecta el analisis yno refleja la naturaleza de los datos alamcenados. Podemos redefinir los tipos de datos para reflejar mayo congruencia con los datos, estan de acuero?\n",
    "3. Hay datos faltantes pero debe validarse si las suposiciones son correctas, ya que la ausencia de estos valores es congruente con la logica del negocio, y finalmente decidir transformar el dataframe con valores de Null o None para representar la ausencia de un valor.\n",
    "Suposicion:\n",
    "La columna ProveedorID tiene como valor faltante \"\". En el contexto de ProveedorID, es aceptable tener valores faltantes, ya que es común que los movimientos realizados por clientes no tengan un proveedor asociado. Para ClienteID, se utiliza 0 cuando el movimiento es realizado por un proveedor sin un ID de cliente asociado.Es correcto este planteamiento? Podemos convertir los valores faltantes en ull o None, estan de acuerdo?\n",
    "4. Respecto a cardinalidad, solo la columna TransaccionProductoID tiene una cardinalidad superior al 50%.\n",
    "\n",
    "\n",
    "**Sección de correlación:**\n",
    "\n",
    "1. Hay columnas que tienen una alta correlacion, como lo son InvoiceID con TransaccionProductID, sin embargo se considera que esta correlacion no obedece a una logica de negocio o mercado. "
   ]
  },
  {
   "cell_type": "code",
   "execution_count": null,
   "metadata": {},
   "outputs": [],
   "source": []
  }
 ],
 "metadata": {
  "colab": {
   "collapsed_sections": [
    "qxN27II0Pn3T",
    "GnAScmClPn3W",
    "UuZspay3Pn3Z",
    "ZHLs1H0hPn3b",
    "QgkzeSm4Pn3b",
    "LZyQcqCvPn3c",
    "eDf54JyKPn3d",
    "ltTluhtIPn3e",
    "IPhtXcD1Pn3g",
    "-axExLnhPn3g",
    "YfSMeXZQPn3g"
   ],
   "name": "MISW-ETL-Entendimiento.ipynb",
   "provenance": []
  },
  "kernelspec": {
   "display_name": "Python 3 (ipykernel)",
   "language": "python",
   "name": "python3"
  },
  "language_info": {
   "codemirror_mode": {
    "name": "ipython",
    "version": 3
   },
   "file_extension": ".py",
   "mimetype": "text/x-python",
   "name": "python",
   "nbconvert_exporter": "python",
   "pygments_lexer": "ipython3",
   "version": "3.7.13"
  },
  "toc-autonumbering": true,
  "toc-showcode": true
 },
 "nbformat": 4,
 "nbformat_minor": 4
}
