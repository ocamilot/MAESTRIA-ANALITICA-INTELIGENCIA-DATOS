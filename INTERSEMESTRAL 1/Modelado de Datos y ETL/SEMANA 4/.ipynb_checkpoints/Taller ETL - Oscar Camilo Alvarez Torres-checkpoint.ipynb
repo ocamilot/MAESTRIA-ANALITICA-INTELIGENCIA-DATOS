{
 "cells": [
  {
   "cell_type": "markdown",
   "metadata": {
    "id": "OGMlLaje86v9"
   },
   "source": [
    "# Tarea ETL"
   ]
  },
  {
   "cell_type": "code",
   "execution_count": 1,
   "metadata": {
    "id": "RwyeLpt386v9"
   },
   "outputs": [],
   "source": [
    "import os \n",
    "from pyspark.sql import functions as f, SparkSession, types as t\n",
    "from pyspark import SparkContext, SparkConf, SQLContext\n",
    "from pyspark.sql.functions import udf, col, length, isnan, when, count, regexp_replace\n",
    "from datetime import datetime"
   ]
  },
  {
   "cell_type": "code",
   "execution_count": 11,
   "metadata": {},
   "outputs": [],
   "source": [
    "# Configuración servidor base de datos transaccional\n",
    "# Recuerde usar Estudiante_i como usuario y la contraseña asigana en el excel de conexión a maquina virtual como contraseña\n",
    "db_user = 'Estudiante_1_202413'\n",
    "db_psswd = 'aabb1122'\n",
    "source_db_connection_string = 'jdbc:mysql://157.253.236.120:8080/WWImportersTransactional'\n",
    "\n",
    "dest_db_connection_string = 'jdbc:mysql://157.253.236.120:8080/Estudiante_i_XXXXXX'\n",
    "\n",
    "# Driver de conexion\n",
    "path_jar_driver = 'C:\\Program Files (x86)\\MySQL\\Connector J 8.0\\mysql-connector-java-8.0.28.jar'\n"
   ]
  },
  {
   "cell_type": "code",
   "execution_count": 12,
   "metadata": {},
   "outputs": [],
   "source": [
    "#Configuración de la sesión\n",
    "conf=SparkConf() \\\n",
    "    .set('spark.driver.extraClassPath', path_jar_driver)\n",
    "\n",
    "spark_context = SparkContext(conf=conf)\n",
    "sql_context = SQLContext(spark_context)\n",
    "spark = sql_context.sparkSession\n"
   ]
  },
  {
   "cell_type": "code",
   "execution_count": 10,
   "metadata": {},
   "outputs": [],
   "source": [
    "#spark.stop()"
   ]
  },
  {
   "cell_type": "code",
   "execution_count": 78,
   "metadata": {},
   "outputs": [],
   "source": [
    "def obtener_dataframe_de_bd(db_connection_string, sql, db_user, db_psswd):\n",
    "    df_bd = spark.read.format('jdbc')\\\n",
    "        .option('url', db_connection_string) \\\n",
    "        .option('dbtable', sql) \\\n",
    "        .option('user', db_user) \\\n",
    "        .option('password', db_psswd) \\\n",
    "        .option('driver', 'com.mysql.cj.jdbc.Driver') \\\n",
    "        .load()\n",
    "    return df_bd\n",
    "\n",
    "def guardar_db(db_connection_string, df, tabla, db_user, db_psswd):\n",
    "    df.select('*').write.format('jdbc') \\\n",
    "      .mode('append') \\\n",
    "      .option('url', db_connection_string) \\\n",
    "      .option('dbtable', tabla) \\\n",
    "      .option('user', db_user) \\\n",
    "      .option('password', db_psswd) \\\n",
    "      .option('driver', 'com.mysql.cj.jdbc.Driver') \\\n",
    "      .save()\n"
   ]
  },
  {
   "cell_type": "code",
   "execution_count": 98,
   "metadata": {},
   "outputs": [
    {
     "name": "stdout",
     "output_type": "stream",
     "text": [
      "+--------------+--------------------+--------------------------+---------+-------------+-----------------------+\n",
      "|ID_Proveedor_T|              Nombre|PersonaContactoPrincipalID|Dias_pago|Codigo_postal|CategoriaProveedorID_FK|\n",
      "+--------------+--------------------+--------------------------+---------+-------------+-----------------------+\n",
      "|             4|       Fabrikam Inc.|                        27|       30|        40351|                      4|\n",
      "|             5|Graphic Design In...|                        29|       14|        64847|                      2|\n",
      "|             7|        Litware Inc.|                        33|       30|        95245|                      5|\n",
      "|             9|      Nod Publishers|                        37|        7|        27906|                      2|\n",
      "|            10|Northwind Electri...|                        39|       30|         7860|                      3|\n",
      "+--------------+--------------------+--------------------------+---------+-------------+-----------------------+\n",
      "only showing top 5 rows\n",
      "\n",
      "+----------------------+-------------------+\n",
      "|CategoriaProveedorID_T|          Categoria|\n",
      "+----------------------+-------------------+\n",
      "|                     1|     otro mayorista|\n",
      "|                     2|productos novedosos|\n",
      "|                     3|           juguetes|\n",
      "|                     4|               ropa|\n",
      "|                     5|           embalaje|\n",
      "+----------------------+-------------------+\n",
      "only showing top 5 rows\n",
      "\n",
      "+----------+--------------------+\n",
      "|ID_persona|  Contacto_principal|\n",
      "+----------+--------------------+\n",
      "|         1|Data Conversion Only|\n",
      "|         2|      Kayla Woodcock|\n",
      "|         3|       Hudson Onslow|\n",
      "|         4|       Isabella Rupp|\n",
      "|         5|         Eva Muirden|\n",
      "+----------+--------------------+\n",
      "only showing top 5 rows\n",
      "\n"
     ]
    }
   ],
   "source": [
    "sql_proveedoresCopia = '''(SELECT DISTINCT ProveedorID as ID_Proveedor_T, NombreProveedor as Nombre, PersonaContactoPrincipalID, DiasPago as Dias_pago, CodigoPostal as Codigo_postal, CategoriaProveedorID as CategoriaProveedorID_FK FROM WWImportersTransactional.proveedoresCopia) AS Temp_proveedores'''\n",
    "Proveedor = obtener_dataframe_de_bd(source_db_connection_string, sql_proveedoresCopia, db_user, db_psswd)\n",
    "sql_categorias = '''(SELECT DISTINCT CategoriaProveedorID as CategoriaProveedorID_T, CategoriaProveedor as Categoria FROM WWImportersTransactional.CategoriasProveedores) AS Temp_categorias'''\n",
    "CategoriasProveedor = obtener_dataframe_de_bd(source_db_connection_string, sql_categorias, db_user, db_psswd)\n",
    "sql_personas = '''(SELECT DISTINCT ID_persona, NombreCompleto as Contacto_principal FROM WWImportersTransactional.Personas) AS Temp_personas'''\n",
    "Personas = obtener_dataframe_de_bd(source_db_connection_string, sql_personas, db_user, db_psswd)\n",
    "Proveedor.show(5)\n",
    "CategoriasProveedor.show(5)\n",
    "Personas.show(5)"
   ]
  },
  {
   "cell_type": "code",
   "execution_count": 99,
   "metadata": {},
   "outputs": [
    {
     "name": "stdout",
     "output_type": "stream",
     "text": [
      "+----------------+--------------+-------------------+--------------------+------------------+---------+-------------+\n",
      "|ID_Proveedor_DWH|ID_Proveedor_T|             Nombre|           Categoria|Contacto_principal|Dias_pago|Codigo_postal|\n",
      "+----------------+--------------+-------------------+--------------------+------------------+---------+-------------+\n",
      "|               1|             6|Humongous Insurance|servicios de seguros|Madelaine  Cartier|      -14|        37770|\n",
      "|               2|            20|  Fabrikam Inc. Ltd|                ropa|       Bill Lawson|       30|        40351|\n",
      "|               3|             4|      Fabrikam Inc.|                ropa|       Bill Lawson|       30|        40351|\n",
      "|               4|            26|  Trey Research Inc|servicios de mark...|      Donald Jones|        7|        57543|\n",
      "|               5|            11|      Trey Research|servicios de mark...|      Donald Jones|       -7|        57543|\n",
      "+----------------+--------------+-------------------+--------------------+------------------+---------+-------------+\n",
      "only showing top 5 rows\n",
      "\n"
     ]
    }
   ],
   "source": [
    "Proveedor = Proveedor.join(CategoriasProveedor, Proveedor[\"CategoriaProveedorID_FK\"] == CategoriasProveedor[\"CategoriaProveedorID_T\"], \"inner\")\n",
    "Proveedor = Proveedor.join(Personas, Proveedor[\"PersonaContactoPrincipalID\"] == Personas[\"ID_persona\"], \"inner\")\n",
    "Proveedor = Proveedor.coalesce(1).withColumn('ID_Proveedor_DWH', f.monotonically_increasing_id() + 1)\n",
    "Proveedor = Proveedor.select('ID_Proveedor_DWH', 'ID_Proveedor_T', 'Nombre', 'Categoria', 'Contacto_principal', 'Dias_pago', 'Codigo_postal')\n",
    "# Mostrar los primeros 5 registros del resultado\n",
    "Proveedor.show(5)\n"
   ]
  },
  {
   "cell_type": "code",
   "execution_count": 100,
   "metadata": {},
   "outputs": [
    {
     "data": {
      "text/plain": [
       "19"
      ]
     },
     "execution_count": 100,
     "metadata": {},
     "output_type": "execute_result"
    }
   ],
   "source": [
    "Proveedor.count()"
   ]
  },
  {
   "cell_type": "code",
   "execution_count": null,
   "metadata": {},
   "outputs": [],
   "source": []
  }
 ],
 "metadata": {
  "colab": {
   "collapsed_sections": [
    "vtE61qk986vx",
    "X9Oou0g986vy",
    "B5kFkHTD86vz",
    "ddFhEOmL86vz",
    "MuvVgJ4R86v0",
    "BZjDeVYd86v1",
    "_7xbgfCk86v1",
    "Rh_102Yy86v1",
    "HogvCqW_86v2",
    "9rKmT9jd86v2",
    "R9SnkMUH86v3",
    "k8O1GvOd86v3",
    "Mo633Vpg86v3",
    "i36NawhX86v4",
    "LvgnsPfK86v4",
    "dTv_CIOT86v5",
    "N9f10qpB86v9"
   ],
   "name": "MISW-ETL-TutorialETL.ipynb",
   "provenance": []
  },
  "kernelspec": {
   "display_name": "Python 3 (ipykernel)",
   "language": "python",
   "name": "python3"
  },
  "language_info": {
   "codemirror_mode": {
    "name": "ipython",
    "version": 3
   },
   "file_extension": ".py",
   "mimetype": "text/x-python",
   "name": "python",
   "nbconvert_exporter": "python",
   "pygments_lexer": "ipython3",
   "version": "3.7.13"
  }
 },
 "nbformat": 4,
 "nbformat_minor": 4
}
