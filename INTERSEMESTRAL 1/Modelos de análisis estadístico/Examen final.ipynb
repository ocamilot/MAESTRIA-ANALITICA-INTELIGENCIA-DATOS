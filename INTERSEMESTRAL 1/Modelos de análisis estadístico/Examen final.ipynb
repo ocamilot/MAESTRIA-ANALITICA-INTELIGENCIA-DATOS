{
 "cells": [
  {
   "cell_type": "markdown",
   "metadata": {},
   "source": [
    "# Lectura de datos"
   ]
  },
  {
   "cell_type": "code",
   "execution_count": 2,
   "metadata": {
    "vscode": {
     "languageId": "r"
    }
   },
   "outputs": [
    {
     "data": {
      "text/html": [
       "<table class=\"dataframe\">\n",
       "<caption>A data.frame: 6 x 14</caption>\n",
       "<thead>\n",
       "\t<tr><th></th><th scope=col>X</th><th scope=col>fixed.acidity</th><th scope=col>volatile.acidity</th><th scope=col>citric.acid</th><th scope=col>residual.sugar</th><th scope=col>chlorides</th><th scope=col>free.sulfur.dioxide</th><th scope=col>total.sulfur.dioxide</th><th scope=col>density</th><th scope=col>pH</th><th scope=col>sulphates</th><th scope=col>alcohol</th><th scope=col>quality</th><th scope=col>type</th></tr>\n",
       "\t<tr><th></th><th scope=col>&lt;int&gt;</th><th scope=col>&lt;dbl&gt;</th><th scope=col>&lt;dbl&gt;</th><th scope=col>&lt;dbl&gt;</th><th scope=col>&lt;dbl&gt;</th><th scope=col>&lt;dbl&gt;</th><th scope=col>&lt;dbl&gt;</th><th scope=col>&lt;dbl&gt;</th><th scope=col>&lt;dbl&gt;</th><th scope=col>&lt;dbl&gt;</th><th scope=col>&lt;dbl&gt;</th><th scope=col>&lt;dbl&gt;</th><th scope=col>&lt;int&gt;</th><th scope=col>&lt;chr&gt;</th></tr>\n",
       "</thead>\n",
       "<tbody>\n",
       "\t<tr><th scope=row>1</th><td>1</td><td>7.0</td><td>0.27</td><td>0.36</td><td>20.7</td><td>0.045</td><td>45</td><td>170</td><td>1.0010</td><td>3.00</td><td>0.45</td><td> 8.8</td><td>6</td><td>white</td></tr>\n",
       "\t<tr><th scope=row>2</th><td>2</td><td>6.3</td><td>0.30</td><td>0.34</td><td> 1.6</td><td>0.049</td><td>14</td><td>132</td><td>0.9940</td><td>3.30</td><td>0.49</td><td> 9.5</td><td>6</td><td>white</td></tr>\n",
       "\t<tr><th scope=row>3</th><td>3</td><td>8.1</td><td>0.28</td><td>0.40</td><td> 6.9</td><td>0.050</td><td>30</td><td> 97</td><td>0.9951</td><td>3.26</td><td>0.44</td><td>10.1</td><td>6</td><td>white</td></tr>\n",
       "\t<tr><th scope=row>4</th><td>4</td><td>7.2</td><td>0.23</td><td>0.32</td><td> 8.5</td><td>0.058</td><td>47</td><td>186</td><td>0.9956</td><td>3.19</td><td>0.40</td><td> 9.9</td><td>6</td><td>white</td></tr>\n",
       "\t<tr><th scope=row>5</th><td>5</td><td>7.2</td><td>0.23</td><td>0.32</td><td> 8.5</td><td>0.058</td><td>47</td><td>186</td><td>0.9956</td><td>3.19</td><td>0.40</td><td> 9.9</td><td>6</td><td>white</td></tr>\n",
       "\t<tr><th scope=row>6</th><td>6</td><td>8.1</td><td>0.28</td><td>0.40</td><td> 6.9</td><td>0.050</td><td>30</td><td> 97</td><td>0.9951</td><td>3.26</td><td>0.44</td><td>10.1</td><td>6</td><td>white</td></tr>\n",
       "</tbody>\n",
       "</table>\n"
      ],
      "text/latex": [
       "A data.frame: 6 x 14\n",
       "\\begin{tabular}{r|llllllllllllll}\n",
       "  & X & fixed.acidity & volatile.acidity & citric.acid & residual.sugar & chlorides & free.sulfur.dioxide & total.sulfur.dioxide & density & pH & sulphates & alcohol & quality & type\\\\\n",
       "  & <int> & <dbl> & <dbl> & <dbl> & <dbl> & <dbl> & <dbl> & <dbl> & <dbl> & <dbl> & <dbl> & <dbl> & <int> & <chr>\\\\\n",
       "\\hline\n",
       "\t1 & 1 & 7.0 & 0.27 & 0.36 & 20.7 & 0.045 & 45 & 170 & 1.0010 & 3.00 & 0.45 &  8.8 & 6 & white\\\\\n",
       "\t2 & 2 & 6.3 & 0.30 & 0.34 &  1.6 & 0.049 & 14 & 132 & 0.9940 & 3.30 & 0.49 &  9.5 & 6 & white\\\\\n",
       "\t3 & 3 & 8.1 & 0.28 & 0.40 &  6.9 & 0.050 & 30 &  97 & 0.9951 & 3.26 & 0.44 & 10.1 & 6 & white\\\\\n",
       "\t4 & 4 & 7.2 & 0.23 & 0.32 &  8.5 & 0.058 & 47 & 186 & 0.9956 & 3.19 & 0.40 &  9.9 & 6 & white\\\\\n",
       "\t5 & 5 & 7.2 & 0.23 & 0.32 &  8.5 & 0.058 & 47 & 186 & 0.9956 & 3.19 & 0.40 &  9.9 & 6 & white\\\\\n",
       "\t6 & 6 & 8.1 & 0.28 & 0.40 &  6.9 & 0.050 & 30 &  97 & 0.9951 & 3.26 & 0.44 & 10.1 & 6 & white\\\\\n",
       "\\end{tabular}\n"
      ],
      "text/markdown": [
       "\n",
       "A data.frame: 6 x 14\n",
       "\n",
       "| <!--/--> | X &lt;int&gt; | fixed.acidity &lt;dbl&gt; | volatile.acidity &lt;dbl&gt; | citric.acid &lt;dbl&gt; | residual.sugar &lt;dbl&gt; | chlorides &lt;dbl&gt; | free.sulfur.dioxide &lt;dbl&gt; | total.sulfur.dioxide &lt;dbl&gt; | density &lt;dbl&gt; | pH &lt;dbl&gt; | sulphates &lt;dbl&gt; | alcohol &lt;dbl&gt; | quality &lt;int&gt; | type &lt;chr&gt; |\n",
       "|---|---|---|---|---|---|---|---|---|---|---|---|---|---|---|\n",
       "| 1 | 1 | 7.0 | 0.27 | 0.36 | 20.7 | 0.045 | 45 | 170 | 1.0010 | 3.00 | 0.45 |  8.8 | 6 | white |\n",
       "| 2 | 2 | 6.3 | 0.30 | 0.34 |  1.6 | 0.049 | 14 | 132 | 0.9940 | 3.30 | 0.49 |  9.5 | 6 | white |\n",
       "| 3 | 3 | 8.1 | 0.28 | 0.40 |  6.9 | 0.050 | 30 |  97 | 0.9951 | 3.26 | 0.44 | 10.1 | 6 | white |\n",
       "| 4 | 4 | 7.2 | 0.23 | 0.32 |  8.5 | 0.058 | 47 | 186 | 0.9956 | 3.19 | 0.40 |  9.9 | 6 | white |\n",
       "| 5 | 5 | 7.2 | 0.23 | 0.32 |  8.5 | 0.058 | 47 | 186 | 0.9956 | 3.19 | 0.40 |  9.9 | 6 | white |\n",
       "| 6 | 6 | 8.1 | 0.28 | 0.40 |  6.9 | 0.050 | 30 |  97 | 0.9951 | 3.26 | 0.44 | 10.1 | 6 | white |\n",
       "\n"
      ],
      "text/plain": [
       "  X fixed.acidity volatile.acidity citric.acid residual.sugar chlorides\n",
       "1 1 7.0           0.27             0.36        20.7           0.045    \n",
       "2 2 6.3           0.30             0.34         1.6           0.049    \n",
       "3 3 8.1           0.28             0.40         6.9           0.050    \n",
       "4 4 7.2           0.23             0.32         8.5           0.058    \n",
       "5 5 7.2           0.23             0.32         8.5           0.058    \n",
       "6 6 8.1           0.28             0.40         6.9           0.050    \n",
       "  free.sulfur.dioxide total.sulfur.dioxide density pH   sulphates alcohol\n",
       "1 45                  170                  1.0010  3.00 0.45       8.8   \n",
       "2 14                  132                  0.9940  3.30 0.49       9.5   \n",
       "3 30                   97                  0.9951  3.26 0.44      10.1   \n",
       "4 47                  186                  0.9956  3.19 0.40       9.9   \n",
       "5 47                  186                  0.9956  3.19 0.40       9.9   \n",
       "6 30                   97                  0.9951  3.26 0.44      10.1   \n",
       "  quality type \n",
       "1 6       white\n",
       "2 6       white\n",
       "3 6       white\n",
       "4 6       white\n",
       "5 6       white\n",
       "6 6       white"
      ]
     },
     "metadata": {},
     "output_type": "display_data"
    }
   ],
   "source": [
    "# Cargar los datos\n",
    "wine <- read.csv(\"wine.csv\")\n",
    "\n",
    "# Ver las primeras filas del dataframe para entender su estructura\n",
    "head(wine)"
   ]
  },
  {
   "cell_type": "markdown",
   "metadata": {},
   "source": [
    "# a. Describa las características de cada variante de vino."
   ]
  },
  {
   "cell_type": "markdown",
   "metadata": {},
   "source": [
    "A continuacion obenemos las estadisticas descriptiva de las variables para cada tipo de vino."
   ]
  },
  {
   "cell_type": "code",
   "execution_count": 3,
   "metadata": {
    "vscode": {
     "languageId": "r"
    }
   },
   "outputs": [
    {
     "name": "stdout",
     "output_type": "stream",
     "text": [
      "[1] \"Resumen descriptivo para vino rojo\"\n"
     ]
    },
    {
     "data": {
      "text/plain": [
       "       X        fixed.acidity   volatile.acidity  citric.acid   \n",
       " Min.   :4899   Min.   : 4.60   Min.   :0.1200   Min.   :0.000  \n",
       " 1st Qu.:5298   1st Qu.: 7.10   1st Qu.:0.3900   1st Qu.:0.090  \n",
       " Median :5698   Median : 7.90   Median :0.5200   Median :0.260  \n",
       " Mean   :5698   Mean   : 8.32   Mean   :0.5278   Mean   :0.271  \n",
       " 3rd Qu.:6098   3rd Qu.: 9.20   3rd Qu.:0.6400   3rd Qu.:0.420  \n",
       " Max.   :6497   Max.   :15.90   Max.   :1.5800   Max.   :1.000  \n",
       " residual.sugar     chlorides       free.sulfur.dioxide total.sulfur.dioxide\n",
       " Min.   : 0.900   Min.   :0.01200   Min.   : 1.00       Min.   :  6.00      \n",
       " 1st Qu.: 1.900   1st Qu.:0.07000   1st Qu.: 7.00       1st Qu.: 22.00      \n",
       " Median : 2.200   Median :0.07900   Median :14.00       Median : 38.00      \n",
       " Mean   : 2.539   Mean   :0.08747   Mean   :15.87       Mean   : 46.47      \n",
       " 3rd Qu.: 2.600   3rd Qu.:0.09000   3rd Qu.:21.00       3rd Qu.: 62.00      \n",
       " Max.   :15.500   Max.   :0.61100   Max.   :72.00       Max.   :289.00      \n",
       "    density             pH          sulphates         alcohol     \n",
       " Min.   :0.9901   Min.   :2.740   Min.   :0.3300   Min.   : 8.40  \n",
       " 1st Qu.:0.9956   1st Qu.:3.210   1st Qu.:0.5500   1st Qu.: 9.50  \n",
       " Median :0.9968   Median :3.310   Median :0.6200   Median :10.20  \n",
       " Mean   :0.9967   Mean   :3.311   Mean   :0.6581   Mean   :10.42  \n",
       " 3rd Qu.:0.9978   3rd Qu.:3.400   3rd Qu.:0.7300   3rd Qu.:11.10  \n",
       " Max.   :1.0037   Max.   :4.010   Max.   :2.0000   Max.   :14.90  \n",
       "    quality          type          \n",
       " Min.   :3.000   Length:1599       \n",
       " 1st Qu.:5.000   Class :character  \n",
       " Median :6.000   Mode  :character  \n",
       " Mean   :5.636                     \n",
       " 3rd Qu.:6.000                     \n",
       " Max.   :8.000                     "
      ]
     },
     "metadata": {},
     "output_type": "display_data"
    },
    {
     "name": "stdout",
     "output_type": "stream",
     "text": [
      "[1] \"Resumen descriptivo para vino blanco\"\n"
     ]
    },
    {
     "data": {
      "text/plain": [
       "       X        fixed.acidity    volatile.acidity  citric.acid    \n",
       " Min.   :   1   Min.   : 3.800   Min.   :0.0800   Min.   :0.0000  \n",
       " 1st Qu.:1225   1st Qu.: 6.300   1st Qu.:0.2100   1st Qu.:0.2700  \n",
       " Median :2450   Median : 6.800   Median :0.2600   Median :0.3200  \n",
       " Mean   :2450   Mean   : 6.855   Mean   :0.2782   Mean   :0.3342  \n",
       " 3rd Qu.:3674   3rd Qu.: 7.300   3rd Qu.:0.3200   3rd Qu.:0.3900  \n",
       " Max.   :4898   Max.   :14.200   Max.   :1.1000   Max.   :1.6600  \n",
       " residual.sugar     chlorides       free.sulfur.dioxide total.sulfur.dioxide\n",
       " Min.   : 0.600   Min.   :0.00900   Min.   :  2.00      Min.   :  9.0       \n",
       " 1st Qu.: 1.700   1st Qu.:0.03600   1st Qu.: 23.00      1st Qu.:108.0       \n",
       " Median : 5.200   Median :0.04300   Median : 34.00      Median :134.0       \n",
       " Mean   : 6.391   Mean   :0.04577   Mean   : 35.31      Mean   :138.4       \n",
       " 3rd Qu.: 9.900   3rd Qu.:0.05000   3rd Qu.: 46.00      3rd Qu.:167.0       \n",
       " Max.   :65.800   Max.   :0.34600   Max.   :289.00      Max.   :440.0       \n",
       "    density             pH          sulphates         alcohol     \n",
       " Min.   :0.9871   Min.   :2.720   Min.   :0.2200   Min.   : 8.00  \n",
       " 1st Qu.:0.9917   1st Qu.:3.090   1st Qu.:0.4100   1st Qu.: 9.50  \n",
       " Median :0.9937   Median :3.180   Median :0.4700   Median :10.40  \n",
       " Mean   :0.9940   Mean   :3.188   Mean   :0.4898   Mean   :10.51  \n",
       " 3rd Qu.:0.9961   3rd Qu.:3.280   3rd Qu.:0.5500   3rd Qu.:11.40  \n",
       " Max.   :1.0390   Max.   :3.820   Max.   :1.0800   Max.   :14.20  \n",
       "    quality          type          \n",
       " Min.   :3.000   Length:4898       \n",
       " 1st Qu.:5.000   Class :character  \n",
       " Median :6.000   Mode  :character  \n",
       " Mean   :5.878                     \n",
       " 3rd Qu.:6.000                     \n",
       " Max.   :9.000                     "
      ]
     },
     "metadata": {},
     "output_type": "display_data"
    }
   ],
   "source": [
    "red <- subset(wine, type == \"red\")\n",
    "white <- subset(wine, type == \"white\")\n",
    "\n",
    "print(\"Resumen descriptivo para vino rojo\")\n",
    "summary(red)\n",
    "\n",
    "print(\"Resumen descriptivo para vino blanco\")\n",
    "summary(white)\n",
    "\n"
   ]
  },
  {
   "cell_type": "markdown",
   "metadata": {},
   "source": [
    "El grafico a continuacion nos muestra la distribucion de Alcohol por tipo de vino"
   ]
  },
  {
   "cell_type": "code",
   "execution_count": 4,
   "metadata": {
    "vscode": {
     "languageId": "r"
    }
   },
   "outputs": [
    {
     "name": "stderr",
     "output_type": "stream",
     "text": [
      "Warning message:\n",
      "\"package 'ggplot2' was built under R version 4.2.3\"\n"
     ]
    },
    {
     "data": {
      "image/png": "[encoded data removed]",
      "text/plain": [
       "plot without title"
      ]
     },
     "metadata": {
      "image/png": {
       "height": 420,
       "width": 420
      }
     },
     "output_type": "display_data"
    }
   ],
   "source": [
    "library(ggplot2)\n",
    "\n",
    "ggplot(wine, aes(x = alcohol, fill = type)) +\n",
    "  geom_histogram(position = \"dodge\", binwidth = 0.5) +\n",
    "  labs(title = \"Distribución del Alcohol por Tipo de Vino\", x = \"Alcohol\", y = \"Frecuencia\")\n"
   ]
  },
  {
   "cell_type": "markdown",
   "metadata": {},
   "source": [
    "# b. Determine las variables que influyen de manera significativa en el grado de alcohol del vino producido en las bodegas."
   ]
  },
  {
   "cell_type": "code",
   "execution_count": 9,
   "metadata": {
    "vscode": {
     "languageId": "r"
    }
   },
   "outputs": [
    {
     "data": {
      "text/plain": [
       "\n",
       "Call:\n",
       "lm(formula = alcohol ~ fixed.acidity + volatile.acidity + citric.acid + \n",
       "    residual.sugar + chlorides + free.sulfur.dioxide + total.sulfur.dioxide + \n",
       "    density + pH + sulphates, data = wine)\n",
       "\n",
       "Residuals:\n",
       "    Min      1Q  Median      3Q     Max \n",
       "-3.7178 -0.3318 -0.0277  0.2916 13.7643 \n",
       "\n",
       "Coefficients:\n",
       "                       Estimate Std. Error  t value Pr(>|t|)    \n",
       "(Intercept)           6.009e+02  4.720e+00  127.316  < 2e-16 ***\n",
       "fixed.acidity         5.697e-01  9.143e-03   62.305  < 2e-16 ***\n",
       "volatile.acidity      1.411e+00  5.470e-02   25.797  < 2e-16 ***\n",
       "citric.acid           4.398e-01  5.885e-02    7.473 8.85e-14 ***\n",
       "residual.sugar        2.081e-01  2.823e-03   73.730  < 2e-16 ***\n",
       "chlorides            -1.133e-01  2.469e-01   -0.459    0.646    \n",
       "free.sulfur.dioxide   5.942e-04  5.575e-04    1.066    0.287    \n",
       "total.sulfur.dioxide -4.538e-03  1.975e-04  -22.979  < 2e-16 ***\n",
       "density              -6.093e+02  4.892e+00 -124.545  < 2e-16 ***\n",
       "pH                    2.962e+00  5.610e-02   52.790  < 2e-16 ***\n",
       "sulphates             1.469e+00  5.348e-02   27.470  < 2e-16 ***\n",
       "---\n",
       "Signif. codes:  0 '***' 0.001 '**' 0.01 '*' 0.05 '.' 0.1 ' ' 1\n",
       "\n",
       "Residual standard error: 0.5458 on 6486 degrees of freedom\n",
       "Multiple R-squared:  0.7909,\tAdjusted R-squared:  0.7906 \n",
       "F-statistic:  2453 on 10 and 6486 DF,  p-value: < 2.2e-16\n"
      ]
     },
     "metadata": {},
     "output_type": "display_data"
    }
   ],
   "source": [
    "# Modelo de regresión lineal para predecir el grado de alcohol\n",
    "model <- lm(alcohol ~ fixed.acidity + volatile.acidity + citric.acid + residual.sugar + chlorides +\n",
    "             free.sulfur.dioxide + total.sulfur.dioxide + density + pH + sulphates, data = wine)\n",
    "\n",
    "summary(model)"
   ]
  },
  {
   "cell_type": "markdown",
   "metadata": {},
   "source": [
    "Podemos observar que las variables fixed.acidity, volatile.acidity, citric.acid, residual.sugar, total.sulfur.dioxide, density, pH y sulphates son significativas para el modelo de regresion."
   ]
  },
  {
   "cell_type": "markdown",
   "metadata": {},
   "source": [
    "# c. Un vino se considera exclusivo si su puntación de calidad es 9 o 10. ¿Cuáles de las características del vino producido en las bodegas aumentan la probabilidad de que sea considerado exclusivo?"
   ]
  },
  {
   "cell_type": "code",
   "execution_count": 12,
   "metadata": {
    "vscode": {
     "languageId": "r"
    }
   },
   "outputs": [
    {
     "name": "stderr",
     "output_type": "stream",
     "text": [
      "Warning message:\n",
      "\"glm.fit: fitted probabilities numerically 0 or 1 occurred\"\n"
     ]
    },
    {
     "data": {
      "text/plain": [
       "\n",
       "Call:\n",
       "glm(formula = exclusive ~ fixed.acidity + volatile.acidity + \n",
       "    citric.acid + residual.sugar + free.sulfur.dioxide + total.sulfur.dioxide + \n",
       "    density + pH + sulphates, family = binomial, data = wine)\n",
       "\n",
       "Deviance Residuals: \n",
       "    Min       1Q   Median       3Q      Max  \n",
       "-1.1968  -0.0251  -0.0098  -0.0045   3.7910  \n",
       "\n",
       "Coefficients:\n",
       "                       Estimate Std. Error z value Pr(>|z|)    \n",
       "(Intercept)           1.095e+03  3.750e+02   2.919 0.003510 ** \n",
       "fixed.acidity         1.359e+00  3.605e-01   3.768 0.000164 ***\n",
       "volatile.acidity     -6.845e-01  4.416e+00  -0.155 0.876801    \n",
       "citric.acid           2.948e+00  2.562e+00   1.151 0.249919    \n",
       "residual.sugar        4.735e-01  2.134e-01   2.218 0.026535 *  \n",
       "free.sulfur.dioxide   2.973e-02  3.909e-02   0.761 0.446945    \n",
       "total.sulfur.dioxide -1.329e-02  1.881e-02  -0.706 0.479939    \n",
       "density              -1.159e+03  3.858e+02  -3.005 0.002660 ** \n",
       "pH                    1.175e+01  3.758e+00   3.126 0.001774 ** \n",
       "sulphates            -3.128e+00  4.857e+00  -0.644 0.519585    \n",
       "---\n",
       "Signif. codes:  0 '***' 0.001 '**' 0.01 '*' 0.05 '.' 0.1 ' ' 1\n",
       "\n",
       "(Dispersion parameter for binomial family taken to be 1)\n",
       "\n",
       "    Null deviance: 81.693  on 6496  degrees of freedom\n",
       "Residual deviance: 58.515  on 6487  degrees of freedom\n",
       "AIC: 78.515\n",
       "\n",
       "Number of Fisher Scoring iterations: 12\n"
      ]
     },
     "metadata": {},
     "output_type": "display_data"
    }
   ],
   "source": [
    "# Definir exclusividad\n",
    "wine$exclusive <- ifelse(wine$quality >= 9, 1, 0)\n",
    "\n",
    "# Modelo de regresión logística para predecir la exclusividad\n",
    "logistic_model <- glm(exclusive ~ fixed.acidity + volatile.acidity + citric.acid + residual.sugar +\n",
    "                      free.sulfur.dioxide + total.sulfur.dioxide + density + pH + sulphates,\n",
    "                      family = binomial, data = wine)\n",
    "\n",
    "# Resumen del modelo\n",
    "summary(logistic_model)"
   ]
  },
  {
   "cell_type": "markdown",
   "metadata": {},
   "source": [
    "Las variables que aumentan la probabilidad de considerar el vino como exlusivo son fixed.acidity, residual.sugar, density y pH."
   ]
  },
  {
   "cell_type": "markdown",
   "metadata": {},
   "source": []
  }
 ],
 "metadata": {
  "kernelspec": {
   "display_name": "R",
   "language": "R",
   "name": "ir"
  },
  "language_info": {
   "codemirror_mode": "r",
   "file_extension": ".r",
   "mimetype": "text/x-r-source",
   "name": "R",
   "pygments_lexer": "r",
   "version": "4.2.2"
  }
 },
 "nbformat": 4,
 "nbformat_minor": 2
}
