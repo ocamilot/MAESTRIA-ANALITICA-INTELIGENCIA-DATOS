{
 "cells": [
  {
   "cell_type": "markdown",
   "id": "36975036-fd4b-4408-94de-43f1db5fa78c",
   "metadata": {},
   "source": [
    "# Analisis exploratorio competencia regresion"
   ]
  },
  {
   "cell_type": "markdown",
   "id": "e12dc634-1c2b-443f-8c03-8edf06833c11",
   "metadata": {},
   "source": [
    "**Grupo 2:**\n",
    "\n",
    "    Ronaldo Ballesteros salguero\n",
    "    Hugo Ruiz Bautista\n",
    "    Anlly Marcela Murillo Moncayo\n",
    "    Oscar Camilo Alvarez Torres"
   ]
  },
  {
   "cell_type": "code",
   "execution_count": 72,
   "id": "e5ae3f8f-1de5-48b2-a66c-eb2fb2ffea7f",
   "metadata": {},
   "outputs": [],
   "source": [
    "library(dplyr)\n",
    "library(car)\n",
    "library(explore)\n",
    "library(psych)\n",
    "library(corrplot)\n",
    "library(MVN)\n",
    "library(moments)"
   ]
  },
  {
   "cell_type": "code",
   "execution_count": 73,
   "id": "3d8b1501-b12e-4b6d-8cef-cbc4defa01f5",
   "metadata": {},
   "outputs": [],
   "source": [
    "data <- read.csv(\"C:\\\\Users\\\\U1037319\\\\Downloads\\\\Test real state.csv\")\n"
   ]
  },
  {
   "cell_type": "markdown",
   "id": "db24034e-048c-460c-bbdf-a53a718cde0f",
   "metadata": {},
   "source": [
    "## Analisis Exploratorio de Datos"
   ]
  },
  {
   "cell_type": "code",
   "execution_count": 74,
   "id": "0733cf7e-bec5-4e71-8109-87bdf95f407b",
   "metadata": {},
   "outputs": [
    {
     "data": {
      "text/html": [
       "<style>\n",
       ".list-inline {list-style: none; margin:0; padding: 0}\n",
       ".list-inline>li {display: inline-block}\n",
       ".list-inline>li:not(:last-child)::after {content: \"\\00b7\"; padding: 0 .5ex}\n",
       "</style>\n",
       "<ol class=list-inline><li>1767</li><li>30</li></ol>\n"
      ],
      "text/latex": [
       "\\begin{enumerate*}\n",
       "\\item 1767\n",
       "\\item 30\n",
       "\\end{enumerate*}\n"
      ],
      "text/markdown": [
       "1. 1767\n",
       "2. 30\n",
       "\n",
       "\n"
      ],
      "text/plain": [
       "[1] 1767   30"
      ]
     },
     "metadata": {},
     "output_type": "display_data"
    }
   ],
   "source": [
    "dim(data)"
   ]
  },
  {
   "cell_type": "code",
   "execution_count": 75,
   "id": "28bbe95a-84c1-4f86-b9ed-3a31afa85904",
   "metadata": {},
   "outputs": [
    {
     "data": {
      "text/html": [
       "<table class=\"dataframe\">\n",
       "<caption>A data.frame: 6 × 30</caption>\n",
       "<thead>\n",
       "\t<tr><th></th><th scope=col>X</th><th scope=col>YearBuilt</th><th scope=col>YrSold</th><th scope=col>MonthSold</th><th scope=col>Size.sqf.</th><th scope=col>Floor</th><th scope=col>HallwayType</th><th scope=col>HeatingType</th><th scope=col>AptManageType</th><th scope=col>N_Parkinglot.Ground.</th><th scope=col>⋯</th><th scope=col>N_FacilitiesNearBy.Mall.</th><th scope=col>N_FacilitiesNearBy.ETC.</th><th scope=col>N_FacilitiesNearBy.Park.</th><th scope=col>N_SchoolNearBy.Elementary.</th><th scope=col>N_SchoolNearBy.Middle.</th><th scope=col>N_SchoolNearBy.High.</th><th scope=col>N_SchoolNearBy.University.</th><th scope=col>N_FacilitiesInApt</th><th scope=col>N_FacilitiesNearBy.Total.</th><th scope=col>N_SchoolNearBy.Total.</th></tr>\n",
       "\t<tr><th></th><th scope=col>&lt;int&gt;</th><th scope=col>&lt;int&gt;</th><th scope=col>&lt;int&gt;</th><th scope=col>&lt;int&gt;</th><th scope=col>&lt;int&gt;</th><th scope=col>&lt;int&gt;</th><th scope=col>&lt;chr&gt;</th><th scope=col>&lt;chr&gt;</th><th scope=col>&lt;chr&gt;</th><th scope=col>&lt;int&gt;</th><th scope=col>⋯</th><th scope=col>&lt;int&gt;</th><th scope=col>&lt;int&gt;</th><th scope=col>&lt;int&gt;</th><th scope=col>&lt;int&gt;</th><th scope=col>&lt;int&gt;</th><th scope=col>&lt;int&gt;</th><th scope=col>&lt;int&gt;</th><th scope=col>&lt;int&gt;</th><th scope=col>&lt;int&gt;</th><th scope=col>&lt;int&gt;</th></tr>\n",
       "</thead>\n",
       "<tbody>\n",
       "\t<tr><th scope=row>1</th><td>3016</td><td>2013</td><td>2013</td><td>6</td><td> 910</td><td>18</td><td>terraced</td><td>individual_heating</td><td>management_in_trust</td><td>  8</td><td>⋯</td><td>1</td><td>0</td><td>1</td><td>4</td><td>2</td><td>2</td><td>3</td><td>7</td><td> 9</td><td>11</td></tr>\n",
       "\t<tr><th scope=row>2</th><td>5492</td><td>2014</td><td>2017</td><td>4</td><td> 640</td><td>25</td><td>terraced</td><td>individual_heating</td><td>management_in_trust</td><td> 90</td><td>⋯</td><td>1</td><td>5</td><td>0</td><td>4</td><td>3</td><td>5</td><td>5</td><td>9</td><td>14</td><td>17</td></tr>\n",
       "\t<tr><th scope=row>3</th><td>2757</td><td>1992</td><td>2013</td><td>2</td><td> 640</td><td> 5</td><td>corridor</td><td>individual_heating</td><td>management_in_trust</td><td>200</td><td>⋯</td><td>1</td><td>5</td><td>1</td><td>4</td><td>3</td><td>5</td><td>5</td><td>3</td><td>16</td><td>17</td></tr>\n",
       "\t<tr><th scope=row>4</th><td>1397</td><td>2006</td><td>2010</td><td>7</td><td> 914</td><td>16</td><td>terraced</td><td>individual_heating</td><td>management_in_trust</td><td>249</td><td>⋯</td><td>1</td><td>0</td><td>0</td><td>2</td><td>2</td><td>1</td><td>2</td><td>5</td><td> 3</td><td> 7</td></tr>\n",
       "\t<tr><th scope=row>5</th><td> 510</td><td>1993</td><td>2009</td><td>1</td><td> 644</td><td>17</td><td>mixed   </td><td>individual_heating</td><td>management_in_trust</td><td>523</td><td>⋯</td><td>1</td><td>5</td><td>0</td><td>4</td><td>3</td><td>5</td><td>5</td><td>4</td><td>14</td><td>17</td></tr>\n",
       "\t<tr><th scope=row>6</th><td>4985</td><td>2007</td><td>2016</td><td>7</td><td>1334</td><td>23</td><td>terraced</td><td>individual_heating</td><td>management_in_trust</td><td>  7</td><td>⋯</td><td>1</td><td>0</td><td>1</td><td>2</td><td>1</td><td>1</td><td>1</td><td>5</td><td> 9</td><td> 5</td></tr>\n",
       "</tbody>\n",
       "</table>\n"
      ],
      "text/latex": [
       "A data.frame: 6 × 30\n",
       "\\begin{tabular}{r|lllllllllllllllllllll}\n",
       "  & X & YearBuilt & YrSold & MonthSold & Size.sqf. & Floor & HallwayType & HeatingType & AptManageType & N\\_Parkinglot.Ground. & ⋯ & N\\_FacilitiesNearBy.Mall. & N\\_FacilitiesNearBy.ETC. & N\\_FacilitiesNearBy.Park. & N\\_SchoolNearBy.Elementary. & N\\_SchoolNearBy.Middle. & N\\_SchoolNearBy.High. & N\\_SchoolNearBy.University. & N\\_FacilitiesInApt & N\\_FacilitiesNearBy.Total. & N\\_SchoolNearBy.Total.\\\\\n",
       "  & <int> & <int> & <int> & <int> & <int> & <int> & <chr> & <chr> & <chr> & <int> & ⋯ & <int> & <int> & <int> & <int> & <int> & <int> & <int> & <int> & <int> & <int>\\\\\n",
       "\\hline\n",
       "\t1 & 3016 & 2013 & 2013 & 6 &  910 & 18 & terraced & individual\\_heating & management\\_in\\_trust &   8 & ⋯ & 1 & 0 & 1 & 4 & 2 & 2 & 3 & 7 &  9 & 11\\\\\n",
       "\t2 & 5492 & 2014 & 2017 & 4 &  640 & 25 & terraced & individual\\_heating & management\\_in\\_trust &  90 & ⋯ & 1 & 5 & 0 & 4 & 3 & 5 & 5 & 9 & 14 & 17\\\\\n",
       "\t3 & 2757 & 1992 & 2013 & 2 &  640 &  5 & corridor & individual\\_heating & management\\_in\\_trust & 200 & ⋯ & 1 & 5 & 1 & 4 & 3 & 5 & 5 & 3 & 16 & 17\\\\\n",
       "\t4 & 1397 & 2006 & 2010 & 7 &  914 & 16 & terraced & individual\\_heating & management\\_in\\_trust & 249 & ⋯ & 1 & 0 & 0 & 2 & 2 & 1 & 2 & 5 &  3 &  7\\\\\n",
       "\t5 &  510 & 1993 & 2009 & 1 &  644 & 17 & mixed    & individual\\_heating & management\\_in\\_trust & 523 & ⋯ & 1 & 5 & 0 & 4 & 3 & 5 & 5 & 4 & 14 & 17\\\\\n",
       "\t6 & 4985 & 2007 & 2016 & 7 & 1334 & 23 & terraced & individual\\_heating & management\\_in\\_trust &   7 & ⋯ & 1 & 0 & 1 & 2 & 1 & 1 & 1 & 5 &  9 &  5\\\\\n",
       "\\end{tabular}\n"
      ],
      "text/markdown": [
       "\n",
       "A data.frame: 6 × 30\n",
       "\n",
       "| <!--/--> | X &lt;int&gt; | YearBuilt &lt;int&gt; | YrSold &lt;int&gt; | MonthSold &lt;int&gt; | Size.sqf. &lt;int&gt; | Floor &lt;int&gt; | HallwayType &lt;chr&gt; | HeatingType &lt;chr&gt; | AptManageType &lt;chr&gt; | N_Parkinglot.Ground. &lt;int&gt; | ⋯ ⋯ | N_FacilitiesNearBy.Mall. &lt;int&gt; | N_FacilitiesNearBy.ETC. &lt;int&gt; | N_FacilitiesNearBy.Park. &lt;int&gt; | N_SchoolNearBy.Elementary. &lt;int&gt; | N_SchoolNearBy.Middle. &lt;int&gt; | N_SchoolNearBy.High. &lt;int&gt; | N_SchoolNearBy.University. &lt;int&gt; | N_FacilitiesInApt &lt;int&gt; | N_FacilitiesNearBy.Total. &lt;int&gt; | N_SchoolNearBy.Total. &lt;int&gt; |\n",
       "|---|---|---|---|---|---|---|---|---|---|---|---|---|---|---|---|---|---|---|---|---|---|\n",
       "| 1 | 3016 | 2013 | 2013 | 6 |  910 | 18 | terraced | individual_heating | management_in_trust |   8 | ⋯ | 1 | 0 | 1 | 4 | 2 | 2 | 3 | 7 |  9 | 11 |\n",
       "| 2 | 5492 | 2014 | 2017 | 4 |  640 | 25 | terraced | individual_heating | management_in_trust |  90 | ⋯ | 1 | 5 | 0 | 4 | 3 | 5 | 5 | 9 | 14 | 17 |\n",
       "| 3 | 2757 | 1992 | 2013 | 2 |  640 |  5 | corridor | individual_heating | management_in_trust | 200 | ⋯ | 1 | 5 | 1 | 4 | 3 | 5 | 5 | 3 | 16 | 17 |\n",
       "| 4 | 1397 | 2006 | 2010 | 7 |  914 | 16 | terraced | individual_heating | management_in_trust | 249 | ⋯ | 1 | 0 | 0 | 2 | 2 | 1 | 2 | 5 |  3 |  7 |\n",
       "| 5 |  510 | 1993 | 2009 | 1 |  644 | 17 | mixed    | individual_heating | management_in_trust | 523 | ⋯ | 1 | 5 | 0 | 4 | 3 | 5 | 5 | 4 | 14 | 17 |\n",
       "| 6 | 4985 | 2007 | 2016 | 7 | 1334 | 23 | terraced | individual_heating | management_in_trust |   7 | ⋯ | 1 | 0 | 1 | 2 | 1 | 1 | 1 | 5 |  9 |  5 |\n",
       "\n"
      ],
      "text/plain": [
       "  X    YearBuilt YrSold MonthSold Size.sqf. Floor HallwayType\n",
       "1 3016 2013      2013   6          910      18    terraced   \n",
       "2 5492 2014      2017   4          640      25    terraced   \n",
       "3 2757 1992      2013   2          640       5    corridor   \n",
       "4 1397 2006      2010   7          914      16    terraced   \n",
       "5  510 1993      2009   1          644      17    mixed      \n",
       "6 4985 2007      2016   7         1334      23    terraced   \n",
       "  HeatingType        AptManageType       N_Parkinglot.Ground. ⋯\n",
       "1 individual_heating management_in_trust   8                  ⋯\n",
       "2 individual_heating management_in_trust  90                  ⋯\n",
       "3 individual_heating management_in_trust 200                  ⋯\n",
       "4 individual_heating management_in_trust 249                  ⋯\n",
       "5 individual_heating management_in_trust 523                  ⋯\n",
       "6 individual_heating management_in_trust   7                  ⋯\n",
       "  N_FacilitiesNearBy.Mall. N_FacilitiesNearBy.ETC. N_FacilitiesNearBy.Park.\n",
       "1 1                        0                       1                       \n",
       "2 1                        5                       0                       \n",
       "3 1                        5                       1                       \n",
       "4 1                        0                       0                       \n",
       "5 1                        5                       0                       \n",
       "6 1                        0                       1                       \n",
       "  N_SchoolNearBy.Elementary. N_SchoolNearBy.Middle. N_SchoolNearBy.High.\n",
       "1 4                          2                      2                   \n",
       "2 4                          3                      5                   \n",
       "3 4                          3                      5                   \n",
       "4 2                          2                      1                   \n",
       "5 4                          3                      5                   \n",
       "6 2                          1                      1                   \n",
       "  N_SchoolNearBy.University. N_FacilitiesInApt N_FacilitiesNearBy.Total.\n",
       "1 3                          7                  9                       \n",
       "2 5                          9                 14                       \n",
       "3 5                          3                 16                       \n",
       "4 2                          5                  3                       \n",
       "5 5                          4                 14                       \n",
       "6 1                          5                  9                       \n",
       "  N_SchoolNearBy.Total.\n",
       "1 11                   \n",
       "2 17                   \n",
       "3 17                   \n",
       "4  7                   \n",
       "5 17                   \n",
       "6  5                   "
      ]
     },
     "metadata": {},
     "output_type": "display_data"
    }
   ],
   "source": [
    "head(data)"
   ]
  },
  {
   "cell_type": "code",
   "execution_count": 76,
   "id": "cc2f724c-9df9-47e8-aaaf-5cf7fa0fff06",
   "metadata": {},
   "outputs": [
    {
     "data": {
      "text/html": [
       "<style>\n",
       ".list-inline {list-style: none; margin:0; padding: 0}\n",
       ".list-inline>li {display: inline-block}\n",
       ".list-inline>li:not(:last-child)::after {content: \"\\00b7\"; padding: 0 .5ex}\n",
       "</style>\n",
       "<ol class=list-inline><li>'X'</li><li>'YearBuilt'</li><li>'YrSold'</li><li>'MonthSold'</li><li>'Size.sqf.'</li><li>'Floor'</li><li>'HallwayType'</li><li>'HeatingType'</li><li>'AptManageType'</li><li>'N_Parkinglot.Ground.'</li><li>'N_Parkinglot.Basement.'</li><li>'TimeToBusStop'</li><li>'TimeToSubway'</li><li>'N_APT'</li><li>'N_manager'</li><li>'N_elevators'</li><li>'SubwayStation'</li><li>'N_FacilitiesNearBy.PublicOffice.'</li><li>'N_FacilitiesNearBy.Hospital.'</li><li>'N_FacilitiesNearBy.Dpartmentstore.'</li><li>'N_FacilitiesNearBy.Mall.'</li><li>'N_FacilitiesNearBy.ETC.'</li><li>'N_FacilitiesNearBy.Park.'</li><li>'N_SchoolNearBy.Elementary.'</li><li>'N_SchoolNearBy.Middle.'</li><li>'N_SchoolNearBy.High.'</li><li>'N_SchoolNearBy.University.'</li><li>'N_FacilitiesInApt'</li><li>'N_FacilitiesNearBy.Total.'</li><li>'N_SchoolNearBy.Total.'</li></ol>\n"
      ],
      "text/latex": [
       "\\begin{enumerate*}\n",
       "\\item 'X'\n",
       "\\item 'YearBuilt'\n",
       "\\item 'YrSold'\n",
       "\\item 'MonthSold'\n",
       "\\item 'Size.sqf.'\n",
       "\\item 'Floor'\n",
       "\\item 'HallwayType'\n",
       "\\item 'HeatingType'\n",
       "\\item 'AptManageType'\n",
       "\\item 'N\\_Parkinglot.Ground.'\n",
       "\\item 'N\\_Parkinglot.Basement.'\n",
       "\\item 'TimeToBusStop'\n",
       "\\item 'TimeToSubway'\n",
       "\\item 'N\\_APT'\n",
       "\\item 'N\\_manager'\n",
       "\\item 'N\\_elevators'\n",
       "\\item 'SubwayStation'\n",
       "\\item 'N\\_FacilitiesNearBy.PublicOffice.'\n",
       "\\item 'N\\_FacilitiesNearBy.Hospital.'\n",
       "\\item 'N\\_FacilitiesNearBy.Dpartmentstore.'\n",
       "\\item 'N\\_FacilitiesNearBy.Mall.'\n",
       "\\item 'N\\_FacilitiesNearBy.ETC.'\n",
       "\\item 'N\\_FacilitiesNearBy.Park.'\n",
       "\\item 'N\\_SchoolNearBy.Elementary.'\n",
       "\\item 'N\\_SchoolNearBy.Middle.'\n",
       "\\item 'N\\_SchoolNearBy.High.'\n",
       "\\item 'N\\_SchoolNearBy.University.'\n",
       "\\item 'N\\_FacilitiesInApt'\n",
       "\\item 'N\\_FacilitiesNearBy.Total.'\n",
       "\\item 'N\\_SchoolNearBy.Total.'\n",
       "\\end{enumerate*}\n"
      ],
      "text/markdown": [
       "1. 'X'\n",
       "2. 'YearBuilt'\n",
       "3. 'YrSold'\n",
       "4. 'MonthSold'\n",
       "5. 'Size.sqf.'\n",
       "6. 'Floor'\n",
       "7. 'HallwayType'\n",
       "8. 'HeatingType'\n",
       "9. 'AptManageType'\n",
       "10. 'N_Parkinglot.Ground.'\n",
       "11. 'N_Parkinglot.Basement.'\n",
       "12. 'TimeToBusStop'\n",
       "13. 'TimeToSubway'\n",
       "14. 'N_APT'\n",
       "15. 'N_manager'\n",
       "16. 'N_elevators'\n",
       "17. 'SubwayStation'\n",
       "18. 'N_FacilitiesNearBy.PublicOffice.'\n",
       "19. 'N_FacilitiesNearBy.Hospital.'\n",
       "20. 'N_FacilitiesNearBy.Dpartmentstore.'\n",
       "21. 'N_FacilitiesNearBy.Mall.'\n",
       "22. 'N_FacilitiesNearBy.ETC.'\n",
       "23. 'N_FacilitiesNearBy.Park.'\n",
       "24. 'N_SchoolNearBy.Elementary.'\n",
       "25. 'N_SchoolNearBy.Middle.'\n",
       "26. 'N_SchoolNearBy.High.'\n",
       "27. 'N_SchoolNearBy.University.'\n",
       "28. 'N_FacilitiesInApt'\n",
       "29. 'N_FacilitiesNearBy.Total.'\n",
       "30. 'N_SchoolNearBy.Total.'\n",
       "\n",
       "\n"
      ],
      "text/plain": [
       " [1] \"X\"                                  \"YearBuilt\"                         \n",
       " [3] \"YrSold\"                             \"MonthSold\"                         \n",
       " [5] \"Size.sqf.\"                          \"Floor\"                             \n",
       " [7] \"HallwayType\"                        \"HeatingType\"                       \n",
       " [9] \"AptManageType\"                      \"N_Parkinglot.Ground.\"              \n",
       "[11] \"N_Parkinglot.Basement.\"             \"TimeToBusStop\"                     \n",
       "[13] \"TimeToSubway\"                       \"N_APT\"                             \n",
       "[15] \"N_manager\"                          \"N_elevators\"                       \n",
       "[17] \"SubwayStation\"                      \"N_FacilitiesNearBy.PublicOffice.\"  \n",
       "[19] \"N_FacilitiesNearBy.Hospital.\"       \"N_FacilitiesNearBy.Dpartmentstore.\"\n",
       "[21] \"N_FacilitiesNearBy.Mall.\"           \"N_FacilitiesNearBy.ETC.\"           \n",
       "[23] \"N_FacilitiesNearBy.Park.\"           \"N_SchoolNearBy.Elementary.\"        \n",
       "[25] \"N_SchoolNearBy.Middle.\"             \"N_SchoolNearBy.High.\"              \n",
       "[27] \"N_SchoolNearBy.University.\"         \"N_FacilitiesInApt\"                 \n",
       "[29] \"N_FacilitiesNearBy.Total.\"          \"N_SchoolNearBy.Total.\"             "
      ]
     },
     "metadata": {},
     "output_type": "display_data"
    }
   ],
   "source": [
    "colnames(data)"
   ]
  },
  {
   "cell_type": "code",
   "execution_count": 77,
   "id": "c37522ba-e923-4116-809c-3dc9102bc6b9",
   "metadata": {},
   "outputs": [
    {
     "name": "stdout",
     "output_type": "stream",
     "text": [
      "'data.frame':\t1767 obs. of  30 variables:\n",
      " $ X                                 : int  3016 5492 2757 1397 510 4985 2071 1130 4438 2126 ...\n",
      " $ YearBuilt                         : int  2013 2014 1992 2006 1993 2007 1992 2006 2014 2009 ...\n",
      " $ YrSold                            : int  2013 2017 2013 2010 2009 2016 2011 2010 2015 2011 ...\n",
      " $ MonthSold                         : int  6 4 2 7 1 7 8 3 9 10 ...\n",
      " $ Size.sqf.                         : int  910 640 640 914 644 1334 1448 818 288 910 ...\n",
      " $ Floor                             : int  18 25 5 16 17 23 13 22 12 9 ...\n",
      " $ HallwayType                       : chr  \"terraced\" \"terraced\" \"corridor\" \"terraced\" ...\n",
      " $ HeatingType                       : chr  \"individual_heating\" \"individual_heating\" \"individual_heating\" \"individual_heating\" ...\n",
      " $ AptManageType                     : chr  \"management_in_trust\" \"management_in_trust\" \"management_in_trust\" \"management_in_trust\" ...\n",
      " $ N_Parkinglot.Ground.              : int  8 90 200 249 523 7 142 249 11 25 ...\n",
      " $ N_Parkinglot.Basement.            : int  930 1174 0 536 536 605 79 536 108 203 ...\n",
      " $ TimeToBusStop                     : chr  \"0~5min\" \"0~5min\" \"5min~10min\" \"0~5min\" ...\n",
      " $ TimeToSubway                      : chr  \"0-5min\" \"0-5min\" \"10min~15min\" \"0-5min\" ...\n",
      " $ N_APT                             : int  7 10 3 6 8 2 3 6 1 1 ...\n",
      " $ N_manager                         : int  6 7 5 5 8 5 4 5 3 2 ...\n",
      " $ N_elevators                       : int  14 20 10 11 20 5 8 11 0 5 ...\n",
      " $ SubwayStation                     : chr  \"Kyungbuk_uni_hospital\" \"Myung-duk\" \"Myung-duk\" \"Sin-nam\" ...\n",
      " $ N_FacilitiesNearBy.PublicOffice.  : int  5 7 7 1 6 4 5 1 3 2 ...\n",
      " $ N_FacilitiesNearBy.Hospital.      : int  1 1 1 1 2 1 1 1 1 1 ...\n",
      " $ N_FacilitiesNearBy.Dpartmentstore.: int  1 0 1 0 0 2 1 0 2 0 ...\n",
      " $ N_FacilitiesNearBy.Mall.          : int  1 1 1 1 1 1 1 1 1 0 ...\n",
      " $ N_FacilitiesNearBy.ETC.           : int  0 5 5 0 5 0 1 0 0 2 ...\n",
      " $ N_FacilitiesNearBy.Park.          : int  1 0 1 0 0 1 0 0 1 1 ...\n",
      " $ N_SchoolNearBy.Elementary.        : int  4 4 4 2 4 2 3 2 2 2 ...\n",
      " $ N_SchoolNearBy.Middle.            : int  2 3 3 2 3 1 3 2 2 1 ...\n",
      " $ N_SchoolNearBy.High.              : int  2 5 5 1 5 1 4 1 2 1 ...\n",
      " $ N_SchoolNearBy.University.        : int  3 5 5 2 5 1 4 2 2 1 ...\n",
      " $ N_FacilitiesInApt                 : int  7 9 3 5 4 5 3 5 2 5 ...\n",
      " $ N_FacilitiesNearBy.Total.         : int  9 14 16 3 14 9 9 3 8 6 ...\n",
      " $ N_SchoolNearBy.Total.             : int  11 17 17 7 17 5 14 7 8 5 ...\n"
     ]
    }
   ],
   "source": [
    "str(data)"
   ]
  },
  {
   "cell_type": "raw",
   "id": "b4b476b1-bc04-46f6-8522-cc6ce7b94eb8",
   "metadata": {},
   "source": [
    "Se cuenta con 1767 observaciones de 30 variables, de las cuales 6 son de tipo chr cCadena de texto) y 24 de tipo int (entero). "
   ]
  },
  {
   "cell_type": "markdown",
   "id": "3f64dce5-d7ec-4623-a7bf-84f61c2a4518",
   "metadata": {},
   "source": [
    "Para cada una de las variables se identifica cantidad de valores faltantes, el porcentaje que estos representan, cantidad de valores únicos, mínimo. media y máximo. Se evidencia que no hay valores faltantes para todas las columnas del conjunto de datos."
   ]
  },
  {
   "cell_type": "code",
   "execution_count": 78,
   "id": "18f8ac68-caef-4a51-bb37-29a060f430d2",
   "metadata": {},
   "outputs": [
    {
     "data": {
      "text/html": [
       "<table class=\"dataframe\">\n",
       "<caption>A psych: 30 × 13</caption>\n",
       "<thead>\n",
       "\t<tr><th></th><th scope=col>vars</th><th scope=col>n</th><th scope=col>mean</th><th scope=col>sd</th><th scope=col>median</th><th scope=col>trimmed</th><th scope=col>mad</th><th scope=col>min</th><th scope=col>max</th><th scope=col>range</th><th scope=col>skew</th><th scope=col>kurtosis</th><th scope=col>se</th></tr>\n",
       "\t<tr><th></th><th scope=col>&lt;int&gt;</th><th scope=col>&lt;dbl&gt;</th><th scope=col>&lt;dbl&gt;</th><th scope=col>&lt;dbl&gt;</th><th scope=col>&lt;dbl&gt;</th><th scope=col>&lt;dbl&gt;</th><th scope=col>&lt;dbl&gt;</th><th scope=col>&lt;dbl&gt;</th><th scope=col>&lt;dbl&gt;</th><th scope=col>&lt;dbl&gt;</th><th scope=col>&lt;dbl&gt;</th><th scope=col>&lt;dbl&gt;</th><th scope=col>&lt;dbl&gt;</th></tr>\n",
       "</thead>\n",
       "<tbody>\n",
       "\t<tr><th scope=row>X</th><td> 1</td><td>1767</td><td>2932.4521788</td><td>1706.0942639</td><td>2889</td><td>2928.3385159</td><td>2183.8698</td><td>   4</td><td>5891</td><td>5887</td><td> 0.02663103</td><td>-1.1962748</td><td>40.586794080</td></tr>\n",
       "\t<tr><th scope=row>YearBuilt</th><td> 2</td><td>1767</td><td>2002.9501981</td><td>   8.7334901</td><td>2006</td><td>2003.6374558</td><td>   4.4478</td><td>1978</td><td>2015</td><td>  37</td><td>-0.73933868</td><td>-0.5212387</td><td> 0.207763645</td></tr>\n",
       "\t<tr><th scope=row>YrSold</th><td> 3</td><td>1767</td><td>2012.6672326</td><td>   2.9109405</td><td>2013</td><td>2012.7180212</td><td>   4.4478</td><td>2007</td><td>2017</td><td>  10</td><td>-0.11857217</td><td>-1.1776052</td><td> 0.069249247</td></tr>\n",
       "\t<tr><th scope=row>MonthSold</th><td> 4</td><td>1767</td><td>   6.1544992</td><td>   3.4009876</td><td>   6</td><td>   6.1187279</td><td>   4.4478</td><td>   1</td><td>  12</td><td>  11</td><td> 0.06857510</td><td>-1.1700701</td><td> 0.080907126</td></tr>\n",
       "\t<tr><th scope=row>Size.sqf.</th><td> 5</td><td>1767</td><td> 954.7758913</td><td> 395.2408567</td><td> 910</td><td> 919.1123675</td><td> 394.3716</td><td> 135</td><td>2337</td><td>2202</td><td> 0.93451296</td><td> 1.0195527</td><td> 9.402504657</td></tr>\n",
       "\t<tr><th scope=row>Floor</th><td> 6</td><td>1767</td><td>  11.9366157</td><td>   7.3896143</td><td>  11</td><td>  11.3469965</td><td>   7.4130</td><td>   1</td><td>  43</td><td>  42</td><td> 0.80534574</td><td> 0.7691065</td><td> 0.175793776</td></tr>\n",
       "\t<tr><th scope=row>HallwayType*</th><td> 7</td><td>1767</td><td>   2.4855688</td><td>   0.6910617</td><td>   3</td><td>   2.6063604</td><td>   0.0000</td><td>   1</td><td>   3</td><td>   2</td><td>-0.98233334</td><td>-0.3168275</td><td> 0.016439876</td></tr>\n",
       "\t<tr><th scope=row>HeatingType*</th><td> 8</td><td>1767</td><td>   1.9501981</td><td>   0.2175971</td><td>   2</td><td>   2.0000000</td><td>   0.0000</td><td>   1</td><td>   2</td><td>   1</td><td>-4.13556375</td><td>15.1114405</td><td> 0.005176483</td></tr>\n",
       "\t<tr><th scope=row>AptManageType*</th><td> 9</td><td>1767</td><td>   1.0571590</td><td>   0.2322119</td><td>   1</td><td>   1.0000000</td><td>   0.0000</td><td>   1</td><td>   2</td><td>   1</td><td> 3.81195163</td><td>12.5380719</td><td> 0.005524160</td></tr>\n",
       "\t<tr><th scope=row>N_Parkinglot.Ground.</th><td>10</td><td>1767</td><td> 198.6485569</td><td> 219.6914375</td><td> 100</td><td> 169.2692580</td><td> 143.8122</td><td>   0</td><td> 713</td><td> 713</td><td> 1.04323638</td><td>-0.3299723</td><td> 5.226306262</td></tr>\n",
       "\t<tr><th scope=row>N_Parkinglot.Basement.</th><td>11</td><td>1767</td><td> 568.8732315</td><td> 411.2949536</td><td> 536</td><td> 551.0176678</td><td> 493.7058</td><td>   0</td><td>1321</td><td>1321</td><td> 0.28086959</td><td>-0.9533065</td><td> 9.784420439</td></tr>\n",
       "\t<tr><th scope=row>TimeToBusStop*</th><td>12</td><td>1767</td><td>   1.4668930</td><td>   0.8399068</td><td>   1</td><td>   1.3342756</td><td>   0.0000</td><td>   1</td><td>   3</td><td>   2</td><td> 1.25904994</td><td>-0.3937463</td><td> 0.019980799</td></tr>\n",
       "\t<tr><th scope=row>TimeToSubway*</th><td>13</td><td>1767</td><td>   2.2252405</td><td>   1.3202736</td><td>   2</td><td>   2.1031802</td><td>   1.4826</td><td>   1</td><td>   5</td><td>   4</td><td> 0.53747926</td><td>-1.1640539</td><td> 0.031408390</td></tr>\n",
       "\t<tr><th scope=row>N_APT</th><td>14</td><td>1767</td><td>   5.5749859</td><td>   2.8721152</td><td>   7</td><td>   5.6197880</td><td>   1.4826</td><td>   1</td><td>  13</td><td>  12</td><td>-0.04697959</td><td>-0.6755818</td><td> 0.068325619</td></tr>\n",
       "\t<tr><th scope=row>N_manager</th><td>15</td><td>1767</td><td>   6.3220147</td><td>   3.1960988</td><td>   6</td><td>   5.9300353</td><td>   2.9652</td><td>   1</td><td>  14</td><td>  13</td><td> 1.08700422</td><td> 1.0427690</td><td> 0.076032963</td></tr>\n",
       "\t<tr><th scope=row>N_elevators</th><td>16</td><td>1767</td><td>  11.2082626</td><td>   7.7938239</td><td>  11</td><td>  10.9632509</td><td>   8.8956</td><td>   0</td><td>  27</td><td>  27</td><td> 0.12507300</td><td>-0.8837582</td><td> 0.185409642</td></tr>\n",
       "\t<tr><th scope=row>SubwayStation*</th><td>17</td><td>1767</td><td>   4.8024901</td><td>   2.1731488</td><td>   5</td><td>   4.8777385</td><td>   1.4826</td><td>   1</td><td>   8</td><td>   7</td><td>-0.47189936</td><td>-0.8854187</td><td> 0.051697697</td></tr>\n",
       "\t<tr><th scope=row>N_FacilitiesNearBy.PublicOffice.</th><td>18</td><td>1767</td><td>   4.1482739</td><td>   1.8111821</td><td>   5</td><td>   4.1738516</td><td>   2.9652</td><td>   0</td><td>   7</td><td>   7</td><td>-0.16332783</td><td>-0.9678706</td><td> 0.043086761</td></tr>\n",
       "\t<tr><th scope=row>N_FacilitiesNearBy.Hospital.</th><td>19</td><td>1767</td><td>   1.2982456</td><td>   0.4758164</td><td>   1</td><td>   1.2586572</td><td>   0.0000</td><td>   0</td><td>   2</td><td>   2</td><td> 0.64294634</td><td>-0.9725731</td><td> 0.011319340</td></tr>\n",
       "\t<tr><th scope=row>N_FacilitiesNearBy.Dpartmentstore.</th><td>20</td><td>1767</td><td>   0.9139785</td><td>   0.8225739</td><td>   1</td><td>   0.8925795</td><td>   1.4826</td><td>   0</td><td>   2</td><td>   2</td><td> 0.16013946</td><td>-1.5054687</td><td> 0.019568460</td></tr>\n",
       "\t<tr><th scope=row>N_FacilitiesNearBy.Mall.</th><td>21</td><td>1767</td><td>   0.9468025</td><td>   0.4100931</td><td>   1</td><td>   0.9844523</td><td>   0.0000</td><td>   0</td><td>   2</td><td>   2</td><td>-0.38021224</td><td> 2.7443564</td><td> 0.009755829</td></tr>\n",
       "\t<tr><th scope=row>N_FacilitiesNearBy.ETC.</th><td>22</td><td>1767</td><td>   1.9518959</td><td>   2.2022473</td><td>   1</td><td>   1.8155477</td><td>   1.4826</td><td>   0</td><td>   5</td><td>   5</td><td> 0.54995848</td><td>-1.5238780</td><td> 0.052389929</td></tr>\n",
       "\t<tr><th scope=row>N_FacilitiesNearBy.Park.</th><td>23</td><td>1767</td><td>   0.6689304</td><td>   0.6574446</td><td>   1</td><td>   0.5865724</td><td>   1.4826</td><td>   0</td><td>   2</td><td>   2</td><td> 0.47251047</td><td>-0.7342367</td><td> 0.015640150</td></tr>\n",
       "\t<tr><th scope=row>N_SchoolNearBy.Elementary.</th><td>24</td><td>1767</td><td>   3.0169779</td><td>   0.9593938</td><td>   3</td><td>   3.0353357</td><td>   1.4826</td><td>   0</td><td>   6</td><td>   6</td><td>-0.18764863</td><td> 0.8871358</td><td> 0.022823309</td></tr>\n",
       "\t<tr><th scope=row>N_SchoolNearBy.Middle.</th><td>25</td><td>1767</td><td>   2.4001132</td><td>   1.0421795</td><td>   3</td><td>   2.4275618</td><td>   1.4826</td><td>   0</td><td>   4</td><td>   4</td><td>-0.44025503</td><td>-0.5272032</td><td> 0.024792725</td></tr>\n",
       "\t<tr><th scope=row>N_SchoolNearBy.High.</th><td>26</td><td>1767</td><td>   2.6547821</td><td>   1.5725953</td><td>   2</td><td>   2.6212014</td><td>   1.4826</td><td>   0</td><td>   5</td><td>   5</td><td> 0.28838891</td><td>-1.2664337</td><td> 0.037410948</td></tr>\n",
       "\t<tr><th scope=row>N_SchoolNearBy.University.</th><td>27</td><td>1767</td><td>   2.7674024</td><td>   1.4977148</td><td>   2</td><td>   2.7342756</td><td>   1.4826</td><td>   0</td><td>   5</td><td>   5</td><td> 0.26471789</td><td>-1.2611726</td><td> 0.035629592</td></tr>\n",
       "\t<tr><th scope=row>N_FacilitiesInApt</th><td>28</td><td>1767</td><td>   5.7657046</td><td>   2.3548463</td><td>   5</td><td>   5.6275618</td><td>   2.9652</td><td>   1</td><td>  10</td><td>   9</td><td> 0.49458511</td><td>-0.8334322</td><td> 0.056020153</td></tr>\n",
       "\t<tr><th scope=row>N_FacilitiesNearBy.Total.</th><td>29</td><td>1767</td><td>   9.9281268</td><td>   3.4429398</td><td>   9</td><td>  10.0268551</td><td>   4.4478</td><td>   0</td><td>  16</td><td>  16</td><td>-0.16588241</td><td>-0.4262909</td><td> 0.081905140</td></tr>\n",
       "\t<tr><th scope=row>N_SchoolNearBy.Total.</th><td>30</td><td>1767</td><td>  10.8392756</td><td>   4.4698787</td><td>  10</td><td>  10.9201413</td><td>   5.9304</td><td>   0</td><td>  17</td><td>  17</td><td>-0.01937501</td><td>-1.0861300</td><td> 0.106335300</td></tr>\n",
       "</tbody>\n",
       "</table>\n"
      ],
      "text/latex": [
       "A psych: 30 × 13\n",
       "\\begin{tabular}{r|lllllllllllll}\n",
       "  & vars & n & mean & sd & median & trimmed & mad & min & max & range & skew & kurtosis & se\\\\\n",
       "  & <int> & <dbl> & <dbl> & <dbl> & <dbl> & <dbl> & <dbl> & <dbl> & <dbl> & <dbl> & <dbl> & <dbl> & <dbl>\\\\\n",
       "\\hline\n",
       "\tX &  1 & 1767 & 2932.4521788 & 1706.0942639 & 2889 & 2928.3385159 & 2183.8698 &    4 & 5891 & 5887 &  0.02663103 & -1.1962748 & 40.586794080\\\\\n",
       "\tYearBuilt &  2 & 1767 & 2002.9501981 &    8.7334901 & 2006 & 2003.6374558 &    4.4478 & 1978 & 2015 &   37 & -0.73933868 & -0.5212387 &  0.207763645\\\\\n",
       "\tYrSold &  3 & 1767 & 2012.6672326 &    2.9109405 & 2013 & 2012.7180212 &    4.4478 & 2007 & 2017 &   10 & -0.11857217 & -1.1776052 &  0.069249247\\\\\n",
       "\tMonthSold &  4 & 1767 &    6.1544992 &    3.4009876 &    6 &    6.1187279 &    4.4478 &    1 &   12 &   11 &  0.06857510 & -1.1700701 &  0.080907126\\\\\n",
       "\tSize.sqf. &  5 & 1767 &  954.7758913 &  395.2408567 &  910 &  919.1123675 &  394.3716 &  135 & 2337 & 2202 &  0.93451296 &  1.0195527 &  9.402504657\\\\\n",
       "\tFloor &  6 & 1767 &   11.9366157 &    7.3896143 &   11 &   11.3469965 &    7.4130 &    1 &   43 &   42 &  0.80534574 &  0.7691065 &  0.175793776\\\\\n",
       "\tHallwayType* &  7 & 1767 &    2.4855688 &    0.6910617 &    3 &    2.6063604 &    0.0000 &    1 &    3 &    2 & -0.98233334 & -0.3168275 &  0.016439876\\\\\n",
       "\tHeatingType* &  8 & 1767 &    1.9501981 &    0.2175971 &    2 &    2.0000000 &    0.0000 &    1 &    2 &    1 & -4.13556375 & 15.1114405 &  0.005176483\\\\\n",
       "\tAptManageType* &  9 & 1767 &    1.0571590 &    0.2322119 &    1 &    1.0000000 &    0.0000 &    1 &    2 &    1 &  3.81195163 & 12.5380719 &  0.005524160\\\\\n",
       "\tN\\_Parkinglot.Ground. & 10 & 1767 &  198.6485569 &  219.6914375 &  100 &  169.2692580 &  143.8122 &    0 &  713 &  713 &  1.04323638 & -0.3299723 &  5.226306262\\\\\n",
       "\tN\\_Parkinglot.Basement. & 11 & 1767 &  568.8732315 &  411.2949536 &  536 &  551.0176678 &  493.7058 &    0 & 1321 & 1321 &  0.28086959 & -0.9533065 &  9.784420439\\\\\n",
       "\tTimeToBusStop* & 12 & 1767 &    1.4668930 &    0.8399068 &    1 &    1.3342756 &    0.0000 &    1 &    3 &    2 &  1.25904994 & -0.3937463 &  0.019980799\\\\\n",
       "\tTimeToSubway* & 13 & 1767 &    2.2252405 &    1.3202736 &    2 &    2.1031802 &    1.4826 &    1 &    5 &    4 &  0.53747926 & -1.1640539 &  0.031408390\\\\\n",
       "\tN\\_APT & 14 & 1767 &    5.5749859 &    2.8721152 &    7 &    5.6197880 &    1.4826 &    1 &   13 &   12 & -0.04697959 & -0.6755818 &  0.068325619\\\\\n",
       "\tN\\_manager & 15 & 1767 &    6.3220147 &    3.1960988 &    6 &    5.9300353 &    2.9652 &    1 &   14 &   13 &  1.08700422 &  1.0427690 &  0.076032963\\\\\n",
       "\tN\\_elevators & 16 & 1767 &   11.2082626 &    7.7938239 &   11 &   10.9632509 &    8.8956 &    0 &   27 &   27 &  0.12507300 & -0.8837582 &  0.185409642\\\\\n",
       "\tSubwayStation* & 17 & 1767 &    4.8024901 &    2.1731488 &    5 &    4.8777385 &    1.4826 &    1 &    8 &    7 & -0.47189936 & -0.8854187 &  0.051697697\\\\\n",
       "\tN\\_FacilitiesNearBy.PublicOffice. & 18 & 1767 &    4.1482739 &    1.8111821 &    5 &    4.1738516 &    2.9652 &    0 &    7 &    7 & -0.16332783 & -0.9678706 &  0.043086761\\\\\n",
       "\tN\\_FacilitiesNearBy.Hospital. & 19 & 1767 &    1.2982456 &    0.4758164 &    1 &    1.2586572 &    0.0000 &    0 &    2 &    2 &  0.64294634 & -0.9725731 &  0.011319340\\\\\n",
       "\tN\\_FacilitiesNearBy.Dpartmentstore. & 20 & 1767 &    0.9139785 &    0.8225739 &    1 &    0.8925795 &    1.4826 &    0 &    2 &    2 &  0.16013946 & -1.5054687 &  0.019568460\\\\\n",
       "\tN\\_FacilitiesNearBy.Mall. & 21 & 1767 &    0.9468025 &    0.4100931 &    1 &    0.9844523 &    0.0000 &    0 &    2 &    2 & -0.38021224 &  2.7443564 &  0.009755829\\\\\n",
       "\tN\\_FacilitiesNearBy.ETC. & 22 & 1767 &    1.9518959 &    2.2022473 &    1 &    1.8155477 &    1.4826 &    0 &    5 &    5 &  0.54995848 & -1.5238780 &  0.052389929\\\\\n",
       "\tN\\_FacilitiesNearBy.Park. & 23 & 1767 &    0.6689304 &    0.6574446 &    1 &    0.5865724 &    1.4826 &    0 &    2 &    2 &  0.47251047 & -0.7342367 &  0.015640150\\\\\n",
       "\tN\\_SchoolNearBy.Elementary. & 24 & 1767 &    3.0169779 &    0.9593938 &    3 &    3.0353357 &    1.4826 &    0 &    6 &    6 & -0.18764863 &  0.8871358 &  0.022823309\\\\\n",
       "\tN\\_SchoolNearBy.Middle. & 25 & 1767 &    2.4001132 &    1.0421795 &    3 &    2.4275618 &    1.4826 &    0 &    4 &    4 & -0.44025503 & -0.5272032 &  0.024792725\\\\\n",
       "\tN\\_SchoolNearBy.High. & 26 & 1767 &    2.6547821 &    1.5725953 &    2 &    2.6212014 &    1.4826 &    0 &    5 &    5 &  0.28838891 & -1.2664337 &  0.037410948\\\\\n",
       "\tN\\_SchoolNearBy.University. & 27 & 1767 &    2.7674024 &    1.4977148 &    2 &    2.7342756 &    1.4826 &    0 &    5 &    5 &  0.26471789 & -1.2611726 &  0.035629592\\\\\n",
       "\tN\\_FacilitiesInApt & 28 & 1767 &    5.7657046 &    2.3548463 &    5 &    5.6275618 &    2.9652 &    1 &   10 &    9 &  0.49458511 & -0.8334322 &  0.056020153\\\\\n",
       "\tN\\_FacilitiesNearBy.Total. & 29 & 1767 &    9.9281268 &    3.4429398 &    9 &   10.0268551 &    4.4478 &    0 &   16 &   16 & -0.16588241 & -0.4262909 &  0.081905140\\\\\n",
       "\tN\\_SchoolNearBy.Total. & 30 & 1767 &   10.8392756 &    4.4698787 &   10 &   10.9201413 &    5.9304 &    0 &   17 &   17 & -0.01937501 & -1.0861300 &  0.106335300\\\\\n",
       "\\end{tabular}\n"
      ],
      "text/markdown": [
       "\n",
       "A psych: 30 × 13\n",
       "\n",
       "| <!--/--> | vars &lt;int&gt; | n &lt;dbl&gt; | mean &lt;dbl&gt; | sd &lt;dbl&gt; | median &lt;dbl&gt; | trimmed &lt;dbl&gt; | mad &lt;dbl&gt; | min &lt;dbl&gt; | max &lt;dbl&gt; | range &lt;dbl&gt; | skew &lt;dbl&gt; | kurtosis &lt;dbl&gt; | se &lt;dbl&gt; |\n",
       "|---|---|---|---|---|---|---|---|---|---|---|---|---|---|\n",
       "| X |  1 | 1767 | 2932.4521788 | 1706.0942639 | 2889 | 2928.3385159 | 2183.8698 |    4 | 5891 | 5887 |  0.02663103 | -1.1962748 | 40.586794080 |\n",
       "| YearBuilt |  2 | 1767 | 2002.9501981 |    8.7334901 | 2006 | 2003.6374558 |    4.4478 | 1978 | 2015 |   37 | -0.73933868 | -0.5212387 |  0.207763645 |\n",
       "| YrSold |  3 | 1767 | 2012.6672326 |    2.9109405 | 2013 | 2012.7180212 |    4.4478 | 2007 | 2017 |   10 | -0.11857217 | -1.1776052 |  0.069249247 |\n",
       "| MonthSold |  4 | 1767 |    6.1544992 |    3.4009876 |    6 |    6.1187279 |    4.4478 |    1 |   12 |   11 |  0.06857510 | -1.1700701 |  0.080907126 |\n",
       "| Size.sqf. |  5 | 1767 |  954.7758913 |  395.2408567 |  910 |  919.1123675 |  394.3716 |  135 | 2337 | 2202 |  0.93451296 |  1.0195527 |  9.402504657 |\n",
       "| Floor |  6 | 1767 |   11.9366157 |    7.3896143 |   11 |   11.3469965 |    7.4130 |    1 |   43 |   42 |  0.80534574 |  0.7691065 |  0.175793776 |\n",
       "| HallwayType* |  7 | 1767 |    2.4855688 |    0.6910617 |    3 |    2.6063604 |    0.0000 |    1 |    3 |    2 | -0.98233334 | -0.3168275 |  0.016439876 |\n",
       "| HeatingType* |  8 | 1767 |    1.9501981 |    0.2175971 |    2 |    2.0000000 |    0.0000 |    1 |    2 |    1 | -4.13556375 | 15.1114405 |  0.005176483 |\n",
       "| AptManageType* |  9 | 1767 |    1.0571590 |    0.2322119 |    1 |    1.0000000 |    0.0000 |    1 |    2 |    1 |  3.81195163 | 12.5380719 |  0.005524160 |\n",
       "| N_Parkinglot.Ground. | 10 | 1767 |  198.6485569 |  219.6914375 |  100 |  169.2692580 |  143.8122 |    0 |  713 |  713 |  1.04323638 | -0.3299723 |  5.226306262 |\n",
       "| N_Parkinglot.Basement. | 11 | 1767 |  568.8732315 |  411.2949536 |  536 |  551.0176678 |  493.7058 |    0 | 1321 | 1321 |  0.28086959 | -0.9533065 |  9.784420439 |\n",
       "| TimeToBusStop* | 12 | 1767 |    1.4668930 |    0.8399068 |    1 |    1.3342756 |    0.0000 |    1 |    3 |    2 |  1.25904994 | -0.3937463 |  0.019980799 |\n",
       "| TimeToSubway* | 13 | 1767 |    2.2252405 |    1.3202736 |    2 |    2.1031802 |    1.4826 |    1 |    5 |    4 |  0.53747926 | -1.1640539 |  0.031408390 |\n",
       "| N_APT | 14 | 1767 |    5.5749859 |    2.8721152 |    7 |    5.6197880 |    1.4826 |    1 |   13 |   12 | -0.04697959 | -0.6755818 |  0.068325619 |\n",
       "| N_manager | 15 | 1767 |    6.3220147 |    3.1960988 |    6 |    5.9300353 |    2.9652 |    1 |   14 |   13 |  1.08700422 |  1.0427690 |  0.076032963 |\n",
       "| N_elevators | 16 | 1767 |   11.2082626 |    7.7938239 |   11 |   10.9632509 |    8.8956 |    0 |   27 |   27 |  0.12507300 | -0.8837582 |  0.185409642 |\n",
       "| SubwayStation* | 17 | 1767 |    4.8024901 |    2.1731488 |    5 |    4.8777385 |    1.4826 |    1 |    8 |    7 | -0.47189936 | -0.8854187 |  0.051697697 |\n",
       "| N_FacilitiesNearBy.PublicOffice. | 18 | 1767 |    4.1482739 |    1.8111821 |    5 |    4.1738516 |    2.9652 |    0 |    7 |    7 | -0.16332783 | -0.9678706 |  0.043086761 |\n",
       "| N_FacilitiesNearBy.Hospital. | 19 | 1767 |    1.2982456 |    0.4758164 |    1 |    1.2586572 |    0.0000 |    0 |    2 |    2 |  0.64294634 | -0.9725731 |  0.011319340 |\n",
       "| N_FacilitiesNearBy.Dpartmentstore. | 20 | 1767 |    0.9139785 |    0.8225739 |    1 |    0.8925795 |    1.4826 |    0 |    2 |    2 |  0.16013946 | -1.5054687 |  0.019568460 |\n",
       "| N_FacilitiesNearBy.Mall. | 21 | 1767 |    0.9468025 |    0.4100931 |    1 |    0.9844523 |    0.0000 |    0 |    2 |    2 | -0.38021224 |  2.7443564 |  0.009755829 |\n",
       "| N_FacilitiesNearBy.ETC. | 22 | 1767 |    1.9518959 |    2.2022473 |    1 |    1.8155477 |    1.4826 |    0 |    5 |    5 |  0.54995848 | -1.5238780 |  0.052389929 |\n",
       "| N_FacilitiesNearBy.Park. | 23 | 1767 |    0.6689304 |    0.6574446 |    1 |    0.5865724 |    1.4826 |    0 |    2 |    2 |  0.47251047 | -0.7342367 |  0.015640150 |\n",
       "| N_SchoolNearBy.Elementary. | 24 | 1767 |    3.0169779 |    0.9593938 |    3 |    3.0353357 |    1.4826 |    0 |    6 |    6 | -0.18764863 |  0.8871358 |  0.022823309 |\n",
       "| N_SchoolNearBy.Middle. | 25 | 1767 |    2.4001132 |    1.0421795 |    3 |    2.4275618 |    1.4826 |    0 |    4 |    4 | -0.44025503 | -0.5272032 |  0.024792725 |\n",
       "| N_SchoolNearBy.High. | 26 | 1767 |    2.6547821 |    1.5725953 |    2 |    2.6212014 |    1.4826 |    0 |    5 |    5 |  0.28838891 | -1.2664337 |  0.037410948 |\n",
       "| N_SchoolNearBy.University. | 27 | 1767 |    2.7674024 |    1.4977148 |    2 |    2.7342756 |    1.4826 |    0 |    5 |    5 |  0.26471789 | -1.2611726 |  0.035629592 |\n",
       "| N_FacilitiesInApt | 28 | 1767 |    5.7657046 |    2.3548463 |    5 |    5.6275618 |    2.9652 |    1 |   10 |    9 |  0.49458511 | -0.8334322 |  0.056020153 |\n",
       "| N_FacilitiesNearBy.Total. | 29 | 1767 |    9.9281268 |    3.4429398 |    9 |   10.0268551 |    4.4478 |    0 |   16 |   16 | -0.16588241 | -0.4262909 |  0.081905140 |\n",
       "| N_SchoolNearBy.Total. | 30 | 1767 |   10.8392756 |    4.4698787 |   10 |   10.9201413 |    5.9304 |    0 |   17 |   17 | -0.01937501 | -1.0861300 |  0.106335300 |\n",
       "\n"
      ],
      "text/plain": [
       "                                   vars n    mean         sd           median\n",
       "X                                   1   1767 2932.4521788 1706.0942639 2889  \n",
       "YearBuilt                           2   1767 2002.9501981    8.7334901 2006  \n",
       "YrSold                              3   1767 2012.6672326    2.9109405 2013  \n",
       "MonthSold                           4   1767    6.1544992    3.4009876    6  \n",
       "Size.sqf.                           5   1767  954.7758913  395.2408567  910  \n",
       "Floor                               6   1767   11.9366157    7.3896143   11  \n",
       "HallwayType*                        7   1767    2.4855688    0.6910617    3  \n",
       "HeatingType*                        8   1767    1.9501981    0.2175971    2  \n",
       "AptManageType*                      9   1767    1.0571590    0.2322119    1  \n",
       "N_Parkinglot.Ground.               10   1767  198.6485569  219.6914375  100  \n",
       "N_Parkinglot.Basement.             11   1767  568.8732315  411.2949536  536  \n",
       "TimeToBusStop*                     12   1767    1.4668930    0.8399068    1  \n",
       "TimeToSubway*                      13   1767    2.2252405    1.3202736    2  \n",
       "N_APT                              14   1767    5.5749859    2.8721152    7  \n",
       "N_manager                          15   1767    6.3220147    3.1960988    6  \n",
       "N_elevators                        16   1767   11.2082626    7.7938239   11  \n",
       "SubwayStation*                     17   1767    4.8024901    2.1731488    5  \n",
       "N_FacilitiesNearBy.PublicOffice.   18   1767    4.1482739    1.8111821    5  \n",
       "N_FacilitiesNearBy.Hospital.       19   1767    1.2982456    0.4758164    1  \n",
       "N_FacilitiesNearBy.Dpartmentstore. 20   1767    0.9139785    0.8225739    1  \n",
       "N_FacilitiesNearBy.Mall.           21   1767    0.9468025    0.4100931    1  \n",
       "N_FacilitiesNearBy.ETC.            22   1767    1.9518959    2.2022473    1  \n",
       "N_FacilitiesNearBy.Park.           23   1767    0.6689304    0.6574446    1  \n",
       "N_SchoolNearBy.Elementary.         24   1767    3.0169779    0.9593938    3  \n",
       "N_SchoolNearBy.Middle.             25   1767    2.4001132    1.0421795    3  \n",
       "N_SchoolNearBy.High.               26   1767    2.6547821    1.5725953    2  \n",
       "N_SchoolNearBy.University.         27   1767    2.7674024    1.4977148    2  \n",
       "N_FacilitiesInApt                  28   1767    5.7657046    2.3548463    5  \n",
       "N_FacilitiesNearBy.Total.          29   1767    9.9281268    3.4429398    9  \n",
       "N_SchoolNearBy.Total.              30   1767   10.8392756    4.4698787   10  \n",
       "                                   trimmed      mad       min  max  range\n",
       "X                                  2928.3385159 2183.8698    4 5891 5887 \n",
       "YearBuilt                          2003.6374558    4.4478 1978 2015   37 \n",
       "YrSold                             2012.7180212    4.4478 2007 2017   10 \n",
       "MonthSold                             6.1187279    4.4478    1   12   11 \n",
       "Size.sqf.                           919.1123675  394.3716  135 2337 2202 \n",
       "Floor                                11.3469965    7.4130    1   43   42 \n",
       "HallwayType*                          2.6063604    0.0000    1    3    2 \n",
       "HeatingType*                          2.0000000    0.0000    1    2    1 \n",
       "AptManageType*                        1.0000000    0.0000    1    2    1 \n",
       "N_Parkinglot.Ground.                169.2692580  143.8122    0  713  713 \n",
       "N_Parkinglot.Basement.              551.0176678  493.7058    0 1321 1321 \n",
       "TimeToBusStop*                        1.3342756    0.0000    1    3    2 \n",
       "TimeToSubway*                         2.1031802    1.4826    1    5    4 \n",
       "N_APT                                 5.6197880    1.4826    1   13   12 \n",
       "N_manager                             5.9300353    2.9652    1   14   13 \n",
       "N_elevators                          10.9632509    8.8956    0   27   27 \n",
       "SubwayStation*                        4.8777385    1.4826    1    8    7 \n",
       "N_FacilitiesNearBy.PublicOffice.      4.1738516    2.9652    0    7    7 \n",
       "N_FacilitiesNearBy.Hospital.          1.2586572    0.0000    0    2    2 \n",
       "N_FacilitiesNearBy.Dpartmentstore.    0.8925795    1.4826    0    2    2 \n",
       "N_FacilitiesNearBy.Mall.              0.9844523    0.0000    0    2    2 \n",
       "N_FacilitiesNearBy.ETC.               1.8155477    1.4826    0    5    5 \n",
       "N_FacilitiesNearBy.Park.              0.5865724    1.4826    0    2    2 \n",
       "N_SchoolNearBy.Elementary.            3.0353357    1.4826    0    6    6 \n",
       "N_SchoolNearBy.Middle.                2.4275618    1.4826    0    4    4 \n",
       "N_SchoolNearBy.High.                  2.6212014    1.4826    0    5    5 \n",
       "N_SchoolNearBy.University.            2.7342756    1.4826    0    5    5 \n",
       "N_FacilitiesInApt                     5.6275618    2.9652    1   10    9 \n",
       "N_FacilitiesNearBy.Total.            10.0268551    4.4478    0   16   16 \n",
       "N_SchoolNearBy.Total.                10.9201413    5.9304    0   17   17 \n",
       "                                   skew        kurtosis   se          \n",
       "X                                   0.02663103 -1.1962748 40.586794080\n",
       "YearBuilt                          -0.73933868 -0.5212387  0.207763645\n",
       "YrSold                             -0.11857217 -1.1776052  0.069249247\n",
       "MonthSold                           0.06857510 -1.1700701  0.080907126\n",
       "Size.sqf.                           0.93451296  1.0195527  9.402504657\n",
       "Floor                               0.80534574  0.7691065  0.175793776\n",
       "HallwayType*                       -0.98233334 -0.3168275  0.016439876\n",
       "HeatingType*                       -4.13556375 15.1114405  0.005176483\n",
       "AptManageType*                      3.81195163 12.5380719  0.005524160\n",
       "N_Parkinglot.Ground.                1.04323638 -0.3299723  5.226306262\n",
       "N_Parkinglot.Basement.              0.28086959 -0.9533065  9.784420439\n",
       "TimeToBusStop*                      1.25904994 -0.3937463  0.019980799\n",
       "TimeToSubway*                       0.53747926 -1.1640539  0.031408390\n",
       "N_APT                              -0.04697959 -0.6755818  0.068325619\n",
       "N_manager                           1.08700422  1.0427690  0.076032963\n",
       "N_elevators                         0.12507300 -0.8837582  0.185409642\n",
       "SubwayStation*                     -0.47189936 -0.8854187  0.051697697\n",
       "N_FacilitiesNearBy.PublicOffice.   -0.16332783 -0.9678706  0.043086761\n",
       "N_FacilitiesNearBy.Hospital.        0.64294634 -0.9725731  0.011319340\n",
       "N_FacilitiesNearBy.Dpartmentstore.  0.16013946 -1.5054687  0.019568460\n",
       "N_FacilitiesNearBy.Mall.           -0.38021224  2.7443564  0.009755829\n",
       "N_FacilitiesNearBy.ETC.             0.54995848 -1.5238780  0.052389929\n",
       "N_FacilitiesNearBy.Park.            0.47251047 -0.7342367  0.015640150\n",
       "N_SchoolNearBy.Elementary.         -0.18764863  0.8871358  0.022823309\n",
       "N_SchoolNearBy.Middle.             -0.44025503 -0.5272032  0.024792725\n",
       "N_SchoolNearBy.High.                0.28838891 -1.2664337  0.037410948\n",
       "N_SchoolNearBy.University.          0.26471789 -1.2611726  0.035629592\n",
       "N_FacilitiesInApt                   0.49458511 -0.8334322  0.056020153\n",
       "N_FacilitiesNearBy.Total.          -0.16588241 -0.4262909  0.081905140\n",
       "N_SchoolNearBy.Total.              -0.01937501 -1.0861300  0.106335300"
      ]
     },
     "metadata": {},
     "output_type": "display_data"
    }
   ],
   "source": [
    "describe(data)"
   ]
  },
  {
   "cell_type": "markdown",
   "id": "5c3328b2-9c9f-4ce0-af3e-ad756104a2c9",
   "metadata": {},
   "source": [
    "### Anomalías en datos numéricos"
   ]
  },
  {
   "cell_type": "markdown",
   "id": "e127239e-cbe9-476a-a3ed-7ab581ea57ba",
   "metadata": {},
   "source": [
    "Se observan algunos valores atipicos para variables numericas, como por ejemplo para la variable Size sqf. o la variable Floor. "
   ]
  },
  {
   "cell_type": "code",
   "execution_count": 89,
   "id": "3bd33c24-edfc-44a0-8a18-8b8ee8aae4c2",
   "metadata": {},
   "outputs": [
    {
     "data": {
      "image/png": "[encoded data removed]",
      "text/plain": [
       "Plot with title \"N_SchoolNearBy.Total.\""
      ]
     },
     "metadata": {
      "image/png": {
       "height": 420,
       "width": 420
      }
     },
     "output_type": "display_data"
    }
   ],
   "source": [
    "# Definir las variables correctamente\n",
    "variables <- c(\"Size.sqf.\", \"Floor\", \"N_Parkinglot.Ground.\", \"N_Parkinglot.Basement.\", 'N_APT', 'N_manager', 'N_elevators', 'N_FacilitiesNearBy.PublicOffice.','N_FacilitiesNearBy.Hospital.','N_FacilitiesNearBy.Dpartmentstore.','N_FacilitiesNearBy.Mall.' ,'N_FacilitiesNearBy.ETC.','N_FacilitiesNearBy.Park.','N_SchoolNearBy.Elementary.','N_SchoolNearBy.Middle.','N_SchoolNearBy.High.','N_SchoolNearBy.University.','N_FacilitiesInApt','N_FacilitiesNearBy.Total.','N_SchoolNearBy.Total.')\n",
    "\n",
    "# Crear boxplots para cada variable\n",
    "par(mfrow = c(4, 5))  # Ajustar el layout para 4x5 gráficos\n",
    "\n",
    "for (var in variables) {\n",
    "  boxplot(data[[var]], main = var)  # outline = FALSE para quitar outliers\n",
    "}\n",
    "\n",
    "# Restaurar la configuración de gráficos a una sola gráfica\n",
    "par(mfrow = c(1, 1))\n",
    "\n"
   ]
  },
  {
   "cell_type": "markdown",
   "id": "54faa258-8d16-448b-ab23-ed999f5f9f44",
   "metadata": {},
   "source": [
    "### Estadisticas Descriptivas"
   ]
  },
  {
   "cell_type": "markdown",
   "id": "c9fd9ebd-591e-4e98-8c85-7805f23b0789",
   "metadata": {},
   "source": [
    "#### Medidas de posición: frecuencias y cuantiles"
   ]
  },
  {
   "cell_type": "markdown",
   "id": "367b85c9-c4cf-4b56-9976-975202e6e0c4",
   "metadata": {},
   "source": [
    "Se analiza para algunas variables categoricas su distribucion de frecuencia. Se observa que para la variable HallwayType el tipo terraced tiene 1059 repeticiones. Para la variable de HeatingType el valor que mas se repite es individual_heating."
   ]
  },
  {
   "cell_type": "code",
   "execution_count": 80,
   "id": "cb020749-0dcd-4f13-8d6e-7685defa35a7",
   "metadata": {},
   "outputs": [
    {
     "data": {
      "text/plain": [
       "\n",
       "corridor    mixed terraced \n",
       "     201      507     1059 "
      ]
     },
     "metadata": {},
     "output_type": "display_data"
    },
    {
     "data": {
      "text/plain": [
       "\n",
       " corridor     mixed  terraced \n",
       "0.1137521 0.2869270 0.5993209 "
      ]
     },
     "metadata": {},
     "output_type": "display_data"
    }
   ],
   "source": [
    "tabla<-table(data$HallwayType)\n",
    "tabla\n",
    "prop.table(tabla)"
   ]
  },
  {
   "cell_type": "code",
   "execution_count": 81,
   "id": "601a3d6d-5a2e-4875-838c-f7bdd6390a0a",
   "metadata": {},
   "outputs": [
    {
     "data": {
      "text/plain": [
       "\n",
       "   central_heating individual_heating \n",
       "                88               1679 "
      ]
     },
     "metadata": {},
     "output_type": "display_data"
    },
    {
     "data": {
      "text/plain": [
       "\n",
       "   central_heating individual_heating \n",
       "        0.04980192         0.95019808 "
      ]
     },
     "metadata": {},
     "output_type": "display_data"
    }
   ],
   "source": [
    "tabla<-table(data$HeatingType)\n",
    "tabla\n",
    "prop.table(tabla)"
   ]
  },
  {
   "cell_type": "markdown",
   "id": "81c7171e-42ff-477f-ad3f-aca620a1e882",
   "metadata": {},
   "source": [
    "Se calcula el coeficiente de variacion para todas las variables numericas:"
   ]
  },
  {
   "cell_type": "code",
   "execution_count": 82,
   "id": "5510eaaa-8ba8-4729-88de-70b1fbb664ca",
   "metadata": {},
   "outputs": [
    {
     "data": {
      "text/html": [
       "<style>\n",
       ".dl-inline {width: auto; margin:0; padding: 0}\n",
       ".dl-inline>dt, .dl-inline>dd {float: none; width: auto; display: inline-block}\n",
       ".dl-inline>dt::after {content: \":\\0020\"; padding-right: .5ex}\n",
       ".dl-inline>dt:not(:first-of-type) {padding-left: .5ex}\n",
       "</style><dl class=dl-inline><dt>YearBuilt</dt><dd>0.436031314848192</dd><dt>YrSold</dt><dd>0.144630987979862</dd><dt>MonthSold</dt><dd>55.26018488842</dd><dt>Size.sqf.</dt><dd>41.3961915330483</dd><dt>Floor</dt><dd>61.90711374076</dd><dt>N_Parkinglot.Ground.</dt><dd>110.593019640387</dd><dt>N_Parkinglot.Basement.</dt><dd>72.2999309579644</dd><dt>N_APT</dt><dd>51.5178915222672</dd><dt>N_manager</dt><dd>50.5550669450485</dd><dt>N_elevators</dt><dd>69.5364145475434</dd><dt>N_FacilitiesNearBy.PublicOffice.</dt><dd>43.6611022848748</dd><dt>N_FacilitiesNearBy.Hospital.</dt><dd>36.6507208725107</dd><dt>N_FacilitiesNearBy.Dpartmentstore.</dt><dd>89.9992619760978</dd><dt>N_FacilitiesNearBy.Mall.</dt><dd>43.3134791526565</dd><dt>N_FacilitiesNearBy.ETC.</dt><dd>112.826063668753</dd><dt>N_FacilitiesNearBy.Park.</dt><dd>98.2829675954072</dd><dt>N_SchoolNearBy.Elementary.</dt><dd>31.7998269663843</dd><dt>N_SchoolNearBy.Middle.</dt><dd>43.422098853225</dd><dt>N_SchoolNearBy.High.</dt><dd>59.2363242329074</dd><dt>N_SchoolNearBy.University.</dt><dd>54.1198793409291</dd><dt>N_FacilitiesInApt</dt><dd>40.8422988206472</dd><dt>N_FacilitiesNearBy.Total.</dt><dd>34.6786449829444</dd><dt>N_SchoolNearBy.Total.</dt><dd>41.2377990692952</dd></dl>\n"
      ],
      "text/latex": [
       "\\begin{description*}\n",
       "\\item[YearBuilt] 0.436031314848192\n",
       "\\item[YrSold] 0.144630987979862\n",
       "\\item[MonthSold] 55.26018488842\n",
       "\\item[Size.sqf.] 41.3961915330483\n",
       "\\item[Floor] 61.90711374076\n",
       "\\item[N\\textbackslash{}\\_Parkinglot.Ground.] 110.593019640387\n",
       "\\item[N\\textbackslash{}\\_Parkinglot.Basement.] 72.2999309579644\n",
       "\\item[N\\textbackslash{}\\_APT] 51.5178915222672\n",
       "\\item[N\\textbackslash{}\\_manager] 50.5550669450485\n",
       "\\item[N\\textbackslash{}\\_elevators] 69.5364145475434\n",
       "\\item[N\\textbackslash{}\\_FacilitiesNearBy.PublicOffice.] 43.6611022848748\n",
       "\\item[N\\textbackslash{}\\_FacilitiesNearBy.Hospital.] 36.6507208725107\n",
       "\\item[N\\textbackslash{}\\_FacilitiesNearBy.Dpartmentstore.] 89.9992619760978\n",
       "\\item[N\\textbackslash{}\\_FacilitiesNearBy.Mall.] 43.3134791526565\n",
       "\\item[N\\textbackslash{}\\_FacilitiesNearBy.ETC.] 112.826063668753\n",
       "\\item[N\\textbackslash{}\\_FacilitiesNearBy.Park.] 98.2829675954072\n",
       "\\item[N\\textbackslash{}\\_SchoolNearBy.Elementary.] 31.7998269663843\n",
       "\\item[N\\textbackslash{}\\_SchoolNearBy.Middle.] 43.422098853225\n",
       "\\item[N\\textbackslash{}\\_SchoolNearBy.High.] 59.2363242329074\n",
       "\\item[N\\textbackslash{}\\_SchoolNearBy.University.] 54.1198793409291\n",
       "\\item[N\\textbackslash{}\\_FacilitiesInApt] 40.8422988206472\n",
       "\\item[N\\textbackslash{}\\_FacilitiesNearBy.Total.] 34.6786449829444\n",
       "\\item[N\\textbackslash{}\\_SchoolNearBy.Total.] 41.2377990692952\n",
       "\\end{description*}\n"
      ],
      "text/markdown": [
       "YearBuilt\n",
       ":   0.436031314848192YrSold\n",
       ":   0.144630987979862MonthSold\n",
       ":   55.26018488842Size.sqf.\n",
       ":   41.3961915330483Floor\n",
       ":   61.90711374076N_Parkinglot.Ground.\n",
       ":   110.593019640387N_Parkinglot.Basement.\n",
       ":   72.2999309579644N_APT\n",
       ":   51.5178915222672N_manager\n",
       ":   50.5550669450485N_elevators\n",
       ":   69.5364145475434N_FacilitiesNearBy.PublicOffice.\n",
       ":   43.6611022848748N_FacilitiesNearBy.Hospital.\n",
       ":   36.6507208725107N_FacilitiesNearBy.Dpartmentstore.\n",
       ":   89.9992619760978N_FacilitiesNearBy.Mall.\n",
       ":   43.3134791526565N_FacilitiesNearBy.ETC.\n",
       ":   112.826063668753N_FacilitiesNearBy.Park.\n",
       ":   98.2829675954072N_SchoolNearBy.Elementary.\n",
       ":   31.7998269663843N_SchoolNearBy.Middle.\n",
       ":   43.422098853225N_SchoolNearBy.High.\n",
       ":   59.2363242329074N_SchoolNearBy.University.\n",
       ":   54.1198793409291N_FacilitiesInApt\n",
       ":   40.8422988206472N_FacilitiesNearBy.Total.\n",
       ":   34.6786449829444N_SchoolNearBy.Total.\n",
       ":   41.2377990692952\n",
       "\n"
      ],
      "text/plain": [
       "                         YearBuilt                             YrSold \n",
       "                         0.4360313                          0.1446310 \n",
       "                         MonthSold                          Size.sqf. \n",
       "                        55.2601849                         41.3961915 \n",
       "                             Floor               N_Parkinglot.Ground. \n",
       "                        61.9071137                        110.5930196 \n",
       "            N_Parkinglot.Basement.                              N_APT \n",
       "                        72.2999310                         51.5178915 \n",
       "                         N_manager                        N_elevators \n",
       "                        50.5550669                         69.5364145 \n",
       "  N_FacilitiesNearBy.PublicOffice.       N_FacilitiesNearBy.Hospital. \n",
       "                        43.6611023                         36.6507209 \n",
       "N_FacilitiesNearBy.Dpartmentstore.           N_FacilitiesNearBy.Mall. \n",
       "                        89.9992620                         43.3134792 \n",
       "           N_FacilitiesNearBy.ETC.           N_FacilitiesNearBy.Park. \n",
       "                       112.8260637                         98.2829676 \n",
       "        N_SchoolNearBy.Elementary.             N_SchoolNearBy.Middle. \n",
       "                        31.7998270                         43.4220989 \n",
       "              N_SchoolNearBy.High.         N_SchoolNearBy.University. \n",
       "                        59.2363242                         54.1198793 \n",
       "                 N_FacilitiesInApt          N_FacilitiesNearBy.Total. \n",
       "                        40.8422988                         34.6786450 \n",
       "             N_SchoolNearBy.Total. \n",
       "                        41.2377991 "
      ]
     },
     "metadata": {},
     "output_type": "display_data"
    }
   ],
   "source": [
    "var_numericas <- c('YearBuilt','YrSold','MonthSold','Size.sqf.','Floor','N_Parkinglot.Ground.','N_Parkinglot.Basement.','N_APT','N_manager','N_elevators','N_FacilitiesNearBy.PublicOffice.','N_FacilitiesNearBy.Hospital.','N_FacilitiesNearBy.Dpartmentstore.','N_FacilitiesNearBy.Mall.','N_FacilitiesNearBy.ETC.','N_FacilitiesNearBy.Park.','N_SchoolNearBy.Elementary.','N_SchoolNearBy.Middle.','N_SchoolNearBy.High.','N_SchoolNearBy.University.','N_FacilitiesInApt','N_FacilitiesNearBy.Total.','N_SchoolNearBy.Total.')\n",
    "\n",
    "# Función para calcular el coeficiente de variación\n",
    "calcular_cv <- function(x) {\n",
    "  sd_x <- sd(x)  # Desviación estándar\n",
    "  mean_x <- mean(x)  # Media\n",
    "  cv <- sd_x / mean_x * 100  # Coeficiente de variación\n",
    "  return(cv)\n",
    "}\n",
    "\n",
    "# Calcular el coeficiente de variación para cada columna\n",
    "resultados_cv <- sapply(data[var_numericas], calcular_cv)\n",
    "\n",
    "resultados_cv\n"
   ]
  },
  {
   "cell_type": "markdown",
   "id": "0c4faac2-5484-4cd1-9966-45a94f73a920",
   "metadata": {},
   "source": [
    "Se calcula el coeficiente de kurtosis para ver la distribucion de los datos al rededor de la media"
   ]
  },
  {
   "cell_type": "code",
   "execution_count": 83,
   "id": "30b0afda-2cf3-4e91-9948-2aa71356f88e",
   "metadata": {},
   "outputs": [
    {
     "data": {
      "text/html": [
       "<style>\n",
       ".dl-inline {width: auto; margin:0; padding: 0}\n",
       ".dl-inline>dt, .dl-inline>dd {float: none; width: auto; display: inline-block}\n",
       ".dl-inline>dt::after {content: \":\\0020\"; padding-right: .5ex}\n",
       ".dl-inline>dt:not(:first-of-type) {padding-left: .5ex}\n",
       "</style><dl class=dl-inline><dt>YearBuilt</dt><dd>2.48156934079518</dd><dt>YrSold</dt><dd>1.82445921701596</dd><dt>MonthSold</dt><dd>1.83200284582533</dd><dt>Size.sqf.</dt><dd>4.02410611572854</dd><dt>Floor</dt><dd>3.77337627652495</dd><dt>N_Parkinglot.Ground.</dt><dd>2.67305236108764</dd><dt>N_Parkinglot.Basement.</dt><dd>2.04901203343626</dd><dt>N_APT</dt><dd>2.32705140018779</dd><dt>N_manager</dt><dd>4.04734869472435</dd><dt>N_elevators</dt><dd>2.11863912701568</dd><dt>N_FacilitiesNearBy.PublicOffice.</dt><dd>2.03443142984068</dd><dt>N_FacilitiesNearBy.Hospital.</dt><dd>2.02972357066764</dd><dt>N_FacilitiesNearBy.Dpartmentstore.</dt><dd>1.49622437383759</dd><dt>N_FacilitiesNearBy.Mall.</dt><dd>5.75086376349022</dd><dt>N_FacilitiesNearBy.ETC.</dt><dd>1.477794159611</dd><dt>N_FacilitiesNearBy.Park.</dt><dd>2.26833001878317</dd><dt>N_SchoolNearBy.Elementary.</dt><dd>3.89153921302911</dd><dt>N_SchoolNearBy.Middle.</dt><dd>2.47559802512493</dd><dt>N_SchoolNearBy.High.</dt><dd>1.73553012361428</dd><dt>N_SchoolNearBy.University.</dt><dd>1.7407972063389</dd><dt>N_FacilitiesInApt</dt><dd>2.16902214359285</dd><dt>N_FacilitiesNearBy.Total.</dt><dd>2.57662465791222</dd><dt>N_SchoolNearBy.Total.</dt><dd>1.91603808470122</dd></dl>\n"
      ],
      "text/latex": [
       "\\begin{description*}\n",
       "\\item[YearBuilt] 2.48156934079518\n",
       "\\item[YrSold] 1.82445921701596\n",
       "\\item[MonthSold] 1.83200284582533\n",
       "\\item[Size.sqf.] 4.02410611572854\n",
       "\\item[Floor] 3.77337627652495\n",
       "\\item[N\\textbackslash{}\\_Parkinglot.Ground.] 2.67305236108764\n",
       "\\item[N\\textbackslash{}\\_Parkinglot.Basement.] 2.04901203343626\n",
       "\\item[N\\textbackslash{}\\_APT] 2.32705140018779\n",
       "\\item[N\\textbackslash{}\\_manager] 4.04734869472435\n",
       "\\item[N\\textbackslash{}\\_elevators] 2.11863912701568\n",
       "\\item[N\\textbackslash{}\\_FacilitiesNearBy.PublicOffice.] 2.03443142984068\n",
       "\\item[N\\textbackslash{}\\_FacilitiesNearBy.Hospital.] 2.02972357066764\n",
       "\\item[N\\textbackslash{}\\_FacilitiesNearBy.Dpartmentstore.] 1.49622437383759\n",
       "\\item[N\\textbackslash{}\\_FacilitiesNearBy.Mall.] 5.75086376349022\n",
       "\\item[N\\textbackslash{}\\_FacilitiesNearBy.ETC.] 1.477794159611\n",
       "\\item[N\\textbackslash{}\\_FacilitiesNearBy.Park.] 2.26833001878317\n",
       "\\item[N\\textbackslash{}\\_SchoolNearBy.Elementary.] 3.89153921302911\n",
       "\\item[N\\textbackslash{}\\_SchoolNearBy.Middle.] 2.47559802512493\n",
       "\\item[N\\textbackslash{}\\_SchoolNearBy.High.] 1.73553012361428\n",
       "\\item[N\\textbackslash{}\\_SchoolNearBy.University.] 1.7407972063389\n",
       "\\item[N\\textbackslash{}\\_FacilitiesInApt] 2.16902214359285\n",
       "\\item[N\\textbackslash{}\\_FacilitiesNearBy.Total.] 2.57662465791222\n",
       "\\item[N\\textbackslash{}\\_SchoolNearBy.Total.] 1.91603808470122\n",
       "\\end{description*}\n"
      ],
      "text/markdown": [
       "YearBuilt\n",
       ":   2.48156934079518YrSold\n",
       ":   1.82445921701596MonthSold\n",
       ":   1.83200284582533Size.sqf.\n",
       ":   4.02410611572854Floor\n",
       ":   3.77337627652495N_Parkinglot.Ground.\n",
       ":   2.67305236108764N_Parkinglot.Basement.\n",
       ":   2.04901203343626N_APT\n",
       ":   2.32705140018779N_manager\n",
       ":   4.04734869472435N_elevators\n",
       ":   2.11863912701568N_FacilitiesNearBy.PublicOffice.\n",
       ":   2.03443142984068N_FacilitiesNearBy.Hospital.\n",
       ":   2.02972357066764N_FacilitiesNearBy.Dpartmentstore.\n",
       ":   1.49622437383759N_FacilitiesNearBy.Mall.\n",
       ":   5.75086376349022N_FacilitiesNearBy.ETC.\n",
       ":   1.477794159611N_FacilitiesNearBy.Park.\n",
       ":   2.26833001878317N_SchoolNearBy.Elementary.\n",
       ":   3.89153921302911N_SchoolNearBy.Middle.\n",
       ":   2.47559802512493N_SchoolNearBy.High.\n",
       ":   1.73553012361428N_SchoolNearBy.University.\n",
       ":   1.7407972063389N_FacilitiesInApt\n",
       ":   2.16902214359285N_FacilitiesNearBy.Total.\n",
       ":   2.57662465791222N_SchoolNearBy.Total.\n",
       ":   1.91603808470122\n",
       "\n"
      ],
      "text/plain": [
       "                         YearBuilt                             YrSold \n",
       "                          2.481569                           1.824459 \n",
       "                         MonthSold                          Size.sqf. \n",
       "                          1.832003                           4.024106 \n",
       "                             Floor               N_Parkinglot.Ground. \n",
       "                          3.773376                           2.673052 \n",
       "            N_Parkinglot.Basement.                              N_APT \n",
       "                          2.049012                           2.327051 \n",
       "                         N_manager                        N_elevators \n",
       "                          4.047349                           2.118639 \n",
       "  N_FacilitiesNearBy.PublicOffice.       N_FacilitiesNearBy.Hospital. \n",
       "                          2.034431                           2.029724 \n",
       "N_FacilitiesNearBy.Dpartmentstore.           N_FacilitiesNearBy.Mall. \n",
       "                          1.496224                           5.750864 \n",
       "           N_FacilitiesNearBy.ETC.           N_FacilitiesNearBy.Park. \n",
       "                          1.477794                           2.268330 \n",
       "        N_SchoolNearBy.Elementary.             N_SchoolNearBy.Middle. \n",
       "                          3.891539                           2.475598 \n",
       "              N_SchoolNearBy.High.         N_SchoolNearBy.University. \n",
       "                          1.735530                           1.740797 \n",
       "                 N_FacilitiesInApt          N_FacilitiesNearBy.Total. \n",
       "                          2.169022                           2.576625 \n",
       "             N_SchoolNearBy.Total. \n",
       "                          1.916038 "
      ]
     },
     "metadata": {},
     "output_type": "display_data"
    }
   ],
   "source": [
    "# Función para calcular curtois\n",
    "calcular_cv <- function(x) {\n",
    "  kr <- kurtosis(x)\n",
    "  return(kr)\n",
    "}\n",
    "\n",
    "# Calcular el coeficiente de variación para cada columna\n",
    "resultados_cv <- sapply(data[var_numericas], calcular_cv)\n",
    "\n",
    "resultados_cv"
   ]
  },
  {
   "cell_type": "markdown",
   "id": "75e061b3-f790-442c-b6ee-2ee8ff5f5774",
   "metadata": {},
   "source": [
    "#### Histogramas"
   ]
  },
  {
   "cell_type": "markdown",
   "id": "a588bd2b-a2f9-4c4a-a41b-77dff2afab3c",
   "metadata": {},
   "source": [
    "Se observan que la mayoria de las variables no tienen una distribucion simetrica. Variables como Size.sqf. sigue una distribucion simetrica.."
   ]
  },
  {
   "cell_type": "code",
   "execution_count": 90,
   "id": "9387516e-d7b1-4bb6-8bfb-4ac634d8fd91",
   "metadata": {},
   "outputs": [
    {
     "data": {
      "image/png": "[encoded data removed]",
      "text/plain": [
       "Plot with title \"N_FacilitiesNearBy.PublicOffice.\""
      ]
     },
     "metadata": {
      "image/png": {
       "height": 420,
       "width": 420
      }
     },
     "output_type": "display_data"
    },
    {
     "data": {
      "image/png": "[encoded data removed]",
      "text/plain": [
       "Plot with title \"N_SchoolNearBy.Total.\""
      ]
     },
     "metadata": {
      "image/png": {
       "height": 420,
       "width": 420
      }
     },
     "output_type": "display_data"
    }
   ],
   "source": [
    "# Identificar columnas numéricas\n",
    "var_numericas <- sapply(data, is.numeric)\n",
    "\n",
    "# Crear histogramas para cada columna numérica\n",
    "par(mfrow = c(4, 3))  # Organiza los gráficos en una matriz 4x3\n",
    "\n",
    "for (col in names(data)[var_numericas]) {\n",
    "  hist(data[[col]], main = col, xlab = col)\n",
    "}\n",
    "\n",
    "# Restaurar la configuración de gráficos a una sola gráfica\n",
    "par(mfrow = c(1, 1))"
   ]
  },
  {
   "cell_type": "markdown",
   "id": "5cafcb25-eb36-4530-a48c-00f75090e0fe",
   "metadata": {},
   "source": [
    "#### Graficos exploratorio"
   ]
  },
  {
   "cell_type": "markdown",
   "id": "5bd729bd-f545-4f84-a21a-8ecb409a5fc3",
   "metadata": {},
   "source": [
    "En el diagrama de correlacion a continuacion podemos evidenciar variables que teinen una correlacion positiva  con la variable de precio de venta de la vivienda, como por ejemplo Year Built o N_FacilitiesInApt, tambien tienen una alta correlacion positia la variable YrSold con el precio de venta. Tambien hay variables con correlacion negativa como por ejemplo el precio de venta y N_Parkinglot.Basement."
   ]
  },
  {
   "cell_type": "code",
   "execution_count": 91,
   "id": "a117b753-2a1f-430f-ae12-f1919f45a6b3",
   "metadata": {},
   "outputs": [
    {
     "data": {
      "image/png": "[encoded data removed]",
      "text/plain": [
       "Plot with title \"\""
      ]
     },
     "metadata": {
      "image/png": {
       "height": 420,
       "width": 420
      }
     },
     "output_type": "display_data"
    }
   ],
   "source": [
    "# Se exluyen las variables categóricas \n",
    "cor_data<-cor(data[,-c(7,8,9, 12, 13, 17)])\n",
    "corrplot(cor_data)"
   ]
  },
  {
   "cell_type": "markdown",
   "id": "959655a4-81e3-4918-a0c8-f1a0cc042b4d",
   "metadata": {},
   "source": [
    "Diagramas de dispercion en relacion a la variable de precio de venta de la casa. La variablde YrSold muestra una correlacion positiva."
   ]
  },
  {
   "cell_type": "code",
   "execution_count": 92,
   "id": "64c09c43-2886-4737-ab42-a1c831803571",
   "metadata": {},
   "outputs": [],
   "source": [
    "variable_referencia <- \"X\"\n",
    "# Encuentra todas las variables numéricas, excluyendo la variable de referencia\n",
    "var_numericas <- sapply(data, is.numeric)\n",
    "var_numericas <- names(data)[var_numericas]\n",
    "var_numericas <- setdiff(var_numericas, variable_referencia)\n",
    "\n",
    "# Crear los gráficos de dispersión de uno en uno\n",
    "for (var in var_numericas) {\n",
    "  dev.new()  # Abre una nueva ventana gráfica\n",
    "  plot(data[[variable_referencia]], data[[var]], \n",
    "       main = paste(variable_referencia, \"vs\", var), \n",
    "       xlab = variable_referencia, \n",
    "       ylab = var)\n",
    "}\n",
    "\n"
   ]
  },
  {
   "cell_type": "code",
   "execution_count": 93,
   "id": "8ac4a60d-b94d-43a9-8c7a-24022abfe558",
   "metadata": {},
   "outputs": [
    {
     "data": {
      "image/png": "[encoded data removed]",
      "text/plain": [
       "Plot with title \"X vs Size.sqf.\""
      ]
     },
     "metadata": {
      "image/png": {
       "height": 420,
       "width": 420
      }
     },
     "output_type": "display_data"
    },
    {
     "data": {
      "image/png": "[encoded data removed]",
      "text/plain": [
       "Plot with title \"X vs N_APT\""
      ]
     },
     "metadata": {
      "image/png": {
       "height": 420,
       "width": 420
      }
     },
     "output_type": "display_data"
    }
   ],
   "source": [
    "# Ajustar la configuración gráfica para múltiples gráficos\n",
    "par(mfrow = c(2, 2), mar = c(4, 4, 2, 1))  # 2x2 layout y márgenes ajustados\n",
    "\n",
    "# Crear los gráficos de dispersión\n",
    "for (var in var_numericas) {\n",
    "  plot(data[[variable_referencia]], data[[var]], \n",
    "       main = paste(variable_referencia, \"vs\", var), \n",
    "       xlab = variable_referencia, \n",
    "       ylab = var)\n",
    "}\n",
    "\n",
    "# Restaurar la configuración de gráficos a una sola gráfica\n",
    "par(mfrow = c(1, 1))\n"
   ]
  },
  {
   "cell_type": "markdown",
   "id": "f303fedf-f837-446a-bccd-c4ee2375cc66",
   "metadata": {},
   "source": [
    "Se observan variables que tienen valores atipicos. De las variables predictoras ,la mayoria no tienen una distribucion simetrica. Hay variables que tienen una correlacion positiva con la variable de precio de venta d ela vivienda, como lo es YrSold, ha otras variables que tienen una correlacion negativa como lo es N_Parkinglot.Basement. Tambien s epuede evidencair que para todas las variable sno hay valores austentes. "
   ]
  },
  {
   "cell_type": "code",
   "execution_count": null,
   "id": "4eea55c1-47ec-4881-8db8-55726140cb98",
   "metadata": {},
   "outputs": [],
   "source": []
  }
 ],
 "metadata": {
  "kernelspec": {
   "display_name": "R",
   "language": "R",
   "name": "ir"
  },
  "language_info": {
   "codemirror_mode": "r",
   "file_extension": ".r",
   "mimetype": "text/x-r-source",
   "name": "R",
   "pygments_lexer": "r",
   "version": "4.3.2"
  }
 },
 "nbformat": 4,
 "nbformat_minor": 5
}
