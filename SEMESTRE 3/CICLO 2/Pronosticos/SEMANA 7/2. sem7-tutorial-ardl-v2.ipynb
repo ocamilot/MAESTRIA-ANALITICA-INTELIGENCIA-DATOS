{
 "cells": [
  {
   "cell_type": "markdown",
   "metadata": {},
   "source": [
    "## Tutorial de Modelos Autorregresivos con rezagos distribuidos (ARDL)\n",
    "En este tutorial conocerás cómo crear modelos de tipo ARDL. El objetivo es el generar este modelo para identificar si existe algun tipo de relacion a corto y largo plazo con las variables de precio de las acciones de amazon. Este tutorial pretende usar la libreria ardl en R, la cual tiene funciones muy utiles para generar el modelo, identificar los multiplicadores a corto y largo plazo y realizar el ARDL basado en la corrección de errores.\n",
    "\n",
    "\n",
    "**Contenido**\n",
    "1. [Datos:](#1)\n",
    " 1. [Datos: Preprocesamiento](#2)\n",
    "       1. [Importación de librerías requeridas](#3)\n",
    "       1. [Descarga de datos financieros](#4)\n",
    "       1. [Generación de formato ts](#5)\n",
    "       1. [Visualización de las series de interés](#6)\n",
    "       1. [Prueba de estacionariedad](#7)\n",
    "1. [Modelos ARDL](#8)\n",
    "    1. [Predicción](#8a)\n",
    "    1. [Bound test para la verificacion de relaciones a largo y corto termino](#9)\n",
    "    1. [Mutiplicadores de largo y corto termino](#10)\n"
   ]
  },
  {
   "cell_type": "markdown",
   "metadata": {},
   "source": [
    "<a id=\"1\"></a> <br>\n",
    "## 1. Datos y Modelamiento"
   ]
  },
  {
   "cell_type": "markdown",
   "metadata": {},
   "source": [
    "<a id=\"2\"></a> <br>\n",
    "#### A. Datos: Preprocesamiento\n",
    "\n",
    "Esta sección básicamente involucra desde la descarga de los datos financieros y eliminación de datos faltantes, su visualización, adecuado formato de series de tiempo; que son procesos necesarios previos al modelamiento."
   ]
  },
  {
   "cell_type": "markdown",
   "metadata": {},
   "source": [
    "<a id=\"3\"></a> <br>\n",
    "##### a. Importación de librerías requeridas\n",
    "\n",
    "A continuación, importaremos las librerías necesarias. Estos paquetes comprenden aquellos para la descarga y manipulación de datos financieros, para la visualización y el modelamiento. En la segunda parte de este tutorial, llamaremos otras librerías que serán útiles para el pronóstico futuro."
   ]
  },
  {
   "cell_type": "code",
   "execution_count": 4,
   "metadata": {},
   "outputs": [
    {
     "name": "stderr",
     "output_type": "stream",
     "text": [
      "Downloading package from url: https://cran.r-project.org/src/contrib/Archive/pbkrtest/pbkrtest_0.5.1.tar.gz\n",
      "\n"
     ]
    },
    {
     "name": "stdout",
     "output_type": "stream",
     "text": [
      "stringi   (1.8.4     -> 1.8.7    ) [CRAN]\n",
      "RcppEigen (0.3.4.0.0 -> 0.3.4.0.2) [CRAN]\n",
      "nloptr    (2.0.3     -> 2.2.1    ) [CRAN]\n",
      "minqa     (1.2.7     -> 1.2.8    ) [CRAN]\n"
     ]
    },
    {
     "name": "stderr",
     "output_type": "stream",
     "text": [
      "Installing 4 packages: stringi, RcppEigen, nloptr, minqa\n",
      "\n",
      "Installing packages into ‘/Users/U1037319/Library/R/arm64/4.2/library’\n",
      "(as ‘lib’ is unspecified)\n",
      "\n",
      "Warning message in i.p(...):\n",
      "“installation of package ‘RcppEigen’ had non-zero exit status”\n",
      "Warning message in i.p(...):\n",
      "“installation of package ‘nloptr’ had non-zero exit status”\n",
      "Warning message in i.p(...):\n",
      "“installation of package ‘minqa’ had non-zero exit status”\n",
      "Installing package into ‘/Users/U1037319/Library/R/arm64/4.2/library’\n",
      "(as ‘lib’ is unspecified)\n",
      "\n"
     ]
    }
   ],
   "source": [
    "# Actualizamos la versión de R en Kaggle, así como algunas versiones de depaendencias de la paquetería ARDL. Este proceso es tardado.\n",
    "#install.packages(\"CCA\")\n",
    "devtools::install_version(\"pbkrtest\", version = \"0.5.1\")"
   ]
  },
  {
   "cell_type": "code",
   "execution_count": 5,
   "metadata": {},
   "outputs": [
    {
     "name": "stderr",
     "output_type": "stream",
     "text": [
      "Using GitHub PAT from the git credential store.\n",
      "\n",
      "Downloading GitHub repo Natsiopoulos/ARDL@HEAD\n",
      "\n"
     ]
    },
    {
     "name": "stdout",
     "output_type": "stream",
     "text": [
      "Error in utils::download.file(url, path, method = method, quiet = quiet,  : \n",
      "  download from 'https://api.github.com/repos/Natsiopoulos/ARDL/tarball/HEAD' failed\n"
     ]
    }
   ],
   "source": [
    "#install.packages(\"devtools\")\n",
    "devtools::install_github(\"Natsiopoulos/ARDL\")"
   ]
  },
  {
   "cell_type": "code",
   "execution_count": 6,
   "metadata": {},
   "outputs": [],
   "source": [
    "### Para el modelado\n",
    "library(ARDL)"
   ]
  },
  {
   "cell_type": "code",
   "execution_count": 7,
   "metadata": {},
   "outputs": [
    {
     "name": "stderr",
     "output_type": "stream",
     "text": [
      "Warning message:\n",
      "“package ‘ggplot2’ was built under R version 4.2.3”\n",
      "Warning message:\n",
      "“package ‘tidyr’ was built under R version 4.2.3”\n",
      "Warning message:\n",
      "“package ‘readr’ was built under R version 4.2.3”\n",
      "Warning message:\n",
      "“package ‘dplyr’ was built under R version 4.2.3”\n",
      "── \u001b[1mAttaching core tidyverse packages\u001b[22m ──────────────────────── tidyverse 2.0.0 ──\n",
      "\u001b[32m✔\u001b[39m \u001b[34mdplyr    \u001b[39m 1.1.4     \u001b[32m✔\u001b[39m \u001b[34mpurrr    \u001b[39m 1.0.4\n",
      "\u001b[32m✔\u001b[39m \u001b[34mforcats  \u001b[39m 1.0.0     \u001b[32m✔\u001b[39m \u001b[34mreadr    \u001b[39m 2.1.5\n",
      "\u001b[32m✔\u001b[39m \u001b[34mggplot2  \u001b[39m 3.5.1     \u001b[32m✔\u001b[39m \u001b[34mtibble   \u001b[39m 3.2.1\n",
      "\u001b[32m✔\u001b[39m \u001b[34mlubridate\u001b[39m 1.9.3     \u001b[32m✔\u001b[39m \u001b[34mtidyr    \u001b[39m 1.3.1\n",
      "── \u001b[1mConflicts\u001b[22m ────────────────────────────────────────── tidyverse_conflicts() ──\n",
      "\u001b[31m✖\u001b[39m \u001b[34mdplyr\u001b[39m::\u001b[32mfilter()\u001b[39m masks \u001b[34mstats\u001b[39m::filter()\n",
      "\u001b[31m✖\u001b[39m \u001b[34mdplyr\u001b[39m::\u001b[32mlag()\u001b[39m    masks \u001b[34mstats\u001b[39m::lag()\n",
      "\u001b[36mℹ\u001b[39m Use the conflicted package (\u001b[3m\u001b[34m<http://conflicted.r-lib.org/>\u001b[39m\u001b[23m) to force all conflicts to become errors\n",
      "Loading required package: spam\n",
      "\n",
      "Spam version 2.10-0 (2023-10-23) is loaded.\n",
      "Type 'help( Spam)' or 'demo( spam)' for a short introduction \n",
      "and overview of this package.\n",
      "Help for individual functions is also obtained by adding the\n",
      "suffix '.spam' to the function name, e.g. 'help( chol.spam)'.\n",
      "\n",
      "\n",
      "Attaching package: ‘spam’\n",
      "\n",
      "\n",
      "The following objects are masked from ‘package:base’:\n",
      "\n",
      "    backsolve, forwardsolve\n",
      "\n",
      "\n",
      "Loading required package: viridisLite\n",
      "\n",
      "\n",
      "Try help(fields) to get started.\n",
      "\n",
      "Warning message:\n",
      "“package ‘forecast’ was built under R version 4.2.3”\n",
      "Registered S3 method overwritten by 'quantmod':\n",
      "  method            from\n",
      "  as.zoo.data.frame zoo \n",
      "\n",
      "Warning message:\n",
      "“package ‘quantmod’ was built under R version 4.2.3”\n",
      "Loading required package: xts\n",
      "\n",
      "Loading required package: zoo\n",
      "\n",
      "\n",
      "Attaching package: ‘zoo’\n",
      "\n",
      "\n",
      "The following objects are masked from ‘package:base’:\n",
      "\n",
      "    as.Date, as.Date.numeric\n",
      "\n",
      "\n",
      "\n",
      "######################### Warning from 'xts' package ##########################\n",
      "#                                                                             #\n",
      "# The dplyr lag() function breaks how base R's lag() function is supposed to  #\n",
      "# work, which breaks lag(my_xts). Calls to lag(my_xts) that you type or       #\n",
      "# source() into this session won't work correctly.                            #\n",
      "#                                                                             #\n",
      "# Use stats::lag() to make sure you're not using dplyr::lag(), or you can add #\n",
      "# conflictRules('dplyr', exclude = 'lag') to your .Rprofile to stop           #\n",
      "# dplyr from breaking base R's lag() function.                                #\n",
      "#                                                                             #\n",
      "# Code in packages is not affected. It's protected by R's namespace mechanism #\n",
      "# Set `options(xts.warn_dplyr_breaks_lag = FALSE)` to suppress this warning.  #\n",
      "#                                                                             #\n",
      "###############################################################################\n",
      "\n",
      "\n",
      "Attaching package: ‘xts’\n",
      "\n",
      "\n",
      "The following object is masked from ‘package:fields’:\n",
      "\n",
      "    addLegend\n",
      "\n",
      "\n",
      "The following objects are masked from ‘package:dplyr’:\n",
      "\n",
      "    first, last\n",
      "\n",
      "\n",
      "Loading required package: TTR\n",
      "\n",
      "Warning message:\n",
      "“package ‘TTR’ was built under R version 4.2.3”\n",
      "Warning message:\n",
      "“package ‘tseries’ was built under R version 4.2.3”\n",
      "Warning message:\n",
      "“package ‘urca’ was built under R version 4.2.3”\n"
     ]
    }
   ],
   "source": [
    "#Otros de manipulación de datos\n",
    "library(tidyverse) \n",
    "library(fields)  \n",
    "library(forecast)  \n",
    "library(quantmod) \n",
    "library(dygraphs) \n",
    "library(dplyr)    \n",
    "library(ggplot2) \n",
    "library(tseries)   \n",
    "library(tidyverse)   \n",
    "library(urca)\n",
    "library(TSstudio)\n",
    "theme_set(theme_bw())\n",
    "options(warn = - 1) "
   ]
  },
  {
   "cell_type": "markdown",
   "metadata": {},
   "source": [
    "<a id=\"4\"></a> <br>\n",
    "##### b. Descarga de datos\n",
    "Descargamos una base con 5 variables cuyo periodo se encuentra entre 1974:Q1 y 1987:Q3.\n"
   ]
  },
  {
   "cell_type": "code",
   "execution_count": 8,
   "metadata": {},
   "outputs": [
    {
     "name": "stdout",
     "output_type": "stream",
     "text": [
      "'data.frame':\t55 obs. of  6 variables:\n",
      " $ ENTRY: Factor w/ 55 levels \"1974:01\",\"1974:02\",..: 1 2 3 4 5 6 7 8 9 10 ...\n",
      " $ LRM  : num  11.6 11.6 11.6 11.6 11.6 ...\n",
      " $ LRY  : num  5.9 5.87 5.84 5.81 5.8 ...\n",
      " $ LPY  : num  -0.619 -0.581 -0.543 -0.505 -0.486 ...\n",
      " $ IBO  : num  0.155 0.178 0.171 0.152 0.134 ...\n",
      " $ IDE  : num  0.094 0.0955 0.0955 0.0955 0.0885 0.079 0.076 0.074 0.072 0.078 ...\n"
     ]
    }
   ],
   "source": [
    "#Datos:\n",
    "data(denmark)\n",
    "str(denmark)\n",
    "# LRM: logarithm of real money, M2\n",
    "# LRY: logarithm of real income\n",
    "# LPY: logarithm of price deflator\n",
    "# IBO: bond rate\n",
    "# IDE: bank deposit rate"
   ]
  },
  {
   "cell_type": "code",
   "execution_count": 9,
   "metadata": {},
   "outputs": [
    {
     "data": {
      "text/html": [
       "<table class=\"dataframe\">\n",
       "<caption>A data.frame: 6 × 6</caption>\n",
       "<thead>\n",
       "\t<tr><th></th><th scope=col>ENTRY</th><th scope=col>LRM</th><th scope=col>LRY</th><th scope=col>LPY</th><th scope=col>IBO</th><th scope=col>IDE</th></tr>\n",
       "\t<tr><th></th><th scope=col>&lt;fct&gt;</th><th scope=col>&lt;dbl&gt;</th><th scope=col>&lt;dbl&gt;</th><th scope=col>&lt;dbl&gt;</th><th scope=col>&lt;dbl&gt;</th><th scope=col>&lt;dbl&gt;</th></tr>\n",
       "</thead>\n",
       "<tbody>\n",
       "\t<tr><th scope=row>50</th><td>1986:02</td><td>12.07546</td><td>6.089658</td><td>0.4130280</td><td>0.0984000</td><td>0.06745833</td></tr>\n",
       "\t<tr><th scope=row>51</th><td>1986:03</td><td>12.05619</td><td>6.098992</td><td>0.4182679</td><td>0.1115000</td><td>0.06794079</td></tr>\n",
       "\t<tr><th scope=row>52</th><td>1986:04</td><td>12.07163</td><td>6.080706</td><td>0.4282964</td><td>0.1142670</td><td>0.07539570</td></tr>\n",
       "\t<tr><th scope=row>53</th><td>1987:01</td><td>12.02795</td><td>6.061175</td><td>0.4467611</td><td>0.1193333</td><td>0.07665326</td></tr>\n",
       "\t<tr><th scope=row>54</th><td>1987:02</td><td>12.03979</td><td>6.063730</td><td>0.4583306</td><td>0.1173333</td><td>0.07625867</td></tr>\n",
       "\t<tr><th scope=row>55</th><td>1987:03</td><td>12.01529</td><td>6.050830</td><td>0.4683345</td><td>0.1189667</td><td>0.07516289</td></tr>\n",
       "</tbody>\n",
       "</table>\n"
      ],
      "text/latex": [
       "A data.frame: 6 × 6\n",
       "\\begin{tabular}{r|llllll}\n",
       "  & ENTRY & LRM & LRY & LPY & IBO & IDE\\\\\n",
       "  & <fct> & <dbl> & <dbl> & <dbl> & <dbl> & <dbl>\\\\\n",
       "\\hline\n",
       "\t50 & 1986:02 & 12.07546 & 6.089658 & 0.4130280 & 0.0984000 & 0.06745833\\\\\n",
       "\t51 & 1986:03 & 12.05619 & 6.098992 & 0.4182679 & 0.1115000 & 0.06794079\\\\\n",
       "\t52 & 1986:04 & 12.07163 & 6.080706 & 0.4282964 & 0.1142670 & 0.07539570\\\\\n",
       "\t53 & 1987:01 & 12.02795 & 6.061175 & 0.4467611 & 0.1193333 & 0.07665326\\\\\n",
       "\t54 & 1987:02 & 12.03979 & 6.063730 & 0.4583306 & 0.1173333 & 0.07625867\\\\\n",
       "\t55 & 1987:03 & 12.01529 & 6.050830 & 0.4683345 & 0.1189667 & 0.07516289\\\\\n",
       "\\end{tabular}\n"
      ],
      "text/markdown": [
       "\n",
       "A data.frame: 6 × 6\n",
       "\n",
       "| <!--/--> | ENTRY &lt;fct&gt; | LRM &lt;dbl&gt; | LRY &lt;dbl&gt; | LPY &lt;dbl&gt; | IBO &lt;dbl&gt; | IDE &lt;dbl&gt; |\n",
       "|---|---|---|---|---|---|---|\n",
       "| 50 | 1986:02 | 12.07546 | 6.089658 | 0.4130280 | 0.0984000 | 0.06745833 |\n",
       "| 51 | 1986:03 | 12.05619 | 6.098992 | 0.4182679 | 0.1115000 | 0.06794079 |\n",
       "| 52 | 1986:04 | 12.07163 | 6.080706 | 0.4282964 | 0.1142670 | 0.07539570 |\n",
       "| 53 | 1987:01 | 12.02795 | 6.061175 | 0.4467611 | 0.1193333 | 0.07665326 |\n",
       "| 54 | 1987:02 | 12.03979 | 6.063730 | 0.4583306 | 0.1173333 | 0.07625867 |\n",
       "| 55 | 1987:03 | 12.01529 | 6.050830 | 0.4683345 | 0.1189667 | 0.07516289 |\n",
       "\n"
      ],
      "text/plain": [
       "   ENTRY   LRM      LRY      LPY       IBO       IDE       \n",
       "50 1986:02 12.07546 6.089658 0.4130280 0.0984000 0.06745833\n",
       "51 1986:03 12.05619 6.098992 0.4182679 0.1115000 0.06794079\n",
       "52 1986:04 12.07163 6.080706 0.4282964 0.1142670 0.07539570\n",
       "53 1987:01 12.02795 6.061175 0.4467611 0.1193333 0.07665326\n",
       "54 1987:02 12.03979 6.063730 0.4583306 0.1173333 0.07625867\n",
       "55 1987:03 12.01529 6.050830 0.4683345 0.1189667 0.07516289"
      ]
     },
     "metadata": {},
     "output_type": "display_data"
    },
    {
     "data": {
      "text/html": [
       "6"
      ],
      "text/latex": [
       "6"
      ],
      "text/markdown": [
       "6"
      ],
      "text/plain": [
       "[1] 6"
      ]
     },
     "metadata": {},
     "output_type": "display_data"
    }
   ],
   "source": [
    "# Podemos imprimir las series.\n",
    "tail(denmark)\n",
    "length(denmark)"
   ]
  },
  {
   "cell_type": "markdown",
   "metadata": {},
   "source": [
    "<a id=\"5\"></a> <br>\n",
    "##### c. Generación de formato ts."
   ]
  },
  {
   "cell_type": "code",
   "execution_count": 10,
   "metadata": {},
   "outputs": [],
   "source": [
    "#Ya que tenemos que trabajar en formato ts, transformamos la serie con frecuencia trimestral.\n",
    "y <- ts(denmark$LRM, start = c(1974,1), frequency = 4)\n",
    "ri <- ts(denmark$LRY, start = c(1974,1), frequency = 4)\n",
    "pd <- ts(denmark$LPY, start = c(1974,1), frequency = 4)\n",
    "br <- ts(denmark$IBO, start = c(1974,1), frequency = 4)\n",
    "dr <- ts(denmark$IDE, start = c(1974,1), frequency = 4)\n"
   ]
  },
  {
   "cell_type": "code",
   "execution_count": 26,
   "metadata": {},
   "outputs": [
    {
     "data": {
      "text/html": [
       "<table class=\"dataframe\">\n",
       "<caption>A Time Series: 14 × 4</caption>\n",
       "<thead>\n",
       "\t<tr><th></th><th scope=col>Qtr1</th><th scope=col>Qtr2</th><th scope=col>Qtr3</th><th scope=col>Qtr4</th></tr>\n",
       "</thead>\n",
       "<tbody>\n",
       "\t<tr><th scope=row>1974</th><td>11.63255</td><td>11.60415</td><td>11.58152</td><td>11.60185</td></tr>\n",
       "\t<tr><th scope=row>1975</th><td>11.58630</td><td>11.60450</td><td>11.65331</td><td>11.76425</td></tr>\n",
       "\t<tr><th scope=row>1976</th><td>11.75293</td><td>11.76548</td><td>11.78058</td><td>11.77018</td></tr>\n",
       "\t<tr><th scope=row>1977</th><td>11.74589</td><td>11.76865</td><td>11.74982</td><td>11.74870</td></tr>\n",
       "\t<tr><th scope=row>1978</th><td>11.70492</td><td>11.70344</td><td>11.70300</td><td>11.70367</td></tr>\n",
       "\t<tr><th scope=row>1979</th><td>11.67890</td><td>11.70778</td><td>11.67616</td><td>11.68592</td></tr>\n",
       "\t<tr><th scope=row>1980</th><td>11.64161</td><td>11.63518</td><td>11.60926</td><td>11.65761</td></tr>\n",
       "\t<tr><th scope=row>1981</th><td>11.62782</td><td>11.62885</td><td>11.60378</td><td>11.62906</td></tr>\n",
       "\t<tr><th scope=row>1982</th><td>11.60202</td><td>11.60378</td><td>11.59462</td><td>11.60382</td></tr>\n",
       "\t<tr><th scope=row>1983</th><td>11.61713</td><td>11.68810</td><td>11.72651</td><td>11.78125</td></tr>\n",
       "\t<tr><th scope=row>1984</th><td>11.79762</td><td>11.84191</td><td>11.84030</td><td>11.92358</td></tr>\n",
       "\t<tr><th scope=row>1985</th><td>11.90296</td><td>11.92678</td><td>11.97100</td><td>12.02590</td></tr>\n",
       "\t<tr><th scope=row>1986</th><td>12.05115</td><td>12.07546</td><td>12.05619</td><td>12.07163</td></tr>\n",
       "\t<tr><th scope=row>1987</th><td>12.02795</td><td>12.03979</td><td>12.01529</td><td>        </td></tr>\n",
       "</tbody>\n",
       "</table>\n"
      ],
      "text/latex": [
       "A Time Series: 14 × 4\n",
       "\\begin{tabular}{r|llll}\n",
       "  & Qtr1 & Qtr2 & Qtr3 & Qtr4\\\\\n",
       "\\hline\n",
       "\t1974 & 11.63255 & 11.60415 & 11.58152 & 11.60185\\\\\n",
       "\t1975 & 11.58630 & 11.60450 & 11.65331 & 11.76425\\\\\n",
       "\t1976 & 11.75293 & 11.76548 & 11.78058 & 11.77018\\\\\n",
       "\t1977 & 11.74589 & 11.76865 & 11.74982 & 11.74870\\\\\n",
       "\t1978 & 11.70492 & 11.70344 & 11.70300 & 11.70367\\\\\n",
       "\t1979 & 11.67890 & 11.70778 & 11.67616 & 11.68592\\\\\n",
       "\t1980 & 11.64161 & 11.63518 & 11.60926 & 11.65761\\\\\n",
       "\t1981 & 11.62782 & 11.62885 & 11.60378 & 11.62906\\\\\n",
       "\t1982 & 11.60202 & 11.60378 & 11.59462 & 11.60382\\\\\n",
       "\t1983 & 11.61713 & 11.68810 & 11.72651 & 11.78125\\\\\n",
       "\t1984 & 11.79762 & 11.84191 & 11.84030 & 11.92358\\\\\n",
       "\t1985 & 11.90296 & 11.92678 & 11.97100 & 12.02590\\\\\n",
       "\t1986 & 12.05115 & 12.07546 & 12.05619 & 12.07163\\\\\n",
       "\t1987 & 12.02795 & 12.03979 & 12.01529 &         \\\\\n",
       "\\end{tabular}\n"
      ],
      "text/markdown": [
       "\n",
       "A Time Series: 14 × 4\n",
       "\n",
       "| <!--/--> | Qtr1 | Qtr2 | Qtr3 | Qtr4 |\n",
       "|---|---|---|---|---|\n",
       "| 1974 | 11.63255 | 11.60415 | 11.58152 | 11.60185 |\n",
       "| 1975 | 11.58630 | 11.60450 | 11.65331 | 11.76425 |\n",
       "| 1976 | 11.75293 | 11.76548 | 11.78058 | 11.77018 |\n",
       "| 1977 | 11.74589 | 11.76865 | 11.74982 | 11.74870 |\n",
       "| 1978 | 11.70492 | 11.70344 | 11.70300 | 11.70367 |\n",
       "| 1979 | 11.67890 | 11.70778 | 11.67616 | 11.68592 |\n",
       "| 1980 | 11.64161 | 11.63518 | 11.60926 | 11.65761 |\n",
       "| 1981 | 11.62782 | 11.62885 | 11.60378 | 11.62906 |\n",
       "| 1982 | 11.60202 | 11.60378 | 11.59462 | 11.60382 |\n",
       "| 1983 | 11.61713 | 11.68810 | 11.72651 | 11.78125 |\n",
       "| 1984 | 11.79762 | 11.84191 | 11.84030 | 11.92358 |\n",
       "| 1985 | 11.90296 | 11.92678 | 11.97100 | 12.02590 |\n",
       "| 1986 | 12.05115 | 12.07546 | 12.05619 | 12.07163 |\n",
       "| 1987 | 12.02795 | 12.03979 | 12.01529 | <!----> |\n",
       "\n"
      ],
      "text/plain": [
       "     Qtr1     Qtr2     Qtr3     Qtr4    \n",
       "1974 11.63255 11.60415 11.58152 11.60185\n",
       "1975 11.58630 11.60450 11.65331 11.76425\n",
       "1976 11.75293 11.76548 11.78058 11.77018\n",
       "1977 11.74589 11.76865 11.74982 11.74870\n",
       "1978 11.70492 11.70344 11.70300 11.70367\n",
       "1979 11.67890 11.70778 11.67616 11.68592\n",
       "1980 11.64161 11.63518 11.60926 11.65761\n",
       "1981 11.62782 11.62885 11.60378 11.62906\n",
       "1982 11.60202 11.60378 11.59462 11.60382\n",
       "1983 11.61713 11.68810 11.72651 11.78125\n",
       "1984 11.79762 11.84191 11.84030 11.92358\n",
       "1985 11.90296 11.92678 11.97100 12.02590\n",
       "1986 12.05115 12.07546 12.05619 12.07163\n",
       "1987 12.02795 12.03979 12.01529         "
      ]
     },
     "metadata": {},
     "output_type": "display_data"
    }
   ],
   "source": [
    "y"
   ]
  },
  {
   "cell_type": "markdown",
   "metadata": {},
   "source": [
    "<a id=\"6\"></a> <br>\n",
    "##### d. Visualización de las series de interés"
   ]
  },
  {
   "cell_type": "code",
   "execution_count": 11,
   "metadata": {},
   "outputs": [
    {
     "data": {
      "image/png": "[encoded data removed]",
      "text/plain": [
       "Plot with title “Series  y”"
      ]
     },
     "metadata": {
      "image/png": {
       "height": 420,
       "width": 420
      }
     },
     "output_type": "display_data"
    }
   ],
   "source": [
    "#Podemos  visualizar la serie de tiempo y confirmar que la variable de respuesta no es estacionaria (mediante el acf)\n",
    "par(mfrow=c(3,2))\n",
    "ts.plot(y)\n",
    "acf(y)\n",
    "ts.plot(ri)\n",
    "ts.plot(pd)\n",
    "ts.plot(br)\n",
    "ts.plot(dr)"
   ]
  },
  {
   "cell_type": "markdown",
   "metadata": {},
   "source": [
    "<a id=\"7\"></a> <br>\n",
    "##### d. Prueba de estacionariedad"
   ]
  },
  {
   "cell_type": "code",
   "execution_count": 12,
   "metadata": {},
   "outputs": [
    {
     "name": "stderr",
     "output_type": "stream",
     "text": [
      "\n",
      "Attaching package: ‘fUnitRoots’\n",
      "\n",
      "\n",
      "The following objects are masked from ‘package:urca’:\n",
      "\n",
      "    punitroot, qunitroot, unitrootTable\n",
      "\n",
      "\n"
     ]
    },
    {
     "data": {
      "text/plain": [
       "\n",
       "Title:\n",
       " Augmented Dickey-Fuller Test\n",
       "\n",
       "Test Results:\n",
       "  PARAMETER:\n",
       "    Lag Order: 1\n",
       "  STATISTIC:\n",
       "    Dickey-Fuller: 1.5601\n",
       "  P VALUE:\n",
       "    0.968 \n",
       "\n",
       "Description:\n",
       " Thu May 15 17:02:03 2025 by user: "
      ]
     },
     "metadata": {},
     "output_type": "display_data"
    },
    {
     "data": {
      "text/plain": [
       "\n",
       "Title:\n",
       " Augmented Dickey-Fuller Test\n",
       "\n",
       "Test Results:\n",
       "  PARAMETER:\n",
       "    Lag Order: 1\n",
       "  STATISTIC:\n",
       "    Dickey-Fuller: 0.7944\n",
       "  P VALUE:\n",
       "    0.8635 \n",
       "\n",
       "Description:\n",
       " Thu May 15 17:02:03 2025 by user: "
      ]
     },
     "metadata": {},
     "output_type": "display_data"
    },
    {
     "data": {
      "text/plain": [
       "\n",
       "Title:\n",
       " Augmented Dickey-Fuller Test\n",
       "\n",
       "Test Results:\n",
       "  PARAMETER:\n",
       "    Lag Order: 1\n",
       "  STATISTIC:\n",
       "    Dickey-Fuller: -0.3476\n",
       "  P VALUE:\n",
       "    0.5009 \n",
       "\n",
       "Description:\n",
       " Thu May 15 17:02:03 2025 by user: "
      ]
     },
     "metadata": {},
     "output_type": "display_data"
    },
    {
     "data": {
      "text/plain": [
       "\n",
       "Title:\n",
       " Augmented Dickey-Fuller Test\n",
       "\n",
       "Test Results:\n",
       "  PARAMETER:\n",
       "    Lag Order: 1\n",
       "  STATISTIC:\n",
       "    Dickey-Fuller: -0.982\n",
       "  P VALUE:\n",
       "    0.2994 \n",
       "\n",
       "Description:\n",
       " Thu May 15 17:02:03 2025 by user: "
      ]
     },
     "metadata": {},
     "output_type": "display_data"
    },
    {
     "data": {
      "text/plain": [
       "\n",
       "Title:\n",
       " Augmented Dickey-Fuller Test\n",
       "\n",
       "Test Results:\n",
       "  PARAMETER:\n",
       "    Lag Order: 1\n",
       "  STATISTIC:\n",
       "    Dickey-Fuller: -0.6543\n",
       "  P VALUE:\n",
       "    0.4035 \n",
       "\n",
       "Description:\n",
       " Thu May 15 17:02:03 2025 by user: "
      ]
     },
     "metadata": {},
     "output_type": "display_data"
    }
   ],
   "source": [
    "# Comprobemos que las series no son estacionarias. \n",
    "library(fUnitRoots)\n",
    "adfTest(y)\n",
    "adfTest(ri)\n",
    "adfTest(pd)\n",
    "adfTest(br)\n",
    "adfTest(dr)"
   ]
  },
  {
   "cell_type": "markdown",
   "metadata": {},
   "source": [
    "<a id=\"8\"></a> <br>\n",
    "## 2. Construcción modelo ARDL\n",
    "Una de las caracteristicas de este paquete, siendo una gran ventaja, es que no requiere de tanto procesamiento de las series de tiempo. Por tal motivo una vez se realiza la partición de los datos podemos entrenar el modelo. Es decir, al especificar el orden p y q para las variables, la funciión internamente genera los lags de estas."
   ]
  },
  {
   "cell_type": "code",
   "execution_count": 14,
   "metadata": {},
   "outputs": [],
   "source": [
    "#Se realiza una búsqueda tipo grid search:\n",
    "#Selección automatica:\n",
    "library(ARDL)\n",
    "models <- auto_ardl(LRM ~ LRY +IBO + IDE, data = denmark, max_order = 6)"
   ]
  },
  {
   "cell_type": "code",
   "execution_count": 15,
   "metadata": {},
   "outputs": [
    {
     "data": {
      "text/html": [
       "<table class=\"dataframe\">\n",
       "<caption>A data.frame: 20 × 5</caption>\n",
       "<thead>\n",
       "\t<tr><th scope=col>LRM</th><th scope=col>LRY</th><th scope=col>IBO</th><th scope=col>IDE</th><th scope=col>AIC</th></tr>\n",
       "\t<tr><th scope=col>&lt;dbl&gt;</th><th scope=col>&lt;dbl&gt;</th><th scope=col>&lt;dbl&gt;</th><th scope=col>&lt;dbl&gt;</th><th scope=col>&lt;dbl&gt;</th></tr>\n",
       "</thead>\n",
       "<tbody>\n",
       "\t<tr><td>3</td><td>1</td><td>3</td><td>2</td><td>-251.0259</td></tr>\n",
       "\t<tr><td>3</td><td>1</td><td>3</td><td>3</td><td>-250.1144</td></tr>\n",
       "\t<tr><td>2</td><td>2</td><td>0</td><td>0</td><td>-249.6266</td></tr>\n",
       "\t<tr><td>3</td><td>2</td><td>3</td><td>2</td><td>-249.1087</td></tr>\n",
       "\t<tr><td>5</td><td>4</td><td>3</td><td>5</td><td>-249.0276</td></tr>\n",
       "\t<tr><td>3</td><td>2</td><td>3</td><td>3</td><td>-248.1858</td></tr>\n",
       "\t<tr><td>5</td><td>3</td><td>3</td><td>5</td><td>-247.8138</td></tr>\n",
       "\t<tr><td>2</td><td>2</td><td>0</td><td>1</td><td>-247.7786</td></tr>\n",
       "\t<tr><td>2</td><td>1</td><td>0</td><td>0</td><td>-247.5643</td></tr>\n",
       "\t<tr><td>5</td><td>4</td><td>4</td><td>5</td><td>-247.0331</td></tr>\n",
       "\t<tr><td>2</td><td>2</td><td>1</td><td>1</td><td>-246.6885</td></tr>\n",
       "\t<tr><td>3</td><td>3</td><td>3</td><td>3</td><td>-246.3061</td></tr>\n",
       "\t<tr><td>2</td><td>2</td><td>1</td><td>2</td><td>-246.2709</td></tr>\n",
       "\t<tr><td>2</td><td>1</td><td>1</td><td>1</td><td>-245.8736</td></tr>\n",
       "\t<tr><td>5</td><td>3</td><td>4</td><td>5</td><td>-245.8542</td></tr>\n",
       "\t<tr><td>2</td><td>2</td><td>2</td><td>2</td><td>-245.7722</td></tr>\n",
       "\t<tr><td>1</td><td>1</td><td>0</td><td>0</td><td>-245.6620</td></tr>\n",
       "\t<tr><td>2</td><td>1</td><td>2</td><td>2</td><td>-245.1712</td></tr>\n",
       "\t<tr><td>3</td><td>1</td><td>2</td><td>2</td><td>-245.0996</td></tr>\n",
       "\t<tr><td>5</td><td>4</td><td>5</td><td>5</td><td>-245.0331</td></tr>\n",
       "</tbody>\n",
       "</table>\n"
      ],
      "text/latex": [
       "A data.frame: 20 × 5\n",
       "\\begin{tabular}{lllll}\n",
       " LRM & LRY & IBO & IDE & AIC\\\\\n",
       " <dbl> & <dbl> & <dbl> & <dbl> & <dbl>\\\\\n",
       "\\hline\n",
       "\t 3 & 1 & 3 & 2 & -251.0259\\\\\n",
       "\t 3 & 1 & 3 & 3 & -250.1144\\\\\n",
       "\t 2 & 2 & 0 & 0 & -249.6266\\\\\n",
       "\t 3 & 2 & 3 & 2 & -249.1087\\\\\n",
       "\t 5 & 4 & 3 & 5 & -249.0276\\\\\n",
       "\t 3 & 2 & 3 & 3 & -248.1858\\\\\n",
       "\t 5 & 3 & 3 & 5 & -247.8138\\\\\n",
       "\t 2 & 2 & 0 & 1 & -247.7786\\\\\n",
       "\t 2 & 1 & 0 & 0 & -247.5643\\\\\n",
       "\t 5 & 4 & 4 & 5 & -247.0331\\\\\n",
       "\t 2 & 2 & 1 & 1 & -246.6885\\\\\n",
       "\t 3 & 3 & 3 & 3 & -246.3061\\\\\n",
       "\t 2 & 2 & 1 & 2 & -246.2709\\\\\n",
       "\t 2 & 1 & 1 & 1 & -245.8736\\\\\n",
       "\t 5 & 3 & 4 & 5 & -245.8542\\\\\n",
       "\t 2 & 2 & 2 & 2 & -245.7722\\\\\n",
       "\t 1 & 1 & 0 & 0 & -245.6620\\\\\n",
       "\t 2 & 1 & 2 & 2 & -245.1712\\\\\n",
       "\t 3 & 1 & 2 & 2 & -245.0996\\\\\n",
       "\t 5 & 4 & 5 & 5 & -245.0331\\\\\n",
       "\\end{tabular}\n"
      ],
      "text/markdown": [
       "\n",
       "A data.frame: 20 × 5\n",
       "\n",
       "| LRM &lt;dbl&gt; | LRY &lt;dbl&gt; | IBO &lt;dbl&gt; | IDE &lt;dbl&gt; | AIC &lt;dbl&gt; |\n",
       "|---|---|---|---|---|\n",
       "| 3 | 1 | 3 | 2 | -251.0259 |\n",
       "| 3 | 1 | 3 | 3 | -250.1144 |\n",
       "| 2 | 2 | 0 | 0 | -249.6266 |\n",
       "| 3 | 2 | 3 | 2 | -249.1087 |\n",
       "| 5 | 4 | 3 | 5 | -249.0276 |\n",
       "| 3 | 2 | 3 | 3 | -248.1858 |\n",
       "| 5 | 3 | 3 | 5 | -247.8138 |\n",
       "| 2 | 2 | 0 | 1 | -247.7786 |\n",
       "| 2 | 1 | 0 | 0 | -247.5643 |\n",
       "| 5 | 4 | 4 | 5 | -247.0331 |\n",
       "| 2 | 2 | 1 | 1 | -246.6885 |\n",
       "| 3 | 3 | 3 | 3 | -246.3061 |\n",
       "| 2 | 2 | 1 | 2 | -246.2709 |\n",
       "| 2 | 1 | 1 | 1 | -245.8736 |\n",
       "| 5 | 3 | 4 | 5 | -245.8542 |\n",
       "| 2 | 2 | 2 | 2 | -245.7722 |\n",
       "| 1 | 1 | 0 | 0 | -245.6620 |\n",
       "| 2 | 1 | 2 | 2 | -245.1712 |\n",
       "| 3 | 1 | 2 | 2 | -245.0996 |\n",
       "| 5 | 4 | 5 | 5 | -245.0331 |\n",
       "\n"
      ],
      "text/plain": [
       "   LRM LRY IBO IDE AIC      \n",
       "1  3   1   3   2   -251.0259\n",
       "2  3   1   3   3   -250.1144\n",
       "3  2   2   0   0   -249.6266\n",
       "4  3   2   3   2   -249.1087\n",
       "5  5   4   3   5   -249.0276\n",
       "6  3   2   3   3   -248.1858\n",
       "7  5   3   3   5   -247.8138\n",
       "8  2   2   0   1   -247.7786\n",
       "9  2   1   0   0   -247.5643\n",
       "10 5   4   4   5   -247.0331\n",
       "11 2   2   1   1   -246.6885\n",
       "12 3   3   3   3   -246.3061\n",
       "13 2   2   1   2   -246.2709\n",
       "14 2   1   1   1   -245.8736\n",
       "15 5   3   4   5   -245.8542\n",
       "16 2   2   2   2   -245.7722\n",
       "17 1   1   0   0   -245.6620\n",
       "18 2   1   2   2   -245.1712\n",
       "19 3   1   2   2   -245.0996\n",
       "20 5   4   5   5   -245.0331"
      ]
     },
     "metadata": {},
     "output_type": "display_data"
    }
   ],
   "source": [
    "#Revisemos el top 20 de los mejores modelos según su critrio de información de Akaike\n",
    "models$top_orders"
   ]
  },
  {
   "cell_type": "code",
   "execution_count": 16,
   "metadata": {},
   "outputs": [
    {
     "data": {
      "text/plain": [
       "\n",
       "Time series regression with \"ts\" data:\n",
       "Start = 4, End = 55\n",
       "\n",
       "Call:\n",
       "dynlm::dynlm(formula = full_formula, data = data, start = start, \n",
       "    end = end)\n",
       "\n",
       "Residuals:\n",
       "      Min        1Q    Median        3Q       Max \n",
       "-0.029939 -0.008856 -0.002562  0.008190  0.072577 \n",
       "\n",
       "Coefficients:\n",
       "            Estimate Std. Error t value Pr(>|t|)    \n",
       "(Intercept)   2.6202     0.5678   4.615 4.19e-05 ***\n",
       "L(LRM, 1)     0.3192     0.1367   2.336 0.024735 *  \n",
       "L(LRM, 2)     0.5326     0.1324   4.024 0.000255 ***\n",
       "L(LRM, 3)    -0.2687     0.1021  -2.631 0.012143 *  \n",
       "LRY           0.6728     0.1312   5.129 8.32e-06 ***\n",
       "L(LRY, 1)    -0.2574     0.1472  -1.749 0.088146 .  \n",
       "IBO          -1.0785     0.3217  -3.353 0.001790 ** \n",
       "L(IBO, 1)    -0.1062     0.5858  -0.181 0.857081    \n",
       "L(IBO, 2)     0.2877     0.5691   0.505 0.616067    \n",
       "L(IBO, 3)    -0.9947     0.3925  -2.534 0.015401 *  \n",
       "IDE           0.1255     0.5545   0.226 0.822161    \n",
       "L(IDE, 1)    -0.3280     0.7213  -0.455 0.651847    \n",
       "L(IDE, 2)     1.4079     0.5520   2.550 0.014803 *  \n",
       "---\n",
       "Signif. codes:  0 ‘***’ 0.001 ‘**’ 0.01 ‘*’ 0.05 ‘.’ 0.1 ‘ ’ 1\n",
       "\n",
       "Residual standard error: 0.0191 on 39 degrees of freedom\n",
       "Multiple R-squared:  0.988,\tAdjusted R-squared:  0.9843 \n",
       "F-statistic: 266.8 on 12 and 39 DF,  p-value: < 2.2e-16\n"
      ]
     },
     "metadata": {},
     "output_type": "display_data"
    }
   ],
   "source": [
    "#Procedemos a construir el modelo de regresión con la mejor combinación.\n",
    "mod1 <- ardl(LRM ~ LRY +IBO + IDE, data = denmark, order = c(3,1,3,2))\n",
    "summary(mod1)"
   ]
  },
  {
   "cell_type": "code",
   "execution_count": 17,
   "metadata": {},
   "outputs": [
    {
     "data": {
      "text/plain": [
       "LRM ~ L(LRM, 1) + L(LRM, 2) + L(LRM, 3) + LRY + L(LRY, 1) + IBO + \n",
       "    L(IBO, 1) + L(IBO, 2) + L(IBO, 3) + IDE + L(IDE, 1) + L(IDE, \n",
       "    2)"
      ]
     },
     "metadata": {},
     "output_type": "display_data"
    }
   ],
   "source": [
    "# Para la interpretación, podemos imprimir los rezagos correspondientes de cada variable que explican la respuesta. Esto no indica que sean I(d), sino el número de rezagos que logran una corrección al error.\n",
    "mod1$full_formula"
   ]
  },
  {
   "cell_type": "code",
   "execution_count": 18,
   "metadata": {},
   "outputs": [
    {
     "data": {
      "text/plain": [
       "\n",
       "Time series regression with \"ts\" data:\n",
       "Start = 4, End = 55\n",
       "\n",
       "Call:\n",
       "dynlm::dynlm(formula = full_formula, data = data, start = start, \n",
       "    end = end)\n",
       "\n",
       "Residuals:\n",
       "      Min        1Q    Median        3Q       Max \n",
       "-0.027980 -0.008191 -0.003837  0.007566  0.067133 \n",
       "\n",
       "Coefficients:\n",
       "              Estimate Std. Error t value Pr(>|t|)    \n",
       "(Intercept)  3.2776467  0.7444909   4.403 8.41e-05 ***\n",
       "trend(LRM)   0.0005111  0.0003797   1.346 0.186188    \n",
       "L(LRM, 1)    0.3007878  0.1359454   2.213 0.033010 *  \n",
       "L(LRM, 2)    0.5298313  0.1310197   4.044 0.000248 ***\n",
       "L(LRM, 3)   -0.2581059  0.1013909  -2.546 0.015086 *  \n",
       "LRY          0.6246934  0.1346464   4.640 4.07e-05 ***\n",
       "L(LRY, 1)   -0.2971209  0.1486208  -1.999 0.052777 .  \n",
       "IBO         -0.9749049  0.3275711  -2.976 0.005055 ** \n",
       "L(IBO, 1)   -0.1343780  0.5801669  -0.232 0.818076    \n",
       "L(IBO, 2)    0.3423639  0.5647277   0.606 0.547956    \n",
       "L(IBO, 3)   -1.0664899  0.3921338  -2.720 0.009797 ** \n",
       "IDE         -0.0059852  0.5573841  -0.011 0.991489    \n",
       "L(IDE, 1)   -0.3634854  0.7144114  -0.509 0.613841    \n",
       "L(IDE, 2)    1.2057545  0.5666213   2.128 0.039885 *  \n",
       "---\n",
       "Signif. codes:  0 ‘***’ 0.001 ‘**’ 0.01 ‘*’ 0.05 ‘.’ 0.1 ‘ ’ 1\n",
       "\n",
       "Residual standard error: 0.0189 on 38 degrees of freedom\n",
       "Multiple R-squared:  0.9885,\tAdjusted R-squared:  0.9846 \n",
       "F-statistic: 251.6 on 13 and 38 DF,  p-value: < 2.2e-16\n"
      ]
     },
     "metadata": {},
     "output_type": "display_data"
    }
   ],
   "source": [
    "## Un segundo modelo podría contemplar la tendencia, porque Y tenia tendencia:\n",
    "mod1_ten <- ardl(LRM ~ LRY + IBO + IDE + trend(LRM),data = denmark, order = c(3,1,3,2))\n",
    "summary(mod1_ten)"
   ]
  },
  {
   "cell_type": "markdown",
   "metadata": {},
   "source": [
    "Como podemos ver, este segundo modelo genera un mejor resultado, medido por R cuadrado ajustado. "
   ]
  },
  {
   "cell_type": "markdown",
   "metadata": {},
   "source": [
    "<a id=\"8a\"></a> <br>\n",
    "### Predicción\n",
    "Procedemos ahora con la predicción del modelo."
   ]
  },
  {
   "cell_type": "code",
   "execution_count": 19,
   "metadata": {},
   "outputs": [
    {
     "data": {
      "text/plain": [
       "   Point Forecast    Lo 80    Hi 80    Lo 95    Hi 95\n",
       "56       11.99975 11.96199 12.03751 11.94201 12.05750\n",
       "57       11.98877 11.93059 12.04696 11.89978 12.07776\n",
       "58       11.97999 11.89984 12.06014 11.85740 12.10258\n",
       "59       11.97296 11.87051 12.07541 11.81628 12.12965\n",
       "60       11.96734 11.84284 12.09185 11.77693 12.15776"
      ]
     },
     "metadata": {},
     "output_type": "display_data"
    },
    {
     "data": {
      "image/png": "[encoded data removed]",
      "text/plain": [
       "plot without title"
      ]
     },
     "metadata": {
      "image/png": {
       "height": 420,
       "width": 420
      }
     },
     "output_type": "display_data"
    }
   ],
   "source": [
    "##Predicción del primer modelo sin tendencia:\n",
    "stats::predict(mod1$fitted.values, h=5)\n",
    "autoplot(predict(mod1$fitted.values, h=5))"
   ]
  },
  {
   "cell_type": "markdown",
   "metadata": {},
   "source": [
    "<a id=\"9\"></a> <br>\n",
    "#### A. Bound test para la verificacion de relaciones a largo termino\n",
    "Esta prueba basada en la prueba de hipotesis de Wald, evalua si los coeficientes de rezagos son iguales a cero, o de lo contrario existe evidencia que alguno de ellos es diferente de cero (Pesaran et al. (2001))."
   ]
  },
  {
   "cell_type": "code",
   "execution_count": 20,
   "metadata": {},
   "outputs": [
    {
     "data": {
      "text/plain": [
       "\n",
       "\tBounds F-test (Wald) for no cointegration\n",
       "\n",
       "data:  d(LRM) ~ L(LRM, 1) + L(LRY, 1) + L(IBO, 1) + L(IDE, 1) + d(L(LRM,     1)) + d(L(LRM, 2)) + d(LRY) + d(IBO) + d(L(IBO, 1)) + d(L(IBO,     2)) + d(IDE) + d(L(IDE, 1))\n",
       "F = 5.1168, p-value = 0.004418\n",
       "alternative hypothesis: Possible cointegration\n",
       "null values:\n",
       "   k    T \n",
       "   3 1000 \n"
      ]
     },
     "metadata": {},
     "output_type": "display_data"
    }
   ],
   "source": [
    "#Guardamos el mejor modelo obtenido en la sección anterior\n",
    "modelo <- models$best_model\n",
    "#Realizamos la prueba de hipotesis\n",
    "bounds_f_test(modelo, case = 2) # el parametro \"case\" igual a 2 verifica si existe relaciones a largo termino, con la combinación de (restricted constant, no linear trend)."
   ]
  },
  {
   "cell_type": "code",
   "execution_count": 21,
   "metadata": {},
   "outputs": [
    {
     "data": {
      "text/plain": [
       "\n",
       "\tBounds F-test (Wald) for no cointegration\n",
       "\n",
       "data:  d(LRM) ~ trend(LRM) + L(LRM, 1) + L(LRY, 1) + L(IBO, 1) + L(IDE,     1) + d(L(LRM, 1)) + d(L(LRM, 2)) + d(LRY) + d(IBO) + d(L(IBO,     1)) + d(L(IBO, 2)) + d(IDE) + d(L(IDE, 1))\n",
       "F = 5.4306, p-value = 0.007069\n",
       "alternative hypothesis: Possible cointegration\n",
       "null values:\n",
       "   k    T \n",
       "   3 1000 \n"
      ]
     },
     "metadata": {},
     "output_type": "display_data"
    }
   ],
   "source": [
    "#Realizamos la prueba de hipotesis para el modelo con tendencia\n",
    "bounds_f_test(mod1_ten, case = 4) # el parametro \"case\" igual a 4 implica (unrestricted constant, linear trend)"
   ]
  },
  {
   "cell_type": "markdown",
   "metadata": {},
   "source": [
    "A partir de los resultados anteriores, podemos confirmar que existe una relacion a largo plazo entre los activos."
   ]
  },
  {
   "cell_type": "markdown",
   "metadata": {},
   "source": [
    "<a id=\"10\"></a> <br>\n",
    "#### B. Mutiplicadores de largo y corto termino\n",
    "Cuando revisamos los coeficientes de un modelo de regresión lineal, sabemos que existe un cambio en Y por un cambio de una unidad de X. Como revisamos en la lectura, los multiplicadores son la suma de los coeficientes a largo o corto termino. En este sentido podemos calcular los multiplicadores usando la siguiente función:"
   ]
  },
  {
   "cell_type": "code",
   "execution_count": 22,
   "metadata": {},
   "outputs": [
    {
     "data": {
      "text/html": [
       "<table class=\"dataframe\">\n",
       "<caption>A data.frame: 4 × 5</caption>\n",
       "<thead>\n",
       "\t<tr><th></th><th scope=col>Term</th><th scope=col>Estimate</th><th scope=col>Std. Error</th><th scope=col>t value</th><th scope=col>Pr(&gt;|t|)</th></tr>\n",
       "\t<tr><th></th><th scope=col>&lt;chr&gt;</th><th scope=col>&lt;dbl&gt;</th><th scope=col>&lt;dbl&gt;</th><th scope=col>&lt;dbl&gt;</th><th scope=col>&lt;dbl&gt;</th></tr>\n",
       "</thead>\n",
       "<tbody>\n",
       "\t<tr><th scope=row>1</th><td>(Intercept)</td><td> 2.6201916</td><td>0.5677679</td><td> 4.6148990</td><td>4.186867e-05</td></tr>\n",
       "\t<tr><th scope=row>2</th><td>LRY        </td><td> 0.6727993</td><td>0.1311638</td><td> 5.1294603</td><td>8.317401e-06</td></tr>\n",
       "\t<tr><th scope=row>3</th><td>IBO        </td><td>-1.0785180</td><td>0.3217011</td><td>-3.3525465</td><td>1.790030e-03</td></tr>\n",
       "\t<tr><th scope=row>4</th><td>IDE        </td><td> 0.1254643</td><td>0.5544522</td><td> 0.2262852</td><td>8.221614e-01</td></tr>\n",
       "</tbody>\n",
       "</table>\n"
      ],
      "text/latex": [
       "A data.frame: 4 × 5\n",
       "\\begin{tabular}{r|lllll}\n",
       "  & Term & Estimate & Std. Error & t value & Pr(>\\textbar{}t\\textbar{})\\\\\n",
       "  & <chr> & <dbl> & <dbl> & <dbl> & <dbl>\\\\\n",
       "\\hline\n",
       "\t1 & (Intercept) &  2.6201916 & 0.5677679 &  4.6148990 & 4.186867e-05\\\\\n",
       "\t2 & LRY         &  0.6727993 & 0.1311638 &  5.1294603 & 8.317401e-06\\\\\n",
       "\t3 & IBO         & -1.0785180 & 0.3217011 & -3.3525465 & 1.790030e-03\\\\\n",
       "\t4 & IDE         &  0.1254643 & 0.5544522 &  0.2262852 & 8.221614e-01\\\\\n",
       "\\end{tabular}\n"
      ],
      "text/markdown": [
       "\n",
       "A data.frame: 4 × 5\n",
       "\n",
       "| <!--/--> | Term &lt;chr&gt; | Estimate &lt;dbl&gt; | Std. Error &lt;dbl&gt; | t value &lt;dbl&gt; | Pr(&gt;|t|) &lt;dbl&gt; |\n",
       "|---|---|---|---|---|---|\n",
       "| 1 | (Intercept) |  2.6201916 | 0.5677679 |  4.6148990 | 4.186867e-05 |\n",
       "| 2 | LRY         |  0.6727993 | 0.1311638 |  5.1294603 | 8.317401e-06 |\n",
       "| 3 | IBO         | -1.0785180 | 0.3217011 | -3.3525465 | 1.790030e-03 |\n",
       "| 4 | IDE         |  0.1254643 | 0.5544522 |  0.2262852 | 8.221614e-01 |\n",
       "\n"
      ],
      "text/plain": [
       "  Term        Estimate   Std. Error t value    Pr(>|t|)    \n",
       "1 (Intercept)  2.6201916 0.5677679   4.6148990 4.186867e-05\n",
       "2 LRY          0.6727993 0.1311638   5.1294603 8.317401e-06\n",
       "3 IBO         -1.0785180 0.3217011  -3.3525465 1.790030e-03\n",
       "4 IDE          0.1254643 0.5544522   0.2262852 8.221614e-01"
      ]
     },
     "metadata": {},
     "output_type": "display_data"
    }
   ],
   "source": [
    "#Multiplicadores a corto plazo\n",
    "multipliers(modelo, type = \"sr\")"
   ]
  },
  {
   "cell_type": "markdown",
   "metadata": {},
   "source": [
    "A partir de estos resultados podemos concluir que, por ejemplo, un cambio marginal en LRY manteniendo constantes los demás valores, genera un cambio en el corto plazo o inmediato de 0.6 unidades en la respuesta, LRM."
   ]
  },
  {
   "cell_type": "code",
   "execution_count": 23,
   "metadata": {},
   "outputs": [
    {
     "ename": "ERROR",
     "evalue": "Error in loadNamespace(x): there is no package called ‘msm’\n",
     "output_type": "error",
     "traceback": [
      "Error in loadNamespace(x): there is no package called ‘msm’\nTraceback:\n",
      "1. multipliers.ardl(modelo)",
      "2. delta_method(object, vcov_matrix = vcov_matrix)",
      "3. delta_method.ardl(object, vcov_matrix = vcov_matrix)",
      "4. sapply(1:length(restrictions), function(i) {\n .     msm::deltamethod(stats::formula(restrictions[i]), estmean, \n .         estvar)\n . })",
      "5. lapply(X = X, FUN = FUN, ...)",
      "6. FUN(X[[i]], ...)",
      "7. loadNamespace(x)",
      "8. withRestarts(stop(cond), retry_loadNamespace = function() NULL)",
      "9. withOneRestart(expr, restarts[[1L]])",
      "10. doWithOneRestart(return(expr), restart)",
      "11. stop(cond)"
     ]
    }
   ],
   "source": [
    "#Multiplicadores a largo plazo\n",
    "multipliers(modelo)"
   ]
  },
  {
   "cell_type": "markdown",
   "metadata": {},
   "source": [
    "Podemos derivar conclusiones similares a las de multiplicadores de corto plazo. Por ejemplo, un cambio marginal en IBO manteniendo constantes los demás valores, genera un cambio en -4.5 unidades en LRM en el largo plazo."
   ]
  },
  {
   "cell_type": "markdown",
   "metadata": {},
   "source": [
    "En este tutorial aprendimos del modelo autorregresivo con rezagos distribuidos. Este modelo ampliamente usado por economistas ayuda a incorporar variables exogenas que permitan mejorar la predicción y la inferencia de una serie de tiempo. En este caso vimos cómo la serie de SPY se puede explicar con diversos activos, incluyendo sus rezagos."
   ]
  }
 ],
 "metadata": {
  "kernelspec": {
   "display_name": "R",
   "language": "R",
   "name": "ir"
  },
  "language_info": {
   "codemirror_mode": "r",
   "file_extension": ".r",
   "mimetype": "text/x-r-source",
   "name": "R",
   "pygments_lexer": "r",
   "version": "4.2.2"
  }
 },
 "nbformat": 4,
 "nbformat_minor": 4
}
