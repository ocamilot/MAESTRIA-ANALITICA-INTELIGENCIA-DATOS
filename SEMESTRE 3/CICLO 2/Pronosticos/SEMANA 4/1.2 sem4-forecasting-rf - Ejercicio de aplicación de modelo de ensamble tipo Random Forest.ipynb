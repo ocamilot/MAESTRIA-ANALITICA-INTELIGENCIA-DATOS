{
 "cells": [
  {
   "cell_type": "markdown",
   "metadata": {},
   "source": [
    "# Tutorial Modelos de Ensamble tipo Random Forest\n",
    "\n",
    "En este tutorial aplicaremos un modelo de ensamble tipo Random Forest a una serie de precios. Este tutorial se enfoca a generar una estructura en los datos que permita un pronóstico hacia adelante. Es decir, buscamos generar una estructura de ensamble a un conjunto de datos condicionados a eventos pasados, para luego generar un pronóstico futuro de los mismos. La serie por tanto genera una estructura de ensamble entrenada en una sección correspondiente de entrenamiento para luego generar un pronóstico hacia adelante en una estructura de datos transformada y mediante un modelo con refinamiento de parámetros.\n",
    "\n",
    "**Contenido**\n",
    "1. [Importación de librerías requeridas](#2)\n",
    "1. [Importación de datos financieros](#3)\n",
    "1. [Preprocesamiento de datos](#5)\n",
    "1. [Partición de datos en entrenamiento y prueba](#6)\n",
    "1. [Visualización conjunto de entrenamiento y prueba](#7)\n",
    "1. [Regresión con Random Forest](#7a)\n",
    "1. [Creación del Forecaster](#8)\n",
    "1. [Predicciones en conjuto de prueba](#9)\n",
    "1. [Refinamiento de los hiperparámetros](#10)\n",
    "1. [Aplicación modelo óptimo a serie completa](#11)\n",
    "1. [Generación del pronóstico hacia adelante](#12)\n",
    "1. [Visualización del pronóstico futuro](#13)"
   ]
  },
  {
   "cell_type": "markdown",
   "metadata": {},
   "source": [
    "<a id=\"2\"></a> <br>\n",
    "### 1. Importación de librerías requeridas.\n",
    "\n",
    "Importa las siguientes librerías para desarrollar este tutorial:"
   ]
  },
  {
   "cell_type": "code",
   "execution_count": 1,
   "metadata": {
    "execution": {
     "iopub.execute_input": "2024-04-19T13:38:08.768711Z",
     "iopub.status.busy": "2024-04-19T13:38:08.767900Z",
     "iopub.status.idle": "2024-04-19T13:39:00.195808Z",
     "shell.execute_reply": "2024-04-19T13:39:00.194546Z",
     "shell.execute_reply.started": "2024-04-19T13:38:08.768659Z"
    },
    "trusted": true
   },
   "outputs": [
    {
     "name": "stdout",
     "output_type": "stream",
     "text": [
      "Requirement already satisfied: ipykernel in /Users/U1037319/Downloads/tmenv/lib/python3.10/site-packages (6.29.5)\n",
      "Requirement already satisfied: psutil in /Users/U1037319/Downloads/tmenv/lib/python3.10/site-packages (from ipykernel) (7.0.0)\n",
      "Requirement already satisfied: traitlets>=5.4.0 in /Users/U1037319/Downloads/tmenv/lib/python3.10/site-packages (from ipykernel) (5.14.3)\n",
      "Requirement already satisfied: matplotlib-inline>=0.1 in /Users/U1037319/Downloads/tmenv/lib/python3.10/site-packages (from ipykernel) (0.1.7)\n",
      "Requirement already satisfied: jupyter-client>=6.1.12 in /Users/U1037319/Downloads/tmenv/lib/python3.10/site-packages (from ipykernel) (8.6.3)\n",
      "Requirement already satisfied: jupyter-core!=5.0.*,>=4.12 in /Users/U1037319/Downloads/tmenv/lib/python3.10/site-packages (from ipykernel) (5.7.2)\n",
      "Requirement already satisfied: pyzmq>=24 in /Users/U1037319/Downloads/tmenv/lib/python3.10/site-packages (from ipykernel) (26.2.1)\n",
      "Requirement already satisfied: comm>=0.1.1 in /Users/U1037319/Downloads/tmenv/lib/python3.10/site-packages (from ipykernel) (0.2.2)\n",
      "Requirement already satisfied: debugpy>=1.6.5 in /Users/U1037319/Downloads/tmenv/lib/python3.10/site-packages (from ipykernel) (1.8.13)\n",
      "Requirement already satisfied: tornado>=6.1 in /Users/U1037319/Downloads/tmenv/lib/python3.10/site-packages (from ipykernel) (6.4.2)\n",
      "Requirement already satisfied: nest-asyncio in /Users/U1037319/Downloads/tmenv/lib/python3.10/site-packages (from ipykernel) (1.6.0)\n",
      "Requirement already satisfied: packaging in /Users/U1037319/Downloads/tmenv/lib/python3.10/site-packages (from ipykernel) (24.2)\n",
      "Requirement already satisfied: ipython>=7.23.1 in /Users/U1037319/Downloads/tmenv/lib/python3.10/site-packages (from ipykernel) (8.34.0)\n",
      "Requirement already satisfied: appnope in /Users/U1037319/Downloads/tmenv/lib/python3.10/site-packages (from ipykernel) (0.1.4)\n",
      "Requirement already satisfied: prompt_toolkit<3.1.0,>=3.0.41 in /Users/U1037319/Downloads/tmenv/lib/python3.10/site-packages (from ipython>=7.23.1->ipykernel) (3.0.50)\n",
      "Requirement already satisfied: typing_extensions>=4.6 in /Users/U1037319/Downloads/tmenv/lib/python3.10/site-packages (from ipython>=7.23.1->ipykernel) (4.12.2)\n",
      "Requirement already satisfied: pygments>=2.4.0 in /Users/U1037319/Downloads/tmenv/lib/python3.10/site-packages (from ipython>=7.23.1->ipykernel) (2.19.1)\n",
      "Requirement already satisfied: exceptiongroup in /Users/U1037319/Downloads/tmenv/lib/python3.10/site-packages (from ipython>=7.23.1->ipykernel) (1.2.2)\n",
      "Requirement already satisfied: stack_data in /Users/U1037319/Downloads/tmenv/lib/python3.10/site-packages (from ipython>=7.23.1->ipykernel) (0.6.3)\n",
      "Requirement already satisfied: pexpect>4.3 in /Users/U1037319/Downloads/tmenv/lib/python3.10/site-packages (from ipython>=7.23.1->ipykernel) (4.9.0)\n",
      "Requirement already satisfied: jedi>=0.16 in /Users/U1037319/Downloads/tmenv/lib/python3.10/site-packages (from ipython>=7.23.1->ipykernel) (0.19.2)\n",
      "Requirement already satisfied: decorator in /Users/U1037319/Downloads/tmenv/lib/python3.10/site-packages (from ipython>=7.23.1->ipykernel) (5.2.1)\n",
      "Requirement already satisfied: python-dateutil>=2.8.2 in /Users/U1037319/Downloads/tmenv/lib/python3.10/site-packages (from jupyter-client>=6.1.12->ipykernel) (2.9.0.post0)\n",
      "Requirement already satisfied: platformdirs>=2.5 in /Users/U1037319/Downloads/tmenv/lib/python3.10/site-packages (from jupyter-core!=5.0.*,>=4.12->ipykernel) (4.3.6)\n",
      "Requirement already satisfied: parso<0.9.0,>=0.8.4 in /Users/U1037319/Downloads/tmenv/lib/python3.10/site-packages (from jedi>=0.16->ipython>=7.23.1->ipykernel) (0.8.4)\n",
      "Requirement already satisfied: ptyprocess>=0.5 in /Users/U1037319/Downloads/tmenv/lib/python3.10/site-packages (from pexpect>4.3->ipython>=7.23.1->ipykernel) (0.7.0)\n",
      "Requirement already satisfied: wcwidth in /Users/U1037319/Downloads/tmenv/lib/python3.10/site-packages (from prompt_toolkit<3.1.0,>=3.0.41->ipython>=7.23.1->ipykernel) (0.2.13)\n",
      "Requirement already satisfied: six>=1.5 in /Users/U1037319/Downloads/tmenv/lib/python3.10/site-packages (from python-dateutil>=2.8.2->jupyter-client>=6.1.12->ipykernel) (1.17.0)\n",
      "Requirement already satisfied: pure-eval in /Users/U1037319/Downloads/tmenv/lib/python3.10/site-packages (from stack_data->ipython>=7.23.1->ipykernel) (0.2.3)\n",
      "Requirement already satisfied: asttokens>=2.1.0 in /Users/U1037319/Downloads/tmenv/lib/python3.10/site-packages (from stack_data->ipython>=7.23.1->ipykernel) (3.0.0)\n",
      "Requirement already satisfied: executing>=1.2.0 in /Users/U1037319/Downloads/tmenv/lib/python3.10/site-packages (from stack_data->ipython>=7.23.1->ipykernel) (2.2.0)\n",
      "\n",
      "\u001b[1m[\u001b[0m\u001b[34;49mnotice\u001b[0m\u001b[1;39;49m]\u001b[0m\u001b[39;49m A new release of pip is available: \u001b[0m\u001b[31;49m23.0.1\u001b[0m\u001b[39;49m -> \u001b[0m\u001b[32;49m25.0.1\u001b[0m\n",
      "\u001b[1m[\u001b[0m\u001b[34;49mnotice\u001b[0m\u001b[1;39;49m]\u001b[0m\u001b[39;49m To update, run: \u001b[0m\u001b[32;49mpip install --upgrade pip\u001b[0m\n",
      "Requirement already satisfied: skforecast in /Users/U1037319/Downloads/tmenv/lib/python3.10/site-packages (0.11.0)\n",
      "Requirement already satisfied: optuna<3.5,>=2.10.0 in /Users/U1037319/Downloads/tmenv/lib/python3.10/site-packages (from skforecast) (3.4.1)\n",
      "Requirement already satisfied: pandas<2.2,>=1.2 in /Users/U1037319/Downloads/tmenv/lib/python3.10/site-packages (from skforecast) (2.1.4)\n",
      "Requirement already satisfied: numpy<1.27,>=1.20 in /Users/U1037319/Downloads/tmenv/lib/python3.10/site-packages (from skforecast) (1.26.4)\n",
      "Requirement already satisfied: scikit-learn<1.4,>=1.0 in /Users/U1037319/Downloads/tmenv/lib/python3.10/site-packages (from skforecast) (1.3.2)\n",
      "Requirement already satisfied: joblib<1.4,>=1.1.0 in /Users/U1037319/Downloads/tmenv/lib/python3.10/site-packages (from skforecast) (1.3.2)\n",
      "Requirement already satisfied: tqdm<4.67,>=4.57.0 in /Users/U1037319/Downloads/tmenv/lib/python3.10/site-packages (from skforecast) (4.66.6)\n",
      "Requirement already satisfied: PyYAML in /Users/U1037319/Downloads/tmenv/lib/python3.10/site-packages (from optuna<3.5,>=2.10.0->skforecast) (6.0.2)\n",
      "Requirement already satisfied: colorlog in /Users/U1037319/Downloads/tmenv/lib/python3.10/site-packages (from optuna<3.5,>=2.10.0->skforecast) (4.8.0)\n",
      "Requirement already satisfied: alembic>=1.5.0 in /Users/U1037319/Downloads/tmenv/lib/python3.10/site-packages (from optuna<3.5,>=2.10.0->skforecast) (1.14.1)\n",
      "Requirement already satisfied: sqlalchemy>=1.3.0 in /Users/U1037319/Downloads/tmenv/lib/python3.10/site-packages (from optuna<3.5,>=2.10.0->skforecast) (1.4.54)\n",
      "Requirement already satisfied: packaging>=20.0 in /Users/U1037319/Downloads/tmenv/lib/python3.10/site-packages (from optuna<3.5,>=2.10.0->skforecast) (24.2)\n",
      "Requirement already satisfied: python-dateutil>=2.8.2 in /Users/U1037319/Downloads/tmenv/lib/python3.10/site-packages (from pandas<2.2,>=1.2->skforecast) (2.9.0.post0)\n",
      "Requirement already satisfied: tzdata>=2022.1 in /Users/U1037319/Downloads/tmenv/lib/python3.10/site-packages (from pandas<2.2,>=1.2->skforecast) (2025.1)\n",
      "Requirement already satisfied: pytz>=2020.1 in /Users/U1037319/Downloads/tmenv/lib/python3.10/site-packages (from pandas<2.2,>=1.2->skforecast) (2025.1)\n",
      "Requirement already satisfied: scipy>=1.5.0 in /Users/U1037319/Downloads/tmenv/lib/python3.10/site-packages (from scikit-learn<1.4,>=1.0->skforecast) (1.15.2)\n",
      "Requirement already satisfied: threadpoolctl>=2.0.0 in /Users/U1037319/Downloads/tmenv/lib/python3.10/site-packages (from scikit-learn<1.4,>=1.0->skforecast) (3.5.0)\n",
      "Requirement already satisfied: typing-extensions>=4 in /Users/U1037319/Downloads/tmenv/lib/python3.10/site-packages (from alembic>=1.5.0->optuna<3.5,>=2.10.0->skforecast) (4.12.2)\n",
      "Requirement already satisfied: Mako in /Users/U1037319/Downloads/tmenv/lib/python3.10/site-packages (from alembic>=1.5.0->optuna<3.5,>=2.10.0->skforecast) (1.3.9)\n",
      "Requirement already satisfied: six>=1.5 in /Users/U1037319/Downloads/tmenv/lib/python3.10/site-packages (from python-dateutil>=2.8.2->pandas<2.2,>=1.2->skforecast) (1.17.0)\n",
      "Requirement already satisfied: MarkupSafe>=0.9.2 in /Users/U1037319/Downloads/tmenv/lib/python3.10/site-packages (from Mako->alembic>=1.5.0->optuna<3.5,>=2.10.0->skforecast) (3.0.2)\n",
      "\n",
      "\u001b[1m[\u001b[0m\u001b[34;49mnotice\u001b[0m\u001b[1;39;49m]\u001b[0m\u001b[39;49m A new release of pip is available: \u001b[0m\u001b[31;49m23.0.1\u001b[0m\u001b[39;49m -> \u001b[0m\u001b[32;49m25.0.1\u001b[0m\n",
      "\u001b[1m[\u001b[0m\u001b[34;49mnotice\u001b[0m\u001b[1;39;49m]\u001b[0m\u001b[39;49m To update, run: \u001b[0m\u001b[32;49mpip install --upgrade pip\u001b[0m\n",
      "Requirement already satisfied: skforecast==0.11.0 in /Users/U1037319/Downloads/tmenv/lib/python3.10/site-packages (0.11.0)\n",
      "Requirement already satisfied: joblib<1.4,>=1.1.0 in /Users/U1037319/Downloads/tmenv/lib/python3.10/site-packages (from skforecast==0.11.0) (1.3.2)\n",
      "Requirement already satisfied: numpy<1.27,>=1.20 in /Users/U1037319/Downloads/tmenv/lib/python3.10/site-packages (from skforecast==0.11.0) (1.26.4)\n",
      "Requirement already satisfied: optuna<3.5,>=2.10.0 in /Users/U1037319/Downloads/tmenv/lib/python3.10/site-packages (from skforecast==0.11.0) (3.4.1)\n",
      "Requirement already satisfied: pandas<2.2,>=1.2 in /Users/U1037319/Downloads/tmenv/lib/python3.10/site-packages (from skforecast==0.11.0) (2.1.4)\n",
      "Requirement already satisfied: scikit-learn<1.4,>=1.0 in /Users/U1037319/Downloads/tmenv/lib/python3.10/site-packages (from skforecast==0.11.0) (1.3.2)\n",
      "Requirement already satisfied: tqdm<4.67,>=4.57.0 in /Users/U1037319/Downloads/tmenv/lib/python3.10/site-packages (from skforecast==0.11.0) (4.66.6)\n",
      "Requirement already satisfied: alembic>=1.5.0 in /Users/U1037319/Downloads/tmenv/lib/python3.10/site-packages (from optuna<3.5,>=2.10.0->skforecast==0.11.0) (1.14.1)\n",
      "Requirement already satisfied: PyYAML in /Users/U1037319/Downloads/tmenv/lib/python3.10/site-packages (from optuna<3.5,>=2.10.0->skforecast==0.11.0) (6.0.2)\n",
      "Requirement already satisfied: sqlalchemy>=1.3.0 in /Users/U1037319/Downloads/tmenv/lib/python3.10/site-packages (from optuna<3.5,>=2.10.0->skforecast==0.11.0) (1.4.54)\n",
      "Requirement already satisfied: colorlog in /Users/U1037319/Downloads/tmenv/lib/python3.10/site-packages (from optuna<3.5,>=2.10.0->skforecast==0.11.0) (4.8.0)\n",
      "Requirement already satisfied: packaging>=20.0 in /Users/U1037319/Downloads/tmenv/lib/python3.10/site-packages (from optuna<3.5,>=2.10.0->skforecast==0.11.0) (24.2)\n",
      "Requirement already satisfied: python-dateutil>=2.8.2 in /Users/U1037319/Downloads/tmenv/lib/python3.10/site-packages (from pandas<2.2,>=1.2->skforecast==0.11.0) (2.9.0.post0)\n",
      "Requirement already satisfied: pytz>=2020.1 in /Users/U1037319/Downloads/tmenv/lib/python3.10/site-packages (from pandas<2.2,>=1.2->skforecast==0.11.0) (2025.1)\n",
      "Requirement already satisfied: tzdata>=2022.1 in /Users/U1037319/Downloads/tmenv/lib/python3.10/site-packages (from pandas<2.2,>=1.2->skforecast==0.11.0) (2025.1)\n",
      "Requirement already satisfied: scipy>=1.5.0 in /Users/U1037319/Downloads/tmenv/lib/python3.10/site-packages (from scikit-learn<1.4,>=1.0->skforecast==0.11.0) (1.15.2)\n",
      "Requirement already satisfied: threadpoolctl>=2.0.0 in /Users/U1037319/Downloads/tmenv/lib/python3.10/site-packages (from scikit-learn<1.4,>=1.0->skforecast==0.11.0) (3.5.0)\n",
      "Requirement already satisfied: typing-extensions>=4 in /Users/U1037319/Downloads/tmenv/lib/python3.10/site-packages (from alembic>=1.5.0->optuna<3.5,>=2.10.0->skforecast==0.11.0) (4.12.2)\n",
      "Requirement already satisfied: Mako in /Users/U1037319/Downloads/tmenv/lib/python3.10/site-packages (from alembic>=1.5.0->optuna<3.5,>=2.10.0->skforecast==0.11.0) (1.3.9)\n",
      "Requirement already satisfied: six>=1.5 in /Users/U1037319/Downloads/tmenv/lib/python3.10/site-packages (from python-dateutil>=2.8.2->pandas<2.2,>=1.2->skforecast==0.11.0) (1.17.0)\n",
      "Requirement already satisfied: MarkupSafe>=0.9.2 in /Users/U1037319/Downloads/tmenv/lib/python3.10/site-packages (from Mako->alembic>=1.5.0->optuna<3.5,>=2.10.0->skforecast==0.11.0) (3.0.2)\n",
      "\n",
      "\u001b[1m[\u001b[0m\u001b[34;49mnotice\u001b[0m\u001b[1;39;49m]\u001b[0m\u001b[39;49m A new release of pip is available: \u001b[0m\u001b[31;49m23.0.1\u001b[0m\u001b[39;49m -> \u001b[0m\u001b[32;49m25.0.1\u001b[0m\n",
      "\u001b[1m[\u001b[0m\u001b[34;49mnotice\u001b[0m\u001b[1;39;49m]\u001b[0m\u001b[39;49m To update, run: \u001b[0m\u001b[32;49mpip install --upgrade pip\u001b[0m\n"
     ]
    }
   ],
   "source": [
    "!pip install ipykernel \n",
    "!pip install skforecast\n",
    "#!pip install skforecast[full]\n",
    "!pip install skforecast==0.11.0"
   ]
  },
  {
   "cell_type": "code",
   "execution_count": null,
   "metadata": {
    "execution": {
     "iopub.execute_input": "2024-04-19T13:39:29.121504Z",
     "iopub.status.busy": "2024-04-19T13:39:29.121091Z",
     "iopub.status.idle": "2024-04-19T13:40:05.729107Z",
     "shell.execute_reply": "2024-04-19T13:40:05.727852Z",
     "shell.execute_reply.started": "2024-04-19T13:39:29.121473Z"
    },
    "trusted": true
   },
   "outputs": [
    {
     "name": "stdout",
     "output_type": "stream",
     "text": [
      "Requirement already satisfied: yfinance in /Users/U1037319/Downloads/tmenv/lib/python3.10/site-packages (0.2.55)\n",
      "Requirement already satisfied: multitasking>=0.0.7 in /Users/U1037319/Downloads/tmenv/lib/python3.10/site-packages (from yfinance) (0.0.11)\n",
      "Requirement already satisfied: pandas>=1.3.0 in /Users/U1037319/Downloads/tmenv/lib/python3.10/site-packages (from yfinance) (2.1.4)\n",
      "Requirement already satisfied: platformdirs>=2.0.0 in /Users/U1037319/Downloads/tmenv/lib/python3.10/site-packages (from yfinance) (4.3.6)\n",
      "Requirement already satisfied: frozendict>=2.3.4 in /Users/U1037319/Downloads/tmenv/lib/python3.10/site-packages (from yfinance) (2.4.6)\n",
      "Requirement already satisfied: beautifulsoup4>=4.11.1 in /Users/U1037319/Downloads/tmenv/lib/python3.10/site-packages (from yfinance) (4.13.3)\n",
      "Requirement already satisfied: pytz>=2022.5 in /Users/U1037319/Downloads/tmenv/lib/python3.10/site-packages (from yfinance) (2025.1)\n",
      "Requirement already satisfied: peewee>=3.16.2 in /Users/U1037319/Downloads/tmenv/lib/python3.10/site-packages (from yfinance) (3.17.9)\n",
      "Requirement already satisfied: numpy>=1.16.5 in /Users/U1037319/Downloads/tmenv/lib/python3.10/site-packages (from yfinance) (1.26.4)\n",
      "Requirement already satisfied: requests>=2.31 in /Users/U1037319/Downloads/tmenv/lib/python3.10/site-packages (from yfinance) (2.32.3)\n",
      "Requirement already satisfied: typing-extensions>=4.0.0 in /Users/U1037319/Downloads/tmenv/lib/python3.10/site-packages (from beautifulsoup4>=4.11.1->yfinance) (4.12.2)\n",
      "Requirement already satisfied: soupsieve>1.2 in /Users/U1037319/Downloads/tmenv/lib/python3.10/site-packages (from beautifulsoup4>=4.11.1->yfinance) (2.6)\n",
      "Requirement already satisfied: python-dateutil>=2.8.2 in /Users/U1037319/Downloads/tmenv/lib/python3.10/site-packages (from pandas>=1.3.0->yfinance) (2.9.0.post0)\n",
      "Requirement already satisfied: tzdata>=2022.1 in /Users/U1037319/Downloads/tmenv/lib/python3.10/site-packages (from pandas>=1.3.0->yfinance) (2025.1)\n",
      "Requirement already satisfied: charset-normalizer<4,>=2 in /Users/U1037319/Downloads/tmenv/lib/python3.10/site-packages (from requests>=2.31->yfinance) (3.4.1)\n",
      "Requirement already satisfied: certifi>=2017.4.17 in /Users/U1037319/Downloads/tmenv/lib/python3.10/site-packages (from requests>=2.31->yfinance) (2025.1.31)\n",
      "Requirement already satisfied: idna<4,>=2.5 in /Users/U1037319/Downloads/tmenv/lib/python3.10/site-packages (from requests>=2.31->yfinance) (3.10)\n",
      "Requirement already satisfied: urllib3<3,>=1.21.1 in /Users/U1037319/Downloads/tmenv/lib/python3.10/site-packages (from requests>=2.31->yfinance) (2.3.0)\n",
      "Requirement already satisfied: six>=1.5 in /Users/U1037319/Downloads/tmenv/lib/python3.10/site-packages (from python-dateutil>=2.8.2->pandas>=1.3.0->yfinance) (1.17.0)\n",
      "\n",
      "\u001b[1m[\u001b[0m\u001b[34;49mnotice\u001b[0m\u001b[1;39;49m]\u001b[0m\u001b[39;49m A new release of pip is available: \u001b[0m\u001b[31;49m23.0.1\u001b[0m\u001b[39;49m -> \u001b[0m\u001b[32;49m25.0.1\u001b[0m\n",
      "\u001b[1m[\u001b[0m\u001b[34;49mnotice\u001b[0m\u001b[1;39;49m]\u001b[0m\u001b[39;49m To update, run: \u001b[0m\u001b[32;49mpip install --upgrade pip\u001b[0m\n"
     ]
    },
    {
     "ename": "",
     "evalue": "",
     "output_type": "error",
     "traceback": [
      "\u001b[1;31mnotebook controller is DISPOSED. \n",
      "\u001b[1;31mView Jupyter <a href='command:jupyter.viewOutput'>log</a> for further details."
     ]
    }
   ],
   "source": [
    "#Esta es requerida para importar los datos financieros\n",
    "!pip install yfinance"
   ]
  },
  {
   "cell_type": "code",
   "execution_count": 2,
   "metadata": {
    "execution": {
     "iopub.execute_input": "2024-04-19T13:41:24.956829Z",
     "iopub.status.busy": "2024-04-19T13:41:24.955484Z",
     "iopub.status.idle": "2024-04-19T13:41:27.632543Z",
     "shell.execute_reply": "2024-04-19T13:41:27.631393Z",
     "shell.execute_reply.started": "2024-04-19T13:41:24.956778Z"
    },
    "trusted": true
   },
   "outputs": [],
   "source": [
    "# Manipulación datos:\n",
    "import numpy as np\n",
    "import pandas as pd\n",
    "\n",
    "from numpy import array\n",
    "#from keras.models import Sequential\n",
    "#from keras.layers import Dense\n",
    "from numpy import asarray\n",
    "from pandas import DataFrame\n",
    "from pandas import concat\n",
    "\n",
    "# Gráficos\n",
    "import matplotlib.pyplot as plt\n",
    "import plotly.graph_objects as go\n",
    "from matplotlib import pyplot\n",
    "plt.style.use('fivethirtyeight')\n",
    "plt.rcParams['lines.linewidth'] = 1.5\n",
    "%matplotlib inline\n",
    "\n",
    "# Modelación y pronóstico\n",
    "#Random Forest:\n",
    "from sklearn.ensemble import RandomForestRegressor\n",
    "from sklearn.metrics import mean_squared_error\n",
    "from sklearn.metrics import mean_absolute_error\n",
    "from sklearn.preprocessing import StandardScaler\n",
    "from sklearn.pipeline import make_pipeline\n",
    "\n",
    "from sklearn.preprocessing import OneHotEncoder\n",
    "from sklearn.preprocessing import StandardScaler\n",
    "from sklearn.compose import ColumnTransformer\n",
    "from sklearn.pipeline import make_pipeline\n",
    "##Regressor:\n",
    "from skforecast.ForecasterAutoreg import ForecasterAutoreg\n",
    "from skforecast.ForecasterAutoregCustom import ForecasterAutoregCustom\n",
    "from skforecast.ForecasterAutoregDirect import ForecasterAutoregDirect\n",
    "from skforecast.model_selection import grid_search_forecaster\n",
    "from skforecast.model_selection import backtesting_forecaster\n",
    "from skforecast.utils import save_forecaster\n",
    "from skforecast.utils import load_forecaster\n",
    "\n",
    "from joblib import dump, load\n",
    "\n",
    "\n",
    "from datetime import datetime\n",
    "from math import sqrt\n",
    "# Configuración de warnings:\n",
    "import warnings\n",
    "warnings.filterwarnings('once')"
   ]
  },
  {
   "cell_type": "code",
   "execution_count": 3,
   "metadata": {
    "execution": {
     "iopub.execute_input": "2024-04-19T13:41:32.869070Z",
     "iopub.status.busy": "2024-04-19T13:41:32.868508Z",
     "iopub.status.idle": "2024-04-19T13:41:33.406168Z",
     "shell.execute_reply": "2024-04-19T13:41:33.404942Z",
     "shell.execute_reply.started": "2024-04-19T13:41:32.869039Z"
    },
    "trusted": true
   },
   "outputs": [
    {
     "name": "stderr",
     "output_type": "stream",
     "text": [
      "/Users/U1037319/Downloads/tmenv/lib/python3.10/site-packages/pandas_datareader/compat/__init__.py:11: DeprecationWarning: distutils Version classes are deprecated. Use packaging.version instead.\n",
      "  PANDAS_VERSION = LooseVersion(pd.__version__)\n"
     ]
    }
   ],
   "source": [
    "#Estas son paqueterías complementarias para la descarga de datos financieros\n",
    "import pandas\n",
    "from pandas_datareader import data as pdr\n",
    "import yfinance as yfin\n",
    "#yfin.pdr_override()\n",
    "#Diable the warnings\n",
    "import warnings\n",
    "warnings.filterwarnings('ignore')"
   ]
  },
  {
   "cell_type": "code",
   "execution_count": null,
   "metadata": {
    "execution": {
     "iopub.execute_input": "2024-04-19T13:42:00.251621Z",
     "iopub.status.busy": "2024-04-19T13:42:00.250994Z",
     "iopub.status.idle": "2024-04-19T13:42:30.198362Z",
     "shell.execute_reply": "2024-04-19T13:42:30.196879Z",
     "shell.execute_reply.started": "2024-04-19T13:42:00.251588Z"
    },
    "trusted": true
   },
   "outputs": [
    {
     "name": "stdout",
     "output_type": "stream",
     "text": [
      "Collecting git+https://github.com/pydata/pandas-datareader.git\n",
      "  Cloning https://github.com/pydata/pandas-datareader.git to /tmp/pip-req-build-vddc7dvi\n",
      "  Running command git clone --filter=blob:none --quiet https://github.com/pydata/pandas-datareader.git /tmp/pip-req-build-vddc7dvi\n",
      "  Resolved https://github.com/pydata/pandas-datareader.git to commit a1cf7a20fe03dd63e930fa5ca1311a57897c9ddd\n",
      "  Installing build dependencies ... \u001b[?25ldone\n",
      "\u001b[?25h  Getting requirements to build wheel ... \u001b[?25ldone\n",
      "\u001b[?25h  Preparing metadata (pyproject.toml) ... \u001b[?25ldone\n",
      "\u001b[?25hRequirement already satisfied: lxml in /opt/conda/lib/python3.10/site-packages (from pandas-datareader==0.11.0.dev55+ga1cf7a2) (5.2.1)\n",
      "Requirement already satisfied: pandas>=1.5.3 in /opt/conda/lib/python3.10/site-packages (from pandas-datareader==0.11.0.dev55+ga1cf7a2) (2.1.4)\n",
      "Requirement already satisfied: requests>=2.19.0 in /opt/conda/lib/python3.10/site-packages (from pandas-datareader==0.11.0.dev55+ga1cf7a2) (2.31.0)\n",
      "Requirement already satisfied: numpy<2,>=1.22.4 in /opt/conda/lib/python3.10/site-packages (from pandas>=1.5.3->pandas-datareader==0.11.0.dev55+ga1cf7a2) (1.26.4)\n",
      "Requirement already satisfied: python-dateutil>=2.8.2 in /opt/conda/lib/python3.10/site-packages (from pandas>=1.5.3->pandas-datareader==0.11.0.dev55+ga1cf7a2) (2.9.0.post0)\n",
      "Requirement already satisfied: pytz>=2020.1 in /opt/conda/lib/python3.10/site-packages (from pandas>=1.5.3->pandas-datareader==0.11.0.dev55+ga1cf7a2) (2023.3.post1)\n",
      "Requirement already satisfied: tzdata>=2022.1 in /opt/conda/lib/python3.10/site-packages (from pandas>=1.5.3->pandas-datareader==0.11.0.dev55+ga1cf7a2) (2023.4)\n",
      "Requirement already satisfied: charset-normalizer<4,>=2 in /opt/conda/lib/python3.10/site-packages (from requests>=2.19.0->pandas-datareader==0.11.0.dev55+ga1cf7a2) (3.3.2)\n",
      "Requirement already satisfied: idna<4,>=2.5 in /opt/conda/lib/python3.10/site-packages (from requests>=2.19.0->pandas-datareader==0.11.0.dev55+ga1cf7a2) (3.6)\n",
      "Requirement already satisfied: urllib3<3,>=1.21.1 in /opt/conda/lib/python3.10/site-packages (from requests>=2.19.0->pandas-datareader==0.11.0.dev55+ga1cf7a2) (1.26.18)\n",
      "Requirement already satisfied: certifi>=2017.4.17 in /opt/conda/lib/python3.10/site-packages (from requests>=2.19.0->pandas-datareader==0.11.0.dev55+ga1cf7a2) (2024.2.2)\n",
      "Requirement already satisfied: six>=1.5 in /opt/conda/lib/python3.10/site-packages (from python-dateutil>=2.8.2->pandas>=1.5.3->pandas-datareader==0.11.0.dev55+ga1cf7a2) (1.16.0)\n",
      "Building wheels for collected packages: pandas-datareader\n",
      "  Building wheel for pandas-datareader (pyproject.toml) ... \u001b[?25ldone\n",
      "\u001b[?25h  Created wheel for pandas-datareader: filename=pandas_datareader-0.11.0.dev55+ga1cf7a2-py3-none-any.whl size=114240 sha256=20d6514855fd280b0df863aabddc608afda333bc38bd81c5330c86b868a66049\n",
      "  Stored in directory: /tmp/pip-ephem-wheel-cache-tb7mn96j/wheels/8e/ee/f8/83ddbd27100f359877dac9de223dd44e42750c8ec60b3fe253\n",
      "Successfully built pandas-datareader\n",
      "Installing collected packages: pandas-datareader\n",
      "  Attempting uninstall: pandas-datareader\n",
      "    Found existing installation: pandas-datareader 0.10.0\n",
      "    Uninstalling pandas-datareader-0.10.0:\n",
      "      Successfully uninstalled pandas-datareader-0.10.0\n",
      "Successfully installed pandas-datareader-0.11.0.dev55+ga1cf7a2\n"
     ]
    },
    {
     "ename": "",
     "evalue": "",
     "output_type": "error",
     "traceback": [
      "\u001b[1;31mnotebook controller is DISPOSED. \n",
      "\u001b[1;31mView Jupyter <a href='command:jupyter.viewOutput'>log</a> for further details."
     ]
    }
   ],
   "source": [
    "##Si tienes problemas para descargar pandas datareader, puedes probar la siguiente línea:\n",
    "!pip install git+https://github.com/pydata/pandas-datareader.git"
   ]
  },
  {
   "cell_type": "markdown",
   "metadata": {},
   "source": [
    "<a id=\"3\"></a> <br>\n",
    "### 2. Importación de datos financieros\n",
    "\n",
    "Establecemos primeramente la fecha de inicio y fin, así como el activo o los activos de interés. En este ejemplo, emplearemos únicamente un activo, pero dejo desactivados otros ejemplos de stocks (stks), índices (idx), monedas (ccy) como ejemplos de otros activos."
   ]
  },
  {
   "cell_type": "code",
   "execution_count": 4,
   "metadata": {
    "execution": {
     "iopub.execute_input": "2024-04-19T15:38:17.949667Z",
     "iopub.status.busy": "2024-04-19T15:38:17.949210Z",
     "iopub.status.idle": "2024-04-19T15:38:17.955621Z",
     "shell.execute_reply": "2024-04-19T15:38:17.954514Z",
     "shell.execute_reply.started": "2024-04-19T15:38:17.949617Z"
    },
    "trusted": true
   },
   "outputs": [],
   "source": [
    "#Establecemos las fechas de consulta:\n",
    "start = '2015-01-01'\n",
    "end = '2022-07-29'\n",
    "#ticker = 'AAPL'\n",
    "#data = pdr.get_data_yahoo(ticker, start, end)['Adj Close']\n",
    "#gs10='GS10'\n",
    "#stks_tickers = ['AAPL','IBM', 'GOOGL']\n",
    "#idx_tickers = ['SPY', '^DJI', '^VIX']\n",
    "#ccy_tickers = ['JPY=X', 'GBPUSD=X']"
   ]
  },
  {
   "cell_type": "code",
   "execution_count": null,
   "metadata": {
    "execution": {
     "iopub.execute_input": "2024-04-19T15:38:23.996348Z",
     "iopub.status.busy": "2024-04-19T15:38:23.995927Z",
     "iopub.status.idle": "2024-04-19T15:38:24.050140Z",
     "shell.execute_reply": "2024-04-19T15:38:24.049187Z",
     "shell.execute_reply.started": "2024-04-19T15:38:23.996314Z"
    },
    "trusted": true
   },
   "outputs": [],
   "source": [
    "#Una vez declarado el ticker, pedimos a través de la función de pandas data reader (pdr), bajar lso datos de la fuente de yahoo finance.\n",
    "#data = pdr.get_data_yahoo(\"AMZN\", start, end)['Close']"
   ]
  },
  {
   "cell_type": "code",
   "execution_count": 5,
   "metadata": {},
   "outputs": [
    {
     "name": "stdout",
     "output_type": "stream",
     "text": [
      "YF.download() has changed argument auto_adjust default to True\n"
     ]
    },
    {
     "name": "stderr",
     "output_type": "stream",
     "text": [
      "[*********************100%***********************]  1 of 1 completed"
     ]
    },
    {
     "name": "stdout",
     "output_type": "stream",
     "text": [
      "Ticker           AAPL\n",
      "Date                 \n",
      "2015-01-02  24.320429\n",
      "2015-01-05  23.635290\n",
      "2015-01-06  23.637512\n",
      "2015-01-07  23.968962\n",
      "2015-01-08  24.889906\n"
     ]
    },
    {
     "name": "stderr",
     "output_type": "stream",
     "text": [
      "\n"
     ]
    },
    {
     "data": {
      "image/png": "[encoded data removed]",
      "text/plain": [
       "<Figure size 1000x500 with 1 Axes>"
      ]
     },
     "metadata": {},
     "output_type": "display_data"
    }
   ],
   "source": [
    "# Este lo adicione por que como estaba arriba originalmente no funcionaba\n",
    "import yfinance as yf\n",
    "import matplotlib.pyplot as plt\n",
    "\n",
    "# Definir fechas\n",
    "start = \"2015-01-01\"\n",
    "end = \"2022-07-29\"\n",
    "\n",
    "# Descargar datos con yfinance\n",
    "data = yf.download(\"AAPL\", start=start, end=end)['Close']\n",
    "\n",
    "# Mostrar primeras filas\n",
    "print(data.head())\n",
    "\n",
    "# Graficar\n",
    "data.plot(title=\"Precio de cierre de Apple (AAPL)\", figsize=(10, 5))\n",
    "plt.xlabel(\"Fecha\")\n",
    "plt.ylabel(\"Precio (USD)\")\n",
    "plt.grid(True)\n",
    "plt.show()\n"
   ]
  },
  {
   "cell_type": "code",
   "execution_count": 18,
   "metadata": {
    "execution": {
     "iopub.execute_input": "2024-04-19T15:39:02.359997Z",
     "iopub.status.busy": "2024-04-19T15:39:02.359535Z",
     "iopub.status.idle": "2024-04-19T15:39:02.372984Z",
     "shell.execute_reply": "2024-04-19T15:39:02.372137Z",
     "shell.execute_reply.started": "2024-04-19T15:39:02.359965Z"
    },
    "trusted": true
   },
   "outputs": [
    {
     "name": "stdout",
     "output_type": "stream",
     "text": [
      "<class 'pandas.core.frame.DataFrame'>\n",
      "DatetimeIndex: 1906 entries, 2015-01-02 to 2022-07-28\n",
      "Data columns (total 1 columns):\n",
      " #   Column  Non-Null Count  Dtype  \n",
      "---  ------  --------------  -----  \n",
      " 0   y       1906 non-null   float64\n",
      "dtypes: float64(1)\n",
      "memory usage: 29.8 KB\n"
     ]
    }
   ],
   "source": [
    "#Pasamos a data frame los datos, cambiamos el nombre de la columna del tipo de precio a \"y\", para facilidad posterior.\n",
    "dt= pandas.DataFrame(data)\n",
    "df= dt.rename(columns={'AAPL': 'y'})\n",
    "df.info()"
   ]
  },
  {
   "cell_type": "code",
   "execution_count": 19,
   "metadata": {
    "execution": {
     "iopub.execute_input": "2024-04-19T15:39:05.627046Z",
     "iopub.status.busy": "2024-04-19T15:39:05.625928Z",
     "iopub.status.idle": "2024-04-19T15:39:05.639818Z",
     "shell.execute_reply": "2024-04-19T15:39:05.638416Z",
     "shell.execute_reply.started": "2024-04-19T15:39:05.626996Z"
    },
    "trusted": true
   },
   "outputs": [
    {
     "data": {
      "text/html": [
       "<div>\n",
       "<style scoped>\n",
       "    .dataframe tbody tr th:only-of-type {\n",
       "        vertical-align: middle;\n",
       "    }\n",
       "\n",
       "    .dataframe tbody tr th {\n",
       "        vertical-align: top;\n",
       "    }\n",
       "\n",
       "    .dataframe thead th {\n",
       "        text-align: right;\n",
       "    }\n",
       "</style>\n",
       "<table border=\"1\" class=\"dataframe\">\n",
       "  <thead>\n",
       "    <tr style=\"text-align: right;\">\n",
       "      <th>Ticker</th>\n",
       "      <th>y</th>\n",
       "    </tr>\n",
       "    <tr>\n",
       "      <th>Date</th>\n",
       "      <th></th>\n",
       "    </tr>\n",
       "  </thead>\n",
       "  <tbody>\n",
       "    <tr>\n",
       "      <th>2015-01-02</th>\n",
       "      <td>24.320429</td>\n",
       "    </tr>\n",
       "    <tr>\n",
       "      <th>2015-01-05</th>\n",
       "      <td>23.635290</td>\n",
       "    </tr>\n",
       "    <tr>\n",
       "      <th>2015-01-06</th>\n",
       "      <td>23.637512</td>\n",
       "    </tr>\n",
       "    <tr>\n",
       "      <th>2015-01-07</th>\n",
       "      <td>23.968962</td>\n",
       "    </tr>\n",
       "    <tr>\n",
       "      <th>2015-01-08</th>\n",
       "      <td>24.889906</td>\n",
       "    </tr>\n",
       "  </tbody>\n",
       "</table>\n",
       "</div>"
      ],
      "text/plain": [
       "Ticker              y\n",
       "Date                 \n",
       "2015-01-02  24.320429\n",
       "2015-01-05  23.635290\n",
       "2015-01-06  23.637512\n",
       "2015-01-07  23.968962\n",
       "2015-01-08  24.889906"
      ]
     },
     "execution_count": 19,
     "metadata": {},
     "output_type": "execute_result"
    }
   ],
   "source": [
    "df.head()"
   ]
  },
  {
   "cell_type": "markdown",
   "metadata": {},
   "source": [
    "<a id=\"5\"></a> <br>\n",
    "### 3. Preprocesamiento de datos\n",
    "\n",
    "En esta parte, debemos dar especial formato a la columna de fechas, así como a su frecuencia. Esto es importante para que el pronóstico mediante la función de regresión funcione apropiadamente. "
   ]
  },
  {
   "cell_type": "code",
   "execution_count": 20,
   "metadata": {
    "execution": {
     "iopub.execute_input": "2024-04-19T15:40:49.294675Z",
     "iopub.status.busy": "2024-04-19T15:40:49.294237Z",
     "iopub.status.idle": "2024-04-19T15:40:49.307241Z",
     "shell.execute_reply": "2024-04-19T15:40:49.306032Z",
     "shell.execute_reply.started": "2024-04-19T15:40:49.294628Z"
    },
    "trusted": true
   },
   "outputs": [
    {
     "data": {
      "text/plain": [
       "DatetimeIndex(['2015-01-02', '2015-01-05', '2015-01-06', '2015-01-07',\n",
       "               '2015-01-08', '2015-01-09', '2015-01-12', '2015-01-13',\n",
       "               '2015-01-14', '2015-01-15',\n",
       "               ...\n",
       "               '2022-07-15', '2022-07-18', '2022-07-19', '2022-07-20',\n",
       "               '2022-07-21', '2022-07-22', '2022-07-25', '2022-07-26',\n",
       "               '2022-07-27', '2022-07-28'],\n",
       "              dtype='datetime64[ns]', name='Date', length=1906, freq=None)"
      ]
     },
     "execution_count": 20,
     "metadata": {},
     "output_type": "execute_result"
    }
   ],
   "source": [
    "# Preparación formato datos\n",
    "# ==============================================================================\n",
    "dataindex= pd.to_datetime(df.index)\n",
    "dataindex"
   ]
  },
  {
   "cell_type": "code",
   "execution_count": 21,
   "metadata": {
    "execution": {
     "iopub.execute_input": "2024-04-19T15:40:51.272173Z",
     "iopub.status.busy": "2024-04-19T15:40:51.271747Z",
     "iopub.status.idle": "2024-04-19T15:40:51.339985Z",
     "shell.execute_reply": "2024-04-19T15:40:51.338846Z",
     "shell.execute_reply.started": "2024-04-19T15:40:51.272140Z"
    },
    "trusted": true
   },
   "outputs": [
    {
     "name": "stdout",
     "output_type": "stream",
     "text": [
      "<class 'pandas.core.frame.DataFrame'>\n",
      "DatetimeIndex: 1975 entries, 2015-01-02 to 2022-07-28\n",
      "Freq: B\n",
      "Data columns (total 1 columns):\n",
      " #   Column  Non-Null Count  Dtype  \n",
      "---  ------  --------------  -----  \n",
      " 0   y       1906 non-null   float64\n",
      "dtypes: float64(1)\n",
      "memory usage: 30.9 KB\n"
     ]
    }
   ],
   "source": [
    "# Damos formato de fecha con periodiciadad diaria a la serie.\n",
    "df['Date'] = pd.to_datetime(df.index, format='%Y-%m-%d')  \n",
    "#df['Date'] = pd.to_datetime(df['Date'], format='%Y-%m-%d')  \n",
    "df = df.set_index('Date')\n",
    "df = df.asfreq('B')\n",
    "df = df.sort_index()\n",
    "df.info()"
   ]
  },
  {
   "cell_type": "code",
   "execution_count": 22,
   "metadata": {
    "execution": {
     "iopub.execute_input": "2024-04-19T15:41:24.625829Z",
     "iopub.status.busy": "2024-04-19T15:41:24.625388Z",
     "iopub.status.idle": "2024-04-19T15:41:24.633040Z",
     "shell.execute_reply": "2024-04-19T15:41:24.631675Z",
     "shell.execute_reply.started": "2024-04-19T15:41:24.625798Z"
    },
    "trusted": true
   },
   "outputs": [],
   "source": [
    "## Imputamos algún valor faltante con el valor anterior.\n",
    "df.fillna(method='bfill', inplace=True)"
   ]
  },
  {
   "cell_type": "code",
   "execution_count": 23,
   "metadata": {
    "execution": {
     "iopub.execute_input": "2024-04-19T15:42:25.068913Z",
     "iopub.status.busy": "2024-04-19T15:42:25.068517Z",
     "iopub.status.idle": "2024-04-19T15:42:25.076062Z",
     "shell.execute_reply": "2024-04-19T15:42:25.075176Z",
     "shell.execute_reply.started": "2024-04-19T15:42:25.068882Z"
    },
    "trusted": true
   },
   "outputs": [
    {
     "name": "stdout",
     "output_type": "stream",
     "text": [
      "Number of rows with missing values: 0.0\n"
     ]
    }
   ],
   "source": [
    "# Podemos verificar si valores faltantes.\n",
    "print(f'Number of rows with missing values: {df.isnull().any(axis=1).mean()}')"
   ]
  },
  {
   "cell_type": "markdown",
   "metadata": {},
   "source": [
    "<a id=\"6\"></a> <br>\n",
    "### 4. Partición de datos en entrenamiento y prueba\n",
    "\n",
    "En esta seción, partimos el conjunto de datos de pueba y de entrenamiento. "
   ]
  },
  {
   "cell_type": "code",
   "execution_count": 24,
   "metadata": {
    "execution": {
     "iopub.execute_input": "2024-04-19T15:42:52.840247Z",
     "iopub.status.busy": "2024-04-19T15:42:52.839819Z",
     "iopub.status.idle": "2024-04-19T15:42:52.848326Z",
     "shell.execute_reply": "2024-04-19T15:42:52.847134Z",
     "shell.execute_reply.started": "2024-04-19T15:42:52.840214Z"
    },
    "trusted": true
   },
   "outputs": [
    {
     "name": "stdout",
     "output_type": "stream",
     "text": [
      "Train dates : 2015-01-02 00:00:00 --- 2022-06-08 00:00:00  (n=1939)\n",
      "Test dates  : 2022-06-09 00:00:00 --- 2022-07-28 00:00:00  (n=36)\n"
     ]
    }
   ],
   "source": [
    "# Split data into train-test\n",
    "# ==============================================================================\n",
    "steps = 36\n",
    "data_train = df[:-steps]\n",
    "data_test  = df[-steps:]\n",
    "print(f\"Train dates : {data_train.index.min()} --- {data_train.index.max()}  (n={len(data_train)})\")\n",
    "print(f\"Test dates  : {data_test.index.min()} --- {data_test.index.max()}  (n={len(data_test)})\")\n",
    "\n",
    "#Así también para las fechas:\n",
    "date_train = dataindex[:-steps]\n",
    "date_test = dataindex[-steps:]"
   ]
  },
  {
   "cell_type": "code",
   "execution_count": 25,
   "metadata": {
    "execution": {
     "iopub.execute_input": "2024-04-19T15:42:55.287627Z",
     "iopub.status.busy": "2024-04-19T15:42:55.287238Z",
     "iopub.status.idle": "2024-04-19T15:42:55.298470Z",
     "shell.execute_reply": "2024-04-19T15:42:55.297352Z",
     "shell.execute_reply.started": "2024-04-19T15:42:55.287597Z"
    },
    "trusted": true
   },
   "outputs": [
    {
     "data": {
      "text/html": [
       "<div>\n",
       "<style scoped>\n",
       "    .dataframe tbody tr th:only-of-type {\n",
       "        vertical-align: middle;\n",
       "    }\n",
       "\n",
       "    .dataframe tbody tr th {\n",
       "        vertical-align: top;\n",
       "    }\n",
       "\n",
       "    .dataframe thead th {\n",
       "        text-align: right;\n",
       "    }\n",
       "</style>\n",
       "<table border=\"1\" class=\"dataframe\">\n",
       "  <thead>\n",
       "    <tr style=\"text-align: right;\">\n",
       "      <th>Ticker</th>\n",
       "      <th>y</th>\n",
       "    </tr>\n",
       "    <tr>\n",
       "      <th>Date</th>\n",
       "      <th></th>\n",
       "    </tr>\n",
       "  </thead>\n",
       "  <tbody>\n",
       "    <tr>\n",
       "      <th>2015-01-02</th>\n",
       "      <td>24.320429</td>\n",
       "    </tr>\n",
       "    <tr>\n",
       "      <th>2015-01-05</th>\n",
       "      <td>23.635290</td>\n",
       "    </tr>\n",
       "    <tr>\n",
       "      <th>2015-01-06</th>\n",
       "      <td>23.637512</td>\n",
       "    </tr>\n",
       "    <tr>\n",
       "      <th>2015-01-07</th>\n",
       "      <td>23.968962</td>\n",
       "    </tr>\n",
       "    <tr>\n",
       "      <th>2015-01-08</th>\n",
       "      <td>24.889906</td>\n",
       "    </tr>\n",
       "  </tbody>\n",
       "</table>\n",
       "</div>"
      ],
      "text/plain": [
       "Ticker              y\n",
       "Date                 \n",
       "2015-01-02  24.320429\n",
       "2015-01-05  23.635290\n",
       "2015-01-06  23.637512\n",
       "2015-01-07  23.968962\n",
       "2015-01-08  24.889906"
      ]
     },
     "execution_count": 25,
     "metadata": {},
     "output_type": "execute_result"
    }
   ],
   "source": [
    "data_train.head()"
   ]
  },
  {
   "cell_type": "code",
   "execution_count": 26,
   "metadata": {
    "execution": {
     "iopub.execute_input": "2024-04-19T15:42:59.495172Z",
     "iopub.status.busy": "2024-04-19T15:42:59.494748Z",
     "iopub.status.idle": "2024-04-19T15:42:59.502870Z",
     "shell.execute_reply": "2024-04-19T15:42:59.501653Z",
     "shell.execute_reply.started": "2024-04-19T15:42:59.495131Z"
    },
    "trusted": true
   },
   "outputs": [
    {
     "data": {
      "text/plain": [
       "1975"
      ]
     },
     "execution_count": 26,
     "metadata": {},
     "output_type": "execute_result"
    }
   ],
   "source": [
    "#Identificamos la longitud de la serie\n",
    "len(df)"
   ]
  },
  {
   "cell_type": "code",
   "execution_count": 27,
   "metadata": {
    "execution": {
     "iopub.execute_input": "2024-04-19T15:43:01.832071Z",
     "iopub.status.busy": "2024-04-19T15:43:01.831668Z",
     "iopub.status.idle": "2024-04-19T15:43:01.842693Z",
     "shell.execute_reply": "2024-04-19T15:43:01.841541Z",
     "shell.execute_reply.started": "2024-04-19T15:43:01.832042Z"
    },
    "trusted": true
   },
   "outputs": [
    {
     "data": {
      "text/html": [
       "<div>\n",
       "<style scoped>\n",
       "    .dataframe tbody tr th:only-of-type {\n",
       "        vertical-align: middle;\n",
       "    }\n",
       "\n",
       "    .dataframe tbody tr th {\n",
       "        vertical-align: top;\n",
       "    }\n",
       "\n",
       "    .dataframe thead th {\n",
       "        text-align: right;\n",
       "    }\n",
       "</style>\n",
       "<table border=\"1\" class=\"dataframe\">\n",
       "  <thead>\n",
       "    <tr style=\"text-align: right;\">\n",
       "      <th>Ticker</th>\n",
       "      <th>y</th>\n",
       "    </tr>\n",
       "    <tr>\n",
       "      <th>Date</th>\n",
       "      <th></th>\n",
       "    </tr>\n",
       "  </thead>\n",
       "  <tbody>\n",
       "    <tr>\n",
       "      <th>2015-01-02</th>\n",
       "      <td>24.320429</td>\n",
       "    </tr>\n",
       "    <tr>\n",
       "      <th>2015-01-05</th>\n",
       "      <td>23.635290</td>\n",
       "    </tr>\n",
       "    <tr>\n",
       "      <th>2015-01-06</th>\n",
       "      <td>23.637512</td>\n",
       "    </tr>\n",
       "    <tr>\n",
       "      <th>2015-01-07</th>\n",
       "      <td>23.968962</td>\n",
       "    </tr>\n",
       "    <tr>\n",
       "      <th>2015-01-08</th>\n",
       "      <td>24.889906</td>\n",
       "    </tr>\n",
       "  </tbody>\n",
       "</table>\n",
       "</div>"
      ],
      "text/plain": [
       "Ticker              y\n",
       "Date                 \n",
       "2015-01-02  24.320429\n",
       "2015-01-05  23.635290\n",
       "2015-01-06  23.637512\n",
       "2015-01-07  23.968962\n",
       "2015-01-08  24.889906"
      ]
     },
     "execution_count": 27,
     "metadata": {},
     "output_type": "execute_result"
    }
   ],
   "source": [
    "data_train.head()"
   ]
  },
  {
   "cell_type": "markdown",
   "metadata": {},
   "source": [
    "<a id=\"4\"></a> <br>\n",
    "### 5. Visualización de datos financieros\n",
    "\n",
    "Para mirar la serie, debemos importar la librería de matplotlib."
   ]
  },
  {
   "cell_type": "code",
   "execution_count": 28,
   "metadata": {
    "execution": {
     "iopub.execute_input": "2024-04-19T15:43:05.122665Z",
     "iopub.status.busy": "2024-04-19T15:43:05.122239Z",
     "iopub.status.idle": "2024-04-19T15:43:05.456054Z",
     "shell.execute_reply": "2024-04-19T15:43:05.454759Z",
     "shell.execute_reply.started": "2024-04-19T15:43:05.122617Z"
    },
    "trusted": true
   },
   "outputs": [
    {
     "data": {
      "text/plain": [
       "[<matplotlib.lines.Line2D at 0x308c6d780>]"
      ]
     },
     "execution_count": 28,
     "metadata": {},
     "output_type": "execute_result"
    },
    {
     "data": {
      "image/png": "[encoded data removed]",
      "text/plain": [
       "<Figure size 640x480 with 1 Axes>"
      ]
     },
     "metadata": {},
     "output_type": "display_data"
    }
   ],
   "source": [
    "#Una vez llamada la librería, graficamos la serie dt.\n",
    "import matplotlib.pyplot as plt\n",
    "plt.plot(df)"
   ]
  },
  {
   "cell_type": "code",
   "execution_count": 29,
   "metadata": {
    "execution": {
     "iopub.execute_input": "2024-04-19T15:43:08.562837Z",
     "iopub.status.busy": "2024-04-19T15:43:08.562405Z",
     "iopub.status.idle": "2024-04-19T15:43:08.571579Z",
     "shell.execute_reply": "2024-04-19T15:43:08.570369Z",
     "shell.execute_reply.started": "2024-04-19T15:43:08.562803Z"
    },
    "trusted": true
   },
   "outputs": [
    {
     "data": {
      "text/plain": [
       "DatetimeIndex(['2015-01-02', '2015-01-05', '2015-01-06', '2015-01-07',\n",
       "               '2015-01-08', '2015-01-09', '2015-01-12', '2015-01-13',\n",
       "               '2015-01-14', '2015-01-15',\n",
       "               ...\n",
       "               '2022-05-23', '2022-05-24', '2022-05-25', '2022-05-26',\n",
       "               '2022-05-27', '2022-05-31', '2022-06-01', '2022-06-02',\n",
       "               '2022-06-03', '2022-06-06'],\n",
       "              dtype='datetime64[ns]', name='Date', length=1870, freq=None)"
      ]
     },
     "execution_count": 29,
     "metadata": {},
     "output_type": "execute_result"
    }
   ],
   "source": [
    "#Vemos los datos para las fechas que nos sirven para las gráficas\n",
    "date_train\n",
    "#date_test  #Igualmente para visualizarlos"
   ]
  },
  {
   "cell_type": "markdown",
   "metadata": {},
   "source": [
    "<a id=\"7\"></a> <br>\n",
    "### 6. Visualización conjunto de entrenamiento y prueba"
   ]
  },
  {
   "cell_type": "code",
   "execution_count": 30,
   "metadata": {
    "execution": {
     "iopub.execute_input": "2024-04-19T15:43:11.955916Z",
     "iopub.status.busy": "2024-04-19T15:43:11.955383Z",
     "iopub.status.idle": "2024-04-19T15:43:11.962856Z",
     "shell.execute_reply": "2024-04-19T15:43:11.961664Z",
     "shell.execute_reply.started": "2024-04-19T15:43:11.955877Z"
    },
    "trusted": true
   },
   "outputs": [
    {
     "name": "stdout",
     "output_type": "stream",
     "text": [
      "1939\n",
      "36\n"
     ]
    }
   ],
   "source": [
    "#Imprimimos la longitud de ambos conjuntos de datos:\n",
    "print(len(data_train))\n",
    "print(len(data_test))"
   ]
  },
  {
   "cell_type": "code",
   "execution_count": 31,
   "metadata": {
    "execution": {
     "iopub.execute_input": "2024-04-19T15:43:16.238275Z",
     "iopub.status.busy": "2024-04-19T15:43:16.237748Z",
     "iopub.status.idle": "2024-04-19T15:43:16.675623Z",
     "shell.execute_reply": "2024-04-19T15:43:16.674550Z",
     "shell.execute_reply.started": "2024-04-19T15:43:16.238236Z"
    },
    "trusted": true
   },
   "outputs": [
    {
     "data": {
      "image/png": "[encoded data removed]",
      "text/plain": [
       "<Figure size 1000x250 with 1 Axes>"
      ]
     },
     "metadata": {},
     "output_type": "display_data"
    }
   ],
   "source": [
    "fig, ax = plt.subplots(figsize=(10, 2.5))\n",
    "data_train['y'].plot(ax=ax, label='train')\n",
    "data_test['y'].plot(ax=ax, label='test')\n",
    "ax.legend();"
   ]
  },
  {
   "cell_type": "markdown",
   "metadata": {},
   "source": [
    "Ahora verificamos como quedo la partición de nuestra serie de tiempo."
   ]
  },
  {
   "cell_type": "code",
   "execution_count": 32,
   "metadata": {
    "execution": {
     "iopub.execute_input": "2024-04-19T15:43:21.514791Z",
     "iopub.status.busy": "2024-04-19T15:43:21.513948Z",
     "iopub.status.idle": "2024-04-19T15:43:21.555746Z",
     "shell.execute_reply": "2024-04-19T15:43:21.554659Z",
     "shell.execute_reply.started": "2024-04-19T15:43:21.514748Z"
    },
    "trusted": true
   },
   "outputs": [
    {
     "data": {
      "application/vnd.plotly.v1+json": {
       "config": {
        "plotlyServerURL": "https://plot.ly"
       },
       "data": [
        {
         "mode": "lines",
         "name": "Data",
         "type": "scatter",
         "x": [
          "2015-01-02T00:00:00.000000000",
          "2015-01-05T00:00:00.000000000",
          "2015-01-06T00:00:00.000000000",
          "2015-01-07T00:00:00.000000000",
          "2015-01-08T00:00:00.000000000",
          "2015-01-09T00:00:00.000000000",
          "2015-01-12T00:00:00.000000000",
          "2015-01-13T00:00:00.000000000",
          "2015-01-14T00:00:00.000000000",
          "2015-01-15T00:00:00.000000000",
          "2015-01-16T00:00:00.000000000",
          "2015-01-20T00:00:00.000000000",
          "2015-01-21T00:00:00.000000000",
          "2015-01-22T00:00:00.000000000",
          "2015-01-23T00:00:00.000000000",
          "2015-01-26T00:00:00.000000000",
          "2015-01-27T00:00:00.000000000",
          "2015-01-28T00:00:00.000000000",
          "2015-01-29T00:00:00.000000000",
          "2015-01-30T00:00:00.000000000",
          "2015-02-02T00:00:00.000000000",
          "2015-02-03T00:00:00.000000000",
          "2015-02-04T00:00:00.000000000",
          "2015-02-05T00:00:00.000000000",
          "2015-02-06T00:00:00.000000000",
          "2015-02-09T00:00:00.000000000",
          "2015-02-10T00:00:00.000000000",
          "2015-02-11T00:00:00.000000000",
          "2015-02-12T00:00:00.000000000",
          "2015-02-13T00:00:00.000000000",
          "2015-02-17T00:00:00.000000000",
          "2015-02-18T00:00:00.000000000",
          "2015-02-19T00:00:00.000000000",
          "2015-02-20T00:00:00.000000000",
          "2015-02-23T00:00:00.000000000",
          "2015-02-24T00:00:00.000000000",
          "2015-02-25T00:00:00.000000000",
          "2015-02-26T00:00:00.000000000",
          "2015-02-27T00:00:00.000000000",
          "2015-03-02T00:00:00.000000000",
          "2015-03-03T00:00:00.000000000",
          "2015-03-04T00:00:00.000000000",
          "2015-03-05T00:00:00.000000000",
          "2015-03-06T00:00:00.000000000",
          "2015-03-09T00:00:00.000000000",
          "2015-03-10T00:00:00.000000000",
          "2015-03-11T00:00:00.000000000",
          "2015-03-12T00:00:00.000000000",
          "2015-03-13T00:00:00.000000000",
          "2015-03-16T00:00:00.000000000",
          "2015-03-17T00:00:00.000000000",
          "2015-03-18T00:00:00.000000000",
          "2015-03-19T00:00:00.000000000",
          "2015-03-20T00:00:00.000000000",
          "2015-03-23T00:00:00.000000000",
          "2015-03-24T00:00:00.000000000",
          "2015-03-25T00:00:00.000000000",
          "2015-03-26T00:00:00.000000000",
          "2015-03-27T00:00:00.000000000",
          "2015-03-30T00:00:00.000000000",
          "2015-03-31T00:00:00.000000000",
          "2015-04-01T00:00:00.000000000",
          "2015-04-02T00:00:00.000000000",
          "2015-04-06T00:00:00.000000000",
          "2015-04-07T00:00:00.000000000",
          "2015-04-08T00:00:00.000000000",
          "2015-04-09T00:00:00.000000000",
          "2015-04-10T00:00:00.000000000",
          "2015-04-13T00:00:00.000000000",
          "2015-04-14T00:00:00.000000000",
          "2015-04-15T00:00:00.000000000",
          "2015-04-16T00:00:00.000000000",
          "2015-04-17T00:00:00.000000000",
          "2015-04-20T00:00:00.000000000",
          "2015-04-21T00:00:00.000000000",
          "2015-04-22T00:00:00.000000000",
          "2015-04-23T00:00:00.000000000",
          "2015-04-24T00:00:00.000000000",
          "2015-04-27T00:00:00.000000000",
          "2015-04-28T00:00:00.000000000",
          "2015-04-29T00:00:00.000000000",
          "2015-04-30T00:00:00.000000000",
          "2015-05-01T00:00:00.000000000",
          "2015-05-04T00:00:00.000000000",
          "2015-05-05T00:00:00.000000000",
          "2015-05-06T00:00:00.000000000",
          "2015-05-07T00:00:00.000000000",
          "2015-05-08T00:00:00.000000000",
          "2015-05-11T00:00:00.000000000",
          "2015-05-12T00:00:00.000000000",
          "2015-05-13T00:00:00.000000000",
          "2015-05-14T00:00:00.000000000",
          "2015-05-15T00:00:00.000000000",
          "2015-05-18T00:00:00.000000000",
          "2015-05-19T00:00:00.000000000",
          "2015-05-20T00:00:00.000000000",
          "2015-05-21T00:00:00.000000000",
          "2015-05-22T00:00:00.000000000",
          "2015-05-26T00:00:00.000000000",
          "2015-05-27T00:00:00.000000000",
          "2015-05-28T00:00:00.000000000",
          "2015-05-29T00:00:00.000000000",
          "2015-06-01T00:00:00.000000000",
          "2015-06-02T00:00:00.000000000",
          "2015-06-03T00:00:00.000000000",
          "2015-06-04T00:00:00.000000000",
          "2015-06-05T00:00:00.000000000",
          "2015-06-08T00:00:00.000000000",
          "2015-06-09T00:00:00.000000000",
          "2015-06-10T00:00:00.000000000",
          "2015-06-11T00:00:00.000000000",
          "2015-06-12T00:00:00.000000000",
          "2015-06-15T00:00:00.000000000",
          "2015-06-16T00:00:00.000000000",
          "2015-06-17T00:00:00.000000000",
          "2015-06-18T00:00:00.000000000",
          "2015-06-19T00:00:00.000000000",
          "2015-06-22T00:00:00.000000000",
          "2015-06-23T00:00:00.000000000",
          "2015-06-24T00:00:00.000000000",
          "2015-06-25T00:00:00.000000000",
          "2015-06-26T00:00:00.000000000",
          "2015-06-29T00:00:00.000000000",
          "2015-06-30T00:00:00.000000000",
          "2015-07-01T00:00:00.000000000",
          "2015-07-02T00:00:00.000000000",
          "2015-07-06T00:00:00.000000000",
          "2015-07-07T00:00:00.000000000",
          "2015-07-08T00:00:00.000000000",
          "2015-07-09T00:00:00.000000000",
          "2015-07-10T00:00:00.000000000",
          "2015-07-13T00:00:00.000000000",
          "2015-07-14T00:00:00.000000000",
          "2015-07-15T00:00:00.000000000",
          "2015-07-16T00:00:00.000000000",
          "2015-07-17T00:00:00.000000000",
          "2015-07-20T00:00:00.000000000",
          "2015-07-21T00:00:00.000000000",
          "2015-07-22T00:00:00.000000000",
          "2015-07-23T00:00:00.000000000",
          "2015-07-24T00:00:00.000000000",
          "2015-07-27T00:00:00.000000000",
          "2015-07-28T00:00:00.000000000",
          "2015-07-29T00:00:00.000000000",
          "2015-07-30T00:00:00.000000000",
          "2015-07-31T00:00:00.000000000",
          "2015-08-03T00:00:00.000000000",
          "2015-08-04T00:00:00.000000000",
          "2015-08-05T00:00:00.000000000",
          "2015-08-06T00:00:00.000000000",
          "2015-08-07T00:00:00.000000000",
          "2015-08-10T00:00:00.000000000",
          "2015-08-11T00:00:00.000000000",
          "2015-08-12T00:00:00.000000000",
          "2015-08-13T00:00:00.000000000",
          "2015-08-14T00:00:00.000000000",
          "2015-08-17T00:00:00.000000000",
          "2015-08-18T00:00:00.000000000",
          "2015-08-19T00:00:00.000000000",
          "2015-08-20T00:00:00.000000000",
          "2015-08-21T00:00:00.000000000",
          "2015-08-24T00:00:00.000000000",
          "2015-08-25T00:00:00.000000000",
          "2015-08-26T00:00:00.000000000",
          "2015-08-27T00:00:00.000000000",
          "2015-08-28T00:00:00.000000000",
          "2015-08-31T00:00:00.000000000",
          "2015-09-01T00:00:00.000000000",
          "2015-09-02T00:00:00.000000000",
          "2015-09-03T00:00:00.000000000",
          "2015-09-04T00:00:00.000000000",
          "2015-09-08T00:00:00.000000000",
          "2015-09-09T00:00:00.000000000",
          "2015-09-10T00:00:00.000000000",
          "2015-09-11T00:00:00.000000000",
          "2015-09-14T00:00:00.000000000",
          "2015-09-15T00:00:00.000000000",
          "2015-09-16T00:00:00.000000000",
          "2015-09-17T00:00:00.000000000",
          "2015-09-18T00:00:00.000000000",
          "2015-09-21T00:00:00.000000000",
          "2015-09-22T00:00:00.000000000",
          "2015-09-23T00:00:00.000000000",
          "2015-09-24T00:00:00.000000000",
          "2015-09-25T00:00:00.000000000",
          "2015-09-28T00:00:00.000000000",
          "2015-09-29T00:00:00.000000000",
          "2015-09-30T00:00:00.000000000",
          "2015-10-01T00:00:00.000000000",
          "2015-10-02T00:00:00.000000000",
          "2015-10-05T00:00:00.000000000",
          "2015-10-06T00:00:00.000000000",
          "2015-10-07T00:00:00.000000000",
          "2015-10-08T00:00:00.000000000",
          "2015-10-09T00:00:00.000000000",
          "2015-10-12T00:00:00.000000000",
          "2015-10-13T00:00:00.000000000",
          "2015-10-14T00:00:00.000000000",
          "2015-10-15T00:00:00.000000000",
          "2015-10-16T00:00:00.000000000",
          "2015-10-19T00:00:00.000000000",
          "2015-10-20T00:00:00.000000000",
          "2015-10-21T00:00:00.000000000",
          "2015-10-22T00:00:00.000000000",
          "2015-10-23T00:00:00.000000000",
          "2015-10-26T00:00:00.000000000",
          "2015-10-27T00:00:00.000000000",
          "2015-10-28T00:00:00.000000000",
          "2015-10-29T00:00:00.000000000",
          "2015-10-30T00:00:00.000000000",
          "2015-11-02T00:00:00.000000000",
          "2015-11-03T00:00:00.000000000",
          "2015-11-04T00:00:00.000000000",
          "2015-11-05T00:00:00.000000000",
          "2015-11-06T00:00:00.000000000",
          "2015-11-09T00:00:00.000000000",
          "2015-11-10T00:00:00.000000000",
          "2015-11-11T00:00:00.000000000",
          "2015-11-12T00:00:00.000000000",
          "2015-11-13T00:00:00.000000000",
          "2015-11-16T00:00:00.000000000",
          "2015-11-17T00:00:00.000000000",
          "2015-11-18T00:00:00.000000000",
          "2015-11-19T00:00:00.000000000",
          "2015-11-20T00:00:00.000000000",
          "2015-11-23T00:00:00.000000000",
          "2015-11-24T00:00:00.000000000",
          "2015-11-25T00:00:00.000000000",
          "2015-11-27T00:00:00.000000000",
          "2015-11-30T00:00:00.000000000",
          "2015-12-01T00:00:00.000000000",
          "2015-12-02T00:00:00.000000000",
          "2015-12-03T00:00:00.000000000",
          "2015-12-04T00:00:00.000000000",
          "2015-12-07T00:00:00.000000000",
          "2015-12-08T00:00:00.000000000",
          "2015-12-09T00:00:00.000000000",
          "2015-12-10T00:00:00.000000000",
          "2015-12-11T00:00:00.000000000",
          "2015-12-14T00:00:00.000000000",
          "2015-12-15T00:00:00.000000000",
          "2015-12-16T00:00:00.000000000",
          "2015-12-17T00:00:00.000000000",
          "2015-12-18T00:00:00.000000000",
          "2015-12-21T00:00:00.000000000",
          "2015-12-22T00:00:00.000000000",
          "2015-12-23T00:00:00.000000000",
          "2015-12-24T00:00:00.000000000",
          "2015-12-28T00:00:00.000000000",
          "2015-12-29T00:00:00.000000000",
          "2015-12-30T00:00:00.000000000",
          "2015-12-31T00:00:00.000000000",
          "2016-01-04T00:00:00.000000000",
          "2016-01-05T00:00:00.000000000",
          "2016-01-06T00:00:00.000000000",
          "2016-01-07T00:00:00.000000000",
          "2016-01-08T00:00:00.000000000",
          "2016-01-11T00:00:00.000000000",
          "2016-01-12T00:00:00.000000000",
          "2016-01-13T00:00:00.000000000",
          "2016-01-14T00:00:00.000000000",
          "2016-01-15T00:00:00.000000000",
          "2016-01-19T00:00:00.000000000",
          "2016-01-20T00:00:00.000000000",
          "2016-01-21T00:00:00.000000000",
          "2016-01-22T00:00:00.000000000",
          "2016-01-25T00:00:00.000000000",
          "2016-01-26T00:00:00.000000000",
          "2016-01-27T00:00:00.000000000",
          "2016-01-28T00:00:00.000000000",
          "2016-01-29T00:00:00.000000000",
          "2016-02-01T00:00:00.000000000",
          "2016-02-02T00:00:00.000000000",
          "2016-02-03T00:00:00.000000000",
          "2016-02-04T00:00:00.000000000",
          "2016-02-05T00:00:00.000000000",
          "2016-02-08T00:00:00.000000000",
          "2016-02-09T00:00:00.000000000",
          "2016-02-10T00:00:00.000000000",
          "2016-02-11T00:00:00.000000000",
          "2016-02-12T00:00:00.000000000",
          "2016-02-16T00:00:00.000000000",
          "2016-02-17T00:00:00.000000000",
          "2016-02-18T00:00:00.000000000",
          "2016-02-19T00:00:00.000000000",
          "2016-02-22T00:00:00.000000000",
          "2016-02-23T00:00:00.000000000",
          "2016-02-24T00:00:00.000000000",
          "2016-02-25T00:00:00.000000000",
          "2016-02-26T00:00:00.000000000",
          "2016-02-29T00:00:00.000000000",
          "2016-03-01T00:00:00.000000000",
          "2016-03-02T00:00:00.000000000",
          "2016-03-03T00:00:00.000000000",
          "2016-03-04T00:00:00.000000000",
          "2016-03-07T00:00:00.000000000",
          "2016-03-08T00:00:00.000000000",
          "2016-03-09T00:00:00.000000000",
          "2016-03-10T00:00:00.000000000",
          "2016-03-11T00:00:00.000000000",
          "2016-03-14T00:00:00.000000000",
          "2016-03-15T00:00:00.000000000",
          "2016-03-16T00:00:00.000000000",
          "2016-03-17T00:00:00.000000000",
          "2016-03-18T00:00:00.000000000",
          "2016-03-21T00:00:00.000000000",
          "2016-03-22T00:00:00.000000000",
          "2016-03-23T00:00:00.000000000",
          "2016-03-24T00:00:00.000000000",
          "2016-03-28T00:00:00.000000000",
          "2016-03-29T00:00:00.000000000",
          "2016-03-30T00:00:00.000000000",
          "2016-03-31T00:00:00.000000000",
          "2016-04-01T00:00:00.000000000",
          "2016-04-04T00:00:00.000000000",
          "2016-04-05T00:00:00.000000000",
          "2016-04-06T00:00:00.000000000",
          "2016-04-07T00:00:00.000000000",
          "2016-04-08T00:00:00.000000000",
          "2016-04-11T00:00:00.000000000",
          "2016-04-12T00:00:00.000000000",
          "2016-04-13T00:00:00.000000000",
          "2016-04-14T00:00:00.000000000",
          "2016-04-15T00:00:00.000000000",
          "2016-04-18T00:00:00.000000000",
          "2016-04-19T00:00:00.000000000",
          "2016-04-20T00:00:00.000000000",
          "2016-04-21T00:00:00.000000000",
          "2016-04-22T00:00:00.000000000",
          "2016-04-25T00:00:00.000000000",
          "2016-04-26T00:00:00.000000000",
          "2016-04-27T00:00:00.000000000",
          "2016-04-28T00:00:00.000000000",
          "2016-04-29T00:00:00.000000000",
          "2016-05-02T00:00:00.000000000",
          "2016-05-03T00:00:00.000000000",
          "2016-05-04T00:00:00.000000000",
          "2016-05-05T00:00:00.000000000",
          "2016-05-06T00:00:00.000000000",
          "2016-05-09T00:00:00.000000000",
          "2016-05-10T00:00:00.000000000",
          "2016-05-11T00:00:00.000000000",
          "2016-05-12T00:00:00.000000000",
          "2016-05-13T00:00:00.000000000",
          "2016-05-16T00:00:00.000000000",
          "2016-05-17T00:00:00.000000000",
          "2016-05-18T00:00:00.000000000",
          "2016-05-19T00:00:00.000000000",
          "2016-05-20T00:00:00.000000000",
          "2016-05-23T00:00:00.000000000",
          "2016-05-24T00:00:00.000000000",
          "2016-05-25T00:00:00.000000000",
          "2016-05-26T00:00:00.000000000",
          "2016-05-27T00:00:00.000000000",
          "2016-05-31T00:00:00.000000000",
          "2016-06-01T00:00:00.000000000",
          "2016-06-02T00:00:00.000000000",
          "2016-06-03T00:00:00.000000000",
          "2016-06-06T00:00:00.000000000",
          "2016-06-07T00:00:00.000000000",
          "2016-06-08T00:00:00.000000000",
          "2016-06-09T00:00:00.000000000",
          "2016-06-10T00:00:00.000000000",
          "2016-06-13T00:00:00.000000000",
          "2016-06-14T00:00:00.000000000",
          "2016-06-15T00:00:00.000000000",
          "2016-06-16T00:00:00.000000000",
          "2016-06-17T00:00:00.000000000",
          "2016-06-20T00:00:00.000000000",
          "2016-06-21T00:00:00.000000000",
          "2016-06-22T00:00:00.000000000",
          "2016-06-23T00:00:00.000000000",
          "2016-06-24T00:00:00.000000000",
          "2016-06-27T00:00:00.000000000",
          "2016-06-28T00:00:00.000000000",
          "2016-06-29T00:00:00.000000000",
          "2016-06-30T00:00:00.000000000",
          "2016-07-01T00:00:00.000000000",
          "2016-07-05T00:00:00.000000000",
          "2016-07-06T00:00:00.000000000",
          "2016-07-07T00:00:00.000000000",
          "2016-07-08T00:00:00.000000000",
          "2016-07-11T00:00:00.000000000",
          "2016-07-12T00:00:00.000000000",
          "2016-07-13T00:00:00.000000000",
          "2016-07-14T00:00:00.000000000",
          "2016-07-15T00:00:00.000000000",
          "2016-07-18T00:00:00.000000000",
          "2016-07-19T00:00:00.000000000",
          "2016-07-20T00:00:00.000000000",
          "2016-07-21T00:00:00.000000000",
          "2016-07-22T00:00:00.000000000",
          "2016-07-25T00:00:00.000000000",
          "2016-07-26T00:00:00.000000000",
          "2016-07-27T00:00:00.000000000",
          "2016-07-28T00:00:00.000000000",
          "2016-07-29T00:00:00.000000000",
          "2016-08-01T00:00:00.000000000",
          "2016-08-02T00:00:00.000000000",
          "2016-08-03T00:00:00.000000000",
          "2016-08-04T00:00:00.000000000",
          "2016-08-05T00:00:00.000000000",
          "2016-08-08T00:00:00.000000000",
          "2016-08-09T00:00:00.000000000",
          "2016-08-10T00:00:00.000000000",
          "2016-08-11T00:00:00.000000000",
          "2016-08-12T00:00:00.000000000",
          "2016-08-15T00:00:00.000000000",
          "2016-08-16T00:00:00.000000000",
          "2016-08-17T00:00:00.000000000",
          "2016-08-18T00:00:00.000000000",
          "2016-08-19T00:00:00.000000000",
          "2016-08-22T00:00:00.000000000",
          "2016-08-23T00:00:00.000000000",
          "2016-08-24T00:00:00.000000000",
          "2016-08-25T00:00:00.000000000",
          "2016-08-26T00:00:00.000000000",
          "2016-08-29T00:00:00.000000000",
          "2016-08-30T00:00:00.000000000",
          "2016-08-31T00:00:00.000000000",
          "2016-09-01T00:00:00.000000000",
          "2016-09-02T00:00:00.000000000",
          "2016-09-06T00:00:00.000000000",
          "2016-09-07T00:00:00.000000000",
          "2016-09-08T00:00:00.000000000",
          "2016-09-09T00:00:00.000000000",
          "2016-09-12T00:00:00.000000000",
          "2016-09-13T00:00:00.000000000",
          "2016-09-14T00:00:00.000000000",
          "2016-09-15T00:00:00.000000000",
          "2016-09-16T00:00:00.000000000",
          "2016-09-19T00:00:00.000000000",
          "2016-09-20T00:00:00.000000000",
          "2016-09-21T00:00:00.000000000",
          "2016-09-22T00:00:00.000000000",
          "2016-09-23T00:00:00.000000000",
          "2016-09-26T00:00:00.000000000",
          "2016-09-27T00:00:00.000000000",
          "2016-09-28T00:00:00.000000000",
          "2016-09-29T00:00:00.000000000",
          "2016-09-30T00:00:00.000000000",
          "2016-10-03T00:00:00.000000000",
          "2016-10-04T00:00:00.000000000",
          "2016-10-05T00:00:00.000000000",
          "2016-10-06T00:00:00.000000000",
          "2016-10-07T00:00:00.000000000",
          "2016-10-10T00:00:00.000000000",
          "2016-10-11T00:00:00.000000000",
          "2016-10-12T00:00:00.000000000",
          "2016-10-13T00:00:00.000000000",
          "2016-10-14T00:00:00.000000000",
          "2016-10-17T00:00:00.000000000",
          "2016-10-18T00:00:00.000000000",
          "2016-10-19T00:00:00.000000000",
          "2016-10-20T00:00:00.000000000",
          "2016-10-21T00:00:00.000000000",
          "2016-10-24T00:00:00.000000000",
          "2016-10-25T00:00:00.000000000",
          "2016-10-26T00:00:00.000000000",
          "2016-10-27T00:00:00.000000000",
          "2016-10-28T00:00:00.000000000",
          "2016-10-31T00:00:00.000000000",
          "2016-11-01T00:00:00.000000000",
          "2016-11-02T00:00:00.000000000",
          "2016-11-03T00:00:00.000000000",
          "2016-11-04T00:00:00.000000000",
          "2016-11-07T00:00:00.000000000",
          "2016-11-08T00:00:00.000000000",
          "2016-11-09T00:00:00.000000000",
          "2016-11-10T00:00:00.000000000",
          "2016-11-11T00:00:00.000000000",
          "2016-11-14T00:00:00.000000000",
          "2016-11-15T00:00:00.000000000",
          "2016-11-16T00:00:00.000000000",
          "2016-11-17T00:00:00.000000000",
          "2016-11-18T00:00:00.000000000",
          "2016-11-21T00:00:00.000000000",
          "2016-11-22T00:00:00.000000000",
          "2016-11-23T00:00:00.000000000",
          "2016-11-25T00:00:00.000000000",
          "2016-11-28T00:00:00.000000000",
          "2016-11-29T00:00:00.000000000",
          "2016-11-30T00:00:00.000000000",
          "2016-12-01T00:00:00.000000000",
          "2016-12-02T00:00:00.000000000",
          "2016-12-05T00:00:00.000000000",
          "2016-12-06T00:00:00.000000000",
          "2016-12-07T00:00:00.000000000",
          "2016-12-08T00:00:00.000000000",
          "2016-12-09T00:00:00.000000000",
          "2016-12-12T00:00:00.000000000",
          "2016-12-13T00:00:00.000000000",
          "2016-12-14T00:00:00.000000000",
          "2016-12-15T00:00:00.000000000",
          "2016-12-16T00:00:00.000000000",
          "2016-12-19T00:00:00.000000000",
          "2016-12-20T00:00:00.000000000",
          "2016-12-21T00:00:00.000000000",
          "2016-12-22T00:00:00.000000000",
          "2016-12-23T00:00:00.000000000",
          "2016-12-27T00:00:00.000000000",
          "2016-12-28T00:00:00.000000000",
          "2016-12-29T00:00:00.000000000",
          "2016-12-30T00:00:00.000000000",
          "2017-01-03T00:00:00.000000000",
          "2017-01-04T00:00:00.000000000",
          "2017-01-05T00:00:00.000000000",
          "2017-01-06T00:00:00.000000000",
          "2017-01-09T00:00:00.000000000",
          "2017-01-10T00:00:00.000000000",
          "2017-01-11T00:00:00.000000000",
          "2017-01-12T00:00:00.000000000",
          "2017-01-13T00:00:00.000000000",
          "2017-01-17T00:00:00.000000000",
          "2017-01-18T00:00:00.000000000",
          "2017-01-19T00:00:00.000000000",
          "2017-01-20T00:00:00.000000000",
          "2017-01-23T00:00:00.000000000",
          "2017-01-24T00:00:00.000000000",
          "2017-01-25T00:00:00.000000000",
          "2017-01-26T00:00:00.000000000",
          "2017-01-27T00:00:00.000000000",
          "2017-01-30T00:00:00.000000000",
          "2017-01-31T00:00:00.000000000",
          "2017-02-01T00:00:00.000000000",
          "2017-02-02T00:00:00.000000000",
          "2017-02-03T00:00:00.000000000",
          "2017-02-06T00:00:00.000000000",
          "2017-02-07T00:00:00.000000000",
          "2017-02-08T00:00:00.000000000",
          "2017-02-09T00:00:00.000000000",
          "2017-02-10T00:00:00.000000000",
          "2017-02-13T00:00:00.000000000",
          "2017-02-14T00:00:00.000000000",
          "2017-02-15T00:00:00.000000000",
          "2017-02-16T00:00:00.000000000",
          "2017-02-17T00:00:00.000000000",
          "2017-02-21T00:00:00.000000000",
          "2017-02-22T00:00:00.000000000",
          "2017-02-23T00:00:00.000000000",
          "2017-02-24T00:00:00.000000000",
          "2017-02-27T00:00:00.000000000",
          "2017-02-28T00:00:00.000000000",
          "2017-03-01T00:00:00.000000000",
          "2017-03-02T00:00:00.000000000",
          "2017-03-03T00:00:00.000000000",
          "2017-03-06T00:00:00.000000000",
          "2017-03-07T00:00:00.000000000",
          "2017-03-08T00:00:00.000000000",
          "2017-03-09T00:00:00.000000000",
          "2017-03-10T00:00:00.000000000",
          "2017-03-13T00:00:00.000000000",
          "2017-03-14T00:00:00.000000000",
          "2017-03-15T00:00:00.000000000",
          "2017-03-16T00:00:00.000000000",
          "2017-03-17T00:00:00.000000000",
          "2017-03-20T00:00:00.000000000",
          "2017-03-21T00:00:00.000000000",
          "2017-03-22T00:00:00.000000000",
          "2017-03-23T00:00:00.000000000",
          "2017-03-24T00:00:00.000000000",
          "2017-03-27T00:00:00.000000000",
          "2017-03-28T00:00:00.000000000",
          "2017-03-29T00:00:00.000000000",
          "2017-03-30T00:00:00.000000000",
          "2017-03-31T00:00:00.000000000",
          "2017-04-03T00:00:00.000000000",
          "2017-04-04T00:00:00.000000000",
          "2017-04-05T00:00:00.000000000",
          "2017-04-06T00:00:00.000000000",
          "2017-04-07T00:00:00.000000000",
          "2017-04-10T00:00:00.000000000",
          "2017-04-11T00:00:00.000000000",
          "2017-04-12T00:00:00.000000000",
          "2017-04-13T00:00:00.000000000",
          "2017-04-17T00:00:00.000000000",
          "2017-04-18T00:00:00.000000000",
          "2017-04-19T00:00:00.000000000",
          "2017-04-20T00:00:00.000000000",
          "2017-04-21T00:00:00.000000000",
          "2017-04-24T00:00:00.000000000",
          "2017-04-25T00:00:00.000000000",
          "2017-04-26T00:00:00.000000000",
          "2017-04-27T00:00:00.000000000",
          "2017-04-28T00:00:00.000000000",
          "2017-05-01T00:00:00.000000000",
          "2017-05-02T00:00:00.000000000",
          "2017-05-03T00:00:00.000000000",
          "2017-05-04T00:00:00.000000000",
          "2017-05-05T00:00:00.000000000",
          "2017-05-08T00:00:00.000000000",
          "2017-05-09T00:00:00.000000000",
          "2017-05-10T00:00:00.000000000",
          "2017-05-11T00:00:00.000000000",
          "2017-05-12T00:00:00.000000000",
          "2017-05-15T00:00:00.000000000",
          "2017-05-16T00:00:00.000000000",
          "2017-05-17T00:00:00.000000000",
          "2017-05-18T00:00:00.000000000",
          "2017-05-19T00:00:00.000000000",
          "2017-05-22T00:00:00.000000000",
          "2017-05-23T00:00:00.000000000",
          "2017-05-24T00:00:00.000000000",
          "2017-05-25T00:00:00.000000000",
          "2017-05-26T00:00:00.000000000",
          "2017-05-30T00:00:00.000000000",
          "2017-05-31T00:00:00.000000000",
          "2017-06-01T00:00:00.000000000",
          "2017-06-02T00:00:00.000000000",
          "2017-06-05T00:00:00.000000000",
          "2017-06-06T00:00:00.000000000",
          "2017-06-07T00:00:00.000000000",
          "2017-06-08T00:00:00.000000000",
          "2017-06-09T00:00:00.000000000",
          "2017-06-12T00:00:00.000000000",
          "2017-06-13T00:00:00.000000000",
          "2017-06-14T00:00:00.000000000",
          "2017-06-15T00:00:00.000000000",
          "2017-06-16T00:00:00.000000000",
          "2017-06-19T00:00:00.000000000",
          "2017-06-20T00:00:00.000000000",
          "2017-06-21T00:00:00.000000000",
          "2017-06-22T00:00:00.000000000",
          "2017-06-23T00:00:00.000000000",
          "2017-06-26T00:00:00.000000000",
          "2017-06-27T00:00:00.000000000",
          "2017-06-28T00:00:00.000000000",
          "2017-06-29T00:00:00.000000000",
          "2017-06-30T00:00:00.000000000",
          "2017-07-03T00:00:00.000000000",
          "2017-07-05T00:00:00.000000000",
          "2017-07-06T00:00:00.000000000",
          "2017-07-07T00:00:00.000000000",
          "2017-07-10T00:00:00.000000000",
          "2017-07-11T00:00:00.000000000",
          "2017-07-12T00:00:00.000000000",
          "2017-07-13T00:00:00.000000000",
          "2017-07-14T00:00:00.000000000",
          "2017-07-17T00:00:00.000000000",
          "2017-07-18T00:00:00.000000000",
          "2017-07-19T00:00:00.000000000",
          "2017-07-20T00:00:00.000000000",
          "2017-07-21T00:00:00.000000000",
          "2017-07-24T00:00:00.000000000",
          "2017-07-25T00:00:00.000000000",
          "2017-07-26T00:00:00.000000000",
          "2017-07-27T00:00:00.000000000",
          "2017-07-28T00:00:00.000000000",
          "2017-07-31T00:00:00.000000000",
          "2017-08-01T00:00:00.000000000",
          "2017-08-02T00:00:00.000000000",
          "2017-08-03T00:00:00.000000000",
          "2017-08-04T00:00:00.000000000",
          "2017-08-07T00:00:00.000000000",
          "2017-08-08T00:00:00.000000000",
          "2017-08-09T00:00:00.000000000",
          "2017-08-10T00:00:00.000000000",
          "2017-08-11T00:00:00.000000000",
          "2017-08-14T00:00:00.000000000",
          "2017-08-15T00:00:00.000000000",
          "2017-08-16T00:00:00.000000000",
          "2017-08-17T00:00:00.000000000",
          "2017-08-18T00:00:00.000000000",
          "2017-08-21T00:00:00.000000000",
          "2017-08-22T00:00:00.000000000",
          "2017-08-23T00:00:00.000000000",
          "2017-08-24T00:00:00.000000000",
          "2017-08-25T00:00:00.000000000",
          "2017-08-28T00:00:00.000000000",
          "2017-08-29T00:00:00.000000000",
          "2017-08-30T00:00:00.000000000",
          "2017-08-31T00:00:00.000000000",
          "2017-09-01T00:00:00.000000000",
          "2017-09-05T00:00:00.000000000",
          "2017-09-06T00:00:00.000000000",
          "2017-09-07T00:00:00.000000000",
          "2017-09-08T00:00:00.000000000",
          "2017-09-11T00:00:00.000000000",
          "2017-09-12T00:00:00.000000000",
          "2017-09-13T00:00:00.000000000",
          "2017-09-14T00:00:00.000000000",
          "2017-09-15T00:00:00.000000000",
          "2017-09-18T00:00:00.000000000",
          "2017-09-19T00:00:00.000000000",
          "2017-09-20T00:00:00.000000000",
          "2017-09-21T00:00:00.000000000",
          "2017-09-22T00:00:00.000000000",
          "2017-09-25T00:00:00.000000000",
          "2017-09-26T00:00:00.000000000",
          "2017-09-27T00:00:00.000000000",
          "2017-09-28T00:00:00.000000000",
          "2017-09-29T00:00:00.000000000",
          "2017-10-02T00:00:00.000000000",
          "2017-10-03T00:00:00.000000000",
          "2017-10-04T00:00:00.000000000",
          "2017-10-05T00:00:00.000000000",
          "2017-10-06T00:00:00.000000000",
          "2017-10-09T00:00:00.000000000",
          "2017-10-10T00:00:00.000000000",
          "2017-10-11T00:00:00.000000000",
          "2017-10-12T00:00:00.000000000",
          "2017-10-13T00:00:00.000000000",
          "2017-10-16T00:00:00.000000000",
          "2017-10-17T00:00:00.000000000",
          "2017-10-18T00:00:00.000000000",
          "2017-10-19T00:00:00.000000000",
          "2017-10-20T00:00:00.000000000",
          "2017-10-23T00:00:00.000000000",
          "2017-10-24T00:00:00.000000000",
          "2017-10-25T00:00:00.000000000",
          "2017-10-26T00:00:00.000000000",
          "2017-10-27T00:00:00.000000000",
          "2017-10-30T00:00:00.000000000",
          "2017-10-31T00:00:00.000000000",
          "2017-11-01T00:00:00.000000000",
          "2017-11-02T00:00:00.000000000",
          "2017-11-03T00:00:00.000000000",
          "2017-11-06T00:00:00.000000000",
          "2017-11-07T00:00:00.000000000",
          "2017-11-08T00:00:00.000000000",
          "2017-11-09T00:00:00.000000000",
          "2017-11-10T00:00:00.000000000",
          "2017-11-13T00:00:00.000000000",
          "2017-11-14T00:00:00.000000000",
          "2017-11-15T00:00:00.000000000",
          "2017-11-16T00:00:00.000000000",
          "2017-11-17T00:00:00.000000000",
          "2017-11-20T00:00:00.000000000",
          "2017-11-21T00:00:00.000000000",
          "2017-11-22T00:00:00.000000000",
          "2017-11-24T00:00:00.000000000",
          "2017-11-27T00:00:00.000000000",
          "2017-11-28T00:00:00.000000000",
          "2017-11-29T00:00:00.000000000",
          "2017-11-30T00:00:00.000000000",
          "2017-12-01T00:00:00.000000000",
          "2017-12-04T00:00:00.000000000",
          "2017-12-05T00:00:00.000000000",
          "2017-12-06T00:00:00.000000000",
          "2017-12-07T00:00:00.000000000",
          "2017-12-08T00:00:00.000000000",
          "2017-12-11T00:00:00.000000000",
          "2017-12-12T00:00:00.000000000",
          "2017-12-13T00:00:00.000000000",
          "2017-12-14T00:00:00.000000000",
          "2017-12-15T00:00:00.000000000",
          "2017-12-18T00:00:00.000000000",
          "2017-12-19T00:00:00.000000000",
          "2017-12-20T00:00:00.000000000",
          "2017-12-21T00:00:00.000000000",
          "2017-12-22T00:00:00.000000000",
          "2017-12-26T00:00:00.000000000",
          "2017-12-27T00:00:00.000000000",
          "2017-12-28T00:00:00.000000000",
          "2017-12-29T00:00:00.000000000",
          "2018-01-02T00:00:00.000000000",
          "2018-01-03T00:00:00.000000000",
          "2018-01-04T00:00:00.000000000",
          "2018-01-05T00:00:00.000000000",
          "2018-01-08T00:00:00.000000000",
          "2018-01-09T00:00:00.000000000",
          "2018-01-10T00:00:00.000000000",
          "2018-01-11T00:00:00.000000000",
          "2018-01-12T00:00:00.000000000",
          "2018-01-16T00:00:00.000000000",
          "2018-01-17T00:00:00.000000000",
          "2018-01-18T00:00:00.000000000",
          "2018-01-19T00:00:00.000000000",
          "2018-01-22T00:00:00.000000000",
          "2018-01-23T00:00:00.000000000",
          "2018-01-24T00:00:00.000000000",
          "2018-01-25T00:00:00.000000000",
          "2018-01-26T00:00:00.000000000",
          "2018-01-29T00:00:00.000000000",
          "2018-01-30T00:00:00.000000000",
          "2018-01-31T00:00:00.000000000",
          "2018-02-01T00:00:00.000000000",
          "2018-02-02T00:00:00.000000000",
          "2018-02-05T00:00:00.000000000",
          "2018-02-06T00:00:00.000000000",
          "2018-02-07T00:00:00.000000000",
          "2018-02-08T00:00:00.000000000",
          "2018-02-09T00:00:00.000000000",
          "2018-02-12T00:00:00.000000000",
          "2018-02-13T00:00:00.000000000",
          "2018-02-14T00:00:00.000000000",
          "2018-02-15T00:00:00.000000000",
          "2018-02-16T00:00:00.000000000",
          "2018-02-20T00:00:00.000000000",
          "2018-02-21T00:00:00.000000000",
          "2018-02-22T00:00:00.000000000",
          "2018-02-23T00:00:00.000000000",
          "2018-02-26T00:00:00.000000000",
          "2018-02-27T00:00:00.000000000",
          "2018-02-28T00:00:00.000000000",
          "2018-03-01T00:00:00.000000000",
          "2018-03-02T00:00:00.000000000",
          "2018-03-05T00:00:00.000000000",
          "2018-03-06T00:00:00.000000000",
          "2018-03-07T00:00:00.000000000",
          "2018-03-08T00:00:00.000000000",
          "2018-03-09T00:00:00.000000000",
          "2018-03-12T00:00:00.000000000",
          "2018-03-13T00:00:00.000000000",
          "2018-03-14T00:00:00.000000000",
          "2018-03-15T00:00:00.000000000",
          "2018-03-16T00:00:00.000000000",
          "2018-03-19T00:00:00.000000000",
          "2018-03-20T00:00:00.000000000",
          "2018-03-21T00:00:00.000000000",
          "2018-03-22T00:00:00.000000000",
          "2018-03-23T00:00:00.000000000",
          "2018-03-26T00:00:00.000000000",
          "2018-03-27T00:00:00.000000000",
          "2018-03-28T00:00:00.000000000",
          "2018-03-29T00:00:00.000000000",
          "2018-04-02T00:00:00.000000000",
          "2018-04-03T00:00:00.000000000",
          "2018-04-04T00:00:00.000000000",
          "2018-04-05T00:00:00.000000000",
          "2018-04-06T00:00:00.000000000",
          "2018-04-09T00:00:00.000000000",
          "2018-04-10T00:00:00.000000000",
          "2018-04-11T00:00:00.000000000",
          "2018-04-12T00:00:00.000000000",
          "2018-04-13T00:00:00.000000000",
          "2018-04-16T00:00:00.000000000",
          "2018-04-17T00:00:00.000000000",
          "2018-04-18T00:00:00.000000000",
          "2018-04-19T00:00:00.000000000",
          "2018-04-20T00:00:00.000000000",
          "2018-04-23T00:00:00.000000000",
          "2018-04-24T00:00:00.000000000",
          "2018-04-25T00:00:00.000000000",
          "2018-04-26T00:00:00.000000000",
          "2018-04-27T00:00:00.000000000",
          "2018-04-30T00:00:00.000000000",
          "2018-05-01T00:00:00.000000000",
          "2018-05-02T00:00:00.000000000",
          "2018-05-03T00:00:00.000000000",
          "2018-05-04T00:00:00.000000000",
          "2018-05-07T00:00:00.000000000",
          "2018-05-08T00:00:00.000000000",
          "2018-05-09T00:00:00.000000000",
          "2018-05-10T00:00:00.000000000",
          "2018-05-11T00:00:00.000000000",
          "2018-05-14T00:00:00.000000000",
          "2018-05-15T00:00:00.000000000",
          "2018-05-16T00:00:00.000000000",
          "2018-05-17T00:00:00.000000000",
          "2018-05-18T00:00:00.000000000",
          "2018-05-21T00:00:00.000000000",
          "2018-05-22T00:00:00.000000000",
          "2018-05-23T00:00:00.000000000",
          "2018-05-24T00:00:00.000000000",
          "2018-05-25T00:00:00.000000000",
          "2018-05-29T00:00:00.000000000",
          "2018-05-30T00:00:00.000000000",
          "2018-05-31T00:00:00.000000000",
          "2018-06-01T00:00:00.000000000",
          "2018-06-04T00:00:00.000000000",
          "2018-06-05T00:00:00.000000000",
          "2018-06-06T00:00:00.000000000",
          "2018-06-07T00:00:00.000000000",
          "2018-06-08T00:00:00.000000000",
          "2018-06-11T00:00:00.000000000",
          "2018-06-12T00:00:00.000000000",
          "2018-06-13T00:00:00.000000000",
          "2018-06-14T00:00:00.000000000",
          "2018-06-15T00:00:00.000000000",
          "2018-06-18T00:00:00.000000000",
          "2018-06-19T00:00:00.000000000",
          "2018-06-20T00:00:00.000000000",
          "2018-06-21T00:00:00.000000000",
          "2018-06-22T00:00:00.000000000",
          "2018-06-25T00:00:00.000000000",
          "2018-06-26T00:00:00.000000000",
          "2018-06-27T00:00:00.000000000",
          "2018-06-28T00:00:00.000000000",
          "2018-06-29T00:00:00.000000000",
          "2018-07-02T00:00:00.000000000",
          "2018-07-03T00:00:00.000000000",
          "2018-07-05T00:00:00.000000000",
          "2018-07-06T00:00:00.000000000",
          "2018-07-09T00:00:00.000000000",
          "2018-07-10T00:00:00.000000000",
          "2018-07-11T00:00:00.000000000",
          "2018-07-12T00:00:00.000000000",
          "2018-07-13T00:00:00.000000000",
          "2018-07-16T00:00:00.000000000",
          "2018-07-17T00:00:00.000000000",
          "2018-07-18T00:00:00.000000000",
          "2018-07-19T00:00:00.000000000",
          "2018-07-20T00:00:00.000000000",
          "2018-07-23T00:00:00.000000000",
          "2018-07-24T00:00:00.000000000",
          "2018-07-25T00:00:00.000000000",
          "2018-07-26T00:00:00.000000000",
          "2018-07-27T00:00:00.000000000",
          "2018-07-30T00:00:00.000000000",
          "2018-07-31T00:00:00.000000000",
          "2018-08-01T00:00:00.000000000",
          "2018-08-02T00:00:00.000000000",
          "2018-08-03T00:00:00.000000000",
          "2018-08-06T00:00:00.000000000",
          "2018-08-07T00:00:00.000000000",
          "2018-08-08T00:00:00.000000000",
          "2018-08-09T00:00:00.000000000",
          "2018-08-10T00:00:00.000000000",
          "2018-08-13T00:00:00.000000000",
          "2018-08-14T00:00:00.000000000",
          "2018-08-15T00:00:00.000000000",
          "2018-08-16T00:00:00.000000000",
          "2018-08-17T00:00:00.000000000",
          "2018-08-20T00:00:00.000000000",
          "2018-08-21T00:00:00.000000000",
          "2018-08-22T00:00:00.000000000",
          "2018-08-23T00:00:00.000000000",
          "2018-08-24T00:00:00.000000000",
          "2018-08-27T00:00:00.000000000",
          "2018-08-28T00:00:00.000000000",
          "2018-08-29T00:00:00.000000000",
          "2018-08-30T00:00:00.000000000",
          "2018-08-31T00:00:00.000000000",
          "2018-09-04T00:00:00.000000000",
          "2018-09-05T00:00:00.000000000",
          "2018-09-06T00:00:00.000000000",
          "2018-09-07T00:00:00.000000000",
          "2018-09-10T00:00:00.000000000",
          "2018-09-11T00:00:00.000000000",
          "2018-09-12T00:00:00.000000000",
          "2018-09-13T00:00:00.000000000",
          "2018-09-14T00:00:00.000000000",
          "2018-09-17T00:00:00.000000000",
          "2018-09-18T00:00:00.000000000",
          "2018-09-19T00:00:00.000000000",
          "2018-09-20T00:00:00.000000000",
          "2018-09-21T00:00:00.000000000",
          "2018-09-24T00:00:00.000000000",
          "2018-09-25T00:00:00.000000000",
          "2018-09-26T00:00:00.000000000",
          "2018-09-27T00:00:00.000000000",
          "2018-09-28T00:00:00.000000000",
          "2018-10-01T00:00:00.000000000",
          "2018-10-02T00:00:00.000000000",
          "2018-10-03T00:00:00.000000000",
          "2018-10-04T00:00:00.000000000",
          "2018-10-05T00:00:00.000000000",
          "2018-10-08T00:00:00.000000000",
          "2018-10-09T00:00:00.000000000",
          "2018-10-10T00:00:00.000000000",
          "2018-10-11T00:00:00.000000000",
          "2018-10-12T00:00:00.000000000",
          "2018-10-15T00:00:00.000000000",
          "2018-10-16T00:00:00.000000000",
          "2018-10-17T00:00:00.000000000",
          "2018-10-18T00:00:00.000000000",
          "2018-10-19T00:00:00.000000000",
          "2018-10-22T00:00:00.000000000",
          "2018-10-23T00:00:00.000000000",
          "2018-10-24T00:00:00.000000000",
          "2018-10-25T00:00:00.000000000",
          "2018-10-26T00:00:00.000000000",
          "2018-10-29T00:00:00.000000000",
          "2018-10-30T00:00:00.000000000",
          "2018-10-31T00:00:00.000000000",
          "2018-11-01T00:00:00.000000000",
          "2018-11-02T00:00:00.000000000",
          "2018-11-05T00:00:00.000000000",
          "2018-11-06T00:00:00.000000000",
          "2018-11-07T00:00:00.000000000",
          "2018-11-08T00:00:00.000000000",
          "2018-11-09T00:00:00.000000000",
          "2018-11-12T00:00:00.000000000",
          "2018-11-13T00:00:00.000000000",
          "2018-11-14T00:00:00.000000000",
          "2018-11-15T00:00:00.000000000",
          "2018-11-16T00:00:00.000000000",
          "2018-11-19T00:00:00.000000000",
          "2018-11-20T00:00:00.000000000",
          "2018-11-21T00:00:00.000000000",
          "2018-11-23T00:00:00.000000000",
          "2018-11-26T00:00:00.000000000",
          "2018-11-27T00:00:00.000000000",
          "2018-11-28T00:00:00.000000000",
          "2018-11-29T00:00:00.000000000",
          "2018-11-30T00:00:00.000000000",
          "2018-12-03T00:00:00.000000000",
          "2018-12-04T00:00:00.000000000",
          "2018-12-06T00:00:00.000000000",
          "2018-12-07T00:00:00.000000000",
          "2018-12-10T00:00:00.000000000",
          "2018-12-11T00:00:00.000000000",
          "2018-12-12T00:00:00.000000000",
          "2018-12-13T00:00:00.000000000",
          "2018-12-14T00:00:00.000000000",
          "2018-12-17T00:00:00.000000000",
          "2018-12-18T00:00:00.000000000",
          "2018-12-19T00:00:00.000000000",
          "2018-12-20T00:00:00.000000000",
          "2018-12-21T00:00:00.000000000",
          "2018-12-24T00:00:00.000000000",
          "2018-12-26T00:00:00.000000000",
          "2018-12-27T00:00:00.000000000",
          "2018-12-28T00:00:00.000000000",
          "2018-12-31T00:00:00.000000000",
          "2019-01-02T00:00:00.000000000",
          "2019-01-03T00:00:00.000000000",
          "2019-01-04T00:00:00.000000000",
          "2019-01-07T00:00:00.000000000",
          "2019-01-08T00:00:00.000000000",
          "2019-01-09T00:00:00.000000000",
          "2019-01-10T00:00:00.000000000",
          "2019-01-11T00:00:00.000000000",
          "2019-01-14T00:00:00.000000000",
          "2019-01-15T00:00:00.000000000",
          "2019-01-16T00:00:00.000000000",
          "2019-01-17T00:00:00.000000000",
          "2019-01-18T00:00:00.000000000",
          "2019-01-22T00:00:00.000000000",
          "2019-01-23T00:00:00.000000000",
          "2019-01-24T00:00:00.000000000",
          "2019-01-25T00:00:00.000000000",
          "2019-01-28T00:00:00.000000000",
          "2019-01-29T00:00:00.000000000",
          "2019-01-30T00:00:00.000000000",
          "2019-01-31T00:00:00.000000000",
          "2019-02-01T00:00:00.000000000",
          "2019-02-04T00:00:00.000000000",
          "2019-02-05T00:00:00.000000000",
          "2019-02-06T00:00:00.000000000",
          "2019-02-07T00:00:00.000000000",
          "2019-02-08T00:00:00.000000000",
          "2019-02-11T00:00:00.000000000",
          "2019-02-12T00:00:00.000000000",
          "2019-02-13T00:00:00.000000000",
          "2019-02-14T00:00:00.000000000",
          "2019-02-15T00:00:00.000000000",
          "2019-02-19T00:00:00.000000000",
          "2019-02-20T00:00:00.000000000",
          "2019-02-21T00:00:00.000000000",
          "2019-02-22T00:00:00.000000000",
          "2019-02-25T00:00:00.000000000",
          "2019-02-26T00:00:00.000000000",
          "2019-02-27T00:00:00.000000000",
          "2019-02-28T00:00:00.000000000",
          "2019-03-01T00:00:00.000000000",
          "2019-03-04T00:00:00.000000000",
          "2019-03-05T00:00:00.000000000",
          "2019-03-06T00:00:00.000000000",
          "2019-03-07T00:00:00.000000000",
          "2019-03-08T00:00:00.000000000",
          "2019-03-11T00:00:00.000000000",
          "2019-03-12T00:00:00.000000000",
          "2019-03-13T00:00:00.000000000",
          "2019-03-14T00:00:00.000000000",
          "2019-03-15T00:00:00.000000000",
          "2019-03-18T00:00:00.000000000",
          "2019-03-19T00:00:00.000000000",
          "2019-03-20T00:00:00.000000000",
          "2019-03-21T00:00:00.000000000",
          "2019-03-22T00:00:00.000000000",
          "2019-03-25T00:00:00.000000000",
          "2019-03-26T00:00:00.000000000",
          "2019-03-27T00:00:00.000000000",
          "2019-03-28T00:00:00.000000000",
          "2019-03-29T00:00:00.000000000",
          "2019-04-01T00:00:00.000000000",
          "2019-04-02T00:00:00.000000000",
          "2019-04-03T00:00:00.000000000",
          "2019-04-04T00:00:00.000000000",
          "2019-04-05T00:00:00.000000000",
          "2019-04-08T00:00:00.000000000",
          "2019-04-09T00:00:00.000000000",
          "2019-04-10T00:00:00.000000000",
          "2019-04-11T00:00:00.000000000",
          "2019-04-12T00:00:00.000000000",
          "2019-04-15T00:00:00.000000000",
          "2019-04-16T00:00:00.000000000",
          "2019-04-17T00:00:00.000000000",
          "2019-04-18T00:00:00.000000000",
          "2019-04-22T00:00:00.000000000",
          "2019-04-23T00:00:00.000000000",
          "2019-04-24T00:00:00.000000000",
          "2019-04-25T00:00:00.000000000",
          "2019-04-26T00:00:00.000000000",
          "2019-04-29T00:00:00.000000000",
          "2019-04-30T00:00:00.000000000",
          "2019-05-01T00:00:00.000000000",
          "2019-05-02T00:00:00.000000000",
          "2019-05-03T00:00:00.000000000",
          "2019-05-06T00:00:00.000000000",
          "2019-05-07T00:00:00.000000000",
          "2019-05-08T00:00:00.000000000",
          "2019-05-09T00:00:00.000000000",
          "2019-05-10T00:00:00.000000000",
          "2019-05-13T00:00:00.000000000",
          "2019-05-14T00:00:00.000000000",
          "2019-05-15T00:00:00.000000000",
          "2019-05-16T00:00:00.000000000",
          "2019-05-17T00:00:00.000000000",
          "2019-05-20T00:00:00.000000000",
          "2019-05-21T00:00:00.000000000",
          "2019-05-22T00:00:00.000000000",
          "2019-05-23T00:00:00.000000000",
          "2019-05-24T00:00:00.000000000",
          "2019-05-28T00:00:00.000000000",
          "2019-05-29T00:00:00.000000000",
          "2019-05-30T00:00:00.000000000",
          "2019-05-31T00:00:00.000000000",
          "2019-06-03T00:00:00.000000000",
          "2019-06-04T00:00:00.000000000",
          "2019-06-05T00:00:00.000000000",
          "2019-06-06T00:00:00.000000000",
          "2019-06-07T00:00:00.000000000",
          "2019-06-10T00:00:00.000000000",
          "2019-06-11T00:00:00.000000000",
          "2019-06-12T00:00:00.000000000",
          "2019-06-13T00:00:00.000000000",
          "2019-06-14T00:00:00.000000000",
          "2019-06-17T00:00:00.000000000",
          "2019-06-18T00:00:00.000000000",
          "2019-06-19T00:00:00.000000000",
          "2019-06-20T00:00:00.000000000",
          "2019-06-21T00:00:00.000000000",
          "2019-06-24T00:00:00.000000000",
          "2019-06-25T00:00:00.000000000",
          "2019-06-26T00:00:00.000000000",
          "2019-06-27T00:00:00.000000000",
          "2019-06-28T00:00:00.000000000",
          "2019-07-01T00:00:00.000000000",
          "2019-07-02T00:00:00.000000000",
          "2019-07-03T00:00:00.000000000",
          "2019-07-05T00:00:00.000000000",
          "2019-07-08T00:00:00.000000000",
          "2019-07-09T00:00:00.000000000",
          "2019-07-10T00:00:00.000000000",
          "2019-07-11T00:00:00.000000000",
          "2019-07-12T00:00:00.000000000",
          "2019-07-15T00:00:00.000000000",
          "2019-07-16T00:00:00.000000000",
          "2019-07-17T00:00:00.000000000",
          "2019-07-18T00:00:00.000000000",
          "2019-07-19T00:00:00.000000000",
          "2019-07-22T00:00:00.000000000",
          "2019-07-23T00:00:00.000000000",
          "2019-07-24T00:00:00.000000000",
          "2019-07-25T00:00:00.000000000",
          "2019-07-26T00:00:00.000000000",
          "2019-07-29T00:00:00.000000000",
          "2019-07-30T00:00:00.000000000",
          "2019-07-31T00:00:00.000000000",
          "2019-08-01T00:00:00.000000000",
          "2019-08-02T00:00:00.000000000",
          "2019-08-05T00:00:00.000000000",
          "2019-08-06T00:00:00.000000000",
          "2019-08-07T00:00:00.000000000",
          "2019-08-08T00:00:00.000000000",
          "2019-08-09T00:00:00.000000000",
          "2019-08-12T00:00:00.000000000",
          "2019-08-13T00:00:00.000000000",
          "2019-08-14T00:00:00.000000000",
          "2019-08-15T00:00:00.000000000",
          "2019-08-16T00:00:00.000000000",
          "2019-08-19T00:00:00.000000000",
          "2019-08-20T00:00:00.000000000",
          "2019-08-21T00:00:00.000000000",
          "2019-08-22T00:00:00.000000000",
          "2019-08-23T00:00:00.000000000",
          "2019-08-26T00:00:00.000000000",
          "2019-08-27T00:00:00.000000000",
          "2019-08-28T00:00:00.000000000",
          "2019-08-29T00:00:00.000000000",
          "2019-08-30T00:00:00.000000000",
          "2019-09-03T00:00:00.000000000",
          "2019-09-04T00:00:00.000000000",
          "2019-09-05T00:00:00.000000000",
          "2019-09-06T00:00:00.000000000",
          "2019-09-09T00:00:00.000000000",
          "2019-09-10T00:00:00.000000000",
          "2019-09-11T00:00:00.000000000",
          "2019-09-12T00:00:00.000000000",
          "2019-09-13T00:00:00.000000000",
          "2019-09-16T00:00:00.000000000",
          "2019-09-17T00:00:00.000000000",
          "2019-09-18T00:00:00.000000000",
          "2019-09-19T00:00:00.000000000",
          "2019-09-20T00:00:00.000000000",
          "2019-09-23T00:00:00.000000000",
          "2019-09-24T00:00:00.000000000",
          "2019-09-25T00:00:00.000000000",
          "2019-09-26T00:00:00.000000000",
          "2019-09-27T00:00:00.000000000",
          "2019-09-30T00:00:00.000000000",
          "2019-10-01T00:00:00.000000000",
          "2019-10-02T00:00:00.000000000",
          "2019-10-03T00:00:00.000000000",
          "2019-10-04T00:00:00.000000000",
          "2019-10-07T00:00:00.000000000",
          "2019-10-08T00:00:00.000000000",
          "2019-10-09T00:00:00.000000000",
          "2019-10-10T00:00:00.000000000",
          "2019-10-11T00:00:00.000000000",
          "2019-10-14T00:00:00.000000000",
          "2019-10-15T00:00:00.000000000",
          "2019-10-16T00:00:00.000000000",
          "2019-10-17T00:00:00.000000000",
          "2019-10-18T00:00:00.000000000",
          "2019-10-21T00:00:00.000000000",
          "2019-10-22T00:00:00.000000000",
          "2019-10-23T00:00:00.000000000",
          "2019-10-24T00:00:00.000000000",
          "2019-10-25T00:00:00.000000000",
          "2019-10-28T00:00:00.000000000",
          "2019-10-29T00:00:00.000000000",
          "2019-10-30T00:00:00.000000000",
          "2019-10-31T00:00:00.000000000",
          "2019-11-01T00:00:00.000000000",
          "2019-11-04T00:00:00.000000000",
          "2019-11-05T00:00:00.000000000",
          "2019-11-06T00:00:00.000000000",
          "2019-11-07T00:00:00.000000000",
          "2019-11-08T00:00:00.000000000",
          "2019-11-11T00:00:00.000000000",
          "2019-11-12T00:00:00.000000000",
          "2019-11-13T00:00:00.000000000",
          "2019-11-14T00:00:00.000000000",
          "2019-11-15T00:00:00.000000000",
          "2019-11-18T00:00:00.000000000",
          "2019-11-19T00:00:00.000000000",
          "2019-11-20T00:00:00.000000000",
          "2019-11-21T00:00:00.000000000",
          "2019-11-22T00:00:00.000000000",
          "2019-11-25T00:00:00.000000000",
          "2019-11-26T00:00:00.000000000",
          "2019-11-27T00:00:00.000000000",
          "2019-11-29T00:00:00.000000000",
          "2019-12-02T00:00:00.000000000",
          "2019-12-03T00:00:00.000000000",
          "2019-12-04T00:00:00.000000000",
          "2019-12-05T00:00:00.000000000",
          "2019-12-06T00:00:00.000000000",
          "2019-12-09T00:00:00.000000000",
          "2019-12-10T00:00:00.000000000",
          "2019-12-11T00:00:00.000000000",
          "2019-12-12T00:00:00.000000000",
          "2019-12-13T00:00:00.000000000",
          "2019-12-16T00:00:00.000000000",
          "2019-12-17T00:00:00.000000000",
          "2019-12-18T00:00:00.000000000",
          "2019-12-19T00:00:00.000000000",
          "2019-12-20T00:00:00.000000000",
          "2019-12-23T00:00:00.000000000",
          "2019-12-24T00:00:00.000000000",
          "2019-12-26T00:00:00.000000000",
          "2019-12-27T00:00:00.000000000",
          "2019-12-30T00:00:00.000000000",
          "2019-12-31T00:00:00.000000000",
          "2020-01-02T00:00:00.000000000",
          "2020-01-03T00:00:00.000000000",
          "2020-01-06T00:00:00.000000000",
          "2020-01-07T00:00:00.000000000",
          "2020-01-08T00:00:00.000000000",
          "2020-01-09T00:00:00.000000000",
          "2020-01-10T00:00:00.000000000",
          "2020-01-13T00:00:00.000000000",
          "2020-01-14T00:00:00.000000000",
          "2020-01-15T00:00:00.000000000",
          "2020-01-16T00:00:00.000000000",
          "2020-01-17T00:00:00.000000000",
          "2020-01-21T00:00:00.000000000",
          "2020-01-22T00:00:00.000000000",
          "2020-01-23T00:00:00.000000000",
          "2020-01-24T00:00:00.000000000",
          "2020-01-27T00:00:00.000000000",
          "2020-01-28T00:00:00.000000000",
          "2020-01-29T00:00:00.000000000",
          "2020-01-30T00:00:00.000000000",
          "2020-01-31T00:00:00.000000000",
          "2020-02-03T00:00:00.000000000",
          "2020-02-04T00:00:00.000000000",
          "2020-02-05T00:00:00.000000000",
          "2020-02-06T00:00:00.000000000",
          "2020-02-07T00:00:00.000000000",
          "2020-02-10T00:00:00.000000000",
          "2020-02-11T00:00:00.000000000",
          "2020-02-12T00:00:00.000000000",
          "2020-02-13T00:00:00.000000000",
          "2020-02-14T00:00:00.000000000",
          "2020-02-18T00:00:00.000000000",
          "2020-02-19T00:00:00.000000000",
          "2020-02-20T00:00:00.000000000",
          "2020-02-21T00:00:00.000000000",
          "2020-02-24T00:00:00.000000000",
          "2020-02-25T00:00:00.000000000",
          "2020-02-26T00:00:00.000000000",
          "2020-02-27T00:00:00.000000000",
          "2020-02-28T00:00:00.000000000",
          "2020-03-02T00:00:00.000000000",
          "2020-03-03T00:00:00.000000000",
          "2020-03-04T00:00:00.000000000",
          "2020-03-05T00:00:00.000000000",
          "2020-03-06T00:00:00.000000000",
          "2020-03-09T00:00:00.000000000",
          "2020-03-10T00:00:00.000000000",
          "2020-03-11T00:00:00.000000000",
          "2020-03-12T00:00:00.000000000",
          "2020-03-13T00:00:00.000000000",
          "2020-03-16T00:00:00.000000000",
          "2020-03-17T00:00:00.000000000",
          "2020-03-18T00:00:00.000000000",
          "2020-03-19T00:00:00.000000000",
          "2020-03-20T00:00:00.000000000",
          "2020-03-23T00:00:00.000000000",
          "2020-03-24T00:00:00.000000000",
          "2020-03-25T00:00:00.000000000",
          "2020-03-26T00:00:00.000000000",
          "2020-03-27T00:00:00.000000000",
          "2020-03-30T00:00:00.000000000",
          "2020-03-31T00:00:00.000000000",
          "2020-04-01T00:00:00.000000000",
          "2020-04-02T00:00:00.000000000",
          "2020-04-03T00:00:00.000000000",
          "2020-04-06T00:00:00.000000000",
          "2020-04-07T00:00:00.000000000",
          "2020-04-08T00:00:00.000000000",
          "2020-04-09T00:00:00.000000000",
          "2020-04-13T00:00:00.000000000",
          "2020-04-14T00:00:00.000000000",
          "2020-04-15T00:00:00.000000000",
          "2020-04-16T00:00:00.000000000",
          "2020-04-17T00:00:00.000000000",
          "2020-04-20T00:00:00.000000000",
          "2020-04-21T00:00:00.000000000",
          "2020-04-22T00:00:00.000000000",
          "2020-04-23T00:00:00.000000000",
          "2020-04-24T00:00:00.000000000",
          "2020-04-27T00:00:00.000000000",
          "2020-04-28T00:00:00.000000000",
          "2020-04-29T00:00:00.000000000",
          "2020-04-30T00:00:00.000000000",
          "2020-05-01T00:00:00.000000000",
          "2020-05-04T00:00:00.000000000",
          "2020-05-05T00:00:00.000000000",
          "2020-05-06T00:00:00.000000000",
          "2020-05-07T00:00:00.000000000",
          "2020-05-08T00:00:00.000000000",
          "2020-05-11T00:00:00.000000000",
          "2020-05-12T00:00:00.000000000",
          "2020-05-13T00:00:00.000000000",
          "2020-05-14T00:00:00.000000000",
          "2020-05-15T00:00:00.000000000",
          "2020-05-18T00:00:00.000000000",
          "2020-05-19T00:00:00.000000000",
          "2020-05-20T00:00:00.000000000",
          "2020-05-21T00:00:00.000000000",
          "2020-05-22T00:00:00.000000000",
          "2020-05-26T00:00:00.000000000",
          "2020-05-27T00:00:00.000000000",
          "2020-05-28T00:00:00.000000000",
          "2020-05-29T00:00:00.000000000",
          "2020-06-01T00:00:00.000000000",
          "2020-06-02T00:00:00.000000000",
          "2020-06-03T00:00:00.000000000",
          "2020-06-04T00:00:00.000000000",
          "2020-06-05T00:00:00.000000000",
          "2020-06-08T00:00:00.000000000",
          "2020-06-09T00:00:00.000000000",
          "2020-06-10T00:00:00.000000000",
          "2020-06-11T00:00:00.000000000",
          "2020-06-12T00:00:00.000000000",
          "2020-06-15T00:00:00.000000000",
          "2020-06-16T00:00:00.000000000",
          "2020-06-17T00:00:00.000000000",
          "2020-06-18T00:00:00.000000000",
          "2020-06-19T00:00:00.000000000",
          "2020-06-22T00:00:00.000000000",
          "2020-06-23T00:00:00.000000000",
          "2020-06-24T00:00:00.000000000",
          "2020-06-25T00:00:00.000000000",
          "2020-06-26T00:00:00.000000000",
          "2020-06-29T00:00:00.000000000",
          "2020-06-30T00:00:00.000000000",
          "2020-07-01T00:00:00.000000000",
          "2020-07-02T00:00:00.000000000",
          "2020-07-06T00:00:00.000000000",
          "2020-07-07T00:00:00.000000000",
          "2020-07-08T00:00:00.000000000",
          "2020-07-09T00:00:00.000000000",
          "2020-07-10T00:00:00.000000000",
          "2020-07-13T00:00:00.000000000",
          "2020-07-14T00:00:00.000000000",
          "2020-07-15T00:00:00.000000000",
          "2020-07-16T00:00:00.000000000",
          "2020-07-17T00:00:00.000000000",
          "2020-07-20T00:00:00.000000000",
          "2020-07-21T00:00:00.000000000",
          "2020-07-22T00:00:00.000000000",
          "2020-07-23T00:00:00.000000000",
          "2020-07-24T00:00:00.000000000",
          "2020-07-27T00:00:00.000000000",
          "2020-07-28T00:00:00.000000000",
          "2020-07-29T00:00:00.000000000",
          "2020-07-30T00:00:00.000000000",
          "2020-07-31T00:00:00.000000000",
          "2020-08-03T00:00:00.000000000",
          "2020-08-04T00:00:00.000000000",
          "2020-08-05T00:00:00.000000000",
          "2020-08-06T00:00:00.000000000",
          "2020-08-07T00:00:00.000000000",
          "2020-08-10T00:00:00.000000000",
          "2020-08-11T00:00:00.000000000",
          "2020-08-12T00:00:00.000000000",
          "2020-08-13T00:00:00.000000000",
          "2020-08-14T00:00:00.000000000",
          "2020-08-17T00:00:00.000000000",
          "2020-08-18T00:00:00.000000000",
          "2020-08-19T00:00:00.000000000",
          "2020-08-20T00:00:00.000000000",
          "2020-08-21T00:00:00.000000000",
          "2020-08-24T00:00:00.000000000",
          "2020-08-25T00:00:00.000000000",
          "2020-08-26T00:00:00.000000000",
          "2020-08-27T00:00:00.000000000",
          "2020-08-28T00:00:00.000000000",
          "2020-08-31T00:00:00.000000000",
          "2020-09-01T00:00:00.000000000",
          "2020-09-02T00:00:00.000000000",
          "2020-09-03T00:00:00.000000000",
          "2020-09-04T00:00:00.000000000",
          "2020-09-08T00:00:00.000000000",
          "2020-09-09T00:00:00.000000000",
          "2020-09-10T00:00:00.000000000",
          "2020-09-11T00:00:00.000000000",
          "2020-09-14T00:00:00.000000000",
          "2020-09-15T00:00:00.000000000",
          "2020-09-16T00:00:00.000000000",
          "2020-09-17T00:00:00.000000000",
          "2020-09-18T00:00:00.000000000",
          "2020-09-21T00:00:00.000000000",
          "2020-09-22T00:00:00.000000000",
          "2020-09-23T00:00:00.000000000",
          "2020-09-24T00:00:00.000000000",
          "2020-09-25T00:00:00.000000000",
          "2020-09-28T00:00:00.000000000",
          "2020-09-29T00:00:00.000000000",
          "2020-09-30T00:00:00.000000000",
          "2020-10-01T00:00:00.000000000",
          "2020-10-02T00:00:00.000000000",
          "2020-10-05T00:00:00.000000000",
          "2020-10-06T00:00:00.000000000",
          "2020-10-07T00:00:00.000000000",
          "2020-10-08T00:00:00.000000000",
          "2020-10-09T00:00:00.000000000",
          "2020-10-12T00:00:00.000000000",
          "2020-10-13T00:00:00.000000000",
          "2020-10-14T00:00:00.000000000",
          "2020-10-15T00:00:00.000000000",
          "2020-10-16T00:00:00.000000000",
          "2020-10-19T00:00:00.000000000",
          "2020-10-20T00:00:00.000000000",
          "2020-10-21T00:00:00.000000000",
          "2020-10-22T00:00:00.000000000",
          "2020-10-23T00:00:00.000000000",
          "2020-10-26T00:00:00.000000000",
          "2020-10-27T00:00:00.000000000",
          "2020-10-28T00:00:00.000000000",
          "2020-10-29T00:00:00.000000000",
          "2020-10-30T00:00:00.000000000",
          "2020-11-02T00:00:00.000000000",
          "2020-11-03T00:00:00.000000000",
          "2020-11-04T00:00:00.000000000",
          "2020-11-05T00:00:00.000000000",
          "2020-11-06T00:00:00.000000000",
          "2020-11-09T00:00:00.000000000",
          "2020-11-10T00:00:00.000000000",
          "2020-11-11T00:00:00.000000000",
          "2020-11-12T00:00:00.000000000",
          "2020-11-13T00:00:00.000000000",
          "2020-11-16T00:00:00.000000000",
          "2020-11-17T00:00:00.000000000",
          "2020-11-18T00:00:00.000000000",
          "2020-11-19T00:00:00.000000000",
          "2020-11-20T00:00:00.000000000",
          "2020-11-23T00:00:00.000000000",
          "2020-11-24T00:00:00.000000000",
          "2020-11-25T00:00:00.000000000",
          "2020-11-27T00:00:00.000000000",
          "2020-11-30T00:00:00.000000000",
          "2020-12-01T00:00:00.000000000",
          "2020-12-02T00:00:00.000000000",
          "2020-12-03T00:00:00.000000000",
          "2020-12-04T00:00:00.000000000",
          "2020-12-07T00:00:00.000000000",
          "2020-12-08T00:00:00.000000000",
          "2020-12-09T00:00:00.000000000",
          "2020-12-10T00:00:00.000000000",
          "2020-12-11T00:00:00.000000000",
          "2020-12-14T00:00:00.000000000",
          "2020-12-15T00:00:00.000000000",
          "2020-12-16T00:00:00.000000000",
          "2020-12-17T00:00:00.000000000",
          "2020-12-18T00:00:00.000000000",
          "2020-12-21T00:00:00.000000000",
          "2020-12-22T00:00:00.000000000",
          "2020-12-23T00:00:00.000000000",
          "2020-12-24T00:00:00.000000000",
          "2020-12-28T00:00:00.000000000",
          "2020-12-29T00:00:00.000000000",
          "2020-12-30T00:00:00.000000000",
          "2020-12-31T00:00:00.000000000",
          "2021-01-04T00:00:00.000000000",
          "2021-01-05T00:00:00.000000000",
          "2021-01-06T00:00:00.000000000",
          "2021-01-07T00:00:00.000000000",
          "2021-01-08T00:00:00.000000000",
          "2021-01-11T00:00:00.000000000",
          "2021-01-12T00:00:00.000000000",
          "2021-01-13T00:00:00.000000000",
          "2021-01-14T00:00:00.000000000",
          "2021-01-15T00:00:00.000000000",
          "2021-01-19T00:00:00.000000000",
          "2021-01-20T00:00:00.000000000",
          "2021-01-21T00:00:00.000000000",
          "2021-01-22T00:00:00.000000000",
          "2021-01-25T00:00:00.000000000",
          "2021-01-26T00:00:00.000000000",
          "2021-01-27T00:00:00.000000000",
          "2021-01-28T00:00:00.000000000",
          "2021-01-29T00:00:00.000000000",
          "2021-02-01T00:00:00.000000000",
          "2021-02-02T00:00:00.000000000",
          "2021-02-03T00:00:00.000000000",
          "2021-02-04T00:00:00.000000000",
          "2021-02-05T00:00:00.000000000",
          "2021-02-08T00:00:00.000000000",
          "2021-02-09T00:00:00.000000000",
          "2021-02-10T00:00:00.000000000",
          "2021-02-11T00:00:00.000000000",
          "2021-02-12T00:00:00.000000000",
          "2021-02-16T00:00:00.000000000",
          "2021-02-17T00:00:00.000000000",
          "2021-02-18T00:00:00.000000000",
          "2021-02-19T00:00:00.000000000",
          "2021-02-22T00:00:00.000000000",
          "2021-02-23T00:00:00.000000000",
          "2021-02-24T00:00:00.000000000",
          "2021-02-25T00:00:00.000000000",
          "2021-02-26T00:00:00.000000000",
          "2021-03-01T00:00:00.000000000",
          "2021-03-02T00:00:00.000000000",
          "2021-03-03T00:00:00.000000000",
          "2021-03-04T00:00:00.000000000",
          "2021-03-05T00:00:00.000000000",
          "2021-03-08T00:00:00.000000000",
          "2021-03-09T00:00:00.000000000",
          "2021-03-10T00:00:00.000000000",
          "2021-03-11T00:00:00.000000000",
          "2021-03-12T00:00:00.000000000",
          "2021-03-15T00:00:00.000000000",
          "2021-03-16T00:00:00.000000000",
          "2021-03-17T00:00:00.000000000",
          "2021-03-18T00:00:00.000000000",
          "2021-03-19T00:00:00.000000000",
          "2021-03-22T00:00:00.000000000",
          "2021-03-23T00:00:00.000000000",
          "2021-03-24T00:00:00.000000000",
          "2021-03-25T00:00:00.000000000",
          "2021-03-26T00:00:00.000000000",
          "2021-03-29T00:00:00.000000000",
          "2021-03-30T00:00:00.000000000",
          "2021-03-31T00:00:00.000000000",
          "2021-04-01T00:00:00.000000000",
          "2021-04-05T00:00:00.000000000",
          "2021-04-06T00:00:00.000000000",
          "2021-04-07T00:00:00.000000000",
          "2021-04-08T00:00:00.000000000",
          "2021-04-09T00:00:00.000000000",
          "2021-04-12T00:00:00.000000000",
          "2021-04-13T00:00:00.000000000",
          "2021-04-14T00:00:00.000000000",
          "2021-04-15T00:00:00.000000000",
          "2021-04-16T00:00:00.000000000",
          "2021-04-19T00:00:00.000000000",
          "2021-04-20T00:00:00.000000000",
          "2021-04-21T00:00:00.000000000",
          "2021-04-22T00:00:00.000000000",
          "2021-04-23T00:00:00.000000000",
          "2021-04-26T00:00:00.000000000",
          "2021-04-27T00:00:00.000000000",
          "2021-04-28T00:00:00.000000000",
          "2021-04-29T00:00:00.000000000",
          "2021-04-30T00:00:00.000000000",
          "2021-05-03T00:00:00.000000000",
          "2021-05-04T00:00:00.000000000",
          "2021-05-05T00:00:00.000000000",
          "2021-05-06T00:00:00.000000000",
          "2021-05-07T00:00:00.000000000",
          "2021-05-10T00:00:00.000000000",
          "2021-05-11T00:00:00.000000000",
          "2021-05-12T00:00:00.000000000",
          "2021-05-13T00:00:00.000000000",
          "2021-05-14T00:00:00.000000000",
          "2021-05-17T00:00:00.000000000",
          "2021-05-18T00:00:00.000000000",
          "2021-05-19T00:00:00.000000000",
          "2021-05-20T00:00:00.000000000",
          "2021-05-21T00:00:00.000000000",
          "2021-05-24T00:00:00.000000000",
          "2021-05-25T00:00:00.000000000",
          "2021-05-26T00:00:00.000000000",
          "2021-05-27T00:00:00.000000000",
          "2021-05-28T00:00:00.000000000",
          "2021-06-01T00:00:00.000000000",
          "2021-06-02T00:00:00.000000000",
          "2021-06-03T00:00:00.000000000",
          "2021-06-04T00:00:00.000000000",
          "2021-06-07T00:00:00.000000000",
          "2021-06-08T00:00:00.000000000",
          "2021-06-09T00:00:00.000000000",
          "2021-06-10T00:00:00.000000000",
          "2021-06-11T00:00:00.000000000",
          "2021-06-14T00:00:00.000000000",
          "2021-06-15T00:00:00.000000000",
          "2021-06-16T00:00:00.000000000",
          "2021-06-17T00:00:00.000000000",
          "2021-06-18T00:00:00.000000000",
          "2021-06-21T00:00:00.000000000",
          "2021-06-22T00:00:00.000000000",
          "2021-06-23T00:00:00.000000000",
          "2021-06-24T00:00:00.000000000",
          "2021-06-25T00:00:00.000000000",
          "2021-06-28T00:00:00.000000000",
          "2021-06-29T00:00:00.000000000",
          "2021-06-30T00:00:00.000000000",
          "2021-07-01T00:00:00.000000000",
          "2021-07-02T00:00:00.000000000",
          "2021-07-06T00:00:00.000000000",
          "2021-07-07T00:00:00.000000000",
          "2021-07-08T00:00:00.000000000",
          "2021-07-09T00:00:00.000000000",
          "2021-07-12T00:00:00.000000000",
          "2021-07-13T00:00:00.000000000",
          "2021-07-14T00:00:00.000000000",
          "2021-07-15T00:00:00.000000000",
          "2021-07-16T00:00:00.000000000",
          "2021-07-19T00:00:00.000000000",
          "2021-07-20T00:00:00.000000000",
          "2021-07-21T00:00:00.000000000",
          "2021-07-22T00:00:00.000000000",
          "2021-07-23T00:00:00.000000000",
          "2021-07-26T00:00:00.000000000",
          "2021-07-27T00:00:00.000000000",
          "2021-07-28T00:00:00.000000000",
          "2021-07-29T00:00:00.000000000",
          "2021-07-30T00:00:00.000000000",
          "2021-08-02T00:00:00.000000000",
          "2021-08-03T00:00:00.000000000",
          "2021-08-04T00:00:00.000000000",
          "2021-08-05T00:00:00.000000000",
          "2021-08-06T00:00:00.000000000",
          "2021-08-09T00:00:00.000000000",
          "2021-08-10T00:00:00.000000000",
          "2021-08-11T00:00:00.000000000",
          "2021-08-12T00:00:00.000000000",
          "2021-08-13T00:00:00.000000000",
          "2021-08-16T00:00:00.000000000",
          "2021-08-17T00:00:00.000000000",
          "2021-08-18T00:00:00.000000000",
          "2021-08-19T00:00:00.000000000",
          "2021-08-20T00:00:00.000000000",
          "2021-08-23T00:00:00.000000000",
          "2021-08-24T00:00:00.000000000",
          "2021-08-25T00:00:00.000000000",
          "2021-08-26T00:00:00.000000000",
          "2021-08-27T00:00:00.000000000",
          "2021-08-30T00:00:00.000000000",
          "2021-08-31T00:00:00.000000000",
          "2021-09-01T00:00:00.000000000",
          "2021-09-02T00:00:00.000000000",
          "2021-09-03T00:00:00.000000000",
          "2021-09-07T00:00:00.000000000",
          "2021-09-08T00:00:00.000000000",
          "2021-09-09T00:00:00.000000000",
          "2021-09-10T00:00:00.000000000",
          "2021-09-13T00:00:00.000000000",
          "2021-09-14T00:00:00.000000000",
          "2021-09-15T00:00:00.000000000",
          "2021-09-16T00:00:00.000000000",
          "2021-09-17T00:00:00.000000000",
          "2021-09-20T00:00:00.000000000",
          "2021-09-21T00:00:00.000000000",
          "2021-09-22T00:00:00.000000000",
          "2021-09-23T00:00:00.000000000",
          "2021-09-24T00:00:00.000000000",
          "2021-09-27T00:00:00.000000000",
          "2021-09-28T00:00:00.000000000",
          "2021-09-29T00:00:00.000000000",
          "2021-09-30T00:00:00.000000000",
          "2021-10-01T00:00:00.000000000",
          "2021-10-04T00:00:00.000000000",
          "2021-10-05T00:00:00.000000000",
          "2021-10-06T00:00:00.000000000",
          "2021-10-07T00:00:00.000000000",
          "2021-10-08T00:00:00.000000000",
          "2021-10-11T00:00:00.000000000",
          "2021-10-12T00:00:00.000000000",
          "2021-10-13T00:00:00.000000000",
          "2021-10-14T00:00:00.000000000",
          "2021-10-15T00:00:00.000000000",
          "2021-10-18T00:00:00.000000000",
          "2021-10-19T00:00:00.000000000",
          "2021-10-20T00:00:00.000000000",
          "2021-10-21T00:00:00.000000000",
          "2021-10-22T00:00:00.000000000",
          "2021-10-25T00:00:00.000000000",
          "2021-10-26T00:00:00.000000000",
          "2021-10-27T00:00:00.000000000",
          "2021-10-28T00:00:00.000000000",
          "2021-10-29T00:00:00.000000000",
          "2021-11-01T00:00:00.000000000",
          "2021-11-02T00:00:00.000000000",
          "2021-11-03T00:00:00.000000000",
          "2021-11-04T00:00:00.000000000",
          "2021-11-05T00:00:00.000000000",
          "2021-11-08T00:00:00.000000000",
          "2021-11-09T00:00:00.000000000",
          "2021-11-10T00:00:00.000000000",
          "2021-11-11T00:00:00.000000000",
          "2021-11-12T00:00:00.000000000",
          "2021-11-15T00:00:00.000000000",
          "2021-11-16T00:00:00.000000000",
          "2021-11-17T00:00:00.000000000",
          "2021-11-18T00:00:00.000000000",
          "2021-11-19T00:00:00.000000000",
          "2021-11-22T00:00:00.000000000",
          "2021-11-23T00:00:00.000000000",
          "2021-11-24T00:00:00.000000000",
          "2021-11-26T00:00:00.000000000",
          "2021-11-29T00:00:00.000000000",
          "2021-11-30T00:00:00.000000000",
          "2021-12-01T00:00:00.000000000",
          "2021-12-02T00:00:00.000000000",
          "2021-12-03T00:00:00.000000000",
          "2021-12-06T00:00:00.000000000",
          "2021-12-07T00:00:00.000000000",
          "2021-12-08T00:00:00.000000000",
          "2021-12-09T00:00:00.000000000",
          "2021-12-10T00:00:00.000000000",
          "2021-12-13T00:00:00.000000000",
          "2021-12-14T00:00:00.000000000",
          "2021-12-15T00:00:00.000000000",
          "2021-12-16T00:00:00.000000000",
          "2021-12-17T00:00:00.000000000",
          "2021-12-20T00:00:00.000000000",
          "2021-12-21T00:00:00.000000000",
          "2021-12-22T00:00:00.000000000",
          "2021-12-23T00:00:00.000000000",
          "2021-12-27T00:00:00.000000000",
          "2021-12-28T00:00:00.000000000",
          "2021-12-29T00:00:00.000000000",
          "2021-12-30T00:00:00.000000000",
          "2021-12-31T00:00:00.000000000",
          "2022-01-03T00:00:00.000000000",
          "2022-01-04T00:00:00.000000000",
          "2022-01-05T00:00:00.000000000",
          "2022-01-06T00:00:00.000000000",
          "2022-01-07T00:00:00.000000000",
          "2022-01-10T00:00:00.000000000",
          "2022-01-11T00:00:00.000000000",
          "2022-01-12T00:00:00.000000000",
          "2022-01-13T00:00:00.000000000",
          "2022-01-14T00:00:00.000000000",
          "2022-01-18T00:00:00.000000000",
          "2022-01-19T00:00:00.000000000",
          "2022-01-20T00:00:00.000000000",
          "2022-01-21T00:00:00.000000000",
          "2022-01-24T00:00:00.000000000",
          "2022-01-25T00:00:00.000000000",
          "2022-01-26T00:00:00.000000000",
          "2022-01-27T00:00:00.000000000",
          "2022-01-28T00:00:00.000000000",
          "2022-01-31T00:00:00.000000000",
          "2022-02-01T00:00:00.000000000",
          "2022-02-02T00:00:00.000000000",
          "2022-02-03T00:00:00.000000000",
          "2022-02-04T00:00:00.000000000",
          "2022-02-07T00:00:00.000000000",
          "2022-02-08T00:00:00.000000000",
          "2022-02-09T00:00:00.000000000",
          "2022-02-10T00:00:00.000000000",
          "2022-02-11T00:00:00.000000000",
          "2022-02-14T00:00:00.000000000",
          "2022-02-15T00:00:00.000000000",
          "2022-02-16T00:00:00.000000000",
          "2022-02-17T00:00:00.000000000",
          "2022-02-18T00:00:00.000000000",
          "2022-02-22T00:00:00.000000000",
          "2022-02-23T00:00:00.000000000",
          "2022-02-24T00:00:00.000000000",
          "2022-02-25T00:00:00.000000000",
          "2022-02-28T00:00:00.000000000",
          "2022-03-01T00:00:00.000000000",
          "2022-03-02T00:00:00.000000000",
          "2022-03-03T00:00:00.000000000",
          "2022-03-04T00:00:00.000000000",
          "2022-03-07T00:00:00.000000000",
          "2022-03-08T00:00:00.000000000",
          "2022-03-09T00:00:00.000000000",
          "2022-03-10T00:00:00.000000000",
          "2022-03-11T00:00:00.000000000",
          "2022-03-14T00:00:00.000000000",
          "2022-03-15T00:00:00.000000000",
          "2022-03-16T00:00:00.000000000",
          "2022-03-17T00:00:00.000000000",
          "2022-03-18T00:00:00.000000000",
          "2022-03-21T00:00:00.000000000",
          "2022-03-22T00:00:00.000000000",
          "2022-03-23T00:00:00.000000000",
          "2022-03-24T00:00:00.000000000",
          "2022-03-25T00:00:00.000000000",
          "2022-03-28T00:00:00.000000000",
          "2022-03-29T00:00:00.000000000",
          "2022-03-30T00:00:00.000000000",
          "2022-03-31T00:00:00.000000000",
          "2022-04-01T00:00:00.000000000",
          "2022-04-04T00:00:00.000000000",
          "2022-04-05T00:00:00.000000000",
          "2022-04-06T00:00:00.000000000",
          "2022-04-07T00:00:00.000000000",
          "2022-04-08T00:00:00.000000000",
          "2022-04-11T00:00:00.000000000",
          "2022-04-12T00:00:00.000000000",
          "2022-04-13T00:00:00.000000000",
          "2022-04-14T00:00:00.000000000",
          "2022-04-18T00:00:00.000000000",
          "2022-04-19T00:00:00.000000000",
          "2022-04-20T00:00:00.000000000",
          "2022-04-21T00:00:00.000000000",
          "2022-04-22T00:00:00.000000000",
          "2022-04-25T00:00:00.000000000",
          "2022-04-26T00:00:00.000000000",
          "2022-04-27T00:00:00.000000000",
          "2022-04-28T00:00:00.000000000",
          "2022-04-29T00:00:00.000000000",
          "2022-05-02T00:00:00.000000000",
          "2022-05-03T00:00:00.000000000",
          "2022-05-04T00:00:00.000000000",
          "2022-05-05T00:00:00.000000000",
          "2022-05-06T00:00:00.000000000",
          "2022-05-09T00:00:00.000000000",
          "2022-05-10T00:00:00.000000000",
          "2022-05-11T00:00:00.000000000",
          "2022-05-12T00:00:00.000000000",
          "2022-05-13T00:00:00.000000000",
          "2022-05-16T00:00:00.000000000",
          "2022-05-17T00:00:00.000000000",
          "2022-05-18T00:00:00.000000000",
          "2022-05-19T00:00:00.000000000",
          "2022-05-20T00:00:00.000000000",
          "2022-05-23T00:00:00.000000000",
          "2022-05-24T00:00:00.000000000",
          "2022-05-25T00:00:00.000000000",
          "2022-05-26T00:00:00.000000000",
          "2022-05-27T00:00:00.000000000",
          "2022-05-31T00:00:00.000000000",
          "2022-06-01T00:00:00.000000000",
          "2022-06-02T00:00:00.000000000",
          "2022-06-03T00:00:00.000000000",
          "2022-06-06T00:00:00.000000000"
         ],
         "y": {
          "bdata": "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",
          "dtype": "f8"
         }
        },
        {
         "mode": "lines",
         "name": "test",
         "type": "scatter",
         "x": [
          "2022-06-07T00:00:00.000000000",
          "2022-06-08T00:00:00.000000000",
          "2022-06-09T00:00:00.000000000",
          "2022-06-10T00:00:00.000000000",
          "2022-06-13T00:00:00.000000000",
          "2022-06-14T00:00:00.000000000",
          "2022-06-15T00:00:00.000000000",
          "2022-06-16T00:00:00.000000000",
          "2022-06-17T00:00:00.000000000",
          "2022-06-21T00:00:00.000000000",
          "2022-06-22T00:00:00.000000000",
          "2022-06-23T00:00:00.000000000",
          "2022-06-24T00:00:00.000000000",
          "2022-06-27T00:00:00.000000000",
          "2022-06-28T00:00:00.000000000",
          "2022-06-29T00:00:00.000000000",
          "2022-06-30T00:00:00.000000000",
          "2022-07-01T00:00:00.000000000",
          "2022-07-05T00:00:00.000000000",
          "2022-07-06T00:00:00.000000000",
          "2022-07-07T00:00:00.000000000",
          "2022-07-08T00:00:00.000000000",
          "2022-07-11T00:00:00.000000000",
          "2022-07-12T00:00:00.000000000",
          "2022-07-13T00:00:00.000000000",
          "2022-07-14T00:00:00.000000000",
          "2022-07-15T00:00:00.000000000",
          "2022-07-18T00:00:00.000000000",
          "2022-07-19T00:00:00.000000000",
          "2022-07-20T00:00:00.000000000",
          "2022-07-21T00:00:00.000000000",
          "2022-07-22T00:00:00.000000000",
          "2022-07-25T00:00:00.000000000",
          "2022-07-26T00:00:00.000000000",
          "2022-07-27T00:00:00.000000000",
          "2022-07-28T00:00:00.000000000"
         ],
         "y": {
          "bdata": "AAAAYEySYUAAAADgiORgQAAAAGD4PmBAAAAA4LhaYEAAAABA7K5gQAAAACCTBWBAAAAAAOE0YEAAAACAzLxgQAAAAIDMvGBAAAAAQGasYEAAAABgfAhhQAAAAGBkc2FAAAAAYGRzYUAAAACgT+5gQAAAAGDCJmFAAAAAwJrXYEAAAACgTB1hQAAAAEA9cGFAAAAAQD1wYUAAAADAIJthQAAAACBMB2JAAAAAoA4dYkAAAACAn9hhQAAAAADY92FAAAAAAC3sYUAAAAAgJ0piQAAAAKDDf2JAAAAAoAAeYkAAAACA8JliQAAAACBG2mJAAAAAAB8jY0AAAACgYvtiQAAAACBv12JAAAAAgNysYkAAAACAiFBjQAAAAIAxYmNA",
          "dtype": "f8"
         }
        }
       ],
       "layout": {
        "template": {
         "data": {
          "bar": [
           {
            "error_x": {
             "color": "#2a3f5f"
            },
            "error_y": {
             "color": "#2a3f5f"
            },
            "marker": {
             "line": {
              "color": "#E5ECF6",
              "width": 0.5
             },
             "pattern": {
              "fillmode": "overlay",
              "size": 10,
              "solidity": 0.2
             }
            },
            "type": "bar"
           }
          ],
          "barpolar": [
           {
            "marker": {
             "line": {
              "color": "#E5ECF6",
              "width": 0.5
             },
             "pattern": {
              "fillmode": "overlay",
              "size": 10,
              "solidity": 0.2
             }
            },
            "type": "barpolar"
           }
          ],
          "carpet": [
           {
            "aaxis": {
             "endlinecolor": "#2a3f5f",
             "gridcolor": "white",
             "linecolor": "white",
             "minorgridcolor": "white",
             "startlinecolor": "#2a3f5f"
            },
            "baxis": {
             "endlinecolor": "#2a3f5f",
             "gridcolor": "white",
             "linecolor": "white",
             "minorgridcolor": "white",
             "startlinecolor": "#2a3f5f"
            },
            "type": "carpet"
           }
          ],
          "choropleth": [
           {
            "colorbar": {
             "outlinewidth": 0,
             "ticks": ""
            },
            "type": "choropleth"
           }
          ],
          "contour": [
           {
            "colorbar": {
             "outlinewidth": 0,
             "ticks": ""
            },
            "colorscale": [
             [
              0,
              "#0d0887"
             ],
             [
              0.1111111111111111,
              "#46039f"
             ],
             [
              0.2222222222222222,
              "#7201a8"
             ],
             [
              0.3333333333333333,
              "#9c179e"
             ],
             [
              0.4444444444444444,
              "#bd3786"
             ],
             [
              0.5555555555555556,
              "#d8576b"
             ],
             [
              0.6666666666666666,
              "#ed7953"
             ],
             [
              0.7777777777777778,
              "#fb9f3a"
             ],
             [
              0.8888888888888888,
              "#fdca26"
             ],
             [
              1,
              "#f0f921"
             ]
            ],
            "type": "contour"
           }
          ],
          "contourcarpet": [
           {
            "colorbar": {
             "outlinewidth": 0,
             "ticks": ""
            },
            "type": "contourcarpet"
           }
          ],
          "heatmap": [
           {
            "colorbar": {
             "outlinewidth": 0,
             "ticks": ""
            },
            "colorscale": [
             [
              0,
              "#0d0887"
             ],
             [
              0.1111111111111111,
              "#46039f"
             ],
             [
              0.2222222222222222,
              "#7201a8"
             ],
             [
              0.3333333333333333,
              "#9c179e"
             ],
             [
              0.4444444444444444,
              "#bd3786"
             ],
             [
              0.5555555555555556,
              "#d8576b"
             ],
             [
              0.6666666666666666,
              "#ed7953"
             ],
             [
              0.7777777777777778,
              "#fb9f3a"
             ],
             [
              0.8888888888888888,
              "#fdca26"
             ],
             [
              1,
              "#f0f921"
             ]
            ],
            "type": "heatmap"
           }
          ],
          "histogram": [
           {
            "marker": {
             "pattern": {
              "fillmode": "overlay",
              "size": 10,
              "solidity": 0.2
             }
            },
            "type": "histogram"
           }
          ],
          "histogram2d": [
           {
            "colorbar": {
             "outlinewidth": 0,
             "ticks": ""
            },
            "colorscale": [
             [
              0,
              "#0d0887"
             ],
             [
              0.1111111111111111,
              "#46039f"
             ],
             [
              0.2222222222222222,
              "#7201a8"
             ],
             [
              0.3333333333333333,
              "#9c179e"
             ],
             [
              0.4444444444444444,
              "#bd3786"
             ],
             [
              0.5555555555555556,
              "#d8576b"
             ],
             [
              0.6666666666666666,
              "#ed7953"
             ],
             [
              0.7777777777777778,
              "#fb9f3a"
             ],
             [
              0.8888888888888888,
              "#fdca26"
             ],
             [
              1,
              "#f0f921"
             ]
            ],
            "type": "histogram2d"
           }
          ],
          "histogram2dcontour": [
           {
            "colorbar": {
             "outlinewidth": 0,
             "ticks": ""
            },
            "colorscale": [
             [
              0,
              "#0d0887"
             ],
             [
              0.1111111111111111,
              "#46039f"
             ],
             [
              0.2222222222222222,
              "#7201a8"
             ],
             [
              0.3333333333333333,
              "#9c179e"
             ],
             [
              0.4444444444444444,
              "#bd3786"
             ],
             [
              0.5555555555555556,
              "#d8576b"
             ],
             [
              0.6666666666666666,
              "#ed7953"
             ],
             [
              0.7777777777777778,
              "#fb9f3a"
             ],
             [
              0.8888888888888888,
              "#fdca26"
             ],
             [
              1,
              "#f0f921"
             ]
            ],
            "type": "histogram2dcontour"
           }
          ],
          "mesh3d": [
           {
            "colorbar": {
             "outlinewidth": 0,
             "ticks": ""
            },
            "type": "mesh3d"
           }
          ],
          "parcoords": [
           {
            "line": {
             "colorbar": {
              "outlinewidth": 0,
              "ticks": ""
             }
            },
            "type": "parcoords"
           }
          ],
          "pie": [
           {
            "automargin": true,
            "type": "pie"
           }
          ],
          "scatter": [
           {
            "fillpattern": {
             "fillmode": "overlay",
             "size": 10,
             "solidity": 0.2
            },
            "type": "scatter"
           }
          ],
          "scatter3d": [
           {
            "line": {
             "colorbar": {
              "outlinewidth": 0,
              "ticks": ""
             }
            },
            "marker": {
             "colorbar": {
              "outlinewidth": 0,
              "ticks": ""
             }
            },
            "type": "scatter3d"
           }
          ],
          "scattercarpet": [
           {
            "marker": {
             "colorbar": {
              "outlinewidth": 0,
              "ticks": ""
             }
            },
            "type": "scattercarpet"
           }
          ],
          "scattergeo": [
           {
            "marker": {
             "colorbar": {
              "outlinewidth": 0,
              "ticks": ""
             }
            },
            "type": "scattergeo"
           }
          ],
          "scattergl": [
           {
            "marker": {
             "colorbar": {
              "outlinewidth": 0,
              "ticks": ""
             }
            },
            "type": "scattergl"
           }
          ],
          "scattermap": [
           {
            "marker": {
             "colorbar": {
              "outlinewidth": 0,
              "ticks": ""
             }
            },
            "type": "scattermap"
           }
          ],
          "scattermapbox": [
           {
            "marker": {
             "colorbar": {
              "outlinewidth": 0,
              "ticks": ""
             }
            },
            "type": "scattermapbox"
           }
          ],
          "scatterpolar": [
           {
            "marker": {
             "colorbar": {
              "outlinewidth": 0,
              "ticks": ""
             }
            },
            "type": "scatterpolar"
           }
          ],
          "scatterpolargl": [
           {
            "marker": {
             "colorbar": {
              "outlinewidth": 0,
              "ticks": ""
             }
            },
            "type": "scatterpolargl"
           }
          ],
          "scatterternary": [
           {
            "marker": {
             "colorbar": {
              "outlinewidth": 0,
              "ticks": ""
             }
            },
            "type": "scatterternary"
           }
          ],
          "surface": [
           {
            "colorbar": {
             "outlinewidth": 0,
             "ticks": ""
            },
            "colorscale": [
             [
              0,
              "#0d0887"
             ],
             [
              0.1111111111111111,
              "#46039f"
             ],
             [
              0.2222222222222222,
              "#7201a8"
             ],
             [
              0.3333333333333333,
              "#9c179e"
             ],
             [
              0.4444444444444444,
              "#bd3786"
             ],
             [
              0.5555555555555556,
              "#d8576b"
             ],
             [
              0.6666666666666666,
              "#ed7953"
             ],
             [
              0.7777777777777778,
              "#fb9f3a"
             ],
             [
              0.8888888888888888,
              "#fdca26"
             ],
             [
              1,
              "#f0f921"
             ]
            ],
            "type": "surface"
           }
          ],
          "table": [
           {
            "cells": {
             "fill": {
              "color": "#EBF0F8"
             },
             "line": {
              "color": "white"
             }
            },
            "header": {
             "fill": {
              "color": "#C8D4E3"
             },
             "line": {
              "color": "white"
             }
            },
            "type": "table"
           }
          ]
         },
         "layout": {
          "annotationdefaults": {
           "arrowcolor": "#2a3f5f",
           "arrowhead": 0,
           "arrowwidth": 1
          },
          "autotypenumbers": "strict",
          "coloraxis": {
           "colorbar": {
            "outlinewidth": 0,
            "ticks": ""
           }
          },
          "colorscale": {
           "diverging": [
            [
             0,
             "#8e0152"
            ],
            [
             0.1,
             "#c51b7d"
            ],
            [
             0.2,
             "#de77ae"
            ],
            [
             0.3,
             "#f1b6da"
            ],
            [
             0.4,
             "#fde0ef"
            ],
            [
             0.5,
             "#f7f7f7"
            ],
            [
             0.6,
             "#e6f5d0"
            ],
            [
             0.7,
             "#b8e186"
            ],
            [
             0.8,
             "#7fbc41"
            ],
            [
             0.9,
             "#4d9221"
            ],
            [
             1,
             "#276419"
            ]
           ],
           "sequential": [
            [
             0,
             "#0d0887"
            ],
            [
             0.1111111111111111,
             "#46039f"
            ],
            [
             0.2222222222222222,
             "#7201a8"
            ],
            [
             0.3333333333333333,
             "#9c179e"
            ],
            [
             0.4444444444444444,
             "#bd3786"
            ],
            [
             0.5555555555555556,
             "#d8576b"
            ],
            [
             0.6666666666666666,
             "#ed7953"
            ],
            [
             0.7777777777777778,
             "#fb9f3a"
            ],
            [
             0.8888888888888888,
             "#fdca26"
            ],
            [
             1,
             "#f0f921"
            ]
           ],
           "sequentialminus": [
            [
             0,
             "#0d0887"
            ],
            [
             0.1111111111111111,
             "#46039f"
            ],
            [
             0.2222222222222222,
             "#7201a8"
            ],
            [
             0.3333333333333333,
             "#9c179e"
            ],
            [
             0.4444444444444444,
             "#bd3786"
            ],
            [
             0.5555555555555556,
             "#d8576b"
            ],
            [
             0.6666666666666666,
             "#ed7953"
            ],
            [
             0.7777777777777778,
             "#fb9f3a"
            ],
            [
             0.8888888888888888,
             "#fdca26"
            ],
            [
             1,
             "#f0f921"
            ]
           ]
          },
          "colorway": [
           "#636efa",
           "#EF553B",
           "#00cc96",
           "#ab63fa",
           "#FFA15A",
           "#19d3f3",
           "#FF6692",
           "#B6E880",
           "#FF97FF",
           "#FECB52"
          ],
          "font": {
           "color": "#2a3f5f"
          },
          "geo": {
           "bgcolor": "white",
           "lakecolor": "white",
           "landcolor": "#E5ECF6",
           "showlakes": true,
           "showland": true,
           "subunitcolor": "white"
          },
          "hoverlabel": {
           "align": "left"
          },
          "hovermode": "closest",
          "mapbox": {
           "style": "light"
          },
          "paper_bgcolor": "white",
          "plot_bgcolor": "#E5ECF6",
          "polar": {
           "angularaxis": {
            "gridcolor": "white",
            "linecolor": "white",
            "ticks": ""
           },
           "bgcolor": "#E5ECF6",
           "radialaxis": {
            "gridcolor": "white",
            "linecolor": "white",
            "ticks": ""
           }
          },
          "scene": {
           "xaxis": {
            "backgroundcolor": "#E5ECF6",
            "gridcolor": "white",
            "gridwidth": 2,
            "linecolor": "white",
            "showbackground": true,
            "ticks": "",
            "zerolinecolor": "white"
           },
           "yaxis": {
            "backgroundcolor": "#E5ECF6",
            "gridcolor": "white",
            "gridwidth": 2,
            "linecolor": "white",
            "showbackground": true,
            "ticks": "",
            "zerolinecolor": "white"
           },
           "zaxis": {
            "backgroundcolor": "#E5ECF6",
            "gridcolor": "white",
            "gridwidth": 2,
            "linecolor": "white",
            "showbackground": true,
            "ticks": "",
            "zerolinecolor": "white"
           }
          },
          "shapedefaults": {
           "line": {
            "color": "#2a3f5f"
           }
          },
          "ternary": {
           "aaxis": {
            "gridcolor": "white",
            "linecolor": "white",
            "ticks": ""
           },
           "baxis": {
            "gridcolor": "white",
            "linecolor": "white",
            "ticks": ""
           },
           "bgcolor": "#E5ECF6",
           "caxis": {
            "gridcolor": "white",
            "linecolor": "white",
            "ticks": ""
           }
          },
          "title": {
           "x": 0.05
          },
          "xaxis": {
           "automargin": true,
           "gridcolor": "white",
           "linecolor": "white",
           "ticks": "",
           "title": {
            "standoff": 15
           },
           "zerolinecolor": "white",
           "zerolinewidth": 2
          },
          "yaxis": {
           "automargin": true,
           "gridcolor": "white",
           "linecolor": "white",
           "ticks": "",
           "title": {
            "standoff": 15
           },
           "zerolinecolor": "white",
           "zerolinewidth": 2
          }
         }
        },
        "title": {
         "text": "Bond "
        },
        "xaxis": {
         "title": {
          "text": "Date"
         }
        },
        "yaxis": {
         "title": {
          "text": "Close"
         }
        }
       }
      }
     },
     "metadata": {},
     "output_type": "display_data"
    }
   ],
   "source": [
    "#Otra opción, es emplear la librería de go.Scatter para otro tipo de gráfico. \n",
    "trace1 = go.Scatter(\n",
    "    x = date_train,\n",
    "    y = data_train['y'],\n",
    "    mode = 'lines',\n",
    "    name = 'Data'\n",
    ")\n",
    "\n",
    "trace2 = go.Scatter(\n",
    "    x = date_test,\n",
    "    y = data_test['y'],\n",
    "    mode = 'lines',\n",
    "    name = 'test'\n",
    ")\n",
    "\n",
    "layout = go.Layout(\n",
    "    title = \"Bond \",\n",
    "    xaxis = {'title' : \"Date\"},\n",
    "    yaxis = {'title' : \"Close\"}\n",
    ")\n",
    "fig = go.Figure(data=[trace1, trace2], layout=layout)\n",
    "fig.show()"
   ]
  },
  {
   "cell_type": "markdown",
   "metadata": {},
   "source": [
    "<a id=\"7a\"></a> <br>\n",
    "# 6. Regresión con Random Forest\n",
    "En esta sección, comenzaremos la regresión empleando el algoritmo de Random Forest. Para ello, comenzaremos con la creación de la estructura de datos tipo aprendizaje supervisado. Esto se hace mediante la función de ForecasterAutoreg."
   ]
  },
  {
   "cell_type": "markdown",
   "metadata": {},
   "source": [
    "<a id=\"8\"></a> <br>\n",
    "### 7. Creación del Forecaster\n",
    "\n",
    "En esta sección aplicamos la función de Forecast Aurtoregress para la creación de ventanas con ciertos retrazos al cual se aplica el modelo de Random Forest. En este caso, consideramos 10 retrazos que capturan la estructura de datos de la serie y generan un pronóstico a 10 días. Esto significa que el modelo emplea los 10 días previos como predictores. Así, por ejemplo, si se tuviera una sección de prueba de 6 días, con un tamaño de ventana de 3 rezagos, la dimensión del conjunto de datos de prueba cuando se entrenara el modelo sería de (6x3):\n",
    "* \"Train\"  \"Pron\"\n",
    "* [1,2,3]   [4]\n",
    "* [2,3,4]   [5]\n",
    "* [3,4,5]   [6]\n",
    "* [4,5,6]   [7]\n",
    "* [5,6,7]   [8]\n",
    "* [6,7,8]   [9]\n"
   ]
  },
  {
   "cell_type": "code",
   "execution_count": 33,
   "metadata": {
    "execution": {
     "iopub.execute_input": "2024-04-19T15:44:05.161716Z",
     "iopub.status.busy": "2024-04-19T15:44:05.161300Z",
     "iopub.status.idle": "2024-04-19T15:44:07.071094Z",
     "shell.execute_reply": "2024-04-19T15:44:07.069784Z",
     "shell.execute_reply.started": "2024-04-19T15:44:05.161678Z"
    },
    "trusted": true
   },
   "outputs": [
    {
     "data": {
      "text/plain": [
       "================= \n",
       "ForecasterAutoreg \n",
       "================= \n",
       "Regressor: RandomForestRegressor(random_state=123) \n",
       "Lags: [ 1  2  3  4  5  6  7  8  9 10 11 12 13 14 15] \n",
       "Transformer for y: None \n",
       "Transformer for exog: None \n",
       "Window size: 15 \n",
       "Weight function included: False \n",
       "Differentiation order: None \n",
       "Exogenous included: False \n",
       "Type of exogenous variable: None \n",
       "Exogenous variables names: None \n",
       "Training range: [Timestamp('2015-01-02 00:00:00'), Timestamp('2022-06-08 00:00:00')] \n",
       "Training index type: DatetimeIndex \n",
       "Training index frequency: B \n",
       "Regressor parameters: {'bootstrap': True, 'ccp_alpha': 0.0, 'criterion': 'squared_error', 'max_depth': None, 'max_features': 1.0, 'max_leaf_nodes': None, 'max_samples': None, 'min_impurity_decrease': 0.0, 'min_samples_leaf': 1, 'min_samples_split': 2, 'min_weight_fraction_leaf': 0.0, 'n_estimators': 100, 'n_jobs': None, 'oob_score': False, 'random_state': 123, 'verbose': 0, 'warm_start': False} \n",
       "fit_kwargs: {} \n",
       "Creation date: 2025-04-19 21:28:54 \n",
       "Last fit date: 2025-04-19 21:28:55 \n",
       "Skforecast version: 0.11.0 \n",
       "Python version: 3.10.11 \n",
       "Forecaster id: None "
      ]
     },
     "execution_count": 33,
     "metadata": {},
     "output_type": "execute_result"
    }
   ],
   "source": [
    "# Creamos y entrenamos el modelo de Random Forest con la función de estructura de datos generada a través de la función Forecaster, en este caso, creando ventanas de 10 días:\n",
    "# ==============================================================================\n",
    "forecaster = ForecasterAutoreg(\n",
    "                regressor = RandomForestRegressor(random_state=123),\n",
    "                lags = 15\n",
    "                )\n",
    "\n",
    "forecaster.fit(y=data_train['y'])\n",
    "forecaster"
   ]
  },
  {
   "cell_type": "markdown",
   "metadata": {},
   "source": [
    "<a id=\"9\"></a> <br>\n",
    "### 8. Predicciones en conjunto de prueba\n"
   ]
  },
  {
   "cell_type": "markdown",
   "metadata": {},
   "source": [
    "Verifiquemos el rendimiento del modelo entrenado en el conjunto de test o prueba."
   ]
  },
  {
   "cell_type": "code",
   "execution_count": 36,
   "metadata": {
    "execution": {
     "iopub.execute_input": "2024-04-19T15:44:33.466833Z",
     "iopub.status.busy": "2024-04-19T15:44:33.466386Z",
     "iopub.status.idle": "2024-04-19T15:44:33.891206Z",
     "shell.execute_reply": "2024-04-19T15:44:33.890189Z",
     "shell.execute_reply.started": "2024-04-19T15:44:33.466799Z"
    },
    "trusted": true
   },
   "outputs": [
    {
     "data": {
      "text/plain": [
       "2022-06-09    146.506081\n",
       "2022-06-10    146.119970\n",
       "2022-06-13    145.895670\n",
       "2022-06-14    147.535836\n",
       "2022-06-15    147.842621\n",
       "Freq: B, Name: pred, dtype: float64"
      ]
     },
     "execution_count": 36,
     "metadata": {},
     "output_type": "execute_result"
    }
   ],
   "source": [
    "# Pronóstico, en este caso elegimos una ventana de n-test días.\n",
    "# ==============================================================================\n",
    "steps = 36  ## el mismo que la ventana de test\n",
    "predictions = forecaster.predict(steps=steps)\n",
    "predictions.head(5)"
   ]
  },
  {
   "cell_type": "code",
   "execution_count": 37,
   "metadata": {},
   "outputs": [],
   "source": [
    "#Hasta aquí, es improtante verificar que el pronóstico esté indexado por la fecha, en la frecuencia adecuada. Con ello, el refinamiento de los parámetros es posible."
   ]
  },
  {
   "cell_type": "code",
   "execution_count": 38,
   "metadata": {
    "execution": {
     "iopub.execute_input": "2024-04-19T15:45:08.044538Z",
     "iopub.status.busy": "2024-04-19T15:45:08.044141Z",
     "iopub.status.idle": "2024-04-19T15:45:08.053382Z",
     "shell.execute_reply": "2024-04-19T15:45:08.052224Z",
     "shell.execute_reply.started": "2024-04-19T15:45:08.044507Z"
    },
    "trusted": true
   },
   "outputs": [
    {
     "name": "stdout",
     "output_type": "stream",
     "text": [
      "Test error (mse): 114.67167687669689\n",
      "Test error (rmse): 10.708486208456211\n"
     ]
    }
   ],
   "source": [
    "# Determinamos el error de pronóstico:\n",
    "# ==============================================================================\n",
    "error_mse = mean_squared_error(\n",
    "                y_true = data_test['y'],\n",
    "                y_pred = predictions\n",
    "            )\n",
    "\n",
    "print(f\"Test error (mse): {error_mse}\")\n",
    "RMSE = sqrt(error_mse)\n",
    "print(f\"Test error (rmse): {RMSE}\")"
   ]
  },
  {
   "cell_type": "markdown",
   "metadata": {},
   "source": [
    "<a id=\"10\"></a> <br>\n",
    "### 9. Refinamiento de los hiperparámetros\n",
    "\n",
    "La función que entrena los datos emplea la configuración sugerida por el usuario donde el modelo de Random Forest aplica la configuración por default de los hiperparámetros. Sin embargo, no existe sustento que esta configuración sea la ideal. Por tanto y para encontrar la mejor combinación de retrazos e hiperparámetros, podemos emplear la librería de Skforecast la cual provee la función de búsqueda con los parámetros que minimicen la métrica de error. Con esta configuración, podemos posteriormente ajustar el modelo para el pronóstico."
   ]
  },
  {
   "cell_type": "code",
   "execution_count": 39,
   "metadata": {
    "execution": {
     "iopub.execute_input": "2024-04-19T15:45:31.559457Z",
     "iopub.status.busy": "2024-04-19T15:45:31.559031Z",
     "iopub.status.idle": "2024-04-19T15:46:56.662720Z",
     "shell.execute_reply": "2024-04-19T15:46:56.661623Z",
     "shell.execute_reply.started": "2024-04-19T15:45:31.559428Z"
    },
    "trusted": true
   },
   "outputs": [
    {
     "name": "stdout",
     "output_type": "stream",
     "text": [
      "Number of models compared: 6.\n"
     ]
    },
    {
     "data": {
      "application/vnd.jupyter.widget-view+json": {
       "model_id": "ce7d204468444930986b30c3072ddb86",
       "version_major": 2,
       "version_minor": 0
      },
      "text/plain": [
       "lags grid:   0%|          | 0/1 [00:00<?, ?it/s]"
      ]
     },
     "metadata": {},
     "output_type": "display_data"
    },
    {
     "data": {
      "application/vnd.jupyter.widget-view+json": {
       "model_id": "81f8d862daad4ed49e73e9e3a708b451",
       "version_major": 2,
       "version_minor": 0
      },
      "text/plain": [
       "params grid:   0%|          | 0/6 [00:00<?, ?it/s]"
      ]
     },
     "metadata": {},
     "output_type": "display_data"
    },
    {
     "name": "stdout",
     "output_type": "stream",
     "text": [
      "`Forecaster` refitted using the best-found lags and parameters, and the whole data set: \n",
      "  Lags: [ 1  2  3  4  5  6  7  8  9 10] \n",
      "  Parameters: {'max_depth': 3, 'n_estimators': 100}\n",
      "  Backtesting metric: 203.39647185980942\n",
      "\n"
     ]
    }
   ],
   "source": [
    "# Cálculo de hiperparámetros por grid search\n",
    "# ==============================================================================\n",
    "steps = 100\n",
    "forecaster = ForecasterAutoreg(\n",
    "                regressor = RandomForestRegressor(random_state=123),\n",
    "                lags      = 10 # Este valor se reemplazará en la grilla\n",
    "             )\n",
    "\n",
    "# Lags used as predictors\n",
    "lags_grid = [10]\n",
    "\n",
    "# Regressor's hyperparameters\n",
    "param_grid = {'n_estimators': [100, 500],\n",
    "              'max_depth': [3, 5, 10]}\n",
    "\n",
    "results_grid = grid_search_forecaster(\n",
    "                        forecaster         = forecaster,\n",
    "                        y                  = data_train['y'],\n",
    "                        param_grid         = param_grid,\n",
    "                        lags_grid          = lags_grid,\n",
    "                        steps              = steps,\n",
    "                        refit              = True,\n",
    "                        metric             = 'mean_squared_error',\n",
    "                        initial_train_size = int(len(data_train)*0.5),\n",
    "                        fixed_train_size   = False,\n",
    "                        return_best        = True,\n",
    "                        verbose            = False\n",
    "               )"
   ]
  },
  {
   "cell_type": "code",
   "execution_count": 40,
   "metadata": {
    "execution": {
     "iopub.execute_input": "2024-04-19T15:47:38.308212Z",
     "iopub.status.busy": "2024-04-19T15:47:38.307758Z",
     "iopub.status.idle": "2024-04-19T15:47:38.329194Z",
     "shell.execute_reply": "2024-04-19T15:47:38.327798Z",
     "shell.execute_reply.started": "2024-04-19T15:47:38.308172Z"
    },
    "trusted": true
   },
   "outputs": [
    {
     "data": {
      "text/html": [
       "<div>\n",
       "<style scoped>\n",
       "    .dataframe tbody tr th:only-of-type {\n",
       "        vertical-align: middle;\n",
       "    }\n",
       "\n",
       "    .dataframe tbody tr th {\n",
       "        vertical-align: top;\n",
       "    }\n",
       "\n",
       "    .dataframe thead th {\n",
       "        text-align: right;\n",
       "    }\n",
       "</style>\n",
       "<table border=\"1\" class=\"dataframe\">\n",
       "  <thead>\n",
       "    <tr style=\"text-align: right;\">\n",
       "      <th></th>\n",
       "      <th>lags</th>\n",
       "      <th>params</th>\n",
       "      <th>mean_squared_error</th>\n",
       "      <th>max_depth</th>\n",
       "      <th>n_estimators</th>\n",
       "    </tr>\n",
       "  </thead>\n",
       "  <tbody>\n",
       "    <tr>\n",
       "      <th>0</th>\n",
       "      <td>[1, 2, 3, 4, 5, 6, 7, 8, 9, 10]</td>\n",
       "      <td>{'max_depth': 3, 'n_estimators': 100}</td>\n",
       "      <td>203.396472</td>\n",
       "      <td>3</td>\n",
       "      <td>100</td>\n",
       "    </tr>\n",
       "    <tr>\n",
       "      <th>1</th>\n",
       "      <td>[1, 2, 3, 4, 5, 6, 7, 8, 9, 10]</td>\n",
       "      <td>{'max_depth': 3, 'n_estimators': 500}</td>\n",
       "      <td>204.938949</td>\n",
       "      <td>3</td>\n",
       "      <td>500</td>\n",
       "    </tr>\n",
       "    <tr>\n",
       "      <th>4</th>\n",
       "      <td>[1, 2, 3, 4, 5, 6, 7, 8, 9, 10]</td>\n",
       "      <td>{'max_depth': 10, 'n_estimators': 100}</td>\n",
       "      <td>211.434249</td>\n",
       "      <td>10</td>\n",
       "      <td>100</td>\n",
       "    </tr>\n",
       "    <tr>\n",
       "      <th>5</th>\n",
       "      <td>[1, 2, 3, 4, 5, 6, 7, 8, 9, 10]</td>\n",
       "      <td>{'max_depth': 10, 'n_estimators': 500}</td>\n",
       "      <td>212.318910</td>\n",
       "      <td>10</td>\n",
       "      <td>500</td>\n",
       "    </tr>\n",
       "    <tr>\n",
       "      <th>3</th>\n",
       "      <td>[1, 2, 3, 4, 5, 6, 7, 8, 9, 10]</td>\n",
       "      <td>{'max_depth': 5, 'n_estimators': 500}</td>\n",
       "      <td>219.619834</td>\n",
       "      <td>5</td>\n",
       "      <td>500</td>\n",
       "    </tr>\n",
       "    <tr>\n",
       "      <th>2</th>\n",
       "      <td>[1, 2, 3, 4, 5, 6, 7, 8, 9, 10]</td>\n",
       "      <td>{'max_depth': 5, 'n_estimators': 100}</td>\n",
       "      <td>219.984063</td>\n",
       "      <td>5</td>\n",
       "      <td>100</td>\n",
       "    </tr>\n",
       "  </tbody>\n",
       "</table>\n",
       "</div>"
      ],
      "text/plain": [
       "                              lags                                  params  \\\n",
       "0  [1, 2, 3, 4, 5, 6, 7, 8, 9, 10]   {'max_depth': 3, 'n_estimators': 100}   \n",
       "1  [1, 2, 3, 4, 5, 6, 7, 8, 9, 10]   {'max_depth': 3, 'n_estimators': 500}   \n",
       "4  [1, 2, 3, 4, 5, 6, 7, 8, 9, 10]  {'max_depth': 10, 'n_estimators': 100}   \n",
       "5  [1, 2, 3, 4, 5, 6, 7, 8, 9, 10]  {'max_depth': 10, 'n_estimators': 500}   \n",
       "3  [1, 2, 3, 4, 5, 6, 7, 8, 9, 10]   {'max_depth': 5, 'n_estimators': 500}   \n",
       "2  [1, 2, 3, 4, 5, 6, 7, 8, 9, 10]   {'max_depth': 5, 'n_estimators': 100}   \n",
       "\n",
       "   mean_squared_error  max_depth  n_estimators  \n",
       "0          203.396472          3           100  \n",
       "1          204.938949          3           500  \n",
       "4          211.434249         10           100  \n",
       "5          212.318910         10           500  \n",
       "3          219.619834          5           500  \n",
       "2          219.984063          5           100  "
      ]
     },
     "execution_count": 40,
     "metadata": {},
     "output_type": "execute_result"
    }
   ],
   "source": [
    "# Visualizamos los resultados del grid search\n",
    "# ==============================================================================\n",
    "results_grid"
   ]
  },
  {
   "cell_type": "markdown",
   "metadata": {},
   "source": [
    "<a id=\"11\"></a> <br>\n",
    "### 10. Aplicación modelo óptimo a serie completa\n",
    "\n",
    "A partir de la salida anterior, ¿cuáles deberían las variables a escoger para entrenar el modelo?"
   ]
  },
  {
   "cell_type": "code",
   "execution_count": 41,
   "metadata": {
    "execution": {
     "iopub.execute_input": "2024-04-19T15:48:06.604778Z",
     "iopub.status.busy": "2024-04-19T15:48:06.604308Z",
     "iopub.status.idle": "2024-04-19T15:48:08.407286Z",
     "shell.execute_reply": "2024-04-19T15:48:08.406144Z",
     "shell.execute_reply.started": "2024-04-19T15:48:06.604734Z"
    },
    "trusted": true
   },
   "outputs": [],
   "source": [
    "# Configuramos la función de pronóstico de forecaster con la mejor combinación obtenida de hiperparámetros.\n",
    "# ==============================================================================\n",
    "### Aquí debe ir tu codigo, \n",
    "regressor = RandomForestRegressor(max_depth= 3, n_estimators=100 , random_state=123)\n",
    "\n",
    "\n",
    "forecaster = ForecasterAutoreg(\n",
    "                regressor = regressor,\n",
    "                lags      = 10\n",
    "                )\n",
    "\n",
    "forecaster.fit(y=df['y'])\n",
    "f = forecaster.fit(y=df['y'])"
   ]
  },
  {
   "cell_type": "code",
   "execution_count": 43,
   "metadata": {
    "execution": {
     "iopub.execute_input": "2024-04-19T15:48:12.098534Z",
     "iopub.status.busy": "2024-04-19T15:48:12.098124Z",
     "iopub.status.idle": "2024-04-19T15:48:12.122891Z",
     "shell.execute_reply": "2024-04-19T15:48:12.121670Z",
     "shell.execute_reply.started": "2024-04-19T15:48:12.098504Z"
    },
    "trusted": true
   },
   "outputs": [
    {
     "data": {
      "text/html": [
       "<div>\n",
       "<style scoped>\n",
       "    .dataframe tbody tr th:only-of-type {\n",
       "        vertical-align: middle;\n",
       "    }\n",
       "\n",
       "    .dataframe tbody tr th {\n",
       "        vertical-align: top;\n",
       "    }\n",
       "\n",
       "    .dataframe thead th {\n",
       "        text-align: right;\n",
       "    }\n",
       "</style>\n",
       "<table border=\"1\" class=\"dataframe\">\n",
       "  <thead>\n",
       "    <tr style=\"text-align: right;\">\n",
       "      <th></th>\n",
       "      <th>feature</th>\n",
       "      <th>importance</th>\n",
       "    </tr>\n",
       "  </thead>\n",
       "  <tbody>\n",
       "    <tr>\n",
       "      <th>0</th>\n",
       "      <td>lag_1</td>\n",
       "      <td>0.182981</td>\n",
       "    </tr>\n",
       "    <tr>\n",
       "      <th>1</th>\n",
       "      <td>lag_2</td>\n",
       "      <td>0.046423</td>\n",
       "    </tr>\n",
       "    <tr>\n",
       "      <th>2</th>\n",
       "      <td>lag_3</td>\n",
       "      <td>0.036787</td>\n",
       "    </tr>\n",
       "    <tr>\n",
       "      <th>3</th>\n",
       "      <td>lag_4</td>\n",
       "      <td>0.044644</td>\n",
       "    </tr>\n",
       "    <tr>\n",
       "      <th>4</th>\n",
       "      <td>lag_5</td>\n",
       "      <td>0.228345</td>\n",
       "    </tr>\n",
       "    <tr>\n",
       "      <th>5</th>\n",
       "      <td>lag_6</td>\n",
       "      <td>0.026908</td>\n",
       "    </tr>\n",
       "    <tr>\n",
       "      <th>6</th>\n",
       "      <td>lag_7</td>\n",
       "      <td>0.044570</td>\n",
       "    </tr>\n",
       "    <tr>\n",
       "      <th>7</th>\n",
       "      <td>lag_8</td>\n",
       "      <td>0.027694</td>\n",
       "    </tr>\n",
       "    <tr>\n",
       "      <th>8</th>\n",
       "      <td>lag_9</td>\n",
       "      <td>0.229450</td>\n",
       "    </tr>\n",
       "    <tr>\n",
       "      <th>9</th>\n",
       "      <td>lag_10</td>\n",
       "      <td>0.132197</td>\n",
       "    </tr>\n",
       "  </tbody>\n",
       "</table>\n",
       "</div>"
      ],
      "text/plain": [
       "  feature  importance\n",
       "0   lag_1    0.182981\n",
       "1   lag_2    0.046423\n",
       "2   lag_3    0.036787\n",
       "3   lag_4    0.044644\n",
       "4   lag_5    0.228345\n",
       "5   lag_6    0.026908\n",
       "6   lag_7    0.044570\n",
       "7   lag_8    0.027694\n",
       "8   lag_9    0.229450\n",
       "9  lag_10    0.132197"
      ]
     },
     "execution_count": 43,
     "metadata": {},
     "output_type": "execute_result"
    }
   ],
   "source": [
    "# Podemos imprimir la importancia de los rezagos\n",
    "\n",
    "#print(f\"Elapsed time to compute the importances: {elapsed_time:.3f} seconds\")\n",
    "forecaster.get_feature_importances()"
   ]
  },
  {
   "cell_type": "markdown",
   "metadata": {},
   "source": [
    "Como podemos ver, los primeros tres rezagos son los que más aportan al modelo."
   ]
  },
  {
   "cell_type": "markdown",
   "metadata": {},
   "source": [
    "<a id=\"12\"></a> <br>\n",
    "### 11. Generación del pronóstico hacia adelante\n",
    "\n",
    "Una vez que el modelo es entrenado, se genera el pronóstico futuro."
   ]
  },
  {
   "cell_type": "code",
   "execution_count": 45,
   "metadata": {
    "execution": {
     "iopub.execute_input": "2024-04-19T15:48:18.644976Z",
     "iopub.status.busy": "2024-04-19T15:48:18.644522Z",
     "iopub.status.idle": "2024-04-19T15:48:18.711602Z",
     "shell.execute_reply": "2024-04-19T15:48:18.710438Z",
     "shell.execute_reply.started": "2024-04-19T15:48:18.644943Z"
    },
    "trusted": true
   },
   "outputs": [
    {
     "data": {
      "text/plain": [
       "2022-07-29    158.691455\n",
       "2022-08-01    165.253276\n",
       "2022-08-02    165.470856\n",
       "2022-08-03    165.470856\n",
       "2022-08-04    165.470856\n",
       "Freq: B, Name: pred, dtype: float64"
      ]
     },
     "execution_count": 45,
     "metadata": {},
     "output_type": "execute_result"
    }
   ],
   "source": [
    "# Pronóstico, en este caso elegimos una ventana de 12 días.\n",
    "# ==============================================================================\n",
    "steps = 12\n",
    "predictions = forecaster.predict(steps=steps)\n",
    "predictions.head(5)"
   ]
  },
  {
   "cell_type": "code",
   "execution_count": 46,
   "metadata": {
    "execution": {
     "iopub.execute_input": "2024-04-19T15:48:22.243132Z",
     "iopub.status.busy": "2024-04-19T15:48:22.242730Z",
     "iopub.status.idle": "2024-04-19T15:48:22.254271Z",
     "shell.execute_reply": "2024-04-19T15:48:22.253376Z",
     "shell.execute_reply.started": "2024-04-19T15:48:22.243105Z"
    },
    "trusted": true
   },
   "outputs": [
    {
     "data": {
      "text/plain": [
       "Timestamp('2022-07-28 00:00:00')"
      ]
     },
     "execution_count": 46,
     "metadata": {},
     "output_type": "execute_result"
    }
   ],
   "source": [
    "fin = data_test.index.max() \n",
    "fin"
   ]
  },
  {
   "cell_type": "code",
   "execution_count": 47,
   "metadata": {
    "execution": {
     "iopub.execute_input": "2024-04-19T15:48:26.871768Z",
     "iopub.status.busy": "2024-04-19T15:48:26.871330Z",
     "iopub.status.idle": "2024-04-19T15:48:26.880860Z",
     "shell.execute_reply": "2024-04-19T15:48:26.879723Z",
     "shell.execute_reply.started": "2024-04-19T15:48:26.871731Z"
    },
    "trusted": true
   },
   "outputs": [
    {
     "data": {
      "text/plain": [
       "[Timestamp('2022-07-28 00:00:00'),\n",
       " Timestamp('2022-07-29 00:00:00'),\n",
       " Timestamp('2022-07-30 00:00:00'),\n",
       " Timestamp('2022-07-31 00:00:00'),\n",
       " Timestamp('2022-08-01 00:00:00'),\n",
       " Timestamp('2022-08-02 00:00:00'),\n",
       " Timestamp('2022-08-03 00:00:00'),\n",
       " Timestamp('2022-08-04 00:00:00'),\n",
       " Timestamp('2022-08-05 00:00:00'),\n",
       " Timestamp('2022-08-06 00:00:00'),\n",
       " Timestamp('2022-08-07 00:00:00'),\n",
       " Timestamp('2022-08-08 00:00:00')]"
      ]
     },
     "execution_count": 47,
     "metadata": {},
     "output_type": "execute_result"
    }
   ],
   "source": [
    "## Generamos las fechas a dichos pronósticos mediante la función de pandas date_range:\n",
    "fin = data_test.index.max()   #Partimos de la fecha máxima de la sección de prueba, hacia adelante.\n",
    "fwd_dates = pd.date_range(fin, periods=12, freq='D').tolist()\n",
    "fwd_dates"
   ]
  },
  {
   "cell_type": "markdown",
   "metadata": {},
   "source": [
    "<a id=\"13\"></a> <br>\n",
    "### 12. Visualización del pronóstico futuro"
   ]
  },
  {
   "cell_type": "markdown",
   "metadata": {},
   "source": [
    "A continuación verás graficamente las tres series de tiempo (train, test y forecast). El gráfico es interactivo, amplia la zona donde están las series de test y forecast."
   ]
  },
  {
   "cell_type": "code",
   "execution_count": 48,
   "metadata": {
    "execution": {
     "iopub.execute_input": "2024-04-19T15:48:31.508226Z",
     "iopub.status.busy": "2024-04-19T15:48:31.507394Z",
     "iopub.status.idle": "2024-04-19T15:48:31.556130Z",
     "shell.execute_reply": "2024-04-19T15:48:31.552836Z",
     "shell.execute_reply.started": "2024-04-19T15:48:31.508179Z"
    },
    "trusted": true
   },
   "outputs": [
    {
     "data": {
      "application/vnd.plotly.v1+json": {
       "config": {
        "plotlyServerURL": "https://plot.ly"
       },
       "data": [
        {
         "mode": "lines",
         "name": "Train",
         "type": "scatter",
         "x": [
          "2015-01-02T00:00:00.000000000",
          "2015-01-05T00:00:00.000000000",
          "2015-01-06T00:00:00.000000000",
          "2015-01-07T00:00:00.000000000",
          "2015-01-08T00:00:00.000000000",
          "2015-01-09T00:00:00.000000000",
          "2015-01-12T00:00:00.000000000",
          "2015-01-13T00:00:00.000000000",
          "2015-01-14T00:00:00.000000000",
          "2015-01-15T00:00:00.000000000",
          "2015-01-16T00:00:00.000000000",
          "2015-01-20T00:00:00.000000000",
          "2015-01-21T00:00:00.000000000",
          "2015-01-22T00:00:00.000000000",
          "2015-01-23T00:00:00.000000000",
          "2015-01-26T00:00:00.000000000",
          "2015-01-27T00:00:00.000000000",
          "2015-01-28T00:00:00.000000000",
          "2015-01-29T00:00:00.000000000",
          "2015-01-30T00:00:00.000000000",
          "2015-02-02T00:00:00.000000000",
          "2015-02-03T00:00:00.000000000",
          "2015-02-04T00:00:00.000000000",
          "2015-02-05T00:00:00.000000000",
          "2015-02-06T00:00:00.000000000",
          "2015-02-09T00:00:00.000000000",
          "2015-02-10T00:00:00.000000000",
          "2015-02-11T00:00:00.000000000",
          "2015-02-12T00:00:00.000000000",
          "2015-02-13T00:00:00.000000000",
          "2015-02-17T00:00:00.000000000",
          "2015-02-18T00:00:00.000000000",
          "2015-02-19T00:00:00.000000000",
          "2015-02-20T00:00:00.000000000",
          "2015-02-23T00:00:00.000000000",
          "2015-02-24T00:00:00.000000000",
          "2015-02-25T00:00:00.000000000",
          "2015-02-26T00:00:00.000000000",
          "2015-02-27T00:00:00.000000000",
          "2015-03-02T00:00:00.000000000",
          "2015-03-03T00:00:00.000000000",
          "2015-03-04T00:00:00.000000000",
          "2015-03-05T00:00:00.000000000",
          "2015-03-06T00:00:00.000000000",
          "2015-03-09T00:00:00.000000000",
          "2015-03-10T00:00:00.000000000",
          "2015-03-11T00:00:00.000000000",
          "2015-03-12T00:00:00.000000000",
          "2015-03-13T00:00:00.000000000",
          "2015-03-16T00:00:00.000000000",
          "2015-03-17T00:00:00.000000000",
          "2015-03-18T00:00:00.000000000",
          "2015-03-19T00:00:00.000000000",
          "2015-03-20T00:00:00.000000000",
          "2015-03-23T00:00:00.000000000",
          "2015-03-24T00:00:00.000000000",
          "2015-03-25T00:00:00.000000000",
          "2015-03-26T00:00:00.000000000",
          "2015-03-27T00:00:00.000000000",
          "2015-03-30T00:00:00.000000000",
          "2015-03-31T00:00:00.000000000",
          "2015-04-01T00:00:00.000000000",
          "2015-04-02T00:00:00.000000000",
          "2015-04-06T00:00:00.000000000",
          "2015-04-07T00:00:00.000000000",
          "2015-04-08T00:00:00.000000000",
          "2015-04-09T00:00:00.000000000",
          "2015-04-10T00:00:00.000000000",
          "2015-04-13T00:00:00.000000000",
          "2015-04-14T00:00:00.000000000",
          "2015-04-15T00:00:00.000000000",
          "2015-04-16T00:00:00.000000000",
          "2015-04-17T00:00:00.000000000",
          "2015-04-20T00:00:00.000000000",
          "2015-04-21T00:00:00.000000000",
          "2015-04-22T00:00:00.000000000",
          "2015-04-23T00:00:00.000000000",
          "2015-04-24T00:00:00.000000000",
          "2015-04-27T00:00:00.000000000",
          "2015-04-28T00:00:00.000000000",
          "2015-04-29T00:00:00.000000000",
          "2015-04-30T00:00:00.000000000",
          "2015-05-01T00:00:00.000000000",
          "2015-05-04T00:00:00.000000000",
          "2015-05-05T00:00:00.000000000",
          "2015-05-06T00:00:00.000000000",
          "2015-05-07T00:00:00.000000000",
          "2015-05-08T00:00:00.000000000",
          "2015-05-11T00:00:00.000000000",
          "2015-05-12T00:00:00.000000000",
          "2015-05-13T00:00:00.000000000",
          "2015-05-14T00:00:00.000000000",
          "2015-05-15T00:00:00.000000000",
          "2015-05-18T00:00:00.000000000",
          "2015-05-19T00:00:00.000000000",
          "2015-05-20T00:00:00.000000000",
          "2015-05-21T00:00:00.000000000",
          "2015-05-22T00:00:00.000000000",
          "2015-05-26T00:00:00.000000000",
          "2015-05-27T00:00:00.000000000",
          "2015-05-28T00:00:00.000000000",
          "2015-05-29T00:00:00.000000000",
          "2015-06-01T00:00:00.000000000",
          "2015-06-02T00:00:00.000000000",
          "2015-06-03T00:00:00.000000000",
          "2015-06-04T00:00:00.000000000",
          "2015-06-05T00:00:00.000000000",
          "2015-06-08T00:00:00.000000000",
          "2015-06-09T00:00:00.000000000",
          "2015-06-10T00:00:00.000000000",
          "2015-06-11T00:00:00.000000000",
          "2015-06-12T00:00:00.000000000",
          "2015-06-15T00:00:00.000000000",
          "2015-06-16T00:00:00.000000000",
          "2015-06-17T00:00:00.000000000",
          "2015-06-18T00:00:00.000000000",
          "2015-06-19T00:00:00.000000000",
          "2015-06-22T00:00:00.000000000",
          "2015-06-23T00:00:00.000000000",
          "2015-06-24T00:00:00.000000000",
          "2015-06-25T00:00:00.000000000",
          "2015-06-26T00:00:00.000000000",
          "2015-06-29T00:00:00.000000000",
          "2015-06-30T00:00:00.000000000",
          "2015-07-01T00:00:00.000000000",
          "2015-07-02T00:00:00.000000000",
          "2015-07-06T00:00:00.000000000",
          "2015-07-07T00:00:00.000000000",
          "2015-07-08T00:00:00.000000000",
          "2015-07-09T00:00:00.000000000",
          "2015-07-10T00:00:00.000000000",
          "2015-07-13T00:00:00.000000000",
          "2015-07-14T00:00:00.000000000",
          "2015-07-15T00:00:00.000000000",
          "2015-07-16T00:00:00.000000000",
          "2015-07-17T00:00:00.000000000",
          "2015-07-20T00:00:00.000000000",
          "2015-07-21T00:00:00.000000000",
          "2015-07-22T00:00:00.000000000",
          "2015-07-23T00:00:00.000000000",
          "2015-07-24T00:00:00.000000000",
          "2015-07-27T00:00:00.000000000",
          "2015-07-28T00:00:00.000000000",
          "2015-07-29T00:00:00.000000000",
          "2015-07-30T00:00:00.000000000",
          "2015-07-31T00:00:00.000000000",
          "2015-08-03T00:00:00.000000000",
          "2015-08-04T00:00:00.000000000",
          "2015-08-05T00:00:00.000000000",
          "2015-08-06T00:00:00.000000000",
          "2015-08-07T00:00:00.000000000",
          "2015-08-10T00:00:00.000000000",
          "2015-08-11T00:00:00.000000000",
          "2015-08-12T00:00:00.000000000",
          "2015-08-13T00:00:00.000000000",
          "2015-08-14T00:00:00.000000000",
          "2015-08-17T00:00:00.000000000",
          "2015-08-18T00:00:00.000000000",
          "2015-08-19T00:00:00.000000000",
          "2015-08-20T00:00:00.000000000",
          "2015-08-21T00:00:00.000000000",
          "2015-08-24T00:00:00.000000000",
          "2015-08-25T00:00:00.000000000",
          "2015-08-26T00:00:00.000000000",
          "2015-08-27T00:00:00.000000000",
          "2015-08-28T00:00:00.000000000",
          "2015-08-31T00:00:00.000000000",
          "2015-09-01T00:00:00.000000000",
          "2015-09-02T00:00:00.000000000",
          "2015-09-03T00:00:00.000000000",
          "2015-09-04T00:00:00.000000000",
          "2015-09-08T00:00:00.000000000",
          "2015-09-09T00:00:00.000000000",
          "2015-09-10T00:00:00.000000000",
          "2015-09-11T00:00:00.000000000",
          "2015-09-14T00:00:00.000000000",
          "2015-09-15T00:00:00.000000000",
          "2015-09-16T00:00:00.000000000",
          "2015-09-17T00:00:00.000000000",
          "2015-09-18T00:00:00.000000000",
          "2015-09-21T00:00:00.000000000",
          "2015-09-22T00:00:00.000000000",
          "2015-09-23T00:00:00.000000000",
          "2015-09-24T00:00:00.000000000",
          "2015-09-25T00:00:00.000000000",
          "2015-09-28T00:00:00.000000000",
          "2015-09-29T00:00:00.000000000",
          "2015-09-30T00:00:00.000000000",
          "2015-10-01T00:00:00.000000000",
          "2015-10-02T00:00:00.000000000",
          "2015-10-05T00:00:00.000000000",
          "2015-10-06T00:00:00.000000000",
          "2015-10-07T00:00:00.000000000",
          "2015-10-08T00:00:00.000000000",
          "2015-10-09T00:00:00.000000000",
          "2015-10-12T00:00:00.000000000",
          "2015-10-13T00:00:00.000000000",
          "2015-10-14T00:00:00.000000000",
          "2015-10-15T00:00:00.000000000",
          "2015-10-16T00:00:00.000000000",
          "2015-10-19T00:00:00.000000000",
          "2015-10-20T00:00:00.000000000",
          "2015-10-21T00:00:00.000000000",
          "2015-10-22T00:00:00.000000000",
          "2015-10-23T00:00:00.000000000",
          "2015-10-26T00:00:00.000000000",
          "2015-10-27T00:00:00.000000000",
          "2015-10-28T00:00:00.000000000",
          "2015-10-29T00:00:00.000000000",
          "2015-10-30T00:00:00.000000000",
          "2015-11-02T00:00:00.000000000",
          "2015-11-03T00:00:00.000000000",
          "2015-11-04T00:00:00.000000000",
          "2015-11-05T00:00:00.000000000",
          "2015-11-06T00:00:00.000000000",
          "2015-11-09T00:00:00.000000000",
          "2015-11-10T00:00:00.000000000",
          "2015-11-11T00:00:00.000000000",
          "2015-11-12T00:00:00.000000000",
          "2015-11-13T00:00:00.000000000",
          "2015-11-16T00:00:00.000000000",
          "2015-11-17T00:00:00.000000000",
          "2015-11-18T00:00:00.000000000",
          "2015-11-19T00:00:00.000000000",
          "2015-11-20T00:00:00.000000000",
          "2015-11-23T00:00:00.000000000",
          "2015-11-24T00:00:00.000000000",
          "2015-11-25T00:00:00.000000000",
          "2015-11-27T00:00:00.000000000",
          "2015-11-30T00:00:00.000000000",
          "2015-12-01T00:00:00.000000000",
          "2015-12-02T00:00:00.000000000",
          "2015-12-03T00:00:00.000000000",
          "2015-12-04T00:00:00.000000000",
          "2015-12-07T00:00:00.000000000",
          "2015-12-08T00:00:00.000000000",
          "2015-12-09T00:00:00.000000000",
          "2015-12-10T00:00:00.000000000",
          "2015-12-11T00:00:00.000000000",
          "2015-12-14T00:00:00.000000000",
          "2015-12-15T00:00:00.000000000",
          "2015-12-16T00:00:00.000000000",
          "2015-12-17T00:00:00.000000000",
          "2015-12-18T00:00:00.000000000",
          "2015-12-21T00:00:00.000000000",
          "2015-12-22T00:00:00.000000000",
          "2015-12-23T00:00:00.000000000",
          "2015-12-24T00:00:00.000000000",
          "2015-12-28T00:00:00.000000000",
          "2015-12-29T00:00:00.000000000",
          "2015-12-30T00:00:00.000000000",
          "2015-12-31T00:00:00.000000000",
          "2016-01-04T00:00:00.000000000",
          "2016-01-05T00:00:00.000000000",
          "2016-01-06T00:00:00.000000000",
          "2016-01-07T00:00:00.000000000",
          "2016-01-08T00:00:00.000000000",
          "2016-01-11T00:00:00.000000000",
          "2016-01-12T00:00:00.000000000",
          "2016-01-13T00:00:00.000000000",
          "2016-01-14T00:00:00.000000000",
          "2016-01-15T00:00:00.000000000",
          "2016-01-19T00:00:00.000000000",
          "2016-01-20T00:00:00.000000000",
          "2016-01-21T00:00:00.000000000",
          "2016-01-22T00:00:00.000000000",
          "2016-01-25T00:00:00.000000000",
          "2016-01-26T00:00:00.000000000",
          "2016-01-27T00:00:00.000000000",
          "2016-01-28T00:00:00.000000000",
          "2016-01-29T00:00:00.000000000",
          "2016-02-01T00:00:00.000000000",
          "2016-02-02T00:00:00.000000000",
          "2016-02-03T00:00:00.000000000",
          "2016-02-04T00:00:00.000000000",
          "2016-02-05T00:00:00.000000000",
          "2016-02-08T00:00:00.000000000",
          "2016-02-09T00:00:00.000000000",
          "2016-02-10T00:00:00.000000000",
          "2016-02-11T00:00:00.000000000",
          "2016-02-12T00:00:00.000000000",
          "2016-02-16T00:00:00.000000000",
          "2016-02-17T00:00:00.000000000",
          "2016-02-18T00:00:00.000000000",
          "2016-02-19T00:00:00.000000000",
          "2016-02-22T00:00:00.000000000",
          "2016-02-23T00:00:00.000000000",
          "2016-02-24T00:00:00.000000000",
          "2016-02-25T00:00:00.000000000",
          "2016-02-26T00:00:00.000000000",
          "2016-02-29T00:00:00.000000000",
          "2016-03-01T00:00:00.000000000",
          "2016-03-02T00:00:00.000000000",
          "2016-03-03T00:00:00.000000000",
          "2016-03-04T00:00:00.000000000",
          "2016-03-07T00:00:00.000000000",
          "2016-03-08T00:00:00.000000000",
          "2016-03-09T00:00:00.000000000",
          "2016-03-10T00:00:00.000000000",
          "2016-03-11T00:00:00.000000000",
          "2016-03-14T00:00:00.000000000",
          "2016-03-15T00:00:00.000000000",
          "2016-03-16T00:00:00.000000000",
          "2016-03-17T00:00:00.000000000",
          "2016-03-18T00:00:00.000000000",
          "2016-03-21T00:00:00.000000000",
          "2016-03-22T00:00:00.000000000",
          "2016-03-23T00:00:00.000000000",
          "2016-03-24T00:00:00.000000000",
          "2016-03-28T00:00:00.000000000",
          "2016-03-29T00:00:00.000000000",
          "2016-03-30T00:00:00.000000000",
          "2016-03-31T00:00:00.000000000",
          "2016-04-01T00:00:00.000000000",
          "2016-04-04T00:00:00.000000000",
          "2016-04-05T00:00:00.000000000",
          "2016-04-06T00:00:00.000000000",
          "2016-04-07T00:00:00.000000000",
          "2016-04-08T00:00:00.000000000",
          "2016-04-11T00:00:00.000000000",
          "2016-04-12T00:00:00.000000000",
          "2016-04-13T00:00:00.000000000",
          "2016-04-14T00:00:00.000000000",
          "2016-04-15T00:00:00.000000000",
          "2016-04-18T00:00:00.000000000",
          "2016-04-19T00:00:00.000000000",
          "2016-04-20T00:00:00.000000000",
          "2016-04-21T00:00:00.000000000",
          "2016-04-22T00:00:00.000000000",
          "2016-04-25T00:00:00.000000000",
          "2016-04-26T00:00:00.000000000",
          "2016-04-27T00:00:00.000000000",
          "2016-04-28T00:00:00.000000000",
          "2016-04-29T00:00:00.000000000",
          "2016-05-02T00:00:00.000000000",
          "2016-05-03T00:00:00.000000000",
          "2016-05-04T00:00:00.000000000",
          "2016-05-05T00:00:00.000000000",
          "2016-05-06T00:00:00.000000000",
          "2016-05-09T00:00:00.000000000",
          "2016-05-10T00:00:00.000000000",
          "2016-05-11T00:00:00.000000000",
          "2016-05-12T00:00:00.000000000",
          "2016-05-13T00:00:00.000000000",
          "2016-05-16T00:00:00.000000000",
          "2016-05-17T00:00:00.000000000",
          "2016-05-18T00:00:00.000000000",
          "2016-05-19T00:00:00.000000000",
          "2016-05-20T00:00:00.000000000",
          "2016-05-23T00:00:00.000000000",
          "2016-05-24T00:00:00.000000000",
          "2016-05-25T00:00:00.000000000",
          "2016-05-26T00:00:00.000000000",
          "2016-05-27T00:00:00.000000000",
          "2016-05-31T00:00:00.000000000",
          "2016-06-01T00:00:00.000000000",
          "2016-06-02T00:00:00.000000000",
          "2016-06-03T00:00:00.000000000",
          "2016-06-06T00:00:00.000000000",
          "2016-06-07T00:00:00.000000000",
          "2016-06-08T00:00:00.000000000",
          "2016-06-09T00:00:00.000000000",
          "2016-06-10T00:00:00.000000000",
          "2016-06-13T00:00:00.000000000",
          "2016-06-14T00:00:00.000000000",
          "2016-06-15T00:00:00.000000000",
          "2016-06-16T00:00:00.000000000",
          "2016-06-17T00:00:00.000000000",
          "2016-06-20T00:00:00.000000000",
          "2016-06-21T00:00:00.000000000",
          "2016-06-22T00:00:00.000000000",
          "2016-06-23T00:00:00.000000000",
          "2016-06-24T00:00:00.000000000",
          "2016-06-27T00:00:00.000000000",
          "2016-06-28T00:00:00.000000000",
          "2016-06-29T00:00:00.000000000",
          "2016-06-30T00:00:00.000000000",
          "2016-07-01T00:00:00.000000000",
          "2016-07-05T00:00:00.000000000",
          "2016-07-06T00:00:00.000000000",
          "2016-07-07T00:00:00.000000000",
          "2016-07-08T00:00:00.000000000",
          "2016-07-11T00:00:00.000000000",
          "2016-07-12T00:00:00.000000000",
          "2016-07-13T00:00:00.000000000",
          "2016-07-14T00:00:00.000000000",
          "2016-07-15T00:00:00.000000000",
          "2016-07-18T00:00:00.000000000",
          "2016-07-19T00:00:00.000000000",
          "2016-07-20T00:00:00.000000000",
          "2016-07-21T00:00:00.000000000",
          "2016-07-22T00:00:00.000000000",
          "2016-07-25T00:00:00.000000000",
          "2016-07-26T00:00:00.000000000",
          "2016-07-27T00:00:00.000000000",
          "2016-07-28T00:00:00.000000000",
          "2016-07-29T00:00:00.000000000",
          "2016-08-01T00:00:00.000000000",
          "2016-08-02T00:00:00.000000000",
          "2016-08-03T00:00:00.000000000",
          "2016-08-04T00:00:00.000000000",
          "2016-08-05T00:00:00.000000000",
          "2016-08-08T00:00:00.000000000",
          "2016-08-09T00:00:00.000000000",
          "2016-08-10T00:00:00.000000000",
          "2016-08-11T00:00:00.000000000",
          "2016-08-12T00:00:00.000000000",
          "2016-08-15T00:00:00.000000000",
          "2016-08-16T00:00:00.000000000",
          "2016-08-17T00:00:00.000000000",
          "2016-08-18T00:00:00.000000000",
          "2016-08-19T00:00:00.000000000",
          "2016-08-22T00:00:00.000000000",
          "2016-08-23T00:00:00.000000000",
          "2016-08-24T00:00:00.000000000",
          "2016-08-25T00:00:00.000000000",
          "2016-08-26T00:00:00.000000000",
          "2016-08-29T00:00:00.000000000",
          "2016-08-30T00:00:00.000000000",
          "2016-08-31T00:00:00.000000000",
          "2016-09-01T00:00:00.000000000",
          "2016-09-02T00:00:00.000000000",
          "2016-09-06T00:00:00.000000000",
          "2016-09-07T00:00:00.000000000",
          "2016-09-08T00:00:00.000000000",
          "2016-09-09T00:00:00.000000000",
          "2016-09-12T00:00:00.000000000",
          "2016-09-13T00:00:00.000000000",
          "2016-09-14T00:00:00.000000000",
          "2016-09-15T00:00:00.000000000",
          "2016-09-16T00:00:00.000000000",
          "2016-09-19T00:00:00.000000000",
          "2016-09-20T00:00:00.000000000",
          "2016-09-21T00:00:00.000000000",
          "2016-09-22T00:00:00.000000000",
          "2016-09-23T00:00:00.000000000",
          "2016-09-26T00:00:00.000000000",
          "2016-09-27T00:00:00.000000000",
          "2016-09-28T00:00:00.000000000",
          "2016-09-29T00:00:00.000000000",
          "2016-09-30T00:00:00.000000000",
          "2016-10-03T00:00:00.000000000",
          "2016-10-04T00:00:00.000000000",
          "2016-10-05T00:00:00.000000000",
          "2016-10-06T00:00:00.000000000",
          "2016-10-07T00:00:00.000000000",
          "2016-10-10T00:00:00.000000000",
          "2016-10-11T00:00:00.000000000",
          "2016-10-12T00:00:00.000000000",
          "2016-10-13T00:00:00.000000000",
          "2016-10-14T00:00:00.000000000",
          "2016-10-17T00:00:00.000000000",
          "2016-10-18T00:00:00.000000000",
          "2016-10-19T00:00:00.000000000",
          "2016-10-20T00:00:00.000000000",
          "2016-10-21T00:00:00.000000000",
          "2016-10-24T00:00:00.000000000",
          "2016-10-25T00:00:00.000000000",
          "2016-10-26T00:00:00.000000000",
          "2016-10-27T00:00:00.000000000",
          "2016-10-28T00:00:00.000000000",
          "2016-10-31T00:00:00.000000000",
          "2016-11-01T00:00:00.000000000",
          "2016-11-02T00:00:00.000000000",
          "2016-11-03T00:00:00.000000000",
          "2016-11-04T00:00:00.000000000",
          "2016-11-07T00:00:00.000000000",
          "2016-11-08T00:00:00.000000000",
          "2016-11-09T00:00:00.000000000",
          "2016-11-10T00:00:00.000000000",
          "2016-11-11T00:00:00.000000000",
          "2016-11-14T00:00:00.000000000",
          "2016-11-15T00:00:00.000000000",
          "2016-11-16T00:00:00.000000000",
          "2016-11-17T00:00:00.000000000",
          "2016-11-18T00:00:00.000000000",
          "2016-11-21T00:00:00.000000000",
          "2016-11-22T00:00:00.000000000",
          "2016-11-23T00:00:00.000000000",
          "2016-11-25T00:00:00.000000000",
          "2016-11-28T00:00:00.000000000",
          "2016-11-29T00:00:00.000000000",
          "2016-11-30T00:00:00.000000000",
          "2016-12-01T00:00:00.000000000",
          "2016-12-02T00:00:00.000000000",
          "2016-12-05T00:00:00.000000000",
          "2016-12-06T00:00:00.000000000",
          "2016-12-07T00:00:00.000000000",
          "2016-12-08T00:00:00.000000000",
          "2016-12-09T00:00:00.000000000",
          "2016-12-12T00:00:00.000000000",
          "2016-12-13T00:00:00.000000000",
          "2016-12-14T00:00:00.000000000",
          "2016-12-15T00:00:00.000000000",
          "2016-12-16T00:00:00.000000000",
          "2016-12-19T00:00:00.000000000",
          "2016-12-20T00:00:00.000000000",
          "2016-12-21T00:00:00.000000000",
          "2016-12-22T00:00:00.000000000",
          "2016-12-23T00:00:00.000000000",
          "2016-12-27T00:00:00.000000000",
          "2016-12-28T00:00:00.000000000",
          "2016-12-29T00:00:00.000000000",
          "2016-12-30T00:00:00.000000000",
          "2017-01-03T00:00:00.000000000",
          "2017-01-04T00:00:00.000000000",
          "2017-01-05T00:00:00.000000000",
          "2017-01-06T00:00:00.000000000",
          "2017-01-09T00:00:00.000000000",
          "2017-01-10T00:00:00.000000000",
          "2017-01-11T00:00:00.000000000",
          "2017-01-12T00:00:00.000000000",
          "2017-01-13T00:00:00.000000000",
          "2017-01-17T00:00:00.000000000",
          "2017-01-18T00:00:00.000000000",
          "2017-01-19T00:00:00.000000000",
          "2017-01-20T00:00:00.000000000",
          "2017-01-23T00:00:00.000000000",
          "2017-01-24T00:00:00.000000000",
          "2017-01-25T00:00:00.000000000",
          "2017-01-26T00:00:00.000000000",
          "2017-01-27T00:00:00.000000000",
          "2017-01-30T00:00:00.000000000",
          "2017-01-31T00:00:00.000000000",
          "2017-02-01T00:00:00.000000000",
          "2017-02-02T00:00:00.000000000",
          "2017-02-03T00:00:00.000000000",
          "2017-02-06T00:00:00.000000000",
          "2017-02-07T00:00:00.000000000",
          "2017-02-08T00:00:00.000000000",
          "2017-02-09T00:00:00.000000000",
          "2017-02-10T00:00:00.000000000",
          "2017-02-13T00:00:00.000000000",
          "2017-02-14T00:00:00.000000000",
          "2017-02-15T00:00:00.000000000",
          "2017-02-16T00:00:00.000000000",
          "2017-02-17T00:00:00.000000000",
          "2017-02-21T00:00:00.000000000",
          "2017-02-22T00:00:00.000000000",
          "2017-02-23T00:00:00.000000000",
          "2017-02-24T00:00:00.000000000",
          "2017-02-27T00:00:00.000000000",
          "2017-02-28T00:00:00.000000000",
          "2017-03-01T00:00:00.000000000",
          "2017-03-02T00:00:00.000000000",
          "2017-03-03T00:00:00.000000000",
          "2017-03-06T00:00:00.000000000",
          "2017-03-07T00:00:00.000000000",
          "2017-03-08T00:00:00.000000000",
          "2017-03-09T00:00:00.000000000",
          "2017-03-10T00:00:00.000000000",
          "2017-03-13T00:00:00.000000000",
          "2017-03-14T00:00:00.000000000",
          "2017-03-15T00:00:00.000000000",
          "2017-03-16T00:00:00.000000000",
          "2017-03-17T00:00:00.000000000",
          "2017-03-20T00:00:00.000000000",
          "2017-03-21T00:00:00.000000000",
          "2017-03-22T00:00:00.000000000",
          "2017-03-23T00:00:00.000000000",
          "2017-03-24T00:00:00.000000000",
          "2017-03-27T00:00:00.000000000",
          "2017-03-28T00:00:00.000000000",
          "2017-03-29T00:00:00.000000000",
          "2017-03-30T00:00:00.000000000",
          "2017-03-31T00:00:00.000000000",
          "2017-04-03T00:00:00.000000000",
          "2017-04-04T00:00:00.000000000",
          "2017-04-05T00:00:00.000000000",
          "2017-04-06T00:00:00.000000000",
          "2017-04-07T00:00:00.000000000",
          "2017-04-10T00:00:00.000000000",
          "2017-04-11T00:00:00.000000000",
          "2017-04-12T00:00:00.000000000",
          "2017-04-13T00:00:00.000000000",
          "2017-04-17T00:00:00.000000000",
          "2017-04-18T00:00:00.000000000",
          "2017-04-19T00:00:00.000000000",
          "2017-04-20T00:00:00.000000000",
          "2017-04-21T00:00:00.000000000",
          "2017-04-24T00:00:00.000000000",
          "2017-04-25T00:00:00.000000000",
          "2017-04-26T00:00:00.000000000",
          "2017-04-27T00:00:00.000000000",
          "2017-04-28T00:00:00.000000000",
          "2017-05-01T00:00:00.000000000",
          "2017-05-02T00:00:00.000000000",
          "2017-05-03T00:00:00.000000000",
          "2017-05-04T00:00:00.000000000",
          "2017-05-05T00:00:00.000000000",
          "2017-05-08T00:00:00.000000000",
          "2017-05-09T00:00:00.000000000",
          "2017-05-10T00:00:00.000000000",
          "2017-05-11T00:00:00.000000000",
          "2017-05-12T00:00:00.000000000",
          "2017-05-15T00:00:00.000000000",
          "2017-05-16T00:00:00.000000000",
          "2017-05-17T00:00:00.000000000",
          "2017-05-18T00:00:00.000000000",
          "2017-05-19T00:00:00.000000000",
          "2017-05-22T00:00:00.000000000",
          "2017-05-23T00:00:00.000000000",
          "2017-05-24T00:00:00.000000000",
          "2017-05-25T00:00:00.000000000",
          "2017-05-26T00:00:00.000000000",
          "2017-05-30T00:00:00.000000000",
          "2017-05-31T00:00:00.000000000",
          "2017-06-01T00:00:00.000000000",
          "2017-06-02T00:00:00.000000000",
          "2017-06-05T00:00:00.000000000",
          "2017-06-06T00:00:00.000000000",
          "2017-06-07T00:00:00.000000000",
          "2017-06-08T00:00:00.000000000",
          "2017-06-09T00:00:00.000000000",
          "2017-06-12T00:00:00.000000000",
          "2017-06-13T00:00:00.000000000",
          "2017-06-14T00:00:00.000000000",
          "2017-06-15T00:00:00.000000000",
          "2017-06-16T00:00:00.000000000",
          "2017-06-19T00:00:00.000000000",
          "2017-06-20T00:00:00.000000000",
          "2017-06-21T00:00:00.000000000",
          "2017-06-22T00:00:00.000000000",
          "2017-06-23T00:00:00.000000000",
          "2017-06-26T00:00:00.000000000",
          "2017-06-27T00:00:00.000000000",
          "2017-06-28T00:00:00.000000000",
          "2017-06-29T00:00:00.000000000",
          "2017-06-30T00:00:00.000000000",
          "2017-07-03T00:00:00.000000000",
          "2017-07-05T00:00:00.000000000",
          "2017-07-06T00:00:00.000000000",
          "2017-07-07T00:00:00.000000000",
          "2017-07-10T00:00:00.000000000",
          "2017-07-11T00:00:00.000000000",
          "2017-07-12T00:00:00.000000000",
          "2017-07-13T00:00:00.000000000",
          "2017-07-14T00:00:00.000000000",
          "2017-07-17T00:00:00.000000000",
          "2017-07-18T00:00:00.000000000",
          "2017-07-19T00:00:00.000000000",
          "2017-07-20T00:00:00.000000000",
          "2017-07-21T00:00:00.000000000",
          "2017-07-24T00:00:00.000000000",
          "2017-07-25T00:00:00.000000000",
          "2017-07-26T00:00:00.000000000",
          "2017-07-27T00:00:00.000000000",
          "2017-07-28T00:00:00.000000000",
          "2017-07-31T00:00:00.000000000",
          "2017-08-01T00:00:00.000000000",
          "2017-08-02T00:00:00.000000000",
          "2017-08-03T00:00:00.000000000",
          "2017-08-04T00:00:00.000000000",
          "2017-08-07T00:00:00.000000000",
          "2017-08-08T00:00:00.000000000",
          "2017-08-09T00:00:00.000000000",
          "2017-08-10T00:00:00.000000000",
          "2017-08-11T00:00:00.000000000",
          "2017-08-14T00:00:00.000000000",
          "2017-08-15T00:00:00.000000000",
          "2017-08-16T00:00:00.000000000",
          "2017-08-17T00:00:00.000000000",
          "2017-08-18T00:00:00.000000000",
          "2017-08-21T00:00:00.000000000",
          "2017-08-22T00:00:00.000000000",
          "2017-08-23T00:00:00.000000000",
          "2017-08-24T00:00:00.000000000",
          "2017-08-25T00:00:00.000000000",
          "2017-08-28T00:00:00.000000000",
          "2017-08-29T00:00:00.000000000",
          "2017-08-30T00:00:00.000000000",
          "2017-08-31T00:00:00.000000000",
          "2017-09-01T00:00:00.000000000",
          "2017-09-05T00:00:00.000000000",
          "2017-09-06T00:00:00.000000000",
          "2017-09-07T00:00:00.000000000",
          "2017-09-08T00:00:00.000000000",
          "2017-09-11T00:00:00.000000000",
          "2017-09-12T00:00:00.000000000",
          "2017-09-13T00:00:00.000000000",
          "2017-09-14T00:00:00.000000000",
          "2017-09-15T00:00:00.000000000",
          "2017-09-18T00:00:00.000000000",
          "2017-09-19T00:00:00.000000000",
          "2017-09-20T00:00:00.000000000",
          "2017-09-21T00:00:00.000000000",
          "2017-09-22T00:00:00.000000000",
          "2017-09-25T00:00:00.000000000",
          "2017-09-26T00:00:00.000000000",
          "2017-09-27T00:00:00.000000000",
          "2017-09-28T00:00:00.000000000",
          "2017-09-29T00:00:00.000000000",
          "2017-10-02T00:00:00.000000000",
          "2017-10-03T00:00:00.000000000",
          "2017-10-04T00:00:00.000000000",
          "2017-10-05T00:00:00.000000000",
          "2017-10-06T00:00:00.000000000",
          "2017-10-09T00:00:00.000000000",
          "2017-10-10T00:00:00.000000000",
          "2017-10-11T00:00:00.000000000",
          "2017-10-12T00:00:00.000000000",
          "2017-10-13T00:00:00.000000000",
          "2017-10-16T00:00:00.000000000",
          "2017-10-17T00:00:00.000000000",
          "2017-10-18T00:00:00.000000000",
          "2017-10-19T00:00:00.000000000",
          "2017-10-20T00:00:00.000000000",
          "2017-10-23T00:00:00.000000000",
          "2017-10-24T00:00:00.000000000",
          "2017-10-25T00:00:00.000000000",
          "2017-10-26T00:00:00.000000000",
          "2017-10-27T00:00:00.000000000",
          "2017-10-30T00:00:00.000000000",
          "2017-10-31T00:00:00.000000000",
          "2017-11-01T00:00:00.000000000",
          "2017-11-02T00:00:00.000000000",
          "2017-11-03T00:00:00.000000000",
          "2017-11-06T00:00:00.000000000",
          "2017-11-07T00:00:00.000000000",
          "2017-11-08T00:00:00.000000000",
          "2017-11-09T00:00:00.000000000",
          "2017-11-10T00:00:00.000000000",
          "2017-11-13T00:00:00.000000000",
          "2017-11-14T00:00:00.000000000",
          "2017-11-15T00:00:00.000000000",
          "2017-11-16T00:00:00.000000000",
          "2017-11-17T00:00:00.000000000",
          "2017-11-20T00:00:00.000000000",
          "2017-11-21T00:00:00.000000000",
          "2017-11-22T00:00:00.000000000",
          "2017-11-24T00:00:00.000000000",
          "2017-11-27T00:00:00.000000000",
          "2017-11-28T00:00:00.000000000",
          "2017-11-29T00:00:00.000000000",
          "2017-11-30T00:00:00.000000000",
          "2017-12-01T00:00:00.000000000",
          "2017-12-04T00:00:00.000000000",
          "2017-12-05T00:00:00.000000000",
          "2017-12-06T00:00:00.000000000",
          "2017-12-07T00:00:00.000000000",
          "2017-12-08T00:00:00.000000000",
          "2017-12-11T00:00:00.000000000",
          "2017-12-12T00:00:00.000000000",
          "2017-12-13T00:00:00.000000000",
          "2017-12-14T00:00:00.000000000",
          "2017-12-15T00:00:00.000000000",
          "2017-12-18T00:00:00.000000000",
          "2017-12-19T00:00:00.000000000",
          "2017-12-20T00:00:00.000000000",
          "2017-12-21T00:00:00.000000000",
          "2017-12-22T00:00:00.000000000",
          "2017-12-26T00:00:00.000000000",
          "2017-12-27T00:00:00.000000000",
          "2017-12-28T00:00:00.000000000",
          "2017-12-29T00:00:00.000000000",
          "2018-01-02T00:00:00.000000000",
          "2018-01-03T00:00:00.000000000",
          "2018-01-04T00:00:00.000000000",
          "2018-01-05T00:00:00.000000000",
          "2018-01-08T00:00:00.000000000",
          "2018-01-09T00:00:00.000000000",
          "2018-01-10T00:00:00.000000000",
          "2018-01-11T00:00:00.000000000",
          "2018-01-12T00:00:00.000000000",
          "2018-01-16T00:00:00.000000000",
          "2018-01-17T00:00:00.000000000",
          "2018-01-18T00:00:00.000000000",
          "2018-01-19T00:00:00.000000000",
          "2018-01-22T00:00:00.000000000",
          "2018-01-23T00:00:00.000000000",
          "2018-01-24T00:00:00.000000000",
          "2018-01-25T00:00:00.000000000",
          "2018-01-26T00:00:00.000000000",
          "2018-01-29T00:00:00.000000000",
          "2018-01-30T00:00:00.000000000",
          "2018-01-31T00:00:00.000000000",
          "2018-02-01T00:00:00.000000000",
          "2018-02-02T00:00:00.000000000",
          "2018-02-05T00:00:00.000000000",
          "2018-02-06T00:00:00.000000000",
          "2018-02-07T00:00:00.000000000",
          "2018-02-08T00:00:00.000000000",
          "2018-02-09T00:00:00.000000000",
          "2018-02-12T00:00:00.000000000",
          "2018-02-13T00:00:00.000000000",
          "2018-02-14T00:00:00.000000000",
          "2018-02-15T00:00:00.000000000",
          "2018-02-16T00:00:00.000000000",
          "2018-02-20T00:00:00.000000000",
          "2018-02-21T00:00:00.000000000",
          "2018-02-22T00:00:00.000000000",
          "2018-02-23T00:00:00.000000000",
          "2018-02-26T00:00:00.000000000",
          "2018-02-27T00:00:00.000000000",
          "2018-02-28T00:00:00.000000000",
          "2018-03-01T00:00:00.000000000",
          "2018-03-02T00:00:00.000000000",
          "2018-03-05T00:00:00.000000000",
          "2018-03-06T00:00:00.000000000",
          "2018-03-07T00:00:00.000000000",
          "2018-03-08T00:00:00.000000000",
          "2018-03-09T00:00:00.000000000",
          "2018-03-12T00:00:00.000000000",
          "2018-03-13T00:00:00.000000000",
          "2018-03-14T00:00:00.000000000",
          "2018-03-15T00:00:00.000000000",
          "2018-03-16T00:00:00.000000000",
          "2018-03-19T00:00:00.000000000",
          "2018-03-20T00:00:00.000000000",
          "2018-03-21T00:00:00.000000000",
          "2018-03-22T00:00:00.000000000",
          "2018-03-23T00:00:00.000000000",
          "2018-03-26T00:00:00.000000000",
          "2018-03-27T00:00:00.000000000",
          "2018-03-28T00:00:00.000000000",
          "2018-03-29T00:00:00.000000000",
          "2018-04-02T00:00:00.000000000",
          "2018-04-03T00:00:00.000000000",
          "2018-04-04T00:00:00.000000000",
          "2018-04-05T00:00:00.000000000",
          "2018-04-06T00:00:00.000000000",
          "2018-04-09T00:00:00.000000000",
          "2018-04-10T00:00:00.000000000",
          "2018-04-11T00:00:00.000000000",
          "2018-04-12T00:00:00.000000000",
          "2018-04-13T00:00:00.000000000",
          "2018-04-16T00:00:00.000000000",
          "2018-04-17T00:00:00.000000000",
          "2018-04-18T00:00:00.000000000",
          "2018-04-19T00:00:00.000000000",
          "2018-04-20T00:00:00.000000000",
          "2018-04-23T00:00:00.000000000",
          "2018-04-24T00:00:00.000000000",
          "2018-04-25T00:00:00.000000000",
          "2018-04-26T00:00:00.000000000",
          "2018-04-27T00:00:00.000000000",
          "2018-04-30T00:00:00.000000000",
          "2018-05-01T00:00:00.000000000",
          "2018-05-02T00:00:00.000000000",
          "2018-05-03T00:00:00.000000000",
          "2018-05-04T00:00:00.000000000",
          "2018-05-07T00:00:00.000000000",
          "2018-05-08T00:00:00.000000000",
          "2018-05-09T00:00:00.000000000",
          "2018-05-10T00:00:00.000000000",
          "2018-05-11T00:00:00.000000000",
          "2018-05-14T00:00:00.000000000",
          "2018-05-15T00:00:00.000000000",
          "2018-05-16T00:00:00.000000000",
          "2018-05-17T00:00:00.000000000",
          "2018-05-18T00:00:00.000000000",
          "2018-05-21T00:00:00.000000000",
          "2018-05-22T00:00:00.000000000",
          "2018-05-23T00:00:00.000000000",
          "2018-05-24T00:00:00.000000000",
          "2018-05-25T00:00:00.000000000",
          "2018-05-29T00:00:00.000000000",
          "2018-05-30T00:00:00.000000000",
          "2018-05-31T00:00:00.000000000",
          "2018-06-01T00:00:00.000000000",
          "2018-06-04T00:00:00.000000000",
          "2018-06-05T00:00:00.000000000",
          "2018-06-06T00:00:00.000000000",
          "2018-06-07T00:00:00.000000000",
          "2018-06-08T00:00:00.000000000",
          "2018-06-11T00:00:00.000000000",
          "2018-06-12T00:00:00.000000000",
          "2018-06-13T00:00:00.000000000",
          "2018-06-14T00:00:00.000000000",
          "2018-06-15T00:00:00.000000000",
          "2018-06-18T00:00:00.000000000",
          "2018-06-19T00:00:00.000000000",
          "2018-06-20T00:00:00.000000000",
          "2018-06-21T00:00:00.000000000",
          "2018-06-22T00:00:00.000000000",
          "2018-06-25T00:00:00.000000000",
          "2018-06-26T00:00:00.000000000",
          "2018-06-27T00:00:00.000000000",
          "2018-06-28T00:00:00.000000000",
          "2018-06-29T00:00:00.000000000",
          "2018-07-02T00:00:00.000000000",
          "2018-07-03T00:00:00.000000000",
          "2018-07-05T00:00:00.000000000",
          "2018-07-06T00:00:00.000000000",
          "2018-07-09T00:00:00.000000000",
          "2018-07-10T00:00:00.000000000",
          "2018-07-11T00:00:00.000000000",
          "2018-07-12T00:00:00.000000000",
          "2018-07-13T00:00:00.000000000",
          "2018-07-16T00:00:00.000000000",
          "2018-07-17T00:00:00.000000000",
          "2018-07-18T00:00:00.000000000",
          "2018-07-19T00:00:00.000000000",
          "2018-07-20T00:00:00.000000000",
          "2018-07-23T00:00:00.000000000",
          "2018-07-24T00:00:00.000000000",
          "2018-07-25T00:00:00.000000000",
          "2018-07-26T00:00:00.000000000",
          "2018-07-27T00:00:00.000000000",
          "2018-07-30T00:00:00.000000000",
          "2018-07-31T00:00:00.000000000",
          "2018-08-01T00:00:00.000000000",
          "2018-08-02T00:00:00.000000000",
          "2018-08-03T00:00:00.000000000",
          "2018-08-06T00:00:00.000000000",
          "2018-08-07T00:00:00.000000000",
          "2018-08-08T00:00:00.000000000",
          "2018-08-09T00:00:00.000000000",
          "2018-08-10T00:00:00.000000000",
          "2018-08-13T00:00:00.000000000",
          "2018-08-14T00:00:00.000000000",
          "2018-08-15T00:00:00.000000000",
          "2018-08-16T00:00:00.000000000",
          "2018-08-17T00:00:00.000000000",
          "2018-08-20T00:00:00.000000000",
          "2018-08-21T00:00:00.000000000",
          "2018-08-22T00:00:00.000000000",
          "2018-08-23T00:00:00.000000000",
          "2018-08-24T00:00:00.000000000",
          "2018-08-27T00:00:00.000000000",
          "2018-08-28T00:00:00.000000000",
          "2018-08-29T00:00:00.000000000",
          "2018-08-30T00:00:00.000000000",
          "2018-08-31T00:00:00.000000000",
          "2018-09-04T00:00:00.000000000",
          "2018-09-05T00:00:00.000000000",
          "2018-09-06T00:00:00.000000000",
          "2018-09-07T00:00:00.000000000",
          "2018-09-10T00:00:00.000000000",
          "2018-09-11T00:00:00.000000000",
          "2018-09-12T00:00:00.000000000",
          "2018-09-13T00:00:00.000000000",
          "2018-09-14T00:00:00.000000000",
          "2018-09-17T00:00:00.000000000",
          "2018-09-18T00:00:00.000000000",
          "2018-09-19T00:00:00.000000000",
          "2018-09-20T00:00:00.000000000",
          "2018-09-21T00:00:00.000000000",
          "2018-09-24T00:00:00.000000000",
          "2018-09-25T00:00:00.000000000",
          "2018-09-26T00:00:00.000000000",
          "2018-09-27T00:00:00.000000000",
          "2018-09-28T00:00:00.000000000",
          "2018-10-01T00:00:00.000000000",
          "2018-10-02T00:00:00.000000000",
          "2018-10-03T00:00:00.000000000",
          "2018-10-04T00:00:00.000000000",
          "2018-10-05T00:00:00.000000000",
          "2018-10-08T00:00:00.000000000",
          "2018-10-09T00:00:00.000000000",
          "2018-10-10T00:00:00.000000000",
          "2018-10-11T00:00:00.000000000",
          "2018-10-12T00:00:00.000000000",
          "2018-10-15T00:00:00.000000000",
          "2018-10-16T00:00:00.000000000",
          "2018-10-17T00:00:00.000000000",
          "2018-10-18T00:00:00.000000000",
          "2018-10-19T00:00:00.000000000",
          "2018-10-22T00:00:00.000000000",
          "2018-10-23T00:00:00.000000000",
          "2018-10-24T00:00:00.000000000",
          "2018-10-25T00:00:00.000000000",
          "2018-10-26T00:00:00.000000000",
          "2018-10-29T00:00:00.000000000",
          "2018-10-30T00:00:00.000000000",
          "2018-10-31T00:00:00.000000000",
          "2018-11-01T00:00:00.000000000",
          "2018-11-02T00:00:00.000000000",
          "2018-11-05T00:00:00.000000000",
          "2018-11-06T00:00:00.000000000",
          "2018-11-07T00:00:00.000000000",
          "2018-11-08T00:00:00.000000000",
          "2018-11-09T00:00:00.000000000",
          "2018-11-12T00:00:00.000000000",
          "2018-11-13T00:00:00.000000000",
          "2018-11-14T00:00:00.000000000",
          "2018-11-15T00:00:00.000000000",
          "2018-11-16T00:00:00.000000000",
          "2018-11-19T00:00:00.000000000",
          "2018-11-20T00:00:00.000000000",
          "2018-11-21T00:00:00.000000000",
          "2018-11-23T00:00:00.000000000",
          "2018-11-26T00:00:00.000000000",
          "2018-11-27T00:00:00.000000000",
          "2018-11-28T00:00:00.000000000",
          "2018-11-29T00:00:00.000000000",
          "2018-11-30T00:00:00.000000000",
          "2018-12-03T00:00:00.000000000",
          "2018-12-04T00:00:00.000000000",
          "2018-12-06T00:00:00.000000000",
          "2018-12-07T00:00:00.000000000",
          "2018-12-10T00:00:00.000000000",
          "2018-12-11T00:00:00.000000000",
          "2018-12-12T00:00:00.000000000",
          "2018-12-13T00:00:00.000000000",
          "2018-12-14T00:00:00.000000000",
          "2018-12-17T00:00:00.000000000",
          "2018-12-18T00:00:00.000000000",
          "2018-12-19T00:00:00.000000000",
          "2018-12-20T00:00:00.000000000",
          "2018-12-21T00:00:00.000000000",
          "2018-12-24T00:00:00.000000000",
          "2018-12-26T00:00:00.000000000",
          "2018-12-27T00:00:00.000000000",
          "2018-12-28T00:00:00.000000000",
          "2018-12-31T00:00:00.000000000",
          "2019-01-02T00:00:00.000000000",
          "2019-01-03T00:00:00.000000000",
          "2019-01-04T00:00:00.000000000",
          "2019-01-07T00:00:00.000000000",
          "2019-01-08T00:00:00.000000000",
          "2019-01-09T00:00:00.000000000",
          "2019-01-10T00:00:00.000000000",
          "2019-01-11T00:00:00.000000000",
          "2019-01-14T00:00:00.000000000",
          "2019-01-15T00:00:00.000000000",
          "2019-01-16T00:00:00.000000000",
          "2019-01-17T00:00:00.000000000",
          "2019-01-18T00:00:00.000000000",
          "2019-01-22T00:00:00.000000000",
          "2019-01-23T00:00:00.000000000",
          "2019-01-24T00:00:00.000000000",
          "2019-01-25T00:00:00.000000000",
          "2019-01-28T00:00:00.000000000",
          "2019-01-29T00:00:00.000000000",
          "2019-01-30T00:00:00.000000000",
          "2019-01-31T00:00:00.000000000",
          "2019-02-01T00:00:00.000000000",
          "2019-02-04T00:00:00.000000000",
          "2019-02-05T00:00:00.000000000",
          "2019-02-06T00:00:00.000000000",
          "2019-02-07T00:00:00.000000000",
          "2019-02-08T00:00:00.000000000",
          "2019-02-11T00:00:00.000000000",
          "2019-02-12T00:00:00.000000000",
          "2019-02-13T00:00:00.000000000",
          "2019-02-14T00:00:00.000000000",
          "2019-02-15T00:00:00.000000000",
          "2019-02-19T00:00:00.000000000",
          "2019-02-20T00:00:00.000000000",
          "2019-02-21T00:00:00.000000000",
          "2019-02-22T00:00:00.000000000",
          "2019-02-25T00:00:00.000000000",
          "2019-02-26T00:00:00.000000000",
          "2019-02-27T00:00:00.000000000",
          "2019-02-28T00:00:00.000000000",
          "2019-03-01T00:00:00.000000000",
          "2019-03-04T00:00:00.000000000",
          "2019-03-05T00:00:00.000000000",
          "2019-03-06T00:00:00.000000000",
          "2019-03-07T00:00:00.000000000",
          "2019-03-08T00:00:00.000000000",
          "2019-03-11T00:00:00.000000000",
          "2019-03-12T00:00:00.000000000",
          "2019-03-13T00:00:00.000000000",
          "2019-03-14T00:00:00.000000000",
          "2019-03-15T00:00:00.000000000",
          "2019-03-18T00:00:00.000000000",
          "2019-03-19T00:00:00.000000000",
          "2019-03-20T00:00:00.000000000",
          "2019-03-21T00:00:00.000000000",
          "2019-03-22T00:00:00.000000000",
          "2019-03-25T00:00:00.000000000",
          "2019-03-26T00:00:00.000000000",
          "2019-03-27T00:00:00.000000000",
          "2019-03-28T00:00:00.000000000",
          "2019-03-29T00:00:00.000000000",
          "2019-04-01T00:00:00.000000000",
          "2019-04-02T00:00:00.000000000",
          "2019-04-03T00:00:00.000000000",
          "2019-04-04T00:00:00.000000000",
          "2019-04-05T00:00:00.000000000",
          "2019-04-08T00:00:00.000000000",
          "2019-04-09T00:00:00.000000000",
          "2019-04-10T00:00:00.000000000",
          "2019-04-11T00:00:00.000000000",
          "2019-04-12T00:00:00.000000000",
          "2019-04-15T00:00:00.000000000",
          "2019-04-16T00:00:00.000000000",
          "2019-04-17T00:00:00.000000000",
          "2019-04-18T00:00:00.000000000",
          "2019-04-22T00:00:00.000000000",
          "2019-04-23T00:00:00.000000000",
          "2019-04-24T00:00:00.000000000",
          "2019-04-25T00:00:00.000000000",
          "2019-04-26T00:00:00.000000000",
          "2019-04-29T00:00:00.000000000",
          "2019-04-30T00:00:00.000000000",
          "2019-05-01T00:00:00.000000000",
          "2019-05-02T00:00:00.000000000",
          "2019-05-03T00:00:00.000000000",
          "2019-05-06T00:00:00.000000000",
          "2019-05-07T00:00:00.000000000",
          "2019-05-08T00:00:00.000000000",
          "2019-05-09T00:00:00.000000000",
          "2019-05-10T00:00:00.000000000",
          "2019-05-13T00:00:00.000000000",
          "2019-05-14T00:00:00.000000000",
          "2019-05-15T00:00:00.000000000",
          "2019-05-16T00:00:00.000000000",
          "2019-05-17T00:00:00.000000000",
          "2019-05-20T00:00:00.000000000",
          "2019-05-21T00:00:00.000000000",
          "2019-05-22T00:00:00.000000000",
          "2019-05-23T00:00:00.000000000",
          "2019-05-24T00:00:00.000000000",
          "2019-05-28T00:00:00.000000000",
          "2019-05-29T00:00:00.000000000",
          "2019-05-30T00:00:00.000000000",
          "2019-05-31T00:00:00.000000000",
          "2019-06-03T00:00:00.000000000",
          "2019-06-04T00:00:00.000000000",
          "2019-06-05T00:00:00.000000000",
          "2019-06-06T00:00:00.000000000",
          "2019-06-07T00:00:00.000000000",
          "2019-06-10T00:00:00.000000000",
          "2019-06-11T00:00:00.000000000",
          "2019-06-12T00:00:00.000000000",
          "2019-06-13T00:00:00.000000000",
          "2019-06-14T00:00:00.000000000",
          "2019-06-17T00:00:00.000000000",
          "2019-06-18T00:00:00.000000000",
          "2019-06-19T00:00:00.000000000",
          "2019-06-20T00:00:00.000000000",
          "2019-06-21T00:00:00.000000000",
          "2019-06-24T00:00:00.000000000",
          "2019-06-25T00:00:00.000000000",
          "2019-06-26T00:00:00.000000000",
          "2019-06-27T00:00:00.000000000",
          "2019-06-28T00:00:00.000000000",
          "2019-07-01T00:00:00.000000000",
          "2019-07-02T00:00:00.000000000",
          "2019-07-03T00:00:00.000000000",
          "2019-07-05T00:00:00.000000000",
          "2019-07-08T00:00:00.000000000",
          "2019-07-09T00:00:00.000000000",
          "2019-07-10T00:00:00.000000000",
          "2019-07-11T00:00:00.000000000",
          "2019-07-12T00:00:00.000000000",
          "2019-07-15T00:00:00.000000000",
          "2019-07-16T00:00:00.000000000",
          "2019-07-17T00:00:00.000000000",
          "2019-07-18T00:00:00.000000000",
          "2019-07-19T00:00:00.000000000",
          "2019-07-22T00:00:00.000000000",
          "2019-07-23T00:00:00.000000000",
          "2019-07-24T00:00:00.000000000",
          "2019-07-25T00:00:00.000000000",
          "2019-07-26T00:00:00.000000000",
          "2019-07-29T00:00:00.000000000",
          "2019-07-30T00:00:00.000000000",
          "2019-07-31T00:00:00.000000000",
          "2019-08-01T00:00:00.000000000",
          "2019-08-02T00:00:00.000000000",
          "2019-08-05T00:00:00.000000000",
          "2019-08-06T00:00:00.000000000",
          "2019-08-07T00:00:00.000000000",
          "2019-08-08T00:00:00.000000000",
          "2019-08-09T00:00:00.000000000",
          "2019-08-12T00:00:00.000000000",
          "2019-08-13T00:00:00.000000000",
          "2019-08-14T00:00:00.000000000",
          "2019-08-15T00:00:00.000000000",
          "2019-08-16T00:00:00.000000000",
          "2019-08-19T00:00:00.000000000",
          "2019-08-20T00:00:00.000000000",
          "2019-08-21T00:00:00.000000000",
          "2019-08-22T00:00:00.000000000",
          "2019-08-23T00:00:00.000000000",
          "2019-08-26T00:00:00.000000000",
          "2019-08-27T00:00:00.000000000",
          "2019-08-28T00:00:00.000000000",
          "2019-08-29T00:00:00.000000000",
          "2019-08-30T00:00:00.000000000",
          "2019-09-03T00:00:00.000000000",
          "2019-09-04T00:00:00.000000000",
          "2019-09-05T00:00:00.000000000",
          "2019-09-06T00:00:00.000000000",
          "2019-09-09T00:00:00.000000000",
          "2019-09-10T00:00:00.000000000",
          "2019-09-11T00:00:00.000000000",
          "2019-09-12T00:00:00.000000000",
          "2019-09-13T00:00:00.000000000",
          "2019-09-16T00:00:00.000000000",
          "2019-09-17T00:00:00.000000000",
          "2019-09-18T00:00:00.000000000",
          "2019-09-19T00:00:00.000000000",
          "2019-09-20T00:00:00.000000000",
          "2019-09-23T00:00:00.000000000",
          "2019-09-24T00:00:00.000000000",
          "2019-09-25T00:00:00.000000000",
          "2019-09-26T00:00:00.000000000",
          "2019-09-27T00:00:00.000000000",
          "2019-09-30T00:00:00.000000000",
          "2019-10-01T00:00:00.000000000",
          "2019-10-02T00:00:00.000000000",
          "2019-10-03T00:00:00.000000000",
          "2019-10-04T00:00:00.000000000",
          "2019-10-07T00:00:00.000000000",
          "2019-10-08T00:00:00.000000000",
          "2019-10-09T00:00:00.000000000",
          "2019-10-10T00:00:00.000000000",
          "2019-10-11T00:00:00.000000000",
          "2019-10-14T00:00:00.000000000",
          "2019-10-15T00:00:00.000000000",
          "2019-10-16T00:00:00.000000000",
          "2019-10-17T00:00:00.000000000",
          "2019-10-18T00:00:00.000000000",
          "2019-10-21T00:00:00.000000000",
          "2019-10-22T00:00:00.000000000",
          "2019-10-23T00:00:00.000000000",
          "2019-10-24T00:00:00.000000000",
          "2019-10-25T00:00:00.000000000",
          "2019-10-28T00:00:00.000000000",
          "2019-10-29T00:00:00.000000000",
          "2019-10-30T00:00:00.000000000",
          "2019-10-31T00:00:00.000000000",
          "2019-11-01T00:00:00.000000000",
          "2019-11-04T00:00:00.000000000",
          "2019-11-05T00:00:00.000000000",
          "2019-11-06T00:00:00.000000000",
          "2019-11-07T00:00:00.000000000",
          "2019-11-08T00:00:00.000000000",
          "2019-11-11T00:00:00.000000000",
          "2019-11-12T00:00:00.000000000",
          "2019-11-13T00:00:00.000000000",
          "2019-11-14T00:00:00.000000000",
          "2019-11-15T00:00:00.000000000",
          "2019-11-18T00:00:00.000000000",
          "2019-11-19T00:00:00.000000000",
          "2019-11-20T00:00:00.000000000",
          "2019-11-21T00:00:00.000000000",
          "2019-11-22T00:00:00.000000000",
          "2019-11-25T00:00:00.000000000",
          "2019-11-26T00:00:00.000000000",
          "2019-11-27T00:00:00.000000000",
          "2019-11-29T00:00:00.000000000",
          "2019-12-02T00:00:00.000000000",
          "2019-12-03T00:00:00.000000000",
          "2019-12-04T00:00:00.000000000",
          "2019-12-05T00:00:00.000000000",
          "2019-12-06T00:00:00.000000000",
          "2019-12-09T00:00:00.000000000",
          "2019-12-10T00:00:00.000000000",
          "2019-12-11T00:00:00.000000000",
          "2019-12-12T00:00:00.000000000",
          "2019-12-13T00:00:00.000000000",
          "2019-12-16T00:00:00.000000000",
          "2019-12-17T00:00:00.000000000",
          "2019-12-18T00:00:00.000000000",
          "2019-12-19T00:00:00.000000000",
          "2019-12-20T00:00:00.000000000",
          "2019-12-23T00:00:00.000000000",
          "2019-12-24T00:00:00.000000000",
          "2019-12-26T00:00:00.000000000",
          "2019-12-27T00:00:00.000000000",
          "2019-12-30T00:00:00.000000000",
          "2019-12-31T00:00:00.000000000",
          "2020-01-02T00:00:00.000000000",
          "2020-01-03T00:00:00.000000000",
          "2020-01-06T00:00:00.000000000",
          "2020-01-07T00:00:00.000000000",
          "2020-01-08T00:00:00.000000000",
          "2020-01-09T00:00:00.000000000",
          "2020-01-10T00:00:00.000000000",
          "2020-01-13T00:00:00.000000000",
          "2020-01-14T00:00:00.000000000",
          "2020-01-15T00:00:00.000000000",
          "2020-01-16T00:00:00.000000000",
          "2020-01-17T00:00:00.000000000",
          "2020-01-21T00:00:00.000000000",
          "2020-01-22T00:00:00.000000000",
          "2020-01-23T00:00:00.000000000",
          "2020-01-24T00:00:00.000000000",
          "2020-01-27T00:00:00.000000000",
          "2020-01-28T00:00:00.000000000",
          "2020-01-29T00:00:00.000000000",
          "2020-01-30T00:00:00.000000000",
          "2020-01-31T00:00:00.000000000",
          "2020-02-03T00:00:00.000000000",
          "2020-02-04T00:00:00.000000000",
          "2020-02-05T00:00:00.000000000",
          "2020-02-06T00:00:00.000000000",
          "2020-02-07T00:00:00.000000000",
          "2020-02-10T00:00:00.000000000",
          "2020-02-11T00:00:00.000000000",
          "2020-02-12T00:00:00.000000000",
          "2020-02-13T00:00:00.000000000",
          "2020-02-14T00:00:00.000000000",
          "2020-02-18T00:00:00.000000000",
          "2020-02-19T00:00:00.000000000",
          "2020-02-20T00:00:00.000000000",
          "2020-02-21T00:00:00.000000000",
          "2020-02-24T00:00:00.000000000",
          "2020-02-25T00:00:00.000000000",
          "2020-02-26T00:00:00.000000000",
          "2020-02-27T00:00:00.000000000",
          "2020-02-28T00:00:00.000000000",
          "2020-03-02T00:00:00.000000000",
          "2020-03-03T00:00:00.000000000",
          "2020-03-04T00:00:00.000000000",
          "2020-03-05T00:00:00.000000000",
          "2020-03-06T00:00:00.000000000",
          "2020-03-09T00:00:00.000000000",
          "2020-03-10T00:00:00.000000000",
          "2020-03-11T00:00:00.000000000",
          "2020-03-12T00:00:00.000000000",
          "2020-03-13T00:00:00.000000000",
          "2020-03-16T00:00:00.000000000",
          "2020-03-17T00:00:00.000000000",
          "2020-03-18T00:00:00.000000000",
          "2020-03-19T00:00:00.000000000",
          "2020-03-20T00:00:00.000000000",
          "2020-03-23T00:00:00.000000000",
          "2020-03-24T00:00:00.000000000",
          "2020-03-25T00:00:00.000000000",
          "2020-03-26T00:00:00.000000000",
          "2020-03-27T00:00:00.000000000",
          "2020-03-30T00:00:00.000000000",
          "2020-03-31T00:00:00.000000000",
          "2020-04-01T00:00:00.000000000",
          "2020-04-02T00:00:00.000000000",
          "2020-04-03T00:00:00.000000000",
          "2020-04-06T00:00:00.000000000",
          "2020-04-07T00:00:00.000000000",
          "2020-04-08T00:00:00.000000000",
          "2020-04-09T00:00:00.000000000",
          "2020-04-13T00:00:00.000000000",
          "2020-04-14T00:00:00.000000000",
          "2020-04-15T00:00:00.000000000",
          "2020-04-16T00:00:00.000000000",
          "2020-04-17T00:00:00.000000000",
          "2020-04-20T00:00:00.000000000",
          "2020-04-21T00:00:00.000000000",
          "2020-04-22T00:00:00.000000000",
          "2020-04-23T00:00:00.000000000",
          "2020-04-24T00:00:00.000000000",
          "2020-04-27T00:00:00.000000000",
          "2020-04-28T00:00:00.000000000",
          "2020-04-29T00:00:00.000000000",
          "2020-04-30T00:00:00.000000000",
          "2020-05-01T00:00:00.000000000",
          "2020-05-04T00:00:00.000000000",
          "2020-05-05T00:00:00.000000000",
          "2020-05-06T00:00:00.000000000",
          "2020-05-07T00:00:00.000000000",
          "2020-05-08T00:00:00.000000000",
          "2020-05-11T00:00:00.000000000",
          "2020-05-12T00:00:00.000000000",
          "2020-05-13T00:00:00.000000000",
          "2020-05-14T00:00:00.000000000",
          "2020-05-15T00:00:00.000000000",
          "2020-05-18T00:00:00.000000000",
          "2020-05-19T00:00:00.000000000",
          "2020-05-20T00:00:00.000000000",
          "2020-05-21T00:00:00.000000000",
          "2020-05-22T00:00:00.000000000",
          "2020-05-26T00:00:00.000000000",
          "2020-05-27T00:00:00.000000000",
          "2020-05-28T00:00:00.000000000",
          "2020-05-29T00:00:00.000000000",
          "2020-06-01T00:00:00.000000000",
          "2020-06-02T00:00:00.000000000",
          "2020-06-03T00:00:00.000000000",
          "2020-06-04T00:00:00.000000000",
          "2020-06-05T00:00:00.000000000",
          "2020-06-08T00:00:00.000000000",
          "2020-06-09T00:00:00.000000000",
          "2020-06-10T00:00:00.000000000",
          "2020-06-11T00:00:00.000000000",
          "2020-06-12T00:00:00.000000000",
          "2020-06-15T00:00:00.000000000",
          "2020-06-16T00:00:00.000000000",
          "2020-06-17T00:00:00.000000000",
          "2020-06-18T00:00:00.000000000",
          "2020-06-19T00:00:00.000000000",
          "2020-06-22T00:00:00.000000000",
          "2020-06-23T00:00:00.000000000",
          "2020-06-24T00:00:00.000000000",
          "2020-06-25T00:00:00.000000000",
          "2020-06-26T00:00:00.000000000",
          "2020-06-29T00:00:00.000000000",
          "2020-06-30T00:00:00.000000000",
          "2020-07-01T00:00:00.000000000",
          "2020-07-02T00:00:00.000000000",
          "2020-07-06T00:00:00.000000000",
          "2020-07-07T00:00:00.000000000",
          "2020-07-08T00:00:00.000000000",
          "2020-07-09T00:00:00.000000000",
          "2020-07-10T00:00:00.000000000",
          "2020-07-13T00:00:00.000000000",
          "2020-07-14T00:00:00.000000000",
          "2020-07-15T00:00:00.000000000",
          "2020-07-16T00:00:00.000000000",
          "2020-07-17T00:00:00.000000000",
          "2020-07-20T00:00:00.000000000",
          "2020-07-21T00:00:00.000000000",
          "2020-07-22T00:00:00.000000000",
          "2020-07-23T00:00:00.000000000",
          "2020-07-24T00:00:00.000000000",
          "2020-07-27T00:00:00.000000000",
          "2020-07-28T00:00:00.000000000",
          "2020-07-29T00:00:00.000000000",
          "2020-07-30T00:00:00.000000000",
          "2020-07-31T00:00:00.000000000",
          "2020-08-03T00:00:00.000000000",
          "2020-08-04T00:00:00.000000000",
          "2020-08-05T00:00:00.000000000",
          "2020-08-06T00:00:00.000000000",
          "2020-08-07T00:00:00.000000000",
          "2020-08-10T00:00:00.000000000",
          "2020-08-11T00:00:00.000000000",
          "2020-08-12T00:00:00.000000000",
          "2020-08-13T00:00:00.000000000",
          "2020-08-14T00:00:00.000000000",
          "2020-08-17T00:00:00.000000000",
          "2020-08-18T00:00:00.000000000",
          "2020-08-19T00:00:00.000000000",
          "2020-08-20T00:00:00.000000000",
          "2020-08-21T00:00:00.000000000",
          "2020-08-24T00:00:00.000000000",
          "2020-08-25T00:00:00.000000000",
          "2020-08-26T00:00:00.000000000",
          "2020-08-27T00:00:00.000000000",
          "2020-08-28T00:00:00.000000000",
          "2020-08-31T00:00:00.000000000",
          "2020-09-01T00:00:00.000000000",
          "2020-09-02T00:00:00.000000000",
          "2020-09-03T00:00:00.000000000",
          "2020-09-04T00:00:00.000000000",
          "2020-09-08T00:00:00.000000000",
          "2020-09-09T00:00:00.000000000",
          "2020-09-10T00:00:00.000000000",
          "2020-09-11T00:00:00.000000000",
          "2020-09-14T00:00:00.000000000",
          "2020-09-15T00:00:00.000000000",
          "2020-09-16T00:00:00.000000000",
          "2020-09-17T00:00:00.000000000",
          "2020-09-18T00:00:00.000000000",
          "2020-09-21T00:00:00.000000000",
          "2020-09-22T00:00:00.000000000",
          "2020-09-23T00:00:00.000000000",
          "2020-09-24T00:00:00.000000000",
          "2020-09-25T00:00:00.000000000",
          "2020-09-28T00:00:00.000000000",
          "2020-09-29T00:00:00.000000000",
          "2020-09-30T00:00:00.000000000",
          "2020-10-01T00:00:00.000000000",
          "2020-10-02T00:00:00.000000000",
          "2020-10-05T00:00:00.000000000",
          "2020-10-06T00:00:00.000000000",
          "2020-10-07T00:00:00.000000000",
          "2020-10-08T00:00:00.000000000",
          "2020-10-09T00:00:00.000000000",
          "2020-10-12T00:00:00.000000000",
          "2020-10-13T00:00:00.000000000",
          "2020-10-14T00:00:00.000000000",
          "2020-10-15T00:00:00.000000000",
          "2020-10-16T00:00:00.000000000",
          "2020-10-19T00:00:00.000000000",
          "2020-10-20T00:00:00.000000000",
          "2020-10-21T00:00:00.000000000",
          "2020-10-22T00:00:00.000000000",
          "2020-10-23T00:00:00.000000000",
          "2020-10-26T00:00:00.000000000",
          "2020-10-27T00:00:00.000000000",
          "2020-10-28T00:00:00.000000000",
          "2020-10-29T00:00:00.000000000",
          "2020-10-30T00:00:00.000000000",
          "2020-11-02T00:00:00.000000000",
          "2020-11-03T00:00:00.000000000",
          "2020-11-04T00:00:00.000000000",
          "2020-11-05T00:00:00.000000000",
          "2020-11-06T00:00:00.000000000",
          "2020-11-09T00:00:00.000000000",
          "2020-11-10T00:00:00.000000000",
          "2020-11-11T00:00:00.000000000",
          "2020-11-12T00:00:00.000000000",
          "2020-11-13T00:00:00.000000000",
          "2020-11-16T00:00:00.000000000",
          "2020-11-17T00:00:00.000000000",
          "2020-11-18T00:00:00.000000000",
          "2020-11-19T00:00:00.000000000",
          "2020-11-20T00:00:00.000000000",
          "2020-11-23T00:00:00.000000000",
          "2020-11-24T00:00:00.000000000",
          "2020-11-25T00:00:00.000000000",
          "2020-11-27T00:00:00.000000000",
          "2020-11-30T00:00:00.000000000",
          "2020-12-01T00:00:00.000000000",
          "2020-12-02T00:00:00.000000000",
          "2020-12-03T00:00:00.000000000",
          "2020-12-04T00:00:00.000000000",
          "2020-12-07T00:00:00.000000000",
          "2020-12-08T00:00:00.000000000",
          "2020-12-09T00:00:00.000000000",
          "2020-12-10T00:00:00.000000000",
          "2020-12-11T00:00:00.000000000",
          "2020-12-14T00:00:00.000000000",
          "2020-12-15T00:00:00.000000000",
          "2020-12-16T00:00:00.000000000",
          "2020-12-17T00:00:00.000000000",
          "2020-12-18T00:00:00.000000000",
          "2020-12-21T00:00:00.000000000",
          "2020-12-22T00:00:00.000000000",
          "2020-12-23T00:00:00.000000000",
          "2020-12-24T00:00:00.000000000",
          "2020-12-28T00:00:00.000000000",
          "2020-12-29T00:00:00.000000000",
          "2020-12-30T00:00:00.000000000",
          "2020-12-31T00:00:00.000000000",
          "2021-01-04T00:00:00.000000000",
          "2021-01-05T00:00:00.000000000",
          "2021-01-06T00:00:00.000000000",
          "2021-01-07T00:00:00.000000000",
          "2021-01-08T00:00:00.000000000",
          "2021-01-11T00:00:00.000000000",
          "2021-01-12T00:00:00.000000000",
          "2021-01-13T00:00:00.000000000",
          "2021-01-14T00:00:00.000000000",
          "2021-01-15T00:00:00.000000000",
          "2021-01-19T00:00:00.000000000",
          "2021-01-20T00:00:00.000000000",
          "2021-01-21T00:00:00.000000000",
          "2021-01-22T00:00:00.000000000",
          "2021-01-25T00:00:00.000000000",
          "2021-01-26T00:00:00.000000000",
          "2021-01-27T00:00:00.000000000",
          "2021-01-28T00:00:00.000000000",
          "2021-01-29T00:00:00.000000000",
          "2021-02-01T00:00:00.000000000",
          "2021-02-02T00:00:00.000000000",
          "2021-02-03T00:00:00.000000000",
          "2021-02-04T00:00:00.000000000",
          "2021-02-05T00:00:00.000000000",
          "2021-02-08T00:00:00.000000000",
          "2021-02-09T00:00:00.000000000",
          "2021-02-10T00:00:00.000000000",
          "2021-02-11T00:00:00.000000000",
          "2021-02-12T00:00:00.000000000",
          "2021-02-16T00:00:00.000000000",
          "2021-02-17T00:00:00.000000000",
          "2021-02-18T00:00:00.000000000",
          "2021-02-19T00:00:00.000000000",
          "2021-02-22T00:00:00.000000000",
          "2021-02-23T00:00:00.000000000",
          "2021-02-24T00:00:00.000000000",
          "2021-02-25T00:00:00.000000000",
          "2021-02-26T00:00:00.000000000",
          "2021-03-01T00:00:00.000000000",
          "2021-03-02T00:00:00.000000000",
          "2021-03-03T00:00:00.000000000",
          "2021-03-04T00:00:00.000000000",
          "2021-03-05T00:00:00.000000000",
          "2021-03-08T00:00:00.000000000",
          "2021-03-09T00:00:00.000000000",
          "2021-03-10T00:00:00.000000000",
          "2021-03-11T00:00:00.000000000",
          "2021-03-12T00:00:00.000000000",
          "2021-03-15T00:00:00.000000000",
          "2021-03-16T00:00:00.000000000",
          "2021-03-17T00:00:00.000000000",
          "2021-03-18T00:00:00.000000000",
          "2021-03-19T00:00:00.000000000",
          "2021-03-22T00:00:00.000000000",
          "2021-03-23T00:00:00.000000000",
          "2021-03-24T00:00:00.000000000",
          "2021-03-25T00:00:00.000000000",
          "2021-03-26T00:00:00.000000000",
          "2021-03-29T00:00:00.000000000",
          "2021-03-30T00:00:00.000000000",
          "2021-03-31T00:00:00.000000000",
          "2021-04-01T00:00:00.000000000",
          "2021-04-05T00:00:00.000000000",
          "2021-04-06T00:00:00.000000000",
          "2021-04-07T00:00:00.000000000",
          "2021-04-08T00:00:00.000000000",
          "2021-04-09T00:00:00.000000000",
          "2021-04-12T00:00:00.000000000",
          "2021-04-13T00:00:00.000000000",
          "2021-04-14T00:00:00.000000000",
          "2021-04-15T00:00:00.000000000",
          "2021-04-16T00:00:00.000000000",
          "2021-04-19T00:00:00.000000000",
          "2021-04-20T00:00:00.000000000",
          "2021-04-21T00:00:00.000000000",
          "2021-04-22T00:00:00.000000000",
          "2021-04-23T00:00:00.000000000",
          "2021-04-26T00:00:00.000000000",
          "2021-04-27T00:00:00.000000000",
          "2021-04-28T00:00:00.000000000",
          "2021-04-29T00:00:00.000000000",
          "2021-04-30T00:00:00.000000000",
          "2021-05-03T00:00:00.000000000",
          "2021-05-04T00:00:00.000000000",
          "2021-05-05T00:00:00.000000000",
          "2021-05-06T00:00:00.000000000",
          "2021-05-07T00:00:00.000000000",
          "2021-05-10T00:00:00.000000000",
          "2021-05-11T00:00:00.000000000",
          "2021-05-12T00:00:00.000000000",
          "2021-05-13T00:00:00.000000000",
          "2021-05-14T00:00:00.000000000",
          "2021-05-17T00:00:00.000000000",
          "2021-05-18T00:00:00.000000000",
          "2021-05-19T00:00:00.000000000",
          "2021-05-20T00:00:00.000000000",
          "2021-05-21T00:00:00.000000000",
          "2021-05-24T00:00:00.000000000",
          "2021-05-25T00:00:00.000000000",
          "2021-05-26T00:00:00.000000000",
          "2021-05-27T00:00:00.000000000",
          "2021-05-28T00:00:00.000000000",
          "2021-06-01T00:00:00.000000000",
          "2021-06-02T00:00:00.000000000",
          "2021-06-03T00:00:00.000000000",
          "2021-06-04T00:00:00.000000000",
          "2021-06-07T00:00:00.000000000",
          "2021-06-08T00:00:00.000000000",
          "2021-06-09T00:00:00.000000000",
          "2021-06-10T00:00:00.000000000",
          "2021-06-11T00:00:00.000000000",
          "2021-06-14T00:00:00.000000000",
          "2021-06-15T00:00:00.000000000",
          "2021-06-16T00:00:00.000000000",
          "2021-06-17T00:00:00.000000000",
          "2021-06-18T00:00:00.000000000",
          "2021-06-21T00:00:00.000000000",
          "2021-06-22T00:00:00.000000000",
          "2021-06-23T00:00:00.000000000",
          "2021-06-24T00:00:00.000000000",
          "2021-06-25T00:00:00.000000000",
          "2021-06-28T00:00:00.000000000",
          "2021-06-29T00:00:00.000000000",
          "2021-06-30T00:00:00.000000000",
          "2021-07-01T00:00:00.000000000",
          "2021-07-02T00:00:00.000000000",
          "2021-07-06T00:00:00.000000000",
          "2021-07-07T00:00:00.000000000",
          "2021-07-08T00:00:00.000000000",
          "2021-07-09T00:00:00.000000000",
          "2021-07-12T00:00:00.000000000",
          "2021-07-13T00:00:00.000000000",
          "2021-07-14T00:00:00.000000000",
          "2021-07-15T00:00:00.000000000",
          "2021-07-16T00:00:00.000000000",
          "2021-07-19T00:00:00.000000000",
          "2021-07-20T00:00:00.000000000",
          "2021-07-21T00:00:00.000000000",
          "2021-07-22T00:00:00.000000000",
          "2021-07-23T00:00:00.000000000",
          "2021-07-26T00:00:00.000000000",
          "2021-07-27T00:00:00.000000000",
          "2021-07-28T00:00:00.000000000",
          "2021-07-29T00:00:00.000000000",
          "2021-07-30T00:00:00.000000000",
          "2021-08-02T00:00:00.000000000",
          "2021-08-03T00:00:00.000000000",
          "2021-08-04T00:00:00.000000000",
          "2021-08-05T00:00:00.000000000",
          "2021-08-06T00:00:00.000000000",
          "2021-08-09T00:00:00.000000000",
          "2021-08-10T00:00:00.000000000",
          "2021-08-11T00:00:00.000000000",
          "2021-08-12T00:00:00.000000000",
          "2021-08-13T00:00:00.000000000",
          "2021-08-16T00:00:00.000000000",
          "2021-08-17T00:00:00.000000000",
          "2021-08-18T00:00:00.000000000",
          "2021-08-19T00:00:00.000000000",
          "2021-08-20T00:00:00.000000000",
          "2021-08-23T00:00:00.000000000",
          "2021-08-24T00:00:00.000000000",
          "2021-08-25T00:00:00.000000000",
          "2021-08-26T00:00:00.000000000",
          "2021-08-27T00:00:00.000000000",
          "2021-08-30T00:00:00.000000000",
          "2021-08-31T00:00:00.000000000",
          "2021-09-01T00:00:00.000000000",
          "2021-09-02T00:00:00.000000000",
          "2021-09-03T00:00:00.000000000",
          "2021-09-07T00:00:00.000000000",
          "2021-09-08T00:00:00.000000000",
          "2021-09-09T00:00:00.000000000",
          "2021-09-10T00:00:00.000000000",
          "2021-09-13T00:00:00.000000000",
          "2021-09-14T00:00:00.000000000",
          "2021-09-15T00:00:00.000000000",
          "2021-09-16T00:00:00.000000000",
          "2021-09-17T00:00:00.000000000",
          "2021-09-20T00:00:00.000000000",
          "2021-09-21T00:00:00.000000000",
          "2021-09-22T00:00:00.000000000",
          "2021-09-23T00:00:00.000000000",
          "2021-09-24T00:00:00.000000000",
          "2021-09-27T00:00:00.000000000",
          "2021-09-28T00:00:00.000000000",
          "2021-09-29T00:00:00.000000000",
          "2021-09-30T00:00:00.000000000",
          "2021-10-01T00:00:00.000000000",
          "2021-10-04T00:00:00.000000000",
          "2021-10-05T00:00:00.000000000",
          "2021-10-06T00:00:00.000000000",
          "2021-10-07T00:00:00.000000000",
          "2021-10-08T00:00:00.000000000",
          "2021-10-11T00:00:00.000000000",
          "2021-10-12T00:00:00.000000000",
          "2021-10-13T00:00:00.000000000",
          "2021-10-14T00:00:00.000000000",
          "2021-10-15T00:00:00.000000000",
          "2021-10-18T00:00:00.000000000",
          "2021-10-19T00:00:00.000000000",
          "2021-10-20T00:00:00.000000000",
          "2021-10-21T00:00:00.000000000",
          "2021-10-22T00:00:00.000000000",
          "2021-10-25T00:00:00.000000000",
          "2021-10-26T00:00:00.000000000",
          "2021-10-27T00:00:00.000000000",
          "2021-10-28T00:00:00.000000000",
          "2021-10-29T00:00:00.000000000",
          "2021-11-01T00:00:00.000000000",
          "2021-11-02T00:00:00.000000000",
          "2021-11-03T00:00:00.000000000",
          "2021-11-04T00:00:00.000000000",
          "2021-11-05T00:00:00.000000000",
          "2021-11-08T00:00:00.000000000",
          "2021-11-09T00:00:00.000000000",
          "2021-11-10T00:00:00.000000000",
          "2021-11-11T00:00:00.000000000",
          "2021-11-12T00:00:00.000000000",
          "2021-11-15T00:00:00.000000000",
          "2021-11-16T00:00:00.000000000",
          "2021-11-17T00:00:00.000000000",
          "2021-11-18T00:00:00.000000000",
          "2021-11-19T00:00:00.000000000",
          "2021-11-22T00:00:00.000000000",
          "2021-11-23T00:00:00.000000000",
          "2021-11-24T00:00:00.000000000",
          "2021-11-26T00:00:00.000000000",
          "2021-11-29T00:00:00.000000000",
          "2021-11-30T00:00:00.000000000",
          "2021-12-01T00:00:00.000000000",
          "2021-12-02T00:00:00.000000000",
          "2021-12-03T00:00:00.000000000",
          "2021-12-06T00:00:00.000000000",
          "2021-12-07T00:00:00.000000000",
          "2021-12-08T00:00:00.000000000",
          "2021-12-09T00:00:00.000000000",
          "2021-12-10T00:00:00.000000000",
          "2021-12-13T00:00:00.000000000",
          "2021-12-14T00:00:00.000000000",
          "2021-12-15T00:00:00.000000000",
          "2021-12-16T00:00:00.000000000",
          "2021-12-17T00:00:00.000000000",
          "2021-12-20T00:00:00.000000000",
          "2021-12-21T00:00:00.000000000",
          "2021-12-22T00:00:00.000000000",
          "2021-12-23T00:00:00.000000000",
          "2021-12-27T00:00:00.000000000",
          "2021-12-28T00:00:00.000000000",
          "2021-12-29T00:00:00.000000000",
          "2021-12-30T00:00:00.000000000",
          "2021-12-31T00:00:00.000000000",
          "2022-01-03T00:00:00.000000000",
          "2022-01-04T00:00:00.000000000",
          "2022-01-05T00:00:00.000000000",
          "2022-01-06T00:00:00.000000000",
          "2022-01-07T00:00:00.000000000",
          "2022-01-10T00:00:00.000000000",
          "2022-01-11T00:00:00.000000000",
          "2022-01-12T00:00:00.000000000",
          "2022-01-13T00:00:00.000000000",
          "2022-01-14T00:00:00.000000000",
          "2022-01-18T00:00:00.000000000",
          "2022-01-19T00:00:00.000000000",
          "2022-01-20T00:00:00.000000000",
          "2022-01-21T00:00:00.000000000",
          "2022-01-24T00:00:00.000000000",
          "2022-01-25T00:00:00.000000000",
          "2022-01-26T00:00:00.000000000",
          "2022-01-27T00:00:00.000000000",
          "2022-01-28T00:00:00.000000000",
          "2022-01-31T00:00:00.000000000",
          "2022-02-01T00:00:00.000000000",
          "2022-02-02T00:00:00.000000000",
          "2022-02-03T00:00:00.000000000",
          "2022-02-04T00:00:00.000000000",
          "2022-02-07T00:00:00.000000000",
          "2022-02-08T00:00:00.000000000",
          "2022-02-09T00:00:00.000000000",
          "2022-02-10T00:00:00.000000000",
          "2022-02-11T00:00:00.000000000",
          "2022-02-14T00:00:00.000000000",
          "2022-02-15T00:00:00.000000000",
          "2022-02-16T00:00:00.000000000",
          "2022-02-17T00:00:00.000000000",
          "2022-02-18T00:00:00.000000000",
          "2022-02-22T00:00:00.000000000",
          "2022-02-23T00:00:00.000000000",
          "2022-02-24T00:00:00.000000000",
          "2022-02-25T00:00:00.000000000",
          "2022-02-28T00:00:00.000000000",
          "2022-03-01T00:00:00.000000000",
          "2022-03-02T00:00:00.000000000",
          "2022-03-03T00:00:00.000000000",
          "2022-03-04T00:00:00.000000000",
          "2022-03-07T00:00:00.000000000",
          "2022-03-08T00:00:00.000000000",
          "2022-03-09T00:00:00.000000000",
          "2022-03-10T00:00:00.000000000",
          "2022-03-11T00:00:00.000000000",
          "2022-03-14T00:00:00.000000000",
          "2022-03-15T00:00:00.000000000",
          "2022-03-16T00:00:00.000000000",
          "2022-03-17T00:00:00.000000000",
          "2022-03-18T00:00:00.000000000",
          "2022-03-21T00:00:00.000000000",
          "2022-03-22T00:00:00.000000000",
          "2022-03-23T00:00:00.000000000",
          "2022-03-24T00:00:00.000000000",
          "2022-03-25T00:00:00.000000000",
          "2022-03-28T00:00:00.000000000",
          "2022-03-29T00:00:00.000000000",
          "2022-03-30T00:00:00.000000000",
          "2022-03-31T00:00:00.000000000",
          "2022-04-01T00:00:00.000000000",
          "2022-04-04T00:00:00.000000000",
          "2022-04-05T00:00:00.000000000",
          "2022-04-06T00:00:00.000000000",
          "2022-04-07T00:00:00.000000000",
          "2022-04-08T00:00:00.000000000",
          "2022-04-11T00:00:00.000000000",
          "2022-04-12T00:00:00.000000000",
          "2022-04-13T00:00:00.000000000",
          "2022-04-14T00:00:00.000000000",
          "2022-04-18T00:00:00.000000000",
          "2022-04-19T00:00:00.000000000",
          "2022-04-20T00:00:00.000000000",
          "2022-04-21T00:00:00.000000000",
          "2022-04-22T00:00:00.000000000",
          "2022-04-25T00:00:00.000000000",
          "2022-04-26T00:00:00.000000000",
          "2022-04-27T00:00:00.000000000",
          "2022-04-28T00:00:00.000000000",
          "2022-04-29T00:00:00.000000000",
          "2022-05-02T00:00:00.000000000",
          "2022-05-03T00:00:00.000000000",
          "2022-05-04T00:00:00.000000000",
          "2022-05-05T00:00:00.000000000",
          "2022-05-06T00:00:00.000000000",
          "2022-05-09T00:00:00.000000000",
          "2022-05-10T00:00:00.000000000",
          "2022-05-11T00:00:00.000000000",
          "2022-05-12T00:00:00.000000000",
          "2022-05-13T00:00:00.000000000",
          "2022-05-16T00:00:00.000000000",
          "2022-05-17T00:00:00.000000000",
          "2022-05-18T00:00:00.000000000",
          "2022-05-19T00:00:00.000000000",
          "2022-05-20T00:00:00.000000000",
          "2022-05-23T00:00:00.000000000",
          "2022-05-24T00:00:00.000000000",
          "2022-05-25T00:00:00.000000000",
          "2022-05-26T00:00:00.000000000",
          "2022-05-27T00:00:00.000000000",
          "2022-05-31T00:00:00.000000000",
          "2022-06-01T00:00:00.000000000",
          "2022-06-02T00:00:00.000000000",
          "2022-06-03T00:00:00.000000000",
          "2022-06-06T00:00:00.000000000"
         ],
         "y": {
          "bdata": "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",
          "dtype": "f8"
         }
        },
        {
         "mode": "lines",
         "name": "Test",
         "type": "scatter",
         "x": [
          "2022-06-07T00:00:00.000000000",
          "2022-06-08T00:00:00.000000000",
          "2022-06-09T00:00:00.000000000",
          "2022-06-10T00:00:00.000000000",
          "2022-06-13T00:00:00.000000000",
          "2022-06-14T00:00:00.000000000",
          "2022-06-15T00:00:00.000000000",
          "2022-06-16T00:00:00.000000000",
          "2022-06-17T00:00:00.000000000",
          "2022-06-21T00:00:00.000000000",
          "2022-06-22T00:00:00.000000000",
          "2022-06-23T00:00:00.000000000",
          "2022-06-24T00:00:00.000000000",
          "2022-06-27T00:00:00.000000000",
          "2022-06-28T00:00:00.000000000",
          "2022-06-29T00:00:00.000000000",
          "2022-06-30T00:00:00.000000000",
          "2022-07-01T00:00:00.000000000",
          "2022-07-05T00:00:00.000000000",
          "2022-07-06T00:00:00.000000000",
          "2022-07-07T00:00:00.000000000",
          "2022-07-08T00:00:00.000000000",
          "2022-07-11T00:00:00.000000000",
          "2022-07-12T00:00:00.000000000",
          "2022-07-13T00:00:00.000000000",
          "2022-07-14T00:00:00.000000000",
          "2022-07-15T00:00:00.000000000",
          "2022-07-18T00:00:00.000000000",
          "2022-07-19T00:00:00.000000000",
          "2022-07-20T00:00:00.000000000",
          "2022-07-21T00:00:00.000000000",
          "2022-07-22T00:00:00.000000000",
          "2022-07-25T00:00:00.000000000",
          "2022-07-26T00:00:00.000000000",
          "2022-07-27T00:00:00.000000000",
          "2022-07-28T00:00:00.000000000"
         ],
         "y": {
          "bdata": "AAAAYEySYUAAAADgiORgQAAAAGD4PmBAAAAA4LhaYEAAAABA7K5gQAAAACCTBWBAAAAAAOE0YEAAAACAzLxgQAAAAIDMvGBAAAAAQGasYEAAAABgfAhhQAAAAGBkc2FAAAAAYGRzYUAAAACgT+5gQAAAAGDCJmFAAAAAwJrXYEAAAACgTB1hQAAAAEA9cGFAAAAAQD1wYUAAAADAIJthQAAAACBMB2JAAAAAoA4dYkAAAACAn9hhQAAAAADY92FAAAAAAC3sYUAAAAAgJ0piQAAAAKDDf2JAAAAAoAAeYkAAAACA8JliQAAAACBG2mJAAAAAAB8jY0AAAACgYvtiQAAAACBv12JAAAAAgNysYkAAAACAiFBjQAAAAIAxYmNA",
          "dtype": "f8"
         }
        },
        {
         "mode": "lines",
         "name": "Pronóstico Futuro Random Forest",
         "type": "scatter",
         "x": [
          "2022-07-28T00:00:00",
          "2022-07-29T00:00:00",
          "2022-07-30T00:00:00",
          "2022-07-31T00:00:00",
          "2022-08-01T00:00:00",
          "2022-08-02T00:00:00",
          "2022-08-03T00:00:00",
          "2022-08-04T00:00:00",
          "2022-08-05T00:00:00",
          "2022-08-06T00:00:00",
          "2022-08-07T00:00:00",
          "2022-08-08T00:00:00"
         ],
         "y": {
          "bdata": "Q/tiZiDWY0B/vOjWGqhkQNd8TkERr2RA13xOQRGvZEDXfE5BEa9kQOBnZXb9tWRA4Gdldv21ZEDgZ2V2/bVkQOBnZXb9tWRA4Gdldv21ZEDgZ2V2/bVkQOBnZXb9tWRA",
          "dtype": "f8"
         }
        }
       ],
       "layout": {
        "template": {
         "data": {
          "bar": [
           {
            "error_x": {
             "color": "#2a3f5f"
            },
            "error_y": {
             "color": "#2a3f5f"
            },
            "marker": {
             "line": {
              "color": "#E5ECF6",
              "width": 0.5
             },
             "pattern": {
              "fillmode": "overlay",
              "size": 10,
              "solidity": 0.2
             }
            },
            "type": "bar"
           }
          ],
          "barpolar": [
           {
            "marker": {
             "line": {
              "color": "#E5ECF6",
              "width": 0.5
             },
             "pattern": {
              "fillmode": "overlay",
              "size": 10,
              "solidity": 0.2
             }
            },
            "type": "barpolar"
           }
          ],
          "carpet": [
           {
            "aaxis": {
             "endlinecolor": "#2a3f5f",
             "gridcolor": "white",
             "linecolor": "white",
             "minorgridcolor": "white",
             "startlinecolor": "#2a3f5f"
            },
            "baxis": {
             "endlinecolor": "#2a3f5f",
             "gridcolor": "white",
             "linecolor": "white",
             "minorgridcolor": "white",
             "startlinecolor": "#2a3f5f"
            },
            "type": "carpet"
           }
          ],
          "choropleth": [
           {
            "colorbar": {
             "outlinewidth": 0,
             "ticks": ""
            },
            "type": "choropleth"
           }
          ],
          "contour": [
           {
            "colorbar": {
             "outlinewidth": 0,
             "ticks": ""
            },
            "colorscale": [
             [
              0,
              "#0d0887"
             ],
             [
              0.1111111111111111,
              "#46039f"
             ],
             [
              0.2222222222222222,
              "#7201a8"
             ],
             [
              0.3333333333333333,
              "#9c179e"
             ],
             [
              0.4444444444444444,
              "#bd3786"
             ],
             [
              0.5555555555555556,
              "#d8576b"
             ],
             [
              0.6666666666666666,
              "#ed7953"
             ],
             [
              0.7777777777777778,
              "#fb9f3a"
             ],
             [
              0.8888888888888888,
              "#fdca26"
             ],
             [
              1,
              "#f0f921"
             ]
            ],
            "type": "contour"
           }
          ],
          "contourcarpet": [
           {
            "colorbar": {
             "outlinewidth": 0,
             "ticks": ""
            },
            "type": "contourcarpet"
           }
          ],
          "heatmap": [
           {
            "colorbar": {
             "outlinewidth": 0,
             "ticks": ""
            },
            "colorscale": [
             [
              0,
              "#0d0887"
             ],
             [
              0.1111111111111111,
              "#46039f"
             ],
             [
              0.2222222222222222,
              "#7201a8"
             ],
             [
              0.3333333333333333,
              "#9c179e"
             ],
             [
              0.4444444444444444,
              "#bd3786"
             ],
             [
              0.5555555555555556,
              "#d8576b"
             ],
             [
              0.6666666666666666,
              "#ed7953"
             ],
             [
              0.7777777777777778,
              "#fb9f3a"
             ],
             [
              0.8888888888888888,
              "#fdca26"
             ],
             [
              1,
              "#f0f921"
             ]
            ],
            "type": "heatmap"
           }
          ],
          "histogram": [
           {
            "marker": {
             "pattern": {
              "fillmode": "overlay",
              "size": 10,
              "solidity": 0.2
             }
            },
            "type": "histogram"
           }
          ],
          "histogram2d": [
           {
            "colorbar": {
             "outlinewidth": 0,
             "ticks": ""
            },
            "colorscale": [
             [
              0,
              "#0d0887"
             ],
             [
              0.1111111111111111,
              "#46039f"
             ],
             [
              0.2222222222222222,
              "#7201a8"
             ],
             [
              0.3333333333333333,
              "#9c179e"
             ],
             [
              0.4444444444444444,
              "#bd3786"
             ],
             [
              0.5555555555555556,
              "#d8576b"
             ],
             [
              0.6666666666666666,
              "#ed7953"
             ],
             [
              0.7777777777777778,
              "#fb9f3a"
             ],
             [
              0.8888888888888888,
              "#fdca26"
             ],
             [
              1,
              "#f0f921"
             ]
            ],
            "type": "histogram2d"
           }
          ],
          "histogram2dcontour": [
           {
            "colorbar": {
             "outlinewidth": 0,
             "ticks": ""
            },
            "colorscale": [
             [
              0,
              "#0d0887"
             ],
             [
              0.1111111111111111,
              "#46039f"
             ],
             [
              0.2222222222222222,
              "#7201a8"
             ],
             [
              0.3333333333333333,
              "#9c179e"
             ],
             [
              0.4444444444444444,
              "#bd3786"
             ],
             [
              0.5555555555555556,
              "#d8576b"
             ],
             [
              0.6666666666666666,
              "#ed7953"
             ],
             [
              0.7777777777777778,
              "#fb9f3a"
             ],
             [
              0.8888888888888888,
              "#fdca26"
             ],
             [
              1,
              "#f0f921"
             ]
            ],
            "type": "histogram2dcontour"
           }
          ],
          "mesh3d": [
           {
            "colorbar": {
             "outlinewidth": 0,
             "ticks": ""
            },
            "type": "mesh3d"
           }
          ],
          "parcoords": [
           {
            "line": {
             "colorbar": {
              "outlinewidth": 0,
              "ticks": ""
             }
            },
            "type": "parcoords"
           }
          ],
          "pie": [
           {
            "automargin": true,
            "type": "pie"
           }
          ],
          "scatter": [
           {
            "fillpattern": {
             "fillmode": "overlay",
             "size": 10,
             "solidity": 0.2
            },
            "type": "scatter"
           }
          ],
          "scatter3d": [
           {
            "line": {
             "colorbar": {
              "outlinewidth": 0,
              "ticks": ""
             }
            },
            "marker": {
             "colorbar": {
              "outlinewidth": 0,
              "ticks": ""
             }
            },
            "type": "scatter3d"
           }
          ],
          "scattercarpet": [
           {
            "marker": {
             "colorbar": {
              "outlinewidth": 0,
              "ticks": ""
             }
            },
            "type": "scattercarpet"
           }
          ],
          "scattergeo": [
           {
            "marker": {
             "colorbar": {
              "outlinewidth": 0,
              "ticks": ""
             }
            },
            "type": "scattergeo"
           }
          ],
          "scattergl": [
           {
            "marker": {
             "colorbar": {
              "outlinewidth": 0,
              "ticks": ""
             }
            },
            "type": "scattergl"
           }
          ],
          "scattermap": [
           {
            "marker": {
             "colorbar": {
              "outlinewidth": 0,
              "ticks": ""
             }
            },
            "type": "scattermap"
           }
          ],
          "scattermapbox": [
           {
            "marker": {
             "colorbar": {
              "outlinewidth": 0,
              "ticks": ""
             }
            },
            "type": "scattermapbox"
           }
          ],
          "scatterpolar": [
           {
            "marker": {
             "colorbar": {
              "outlinewidth": 0,
              "ticks": ""
             }
            },
            "type": "scatterpolar"
           }
          ],
          "scatterpolargl": [
           {
            "marker": {
             "colorbar": {
              "outlinewidth": 0,
              "ticks": ""
             }
            },
            "type": "scatterpolargl"
           }
          ],
          "scatterternary": [
           {
            "marker": {
             "colorbar": {
              "outlinewidth": 0,
              "ticks": ""
             }
            },
            "type": "scatterternary"
           }
          ],
          "surface": [
           {
            "colorbar": {
             "outlinewidth": 0,
             "ticks": ""
            },
            "colorscale": [
             [
              0,
              "#0d0887"
             ],
             [
              0.1111111111111111,
              "#46039f"
             ],
             [
              0.2222222222222222,
              "#7201a8"
             ],
             [
              0.3333333333333333,
              "#9c179e"
             ],
             [
              0.4444444444444444,
              "#bd3786"
             ],
             [
              0.5555555555555556,
              "#d8576b"
             ],
             [
              0.6666666666666666,
              "#ed7953"
             ],
             [
              0.7777777777777778,
              "#fb9f3a"
             ],
             [
              0.8888888888888888,
              "#fdca26"
             ],
             [
              1,
              "#f0f921"
             ]
            ],
            "type": "surface"
           }
          ],
          "table": [
           {
            "cells": {
             "fill": {
              "color": "#EBF0F8"
             },
             "line": {
              "color": "white"
             }
            },
            "header": {
             "fill": {
              "color": "#C8D4E3"
             },
             "line": {
              "color": "white"
             }
            },
            "type": "table"
           }
          ]
         },
         "layout": {
          "annotationdefaults": {
           "arrowcolor": "#2a3f5f",
           "arrowhead": 0,
           "arrowwidth": 1
          },
          "autotypenumbers": "strict",
          "coloraxis": {
           "colorbar": {
            "outlinewidth": 0,
            "ticks": ""
           }
          },
          "colorscale": {
           "diverging": [
            [
             0,
             "#8e0152"
            ],
            [
             0.1,
             "#c51b7d"
            ],
            [
             0.2,
             "#de77ae"
            ],
            [
             0.3,
             "#f1b6da"
            ],
            [
             0.4,
             "#fde0ef"
            ],
            [
             0.5,
             "#f7f7f7"
            ],
            [
             0.6,
             "#e6f5d0"
            ],
            [
             0.7,
             "#b8e186"
            ],
            [
             0.8,
             "#7fbc41"
            ],
            [
             0.9,
             "#4d9221"
            ],
            [
             1,
             "#276419"
            ]
           ],
           "sequential": [
            [
             0,
             "#0d0887"
            ],
            [
             0.1111111111111111,
             "#46039f"
            ],
            [
             0.2222222222222222,
             "#7201a8"
            ],
            [
             0.3333333333333333,
             "#9c179e"
            ],
            [
             0.4444444444444444,
             "#bd3786"
            ],
            [
             0.5555555555555556,
             "#d8576b"
            ],
            [
             0.6666666666666666,
             "#ed7953"
            ],
            [
             0.7777777777777778,
             "#fb9f3a"
            ],
            [
             0.8888888888888888,
             "#fdca26"
            ],
            [
             1,
             "#f0f921"
            ]
           ],
           "sequentialminus": [
            [
             0,
             "#0d0887"
            ],
            [
             0.1111111111111111,
             "#46039f"
            ],
            [
             0.2222222222222222,
             "#7201a8"
            ],
            [
             0.3333333333333333,
             "#9c179e"
            ],
            [
             0.4444444444444444,
             "#bd3786"
            ],
            [
             0.5555555555555556,
             "#d8576b"
            ],
            [
             0.6666666666666666,
             "#ed7953"
            ],
            [
             0.7777777777777778,
             "#fb9f3a"
            ],
            [
             0.8888888888888888,
             "#fdca26"
            ],
            [
             1,
             "#f0f921"
            ]
           ]
          },
          "colorway": [
           "#636efa",
           "#EF553B",
           "#00cc96",
           "#ab63fa",
           "#FFA15A",
           "#19d3f3",
           "#FF6692",
           "#B6E880",
           "#FF97FF",
           "#FECB52"
          ],
          "font": {
           "color": "#2a3f5f"
          },
          "geo": {
           "bgcolor": "white",
           "lakecolor": "white",
           "landcolor": "#E5ECF6",
           "showlakes": true,
           "showland": true,
           "subunitcolor": "white"
          },
          "hoverlabel": {
           "align": "left"
          },
          "hovermode": "closest",
          "mapbox": {
           "style": "light"
          },
          "paper_bgcolor": "white",
          "plot_bgcolor": "#E5ECF6",
          "polar": {
           "angularaxis": {
            "gridcolor": "white",
            "linecolor": "white",
            "ticks": ""
           },
           "bgcolor": "#E5ECF6",
           "radialaxis": {
            "gridcolor": "white",
            "linecolor": "white",
            "ticks": ""
           }
          },
          "scene": {
           "xaxis": {
            "backgroundcolor": "#E5ECF6",
            "gridcolor": "white",
            "gridwidth": 2,
            "linecolor": "white",
            "showbackground": true,
            "ticks": "",
            "zerolinecolor": "white"
           },
           "yaxis": {
            "backgroundcolor": "#E5ECF6",
            "gridcolor": "white",
            "gridwidth": 2,
            "linecolor": "white",
            "showbackground": true,
            "ticks": "",
            "zerolinecolor": "white"
           },
           "zaxis": {
            "backgroundcolor": "#E5ECF6",
            "gridcolor": "white",
            "gridwidth": 2,
            "linecolor": "white",
            "showbackground": true,
            "ticks": "",
            "zerolinecolor": "white"
           }
          },
          "shapedefaults": {
           "line": {
            "color": "#2a3f5f"
           }
          },
          "ternary": {
           "aaxis": {
            "gridcolor": "white",
            "linecolor": "white",
            "ticks": ""
           },
           "baxis": {
            "gridcolor": "white",
            "linecolor": "white",
            "ticks": ""
           },
           "bgcolor": "#E5ECF6",
           "caxis": {
            "gridcolor": "white",
            "linecolor": "white",
            "ticks": ""
           }
          },
          "title": {
           "x": 0.05
          },
          "xaxis": {
           "automargin": true,
           "gridcolor": "white",
           "linecolor": "white",
           "ticks": "",
           "title": {
            "standoff": 15
           },
           "zerolinecolor": "white",
           "zerolinewidth": 2
          },
          "yaxis": {
           "automargin": true,
           "gridcolor": "white",
           "linecolor": "white",
           "ticks": "",
           "title": {
            "standoff": 15
           },
           "zerolinecolor": "white",
           "zerolinewidth": 2
          }
         }
        },
        "title": {
         "text": "AMZN"
        },
        "xaxis": {
         "title": {
          "text": "Date"
         }
        },
        "yaxis": {
         "title": {
          "text": "Close"
         }
        }
       }
      }
     },
     "metadata": {},
     "output_type": "display_data"
    }
   ],
   "source": [
    "## Graficamos la serie anterior, aunando el valor del pronóstico.\n",
    "\n",
    "trace3 = go.Scatter(\n",
    "    x = date_test,\n",
    "    y = data_test['y'],\n",
    "    mode = 'lines',\n",
    "    name = 'Test'\n",
    ")\n",
    "\n",
    "trace4 = go.Scatter(\n",
    "    x = fwd_dates,\n",
    "    y = predictions,\n",
    "    mode = 'lines',\n",
    "    name = 'Pronóstico Futuro Random Forest'\n",
    ")\n",
    "\n",
    "trace1 = go.Scatter(\n",
    "    x = date_train,\n",
    "    y = data_train['y'],\n",
    "    mode = 'lines',\n",
    "    name = 'Train'\n",
    "    )\n",
    "\n",
    "layout = go.Layout(\n",
    "    title = \"AMZN\",\n",
    "    xaxis = {'title' : \"Date\"},\n",
    "    yaxis = {'title' : \"Close\"}\n",
    ")\n",
    "fig = go.Figure(data=[trace1, trace3, trace4], layout=layout)\n",
    "fig.show()"
   ]
  },
  {
   "cell_type": "code",
   "execution_count": 49,
   "metadata": {},
   "outputs": [
    {
     "name": "stdout",
     "output_type": "stream",
     "text": [
      "Test error (mse): 647.5429115462563\n",
      "Test error (rmse): 25.446864473766826\n"
     ]
    }
   ],
   "source": [
    "# Determinamos el error de pronóstico:\n",
    "# ==============================================================================\n",
    "\n",
    "steps = 36  ## el mismo que la ventana de test\n",
    "predictions = forecaster.predict(steps=steps)\n",
    "\n",
    "error_mse = mean_squared_error(\n",
    "                y_true = data_test['y'],\n",
    "                y_pred = predictions\n",
    "            )\n",
    "\n",
    "print(f\"Test error (mse): {error_mse}\")\n",
    "RMSE = sqrt(error_mse)\n",
    "print(f\"Test error (rmse): {RMSE}\")"
   ]
  },
  {
   "cell_type": "markdown",
   "metadata": {},
   "source": [
    "En este tutorial aprendiste un proceso para la generación de pronósticos futuros de una serie financiera mediante modelos de ensamble tipo Random Forest. En el proceso, reiteramos la importancia de transformar los datos de una serie de tiempo en una estructura de datos que permiten generar secuencias de entrenamiento y pronóstico de la serie con base en datos históricos. Este proceso se debe hacer especialmente cuando deseamos generar un pronóstico hacia adelante en series de tiempo. Dicho proceso es muy similar al que se emplea cuando aplicamos un problema supervisado tal como una regresión lineal o modelos regresivos, donde se generan los retrasos o lags de la serie y cuyos features ingresan al modelo de regresión. En este caso, se crea una estructura en la cual se puede emplear para entrenar un modelo de ensamble cuyo proceso puede ser tedioso. Para ello, existen funciones que ayudan es esa tarea, en el caso particular de este tutorial, empleamos la función de Forecaster Autoregressor que crea la estructura de datos y aplica el modelo de Random Forest con los parámetros suministrados. Una vez obtenido el modelo se genera el pronóstico futuro especificando la serie a emplear."
   ]
  },
  {
   "cell_type": "markdown",
   "metadata": {},
   "source": [
    "**Referencia:**\n",
    "\n",
    " Este tutorial emplea la función ForecasterAutoreg de la paquetería skforecast (https://pypi.org/project/skforecast/). \n",
    " \n",
    " Ceballos, F. 2019. Stacking classifiers for higher predictive performance. Towards Data Science. Retrieved from: https://towardsdatascience.com/stacking-classifiers-for-higher-predictive-performance-566f963e4840 "
   ]
  }
 ],
 "metadata": {
  "kaggle": {
   "accelerator": "none",
   "dataSources": [],
   "dockerImageVersionId": 30698,
   "isGpuEnabled": false,
   "isInternetEnabled": true,
   "language": "python",
   "sourceType": "notebook"
  },
  "kernelspec": {
   "display_name": "tmenv",
   "language": "python",
   "name": "python3"
  },
  "language_info": {
   "codemirror_mode": {
    "name": "ipython",
    "version": 3
   },
   "file_extension": ".py",
   "mimetype": "text/x-python",
   "name": "python",
   "nbconvert_exporter": "python",
   "pygments_lexer": "ipython3",
   "version": "3.10.11"
  }
 },
 "nbformat": 4,
 "nbformat_minor": 4
}
