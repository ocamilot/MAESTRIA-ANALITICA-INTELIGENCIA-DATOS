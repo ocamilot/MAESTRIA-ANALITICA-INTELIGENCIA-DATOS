{
 "cells": [
  {
   "cell_type": "markdown",
   "metadata": {},
   "source": [
    "# Tutorial Modelos de Ensamble tipo Random Forest\n",
    "\n",
    "En este tutorial aplicaremos un modelo de ensamble tipo Random Forest a una serie de precios. Este tutorial se enfoca a generar una estructura en los datos que permita un pronóstico hacia adelante. Es decir, buscamos generar una estructura de ensamble a un conjunto de datos condicionados a eventos pasados, para luego generar un pronóstico futuro de los mismos. La serie por tanto genera una estructura de ensamble entrenada en una sección correspondiente de entrenamiento para luego generar un pronóstico hacia adelante en una estructura de datos transformada y mediante un modelo con refinamiento de parámetros.\n",
    "\n",
    "**Contenido**\n",
    "1. [Importación de librerías requeridas](#2)\n",
    "1. [Importación de datos financieros](#3)\n",
    "1. [Preprocesamiento de datos](#5)\n",
    "1. [Partición de datos en entrenamiento y prueba](#6)\n",
    "1. [Visualización conjunto de entrenamiento y prueba](#7)\n",
    "1. [Regresión con Random Forest](#7a)\n",
    "1. [Creación del Forecaster](#8)\n",
    "1. [Predicciones en conjuto de prueba](#9)\n",
    "1. [Refinamiento de los hiperparámetros](#10)\n",
    "1. [Aplicación modelo óptimo a serie completa](#11)\n",
    "1. [Generación del pronóstico hacia adelante](#12)\n",
    "1. [Visualización del pronóstico futuro](#13)"
   ]
  },
  {
   "cell_type": "markdown",
   "metadata": {},
   "source": [
    "<a id=\"2\"></a> <br>\n",
    "### 1. Importación de librerías requeridas.\n",
    "\n",
    "Importa las siguientes librerías para desarrollar este tutorial:"
   ]
  },
  {
   "cell_type": "code",
   "execution_count": 15,
   "metadata": {
    "execution": {
     "iopub.execute_input": "2024-04-19T13:38:08.768711Z",
     "iopub.status.busy": "2024-04-19T13:38:08.767900Z",
     "iopub.status.idle": "2024-04-19T13:39:00.195808Z",
     "shell.execute_reply": "2024-04-19T13:39:00.194546Z",
     "shell.execute_reply.started": "2024-04-19T13:38:08.768659Z"
    },
    "trusted": true
   },
   "outputs": [
    {
     "name": "stderr",
     "output_type": "stream",
     "text": [
      "414.94s - pydevd: Sending message related to process being replaced timed-out after 5 seconds\n"
     ]
    },
    {
     "name": "stdout",
     "output_type": "stream",
     "text": [
      "Requirement already satisfied: ipykernel in /Users/U1037319/Downloads/tmenv/lib/python3.10/site-packages (6.29.5)\n",
      "Requirement already satisfied: nest-asyncio in /Users/U1037319/Downloads/tmenv/lib/python3.10/site-packages (from ipykernel) (1.6.0)\n",
      "Requirement already satisfied: traitlets>=5.4.0 in /Users/U1037319/Downloads/tmenv/lib/python3.10/site-packages (from ipykernel) (5.14.3)\n",
      "Requirement already satisfied: debugpy>=1.6.5 in /Users/U1037319/Downloads/tmenv/lib/python3.10/site-packages (from ipykernel) (1.8.13)\n",
      "Requirement already satisfied: packaging in /Users/U1037319/Downloads/tmenv/lib/python3.10/site-packages (from ipykernel) (24.2)\n",
      "Requirement already satisfied: pyzmq>=24 in /Users/U1037319/Downloads/tmenv/lib/python3.10/site-packages (from ipykernel) (26.2.1)\n",
      "Requirement already satisfied: tornado>=6.1 in /Users/U1037319/Downloads/tmenv/lib/python3.10/site-packages (from ipykernel) (6.4.2)\n",
      "Requirement already satisfied: comm>=0.1.1 in /Users/U1037319/Downloads/tmenv/lib/python3.10/site-packages (from ipykernel) (0.2.2)\n",
      "Requirement already satisfied: jupyter-client>=6.1.12 in /Users/U1037319/Downloads/tmenv/lib/python3.10/site-packages (from ipykernel) (8.6.3)\n",
      "Requirement already satisfied: appnope in /Users/U1037319/Downloads/tmenv/lib/python3.10/site-packages (from ipykernel) (0.1.4)\n",
      "Requirement already satisfied: matplotlib-inline>=0.1 in /Users/U1037319/Downloads/tmenv/lib/python3.10/site-packages (from ipykernel) (0.1.7)\n",
      "Requirement already satisfied: psutil in /Users/U1037319/Downloads/tmenv/lib/python3.10/site-packages (from ipykernel) (7.0.0)\n",
      "Requirement already satisfied: ipython>=7.23.1 in /Users/U1037319/Downloads/tmenv/lib/python3.10/site-packages (from ipykernel) (8.34.0)\n",
      "Requirement already satisfied: jupyter-core!=5.0.*,>=4.12 in /Users/U1037319/Downloads/tmenv/lib/python3.10/site-packages (from ipykernel) (5.7.2)\n",
      "Requirement already satisfied: jedi>=0.16 in /Users/U1037319/Downloads/tmenv/lib/python3.10/site-packages (from ipython>=7.23.1->ipykernel) (0.19.2)\n",
      "Requirement already satisfied: exceptiongroup in /Users/U1037319/Downloads/tmenv/lib/python3.10/site-packages (from ipython>=7.23.1->ipykernel) (1.2.2)\n",
      "Requirement already satisfied: typing_extensions>=4.6 in /Users/U1037319/Downloads/tmenv/lib/python3.10/site-packages (from ipython>=7.23.1->ipykernel) (4.12.2)\n",
      "Requirement already satisfied: pexpect>4.3 in /Users/U1037319/Downloads/tmenv/lib/python3.10/site-packages (from ipython>=7.23.1->ipykernel) (4.9.0)\n",
      "Requirement already satisfied: decorator in /Users/U1037319/Downloads/tmenv/lib/python3.10/site-packages (from ipython>=7.23.1->ipykernel) (5.2.1)\n",
      "Requirement already satisfied: pygments>=2.4.0 in /Users/U1037319/Downloads/tmenv/lib/python3.10/site-packages (from ipython>=7.23.1->ipykernel) (2.19.1)\n",
      "Requirement already satisfied: stack_data in /Users/U1037319/Downloads/tmenv/lib/python3.10/site-packages (from ipython>=7.23.1->ipykernel) (0.6.3)\n",
      "Requirement already satisfied: prompt_toolkit<3.1.0,>=3.0.41 in /Users/U1037319/Downloads/tmenv/lib/python3.10/site-packages (from ipython>=7.23.1->ipykernel) (3.0.50)\n",
      "Requirement already satisfied: python-dateutil>=2.8.2 in /Users/U1037319/Downloads/tmenv/lib/python3.10/site-packages (from jupyter-client>=6.1.12->ipykernel) (2.9.0.post0)\n",
      "Requirement already satisfied: platformdirs>=2.5 in /Users/U1037319/Downloads/tmenv/lib/python3.10/site-packages (from jupyter-core!=5.0.*,>=4.12->ipykernel) (4.3.6)\n",
      "Requirement already satisfied: parso<0.9.0,>=0.8.4 in /Users/U1037319/Downloads/tmenv/lib/python3.10/site-packages (from jedi>=0.16->ipython>=7.23.1->ipykernel) (0.8.4)\n",
      "Requirement already satisfied: ptyprocess>=0.5 in /Users/U1037319/Downloads/tmenv/lib/python3.10/site-packages (from pexpect>4.3->ipython>=7.23.1->ipykernel) (0.7.0)\n",
      "Requirement already satisfied: wcwidth in /Users/U1037319/Downloads/tmenv/lib/python3.10/site-packages (from prompt_toolkit<3.1.0,>=3.0.41->ipython>=7.23.1->ipykernel) (0.2.13)\n",
      "Requirement already satisfied: six>=1.5 in /Users/U1037319/Downloads/tmenv/lib/python3.10/site-packages (from python-dateutil>=2.8.2->jupyter-client>=6.1.12->ipykernel) (1.17.0)\n",
      "Requirement already satisfied: executing>=1.2.0 in /Users/U1037319/Downloads/tmenv/lib/python3.10/site-packages (from stack_data->ipython>=7.23.1->ipykernel) (2.2.0)\n",
      "Requirement already satisfied: pure-eval in /Users/U1037319/Downloads/tmenv/lib/python3.10/site-packages (from stack_data->ipython>=7.23.1->ipykernel) (0.2.3)\n",
      "Requirement already satisfied: asttokens>=2.1.0 in /Users/U1037319/Downloads/tmenv/lib/python3.10/site-packages (from stack_data->ipython>=7.23.1->ipykernel) (3.0.0)\n",
      "\n",
      "\u001b[1m[\u001b[0m\u001b[34;49mnotice\u001b[0m\u001b[1;39;49m]\u001b[0m\u001b[39;49m A new release of pip is available: \u001b[0m\u001b[31;49m23.0.1\u001b[0m\u001b[39;49m -> \u001b[0m\u001b[32;49m25.0.1\u001b[0m\n",
      "\u001b[1m[\u001b[0m\u001b[34;49mnotice\u001b[0m\u001b[1;39;49m]\u001b[0m\u001b[39;49m To update, run: \u001b[0m\u001b[32;49mpip install --upgrade pip\u001b[0m\n"
     ]
    },
    {
     "ename": "UnboundLocalError",
     "evalue": "local variable 'child' referenced before assignment",
     "output_type": "error",
     "traceback": [
      "\u001b[0;31m---------------------------------------------------------------------------\u001b[0m",
      "\u001b[0;31mKeyboardInterrupt\u001b[0m                         Traceback (most recent call last)",
      "File \u001b[0;32m~/Downloads/tmenv/lib/python3.10/site-packages/IPython/utils/_process_posix.py:151\u001b[0m, in \u001b[0;36mProcessHandler.system\u001b[0;34m(self, cmd)\u001b[0m\n\u001b[1;32m    150\u001b[0m \u001b[38;5;28;01melse\u001b[39;00m:\n\u001b[0;32m--> 151\u001b[0m     child \u001b[38;5;241m=\u001b[39m \u001b[43mpexpect\u001b[49m\u001b[38;5;241;43m.\u001b[39;49m\u001b[43mspawn\u001b[49m\u001b[43m(\u001b[49m\u001b[38;5;28;43mself\u001b[39;49m\u001b[38;5;241;43m.\u001b[39;49m\u001b[43msh\u001b[49m\u001b[43m,\u001b[49m\u001b[43m \u001b[49m\u001b[43margs\u001b[49m\u001b[38;5;241;43m=\u001b[39;49m\u001b[43m[\u001b[49m\u001b[38;5;124;43m'\u001b[39;49m\u001b[38;5;124;43m-c\u001b[39;49m\u001b[38;5;124;43m'\u001b[39;49m\u001b[43m,\u001b[49m\u001b[43m \u001b[49m\u001b[43mcmd\u001b[49m\u001b[43m]\u001b[49m\u001b[43m)\u001b[49m  \u001b[38;5;66;03m# Vanilla Pexpect\u001b[39;00m\n\u001b[1;32m    152\u001b[0m flush \u001b[38;5;241m=\u001b[39m sys\u001b[38;5;241m.\u001b[39mstdout\u001b[38;5;241m.\u001b[39mflush\n",
      "File \u001b[0;32m~/Downloads/tmenv/lib/python3.10/site-packages/pexpect/pty_spawn.py:205\u001b[0m, in \u001b[0;36mspawn.__init__\u001b[0;34m(self, command, args, timeout, maxread, searchwindowsize, logfile, cwd, env, ignore_sighup, echo, preexec_fn, encoding, codec_errors, dimensions, use_poll)\u001b[0m\n\u001b[1;32m    204\u001b[0m \u001b[38;5;28;01melse\u001b[39;00m:\n\u001b[0;32m--> 205\u001b[0m     \u001b[38;5;28;43mself\u001b[39;49m\u001b[38;5;241;43m.\u001b[39;49m\u001b[43m_spawn\u001b[49m\u001b[43m(\u001b[49m\u001b[43mcommand\u001b[49m\u001b[43m,\u001b[49m\u001b[43m \u001b[49m\u001b[43margs\u001b[49m\u001b[43m,\u001b[49m\u001b[43m \u001b[49m\u001b[43mpreexec_fn\u001b[49m\u001b[43m,\u001b[49m\u001b[43m \u001b[49m\u001b[43mdimensions\u001b[49m\u001b[43m)\u001b[49m\n\u001b[1;32m    206\u001b[0m \u001b[38;5;28mself\u001b[39m\u001b[38;5;241m.\u001b[39muse_poll \u001b[38;5;241m=\u001b[39m use_poll\n",
      "File \u001b[0;32m~/Downloads/tmenv/lib/python3.10/site-packages/pexpect/pty_spawn.py:303\u001b[0m, in \u001b[0;36mspawn._spawn\u001b[0;34m(self, command, args, preexec_fn, dimensions)\u001b[0m\n\u001b[1;32m    300\u001b[0m     \u001b[38;5;28mself\u001b[39m\u001b[38;5;241m.\u001b[39margs \u001b[38;5;241m=\u001b[39m [a \u001b[38;5;28;01mif\u001b[39;00m \u001b[38;5;28misinstance\u001b[39m(a, \u001b[38;5;28mbytes\u001b[39m) \u001b[38;5;28;01melse\u001b[39;00m a\u001b[38;5;241m.\u001b[39mencode(\u001b[38;5;28mself\u001b[39m\u001b[38;5;241m.\u001b[39mencoding)\n\u001b[1;32m    301\u001b[0m                  \u001b[38;5;28;01mfor\u001b[39;00m a \u001b[38;5;129;01min\u001b[39;00m \u001b[38;5;28mself\u001b[39m\u001b[38;5;241m.\u001b[39margs]\n\u001b[0;32m--> 303\u001b[0m \u001b[38;5;28mself\u001b[39m\u001b[38;5;241m.\u001b[39mptyproc \u001b[38;5;241m=\u001b[39m \u001b[38;5;28;43mself\u001b[39;49m\u001b[38;5;241;43m.\u001b[39;49m\u001b[43m_spawnpty\u001b[49m\u001b[43m(\u001b[49m\u001b[38;5;28;43mself\u001b[39;49m\u001b[38;5;241;43m.\u001b[39;49m\u001b[43margs\u001b[49m\u001b[43m,\u001b[49m\u001b[43m \u001b[49m\u001b[43menv\u001b[49m\u001b[38;5;241;43m=\u001b[39;49m\u001b[38;5;28;43mself\u001b[39;49m\u001b[38;5;241;43m.\u001b[39;49m\u001b[43menv\u001b[49m\u001b[43m,\u001b[49m\n\u001b[1;32m    304\u001b[0m \u001b[43m                             \u001b[49m\u001b[43mcwd\u001b[49m\u001b[38;5;241;43m=\u001b[39;49m\u001b[38;5;28;43mself\u001b[39;49m\u001b[38;5;241;43m.\u001b[39;49m\u001b[43mcwd\u001b[49m\u001b[43m,\u001b[49m\u001b[43m \u001b[49m\u001b[38;5;241;43m*\u001b[39;49m\u001b[38;5;241;43m*\u001b[39;49m\u001b[43mkwargs\u001b[49m\u001b[43m)\u001b[49m\n\u001b[1;32m    306\u001b[0m \u001b[38;5;28mself\u001b[39m\u001b[38;5;241m.\u001b[39mpid \u001b[38;5;241m=\u001b[39m \u001b[38;5;28mself\u001b[39m\u001b[38;5;241m.\u001b[39mptyproc\u001b[38;5;241m.\u001b[39mpid\n",
      "File \u001b[0;32m~/Downloads/tmenv/lib/python3.10/site-packages/pexpect/pty_spawn.py:315\u001b[0m, in \u001b[0;36mspawn._spawnpty\u001b[0;34m(self, args, **kwargs)\u001b[0m\n\u001b[1;32m    314\u001b[0m \u001b[38;5;250m\u001b[39m\u001b[38;5;124;03m'''Spawn a pty and return an instance of PtyProcess.'''\u001b[39;00m\n\u001b[0;32m--> 315\u001b[0m \u001b[38;5;28;01mreturn\u001b[39;00m \u001b[43mptyprocess\u001b[49m\u001b[38;5;241;43m.\u001b[39;49m\u001b[43mPtyProcess\u001b[49m\u001b[38;5;241;43m.\u001b[39;49m\u001b[43mspawn\u001b[49m\u001b[43m(\u001b[49m\u001b[43margs\u001b[49m\u001b[43m,\u001b[49m\u001b[43m \u001b[49m\u001b[38;5;241;43m*\u001b[39;49m\u001b[38;5;241;43m*\u001b[39;49m\u001b[43mkwargs\u001b[49m\u001b[43m)\u001b[49m\n",
      "File \u001b[0;32m~/Downloads/tmenv/lib/python3.10/site-packages/ptyprocess/ptyprocess.py:315\u001b[0m, in \u001b[0;36mPtyProcess.spawn\u001b[0;34m(cls, argv, cwd, env, echo, preexec_fn, dimensions, pass_fds)\u001b[0m\n\u001b[1;32m    314\u001b[0m os\u001b[38;5;241m.\u001b[39mclose(exec_err_pipe_write)\n\u001b[0;32m--> 315\u001b[0m exec_err_data \u001b[38;5;241m=\u001b[39m \u001b[43mos\u001b[49m\u001b[38;5;241;43m.\u001b[39;49m\u001b[43mread\u001b[49m\u001b[43m(\u001b[49m\u001b[43mexec_err_pipe_read\u001b[49m\u001b[43m,\u001b[49m\u001b[43m \u001b[49m\u001b[38;5;241;43m4096\u001b[39;49m\u001b[43m)\u001b[49m\n\u001b[1;32m    316\u001b[0m os\u001b[38;5;241m.\u001b[39mclose(exec_err_pipe_read)\n",
      "\u001b[0;31mKeyboardInterrupt\u001b[0m: ",
      "\nDuring handling of the above exception, another exception occurred:\n",
      "\u001b[0;31mUnboundLocalError\u001b[0m                         Traceback (most recent call last)",
      "Cell \u001b[0;32mIn[15], line 2\u001b[0m\n\u001b[1;32m      1\u001b[0m get_ipython()\u001b[38;5;241m.\u001b[39msystem(\u001b[38;5;124m'\u001b[39m\u001b[38;5;124mpip install ipykernel\u001b[39m\u001b[38;5;124m'\u001b[39m)\n\u001b[0;32m----> 2\u001b[0m \u001b[43mget_ipython\u001b[49m\u001b[43m(\u001b[49m\u001b[43m)\u001b[49m\u001b[38;5;241;43m.\u001b[39;49m\u001b[43msystem\u001b[49m\u001b[43m(\u001b[49m\u001b[38;5;124;43m'\u001b[39;49m\u001b[38;5;124;43mpip install skforecast\u001b[39;49m\u001b[38;5;124;43m'\u001b[39;49m\u001b[43m)\u001b[49m\n\u001b[1;32m      3\u001b[0m \u001b[38;5;66;03m#!pip install skforecast[full]\u001b[39;00m\n\u001b[1;32m      4\u001b[0m get_ipython()\u001b[38;5;241m.\u001b[39msystem(\u001b[38;5;124m'\u001b[39m\u001b[38;5;124mpip install skforecast==0.11.0\u001b[39m\u001b[38;5;124m'\u001b[39m)\n",
      "File \u001b[0;32m~/Downloads/tmenv/lib/python3.10/site-packages/ipykernel/zmqshell.py:657\u001b[0m, in \u001b[0;36mZMQInteractiveShell.system_piped\u001b[0;34m(self, cmd)\u001b[0m\n\u001b[1;32m    655\u001b[0m         \u001b[38;5;28mself\u001b[39m\u001b[38;5;241m.\u001b[39muser_ns[\u001b[38;5;124m\"\u001b[39m\u001b[38;5;124m_exit_code\u001b[39m\u001b[38;5;124m\"\u001b[39m] \u001b[38;5;241m=\u001b[39m system(cmd)\n\u001b[1;32m    656\u001b[0m \u001b[38;5;28;01melse\u001b[39;00m:\n\u001b[0;32m--> 657\u001b[0m     \u001b[38;5;28mself\u001b[39m\u001b[38;5;241m.\u001b[39muser_ns[\u001b[38;5;124m\"\u001b[39m\u001b[38;5;124m_exit_code\u001b[39m\u001b[38;5;124m\"\u001b[39m] \u001b[38;5;241m=\u001b[39m \u001b[43msystem\u001b[49m\u001b[43m(\u001b[49m\u001b[38;5;28;43mself\u001b[39;49m\u001b[38;5;241;43m.\u001b[39;49m\u001b[43mvar_expand\u001b[49m\u001b[43m(\u001b[49m\u001b[43mcmd\u001b[49m\u001b[43m,\u001b[49m\u001b[43m \u001b[49m\u001b[43mdepth\u001b[49m\u001b[38;5;241;43m=\u001b[39;49m\u001b[38;5;241;43m1\u001b[39;49m\u001b[43m)\u001b[49m\u001b[43m)\u001b[49m\n",
      "File \u001b[0;32m~/Downloads/tmenv/lib/python3.10/site-packages/IPython/utils/_process_posix.py:167\u001b[0m, in \u001b[0;36mProcessHandler.system\u001b[0;34m(self, cmd)\u001b[0m\n\u001b[1;32m    162\u001b[0m         out_size \u001b[38;5;241m=\u001b[39m \u001b[38;5;28mlen\u001b[39m(child\u001b[38;5;241m.\u001b[39mbefore)\n\u001b[1;32m    163\u001b[0m \u001b[38;5;28;01mexcept\u001b[39;00m \u001b[38;5;167;01mKeyboardInterrupt\u001b[39;00m:\n\u001b[1;32m    164\u001b[0m     \u001b[38;5;66;03m# We need to send ^C to the process.  The ascii code for '^C' is 3\u001b[39;00m\n\u001b[1;32m    165\u001b[0m     \u001b[38;5;66;03m# (the character is known as ETX for 'End of Text', see\u001b[39;00m\n\u001b[1;32m    166\u001b[0m     \u001b[38;5;66;03m# curses.ascii.ETX).\u001b[39;00m\n\u001b[0;32m--> 167\u001b[0m     \u001b[43mchild\u001b[49m\u001b[38;5;241m.\u001b[39msendline(\u001b[38;5;28mchr\u001b[39m(\u001b[38;5;241m3\u001b[39m))\n\u001b[1;32m    168\u001b[0m     \u001b[38;5;66;03m# Read and print any more output the program might produce on its\u001b[39;00m\n\u001b[1;32m    169\u001b[0m     \u001b[38;5;66;03m# way out.\u001b[39;00m\n\u001b[1;32m    170\u001b[0m     \u001b[38;5;28;01mtry\u001b[39;00m:\n",
      "\u001b[0;31mUnboundLocalError\u001b[0m: local variable 'child' referenced before assignment"
     ]
    }
   ],
   "source": [
    "!pip install ipykernel \n",
    "!pip install skforecast\n",
    "#!pip install skforecast[full]\n",
    "!pip install skforecast==0.11.0"
   ]
  },
  {
   "cell_type": "code",
   "execution_count": null,
   "metadata": {
    "execution": {
     "iopub.execute_input": "2024-04-19T13:39:29.121504Z",
     "iopub.status.busy": "2024-04-19T13:39:29.121091Z",
     "iopub.status.idle": "2024-04-19T13:40:05.729107Z",
     "shell.execute_reply": "2024-04-19T13:40:05.727852Z",
     "shell.execute_reply.started": "2024-04-19T13:39:29.121473Z"
    },
    "trusted": true
   },
   "outputs": [
    {
     "name": "stdout",
     "output_type": "stream",
     "text": [
      "Requirement already satisfied: yfinance in /Users/U1037319/Downloads/tmenv/lib/python3.10/site-packages (0.2.55)\n",
      "Requirement already satisfied: multitasking>=0.0.7 in /Users/U1037319/Downloads/tmenv/lib/python3.10/site-packages (from yfinance) (0.0.11)\n",
      "Requirement already satisfied: pandas>=1.3.0 in /Users/U1037319/Downloads/tmenv/lib/python3.10/site-packages (from yfinance) (2.1.4)\n",
      "Requirement already satisfied: platformdirs>=2.0.0 in /Users/U1037319/Downloads/tmenv/lib/python3.10/site-packages (from yfinance) (4.3.6)\n",
      "Requirement already satisfied: frozendict>=2.3.4 in /Users/U1037319/Downloads/tmenv/lib/python3.10/site-packages (from yfinance) (2.4.6)\n",
      "Requirement already satisfied: beautifulsoup4>=4.11.1 in /Users/U1037319/Downloads/tmenv/lib/python3.10/site-packages (from yfinance) (4.13.3)\n",
      "Requirement already satisfied: pytz>=2022.5 in /Users/U1037319/Downloads/tmenv/lib/python3.10/site-packages (from yfinance) (2025.1)\n",
      "Requirement already satisfied: peewee>=3.16.2 in /Users/U1037319/Downloads/tmenv/lib/python3.10/site-packages (from yfinance) (3.17.9)\n",
      "Requirement already satisfied: numpy>=1.16.5 in /Users/U1037319/Downloads/tmenv/lib/python3.10/site-packages (from yfinance) (1.26.4)\n",
      "Requirement already satisfied: requests>=2.31 in /Users/U1037319/Downloads/tmenv/lib/python3.10/site-packages (from yfinance) (2.32.3)\n",
      "Requirement already satisfied: typing-extensions>=4.0.0 in /Users/U1037319/Downloads/tmenv/lib/python3.10/site-packages (from beautifulsoup4>=4.11.1->yfinance) (4.12.2)\n",
      "Requirement already satisfied: soupsieve>1.2 in /Users/U1037319/Downloads/tmenv/lib/python3.10/site-packages (from beautifulsoup4>=4.11.1->yfinance) (2.6)\n",
      "Requirement already satisfied: python-dateutil>=2.8.2 in /Users/U1037319/Downloads/tmenv/lib/python3.10/site-packages (from pandas>=1.3.0->yfinance) (2.9.0.post0)\n",
      "Requirement already satisfied: tzdata>=2022.1 in /Users/U1037319/Downloads/tmenv/lib/python3.10/site-packages (from pandas>=1.3.0->yfinance) (2025.1)\n",
      "Requirement already satisfied: charset-normalizer<4,>=2 in /Users/U1037319/Downloads/tmenv/lib/python3.10/site-packages (from requests>=2.31->yfinance) (3.4.1)\n",
      "Requirement already satisfied: certifi>=2017.4.17 in /Users/U1037319/Downloads/tmenv/lib/python3.10/site-packages (from requests>=2.31->yfinance) (2025.1.31)\n",
      "Requirement already satisfied: idna<4,>=2.5 in /Users/U1037319/Downloads/tmenv/lib/python3.10/site-packages (from requests>=2.31->yfinance) (3.10)\n",
      "Requirement already satisfied: urllib3<3,>=1.21.1 in /Users/U1037319/Downloads/tmenv/lib/python3.10/site-packages (from requests>=2.31->yfinance) (2.3.0)\n",
      "Requirement already satisfied: six>=1.5 in /Users/U1037319/Downloads/tmenv/lib/python3.10/site-packages (from python-dateutil>=2.8.2->pandas>=1.3.0->yfinance) (1.17.0)\n",
      "\n",
      "\u001b[1m[\u001b[0m\u001b[34;49mnotice\u001b[0m\u001b[1;39;49m]\u001b[0m\u001b[39;49m A new release of pip is available: \u001b[0m\u001b[31;49m23.0.1\u001b[0m\u001b[39;49m -> \u001b[0m\u001b[32;49m25.0.1\u001b[0m\n",
      "\u001b[1m[\u001b[0m\u001b[34;49mnotice\u001b[0m\u001b[1;39;49m]\u001b[0m\u001b[39;49m To update, run: \u001b[0m\u001b[32;49mpip install --upgrade pip\u001b[0m\n"
     ]
    },
    {
     "ename": "",
     "evalue": "",
     "output_type": "error",
     "traceback": [
      "\u001b[1;31mnotebook controller is DISPOSED. \n",
      "\u001b[1;31mView Jupyter <a href='command:jupyter.viewOutput'>log</a> for further details."
     ]
    }
   ],
   "source": [
    "#Esta es requerida para importar los datos financieros\n",
    "!pip install yfinance"
   ]
  },
  {
   "cell_type": "code",
   "execution_count": 1,
   "metadata": {
    "execution": {
     "iopub.execute_input": "2024-04-19T13:41:24.956829Z",
     "iopub.status.busy": "2024-04-19T13:41:24.955484Z",
     "iopub.status.idle": "2024-04-19T13:41:27.632543Z",
     "shell.execute_reply": "2024-04-19T13:41:27.631393Z",
     "shell.execute_reply.started": "2024-04-19T13:41:24.956778Z"
    },
    "trusted": true
   },
   "outputs": [],
   "source": [
    "# Manipulación datos:\n",
    "import numpy as np\n",
    "import pandas as pd\n",
    "\n",
    "from numpy import array\n",
    "#from keras.models import Sequential\n",
    "#from keras.layers import Dense\n",
    "from numpy import asarray\n",
    "from pandas import DataFrame\n",
    "from pandas import concat\n",
    "\n",
    "# Gráficos\n",
    "import matplotlib.pyplot as plt\n",
    "import plotly.graph_objects as go\n",
    "from matplotlib import pyplot\n",
    "plt.style.use('fivethirtyeight')\n",
    "plt.rcParams['lines.linewidth'] = 1.5\n",
    "%matplotlib inline\n",
    "\n",
    "# Modelación y pronóstico\n",
    "#Random Forest:\n",
    "from sklearn.ensemble import RandomForestRegressor\n",
    "from sklearn.metrics import mean_squared_error\n",
    "from sklearn.metrics import mean_absolute_error\n",
    "from sklearn.preprocessing import StandardScaler\n",
    "from sklearn.pipeline import make_pipeline\n",
    "\n",
    "from sklearn.preprocessing import OneHotEncoder\n",
    "from sklearn.preprocessing import StandardScaler\n",
    "from sklearn.compose import ColumnTransformer\n",
    "from sklearn.pipeline import make_pipeline\n",
    "##Regressor:\n",
    "from skforecast.ForecasterAutoreg import ForecasterAutoreg\n",
    "from skforecast.ForecasterAutoregCustom import ForecasterAutoregCustom\n",
    "from skforecast.ForecasterAutoregDirect import ForecasterAutoregDirect\n",
    "from skforecast.model_selection import grid_search_forecaster\n",
    "from skforecast.model_selection import backtesting_forecaster\n",
    "from skforecast.utils import save_forecaster\n",
    "from skforecast.utils import load_forecaster\n",
    "\n",
    "from joblib import dump, load\n",
    "\n",
    "\n",
    "from datetime import datetime\n",
    "from math import sqrt\n",
    "# Configuración de warnings:\n",
    "import warnings\n",
    "warnings.filterwarnings('once')"
   ]
  },
  {
   "cell_type": "code",
   "execution_count": 2,
   "metadata": {
    "execution": {
     "iopub.execute_input": "2024-04-19T13:41:32.869070Z",
     "iopub.status.busy": "2024-04-19T13:41:32.868508Z",
     "iopub.status.idle": "2024-04-19T13:41:33.406168Z",
     "shell.execute_reply": "2024-04-19T13:41:33.404942Z",
     "shell.execute_reply.started": "2024-04-19T13:41:32.869039Z"
    },
    "trusted": true
   },
   "outputs": [
    {
     "name": "stderr",
     "output_type": "stream",
     "text": [
      "/Users/U1037319/Downloads/tmenv/lib/python3.10/site-packages/pandas_datareader/compat/__init__.py:11: DeprecationWarning: distutils Version classes are deprecated. Use packaging.version instead.\n",
      "  PANDAS_VERSION = LooseVersion(pd.__version__)\n"
     ]
    }
   ],
   "source": [
    "#Estas son paqueterías complementarias para la descarga de datos financieros\n",
    "import pandas\n",
    "from pandas_datareader import data as pdr\n",
    "import yfinance as yfin\n",
    "#yfin.pdr_override()\n",
    "#Diable the warnings\n",
    "import warnings\n",
    "warnings.filterwarnings('ignore')"
   ]
  },
  {
   "cell_type": "code",
   "execution_count": null,
   "metadata": {
    "execution": {
     "iopub.execute_input": "2024-04-19T13:42:00.251621Z",
     "iopub.status.busy": "2024-04-19T13:42:00.250994Z",
     "iopub.status.idle": "2024-04-19T13:42:30.198362Z",
     "shell.execute_reply": "2024-04-19T13:42:30.196879Z",
     "shell.execute_reply.started": "2024-04-19T13:42:00.251588Z"
    },
    "trusted": true
   },
   "outputs": [
    {
     "name": "stdout",
     "output_type": "stream",
     "text": [
      "Collecting git+https://github.com/pydata/pandas-datareader.git\n",
      "  Cloning https://github.com/pydata/pandas-datareader.git to /tmp/pip-req-build-vddc7dvi\n",
      "  Running command git clone --filter=blob:none --quiet https://github.com/pydata/pandas-datareader.git /tmp/pip-req-build-vddc7dvi\n",
      "  Resolved https://github.com/pydata/pandas-datareader.git to commit a1cf7a20fe03dd63e930fa5ca1311a57897c9ddd\n",
      "  Installing build dependencies ... \u001b[?25ldone\n",
      "\u001b[?25h  Getting requirements to build wheel ... \u001b[?25ldone\n",
      "\u001b[?25h  Preparing metadata (pyproject.toml) ... \u001b[?25ldone\n",
      "\u001b[?25hRequirement already satisfied: lxml in /opt/conda/lib/python3.10/site-packages (from pandas-datareader==0.11.0.dev55+ga1cf7a2) (5.2.1)\n",
      "Requirement already satisfied: pandas>=1.5.3 in /opt/conda/lib/python3.10/site-packages (from pandas-datareader==0.11.0.dev55+ga1cf7a2) (2.1.4)\n",
      "Requirement already satisfied: requests>=2.19.0 in /opt/conda/lib/python3.10/site-packages (from pandas-datareader==0.11.0.dev55+ga1cf7a2) (2.31.0)\n",
      "Requirement already satisfied: numpy<2,>=1.22.4 in /opt/conda/lib/python3.10/site-packages (from pandas>=1.5.3->pandas-datareader==0.11.0.dev55+ga1cf7a2) (1.26.4)\n",
      "Requirement already satisfied: python-dateutil>=2.8.2 in /opt/conda/lib/python3.10/site-packages (from pandas>=1.5.3->pandas-datareader==0.11.0.dev55+ga1cf7a2) (2.9.0.post0)\n",
      "Requirement already satisfied: pytz>=2020.1 in /opt/conda/lib/python3.10/site-packages (from pandas>=1.5.3->pandas-datareader==0.11.0.dev55+ga1cf7a2) (2023.3.post1)\n",
      "Requirement already satisfied: tzdata>=2022.1 in /opt/conda/lib/python3.10/site-packages (from pandas>=1.5.3->pandas-datareader==0.11.0.dev55+ga1cf7a2) (2023.4)\n",
      "Requirement already satisfied: charset-normalizer<4,>=2 in /opt/conda/lib/python3.10/site-packages (from requests>=2.19.0->pandas-datareader==0.11.0.dev55+ga1cf7a2) (3.3.2)\n",
      "Requirement already satisfied: idna<4,>=2.5 in /opt/conda/lib/python3.10/site-packages (from requests>=2.19.0->pandas-datareader==0.11.0.dev55+ga1cf7a2) (3.6)\n",
      "Requirement already satisfied: urllib3<3,>=1.21.1 in /opt/conda/lib/python3.10/site-packages (from requests>=2.19.0->pandas-datareader==0.11.0.dev55+ga1cf7a2) (1.26.18)\n",
      "Requirement already satisfied: certifi>=2017.4.17 in /opt/conda/lib/python3.10/site-packages (from requests>=2.19.0->pandas-datareader==0.11.0.dev55+ga1cf7a2) (2024.2.2)\n",
      "Requirement already satisfied: six>=1.5 in /opt/conda/lib/python3.10/site-packages (from python-dateutil>=2.8.2->pandas>=1.5.3->pandas-datareader==0.11.0.dev55+ga1cf7a2) (1.16.0)\n",
      "Building wheels for collected packages: pandas-datareader\n",
      "  Building wheel for pandas-datareader (pyproject.toml) ... \u001b[?25ldone\n",
      "\u001b[?25h  Created wheel for pandas-datareader: filename=pandas_datareader-0.11.0.dev55+ga1cf7a2-py3-none-any.whl size=114240 sha256=20d6514855fd280b0df863aabddc608afda333bc38bd81c5330c86b868a66049\n",
      "  Stored in directory: /tmp/pip-ephem-wheel-cache-tb7mn96j/wheels/8e/ee/f8/83ddbd27100f359877dac9de223dd44e42750c8ec60b3fe253\n",
      "Successfully built pandas-datareader\n",
      "Installing collected packages: pandas-datareader\n",
      "  Attempting uninstall: pandas-datareader\n",
      "    Found existing installation: pandas-datareader 0.10.0\n",
      "    Uninstalling pandas-datareader-0.10.0:\n",
      "      Successfully uninstalled pandas-datareader-0.10.0\n",
      "Successfully installed pandas-datareader-0.11.0.dev55+ga1cf7a2\n"
     ]
    },
    {
     "ename": "",
     "evalue": "",
     "output_type": "error",
     "traceback": [
      "\u001b[1;31mnotebook controller is DISPOSED. \n",
      "\u001b[1;31mView Jupyter <a href='command:jupyter.viewOutput'>log</a> for further details."
     ]
    }
   ],
   "source": [
    "##Si tienes problemas para descargar pandas datareader, puedes probar la siguiente línea:\n",
    "!pip install git+https://github.com/pydata/pandas-datareader.git"
   ]
  },
  {
   "cell_type": "markdown",
   "metadata": {},
   "source": [
    "<a id=\"3\"></a> <br>\n",
    "### 2. Importación de datos financieros\n",
    "\n",
    "Establecemos primeramente la fecha de inicio y fin, así como el activo o los activos de interés. En este ejemplo, emplearemos únicamente un activo, pero dejo desactivados otros ejemplos de stocks (stks), índices (idx), monedas (ccy) como ejemplos de otros activos."
   ]
  },
  {
   "cell_type": "code",
   "execution_count": 3,
   "metadata": {
    "execution": {
     "iopub.execute_input": "2024-04-19T15:38:17.949667Z",
     "iopub.status.busy": "2024-04-19T15:38:17.949210Z",
     "iopub.status.idle": "2024-04-19T15:38:17.955621Z",
     "shell.execute_reply": "2024-04-19T15:38:17.954514Z",
     "shell.execute_reply.started": "2024-04-19T15:38:17.949617Z"
    },
    "trusted": true
   },
   "outputs": [],
   "source": [
    "#Establecemos las fechas de consulta:\n",
    "start = '2015-01-01'\n",
    "end = '2022-07-29'\n",
    "#ticker = 'AAPL'\n",
    "#data = pdr.get_data_yahoo(ticker, start, end)['Adj Close']\n",
    "#gs10='GS10'\n",
    "#stks_tickers = ['AAPL','IBM', 'GOOGL']\n",
    "#idx_tickers = ['SPY', '^DJI', '^VIX']\n",
    "#ccy_tickers = ['JPY=X', 'GBPUSD=X']"
   ]
  },
  {
   "cell_type": "code",
   "execution_count": null,
   "metadata": {
    "execution": {
     "iopub.execute_input": "2024-04-19T15:38:23.996348Z",
     "iopub.status.busy": "2024-04-19T15:38:23.995927Z",
     "iopub.status.idle": "2024-04-19T15:38:24.050140Z",
     "shell.execute_reply": "2024-04-19T15:38:24.049187Z",
     "shell.execute_reply.started": "2024-04-19T15:38:23.996314Z"
    },
    "trusted": true
   },
   "outputs": [],
   "source": [
    "#Una vez declarado el ticker, pedimos a través de la función de pandas data reader (pdr), bajar lso datos de la fuente de yahoo finance.\n",
    "#data = pdr.get_data_yahoo(\"AMZN\", start, end)['Close']"
   ]
  },
  {
   "cell_type": "code",
   "execution_count": null,
   "metadata": {},
   "outputs": [
    {
     "name": "stdout",
     "output_type": "stream",
     "text": [
      "YF.download() has changed argument auto_adjust default to True\n"
     ]
    },
    {
     "name": "stderr",
     "output_type": "stream",
     "text": [
      "[*********************100%***********************]  1 of 1 completed"
     ]
    },
    {
     "name": "stdout",
     "output_type": "stream",
     "text": [
      "Ticker         AMZN\n",
      "Date               \n",
      "2015-01-02  15.4260\n",
      "2015-01-05  15.1095\n",
      "2015-01-06  14.7645\n",
      "2015-01-07  14.9210\n",
      "2015-01-08  15.0230\n"
     ]
    },
    {
     "name": "stderr",
     "output_type": "stream",
     "text": [
      "\n"
     ]
    },
    {
     "data": {
      "image/png": "[encoded data removed]",
      "text/plain": [
       "<Figure size 1000x500 with 1 Axes>"
      ]
     },
     "metadata": {},
     "output_type": "display_data"
    }
   ],
   "source": [
    "# Este lo adicione por que como estaba arriba originalmente no funcionaba\n",
    "import yfinance as yf\n",
    "import matplotlib.pyplot as plt\n",
    "\n",
    "# Definir fechas\n",
    "start = \"2015-01-01\"\n",
    "end = \"2022-07-29\"\n",
    "\n",
    "# Descargar datos con yfinance\n",
    "data = yf.download(\"AMZN\", start=start, end=end)['Close']\n",
    "\n",
    "# Mostrar primeras filas\n",
    "print(data.head())\n",
    "\n",
    "# Graficar\n",
    "data.plot(title=\"Precio de cierre de Amazon (AMZN)\", figsize=(10, 5))\n",
    "plt.xlabel(\"Fecha\")\n",
    "plt.ylabel(\"Precio (USD)\")\n",
    "plt.grid(True)\n",
    "plt.show()\n"
   ]
  },
  {
   "cell_type": "code",
   "execution_count": 22,
   "metadata": {
    "execution": {
     "iopub.execute_input": "2024-04-19T15:39:02.359997Z",
     "iopub.status.busy": "2024-04-19T15:39:02.359535Z",
     "iopub.status.idle": "2024-04-19T15:39:02.372984Z",
     "shell.execute_reply": "2024-04-19T15:39:02.372137Z",
     "shell.execute_reply.started": "2024-04-19T15:39:02.359965Z"
    },
    "trusted": true
   },
   "outputs": [
    {
     "name": "stdout",
     "output_type": "stream",
     "text": [
      "<class 'pandas.core.frame.DataFrame'>\n",
      "DatetimeIndex: 1906 entries, 2015-01-02 to 2022-07-28\n",
      "Data columns (total 1 columns):\n",
      " #   Column  Non-Null Count  Dtype  \n",
      "---  ------  --------------  -----  \n",
      " 0   y       1906 non-null   float64\n",
      "dtypes: float64(1)\n",
      "memory usage: 29.8 KB\n"
     ]
    }
   ],
   "source": [
    "#Pasamos a data frame los datos, cambiamos el nombre de la columna del tipo de precio a \"y\", para facilidad posterior.\n",
    "dt= pandas.DataFrame(data)\n",
    "df= dt.rename(columns={'AMZN': 'y'})\n",
    "df.info()"
   ]
  },
  {
   "cell_type": "code",
   "execution_count": 23,
   "metadata": {
    "execution": {
     "iopub.execute_input": "2024-04-19T15:39:05.627046Z",
     "iopub.status.busy": "2024-04-19T15:39:05.625928Z",
     "iopub.status.idle": "2024-04-19T15:39:05.639818Z",
     "shell.execute_reply": "2024-04-19T15:39:05.638416Z",
     "shell.execute_reply.started": "2024-04-19T15:39:05.626996Z"
    },
    "trusted": true
   },
   "outputs": [
    {
     "data": {
      "text/html": [
       "<div>\n",
       "<style scoped>\n",
       "    .dataframe tbody tr th:only-of-type {\n",
       "        vertical-align: middle;\n",
       "    }\n",
       "\n",
       "    .dataframe tbody tr th {\n",
       "        vertical-align: top;\n",
       "    }\n",
       "\n",
       "    .dataframe thead th {\n",
       "        text-align: right;\n",
       "    }\n",
       "</style>\n",
       "<table border=\"1\" class=\"dataframe\">\n",
       "  <thead>\n",
       "    <tr style=\"text-align: right;\">\n",
       "      <th>Ticker</th>\n",
       "      <th>y</th>\n",
       "    </tr>\n",
       "    <tr>\n",
       "      <th>Date</th>\n",
       "      <th></th>\n",
       "    </tr>\n",
       "  </thead>\n",
       "  <tbody>\n",
       "    <tr>\n",
       "      <th>2015-01-02</th>\n",
       "      <td>15.4260</td>\n",
       "    </tr>\n",
       "    <tr>\n",
       "      <th>2015-01-05</th>\n",
       "      <td>15.1095</td>\n",
       "    </tr>\n",
       "    <tr>\n",
       "      <th>2015-01-06</th>\n",
       "      <td>14.7645</td>\n",
       "    </tr>\n",
       "    <tr>\n",
       "      <th>2015-01-07</th>\n",
       "      <td>14.9210</td>\n",
       "    </tr>\n",
       "    <tr>\n",
       "      <th>2015-01-08</th>\n",
       "      <td>15.0230</td>\n",
       "    </tr>\n",
       "  </tbody>\n",
       "</table>\n",
       "</div>"
      ],
      "text/plain": [
       "Ticker            y\n",
       "Date               \n",
       "2015-01-02  15.4260\n",
       "2015-01-05  15.1095\n",
       "2015-01-06  14.7645\n",
       "2015-01-07  14.9210\n",
       "2015-01-08  15.0230"
      ]
     },
     "execution_count": 23,
     "metadata": {},
     "output_type": "execute_result"
    }
   ],
   "source": [
    "df.head()"
   ]
  },
  {
   "cell_type": "markdown",
   "metadata": {},
   "source": [
    "<a id=\"5\"></a> <br>\n",
    "### 3. Preprocesamiento de datos\n",
    "\n",
    "En esta parte, debemos dar especial formato a la columna de fechas, así como a su frecuencia. Esto es importante para que el pronóstico mediante la función de regresión funcione apropiadamente. "
   ]
  },
  {
   "cell_type": "code",
   "execution_count": 24,
   "metadata": {
    "execution": {
     "iopub.execute_input": "2024-04-19T15:40:49.294675Z",
     "iopub.status.busy": "2024-04-19T15:40:49.294237Z",
     "iopub.status.idle": "2024-04-19T15:40:49.307241Z",
     "shell.execute_reply": "2024-04-19T15:40:49.306032Z",
     "shell.execute_reply.started": "2024-04-19T15:40:49.294628Z"
    },
    "trusted": true
   },
   "outputs": [
    {
     "data": {
      "text/plain": [
       "DatetimeIndex(['2015-01-02', '2015-01-05', '2015-01-06', '2015-01-07',\n",
       "               '2015-01-08', '2015-01-09', '2015-01-12', '2015-01-13',\n",
       "               '2015-01-14', '2015-01-15',\n",
       "               ...\n",
       "               '2022-07-15', '2022-07-18', '2022-07-19', '2022-07-20',\n",
       "               '2022-07-21', '2022-07-22', '2022-07-25', '2022-07-26',\n",
       "               '2022-07-27', '2022-07-28'],\n",
       "              dtype='datetime64[ns]', name='Date', length=1906, freq=None)"
      ]
     },
     "execution_count": 24,
     "metadata": {},
     "output_type": "execute_result"
    }
   ],
   "source": [
    "# Preparación formato datos\n",
    "# ==============================================================================\n",
    "dataindex= pd.to_datetime(df.index)\n",
    "dataindex"
   ]
  },
  {
   "cell_type": "code",
   "execution_count": 25,
   "metadata": {
    "execution": {
     "iopub.execute_input": "2024-04-19T15:40:51.272173Z",
     "iopub.status.busy": "2024-04-19T15:40:51.271747Z",
     "iopub.status.idle": "2024-04-19T15:40:51.339985Z",
     "shell.execute_reply": "2024-04-19T15:40:51.338846Z",
     "shell.execute_reply.started": "2024-04-19T15:40:51.272140Z"
    },
    "trusted": true
   },
   "outputs": [
    {
     "name": "stdout",
     "output_type": "stream",
     "text": [
      "<class 'pandas.core.frame.DataFrame'>\n",
      "DatetimeIndex: 1975 entries, 2015-01-02 to 2022-07-28\n",
      "Freq: B\n",
      "Data columns (total 1 columns):\n",
      " #   Column  Non-Null Count  Dtype  \n",
      "---  ------  --------------  -----  \n",
      " 0   y       1906 non-null   float64\n",
      "dtypes: float64(1)\n",
      "memory usage: 30.9 KB\n"
     ]
    }
   ],
   "source": [
    "# Damos formato de fecha con periodiciadad diaria a la serie.\n",
    "df['Date'] = pd.to_datetime(df.index, format='%Y-%m-%d')  \n",
    "#df['Date'] = pd.to_datetime(df['Date'], format='%Y-%m-%d')  \n",
    "df = df.set_index('Date')\n",
    "df = df.asfreq('B')\n",
    "df = df.sort_index()\n",
    "df.info()"
   ]
  },
  {
   "cell_type": "code",
   "execution_count": 26,
   "metadata": {
    "execution": {
     "iopub.execute_input": "2024-04-19T15:41:24.625829Z",
     "iopub.status.busy": "2024-04-19T15:41:24.625388Z",
     "iopub.status.idle": "2024-04-19T15:41:24.633040Z",
     "shell.execute_reply": "2024-04-19T15:41:24.631675Z",
     "shell.execute_reply.started": "2024-04-19T15:41:24.625798Z"
    },
    "trusted": true
   },
   "outputs": [],
   "source": [
    "## Imputamos algún valor faltante con el valor anterior.\n",
    "df.fillna(method='bfill', inplace=True)"
   ]
  },
  {
   "cell_type": "code",
   "execution_count": 27,
   "metadata": {
    "execution": {
     "iopub.execute_input": "2024-04-19T15:42:25.068913Z",
     "iopub.status.busy": "2024-04-19T15:42:25.068517Z",
     "iopub.status.idle": "2024-04-19T15:42:25.076062Z",
     "shell.execute_reply": "2024-04-19T15:42:25.075176Z",
     "shell.execute_reply.started": "2024-04-19T15:42:25.068882Z"
    },
    "trusted": true
   },
   "outputs": [
    {
     "name": "stdout",
     "output_type": "stream",
     "text": [
      "Number of rows with missing values: 0.0\n"
     ]
    }
   ],
   "source": [
    "# Podemos verificar si valores faltantes.\n",
    "print(f'Number of rows with missing values: {df.isnull().any(axis=1).mean()}')"
   ]
  },
  {
   "cell_type": "markdown",
   "metadata": {},
   "source": [
    "<a id=\"6\"></a> <br>\n",
    "### 4. Partición de datos en entrenamiento y prueba\n",
    "\n",
    "En esta seción, partimos el conjunto de datos de pueba y de entrenamiento. "
   ]
  },
  {
   "cell_type": "code",
   "execution_count": 28,
   "metadata": {
    "execution": {
     "iopub.execute_input": "2024-04-19T15:42:52.840247Z",
     "iopub.status.busy": "2024-04-19T15:42:52.839819Z",
     "iopub.status.idle": "2024-04-19T15:42:52.848326Z",
     "shell.execute_reply": "2024-04-19T15:42:52.847134Z",
     "shell.execute_reply.started": "2024-04-19T15:42:52.840214Z"
    },
    "trusted": true
   },
   "outputs": [
    {
     "name": "stdout",
     "output_type": "stream",
     "text": [
      "Train dates : 2015-01-02 00:00:00 --- 2022-03-10 00:00:00  (n=1875)\n",
      "Test dates  : 2022-03-11 00:00:00 --- 2022-07-28 00:00:00  (n=100)\n"
     ]
    }
   ],
   "source": [
    "# Split data into train-test\n",
    "# ==============================================================================\n",
    "steps = 100\n",
    "data_train = df[:-steps]\n",
    "data_test  = df[-steps:]\n",
    "print(f\"Train dates : {data_train.index.min()} --- {data_train.index.max()}  (n={len(data_train)})\")\n",
    "print(f\"Test dates  : {data_test.index.min()} --- {data_test.index.max()}  (n={len(data_test)})\")\n",
    "\n",
    "#Así también para las fechas:\n",
    "date_train = dataindex[:-steps]\n",
    "date_test = dataindex[-steps:]"
   ]
  },
  {
   "cell_type": "code",
   "execution_count": 29,
   "metadata": {
    "execution": {
     "iopub.execute_input": "2024-04-19T15:42:55.287627Z",
     "iopub.status.busy": "2024-04-19T15:42:55.287238Z",
     "iopub.status.idle": "2024-04-19T15:42:55.298470Z",
     "shell.execute_reply": "2024-04-19T15:42:55.297352Z",
     "shell.execute_reply.started": "2024-04-19T15:42:55.287597Z"
    },
    "trusted": true
   },
   "outputs": [
    {
     "data": {
      "text/html": [
       "<div>\n",
       "<style scoped>\n",
       "    .dataframe tbody tr th:only-of-type {\n",
       "        vertical-align: middle;\n",
       "    }\n",
       "\n",
       "    .dataframe tbody tr th {\n",
       "        vertical-align: top;\n",
       "    }\n",
       "\n",
       "    .dataframe thead th {\n",
       "        text-align: right;\n",
       "    }\n",
       "</style>\n",
       "<table border=\"1\" class=\"dataframe\">\n",
       "  <thead>\n",
       "    <tr style=\"text-align: right;\">\n",
       "      <th>Ticker</th>\n",
       "      <th>y</th>\n",
       "    </tr>\n",
       "    <tr>\n",
       "      <th>Date</th>\n",
       "      <th></th>\n",
       "    </tr>\n",
       "  </thead>\n",
       "  <tbody>\n",
       "    <tr>\n",
       "      <th>2015-01-02</th>\n",
       "      <td>15.4260</td>\n",
       "    </tr>\n",
       "    <tr>\n",
       "      <th>2015-01-05</th>\n",
       "      <td>15.1095</td>\n",
       "    </tr>\n",
       "    <tr>\n",
       "      <th>2015-01-06</th>\n",
       "      <td>14.7645</td>\n",
       "    </tr>\n",
       "    <tr>\n",
       "      <th>2015-01-07</th>\n",
       "      <td>14.9210</td>\n",
       "    </tr>\n",
       "    <tr>\n",
       "      <th>2015-01-08</th>\n",
       "      <td>15.0230</td>\n",
       "    </tr>\n",
       "  </tbody>\n",
       "</table>\n",
       "</div>"
      ],
      "text/plain": [
       "Ticker            y\n",
       "Date               \n",
       "2015-01-02  15.4260\n",
       "2015-01-05  15.1095\n",
       "2015-01-06  14.7645\n",
       "2015-01-07  14.9210\n",
       "2015-01-08  15.0230"
      ]
     },
     "execution_count": 29,
     "metadata": {},
     "output_type": "execute_result"
    }
   ],
   "source": [
    "data_train.head()"
   ]
  },
  {
   "cell_type": "code",
   "execution_count": 30,
   "metadata": {
    "execution": {
     "iopub.execute_input": "2024-04-19T15:42:59.495172Z",
     "iopub.status.busy": "2024-04-19T15:42:59.494748Z",
     "iopub.status.idle": "2024-04-19T15:42:59.502870Z",
     "shell.execute_reply": "2024-04-19T15:42:59.501653Z",
     "shell.execute_reply.started": "2024-04-19T15:42:59.495131Z"
    },
    "trusted": true
   },
   "outputs": [
    {
     "data": {
      "text/plain": [
       "1975"
      ]
     },
     "execution_count": 30,
     "metadata": {},
     "output_type": "execute_result"
    }
   ],
   "source": [
    "#Identificamos la longitud de la serie\n",
    "len(df)"
   ]
  },
  {
   "cell_type": "code",
   "execution_count": 31,
   "metadata": {
    "execution": {
     "iopub.execute_input": "2024-04-19T15:43:01.832071Z",
     "iopub.status.busy": "2024-04-19T15:43:01.831668Z",
     "iopub.status.idle": "2024-04-19T15:43:01.842693Z",
     "shell.execute_reply": "2024-04-19T15:43:01.841541Z",
     "shell.execute_reply.started": "2024-04-19T15:43:01.832042Z"
    },
    "trusted": true
   },
   "outputs": [
    {
     "data": {
      "text/html": [
       "<div>\n",
       "<style scoped>\n",
       "    .dataframe tbody tr th:only-of-type {\n",
       "        vertical-align: middle;\n",
       "    }\n",
       "\n",
       "    .dataframe tbody tr th {\n",
       "        vertical-align: top;\n",
       "    }\n",
       "\n",
       "    .dataframe thead th {\n",
       "        text-align: right;\n",
       "    }\n",
       "</style>\n",
       "<table border=\"1\" class=\"dataframe\">\n",
       "  <thead>\n",
       "    <tr style=\"text-align: right;\">\n",
       "      <th>Ticker</th>\n",
       "      <th>y</th>\n",
       "    </tr>\n",
       "    <tr>\n",
       "      <th>Date</th>\n",
       "      <th></th>\n",
       "    </tr>\n",
       "  </thead>\n",
       "  <tbody>\n",
       "    <tr>\n",
       "      <th>2015-01-02</th>\n",
       "      <td>15.4260</td>\n",
       "    </tr>\n",
       "    <tr>\n",
       "      <th>2015-01-05</th>\n",
       "      <td>15.1095</td>\n",
       "    </tr>\n",
       "    <tr>\n",
       "      <th>2015-01-06</th>\n",
       "      <td>14.7645</td>\n",
       "    </tr>\n",
       "    <tr>\n",
       "      <th>2015-01-07</th>\n",
       "      <td>14.9210</td>\n",
       "    </tr>\n",
       "    <tr>\n",
       "      <th>2015-01-08</th>\n",
       "      <td>15.0230</td>\n",
       "    </tr>\n",
       "  </tbody>\n",
       "</table>\n",
       "</div>"
      ],
      "text/plain": [
       "Ticker            y\n",
       "Date               \n",
       "2015-01-02  15.4260\n",
       "2015-01-05  15.1095\n",
       "2015-01-06  14.7645\n",
       "2015-01-07  14.9210\n",
       "2015-01-08  15.0230"
      ]
     },
     "execution_count": 31,
     "metadata": {},
     "output_type": "execute_result"
    }
   ],
   "source": [
    "data_train.head()"
   ]
  },
  {
   "cell_type": "markdown",
   "metadata": {},
   "source": [
    "<a id=\"4\"></a> <br>\n",
    "### 5. Visualización de datos financieros\n",
    "\n",
    "Para mirar la serie, debemos importar la librería de matplotlib."
   ]
  },
  {
   "cell_type": "code",
   "execution_count": 32,
   "metadata": {
    "execution": {
     "iopub.execute_input": "2024-04-19T15:43:05.122665Z",
     "iopub.status.busy": "2024-04-19T15:43:05.122239Z",
     "iopub.status.idle": "2024-04-19T15:43:05.456054Z",
     "shell.execute_reply": "2024-04-19T15:43:05.454759Z",
     "shell.execute_reply.started": "2024-04-19T15:43:05.122617Z"
    },
    "trusted": true
   },
   "outputs": [
    {
     "data": {
      "text/plain": [
       "[<matplotlib.lines.Line2D at 0x314952d40>]"
      ]
     },
     "execution_count": 32,
     "metadata": {},
     "output_type": "execute_result"
    },
    {
     "data": {
      "image/png": "[encoded data removed]",
      "text/plain": [
       "<Figure size 640x480 with 1 Axes>"
      ]
     },
     "metadata": {},
     "output_type": "display_data"
    }
   ],
   "source": [
    "#Una vez llamada la librería, graficamos la serie dt.\n",
    "import matplotlib.pyplot as plt\n",
    "plt.plot(df)"
   ]
  },
  {
   "cell_type": "code",
   "execution_count": 33,
   "metadata": {
    "execution": {
     "iopub.execute_input": "2024-04-19T15:43:08.562837Z",
     "iopub.status.busy": "2024-04-19T15:43:08.562405Z",
     "iopub.status.idle": "2024-04-19T15:43:08.571579Z",
     "shell.execute_reply": "2024-04-19T15:43:08.570369Z",
     "shell.execute_reply.started": "2024-04-19T15:43:08.562803Z"
    },
    "trusted": true
   },
   "outputs": [
    {
     "data": {
      "text/plain": [
       "DatetimeIndex(['2015-01-02', '2015-01-05', '2015-01-06', '2015-01-07',\n",
       "               '2015-01-08', '2015-01-09', '2015-01-12', '2015-01-13',\n",
       "               '2015-01-14', '2015-01-15',\n",
       "               ...\n",
       "               '2022-02-18', '2022-02-22', '2022-02-23', '2022-02-24',\n",
       "               '2022-02-25', '2022-02-28', '2022-03-01', '2022-03-02',\n",
       "               '2022-03-03', '2022-03-04'],\n",
       "              dtype='datetime64[ns]', name='Date', length=1806, freq=None)"
      ]
     },
     "execution_count": 33,
     "metadata": {},
     "output_type": "execute_result"
    }
   ],
   "source": [
    "#Vemos los datos para las fechas que nos sirven para las gráficas\n",
    "date_train\n",
    "#date_test  #Igualmente para visualizarlos"
   ]
  },
  {
   "cell_type": "markdown",
   "metadata": {},
   "source": [
    "<a id=\"7\"></a> <br>\n",
    "### 6. Visualización conjunto de entrenamiento y prueba"
   ]
  },
  {
   "cell_type": "code",
   "execution_count": 34,
   "metadata": {
    "execution": {
     "iopub.execute_input": "2024-04-19T15:43:11.955916Z",
     "iopub.status.busy": "2024-04-19T15:43:11.955383Z",
     "iopub.status.idle": "2024-04-19T15:43:11.962856Z",
     "shell.execute_reply": "2024-04-19T15:43:11.961664Z",
     "shell.execute_reply.started": "2024-04-19T15:43:11.955877Z"
    },
    "trusted": true
   },
   "outputs": [
    {
     "name": "stdout",
     "output_type": "stream",
     "text": [
      "1875\n",
      "100\n"
     ]
    }
   ],
   "source": [
    "#Imprimimos la longitud de ambos conjuntos de datos:\n",
    "print(len(data_train))\n",
    "print(len(data_test))"
   ]
  },
  {
   "cell_type": "code",
   "execution_count": 36,
   "metadata": {
    "execution": {
     "iopub.execute_input": "2024-04-19T15:43:16.238275Z",
     "iopub.status.busy": "2024-04-19T15:43:16.237748Z",
     "iopub.status.idle": "2024-04-19T15:43:16.675623Z",
     "shell.execute_reply": "2024-04-19T15:43:16.674550Z",
     "shell.execute_reply.started": "2024-04-19T15:43:16.238236Z"
    },
    "trusted": true
   },
   "outputs": [
    {
     "data": {
      "image/png": "[encoded data removed]",
      "text/plain": [
       "<Figure size 1000x250 with 1 Axes>"
      ]
     },
     "metadata": {},
     "output_type": "display_data"
    }
   ],
   "source": [
    "fig, ax = plt.subplots(figsize=(10, 2.5))\n",
    "data_train['y'].plot(ax=ax, label='train')\n",
    "data_test['y'].plot(ax=ax, label='test')\n",
    "ax.legend();"
   ]
  },
  {
   "cell_type": "markdown",
   "metadata": {},
   "source": [
    "Ahora verificamos como quedo la partición de nuestra serie de tiempo."
   ]
  },
  {
   "cell_type": "code",
   "execution_count": 37,
   "metadata": {
    "execution": {
     "iopub.execute_input": "2024-04-19T15:43:21.514791Z",
     "iopub.status.busy": "2024-04-19T15:43:21.513948Z",
     "iopub.status.idle": "2024-04-19T15:43:21.555746Z",
     "shell.execute_reply": "2024-04-19T15:43:21.554659Z",
     "shell.execute_reply.started": "2024-04-19T15:43:21.514748Z"
    },
    "trusted": true
   },
   "outputs": [
    {
     "data": {
      "application/vnd.plotly.v1+json": {
       "config": {
        "plotlyServerURL": "https://plot.ly"
       },
       "data": [
        {
         "mode": "lines",
         "name": "Data",
         "type": "scatter",
         "x": [
          "2015-01-02T00:00:00.000000000",
          "2015-01-05T00:00:00.000000000",
          "2015-01-06T00:00:00.000000000",
          "2015-01-07T00:00:00.000000000",
          "2015-01-08T00:00:00.000000000",
          "2015-01-09T00:00:00.000000000",
          "2015-01-12T00:00:00.000000000",
          "2015-01-13T00:00:00.000000000",
          "2015-01-14T00:00:00.000000000",
          "2015-01-15T00:00:00.000000000",
          "2015-01-16T00:00:00.000000000",
          "2015-01-20T00:00:00.000000000",
          "2015-01-21T00:00:00.000000000",
          "2015-01-22T00:00:00.000000000",
          "2015-01-23T00:00:00.000000000",
          "2015-01-26T00:00:00.000000000",
          "2015-01-27T00:00:00.000000000",
          "2015-01-28T00:00:00.000000000",
          "2015-01-29T00:00:00.000000000",
          "2015-01-30T00:00:00.000000000",
          "2015-02-02T00:00:00.000000000",
          "2015-02-03T00:00:00.000000000",
          "2015-02-04T00:00:00.000000000",
          "2015-02-05T00:00:00.000000000",
          "2015-02-06T00:00:00.000000000",
          "2015-02-09T00:00:00.000000000",
          "2015-02-10T00:00:00.000000000",
          "2015-02-11T00:00:00.000000000",
          "2015-02-12T00:00:00.000000000",
          "2015-02-13T00:00:00.000000000",
          "2015-02-17T00:00:00.000000000",
          "2015-02-18T00:00:00.000000000",
          "2015-02-19T00:00:00.000000000",
          "2015-02-20T00:00:00.000000000",
          "2015-02-23T00:00:00.000000000",
          "2015-02-24T00:00:00.000000000",
          "2015-02-25T00:00:00.000000000",
          "2015-02-26T00:00:00.000000000",
          "2015-02-27T00:00:00.000000000",
          "2015-03-02T00:00:00.000000000",
          "2015-03-03T00:00:00.000000000",
          "2015-03-04T00:00:00.000000000",
          "2015-03-05T00:00:00.000000000",
          "2015-03-06T00:00:00.000000000",
          "2015-03-09T00:00:00.000000000",
          "2015-03-10T00:00:00.000000000",
          "2015-03-11T00:00:00.000000000",
          "2015-03-12T00:00:00.000000000",
          "2015-03-13T00:00:00.000000000",
          "2015-03-16T00:00:00.000000000",
          "2015-03-17T00:00:00.000000000",
          "2015-03-18T00:00:00.000000000",
          "2015-03-19T00:00:00.000000000",
          "2015-03-20T00:00:00.000000000",
          "2015-03-23T00:00:00.000000000",
          "2015-03-24T00:00:00.000000000",
          "2015-03-25T00:00:00.000000000",
          "2015-03-26T00:00:00.000000000",
          "2015-03-27T00:00:00.000000000",
          "2015-03-30T00:00:00.000000000",
          "2015-03-31T00:00:00.000000000",
          "2015-04-01T00:00:00.000000000",
          "2015-04-02T00:00:00.000000000",
          "2015-04-06T00:00:00.000000000",
          "2015-04-07T00:00:00.000000000",
          "2015-04-08T00:00:00.000000000",
          "2015-04-09T00:00:00.000000000",
          "2015-04-10T00:00:00.000000000",
          "2015-04-13T00:00:00.000000000",
          "2015-04-14T00:00:00.000000000",
          "2015-04-15T00:00:00.000000000",
          "2015-04-16T00:00:00.000000000",
          "2015-04-17T00:00:00.000000000",
          "2015-04-20T00:00:00.000000000",
          "2015-04-21T00:00:00.000000000",
          "2015-04-22T00:00:00.000000000",
          "2015-04-23T00:00:00.000000000",
          "2015-04-24T00:00:00.000000000",
          "2015-04-27T00:00:00.000000000",
          "2015-04-28T00:00:00.000000000",
          "2015-04-29T00:00:00.000000000",
          "2015-04-30T00:00:00.000000000",
          "2015-05-01T00:00:00.000000000",
          "2015-05-04T00:00:00.000000000",
          "2015-05-05T00:00:00.000000000",
          "2015-05-06T00:00:00.000000000",
          "2015-05-07T00:00:00.000000000",
          "2015-05-08T00:00:00.000000000",
          "2015-05-11T00:00:00.000000000",
          "2015-05-12T00:00:00.000000000",
          "2015-05-13T00:00:00.000000000",
          "2015-05-14T00:00:00.000000000",
          "2015-05-15T00:00:00.000000000",
          "2015-05-18T00:00:00.000000000",
          "2015-05-19T00:00:00.000000000",
          "2015-05-20T00:00:00.000000000",
          "2015-05-21T00:00:00.000000000",
          "2015-05-22T00:00:00.000000000",
          "2015-05-26T00:00:00.000000000",
          "2015-05-27T00:00:00.000000000",
          "2015-05-28T00:00:00.000000000",
          "2015-05-29T00:00:00.000000000",
          "2015-06-01T00:00:00.000000000",
          "2015-06-02T00:00:00.000000000",
          "2015-06-03T00:00:00.000000000",
          "2015-06-04T00:00:00.000000000",
          "2015-06-05T00:00:00.000000000",
          "2015-06-08T00:00:00.000000000",
          "2015-06-09T00:00:00.000000000",
          "2015-06-10T00:00:00.000000000",
          "2015-06-11T00:00:00.000000000",
          "2015-06-12T00:00:00.000000000",
          "2015-06-15T00:00:00.000000000",
          "2015-06-16T00:00:00.000000000",
          "2015-06-17T00:00:00.000000000",
          "2015-06-18T00:00:00.000000000",
          "2015-06-19T00:00:00.000000000",
          "2015-06-22T00:00:00.000000000",
          "2015-06-23T00:00:00.000000000",
          "2015-06-24T00:00:00.000000000",
          "2015-06-25T00:00:00.000000000",
          "2015-06-26T00:00:00.000000000",
          "2015-06-29T00:00:00.000000000",
          "2015-06-30T00:00:00.000000000",
          "2015-07-01T00:00:00.000000000",
          "2015-07-02T00:00:00.000000000",
          "2015-07-06T00:00:00.000000000",
          "2015-07-07T00:00:00.000000000",
          "2015-07-08T00:00:00.000000000",
          "2015-07-09T00:00:00.000000000",
          "2015-07-10T00:00:00.000000000",
          "2015-07-13T00:00:00.000000000",
          "2015-07-14T00:00:00.000000000",
          "2015-07-15T00:00:00.000000000",
          "2015-07-16T00:00:00.000000000",
          "2015-07-17T00:00:00.000000000",
          "2015-07-20T00:00:00.000000000",
          "2015-07-21T00:00:00.000000000",
          "2015-07-22T00:00:00.000000000",
          "2015-07-23T00:00:00.000000000",
          "2015-07-24T00:00:00.000000000",
          "2015-07-27T00:00:00.000000000",
          "2015-07-28T00:00:00.000000000",
          "2015-07-29T00:00:00.000000000",
          "2015-07-30T00:00:00.000000000",
          "2015-07-31T00:00:00.000000000",
          "2015-08-03T00:00:00.000000000",
          "2015-08-04T00:00:00.000000000",
          "2015-08-05T00:00:00.000000000",
          "2015-08-06T00:00:00.000000000",
          "2015-08-07T00:00:00.000000000",
          "2015-08-10T00:00:00.000000000",
          "2015-08-11T00:00:00.000000000",
          "2015-08-12T00:00:00.000000000",
          "2015-08-13T00:00:00.000000000",
          "2015-08-14T00:00:00.000000000",
          "2015-08-17T00:00:00.000000000",
          "2015-08-18T00:00:00.000000000",
          "2015-08-19T00:00:00.000000000",
          "2015-08-20T00:00:00.000000000",
          "2015-08-21T00:00:00.000000000",
          "2015-08-24T00:00:00.000000000",
          "2015-08-25T00:00:00.000000000",
          "2015-08-26T00:00:00.000000000",
          "2015-08-27T00:00:00.000000000",
          "2015-08-28T00:00:00.000000000",
          "2015-08-31T00:00:00.000000000",
          "2015-09-01T00:00:00.000000000",
          "2015-09-02T00:00:00.000000000",
          "2015-09-03T00:00:00.000000000",
          "2015-09-04T00:00:00.000000000",
          "2015-09-08T00:00:00.000000000",
          "2015-09-09T00:00:00.000000000",
          "2015-09-10T00:00:00.000000000",
          "2015-09-11T00:00:00.000000000",
          "2015-09-14T00:00:00.000000000",
          "2015-09-15T00:00:00.000000000",
          "2015-09-16T00:00:00.000000000",
          "2015-09-17T00:00:00.000000000",
          "2015-09-18T00:00:00.000000000",
          "2015-09-21T00:00:00.000000000",
          "2015-09-22T00:00:00.000000000",
          "2015-09-23T00:00:00.000000000",
          "2015-09-24T00:00:00.000000000",
          "2015-09-25T00:00:00.000000000",
          "2015-09-28T00:00:00.000000000",
          "2015-09-29T00:00:00.000000000",
          "2015-09-30T00:00:00.000000000",
          "2015-10-01T00:00:00.000000000",
          "2015-10-02T00:00:00.000000000",
          "2015-10-05T00:00:00.000000000",
          "2015-10-06T00:00:00.000000000",
          "2015-10-07T00:00:00.000000000",
          "2015-10-08T00:00:00.000000000",
          "2015-10-09T00:00:00.000000000",
          "2015-10-12T00:00:00.000000000",
          "2015-10-13T00:00:00.000000000",
          "2015-10-14T00:00:00.000000000",
          "2015-10-15T00:00:00.000000000",
          "2015-10-16T00:00:00.000000000",
          "2015-10-19T00:00:00.000000000",
          "2015-10-20T00:00:00.000000000",
          "2015-10-21T00:00:00.000000000",
          "2015-10-22T00:00:00.000000000",
          "2015-10-23T00:00:00.000000000",
          "2015-10-26T00:00:00.000000000",
          "2015-10-27T00:00:00.000000000",
          "2015-10-28T00:00:00.000000000",
          "2015-10-29T00:00:00.000000000",
          "2015-10-30T00:00:00.000000000",
          "2015-11-02T00:00:00.000000000",
          "2015-11-03T00:00:00.000000000",
          "2015-11-04T00:00:00.000000000",
          "2015-11-05T00:00:00.000000000",
          "2015-11-06T00:00:00.000000000",
          "2015-11-09T00:00:00.000000000",
          "2015-11-10T00:00:00.000000000",
          "2015-11-11T00:00:00.000000000",
          "2015-11-12T00:00:00.000000000",
          "2015-11-13T00:00:00.000000000",
          "2015-11-16T00:00:00.000000000",
          "2015-11-17T00:00:00.000000000",
          "2015-11-18T00:00:00.000000000",
          "2015-11-19T00:00:00.000000000",
          "2015-11-20T00:00:00.000000000",
          "2015-11-23T00:00:00.000000000",
          "2015-11-24T00:00:00.000000000",
          "2015-11-25T00:00:00.000000000",
          "2015-11-27T00:00:00.000000000",
          "2015-11-30T00:00:00.000000000",
          "2015-12-01T00:00:00.000000000",
          "2015-12-02T00:00:00.000000000",
          "2015-12-03T00:00:00.000000000",
          "2015-12-04T00:00:00.000000000",
          "2015-12-07T00:00:00.000000000",
          "2015-12-08T00:00:00.000000000",
          "2015-12-09T00:00:00.000000000",
          "2015-12-10T00:00:00.000000000",
          "2015-12-11T00:00:00.000000000",
          "2015-12-14T00:00:00.000000000",
          "2015-12-15T00:00:00.000000000",
          "2015-12-16T00:00:00.000000000",
          "2015-12-17T00:00:00.000000000",
          "2015-12-18T00:00:00.000000000",
          "2015-12-21T00:00:00.000000000",
          "2015-12-22T00:00:00.000000000",
          "2015-12-23T00:00:00.000000000",
          "2015-12-24T00:00:00.000000000",
          "2015-12-28T00:00:00.000000000",
          "2015-12-29T00:00:00.000000000",
          "2015-12-30T00:00:00.000000000",
          "2015-12-31T00:00:00.000000000",
          "2016-01-04T00:00:00.000000000",
          "2016-01-05T00:00:00.000000000",
          "2016-01-06T00:00:00.000000000",
          "2016-01-07T00:00:00.000000000",
          "2016-01-08T00:00:00.000000000",
          "2016-01-11T00:00:00.000000000",
          "2016-01-12T00:00:00.000000000",
          "2016-01-13T00:00:00.000000000",
          "2016-01-14T00:00:00.000000000",
          "2016-01-15T00:00:00.000000000",
          "2016-01-19T00:00:00.000000000",
          "2016-01-20T00:00:00.000000000",
          "2016-01-21T00:00:00.000000000",
          "2016-01-22T00:00:00.000000000",
          "2016-01-25T00:00:00.000000000",
          "2016-01-26T00:00:00.000000000",
          "2016-01-27T00:00:00.000000000",
          "2016-01-28T00:00:00.000000000",
          "2016-01-29T00:00:00.000000000",
          "2016-02-01T00:00:00.000000000",
          "2016-02-02T00:00:00.000000000",
          "2016-02-03T00:00:00.000000000",
          "2016-02-04T00:00:00.000000000",
          "2016-02-05T00:00:00.000000000",
          "2016-02-08T00:00:00.000000000",
          "2016-02-09T00:00:00.000000000",
          "2016-02-10T00:00:00.000000000",
          "2016-02-11T00:00:00.000000000",
          "2016-02-12T00:00:00.000000000",
          "2016-02-16T00:00:00.000000000",
          "2016-02-17T00:00:00.000000000",
          "2016-02-18T00:00:00.000000000",
          "2016-02-19T00:00:00.000000000",
          "2016-02-22T00:00:00.000000000",
          "2016-02-23T00:00:00.000000000",
          "2016-02-24T00:00:00.000000000",
          "2016-02-25T00:00:00.000000000",
          "2016-02-26T00:00:00.000000000",
          "2016-02-29T00:00:00.000000000",
          "2016-03-01T00:00:00.000000000",
          "2016-03-02T00:00:00.000000000",
          "2016-03-03T00:00:00.000000000",
          "2016-03-04T00:00:00.000000000",
          "2016-03-07T00:00:00.000000000",
          "2016-03-08T00:00:00.000000000",
          "2016-03-09T00:00:00.000000000",
          "2016-03-10T00:00:00.000000000",
          "2016-03-11T00:00:00.000000000",
          "2016-03-14T00:00:00.000000000",
          "2016-03-15T00:00:00.000000000",
          "2016-03-16T00:00:00.000000000",
          "2016-03-17T00:00:00.000000000",
          "2016-03-18T00:00:00.000000000",
          "2016-03-21T00:00:00.000000000",
          "2016-03-22T00:00:00.000000000",
          "2016-03-23T00:00:00.000000000",
          "2016-03-24T00:00:00.000000000",
          "2016-03-28T00:00:00.000000000",
          "2016-03-29T00:00:00.000000000",
          "2016-03-30T00:00:00.000000000",
          "2016-03-31T00:00:00.000000000",
          "2016-04-01T00:00:00.000000000",
          "2016-04-04T00:00:00.000000000",
          "2016-04-05T00:00:00.000000000",
          "2016-04-06T00:00:00.000000000",
          "2016-04-07T00:00:00.000000000",
          "2016-04-08T00:00:00.000000000",
          "2016-04-11T00:00:00.000000000",
          "2016-04-12T00:00:00.000000000",
          "2016-04-13T00:00:00.000000000",
          "2016-04-14T00:00:00.000000000",
          "2016-04-15T00:00:00.000000000",
          "2016-04-18T00:00:00.000000000",
          "2016-04-19T00:00:00.000000000",
          "2016-04-20T00:00:00.000000000",
          "2016-04-21T00:00:00.000000000",
          "2016-04-22T00:00:00.000000000",
          "2016-04-25T00:00:00.000000000",
          "2016-04-26T00:00:00.000000000",
          "2016-04-27T00:00:00.000000000",
          "2016-04-28T00:00:00.000000000",
          "2016-04-29T00:00:00.000000000",
          "2016-05-02T00:00:00.000000000",
          "2016-05-03T00:00:00.000000000",
          "2016-05-04T00:00:00.000000000",
          "2016-05-05T00:00:00.000000000",
          "2016-05-06T00:00:00.000000000",
          "2016-05-09T00:00:00.000000000",
          "2016-05-10T00:00:00.000000000",
          "2016-05-11T00:00:00.000000000",
          "2016-05-12T00:00:00.000000000",
          "2016-05-13T00:00:00.000000000",
          "2016-05-16T00:00:00.000000000",
          "2016-05-17T00:00:00.000000000",
          "2016-05-18T00:00:00.000000000",
          "2016-05-19T00:00:00.000000000",
          "2016-05-20T00:00:00.000000000",
          "2016-05-23T00:00:00.000000000",
          "2016-05-24T00:00:00.000000000",
          "2016-05-25T00:00:00.000000000",
          "2016-05-26T00:00:00.000000000",
          "2016-05-27T00:00:00.000000000",
          "2016-05-31T00:00:00.000000000",
          "2016-06-01T00:00:00.000000000",
          "2016-06-02T00:00:00.000000000",
          "2016-06-03T00:00:00.000000000",
          "2016-06-06T00:00:00.000000000",
          "2016-06-07T00:00:00.000000000",
          "2016-06-08T00:00:00.000000000",
          "2016-06-09T00:00:00.000000000",
          "2016-06-10T00:00:00.000000000",
          "2016-06-13T00:00:00.000000000",
          "2016-06-14T00:00:00.000000000",
          "2016-06-15T00:00:00.000000000",
          "2016-06-16T00:00:00.000000000",
          "2016-06-17T00:00:00.000000000",
          "2016-06-20T00:00:00.000000000",
          "2016-06-21T00:00:00.000000000",
          "2016-06-22T00:00:00.000000000",
          "2016-06-23T00:00:00.000000000",
          "2016-06-24T00:00:00.000000000",
          "2016-06-27T00:00:00.000000000",
          "2016-06-28T00:00:00.000000000",
          "2016-06-29T00:00:00.000000000",
          "2016-06-30T00:00:00.000000000",
          "2016-07-01T00:00:00.000000000",
          "2016-07-05T00:00:00.000000000",
          "2016-07-06T00:00:00.000000000",
          "2016-07-07T00:00:00.000000000",
          "2016-07-08T00:00:00.000000000",
          "2016-07-11T00:00:00.000000000",
          "2016-07-12T00:00:00.000000000",
          "2016-07-13T00:00:00.000000000",
          "2016-07-14T00:00:00.000000000",
          "2016-07-15T00:00:00.000000000",
          "2016-07-18T00:00:00.000000000",
          "2016-07-19T00:00:00.000000000",
          "2016-07-20T00:00:00.000000000",
          "2016-07-21T00:00:00.000000000",
          "2016-07-22T00:00:00.000000000",
          "2016-07-25T00:00:00.000000000",
          "2016-07-26T00:00:00.000000000",
          "2016-07-27T00:00:00.000000000",
          "2016-07-28T00:00:00.000000000",
          "2016-07-29T00:00:00.000000000",
          "2016-08-01T00:00:00.000000000",
          "2016-08-02T00:00:00.000000000",
          "2016-08-03T00:00:00.000000000",
          "2016-08-04T00:00:00.000000000",
          "2016-08-05T00:00:00.000000000",
          "2016-08-08T00:00:00.000000000",
          "2016-08-09T00:00:00.000000000",
          "2016-08-10T00:00:00.000000000",
          "2016-08-11T00:00:00.000000000",
          "2016-08-12T00:00:00.000000000",
          "2016-08-15T00:00:00.000000000",
          "2016-08-16T00:00:00.000000000",
          "2016-08-17T00:00:00.000000000",
          "2016-08-18T00:00:00.000000000",
          "2016-08-19T00:00:00.000000000",
          "2016-08-22T00:00:00.000000000",
          "2016-08-23T00:00:00.000000000",
          "2016-08-24T00:00:00.000000000",
          "2016-08-25T00:00:00.000000000",
          "2016-08-26T00:00:00.000000000",
          "2016-08-29T00:00:00.000000000",
          "2016-08-30T00:00:00.000000000",
          "2016-08-31T00:00:00.000000000",
          "2016-09-01T00:00:00.000000000",
          "2016-09-02T00:00:00.000000000",
          "2016-09-06T00:00:00.000000000",
          "2016-09-07T00:00:00.000000000",
          "2016-09-08T00:00:00.000000000",
          "2016-09-09T00:00:00.000000000",
          "2016-09-12T00:00:00.000000000",
          "2016-09-13T00:00:00.000000000",
          "2016-09-14T00:00:00.000000000",
          "2016-09-15T00:00:00.000000000",
          "2016-09-16T00:00:00.000000000",
          "2016-09-19T00:00:00.000000000",
          "2016-09-20T00:00:00.000000000",
          "2016-09-21T00:00:00.000000000",
          "2016-09-22T00:00:00.000000000",
          "2016-09-23T00:00:00.000000000",
          "2016-09-26T00:00:00.000000000",
          "2016-09-27T00:00:00.000000000",
          "2016-09-28T00:00:00.000000000",
          "2016-09-29T00:00:00.000000000",
          "2016-09-30T00:00:00.000000000",
          "2016-10-03T00:00:00.000000000",
          "2016-10-04T00:00:00.000000000",
          "2016-10-05T00:00:00.000000000",
          "2016-10-06T00:00:00.000000000",
          "2016-10-07T00:00:00.000000000",
          "2016-10-10T00:00:00.000000000",
          "2016-10-11T00:00:00.000000000",
          "2016-10-12T00:00:00.000000000",
          "2016-10-13T00:00:00.000000000",
          "2016-10-14T00:00:00.000000000",
          "2016-10-17T00:00:00.000000000",
          "2016-10-18T00:00:00.000000000",
          "2016-10-19T00:00:00.000000000",
          "2016-10-20T00:00:00.000000000",
          "2016-10-21T00:00:00.000000000",
          "2016-10-24T00:00:00.000000000",
          "2016-10-25T00:00:00.000000000",
          "2016-10-26T00:00:00.000000000",
          "2016-10-27T00:00:00.000000000",
          "2016-10-28T00:00:00.000000000",
          "2016-10-31T00:00:00.000000000",
          "2016-11-01T00:00:00.000000000",
          "2016-11-02T00:00:00.000000000",
          "2016-11-03T00:00:00.000000000",
          "2016-11-04T00:00:00.000000000",
          "2016-11-07T00:00:00.000000000",
          "2016-11-08T00:00:00.000000000",
          "2016-11-09T00:00:00.000000000",
          "2016-11-10T00:00:00.000000000",
          "2016-11-11T00:00:00.000000000",
          "2016-11-14T00:00:00.000000000",
          "2016-11-15T00:00:00.000000000",
          "2016-11-16T00:00:00.000000000",
          "2016-11-17T00:00:00.000000000",
          "2016-11-18T00:00:00.000000000",
          "2016-11-21T00:00:00.000000000",
          "2016-11-22T00:00:00.000000000",
          "2016-11-23T00:00:00.000000000",
          "2016-11-25T00:00:00.000000000",
          "2016-11-28T00:00:00.000000000",
          "2016-11-29T00:00:00.000000000",
          "2016-11-30T00:00:00.000000000",
          "2016-12-01T00:00:00.000000000",
          "2016-12-02T00:00:00.000000000",
          "2016-12-05T00:00:00.000000000",
          "2016-12-06T00:00:00.000000000",
          "2016-12-07T00:00:00.000000000",
          "2016-12-08T00:00:00.000000000",
          "2016-12-09T00:00:00.000000000",
          "2016-12-12T00:00:00.000000000",
          "2016-12-13T00:00:00.000000000",
          "2016-12-14T00:00:00.000000000",
          "2016-12-15T00:00:00.000000000",
          "2016-12-16T00:00:00.000000000",
          "2016-12-19T00:00:00.000000000",
          "2016-12-20T00:00:00.000000000",
          "2016-12-21T00:00:00.000000000",
          "2016-12-22T00:00:00.000000000",
          "2016-12-23T00:00:00.000000000",
          "2016-12-27T00:00:00.000000000",
          "2016-12-28T00:00:00.000000000",
          "2016-12-29T00:00:00.000000000",
          "2016-12-30T00:00:00.000000000",
          "2017-01-03T00:00:00.000000000",
          "2017-01-04T00:00:00.000000000",
          "2017-01-05T00:00:00.000000000",
          "2017-01-06T00:00:00.000000000",
          "2017-01-09T00:00:00.000000000",
          "2017-01-10T00:00:00.000000000",
          "2017-01-11T00:00:00.000000000",
          "2017-01-12T00:00:00.000000000",
          "2017-01-13T00:00:00.000000000",
          "2017-01-17T00:00:00.000000000",
          "2017-01-18T00:00:00.000000000",
          "2017-01-19T00:00:00.000000000",
          "2017-01-20T00:00:00.000000000",
          "2017-01-23T00:00:00.000000000",
          "2017-01-24T00:00:00.000000000",
          "2017-01-25T00:00:00.000000000",
          "2017-01-26T00:00:00.000000000",
          "2017-01-27T00:00:00.000000000",
          "2017-01-30T00:00:00.000000000",
          "2017-01-31T00:00:00.000000000",
          "2017-02-01T00:00:00.000000000",
          "2017-02-02T00:00:00.000000000",
          "2017-02-03T00:00:00.000000000",
          "2017-02-06T00:00:00.000000000",
          "2017-02-07T00:00:00.000000000",
          "2017-02-08T00:00:00.000000000",
          "2017-02-09T00:00:00.000000000",
          "2017-02-10T00:00:00.000000000",
          "2017-02-13T00:00:00.000000000",
          "2017-02-14T00:00:00.000000000",
          "2017-02-15T00:00:00.000000000",
          "2017-02-16T00:00:00.000000000",
          "2017-02-17T00:00:00.000000000",
          "2017-02-21T00:00:00.000000000",
          "2017-02-22T00:00:00.000000000",
          "2017-02-23T00:00:00.000000000",
          "2017-02-24T00:00:00.000000000",
          "2017-02-27T00:00:00.000000000",
          "2017-02-28T00:00:00.000000000",
          "2017-03-01T00:00:00.000000000",
          "2017-03-02T00:00:00.000000000",
          "2017-03-03T00:00:00.000000000",
          "2017-03-06T00:00:00.000000000",
          "2017-03-07T00:00:00.000000000",
          "2017-03-08T00:00:00.000000000",
          "2017-03-09T00:00:00.000000000",
          "2017-03-10T00:00:00.000000000",
          "2017-03-13T00:00:00.000000000",
          "2017-03-14T00:00:00.000000000",
          "2017-03-15T00:00:00.000000000",
          "2017-03-16T00:00:00.000000000",
          "2017-03-17T00:00:00.000000000",
          "2017-03-20T00:00:00.000000000",
          "2017-03-21T00:00:00.000000000",
          "2017-03-22T00:00:00.000000000",
          "2017-03-23T00:00:00.000000000",
          "2017-03-24T00:00:00.000000000",
          "2017-03-27T00:00:00.000000000",
          "2017-03-28T00:00:00.000000000",
          "2017-03-29T00:00:00.000000000",
          "2017-03-30T00:00:00.000000000",
          "2017-03-31T00:00:00.000000000",
          "2017-04-03T00:00:00.000000000",
          "2017-04-04T00:00:00.000000000",
          "2017-04-05T00:00:00.000000000",
          "2017-04-06T00:00:00.000000000",
          "2017-04-07T00:00:00.000000000",
          "2017-04-10T00:00:00.000000000",
          "2017-04-11T00:00:00.000000000",
          "2017-04-12T00:00:00.000000000",
          "2017-04-13T00:00:00.000000000",
          "2017-04-17T00:00:00.000000000",
          "2017-04-18T00:00:00.000000000",
          "2017-04-19T00:00:00.000000000",
          "2017-04-20T00:00:00.000000000",
          "2017-04-21T00:00:00.000000000",
          "2017-04-24T00:00:00.000000000",
          "2017-04-25T00:00:00.000000000",
          "2017-04-26T00:00:00.000000000",
          "2017-04-27T00:00:00.000000000",
          "2017-04-28T00:00:00.000000000",
          "2017-05-01T00:00:00.000000000",
          "2017-05-02T00:00:00.000000000",
          "2017-05-03T00:00:00.000000000",
          "2017-05-04T00:00:00.000000000",
          "2017-05-05T00:00:00.000000000",
          "2017-05-08T00:00:00.000000000",
          "2017-05-09T00:00:00.000000000",
          "2017-05-10T00:00:00.000000000",
          "2017-05-11T00:00:00.000000000",
          "2017-05-12T00:00:00.000000000",
          "2017-05-15T00:00:00.000000000",
          "2017-05-16T00:00:00.000000000",
          "2017-05-17T00:00:00.000000000",
          "2017-05-18T00:00:00.000000000",
          "2017-05-19T00:00:00.000000000",
          "2017-05-22T00:00:00.000000000",
          "2017-05-23T00:00:00.000000000",
          "2017-05-24T00:00:00.000000000",
          "2017-05-25T00:00:00.000000000",
          "2017-05-26T00:00:00.000000000",
          "2017-05-30T00:00:00.000000000",
          "2017-05-31T00:00:00.000000000",
          "2017-06-01T00:00:00.000000000",
          "2017-06-02T00:00:00.000000000",
          "2017-06-05T00:00:00.000000000",
          "2017-06-06T00:00:00.000000000",
          "2017-06-07T00:00:00.000000000",
          "2017-06-08T00:00:00.000000000",
          "2017-06-09T00:00:00.000000000",
          "2017-06-12T00:00:00.000000000",
          "2017-06-13T00:00:00.000000000",
          "2017-06-14T00:00:00.000000000",
          "2017-06-15T00:00:00.000000000",
          "2017-06-16T00:00:00.000000000",
          "2017-06-19T00:00:00.000000000",
          "2017-06-20T00:00:00.000000000",
          "2017-06-21T00:00:00.000000000",
          "2017-06-22T00:00:00.000000000",
          "2017-06-23T00:00:00.000000000",
          "2017-06-26T00:00:00.000000000",
          "2017-06-27T00:00:00.000000000",
          "2017-06-28T00:00:00.000000000",
          "2017-06-29T00:00:00.000000000",
          "2017-06-30T00:00:00.000000000",
          "2017-07-03T00:00:00.000000000",
          "2017-07-05T00:00:00.000000000",
          "2017-07-06T00:00:00.000000000",
          "2017-07-07T00:00:00.000000000",
          "2017-07-10T00:00:00.000000000",
          "2017-07-11T00:00:00.000000000",
          "2017-07-12T00:00:00.000000000",
          "2017-07-13T00:00:00.000000000",
          "2017-07-14T00:00:00.000000000",
          "2017-07-17T00:00:00.000000000",
          "2017-07-18T00:00:00.000000000",
          "2017-07-19T00:00:00.000000000",
          "2017-07-20T00:00:00.000000000",
          "2017-07-21T00:00:00.000000000",
          "2017-07-24T00:00:00.000000000",
          "2017-07-25T00:00:00.000000000",
          "2017-07-26T00:00:00.000000000",
          "2017-07-27T00:00:00.000000000",
          "2017-07-28T00:00:00.000000000",
          "2017-07-31T00:00:00.000000000",
          "2017-08-01T00:00:00.000000000",
          "2017-08-02T00:00:00.000000000",
          "2017-08-03T00:00:00.000000000",
          "2017-08-04T00:00:00.000000000",
          "2017-08-07T00:00:00.000000000",
          "2017-08-08T00:00:00.000000000",
          "2017-08-09T00:00:00.000000000",
          "2017-08-10T00:00:00.000000000",
          "2017-08-11T00:00:00.000000000",
          "2017-08-14T00:00:00.000000000",
          "2017-08-15T00:00:00.000000000",
          "2017-08-16T00:00:00.000000000",
          "2017-08-17T00:00:00.000000000",
          "2017-08-18T00:00:00.000000000",
          "2017-08-21T00:00:00.000000000",
          "2017-08-22T00:00:00.000000000",
          "2017-08-23T00:00:00.000000000",
          "2017-08-24T00:00:00.000000000",
          "2017-08-25T00:00:00.000000000",
          "2017-08-28T00:00:00.000000000",
          "2017-08-29T00:00:00.000000000",
          "2017-08-30T00:00:00.000000000",
          "2017-08-31T00:00:00.000000000",
          "2017-09-01T00:00:00.000000000",
          "2017-09-05T00:00:00.000000000",
          "2017-09-06T00:00:00.000000000",
          "2017-09-07T00:00:00.000000000",
          "2017-09-08T00:00:00.000000000",
          "2017-09-11T00:00:00.000000000",
          "2017-09-12T00:00:00.000000000",
          "2017-09-13T00:00:00.000000000",
          "2017-09-14T00:00:00.000000000",
          "2017-09-15T00:00:00.000000000",
          "2017-09-18T00:00:00.000000000",
          "2017-09-19T00:00:00.000000000",
          "2017-09-20T00:00:00.000000000",
          "2017-09-21T00:00:00.000000000",
          "2017-09-22T00:00:00.000000000",
          "2017-09-25T00:00:00.000000000",
          "2017-09-26T00:00:00.000000000",
          "2017-09-27T00:00:00.000000000",
          "2017-09-28T00:00:00.000000000",
          "2017-09-29T00:00:00.000000000",
          "2017-10-02T00:00:00.000000000",
          "2017-10-03T00:00:00.000000000",
          "2017-10-04T00:00:00.000000000",
          "2017-10-05T00:00:00.000000000",
          "2017-10-06T00:00:00.000000000",
          "2017-10-09T00:00:00.000000000",
          "2017-10-10T00:00:00.000000000",
          "2017-10-11T00:00:00.000000000",
          "2017-10-12T00:00:00.000000000",
          "2017-10-13T00:00:00.000000000",
          "2017-10-16T00:00:00.000000000",
          "2017-10-17T00:00:00.000000000",
          "2017-10-18T00:00:00.000000000",
          "2017-10-19T00:00:00.000000000",
          "2017-10-20T00:00:00.000000000",
          "2017-10-23T00:00:00.000000000",
          "2017-10-24T00:00:00.000000000",
          "2017-10-25T00:00:00.000000000",
          "2017-10-26T00:00:00.000000000",
          "2017-10-27T00:00:00.000000000",
          "2017-10-30T00:00:00.000000000",
          "2017-10-31T00:00:00.000000000",
          "2017-11-01T00:00:00.000000000",
          "2017-11-02T00:00:00.000000000",
          "2017-11-03T00:00:00.000000000",
          "2017-11-06T00:00:00.000000000",
          "2017-11-07T00:00:00.000000000",
          "2017-11-08T00:00:00.000000000",
          "2017-11-09T00:00:00.000000000",
          "2017-11-10T00:00:00.000000000",
          "2017-11-13T00:00:00.000000000",
          "2017-11-14T00:00:00.000000000",
          "2017-11-15T00:00:00.000000000",
          "2017-11-16T00:00:00.000000000",
          "2017-11-17T00:00:00.000000000",
          "2017-11-20T00:00:00.000000000",
          "2017-11-21T00:00:00.000000000",
          "2017-11-22T00:00:00.000000000",
          "2017-11-24T00:00:00.000000000",
          "2017-11-27T00:00:00.000000000",
          "2017-11-28T00:00:00.000000000",
          "2017-11-29T00:00:00.000000000",
          "2017-11-30T00:00:00.000000000",
          "2017-12-01T00:00:00.000000000",
          "2017-12-04T00:00:00.000000000",
          "2017-12-05T00:00:00.000000000",
          "2017-12-06T00:00:00.000000000",
          "2017-12-07T00:00:00.000000000",
          "2017-12-08T00:00:00.000000000",
          "2017-12-11T00:00:00.000000000",
          "2017-12-12T00:00:00.000000000",
          "2017-12-13T00:00:00.000000000",
          "2017-12-14T00:00:00.000000000",
          "2017-12-15T00:00:00.000000000",
          "2017-12-18T00:00:00.000000000",
          "2017-12-19T00:00:00.000000000",
          "2017-12-20T00:00:00.000000000",
          "2017-12-21T00:00:00.000000000",
          "2017-12-22T00:00:00.000000000",
          "2017-12-26T00:00:00.000000000",
          "2017-12-27T00:00:00.000000000",
          "2017-12-28T00:00:00.000000000",
          "2017-12-29T00:00:00.000000000",
          "2018-01-02T00:00:00.000000000",
          "2018-01-03T00:00:00.000000000",
          "2018-01-04T00:00:00.000000000",
          "2018-01-05T00:00:00.000000000",
          "2018-01-08T00:00:00.000000000",
          "2018-01-09T00:00:00.000000000",
          "2018-01-10T00:00:00.000000000",
          "2018-01-11T00:00:00.000000000",
          "2018-01-12T00:00:00.000000000",
          "2018-01-16T00:00:00.000000000",
          "2018-01-17T00:00:00.000000000",
          "2018-01-18T00:00:00.000000000",
          "2018-01-19T00:00:00.000000000",
          "2018-01-22T00:00:00.000000000",
          "2018-01-23T00:00:00.000000000",
          "2018-01-24T00:00:00.000000000",
          "2018-01-25T00:00:00.000000000",
          "2018-01-26T00:00:00.000000000",
          "2018-01-29T00:00:00.000000000",
          "2018-01-30T00:00:00.000000000",
          "2018-01-31T00:00:00.000000000",
          "2018-02-01T00:00:00.000000000",
          "2018-02-02T00:00:00.000000000",
          "2018-02-05T00:00:00.000000000",
          "2018-02-06T00:00:00.000000000",
          "2018-02-07T00:00:00.000000000",
          "2018-02-08T00:00:00.000000000",
          "2018-02-09T00:00:00.000000000",
          "2018-02-12T00:00:00.000000000",
          "2018-02-13T00:00:00.000000000",
          "2018-02-14T00:00:00.000000000",
          "2018-02-15T00:00:00.000000000",
          "2018-02-16T00:00:00.000000000",
          "2018-02-20T00:00:00.000000000",
          "2018-02-21T00:00:00.000000000",
          "2018-02-22T00:00:00.000000000",
          "2018-02-23T00:00:00.000000000",
          "2018-02-26T00:00:00.000000000",
          "2018-02-27T00:00:00.000000000",
          "2018-02-28T00:00:00.000000000",
          "2018-03-01T00:00:00.000000000",
          "2018-03-02T00:00:00.000000000",
          "2018-03-05T00:00:00.000000000",
          "2018-03-06T00:00:00.000000000",
          "2018-03-07T00:00:00.000000000",
          "2018-03-08T00:00:00.000000000",
          "2018-03-09T00:00:00.000000000",
          "2018-03-12T00:00:00.000000000",
          "2018-03-13T00:00:00.000000000",
          "2018-03-14T00:00:00.000000000",
          "2018-03-15T00:00:00.000000000",
          "2018-03-16T00:00:00.000000000",
          "2018-03-19T00:00:00.000000000",
          "2018-03-20T00:00:00.000000000",
          "2018-03-21T00:00:00.000000000",
          "2018-03-22T00:00:00.000000000",
          "2018-03-23T00:00:00.000000000",
          "2018-03-26T00:00:00.000000000",
          "2018-03-27T00:00:00.000000000",
          "2018-03-28T00:00:00.000000000",
          "2018-03-29T00:00:00.000000000",
          "2018-04-02T00:00:00.000000000",
          "2018-04-03T00:00:00.000000000",
          "2018-04-04T00:00:00.000000000",
          "2018-04-05T00:00:00.000000000",
          "2018-04-06T00:00:00.000000000",
          "2018-04-09T00:00:00.000000000",
          "2018-04-10T00:00:00.000000000",
          "2018-04-11T00:00:00.000000000",
          "2018-04-12T00:00:00.000000000",
          "2018-04-13T00:00:00.000000000",
          "2018-04-16T00:00:00.000000000",
          "2018-04-17T00:00:00.000000000",
          "2018-04-18T00:00:00.000000000",
          "2018-04-19T00:00:00.000000000",
          "2018-04-20T00:00:00.000000000",
          "2018-04-23T00:00:00.000000000",
          "2018-04-24T00:00:00.000000000",
          "2018-04-25T00:00:00.000000000",
          "2018-04-26T00:00:00.000000000",
          "2018-04-27T00:00:00.000000000",
          "2018-04-30T00:00:00.000000000",
          "2018-05-01T00:00:00.000000000",
          "2018-05-02T00:00:00.000000000",
          "2018-05-03T00:00:00.000000000",
          "2018-05-04T00:00:00.000000000",
          "2018-05-07T00:00:00.000000000",
          "2018-05-08T00:00:00.000000000",
          "2018-05-09T00:00:00.000000000",
          "2018-05-10T00:00:00.000000000",
          "2018-05-11T00:00:00.000000000",
          "2018-05-14T00:00:00.000000000",
          "2018-05-15T00:00:00.000000000",
          "2018-05-16T00:00:00.000000000",
          "2018-05-17T00:00:00.000000000",
          "2018-05-18T00:00:00.000000000",
          "2018-05-21T00:00:00.000000000",
          "2018-05-22T00:00:00.000000000",
          "2018-05-23T00:00:00.000000000",
          "2018-05-24T00:00:00.000000000",
          "2018-05-25T00:00:00.000000000",
          "2018-05-29T00:00:00.000000000",
          "2018-05-30T00:00:00.000000000",
          "2018-05-31T00:00:00.000000000",
          "2018-06-01T00:00:00.000000000",
          "2018-06-04T00:00:00.000000000",
          "2018-06-05T00:00:00.000000000",
          "2018-06-06T00:00:00.000000000",
          "2018-06-07T00:00:00.000000000",
          "2018-06-08T00:00:00.000000000",
          "2018-06-11T00:00:00.000000000",
          "2018-06-12T00:00:00.000000000",
          "2018-06-13T00:00:00.000000000",
          "2018-06-14T00:00:00.000000000",
          "2018-06-15T00:00:00.000000000",
          "2018-06-18T00:00:00.000000000",
          "2018-06-19T00:00:00.000000000",
          "2018-06-20T00:00:00.000000000",
          "2018-06-21T00:00:00.000000000",
          "2018-06-22T00:00:00.000000000",
          "2018-06-25T00:00:00.000000000",
          "2018-06-26T00:00:00.000000000",
          "2018-06-27T00:00:00.000000000",
          "2018-06-28T00:00:00.000000000",
          "2018-06-29T00:00:00.000000000",
          "2018-07-02T00:00:00.000000000",
          "2018-07-03T00:00:00.000000000",
          "2018-07-05T00:00:00.000000000",
          "2018-07-06T00:00:00.000000000",
          "2018-07-09T00:00:00.000000000",
          "2018-07-10T00:00:00.000000000",
          "2018-07-11T00:00:00.000000000",
          "2018-07-12T00:00:00.000000000",
          "2018-07-13T00:00:00.000000000",
          "2018-07-16T00:00:00.000000000",
          "2018-07-17T00:00:00.000000000",
          "2018-07-18T00:00:00.000000000",
          "2018-07-19T00:00:00.000000000",
          "2018-07-20T00:00:00.000000000",
          "2018-07-23T00:00:00.000000000",
          "2018-07-24T00:00:00.000000000",
          "2018-07-25T00:00:00.000000000",
          "2018-07-26T00:00:00.000000000",
          "2018-07-27T00:00:00.000000000",
          "2018-07-30T00:00:00.000000000",
          "2018-07-31T00:00:00.000000000",
          "2018-08-01T00:00:00.000000000",
          "2018-08-02T00:00:00.000000000",
          "2018-08-03T00:00:00.000000000",
          "2018-08-06T00:00:00.000000000",
          "2018-08-07T00:00:00.000000000",
          "2018-08-08T00:00:00.000000000",
          "2018-08-09T00:00:00.000000000",
          "2018-08-10T00:00:00.000000000",
          "2018-08-13T00:00:00.000000000",
          "2018-08-14T00:00:00.000000000",
          "2018-08-15T00:00:00.000000000",
          "2018-08-16T00:00:00.000000000",
          "2018-08-17T00:00:00.000000000",
          "2018-08-20T00:00:00.000000000",
          "2018-08-21T00:00:00.000000000",
          "2018-08-22T00:00:00.000000000",
          "2018-08-23T00:00:00.000000000",
          "2018-08-24T00:00:00.000000000",
          "2018-08-27T00:00:00.000000000",
          "2018-08-28T00:00:00.000000000",
          "2018-08-29T00:00:00.000000000",
          "2018-08-30T00:00:00.000000000",
          "2018-08-31T00:00:00.000000000",
          "2018-09-04T00:00:00.000000000",
          "2018-09-05T00:00:00.000000000",
          "2018-09-06T00:00:00.000000000",
          "2018-09-07T00:00:00.000000000",
          "2018-09-10T00:00:00.000000000",
          "2018-09-11T00:00:00.000000000",
          "2018-09-12T00:00:00.000000000",
          "2018-09-13T00:00:00.000000000",
          "2018-09-14T00:00:00.000000000",
          "2018-09-17T00:00:00.000000000",
          "2018-09-18T00:00:00.000000000",
          "2018-09-19T00:00:00.000000000",
          "2018-09-20T00:00:00.000000000",
          "2018-09-21T00:00:00.000000000",
          "2018-09-24T00:00:00.000000000",
          "2018-09-25T00:00:00.000000000",
          "2018-09-26T00:00:00.000000000",
          "2018-09-27T00:00:00.000000000",
          "2018-09-28T00:00:00.000000000",
          "2018-10-01T00:00:00.000000000",
          "2018-10-02T00:00:00.000000000",
          "2018-10-03T00:00:00.000000000",
          "2018-10-04T00:00:00.000000000",
          "2018-10-05T00:00:00.000000000",
          "2018-10-08T00:00:00.000000000",
          "2018-10-09T00:00:00.000000000",
          "2018-10-10T00:00:00.000000000",
          "2018-10-11T00:00:00.000000000",
          "2018-10-12T00:00:00.000000000",
          "2018-10-15T00:00:00.000000000",
          "2018-10-16T00:00:00.000000000",
          "2018-10-17T00:00:00.000000000",
          "2018-10-18T00:00:00.000000000",
          "2018-10-19T00:00:00.000000000",
          "2018-10-22T00:00:00.000000000",
          "2018-10-23T00:00:00.000000000",
          "2018-10-24T00:00:00.000000000",
          "2018-10-25T00:00:00.000000000",
          "2018-10-26T00:00:00.000000000",
          "2018-10-29T00:00:00.000000000",
          "2018-10-30T00:00:00.000000000",
          "2018-10-31T00:00:00.000000000",
          "2018-11-01T00:00:00.000000000",
          "2018-11-02T00:00:00.000000000",
          "2018-11-05T00:00:00.000000000",
          "2018-11-06T00:00:00.000000000",
          "2018-11-07T00:00:00.000000000",
          "2018-11-08T00:00:00.000000000",
          "2018-11-09T00:00:00.000000000",
          "2018-11-12T00:00:00.000000000",
          "2018-11-13T00:00:00.000000000",
          "2018-11-14T00:00:00.000000000",
          "2018-11-15T00:00:00.000000000",
          "2018-11-16T00:00:00.000000000",
          "2018-11-19T00:00:00.000000000",
          "2018-11-20T00:00:00.000000000",
          "2018-11-21T00:00:00.000000000",
          "2018-11-23T00:00:00.000000000",
          "2018-11-26T00:00:00.000000000",
          "2018-11-27T00:00:00.000000000",
          "2018-11-28T00:00:00.000000000",
          "2018-11-29T00:00:00.000000000",
          "2018-11-30T00:00:00.000000000",
          "2018-12-03T00:00:00.000000000",
          "2018-12-04T00:00:00.000000000",
          "2018-12-06T00:00:00.000000000",
          "2018-12-07T00:00:00.000000000",
          "2018-12-10T00:00:00.000000000",
          "2018-12-11T00:00:00.000000000",
          "2018-12-12T00:00:00.000000000",
          "2018-12-13T00:00:00.000000000",
          "2018-12-14T00:00:00.000000000",
          "2018-12-17T00:00:00.000000000",
          "2018-12-18T00:00:00.000000000",
          "2018-12-19T00:00:00.000000000",
          "2018-12-20T00:00:00.000000000",
          "2018-12-21T00:00:00.000000000",
          "2018-12-24T00:00:00.000000000",
          "2018-12-26T00:00:00.000000000",
          "2018-12-27T00:00:00.000000000",
          "2018-12-28T00:00:00.000000000",
          "2018-12-31T00:00:00.000000000",
          "2019-01-02T00:00:00.000000000",
          "2019-01-03T00:00:00.000000000",
          "2019-01-04T00:00:00.000000000",
          "2019-01-07T00:00:00.000000000",
          "2019-01-08T00:00:00.000000000",
          "2019-01-09T00:00:00.000000000",
          "2019-01-10T00:00:00.000000000",
          "2019-01-11T00:00:00.000000000",
          "2019-01-14T00:00:00.000000000",
          "2019-01-15T00:00:00.000000000",
          "2019-01-16T00:00:00.000000000",
          "2019-01-17T00:00:00.000000000",
          "2019-01-18T00:00:00.000000000",
          "2019-01-22T00:00:00.000000000",
          "2019-01-23T00:00:00.000000000",
          "2019-01-24T00:00:00.000000000",
          "2019-01-25T00:00:00.000000000",
          "2019-01-28T00:00:00.000000000",
          "2019-01-29T00:00:00.000000000",
          "2019-01-30T00:00:00.000000000",
          "2019-01-31T00:00:00.000000000",
          "2019-02-01T00:00:00.000000000",
          "2019-02-04T00:00:00.000000000",
          "2019-02-05T00:00:00.000000000",
          "2019-02-06T00:00:00.000000000",
          "2019-02-07T00:00:00.000000000",
          "2019-02-08T00:00:00.000000000",
          "2019-02-11T00:00:00.000000000",
          "2019-02-12T00:00:00.000000000",
          "2019-02-13T00:00:00.000000000",
          "2019-02-14T00:00:00.000000000",
          "2019-02-15T00:00:00.000000000",
          "2019-02-19T00:00:00.000000000",
          "2019-02-20T00:00:00.000000000",
          "2019-02-21T00:00:00.000000000",
          "2019-02-22T00:00:00.000000000",
          "2019-02-25T00:00:00.000000000",
          "2019-02-26T00:00:00.000000000",
          "2019-02-27T00:00:00.000000000",
          "2019-02-28T00:00:00.000000000",
          "2019-03-01T00:00:00.000000000",
          "2019-03-04T00:00:00.000000000",
          "2019-03-05T00:00:00.000000000",
          "2019-03-06T00:00:00.000000000",
          "2019-03-07T00:00:00.000000000",
          "2019-03-08T00:00:00.000000000",
          "2019-03-11T00:00:00.000000000",
          "2019-03-12T00:00:00.000000000",
          "2019-03-13T00:00:00.000000000",
          "2019-03-14T00:00:00.000000000",
          "2019-03-15T00:00:00.000000000",
          "2019-03-18T00:00:00.000000000",
          "2019-03-19T00:00:00.000000000",
          "2019-03-20T00:00:00.000000000",
          "2019-03-21T00:00:00.000000000",
          "2019-03-22T00:00:00.000000000",
          "2019-03-25T00:00:00.000000000",
          "2019-03-26T00:00:00.000000000",
          "2019-03-27T00:00:00.000000000",
          "2019-03-28T00:00:00.000000000",
          "2019-03-29T00:00:00.000000000",
          "2019-04-01T00:00:00.000000000",
          "2019-04-02T00:00:00.000000000",
          "2019-04-03T00:00:00.000000000",
          "2019-04-04T00:00:00.000000000",
          "2019-04-05T00:00:00.000000000",
          "2019-04-08T00:00:00.000000000",
          "2019-04-09T00:00:00.000000000",
          "2019-04-10T00:00:00.000000000",
          "2019-04-11T00:00:00.000000000",
          "2019-04-12T00:00:00.000000000",
          "2019-04-15T00:00:00.000000000",
          "2019-04-16T00:00:00.000000000",
          "2019-04-17T00:00:00.000000000",
          "2019-04-18T00:00:00.000000000",
          "2019-04-22T00:00:00.000000000",
          "2019-04-23T00:00:00.000000000",
          "2019-04-24T00:00:00.000000000",
          "2019-04-25T00:00:00.000000000",
          "2019-04-26T00:00:00.000000000",
          "2019-04-29T00:00:00.000000000",
          "2019-04-30T00:00:00.000000000",
          "2019-05-01T00:00:00.000000000",
          "2019-05-02T00:00:00.000000000",
          "2019-05-03T00:00:00.000000000",
          "2019-05-06T00:00:00.000000000",
          "2019-05-07T00:00:00.000000000",
          "2019-05-08T00:00:00.000000000",
          "2019-05-09T00:00:00.000000000",
          "2019-05-10T00:00:00.000000000",
          "2019-05-13T00:00:00.000000000",
          "2019-05-14T00:00:00.000000000",
          "2019-05-15T00:00:00.000000000",
          "2019-05-16T00:00:00.000000000",
          "2019-05-17T00:00:00.000000000",
          "2019-05-20T00:00:00.000000000",
          "2019-05-21T00:00:00.000000000",
          "2019-05-22T00:00:00.000000000",
          "2019-05-23T00:00:00.000000000",
          "2019-05-24T00:00:00.000000000",
          "2019-05-28T00:00:00.000000000",
          "2019-05-29T00:00:00.000000000",
          "2019-05-30T00:00:00.000000000",
          "2019-05-31T00:00:00.000000000",
          "2019-06-03T00:00:00.000000000",
          "2019-06-04T00:00:00.000000000",
          "2019-06-05T00:00:00.000000000",
          "2019-06-06T00:00:00.000000000",
          "2019-06-07T00:00:00.000000000",
          "2019-06-10T00:00:00.000000000",
          "2019-06-11T00:00:00.000000000",
          "2019-06-12T00:00:00.000000000",
          "2019-06-13T00:00:00.000000000",
          "2019-06-14T00:00:00.000000000",
          "2019-06-17T00:00:00.000000000",
          "2019-06-18T00:00:00.000000000",
          "2019-06-19T00:00:00.000000000",
          "2019-06-20T00:00:00.000000000",
          "2019-06-21T00:00:00.000000000",
          "2019-06-24T00:00:00.000000000",
          "2019-06-25T00:00:00.000000000",
          "2019-06-26T00:00:00.000000000",
          "2019-06-27T00:00:00.000000000",
          "2019-06-28T00:00:00.000000000",
          "2019-07-01T00:00:00.000000000",
          "2019-07-02T00:00:00.000000000",
          "2019-07-03T00:00:00.000000000",
          "2019-07-05T00:00:00.000000000",
          "2019-07-08T00:00:00.000000000",
          "2019-07-09T00:00:00.000000000",
          "2019-07-10T00:00:00.000000000",
          "2019-07-11T00:00:00.000000000",
          "2019-07-12T00:00:00.000000000",
          "2019-07-15T00:00:00.000000000",
          "2019-07-16T00:00:00.000000000",
          "2019-07-17T00:00:00.000000000",
          "2019-07-18T00:00:00.000000000",
          "2019-07-19T00:00:00.000000000",
          "2019-07-22T00:00:00.000000000",
          "2019-07-23T00:00:00.000000000",
          "2019-07-24T00:00:00.000000000",
          "2019-07-25T00:00:00.000000000",
          "2019-07-26T00:00:00.000000000",
          "2019-07-29T00:00:00.000000000",
          "2019-07-30T00:00:00.000000000",
          "2019-07-31T00:00:00.000000000",
          "2019-08-01T00:00:00.000000000",
          "2019-08-02T00:00:00.000000000",
          "2019-08-05T00:00:00.000000000",
          "2019-08-06T00:00:00.000000000",
          "2019-08-07T00:00:00.000000000",
          "2019-08-08T00:00:00.000000000",
          "2019-08-09T00:00:00.000000000",
          "2019-08-12T00:00:00.000000000",
          "2019-08-13T00:00:00.000000000",
          "2019-08-14T00:00:00.000000000",
          "2019-08-15T00:00:00.000000000",
          "2019-08-16T00:00:00.000000000",
          "2019-08-19T00:00:00.000000000",
          "2019-08-20T00:00:00.000000000",
          "2019-08-21T00:00:00.000000000",
          "2019-08-22T00:00:00.000000000",
          "2019-08-23T00:00:00.000000000",
          "2019-08-26T00:00:00.000000000",
          "2019-08-27T00:00:00.000000000",
          "2019-08-28T00:00:00.000000000",
          "2019-08-29T00:00:00.000000000",
          "2019-08-30T00:00:00.000000000",
          "2019-09-03T00:00:00.000000000",
          "2019-09-04T00:00:00.000000000",
          "2019-09-05T00:00:00.000000000",
          "2019-09-06T00:00:00.000000000",
          "2019-09-09T00:00:00.000000000",
          "2019-09-10T00:00:00.000000000",
          "2019-09-11T00:00:00.000000000",
          "2019-09-12T00:00:00.000000000",
          "2019-09-13T00:00:00.000000000",
          "2019-09-16T00:00:00.000000000",
          "2019-09-17T00:00:00.000000000",
          "2019-09-18T00:00:00.000000000",
          "2019-09-19T00:00:00.000000000",
          "2019-09-20T00:00:00.000000000",
          "2019-09-23T00:00:00.000000000",
          "2019-09-24T00:00:00.000000000",
          "2019-09-25T00:00:00.000000000",
          "2019-09-26T00:00:00.000000000",
          "2019-09-27T00:00:00.000000000",
          "2019-09-30T00:00:00.000000000",
          "2019-10-01T00:00:00.000000000",
          "2019-10-02T00:00:00.000000000",
          "2019-10-03T00:00:00.000000000",
          "2019-10-04T00:00:00.000000000",
          "2019-10-07T00:00:00.000000000",
          "2019-10-08T00:00:00.000000000",
          "2019-10-09T00:00:00.000000000",
          "2019-10-10T00:00:00.000000000",
          "2019-10-11T00:00:00.000000000",
          "2019-10-14T00:00:00.000000000",
          "2019-10-15T00:00:00.000000000",
          "2019-10-16T00:00:00.000000000",
          "2019-10-17T00:00:00.000000000",
          "2019-10-18T00:00:00.000000000",
          "2019-10-21T00:00:00.000000000",
          "2019-10-22T00:00:00.000000000",
          "2019-10-23T00:00:00.000000000",
          "2019-10-24T00:00:00.000000000",
          "2019-10-25T00:00:00.000000000",
          "2019-10-28T00:00:00.000000000",
          "2019-10-29T00:00:00.000000000",
          "2019-10-30T00:00:00.000000000",
          "2019-10-31T00:00:00.000000000",
          "2019-11-01T00:00:00.000000000",
          "2019-11-04T00:00:00.000000000",
          "2019-11-05T00:00:00.000000000",
          "2019-11-06T00:00:00.000000000",
          "2019-11-07T00:00:00.000000000",
          "2019-11-08T00:00:00.000000000",
          "2019-11-11T00:00:00.000000000",
          "2019-11-12T00:00:00.000000000",
          "2019-11-13T00:00:00.000000000",
          "2019-11-14T00:00:00.000000000",
          "2019-11-15T00:00:00.000000000",
          "2019-11-18T00:00:00.000000000",
          "2019-11-19T00:00:00.000000000",
          "2019-11-20T00:00:00.000000000",
          "2019-11-21T00:00:00.000000000",
          "2019-11-22T00:00:00.000000000",
          "2019-11-25T00:00:00.000000000",
          "2019-11-26T00:00:00.000000000",
          "2019-11-27T00:00:00.000000000",
          "2019-11-29T00:00:00.000000000",
          "2019-12-02T00:00:00.000000000",
          "2019-12-03T00:00:00.000000000",
          "2019-12-04T00:00:00.000000000",
          "2019-12-05T00:00:00.000000000",
          "2019-12-06T00:00:00.000000000",
          "2019-12-09T00:00:00.000000000",
          "2019-12-10T00:00:00.000000000",
          "2019-12-11T00:00:00.000000000",
          "2019-12-12T00:00:00.000000000",
          "2019-12-13T00:00:00.000000000",
          "2019-12-16T00:00:00.000000000",
          "2019-12-17T00:00:00.000000000",
          "2019-12-18T00:00:00.000000000",
          "2019-12-19T00:00:00.000000000",
          "2019-12-20T00:00:00.000000000",
          "2019-12-23T00:00:00.000000000",
          "2019-12-24T00:00:00.000000000",
          "2019-12-26T00:00:00.000000000",
          "2019-12-27T00:00:00.000000000",
          "2019-12-30T00:00:00.000000000",
          "2019-12-31T00:00:00.000000000",
          "2020-01-02T00:00:00.000000000",
          "2020-01-03T00:00:00.000000000",
          "2020-01-06T00:00:00.000000000",
          "2020-01-07T00:00:00.000000000",
          "2020-01-08T00:00:00.000000000",
          "2020-01-09T00:00:00.000000000",
          "2020-01-10T00:00:00.000000000",
          "2020-01-13T00:00:00.000000000",
          "2020-01-14T00:00:00.000000000",
          "2020-01-15T00:00:00.000000000",
          "2020-01-16T00:00:00.000000000",
          "2020-01-17T00:00:00.000000000",
          "2020-01-21T00:00:00.000000000",
          "2020-01-22T00:00:00.000000000",
          "2020-01-23T00:00:00.000000000",
          "2020-01-24T00:00:00.000000000",
          "2020-01-27T00:00:00.000000000",
          "2020-01-28T00:00:00.000000000",
          "2020-01-29T00:00:00.000000000",
          "2020-01-30T00:00:00.000000000",
          "2020-01-31T00:00:00.000000000",
          "2020-02-03T00:00:00.000000000",
          "2020-02-04T00:00:00.000000000",
          "2020-02-05T00:00:00.000000000",
          "2020-02-06T00:00:00.000000000",
          "2020-02-07T00:00:00.000000000",
          "2020-02-10T00:00:00.000000000",
          "2020-02-11T00:00:00.000000000",
          "2020-02-12T00:00:00.000000000",
          "2020-02-13T00:00:00.000000000",
          "2020-02-14T00:00:00.000000000",
          "2020-02-18T00:00:00.000000000",
          "2020-02-19T00:00:00.000000000",
          "2020-02-20T00:00:00.000000000",
          "2020-02-21T00:00:00.000000000",
          "2020-02-24T00:00:00.000000000",
          "2020-02-25T00:00:00.000000000",
          "2020-02-26T00:00:00.000000000",
          "2020-02-27T00:00:00.000000000",
          "2020-02-28T00:00:00.000000000",
          "2020-03-02T00:00:00.000000000",
          "2020-03-03T00:00:00.000000000",
          "2020-03-04T00:00:00.000000000",
          "2020-03-05T00:00:00.000000000",
          "2020-03-06T00:00:00.000000000",
          "2020-03-09T00:00:00.000000000",
          "2020-03-10T00:00:00.000000000",
          "2020-03-11T00:00:00.000000000",
          "2020-03-12T00:00:00.000000000",
          "2020-03-13T00:00:00.000000000",
          "2020-03-16T00:00:00.000000000",
          "2020-03-17T00:00:00.000000000",
          "2020-03-18T00:00:00.000000000",
          "2020-03-19T00:00:00.000000000",
          "2020-03-20T00:00:00.000000000",
          "2020-03-23T00:00:00.000000000",
          "2020-03-24T00:00:00.000000000",
          "2020-03-25T00:00:00.000000000",
          "2020-03-26T00:00:00.000000000",
          "2020-03-27T00:00:00.000000000",
          "2020-03-30T00:00:00.000000000",
          "2020-03-31T00:00:00.000000000",
          "2020-04-01T00:00:00.000000000",
          "2020-04-02T00:00:00.000000000",
          "2020-04-03T00:00:00.000000000",
          "2020-04-06T00:00:00.000000000",
          "2020-04-07T00:00:00.000000000",
          "2020-04-08T00:00:00.000000000",
          "2020-04-09T00:00:00.000000000",
          "2020-04-13T00:00:00.000000000",
          "2020-04-14T00:00:00.000000000",
          "2020-04-15T00:00:00.000000000",
          "2020-04-16T00:00:00.000000000",
          "2020-04-17T00:00:00.000000000",
          "2020-04-20T00:00:00.000000000",
          "2020-04-21T00:00:00.000000000",
          "2020-04-22T00:00:00.000000000",
          "2020-04-23T00:00:00.000000000",
          "2020-04-24T00:00:00.000000000",
          "2020-04-27T00:00:00.000000000",
          "2020-04-28T00:00:00.000000000",
          "2020-04-29T00:00:00.000000000",
          "2020-04-30T00:00:00.000000000",
          "2020-05-01T00:00:00.000000000",
          "2020-05-04T00:00:00.000000000",
          "2020-05-05T00:00:00.000000000",
          "2020-05-06T00:00:00.000000000",
          "2020-05-07T00:00:00.000000000",
          "2020-05-08T00:00:00.000000000",
          "2020-05-11T00:00:00.000000000",
          "2020-05-12T00:00:00.000000000",
          "2020-05-13T00:00:00.000000000",
          "2020-05-14T00:00:00.000000000",
          "2020-05-15T00:00:00.000000000",
          "2020-05-18T00:00:00.000000000",
          "2020-05-19T00:00:00.000000000",
          "2020-05-20T00:00:00.000000000",
          "2020-05-21T00:00:00.000000000",
          "2020-05-22T00:00:00.000000000",
          "2020-05-26T00:00:00.000000000",
          "2020-05-27T00:00:00.000000000",
          "2020-05-28T00:00:00.000000000",
          "2020-05-29T00:00:00.000000000",
          "2020-06-01T00:00:00.000000000",
          "2020-06-02T00:00:00.000000000",
          "2020-06-03T00:00:00.000000000",
          "2020-06-04T00:00:00.000000000",
          "2020-06-05T00:00:00.000000000",
          "2020-06-08T00:00:00.000000000",
          "2020-06-09T00:00:00.000000000",
          "2020-06-10T00:00:00.000000000",
          "2020-06-11T00:00:00.000000000",
          "2020-06-12T00:00:00.000000000",
          "2020-06-15T00:00:00.000000000",
          "2020-06-16T00:00:00.000000000",
          "2020-06-17T00:00:00.000000000",
          "2020-06-18T00:00:00.000000000",
          "2020-06-19T00:00:00.000000000",
          "2020-06-22T00:00:00.000000000",
          "2020-06-23T00:00:00.000000000",
          "2020-06-24T00:00:00.000000000",
          "2020-06-25T00:00:00.000000000",
          "2020-06-26T00:00:00.000000000",
          "2020-06-29T00:00:00.000000000",
          "2020-06-30T00:00:00.000000000",
          "2020-07-01T00:00:00.000000000",
          "2020-07-02T00:00:00.000000000",
          "2020-07-06T00:00:00.000000000",
          "2020-07-07T00:00:00.000000000",
          "2020-07-08T00:00:00.000000000",
          "2020-07-09T00:00:00.000000000",
          "2020-07-10T00:00:00.000000000",
          "2020-07-13T00:00:00.000000000",
          "2020-07-14T00:00:00.000000000",
          "2020-07-15T00:00:00.000000000",
          "2020-07-16T00:00:00.000000000",
          "2020-07-17T00:00:00.000000000",
          "2020-07-20T00:00:00.000000000",
          "2020-07-21T00:00:00.000000000",
          "2020-07-22T00:00:00.000000000",
          "2020-07-23T00:00:00.000000000",
          "2020-07-24T00:00:00.000000000",
          "2020-07-27T00:00:00.000000000",
          "2020-07-28T00:00:00.000000000",
          "2020-07-29T00:00:00.000000000",
          "2020-07-30T00:00:00.000000000",
          "2020-07-31T00:00:00.000000000",
          "2020-08-03T00:00:00.000000000",
          "2020-08-04T00:00:00.000000000",
          "2020-08-05T00:00:00.000000000",
          "2020-08-06T00:00:00.000000000",
          "2020-08-07T00:00:00.000000000",
          "2020-08-10T00:00:00.000000000",
          "2020-08-11T00:00:00.000000000",
          "2020-08-12T00:00:00.000000000",
          "2020-08-13T00:00:00.000000000",
          "2020-08-14T00:00:00.000000000",
          "2020-08-17T00:00:00.000000000",
          "2020-08-18T00:00:00.000000000",
          "2020-08-19T00:00:00.000000000",
          "2020-08-20T00:00:00.000000000",
          "2020-08-21T00:00:00.000000000",
          "2020-08-24T00:00:00.000000000",
          "2020-08-25T00:00:00.000000000",
          "2020-08-26T00:00:00.000000000",
          "2020-08-27T00:00:00.000000000",
          "2020-08-28T00:00:00.000000000",
          "2020-08-31T00:00:00.000000000",
          "2020-09-01T00:00:00.000000000",
          "2020-09-02T00:00:00.000000000",
          "2020-09-03T00:00:00.000000000",
          "2020-09-04T00:00:00.000000000",
          "2020-09-08T00:00:00.000000000",
          "2020-09-09T00:00:00.000000000",
          "2020-09-10T00:00:00.000000000",
          "2020-09-11T00:00:00.000000000",
          "2020-09-14T00:00:00.000000000",
          "2020-09-15T00:00:00.000000000",
          "2020-09-16T00:00:00.000000000",
          "2020-09-17T00:00:00.000000000",
          "2020-09-18T00:00:00.000000000",
          "2020-09-21T00:00:00.000000000",
          "2020-09-22T00:00:00.000000000",
          "2020-09-23T00:00:00.000000000",
          "2020-09-24T00:00:00.000000000",
          "2020-09-25T00:00:00.000000000",
          "2020-09-28T00:00:00.000000000",
          "2020-09-29T00:00:00.000000000",
          "2020-09-30T00:00:00.000000000",
          "2020-10-01T00:00:00.000000000",
          "2020-10-02T00:00:00.000000000",
          "2020-10-05T00:00:00.000000000",
          "2020-10-06T00:00:00.000000000",
          "2020-10-07T00:00:00.000000000",
          "2020-10-08T00:00:00.000000000",
          "2020-10-09T00:00:00.000000000",
          "2020-10-12T00:00:00.000000000",
          "2020-10-13T00:00:00.000000000",
          "2020-10-14T00:00:00.000000000",
          "2020-10-15T00:00:00.000000000",
          "2020-10-16T00:00:00.000000000",
          "2020-10-19T00:00:00.000000000",
          "2020-10-20T00:00:00.000000000",
          "2020-10-21T00:00:00.000000000",
          "2020-10-22T00:00:00.000000000",
          "2020-10-23T00:00:00.000000000",
          "2020-10-26T00:00:00.000000000",
          "2020-10-27T00:00:00.000000000",
          "2020-10-28T00:00:00.000000000",
          "2020-10-29T00:00:00.000000000",
          "2020-10-30T00:00:00.000000000",
          "2020-11-02T00:00:00.000000000",
          "2020-11-03T00:00:00.000000000",
          "2020-11-04T00:00:00.000000000",
          "2020-11-05T00:00:00.000000000",
          "2020-11-06T00:00:00.000000000",
          "2020-11-09T00:00:00.000000000",
          "2020-11-10T00:00:00.000000000",
          "2020-11-11T00:00:00.000000000",
          "2020-11-12T00:00:00.000000000",
          "2020-11-13T00:00:00.000000000",
          "2020-11-16T00:00:00.000000000",
          "2020-11-17T00:00:00.000000000",
          "2020-11-18T00:00:00.000000000",
          "2020-11-19T00:00:00.000000000",
          "2020-11-20T00:00:00.000000000",
          "2020-11-23T00:00:00.000000000",
          "2020-11-24T00:00:00.000000000",
          "2020-11-25T00:00:00.000000000",
          "2020-11-27T00:00:00.000000000",
          "2020-11-30T00:00:00.000000000",
          "2020-12-01T00:00:00.000000000",
          "2020-12-02T00:00:00.000000000",
          "2020-12-03T00:00:00.000000000",
          "2020-12-04T00:00:00.000000000",
          "2020-12-07T00:00:00.000000000",
          "2020-12-08T00:00:00.000000000",
          "2020-12-09T00:00:00.000000000",
          "2020-12-10T00:00:00.000000000",
          "2020-12-11T00:00:00.000000000",
          "2020-12-14T00:00:00.000000000",
          "2020-12-15T00:00:00.000000000",
          "2020-12-16T00:00:00.000000000",
          "2020-12-17T00:00:00.000000000",
          "2020-12-18T00:00:00.000000000",
          "2020-12-21T00:00:00.000000000",
          "2020-12-22T00:00:00.000000000",
          "2020-12-23T00:00:00.000000000",
          "2020-12-24T00:00:00.000000000",
          "2020-12-28T00:00:00.000000000",
          "2020-12-29T00:00:00.000000000",
          "2020-12-30T00:00:00.000000000",
          "2020-12-31T00:00:00.000000000",
          "2021-01-04T00:00:00.000000000",
          "2021-01-05T00:00:00.000000000",
          "2021-01-06T00:00:00.000000000",
          "2021-01-07T00:00:00.000000000",
          "2021-01-08T00:00:00.000000000",
          "2021-01-11T00:00:00.000000000",
          "2021-01-12T00:00:00.000000000",
          "2021-01-13T00:00:00.000000000",
          "2021-01-14T00:00:00.000000000",
          "2021-01-15T00:00:00.000000000",
          "2021-01-19T00:00:00.000000000",
          "2021-01-20T00:00:00.000000000",
          "2021-01-21T00:00:00.000000000",
          "2021-01-22T00:00:00.000000000",
          "2021-01-25T00:00:00.000000000",
          "2021-01-26T00:00:00.000000000",
          "2021-01-27T00:00:00.000000000",
          "2021-01-28T00:00:00.000000000",
          "2021-01-29T00:00:00.000000000",
          "2021-02-01T00:00:00.000000000",
          "2021-02-02T00:00:00.000000000",
          "2021-02-03T00:00:00.000000000",
          "2021-02-04T00:00:00.000000000",
          "2021-02-05T00:00:00.000000000",
          "2021-02-08T00:00:00.000000000",
          "2021-02-09T00:00:00.000000000",
          "2021-02-10T00:00:00.000000000",
          "2021-02-11T00:00:00.000000000",
          "2021-02-12T00:00:00.000000000",
          "2021-02-16T00:00:00.000000000",
          "2021-02-17T00:00:00.000000000",
          "2021-02-18T00:00:00.000000000",
          "2021-02-19T00:00:00.000000000",
          "2021-02-22T00:00:00.000000000",
          "2021-02-23T00:00:00.000000000",
          "2021-02-24T00:00:00.000000000",
          "2021-02-25T00:00:00.000000000",
          "2021-02-26T00:00:00.000000000",
          "2021-03-01T00:00:00.000000000",
          "2021-03-02T00:00:00.000000000",
          "2021-03-03T00:00:00.000000000",
          "2021-03-04T00:00:00.000000000",
          "2021-03-05T00:00:00.000000000",
          "2021-03-08T00:00:00.000000000",
          "2021-03-09T00:00:00.000000000",
          "2021-03-10T00:00:00.000000000",
          "2021-03-11T00:00:00.000000000",
          "2021-03-12T00:00:00.000000000",
          "2021-03-15T00:00:00.000000000",
          "2021-03-16T00:00:00.000000000",
          "2021-03-17T00:00:00.000000000",
          "2021-03-18T00:00:00.000000000",
          "2021-03-19T00:00:00.000000000",
          "2021-03-22T00:00:00.000000000",
          "2021-03-23T00:00:00.000000000",
          "2021-03-24T00:00:00.000000000",
          "2021-03-25T00:00:00.000000000",
          "2021-03-26T00:00:00.000000000",
          "2021-03-29T00:00:00.000000000",
          "2021-03-30T00:00:00.000000000",
          "2021-03-31T00:00:00.000000000",
          "2021-04-01T00:00:00.000000000",
          "2021-04-05T00:00:00.000000000",
          "2021-04-06T00:00:00.000000000",
          "2021-04-07T00:00:00.000000000",
          "2021-04-08T00:00:00.000000000",
          "2021-04-09T00:00:00.000000000",
          "2021-04-12T00:00:00.000000000",
          "2021-04-13T00:00:00.000000000",
          "2021-04-14T00:00:00.000000000",
          "2021-04-15T00:00:00.000000000",
          "2021-04-16T00:00:00.000000000",
          "2021-04-19T00:00:00.000000000",
          "2021-04-20T00:00:00.000000000",
          "2021-04-21T00:00:00.000000000",
          "2021-04-22T00:00:00.000000000",
          "2021-04-23T00:00:00.000000000",
          "2021-04-26T00:00:00.000000000",
          "2021-04-27T00:00:00.000000000",
          "2021-04-28T00:00:00.000000000",
          "2021-04-29T00:00:00.000000000",
          "2021-04-30T00:00:00.000000000",
          "2021-05-03T00:00:00.000000000",
          "2021-05-04T00:00:00.000000000",
          "2021-05-05T00:00:00.000000000",
          "2021-05-06T00:00:00.000000000",
          "2021-05-07T00:00:00.000000000",
          "2021-05-10T00:00:00.000000000",
          "2021-05-11T00:00:00.000000000",
          "2021-05-12T00:00:00.000000000",
          "2021-05-13T00:00:00.000000000",
          "2021-05-14T00:00:00.000000000",
          "2021-05-17T00:00:00.000000000",
          "2021-05-18T00:00:00.000000000",
          "2021-05-19T00:00:00.000000000",
          "2021-05-20T00:00:00.000000000",
          "2021-05-21T00:00:00.000000000",
          "2021-05-24T00:00:00.000000000",
          "2021-05-25T00:00:00.000000000",
          "2021-05-26T00:00:00.000000000",
          "2021-05-27T00:00:00.000000000",
          "2021-05-28T00:00:00.000000000",
          "2021-06-01T00:00:00.000000000",
          "2021-06-02T00:00:00.000000000",
          "2021-06-03T00:00:00.000000000",
          "2021-06-04T00:00:00.000000000",
          "2021-06-07T00:00:00.000000000",
          "2021-06-08T00:00:00.000000000",
          "2021-06-09T00:00:00.000000000",
          "2021-06-10T00:00:00.000000000",
          "2021-06-11T00:00:00.000000000",
          "2021-06-14T00:00:00.000000000",
          "2021-06-15T00:00:00.000000000",
          "2021-06-16T00:00:00.000000000",
          "2021-06-17T00:00:00.000000000",
          "2021-06-18T00:00:00.000000000",
          "2021-06-21T00:00:00.000000000",
          "2021-06-22T00:00:00.000000000",
          "2021-06-23T00:00:00.000000000",
          "2021-06-24T00:00:00.000000000",
          "2021-06-25T00:00:00.000000000",
          "2021-06-28T00:00:00.000000000",
          "2021-06-29T00:00:00.000000000",
          "2021-06-30T00:00:00.000000000",
          "2021-07-01T00:00:00.000000000",
          "2021-07-02T00:00:00.000000000",
          "2021-07-06T00:00:00.000000000",
          "2021-07-07T00:00:00.000000000",
          "2021-07-08T00:00:00.000000000",
          "2021-07-09T00:00:00.000000000",
          "2021-07-12T00:00:00.000000000",
          "2021-07-13T00:00:00.000000000",
          "2021-07-14T00:00:00.000000000",
          "2021-07-15T00:00:00.000000000",
          "2021-07-16T00:00:00.000000000",
          "2021-07-19T00:00:00.000000000",
          "2021-07-20T00:00:00.000000000",
          "2021-07-21T00:00:00.000000000",
          "2021-07-22T00:00:00.000000000",
          "2021-07-23T00:00:00.000000000",
          "2021-07-26T00:00:00.000000000",
          "2021-07-27T00:00:00.000000000",
          "2021-07-28T00:00:00.000000000",
          "2021-07-29T00:00:00.000000000",
          "2021-07-30T00:00:00.000000000",
          "2021-08-02T00:00:00.000000000",
          "2021-08-03T00:00:00.000000000",
          "2021-08-04T00:00:00.000000000",
          "2021-08-05T00:00:00.000000000",
          "2021-08-06T00:00:00.000000000",
          "2021-08-09T00:00:00.000000000",
          "2021-08-10T00:00:00.000000000",
          "2021-08-11T00:00:00.000000000",
          "2021-08-12T00:00:00.000000000",
          "2021-08-13T00:00:00.000000000",
          "2021-08-16T00:00:00.000000000",
          "2021-08-17T00:00:00.000000000",
          "2021-08-18T00:00:00.000000000",
          "2021-08-19T00:00:00.000000000",
          "2021-08-20T00:00:00.000000000",
          "2021-08-23T00:00:00.000000000",
          "2021-08-24T00:00:00.000000000",
          "2021-08-25T00:00:00.000000000",
          "2021-08-26T00:00:00.000000000",
          "2021-08-27T00:00:00.000000000",
          "2021-08-30T00:00:00.000000000",
          "2021-08-31T00:00:00.000000000",
          "2021-09-01T00:00:00.000000000",
          "2021-09-02T00:00:00.000000000",
          "2021-09-03T00:00:00.000000000",
          "2021-09-07T00:00:00.000000000",
          "2021-09-08T00:00:00.000000000",
          "2021-09-09T00:00:00.000000000",
          "2021-09-10T00:00:00.000000000",
          "2021-09-13T00:00:00.000000000",
          "2021-09-14T00:00:00.000000000",
          "2021-09-15T00:00:00.000000000",
          "2021-09-16T00:00:00.000000000",
          "2021-09-17T00:00:00.000000000",
          "2021-09-20T00:00:00.000000000",
          "2021-09-21T00:00:00.000000000",
          "2021-09-22T00:00:00.000000000",
          "2021-09-23T00:00:00.000000000",
          "2021-09-24T00:00:00.000000000",
          "2021-09-27T00:00:00.000000000",
          "2021-09-28T00:00:00.000000000",
          "2021-09-29T00:00:00.000000000",
          "2021-09-30T00:00:00.000000000",
          "2021-10-01T00:00:00.000000000",
          "2021-10-04T00:00:00.000000000",
          "2021-10-05T00:00:00.000000000",
          "2021-10-06T00:00:00.000000000",
          "2021-10-07T00:00:00.000000000",
          "2021-10-08T00:00:00.000000000",
          "2021-10-11T00:00:00.000000000",
          "2021-10-12T00:00:00.000000000",
          "2021-10-13T00:00:00.000000000",
          "2021-10-14T00:00:00.000000000",
          "2021-10-15T00:00:00.000000000",
          "2021-10-18T00:00:00.000000000",
          "2021-10-19T00:00:00.000000000",
          "2021-10-20T00:00:00.000000000",
          "2021-10-21T00:00:00.000000000",
          "2021-10-22T00:00:00.000000000",
          "2021-10-25T00:00:00.000000000",
          "2021-10-26T00:00:00.000000000",
          "2021-10-27T00:00:00.000000000",
          "2021-10-28T00:00:00.000000000",
          "2021-10-29T00:00:00.000000000",
          "2021-11-01T00:00:00.000000000",
          "2021-11-02T00:00:00.000000000",
          "2021-11-03T00:00:00.000000000",
          "2021-11-04T00:00:00.000000000",
          "2021-11-05T00:00:00.000000000",
          "2021-11-08T00:00:00.000000000",
          "2021-11-09T00:00:00.000000000",
          "2021-11-10T00:00:00.000000000",
          "2021-11-11T00:00:00.000000000",
          "2021-11-12T00:00:00.000000000",
          "2021-11-15T00:00:00.000000000",
          "2021-11-16T00:00:00.000000000",
          "2021-11-17T00:00:00.000000000",
          "2021-11-18T00:00:00.000000000",
          "2021-11-19T00:00:00.000000000",
          "2021-11-22T00:00:00.000000000",
          "2021-11-23T00:00:00.000000000",
          "2021-11-24T00:00:00.000000000",
          "2021-11-26T00:00:00.000000000",
          "2021-11-29T00:00:00.000000000",
          "2021-11-30T00:00:00.000000000",
          "2021-12-01T00:00:00.000000000",
          "2021-12-02T00:00:00.000000000",
          "2021-12-03T00:00:00.000000000",
          "2021-12-06T00:00:00.000000000",
          "2021-12-07T00:00:00.000000000",
          "2021-12-08T00:00:00.000000000",
          "2021-12-09T00:00:00.000000000",
          "2021-12-10T00:00:00.000000000",
          "2021-12-13T00:00:00.000000000",
          "2021-12-14T00:00:00.000000000",
          "2021-12-15T00:00:00.000000000",
          "2021-12-16T00:00:00.000000000",
          "2021-12-17T00:00:00.000000000",
          "2021-12-20T00:00:00.000000000",
          "2021-12-21T00:00:00.000000000",
          "2021-12-22T00:00:00.000000000",
          "2021-12-23T00:00:00.000000000",
          "2021-12-27T00:00:00.000000000",
          "2021-12-28T00:00:00.000000000",
          "2021-12-29T00:00:00.000000000",
          "2021-12-30T00:00:00.000000000",
          "2021-12-31T00:00:00.000000000",
          "2022-01-03T00:00:00.000000000",
          "2022-01-04T00:00:00.000000000",
          "2022-01-05T00:00:00.000000000",
          "2022-01-06T00:00:00.000000000",
          "2022-01-07T00:00:00.000000000",
          "2022-01-10T00:00:00.000000000",
          "2022-01-11T00:00:00.000000000",
          "2022-01-12T00:00:00.000000000",
          "2022-01-13T00:00:00.000000000",
          "2022-01-14T00:00:00.000000000",
          "2022-01-18T00:00:00.000000000",
          "2022-01-19T00:00:00.000000000",
          "2022-01-20T00:00:00.000000000",
          "2022-01-21T00:00:00.000000000",
          "2022-01-24T00:00:00.000000000",
          "2022-01-25T00:00:00.000000000",
          "2022-01-26T00:00:00.000000000",
          "2022-01-27T00:00:00.000000000",
          "2022-01-28T00:00:00.000000000",
          "2022-01-31T00:00:00.000000000",
          "2022-02-01T00:00:00.000000000",
          "2022-02-02T00:00:00.000000000",
          "2022-02-03T00:00:00.000000000",
          "2022-02-04T00:00:00.000000000",
          "2022-02-07T00:00:00.000000000",
          "2022-02-08T00:00:00.000000000",
          "2022-02-09T00:00:00.000000000",
          "2022-02-10T00:00:00.000000000",
          "2022-02-11T00:00:00.000000000",
          "2022-02-14T00:00:00.000000000",
          "2022-02-15T00:00:00.000000000",
          "2022-02-16T00:00:00.000000000",
          "2022-02-17T00:00:00.000000000",
          "2022-02-18T00:00:00.000000000",
          "2022-02-22T00:00:00.000000000",
          "2022-02-23T00:00:00.000000000",
          "2022-02-24T00:00:00.000000000",
          "2022-02-25T00:00:00.000000000",
          "2022-02-28T00:00:00.000000000",
          "2022-03-01T00:00:00.000000000",
          "2022-03-02T00:00:00.000000000",
          "2022-03-03T00:00:00.000000000",
          "2022-03-04T00:00:00.000000000"
         ],
         "y": {
          "bdata": "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",
          "dtype": "f8"
         }
        },
        {
         "mode": "lines",
         "name": "test",
         "type": "scatter",
         "x": [
          "2022-03-07T00:00:00.000000000",
          "2022-03-08T00:00:00.000000000",
          "2022-03-09T00:00:00.000000000",
          "2022-03-10T00:00:00.000000000",
          "2022-03-11T00:00:00.000000000",
          "2022-03-14T00:00:00.000000000",
          "2022-03-15T00:00:00.000000000",
          "2022-03-16T00:00:00.000000000",
          "2022-03-17T00:00:00.000000000",
          "2022-03-18T00:00:00.000000000",
          "2022-03-21T00:00:00.000000000",
          "2022-03-22T00:00:00.000000000",
          "2022-03-23T00:00:00.000000000",
          "2022-03-24T00:00:00.000000000",
          "2022-03-25T00:00:00.000000000",
          "2022-03-28T00:00:00.000000000",
          "2022-03-29T00:00:00.000000000",
          "2022-03-30T00:00:00.000000000",
          "2022-03-31T00:00:00.000000000",
          "2022-04-01T00:00:00.000000000",
          "2022-04-04T00:00:00.000000000",
          "2022-04-05T00:00:00.000000000",
          "2022-04-06T00:00:00.000000000",
          "2022-04-07T00:00:00.000000000",
          "2022-04-08T00:00:00.000000000",
          "2022-04-11T00:00:00.000000000",
          "2022-04-12T00:00:00.000000000",
          "2022-04-13T00:00:00.000000000",
          "2022-04-14T00:00:00.000000000",
          "2022-04-18T00:00:00.000000000",
          "2022-04-19T00:00:00.000000000",
          "2022-04-20T00:00:00.000000000",
          "2022-04-21T00:00:00.000000000",
          "2022-04-22T00:00:00.000000000",
          "2022-04-25T00:00:00.000000000",
          "2022-04-26T00:00:00.000000000",
          "2022-04-27T00:00:00.000000000",
          "2022-04-28T00:00:00.000000000",
          "2022-04-29T00:00:00.000000000",
          "2022-05-02T00:00:00.000000000",
          "2022-05-03T00:00:00.000000000",
          "2022-05-04T00:00:00.000000000",
          "2022-05-05T00:00:00.000000000",
          "2022-05-06T00:00:00.000000000",
          "2022-05-09T00:00:00.000000000",
          "2022-05-10T00:00:00.000000000",
          "2022-05-11T00:00:00.000000000",
          "2022-05-12T00:00:00.000000000",
          "2022-05-13T00:00:00.000000000",
          "2022-05-16T00:00:00.000000000",
          "2022-05-17T00:00:00.000000000",
          "2022-05-18T00:00:00.000000000",
          "2022-05-19T00:00:00.000000000",
          "2022-05-20T00:00:00.000000000",
          "2022-05-23T00:00:00.000000000",
          "2022-05-24T00:00:00.000000000",
          "2022-05-25T00:00:00.000000000",
          "2022-05-26T00:00:00.000000000",
          "2022-05-27T00:00:00.000000000",
          "2022-05-31T00:00:00.000000000",
          "2022-06-01T00:00:00.000000000",
          "2022-06-02T00:00:00.000000000",
          "2022-06-03T00:00:00.000000000",
          "2022-06-06T00:00:00.000000000",
          "2022-06-07T00:00:00.000000000",
          "2022-06-08T00:00:00.000000000",
          "2022-06-09T00:00:00.000000000",
          "2022-06-10T00:00:00.000000000",
          "2022-06-13T00:00:00.000000000",
          "2022-06-14T00:00:00.000000000",
          "2022-06-15T00:00:00.000000000",
          "2022-06-16T00:00:00.000000000",
          "2022-06-17T00:00:00.000000000",
          "2022-06-21T00:00:00.000000000",
          "2022-06-22T00:00:00.000000000",
          "2022-06-23T00:00:00.000000000",
          "2022-06-24T00:00:00.000000000",
          "2022-06-27T00:00:00.000000000",
          "2022-06-28T00:00:00.000000000",
          "2022-06-29T00:00:00.000000000",
          "2022-06-30T00:00:00.000000000",
          "2022-07-01T00:00:00.000000000",
          "2022-07-05T00:00:00.000000000",
          "2022-07-06T00:00:00.000000000",
          "2022-07-07T00:00:00.000000000",
          "2022-07-08T00:00:00.000000000",
          "2022-07-11T00:00:00.000000000",
          "2022-07-12T00:00:00.000000000",
          "2022-07-13T00:00:00.000000000",
          "2022-07-14T00:00:00.000000000",
          "2022-07-15T00:00:00.000000000",
          "2022-07-18T00:00:00.000000000",
          "2022-07-19T00:00:00.000000000",
          "2022-07-20T00:00:00.000000000",
          "2022-07-21T00:00:00.000000000",
          "2022-07-22T00:00:00.000000000",
          "2022-07-25T00:00:00.000000000",
          "2022-07-26T00:00:00.000000000",
          "2022-07-27T00:00:00.000000000",
          "2022-07-28T00:00:00.000000000"
         ],
         "y": {
          "bdata": "AAAAwMgwYkAAAADAS7thQAAAAGC6a2JAAAAAAFQjY0AAAADgpadjQAAAACAEKGRAAAAAYLovZEAAAADAcpxkQAAAAGAObWRAAAAAwMh0ZEAAAACAwJhkQAAAACCyH2VAAAAAgBQqZUAAAADAoclkQAAAAIDrX2RAAAAAgOtxZEAAAACAFgtlQAAAAIDCgWRAAAAAIDHYY0AAAACgGrljQAAAAGC8TmNAAAAAYOfjYkAAAABAM9liQAAAAOBPcWNAAAAAoJv2YkAAAADAHhljQAAAAMAeGWNAAAAAILLDY0AAAACg7z9jQAAAAOB4iWJAAAAAQDMLYkAAAABAXkJiQAAAACCDbGFAAAAAIFhFYUAAAACAFhNiQAAAACAEEl9AAAAAAAAgX0AAAABgORBfQAAAAIBse19AAAAAQAwaXUAAAACgcLFcQAAAAAB/MltAAAAA4Pk2W0AAAADgzldaQAAAAECNu1pAAAAAIIVDXEAAAABA37NbQAAAAICV11xAAAAAQDPHWkAAAACAatRaQAAAAADT5VpAAAAA4KXjWkAAAABgZgZaQAAAAKCZsVpAAAAAwPXEW0AAAABAYMlcQAAAAIBoDV5AAAAAgGgNXkAAAACgxmteQAAAAEC0YF9AAAAAYGaWXkAAAABgjzJfQAAAAAAAwF5AAAAAIIVLXkAAAACgmQldQAAAAKCZaVtAAAAAQOHqWUAAAAAA15NZQAAAAEDh6lpAAAAAgD3qWUAAAACAFI5aQAAAACCFK1tAAAAAIIUrW0AAAADAzDxbQAAAAAApHFxAAAAAoHAdXUAAAACAFE5cQAAAAKCZ2VpAAAAAQOE6W0AAAACgcI1aQAAAAADXY1tAAAAAAABgXEAAAAAAAGBcQAAAAMAelVxAAAAAwB4VXUAAAABgj+JcQAAAAAAA8FtAAAAAgBROW0AAAACgmZlbQAAAAOBRqFtAAAAAQDNjXEAAAADgo3BcQAAAAKBwjV1AAAAAoEexXkAAAADgUShfQAAAAEDhml5AAAAAwPVIXkAAAAAA17NcQAAAAIAUPl5AAAAAgOuRXkA=",
          "dtype": "f8"
         }
        }
       ],
       "layout": {
        "template": {
         "data": {
          "bar": [
           {
            "error_x": {
             "color": "#2a3f5f"
            },
            "error_y": {
             "color": "#2a3f5f"
            },
            "marker": {
             "line": {
              "color": "#E5ECF6",
              "width": 0.5
             },
             "pattern": {
              "fillmode": "overlay",
              "size": 10,
              "solidity": 0.2
             }
            },
            "type": "bar"
           }
          ],
          "barpolar": [
           {
            "marker": {
             "line": {
              "color": "#E5ECF6",
              "width": 0.5
             },
             "pattern": {
              "fillmode": "overlay",
              "size": 10,
              "solidity": 0.2
             }
            },
            "type": "barpolar"
           }
          ],
          "carpet": [
           {
            "aaxis": {
             "endlinecolor": "#2a3f5f",
             "gridcolor": "white",
             "linecolor": "white",
             "minorgridcolor": "white",
             "startlinecolor": "#2a3f5f"
            },
            "baxis": {
             "endlinecolor": "#2a3f5f",
             "gridcolor": "white",
             "linecolor": "white",
             "minorgridcolor": "white",
             "startlinecolor": "#2a3f5f"
            },
            "type": "carpet"
           }
          ],
          "choropleth": [
           {
            "colorbar": {
             "outlinewidth": 0,
             "ticks": ""
            },
            "type": "choropleth"
           }
          ],
          "contour": [
           {
            "colorbar": {
             "outlinewidth": 0,
             "ticks": ""
            },
            "colorscale": [
             [
              0,
              "#0d0887"
             ],
             [
              0.1111111111111111,
              "#46039f"
             ],
             [
              0.2222222222222222,
              "#7201a8"
             ],
             [
              0.3333333333333333,
              "#9c179e"
             ],
             [
              0.4444444444444444,
              "#bd3786"
             ],
             [
              0.5555555555555556,
              "#d8576b"
             ],
             [
              0.6666666666666666,
              "#ed7953"
             ],
             [
              0.7777777777777778,
              "#fb9f3a"
             ],
             [
              0.8888888888888888,
              "#fdca26"
             ],
             [
              1,
              "#f0f921"
             ]
            ],
            "type": "contour"
           }
          ],
          "contourcarpet": [
           {
            "colorbar": {
             "outlinewidth": 0,
             "ticks": ""
            },
            "type": "contourcarpet"
           }
          ],
          "heatmap": [
           {
            "colorbar": {
             "outlinewidth": 0,
             "ticks": ""
            },
            "colorscale": [
             [
              0,
              "#0d0887"
             ],
             [
              0.1111111111111111,
              "#46039f"
             ],
             [
              0.2222222222222222,
              "#7201a8"
             ],
             [
              0.3333333333333333,
              "#9c179e"
             ],
             [
              0.4444444444444444,
              "#bd3786"
             ],
             [
              0.5555555555555556,
              "#d8576b"
             ],
             [
              0.6666666666666666,
              "#ed7953"
             ],
             [
              0.7777777777777778,
              "#fb9f3a"
             ],
             [
              0.8888888888888888,
              "#fdca26"
             ],
             [
              1,
              "#f0f921"
             ]
            ],
            "type": "heatmap"
           }
          ],
          "histogram": [
           {
            "marker": {
             "pattern": {
              "fillmode": "overlay",
              "size": 10,
              "solidity": 0.2
             }
            },
            "type": "histogram"
           }
          ],
          "histogram2d": [
           {
            "colorbar": {
             "outlinewidth": 0,
             "ticks": ""
            },
            "colorscale": [
             [
              0,
              "#0d0887"
             ],
             [
              0.1111111111111111,
              "#46039f"
             ],
             [
              0.2222222222222222,
              "#7201a8"
             ],
             [
              0.3333333333333333,
              "#9c179e"
             ],
             [
              0.4444444444444444,
              "#bd3786"
             ],
             [
              0.5555555555555556,
              "#d8576b"
             ],
             [
              0.6666666666666666,
              "#ed7953"
             ],
             [
              0.7777777777777778,
              "#fb9f3a"
             ],
             [
              0.8888888888888888,
              "#fdca26"
             ],
             [
              1,
              "#f0f921"
             ]
            ],
            "type": "histogram2d"
           }
          ],
          "histogram2dcontour": [
           {
            "colorbar": {
             "outlinewidth": 0,
             "ticks": ""
            },
            "colorscale": [
             [
              0,
              "#0d0887"
             ],
             [
              0.1111111111111111,
              "#46039f"
             ],
             [
              0.2222222222222222,
              "#7201a8"
             ],
             [
              0.3333333333333333,
              "#9c179e"
             ],
             [
              0.4444444444444444,
              "#bd3786"
             ],
             [
              0.5555555555555556,
              "#d8576b"
             ],
             [
              0.6666666666666666,
              "#ed7953"
             ],
             [
              0.7777777777777778,
              "#fb9f3a"
             ],
             [
              0.8888888888888888,
              "#fdca26"
             ],
             [
              1,
              "#f0f921"
             ]
            ],
            "type": "histogram2dcontour"
           }
          ],
          "mesh3d": [
           {
            "colorbar": {
             "outlinewidth": 0,
             "ticks": ""
            },
            "type": "mesh3d"
           }
          ],
          "parcoords": [
           {
            "line": {
             "colorbar": {
              "outlinewidth": 0,
              "ticks": ""
             }
            },
            "type": "parcoords"
           }
          ],
          "pie": [
           {
            "automargin": true,
            "type": "pie"
           }
          ],
          "scatter": [
           {
            "fillpattern": {
             "fillmode": "overlay",
             "size": 10,
             "solidity": 0.2
            },
            "type": "scatter"
           }
          ],
          "scatter3d": [
           {
            "line": {
             "colorbar": {
              "outlinewidth": 0,
              "ticks": ""
             }
            },
            "marker": {
             "colorbar": {
              "outlinewidth": 0,
              "ticks": ""
             }
            },
            "type": "scatter3d"
           }
          ],
          "scattercarpet": [
           {
            "marker": {
             "colorbar": {
              "outlinewidth": 0,
              "ticks": ""
             }
            },
            "type": "scattercarpet"
           }
          ],
          "scattergeo": [
           {
            "marker": {
             "colorbar": {
              "outlinewidth": 0,
              "ticks": ""
             }
            },
            "type": "scattergeo"
           }
          ],
          "scattergl": [
           {
            "marker": {
             "colorbar": {
              "outlinewidth": 0,
              "ticks": ""
             }
            },
            "type": "scattergl"
           }
          ],
          "scattermap": [
           {
            "marker": {
             "colorbar": {
              "outlinewidth": 0,
              "ticks": ""
             }
            },
            "type": "scattermap"
           }
          ],
          "scattermapbox": [
           {
            "marker": {
             "colorbar": {
              "outlinewidth": 0,
              "ticks": ""
             }
            },
            "type": "scattermapbox"
           }
          ],
          "scatterpolar": [
           {
            "marker": {
             "colorbar": {
              "outlinewidth": 0,
              "ticks": ""
             }
            },
            "type": "scatterpolar"
           }
          ],
          "scatterpolargl": [
           {
            "marker": {
             "colorbar": {
              "outlinewidth": 0,
              "ticks": ""
             }
            },
            "type": "scatterpolargl"
           }
          ],
          "scatterternary": [
           {
            "marker": {
             "colorbar": {
              "outlinewidth": 0,
              "ticks": ""
             }
            },
            "type": "scatterternary"
           }
          ],
          "surface": [
           {
            "colorbar": {
             "outlinewidth": 0,
             "ticks": ""
            },
            "colorscale": [
             [
              0,
              "#0d0887"
             ],
             [
              0.1111111111111111,
              "#46039f"
             ],
             [
              0.2222222222222222,
              "#7201a8"
             ],
             [
              0.3333333333333333,
              "#9c179e"
             ],
             [
              0.4444444444444444,
              "#bd3786"
             ],
             [
              0.5555555555555556,
              "#d8576b"
             ],
             [
              0.6666666666666666,
              "#ed7953"
             ],
             [
              0.7777777777777778,
              "#fb9f3a"
             ],
             [
              0.8888888888888888,
              "#fdca26"
             ],
             [
              1,
              "#f0f921"
             ]
            ],
            "type": "surface"
           }
          ],
          "table": [
           {
            "cells": {
             "fill": {
              "color": "#EBF0F8"
             },
             "line": {
              "color": "white"
             }
            },
            "header": {
             "fill": {
              "color": "#C8D4E3"
             },
             "line": {
              "color": "white"
             }
            },
            "type": "table"
           }
          ]
         },
         "layout": {
          "annotationdefaults": {
           "arrowcolor": "#2a3f5f",
           "arrowhead": 0,
           "arrowwidth": 1
          },
          "autotypenumbers": "strict",
          "coloraxis": {
           "colorbar": {
            "outlinewidth": 0,
            "ticks": ""
           }
          },
          "colorscale": {
           "diverging": [
            [
             0,
             "#8e0152"
            ],
            [
             0.1,
             "#c51b7d"
            ],
            [
             0.2,
             "#de77ae"
            ],
            [
             0.3,
             "#f1b6da"
            ],
            [
             0.4,
             "#fde0ef"
            ],
            [
             0.5,
             "#f7f7f7"
            ],
            [
             0.6,
             "#e6f5d0"
            ],
            [
             0.7,
             "#b8e186"
            ],
            [
             0.8,
             "#7fbc41"
            ],
            [
             0.9,
             "#4d9221"
            ],
            [
             1,
             "#276419"
            ]
           ],
           "sequential": [
            [
             0,
             "#0d0887"
            ],
            [
             0.1111111111111111,
             "#46039f"
            ],
            [
             0.2222222222222222,
             "#7201a8"
            ],
            [
             0.3333333333333333,
             "#9c179e"
            ],
            [
             0.4444444444444444,
             "#bd3786"
            ],
            [
             0.5555555555555556,
             "#d8576b"
            ],
            [
             0.6666666666666666,
             "#ed7953"
            ],
            [
             0.7777777777777778,
             "#fb9f3a"
            ],
            [
             0.8888888888888888,
             "#fdca26"
            ],
            [
             1,
             "#f0f921"
            ]
           ],
           "sequentialminus": [
            [
             0,
             "#0d0887"
            ],
            [
             0.1111111111111111,
             "#46039f"
            ],
            [
             0.2222222222222222,
             "#7201a8"
            ],
            [
             0.3333333333333333,
             "#9c179e"
            ],
            [
             0.4444444444444444,
             "#bd3786"
            ],
            [
             0.5555555555555556,
             "#d8576b"
            ],
            [
             0.6666666666666666,
             "#ed7953"
            ],
            [
             0.7777777777777778,
             "#fb9f3a"
            ],
            [
             0.8888888888888888,
             "#fdca26"
            ],
            [
             1,
             "#f0f921"
            ]
           ]
          },
          "colorway": [
           "#636efa",
           "#EF553B",
           "#00cc96",
           "#ab63fa",
           "#FFA15A",
           "#19d3f3",
           "#FF6692",
           "#B6E880",
           "#FF97FF",
           "#FECB52"
          ],
          "font": {
           "color": "#2a3f5f"
          },
          "geo": {
           "bgcolor": "white",
           "lakecolor": "white",
           "landcolor": "#E5ECF6",
           "showlakes": true,
           "showland": true,
           "subunitcolor": "white"
          },
          "hoverlabel": {
           "align": "left"
          },
          "hovermode": "closest",
          "mapbox": {
           "style": "light"
          },
          "paper_bgcolor": "white",
          "plot_bgcolor": "#E5ECF6",
          "polar": {
           "angularaxis": {
            "gridcolor": "white",
            "linecolor": "white",
            "ticks": ""
           },
           "bgcolor": "#E5ECF6",
           "radialaxis": {
            "gridcolor": "white",
            "linecolor": "white",
            "ticks": ""
           }
          },
          "scene": {
           "xaxis": {
            "backgroundcolor": "#E5ECF6",
            "gridcolor": "white",
            "gridwidth": 2,
            "linecolor": "white",
            "showbackground": true,
            "ticks": "",
            "zerolinecolor": "white"
           },
           "yaxis": {
            "backgroundcolor": "#E5ECF6",
            "gridcolor": "white",
            "gridwidth": 2,
            "linecolor": "white",
            "showbackground": true,
            "ticks": "",
            "zerolinecolor": "white"
           },
           "zaxis": {
            "backgroundcolor": "#E5ECF6",
            "gridcolor": "white",
            "gridwidth": 2,
            "linecolor": "white",
            "showbackground": true,
            "ticks": "",
            "zerolinecolor": "white"
           }
          },
          "shapedefaults": {
           "line": {
            "color": "#2a3f5f"
           }
          },
          "ternary": {
           "aaxis": {
            "gridcolor": "white",
            "linecolor": "white",
            "ticks": ""
           },
           "baxis": {
            "gridcolor": "white",
            "linecolor": "white",
            "ticks": ""
           },
           "bgcolor": "#E5ECF6",
           "caxis": {
            "gridcolor": "white",
            "linecolor": "white",
            "ticks": ""
           }
          },
          "title": {
           "x": 0.05
          },
          "xaxis": {
           "automargin": true,
           "gridcolor": "white",
           "linecolor": "white",
           "ticks": "",
           "title": {
            "standoff": 15
           },
           "zerolinecolor": "white",
           "zerolinewidth": 2
          },
          "yaxis": {
           "automargin": true,
           "gridcolor": "white",
           "linecolor": "white",
           "ticks": "",
           "title": {
            "standoff": 15
           },
           "zerolinecolor": "white",
           "zerolinewidth": 2
          }
         }
        },
        "title": {
         "text": "Bond "
        },
        "xaxis": {
         "title": {
          "text": "Date"
         }
        },
        "yaxis": {
         "title": {
          "text": "Close"
         }
        }
       }
      }
     },
     "metadata": {},
     "output_type": "display_data"
    }
   ],
   "source": [
    "#Otra opción, es emplear la librería de go.Scatter para otro tipo de gráfico. \n",
    "trace1 = go.Scatter(\n",
    "    x = date_train,\n",
    "    y = data_train['y'],\n",
    "    mode = 'lines',\n",
    "    name = 'Data'\n",
    ")\n",
    "\n",
    "trace2 = go.Scatter(\n",
    "    x = date_test,\n",
    "    y = data_test['y'],\n",
    "    mode = 'lines',\n",
    "    name = 'test'\n",
    ")\n",
    "\n",
    "layout = go.Layout(\n",
    "    title = \"Bond \",\n",
    "    xaxis = {'title' : \"Date\"},\n",
    "    yaxis = {'title' : \"Close\"}\n",
    ")\n",
    "fig = go.Figure(data=[trace1, trace2], layout=layout)\n",
    "fig.show()"
   ]
  },
  {
   "cell_type": "markdown",
   "metadata": {},
   "source": [
    "<a id=\"7a\"></a> <br>\n",
    "# 6. Regresión con Random Forest\n",
    "En esta sección, comenzaremos la regresión empleando el algoritmo de Random Forest. Para ello, comenzaremos con la creación de la estructura de datos tipo aprendizaje supervisado. Esto se hace mediante la función de ForecasterAutoreg."
   ]
  },
  {
   "cell_type": "markdown",
   "metadata": {},
   "source": [
    "<a id=\"8\"></a> <br>\n",
    "### 7. Creación del Forecaster\n",
    "\n",
    "En esta sección aplicamos la función de Forecast Aurtoregress para la creación de ventanas con ciertos retrazos al cual se aplica el modelo de Random Forest. En este caso, consideramos 10 retrazos que capturan la estructura de datos de la serie y generan un pronóstico a 10 días. Esto significa que el modelo emplea los 10 días previos como predictores. Así, por ejemplo, si se tuviera una sección de prueba de 6 días, con un tamaño de ventana de 3 rezagos, la dimensión del conjunto de datos de prueba cuando se entrenara el modelo sería de (6x3):\n",
    "* \"Train\"  \"Pron\"\n",
    "* [1,2,3]   [4]\n",
    "* [2,3,4]   [5]\n",
    "* [3,4,5]   [6]\n",
    "* [4,5,6]   [7]\n",
    "* [5,6,7]   [8]\n",
    "* [6,7,8]   [9]\n"
   ]
  },
  {
   "cell_type": "code",
   "execution_count": 38,
   "metadata": {
    "execution": {
     "iopub.execute_input": "2024-04-19T15:44:05.161716Z",
     "iopub.status.busy": "2024-04-19T15:44:05.161300Z",
     "iopub.status.idle": "2024-04-19T15:44:07.071094Z",
     "shell.execute_reply": "2024-04-19T15:44:07.069784Z",
     "shell.execute_reply.started": "2024-04-19T15:44:05.161678Z"
    },
    "trusted": true
   },
   "outputs": [
    {
     "data": {
      "text/plain": [
       "================= \n",
       "ForecasterAutoreg \n",
       "================= \n",
       "Regressor: RandomForestRegressor(random_state=123) \n",
       "Lags: [ 1  2  3  4  5  6  7  8  9 10 11 12 13 14 15] \n",
       "Transformer for y: None \n",
       "Transformer for exog: None \n",
       "Window size: 15 \n",
       "Weight function included: False \n",
       "Differentiation order: None \n",
       "Exogenous included: False \n",
       "Type of exogenous variable: None \n",
       "Exogenous variables names: None \n",
       "Training range: [Timestamp('2015-01-02 00:00:00'), Timestamp('2022-03-10 00:00:00')] \n",
       "Training index type: DatetimeIndex \n",
       "Training index frequency: B \n",
       "Regressor parameters: {'bootstrap': True, 'ccp_alpha': 0.0, 'criterion': 'squared_error', 'max_depth': None, 'max_features': 1.0, 'max_leaf_nodes': None, 'max_samples': None, 'min_impurity_decrease': 0.0, 'min_samples_leaf': 1, 'min_samples_split': 2, 'min_weight_fraction_leaf': 0.0, 'n_estimators': 100, 'n_jobs': None, 'oob_score': False, 'random_state': 123, 'verbose': 0, 'warm_start': False} \n",
       "fit_kwargs: {} \n",
       "Creation date: 2025-04-19 21:16:03 \n",
       "Last fit date: 2025-04-19 21:16:03 \n",
       "Skforecast version: 0.11.0 \n",
       "Python version: 3.10.11 \n",
       "Forecaster id: None "
      ]
     },
     "execution_count": 38,
     "metadata": {},
     "output_type": "execute_result"
    }
   ],
   "source": [
    "# Creamos y entrenamos el modelo de Random Forest con la función de estructura de datos generada a través de la función Forecaster, en este caso, creando ventanas de 10 días:\n",
    "# ==============================================================================\n",
    "forecaster = ForecasterAutoreg(\n",
    "                regressor = RandomForestRegressor(random_state=123),\n",
    "                lags = 15\n",
    "                )\n",
    "\n",
    "forecaster.fit(y=data_train['y'])\n",
    "forecaster"
   ]
  },
  {
   "cell_type": "markdown",
   "metadata": {},
   "source": [
    "<a id=\"9\"></a> <br>\n",
    "### 8. Predicciones en conjunto de prueba\n"
   ]
  },
  {
   "cell_type": "markdown",
   "metadata": {},
   "source": [
    "Verifiquemos el rendimiento del modelo entrenado en el conjunto de test o prueba."
   ]
  },
  {
   "cell_type": "code",
   "execution_count": 39,
   "metadata": {
    "execution": {
     "iopub.execute_input": "2024-04-19T15:44:33.466833Z",
     "iopub.status.busy": "2024-04-19T15:44:33.466386Z",
     "iopub.status.idle": "2024-04-19T15:44:33.891206Z",
     "shell.execute_reply": "2024-04-19T15:44:33.890189Z",
     "shell.execute_reply.started": "2024-04-19T15:44:33.466799Z"
    },
    "trusted": true
   },
   "outputs": [
    {
     "data": {
      "text/plain": [
       "2022-03-11    149.553535\n",
       "2022-03-14    149.839515\n",
       "2022-03-15    149.033210\n",
       "2022-03-16    148.644990\n",
       "2022-03-17    151.285564\n",
       "Freq: B, Name: pred, dtype: float64"
      ]
     },
     "execution_count": 39,
     "metadata": {},
     "output_type": "execute_result"
    }
   ],
   "source": [
    "# Pronóstico, en este caso elegimos una ventana de n-test días.\n",
    "# ==============================================================================\n",
    "steps = 100  ## el mismo que la ventana de test\n",
    "predictions = forecaster.predict(steps=steps)\n",
    "predictions.head(5)"
   ]
  },
  {
   "cell_type": "code",
   "execution_count": 41,
   "metadata": {},
   "outputs": [],
   "source": [
    "#Hasta aquí, es improtante verificar que el pronóstico esté indexado por la fecha, en la frecuencia adecuada. Con ello, el refinamiento de los parámetros es posible."
   ]
  },
  {
   "cell_type": "code",
   "execution_count": 42,
   "metadata": {
    "execution": {
     "iopub.execute_input": "2024-04-19T15:45:08.044538Z",
     "iopub.status.busy": "2024-04-19T15:45:08.044141Z",
     "iopub.status.idle": "2024-04-19T15:45:08.053382Z",
     "shell.execute_reply": "2024-04-19T15:45:08.052224Z",
     "shell.execute_reply.started": "2024-04-19T15:45:08.044507Z"
    },
    "trusted": true
   },
   "outputs": [
    {
     "name": "stdout",
     "output_type": "stream",
     "text": [
      "Test error (mse): 1439.3483845130966\n",
      "Test error (rmse): 37.93874516260516\n"
     ]
    }
   ],
   "source": [
    "# Determinamos el error de pronóstico:\n",
    "# ==============================================================================\n",
    "error_mse = mean_squared_error(\n",
    "                y_true = data_test['y'],\n",
    "                y_pred = predictions\n",
    "            )\n",
    "\n",
    "print(f\"Test error (mse): {error_mse}\")\n",
    "RMSE = sqrt(error_mse)\n",
    "print(f\"Test error (rmse): {RMSE}\")"
   ]
  },
  {
   "cell_type": "markdown",
   "metadata": {},
   "source": [
    "<a id=\"10\"></a> <br>\n",
    "### 9. Refinamiento de los hiperparámetros\n",
    "\n",
    "La función que entrena los datos emplea la configuración sugerida por el usuario donde el modelo de Random Forest aplica la configuración por default de los hiperparámetros. Sin embargo, no existe sustento que esta configuración sea la ideal. Por tanto y para encontrar la mejor combinación de retrazos e hiperparámetros, podemos emplear la librería de Skforecast la cual provee la función de búsqueda con los parámetros que minimicen la métrica de error. Con esta configuración, podemos posteriormente ajustar el modelo para el pronóstico."
   ]
  },
  {
   "cell_type": "code",
   "execution_count": 43,
   "metadata": {
    "execution": {
     "iopub.execute_input": "2024-04-19T15:45:31.559457Z",
     "iopub.status.busy": "2024-04-19T15:45:31.559031Z",
     "iopub.status.idle": "2024-04-19T15:46:56.662720Z",
     "shell.execute_reply": "2024-04-19T15:46:56.661623Z",
     "shell.execute_reply.started": "2024-04-19T15:45:31.559428Z"
    },
    "trusted": true
   },
   "outputs": [
    {
     "name": "stdout",
     "output_type": "stream",
     "text": [
      "Number of models compared: 6.\n"
     ]
    },
    {
     "data": {
      "application/vnd.jupyter.widget-view+json": {
       "model_id": "2da8222d7ef948989a6946273857b2ab",
       "version_major": 2,
       "version_minor": 0
      },
      "text/plain": [
       "lags grid:   0%|          | 0/1 [00:00<?, ?it/s]"
      ]
     },
     "metadata": {},
     "output_type": "display_data"
    },
    {
     "data": {
      "application/vnd.jupyter.widget-view+json": {
       "model_id": "3f8c600ab0da4dcf9626df59fcdfff69",
       "version_major": 2,
       "version_minor": 0
      },
      "text/plain": [
       "params grid:   0%|          | 0/6 [00:00<?, ?it/s]"
      ]
     },
     "metadata": {},
     "output_type": "display_data"
    },
    {
     "name": "stdout",
     "output_type": "stream",
     "text": [
      "`Forecaster` refitted using the best-found lags and parameters, and the whole data set: \n",
      "  Lags: [ 1  2  3  4  5  6  7  8  9 10] \n",
      "  Parameters: {'max_depth': 5, 'n_estimators': 100}\n",
      "  Backtesting metric: 104.82433501102265\n",
      "\n"
     ]
    }
   ],
   "source": [
    "# Cálculo de hiperparámetros por grid search\n",
    "# ==============================================================================\n",
    "steps = 100\n",
    "forecaster = ForecasterAutoreg(\n",
    "                regressor = RandomForestRegressor(random_state=123),\n",
    "                lags      = 10 # Este valor se reemplazará en la grilla\n",
    "             )\n",
    "\n",
    "# Lags used as predictors\n",
    "lags_grid = [10]\n",
    "\n",
    "# Regressor's hyperparameters\n",
    "param_grid = {'n_estimators': [100, 500],\n",
    "              'max_depth': [3, 5, 10]}\n",
    "\n",
    "results_grid = grid_search_forecaster(\n",
    "                        forecaster         = forecaster,\n",
    "                        y                  = data_train['y'],\n",
    "                        param_grid         = param_grid,\n",
    "                        lags_grid          = lags_grid,\n",
    "                        steps              = steps,\n",
    "                        refit              = True,\n",
    "                        metric             = 'mean_squared_error',\n",
    "                        initial_train_size = int(len(data_train)*0.5),\n",
    "                        fixed_train_size   = False,\n",
    "                        return_best        = True,\n",
    "                        verbose            = False\n",
    "               )"
   ]
  },
  {
   "cell_type": "code",
   "execution_count": 44,
   "metadata": {
    "execution": {
     "iopub.execute_input": "2024-04-19T15:47:38.308212Z",
     "iopub.status.busy": "2024-04-19T15:47:38.307758Z",
     "iopub.status.idle": "2024-04-19T15:47:38.329194Z",
     "shell.execute_reply": "2024-04-19T15:47:38.327798Z",
     "shell.execute_reply.started": "2024-04-19T15:47:38.308172Z"
    },
    "trusted": true
   },
   "outputs": [
    {
     "data": {
      "text/html": [
       "<div>\n",
       "<style scoped>\n",
       "    .dataframe tbody tr th:only-of-type {\n",
       "        vertical-align: middle;\n",
       "    }\n",
       "\n",
       "    .dataframe tbody tr th {\n",
       "        vertical-align: top;\n",
       "    }\n",
       "\n",
       "    .dataframe thead th {\n",
       "        text-align: right;\n",
       "    }\n",
       "</style>\n",
       "<table border=\"1\" class=\"dataframe\">\n",
       "  <thead>\n",
       "    <tr style=\"text-align: right;\">\n",
       "      <th></th>\n",
       "      <th>lags</th>\n",
       "      <th>params</th>\n",
       "      <th>mean_squared_error</th>\n",
       "      <th>max_depth</th>\n",
       "      <th>n_estimators</th>\n",
       "    </tr>\n",
       "  </thead>\n",
       "  <tbody>\n",
       "    <tr>\n",
       "      <th>2</th>\n",
       "      <td>[1, 2, 3, 4, 5, 6, 7, 8, 9, 10]</td>\n",
       "      <td>{'max_depth': 5, 'n_estimators': 100}</td>\n",
       "      <td>104.824335</td>\n",
       "      <td>5</td>\n",
       "      <td>100</td>\n",
       "    </tr>\n",
       "    <tr>\n",
       "      <th>3</th>\n",
       "      <td>[1, 2, 3, 4, 5, 6, 7, 8, 9, 10]</td>\n",
       "      <td>{'max_depth': 5, 'n_estimators': 500}</td>\n",
       "      <td>106.815593</td>\n",
       "      <td>5</td>\n",
       "      <td>500</td>\n",
       "    </tr>\n",
       "    <tr>\n",
       "      <th>5</th>\n",
       "      <td>[1, 2, 3, 4, 5, 6, 7, 8, 9, 10]</td>\n",
       "      <td>{'max_depth': 10, 'n_estimators': 500}</td>\n",
       "      <td>111.144141</td>\n",
       "      <td>10</td>\n",
       "      <td>500</td>\n",
       "    </tr>\n",
       "    <tr>\n",
       "      <th>4</th>\n",
       "      <td>[1, 2, 3, 4, 5, 6, 7, 8, 9, 10]</td>\n",
       "      <td>{'max_depth': 10, 'n_estimators': 100}</td>\n",
       "      <td>115.486346</td>\n",
       "      <td>10</td>\n",
       "      <td>100</td>\n",
       "    </tr>\n",
       "    <tr>\n",
       "      <th>0</th>\n",
       "      <td>[1, 2, 3, 4, 5, 6, 7, 8, 9, 10]</td>\n",
       "      <td>{'max_depth': 3, 'n_estimators': 100}</td>\n",
       "      <td>176.102078</td>\n",
       "      <td>3</td>\n",
       "      <td>100</td>\n",
       "    </tr>\n",
       "    <tr>\n",
       "      <th>1</th>\n",
       "      <td>[1, 2, 3, 4, 5, 6, 7, 8, 9, 10]</td>\n",
       "      <td>{'max_depth': 3, 'n_estimators': 500}</td>\n",
       "      <td>178.806733</td>\n",
       "      <td>3</td>\n",
       "      <td>500</td>\n",
       "    </tr>\n",
       "  </tbody>\n",
       "</table>\n",
       "</div>"
      ],
      "text/plain": [
       "                              lags                                  params  \\\n",
       "2  [1, 2, 3, 4, 5, 6, 7, 8, 9, 10]   {'max_depth': 5, 'n_estimators': 100}   \n",
       "3  [1, 2, 3, 4, 5, 6, 7, 8, 9, 10]   {'max_depth': 5, 'n_estimators': 500}   \n",
       "5  [1, 2, 3, 4, 5, 6, 7, 8, 9, 10]  {'max_depth': 10, 'n_estimators': 500}   \n",
       "4  [1, 2, 3, 4, 5, 6, 7, 8, 9, 10]  {'max_depth': 10, 'n_estimators': 100}   \n",
       "0  [1, 2, 3, 4, 5, 6, 7, 8, 9, 10]   {'max_depth': 3, 'n_estimators': 100}   \n",
       "1  [1, 2, 3, 4, 5, 6, 7, 8, 9, 10]   {'max_depth': 3, 'n_estimators': 500}   \n",
       "\n",
       "   mean_squared_error  max_depth  n_estimators  \n",
       "2          104.824335          5           100  \n",
       "3          106.815593          5           500  \n",
       "5          111.144141         10           500  \n",
       "4          115.486346         10           100  \n",
       "0          176.102078          3           100  \n",
       "1          178.806733          3           500  "
      ]
     },
     "execution_count": 44,
     "metadata": {},
     "output_type": "execute_result"
    }
   ],
   "source": [
    "# Visualizamos los resultados del grid search\n",
    "# ==============================================================================\n",
    "results_grid"
   ]
  },
  {
   "cell_type": "markdown",
   "metadata": {},
   "source": [
    "<a id=\"11\"></a> <br>\n",
    "### 10. Aplicación modelo óptimo a serie completa\n",
    "\n",
    "A partir de la salida anterior, ¿cuáles deberían las variables a escoger para entrenar el modelo?"
   ]
  },
  {
   "cell_type": "code",
   "execution_count": 45,
   "metadata": {
    "execution": {
     "iopub.execute_input": "2024-04-19T15:48:06.604778Z",
     "iopub.status.busy": "2024-04-19T15:48:06.604308Z",
     "iopub.status.idle": "2024-04-19T15:48:08.407286Z",
     "shell.execute_reply": "2024-04-19T15:48:08.406144Z",
     "shell.execute_reply.started": "2024-04-19T15:48:06.604734Z"
    },
    "trusted": true
   },
   "outputs": [],
   "source": [
    "# Configuramos la función de pronóstico de forecaster con la mejor combinación obtenida de hiperparámetros.\n",
    "# ==============================================================================\n",
    "### Aquí debe ir tu codigo, \n",
    "regressor = RandomForestRegressor(max_depth= 5, n_estimators=100 , random_state=123)\n",
    "\n",
    "\n",
    "forecaster = ForecasterAutoreg(\n",
    "                regressor = regressor,\n",
    "                lags      = 12\n",
    "                )\n",
    "\n",
    "forecaster.fit(y=df['y'])\n",
    "f = forecaster.fit(y=df['y'])"
   ]
  },
  {
   "cell_type": "code",
   "execution_count": 46,
   "metadata": {
    "execution": {
     "iopub.execute_input": "2024-04-19T15:48:12.098534Z",
     "iopub.status.busy": "2024-04-19T15:48:12.098124Z",
     "iopub.status.idle": "2024-04-19T15:48:12.122891Z",
     "shell.execute_reply": "2024-04-19T15:48:12.121670Z",
     "shell.execute_reply.started": "2024-04-19T15:48:12.098504Z"
    },
    "trusted": true
   },
   "outputs": [
    {
     "data": {
      "text/html": [
       "<div>\n",
       "<style scoped>\n",
       "    .dataframe tbody tr th:only-of-type {\n",
       "        vertical-align: middle;\n",
       "    }\n",
       "\n",
       "    .dataframe tbody tr th {\n",
       "        vertical-align: top;\n",
       "    }\n",
       "\n",
       "    .dataframe thead th {\n",
       "        text-align: right;\n",
       "    }\n",
       "</style>\n",
       "<table border=\"1\" class=\"dataframe\">\n",
       "  <thead>\n",
       "    <tr style=\"text-align: right;\">\n",
       "      <th></th>\n",
       "      <th>feature</th>\n",
       "      <th>importance</th>\n",
       "    </tr>\n",
       "  </thead>\n",
       "  <tbody>\n",
       "    <tr>\n",
       "      <th>0</th>\n",
       "      <td>lag_1</td>\n",
       "      <td>0.765068</td>\n",
       "    </tr>\n",
       "    <tr>\n",
       "      <th>1</th>\n",
       "      <td>lag_2</td>\n",
       "      <td>0.171349</td>\n",
       "    </tr>\n",
       "    <tr>\n",
       "      <th>2</th>\n",
       "      <td>lag_3</td>\n",
       "      <td>0.043032</td>\n",
       "    </tr>\n",
       "    <tr>\n",
       "      <th>3</th>\n",
       "      <td>lag_4</td>\n",
       "      <td>0.010627</td>\n",
       "    </tr>\n",
       "    <tr>\n",
       "      <th>4</th>\n",
       "      <td>lag_5</td>\n",
       "      <td>0.007136</td>\n",
       "    </tr>\n",
       "    <tr>\n",
       "      <th>5</th>\n",
       "      <td>lag_6</td>\n",
       "      <td>0.000158</td>\n",
       "    </tr>\n",
       "    <tr>\n",
       "      <th>6</th>\n",
       "      <td>lag_7</td>\n",
       "      <td>0.000149</td>\n",
       "    </tr>\n",
       "    <tr>\n",
       "      <th>7</th>\n",
       "      <td>lag_8</td>\n",
       "      <td>0.001743</td>\n",
       "    </tr>\n",
       "    <tr>\n",
       "      <th>8</th>\n",
       "      <td>lag_9</td>\n",
       "      <td>0.000086</td>\n",
       "    </tr>\n",
       "    <tr>\n",
       "      <th>9</th>\n",
       "      <td>lag_10</td>\n",
       "      <td>0.000327</td>\n",
       "    </tr>\n",
       "    <tr>\n",
       "      <th>10</th>\n",
       "      <td>lag_11</td>\n",
       "      <td>0.000048</td>\n",
       "    </tr>\n",
       "    <tr>\n",
       "      <th>11</th>\n",
       "      <td>lag_12</td>\n",
       "      <td>0.000278</td>\n",
       "    </tr>\n",
       "  </tbody>\n",
       "</table>\n",
       "</div>"
      ],
      "text/plain": [
       "   feature  importance\n",
       "0    lag_1    0.765068\n",
       "1    lag_2    0.171349\n",
       "2    lag_3    0.043032\n",
       "3    lag_4    0.010627\n",
       "4    lag_5    0.007136\n",
       "5    lag_6    0.000158\n",
       "6    lag_7    0.000149\n",
       "7    lag_8    0.001743\n",
       "8    lag_9    0.000086\n",
       "9   lag_10    0.000327\n",
       "10  lag_11    0.000048\n",
       "11  lag_12    0.000278"
      ]
     },
     "execution_count": 46,
     "metadata": {},
     "output_type": "execute_result"
    }
   ],
   "source": [
    "# Podemos imprimir la importancia de los rezagos\n",
    "\n",
    "#print(f\"Elapsed time to compute the importances: {elapsed_time:.3f} seconds\")\n",
    "forecaster.get_feature_importances()"
   ]
  },
  {
   "cell_type": "markdown",
   "metadata": {},
   "source": [
    "Como podemos ver, los primeros tres rezagos son los que más aportan al modelo."
   ]
  },
  {
   "cell_type": "markdown",
   "metadata": {},
   "source": [
    "<a id=\"12\"></a> <br>\n",
    "### 11. Generación del pronóstico hacia adelante\n",
    "\n",
    "Una vez que el modelo es entrenado, se genera el pronóstico futuro."
   ]
  },
  {
   "cell_type": "code",
   "execution_count": 47,
   "metadata": {
    "execution": {
     "iopub.execute_input": "2024-04-19T15:48:18.644976Z",
     "iopub.status.busy": "2024-04-19T15:48:18.644522Z",
     "iopub.status.idle": "2024-04-19T15:48:18.711602Z",
     "shell.execute_reply": "2024-04-19T15:48:18.710438Z",
     "shell.execute_reply.started": "2024-04-19T15:48:18.644943Z"
    },
    "trusted": true
   },
   "outputs": [
    {
     "data": {
      "text/plain": [
       "2022-07-29    122.111470\n",
       "2022-08-01    122.263356\n",
       "2022-08-02    122.569630\n",
       "2022-08-03    122.746336\n",
       "2022-08-04    122.855760\n",
       "Freq: B, Name: pred, dtype: float64"
      ]
     },
     "execution_count": 47,
     "metadata": {},
     "output_type": "execute_result"
    }
   ],
   "source": [
    "# Pronóstico, en este caso elegimos una ventana de 12 días.\n",
    "# ==============================================================================\n",
    "steps = 12\n",
    "predictions = forecaster.predict(steps=steps)\n",
    "predictions.head(5)"
   ]
  },
  {
   "cell_type": "code",
   "execution_count": 48,
   "metadata": {
    "execution": {
     "iopub.execute_input": "2024-04-19T15:48:22.243132Z",
     "iopub.status.busy": "2024-04-19T15:48:22.242730Z",
     "iopub.status.idle": "2024-04-19T15:48:22.254271Z",
     "shell.execute_reply": "2024-04-19T15:48:22.253376Z",
     "shell.execute_reply.started": "2024-04-19T15:48:22.243105Z"
    },
    "trusted": true
   },
   "outputs": [
    {
     "data": {
      "text/plain": [
       "Timestamp('2022-07-28 00:00:00')"
      ]
     },
     "execution_count": 48,
     "metadata": {},
     "output_type": "execute_result"
    }
   ],
   "source": [
    "fin = data_test.index.max() \n",
    "fin"
   ]
  },
  {
   "cell_type": "code",
   "execution_count": 49,
   "metadata": {
    "execution": {
     "iopub.execute_input": "2024-04-19T15:48:26.871768Z",
     "iopub.status.busy": "2024-04-19T15:48:26.871330Z",
     "iopub.status.idle": "2024-04-19T15:48:26.880860Z",
     "shell.execute_reply": "2024-04-19T15:48:26.879723Z",
     "shell.execute_reply.started": "2024-04-19T15:48:26.871731Z"
    },
    "trusted": true
   },
   "outputs": [
    {
     "data": {
      "text/plain": [
       "[Timestamp('2022-07-28 00:00:00'),\n",
       " Timestamp('2022-07-29 00:00:00'),\n",
       " Timestamp('2022-07-30 00:00:00'),\n",
       " Timestamp('2022-07-31 00:00:00'),\n",
       " Timestamp('2022-08-01 00:00:00'),\n",
       " Timestamp('2022-08-02 00:00:00'),\n",
       " Timestamp('2022-08-03 00:00:00'),\n",
       " Timestamp('2022-08-04 00:00:00'),\n",
       " Timestamp('2022-08-05 00:00:00'),\n",
       " Timestamp('2022-08-06 00:00:00'),\n",
       " Timestamp('2022-08-07 00:00:00'),\n",
       " Timestamp('2022-08-08 00:00:00')]"
      ]
     },
     "execution_count": 49,
     "metadata": {},
     "output_type": "execute_result"
    }
   ],
   "source": [
    "## Generamos las fechas a dichos pronósticos mediante la función de pandas date_range:\n",
    "fin = data_test.index.max()   #Partimos de la fecha máxima de la sección de prueba, hacia adelante.\n",
    "fwd_dates = pd.date_range(fin, periods=12, freq='D').tolist()\n",
    "fwd_dates"
   ]
  },
  {
   "cell_type": "markdown",
   "metadata": {},
   "source": [
    "<a id=\"13\"></a> <br>\n",
    "### 12. Visualización del pronóstico futuro"
   ]
  },
  {
   "cell_type": "markdown",
   "metadata": {},
   "source": [
    "A continuación verás graficamente las tres series de tiempo (train, test y forecast). El gráfico es interactivo, amplia la zona donde están las series de test y forecast."
   ]
  },
  {
   "cell_type": "code",
   "execution_count": 50,
   "metadata": {
    "execution": {
     "iopub.execute_input": "2024-04-19T15:48:31.508226Z",
     "iopub.status.busy": "2024-04-19T15:48:31.507394Z",
     "iopub.status.idle": "2024-04-19T15:48:31.556130Z",
     "shell.execute_reply": "2024-04-19T15:48:31.552836Z",
     "shell.execute_reply.started": "2024-04-19T15:48:31.508179Z"
    },
    "trusted": true
   },
   "outputs": [
    {
     "data": {
      "application/vnd.plotly.v1+json": {
       "config": {
        "plotlyServerURL": "https://plot.ly"
       },
       "data": [
        {
         "mode": "lines",
         "name": "Train",
         "type": "scatter",
         "x": [
          "2015-01-02T00:00:00.000000000",
          "2015-01-05T00:00:00.000000000",
          "2015-01-06T00:00:00.000000000",
          "2015-01-07T00:00:00.000000000",
          "2015-01-08T00:00:00.000000000",
          "2015-01-09T00:00:00.000000000",
          "2015-01-12T00:00:00.000000000",
          "2015-01-13T00:00:00.000000000",
          "2015-01-14T00:00:00.000000000",
          "2015-01-15T00:00:00.000000000",
          "2015-01-16T00:00:00.000000000",
          "2015-01-20T00:00:00.000000000",
          "2015-01-21T00:00:00.000000000",
          "2015-01-22T00:00:00.000000000",
          "2015-01-23T00:00:00.000000000",
          "2015-01-26T00:00:00.000000000",
          "2015-01-27T00:00:00.000000000",
          "2015-01-28T00:00:00.000000000",
          "2015-01-29T00:00:00.000000000",
          "2015-01-30T00:00:00.000000000",
          "2015-02-02T00:00:00.000000000",
          "2015-02-03T00:00:00.000000000",
          "2015-02-04T00:00:00.000000000",
          "2015-02-05T00:00:00.000000000",
          "2015-02-06T00:00:00.000000000",
          "2015-02-09T00:00:00.000000000",
          "2015-02-10T00:00:00.000000000",
          "2015-02-11T00:00:00.000000000",
          "2015-02-12T00:00:00.000000000",
          "2015-02-13T00:00:00.000000000",
          "2015-02-17T00:00:00.000000000",
          "2015-02-18T00:00:00.000000000",
          "2015-02-19T00:00:00.000000000",
          "2015-02-20T00:00:00.000000000",
          "2015-02-23T00:00:00.000000000",
          "2015-02-24T00:00:00.000000000",
          "2015-02-25T00:00:00.000000000",
          "2015-02-26T00:00:00.000000000",
          "2015-02-27T00:00:00.000000000",
          "2015-03-02T00:00:00.000000000",
          "2015-03-03T00:00:00.000000000",
          "2015-03-04T00:00:00.000000000",
          "2015-03-05T00:00:00.000000000",
          "2015-03-06T00:00:00.000000000",
          "2015-03-09T00:00:00.000000000",
          "2015-03-10T00:00:00.000000000",
          "2015-03-11T00:00:00.000000000",
          "2015-03-12T00:00:00.000000000",
          "2015-03-13T00:00:00.000000000",
          "2015-03-16T00:00:00.000000000",
          "2015-03-17T00:00:00.000000000",
          "2015-03-18T00:00:00.000000000",
          "2015-03-19T00:00:00.000000000",
          "2015-03-20T00:00:00.000000000",
          "2015-03-23T00:00:00.000000000",
          "2015-03-24T00:00:00.000000000",
          "2015-03-25T00:00:00.000000000",
          "2015-03-26T00:00:00.000000000",
          "2015-03-27T00:00:00.000000000",
          "2015-03-30T00:00:00.000000000",
          "2015-03-31T00:00:00.000000000",
          "2015-04-01T00:00:00.000000000",
          "2015-04-02T00:00:00.000000000",
          "2015-04-06T00:00:00.000000000",
          "2015-04-07T00:00:00.000000000",
          "2015-04-08T00:00:00.000000000",
          "2015-04-09T00:00:00.000000000",
          "2015-04-10T00:00:00.000000000",
          "2015-04-13T00:00:00.000000000",
          "2015-04-14T00:00:00.000000000",
          "2015-04-15T00:00:00.000000000",
          "2015-04-16T00:00:00.000000000",
          "2015-04-17T00:00:00.000000000",
          "2015-04-20T00:00:00.000000000",
          "2015-04-21T00:00:00.000000000",
          "2015-04-22T00:00:00.000000000",
          "2015-04-23T00:00:00.000000000",
          "2015-04-24T00:00:00.000000000",
          "2015-04-27T00:00:00.000000000",
          "2015-04-28T00:00:00.000000000",
          "2015-04-29T00:00:00.000000000",
          "2015-04-30T00:00:00.000000000",
          "2015-05-01T00:00:00.000000000",
          "2015-05-04T00:00:00.000000000",
          "2015-05-05T00:00:00.000000000",
          "2015-05-06T00:00:00.000000000",
          "2015-05-07T00:00:00.000000000",
          "2015-05-08T00:00:00.000000000",
          "2015-05-11T00:00:00.000000000",
          "2015-05-12T00:00:00.000000000",
          "2015-05-13T00:00:00.000000000",
          "2015-05-14T00:00:00.000000000",
          "2015-05-15T00:00:00.000000000",
          "2015-05-18T00:00:00.000000000",
          "2015-05-19T00:00:00.000000000",
          "2015-05-20T00:00:00.000000000",
          "2015-05-21T00:00:00.000000000",
          "2015-05-22T00:00:00.000000000",
          "2015-05-26T00:00:00.000000000",
          "2015-05-27T00:00:00.000000000",
          "2015-05-28T00:00:00.000000000",
          "2015-05-29T00:00:00.000000000",
          "2015-06-01T00:00:00.000000000",
          "2015-06-02T00:00:00.000000000",
          "2015-06-03T00:00:00.000000000",
          "2015-06-04T00:00:00.000000000",
          "2015-06-05T00:00:00.000000000",
          "2015-06-08T00:00:00.000000000",
          "2015-06-09T00:00:00.000000000",
          "2015-06-10T00:00:00.000000000",
          "2015-06-11T00:00:00.000000000",
          "2015-06-12T00:00:00.000000000",
          "2015-06-15T00:00:00.000000000",
          "2015-06-16T00:00:00.000000000",
          "2015-06-17T00:00:00.000000000",
          "2015-06-18T00:00:00.000000000",
          "2015-06-19T00:00:00.000000000",
          "2015-06-22T00:00:00.000000000",
          "2015-06-23T00:00:00.000000000",
          "2015-06-24T00:00:00.000000000",
          "2015-06-25T00:00:00.000000000",
          "2015-06-26T00:00:00.000000000",
          "2015-06-29T00:00:00.000000000",
          "2015-06-30T00:00:00.000000000",
          "2015-07-01T00:00:00.000000000",
          "2015-07-02T00:00:00.000000000",
          "2015-07-06T00:00:00.000000000",
          "2015-07-07T00:00:00.000000000",
          "2015-07-08T00:00:00.000000000",
          "2015-07-09T00:00:00.000000000",
          "2015-07-10T00:00:00.000000000",
          "2015-07-13T00:00:00.000000000",
          "2015-07-14T00:00:00.000000000",
          "2015-07-15T00:00:00.000000000",
          "2015-07-16T00:00:00.000000000",
          "2015-07-17T00:00:00.000000000",
          "2015-07-20T00:00:00.000000000",
          "2015-07-21T00:00:00.000000000",
          "2015-07-22T00:00:00.000000000",
          "2015-07-23T00:00:00.000000000",
          "2015-07-24T00:00:00.000000000",
          "2015-07-27T00:00:00.000000000",
          "2015-07-28T00:00:00.000000000",
          "2015-07-29T00:00:00.000000000",
          "2015-07-30T00:00:00.000000000",
          "2015-07-31T00:00:00.000000000",
          "2015-08-03T00:00:00.000000000",
          "2015-08-04T00:00:00.000000000",
          "2015-08-05T00:00:00.000000000",
          "2015-08-06T00:00:00.000000000",
          "2015-08-07T00:00:00.000000000",
          "2015-08-10T00:00:00.000000000",
          "2015-08-11T00:00:00.000000000",
          "2015-08-12T00:00:00.000000000",
          "2015-08-13T00:00:00.000000000",
          "2015-08-14T00:00:00.000000000",
          "2015-08-17T00:00:00.000000000",
          "2015-08-18T00:00:00.000000000",
          "2015-08-19T00:00:00.000000000",
          "2015-08-20T00:00:00.000000000",
          "2015-08-21T00:00:00.000000000",
          "2015-08-24T00:00:00.000000000",
          "2015-08-25T00:00:00.000000000",
          "2015-08-26T00:00:00.000000000",
          "2015-08-27T00:00:00.000000000",
          "2015-08-28T00:00:00.000000000",
          "2015-08-31T00:00:00.000000000",
          "2015-09-01T00:00:00.000000000",
          "2015-09-02T00:00:00.000000000",
          "2015-09-03T00:00:00.000000000",
          "2015-09-04T00:00:00.000000000",
          "2015-09-08T00:00:00.000000000",
          "2015-09-09T00:00:00.000000000",
          "2015-09-10T00:00:00.000000000",
          "2015-09-11T00:00:00.000000000",
          "2015-09-14T00:00:00.000000000",
          "2015-09-15T00:00:00.000000000",
          "2015-09-16T00:00:00.000000000",
          "2015-09-17T00:00:00.000000000",
          "2015-09-18T00:00:00.000000000",
          "2015-09-21T00:00:00.000000000",
          "2015-09-22T00:00:00.000000000",
          "2015-09-23T00:00:00.000000000",
          "2015-09-24T00:00:00.000000000",
          "2015-09-25T00:00:00.000000000",
          "2015-09-28T00:00:00.000000000",
          "2015-09-29T00:00:00.000000000",
          "2015-09-30T00:00:00.000000000",
          "2015-10-01T00:00:00.000000000",
          "2015-10-02T00:00:00.000000000",
          "2015-10-05T00:00:00.000000000",
          "2015-10-06T00:00:00.000000000",
          "2015-10-07T00:00:00.000000000",
          "2015-10-08T00:00:00.000000000",
          "2015-10-09T00:00:00.000000000",
          "2015-10-12T00:00:00.000000000",
          "2015-10-13T00:00:00.000000000",
          "2015-10-14T00:00:00.000000000",
          "2015-10-15T00:00:00.000000000",
          "2015-10-16T00:00:00.000000000",
          "2015-10-19T00:00:00.000000000",
          "2015-10-20T00:00:00.000000000",
          "2015-10-21T00:00:00.000000000",
          "2015-10-22T00:00:00.000000000",
          "2015-10-23T00:00:00.000000000",
          "2015-10-26T00:00:00.000000000",
          "2015-10-27T00:00:00.000000000",
          "2015-10-28T00:00:00.000000000",
          "2015-10-29T00:00:00.000000000",
          "2015-10-30T00:00:00.000000000",
          "2015-11-02T00:00:00.000000000",
          "2015-11-03T00:00:00.000000000",
          "2015-11-04T00:00:00.000000000",
          "2015-11-05T00:00:00.000000000",
          "2015-11-06T00:00:00.000000000",
          "2015-11-09T00:00:00.000000000",
          "2015-11-10T00:00:00.000000000",
          "2015-11-11T00:00:00.000000000",
          "2015-11-12T00:00:00.000000000",
          "2015-11-13T00:00:00.000000000",
          "2015-11-16T00:00:00.000000000",
          "2015-11-17T00:00:00.000000000",
          "2015-11-18T00:00:00.000000000",
          "2015-11-19T00:00:00.000000000",
          "2015-11-20T00:00:00.000000000",
          "2015-11-23T00:00:00.000000000",
          "2015-11-24T00:00:00.000000000",
          "2015-11-25T00:00:00.000000000",
          "2015-11-27T00:00:00.000000000",
          "2015-11-30T00:00:00.000000000",
          "2015-12-01T00:00:00.000000000",
          "2015-12-02T00:00:00.000000000",
          "2015-12-03T00:00:00.000000000",
          "2015-12-04T00:00:00.000000000",
          "2015-12-07T00:00:00.000000000",
          "2015-12-08T00:00:00.000000000",
          "2015-12-09T00:00:00.000000000",
          "2015-12-10T00:00:00.000000000",
          "2015-12-11T00:00:00.000000000",
          "2015-12-14T00:00:00.000000000",
          "2015-12-15T00:00:00.000000000",
          "2015-12-16T00:00:00.000000000",
          "2015-12-17T00:00:00.000000000",
          "2015-12-18T00:00:00.000000000",
          "2015-12-21T00:00:00.000000000",
          "2015-12-22T00:00:00.000000000",
          "2015-12-23T00:00:00.000000000",
          "2015-12-24T00:00:00.000000000",
          "2015-12-28T00:00:00.000000000",
          "2015-12-29T00:00:00.000000000",
          "2015-12-30T00:00:00.000000000",
          "2015-12-31T00:00:00.000000000",
          "2016-01-04T00:00:00.000000000",
          "2016-01-05T00:00:00.000000000",
          "2016-01-06T00:00:00.000000000",
          "2016-01-07T00:00:00.000000000",
          "2016-01-08T00:00:00.000000000",
          "2016-01-11T00:00:00.000000000",
          "2016-01-12T00:00:00.000000000",
          "2016-01-13T00:00:00.000000000",
          "2016-01-14T00:00:00.000000000",
          "2016-01-15T00:00:00.000000000",
          "2016-01-19T00:00:00.000000000",
          "2016-01-20T00:00:00.000000000",
          "2016-01-21T00:00:00.000000000",
          "2016-01-22T00:00:00.000000000",
          "2016-01-25T00:00:00.000000000",
          "2016-01-26T00:00:00.000000000",
          "2016-01-27T00:00:00.000000000",
          "2016-01-28T00:00:00.000000000",
          "2016-01-29T00:00:00.000000000",
          "2016-02-01T00:00:00.000000000",
          "2016-02-02T00:00:00.000000000",
          "2016-02-03T00:00:00.000000000",
          "2016-02-04T00:00:00.000000000",
          "2016-02-05T00:00:00.000000000",
          "2016-02-08T00:00:00.000000000",
          "2016-02-09T00:00:00.000000000",
          "2016-02-10T00:00:00.000000000",
          "2016-02-11T00:00:00.000000000",
          "2016-02-12T00:00:00.000000000",
          "2016-02-16T00:00:00.000000000",
          "2016-02-17T00:00:00.000000000",
          "2016-02-18T00:00:00.000000000",
          "2016-02-19T00:00:00.000000000",
          "2016-02-22T00:00:00.000000000",
          "2016-02-23T00:00:00.000000000",
          "2016-02-24T00:00:00.000000000",
          "2016-02-25T00:00:00.000000000",
          "2016-02-26T00:00:00.000000000",
          "2016-02-29T00:00:00.000000000",
          "2016-03-01T00:00:00.000000000",
          "2016-03-02T00:00:00.000000000",
          "2016-03-03T00:00:00.000000000",
          "2016-03-04T00:00:00.000000000",
          "2016-03-07T00:00:00.000000000",
          "2016-03-08T00:00:00.000000000",
          "2016-03-09T00:00:00.000000000",
          "2016-03-10T00:00:00.000000000",
          "2016-03-11T00:00:00.000000000",
          "2016-03-14T00:00:00.000000000",
          "2016-03-15T00:00:00.000000000",
          "2016-03-16T00:00:00.000000000",
          "2016-03-17T00:00:00.000000000",
          "2016-03-18T00:00:00.000000000",
          "2016-03-21T00:00:00.000000000",
          "2016-03-22T00:00:00.000000000",
          "2016-03-23T00:00:00.000000000",
          "2016-03-24T00:00:00.000000000",
          "2016-03-28T00:00:00.000000000",
          "2016-03-29T00:00:00.000000000",
          "2016-03-30T00:00:00.000000000",
          "2016-03-31T00:00:00.000000000",
          "2016-04-01T00:00:00.000000000",
          "2016-04-04T00:00:00.000000000",
          "2016-04-05T00:00:00.000000000",
          "2016-04-06T00:00:00.000000000",
          "2016-04-07T00:00:00.000000000",
          "2016-04-08T00:00:00.000000000",
          "2016-04-11T00:00:00.000000000",
          "2016-04-12T00:00:00.000000000",
          "2016-04-13T00:00:00.000000000",
          "2016-04-14T00:00:00.000000000",
          "2016-04-15T00:00:00.000000000",
          "2016-04-18T00:00:00.000000000",
          "2016-04-19T00:00:00.000000000",
          "2016-04-20T00:00:00.000000000",
          "2016-04-21T00:00:00.000000000",
          "2016-04-22T00:00:00.000000000",
          "2016-04-25T00:00:00.000000000",
          "2016-04-26T00:00:00.000000000",
          "2016-04-27T00:00:00.000000000",
          "2016-04-28T00:00:00.000000000",
          "2016-04-29T00:00:00.000000000",
          "2016-05-02T00:00:00.000000000",
          "2016-05-03T00:00:00.000000000",
          "2016-05-04T00:00:00.000000000",
          "2016-05-05T00:00:00.000000000",
          "2016-05-06T00:00:00.000000000",
          "2016-05-09T00:00:00.000000000",
          "2016-05-10T00:00:00.000000000",
          "2016-05-11T00:00:00.000000000",
          "2016-05-12T00:00:00.000000000",
          "2016-05-13T00:00:00.000000000",
          "2016-05-16T00:00:00.000000000",
          "2016-05-17T00:00:00.000000000",
          "2016-05-18T00:00:00.000000000",
          "2016-05-19T00:00:00.000000000",
          "2016-05-20T00:00:00.000000000",
          "2016-05-23T00:00:00.000000000",
          "2016-05-24T00:00:00.000000000",
          "2016-05-25T00:00:00.000000000",
          "2016-05-26T00:00:00.000000000",
          "2016-05-27T00:00:00.000000000",
          "2016-05-31T00:00:00.000000000",
          "2016-06-01T00:00:00.000000000",
          "2016-06-02T00:00:00.000000000",
          "2016-06-03T00:00:00.000000000",
          "2016-06-06T00:00:00.000000000",
          "2016-06-07T00:00:00.000000000",
          "2016-06-08T00:00:00.000000000",
          "2016-06-09T00:00:00.000000000",
          "2016-06-10T00:00:00.000000000",
          "2016-06-13T00:00:00.000000000",
          "2016-06-14T00:00:00.000000000",
          "2016-06-15T00:00:00.000000000",
          "2016-06-16T00:00:00.000000000",
          "2016-06-17T00:00:00.000000000",
          "2016-06-20T00:00:00.000000000",
          "2016-06-21T00:00:00.000000000",
          "2016-06-22T00:00:00.000000000",
          "2016-06-23T00:00:00.000000000",
          "2016-06-24T00:00:00.000000000",
          "2016-06-27T00:00:00.000000000",
          "2016-06-28T00:00:00.000000000",
          "2016-06-29T00:00:00.000000000",
          "2016-06-30T00:00:00.000000000",
          "2016-07-01T00:00:00.000000000",
          "2016-07-05T00:00:00.000000000",
          "2016-07-06T00:00:00.000000000",
          "2016-07-07T00:00:00.000000000",
          "2016-07-08T00:00:00.000000000",
          "2016-07-11T00:00:00.000000000",
          "2016-07-12T00:00:00.000000000",
          "2016-07-13T00:00:00.000000000",
          "2016-07-14T00:00:00.000000000",
          "2016-07-15T00:00:00.000000000",
          "2016-07-18T00:00:00.000000000",
          "2016-07-19T00:00:00.000000000",
          "2016-07-20T00:00:00.000000000",
          "2016-07-21T00:00:00.000000000",
          "2016-07-22T00:00:00.000000000",
          "2016-07-25T00:00:00.000000000",
          "2016-07-26T00:00:00.000000000",
          "2016-07-27T00:00:00.000000000",
          "2016-07-28T00:00:00.000000000",
          "2016-07-29T00:00:00.000000000",
          "2016-08-01T00:00:00.000000000",
          "2016-08-02T00:00:00.000000000",
          "2016-08-03T00:00:00.000000000",
          "2016-08-04T00:00:00.000000000",
          "2016-08-05T00:00:00.000000000",
          "2016-08-08T00:00:00.000000000",
          "2016-08-09T00:00:00.000000000",
          "2016-08-10T00:00:00.000000000",
          "2016-08-11T00:00:00.000000000",
          "2016-08-12T00:00:00.000000000",
          "2016-08-15T00:00:00.000000000",
          "2016-08-16T00:00:00.000000000",
          "2016-08-17T00:00:00.000000000",
          "2016-08-18T00:00:00.000000000",
          "2016-08-19T00:00:00.000000000",
          "2016-08-22T00:00:00.000000000",
          "2016-08-23T00:00:00.000000000",
          "2016-08-24T00:00:00.000000000",
          "2016-08-25T00:00:00.000000000",
          "2016-08-26T00:00:00.000000000",
          "2016-08-29T00:00:00.000000000",
          "2016-08-30T00:00:00.000000000",
          "2016-08-31T00:00:00.000000000",
          "2016-09-01T00:00:00.000000000",
          "2016-09-02T00:00:00.000000000",
          "2016-09-06T00:00:00.000000000",
          "2016-09-07T00:00:00.000000000",
          "2016-09-08T00:00:00.000000000",
          "2016-09-09T00:00:00.000000000",
          "2016-09-12T00:00:00.000000000",
          "2016-09-13T00:00:00.000000000",
          "2016-09-14T00:00:00.000000000",
          "2016-09-15T00:00:00.000000000",
          "2016-09-16T00:00:00.000000000",
          "2016-09-19T00:00:00.000000000",
          "2016-09-20T00:00:00.000000000",
          "2016-09-21T00:00:00.000000000",
          "2016-09-22T00:00:00.000000000",
          "2016-09-23T00:00:00.000000000",
          "2016-09-26T00:00:00.000000000",
          "2016-09-27T00:00:00.000000000",
          "2016-09-28T00:00:00.000000000",
          "2016-09-29T00:00:00.000000000",
          "2016-09-30T00:00:00.000000000",
          "2016-10-03T00:00:00.000000000",
          "2016-10-04T00:00:00.000000000",
          "2016-10-05T00:00:00.000000000",
          "2016-10-06T00:00:00.000000000",
          "2016-10-07T00:00:00.000000000",
          "2016-10-10T00:00:00.000000000",
          "2016-10-11T00:00:00.000000000",
          "2016-10-12T00:00:00.000000000",
          "2016-10-13T00:00:00.000000000",
          "2016-10-14T00:00:00.000000000",
          "2016-10-17T00:00:00.000000000",
          "2016-10-18T00:00:00.000000000",
          "2016-10-19T00:00:00.000000000",
          "2016-10-20T00:00:00.000000000",
          "2016-10-21T00:00:00.000000000",
          "2016-10-24T00:00:00.000000000",
          "2016-10-25T00:00:00.000000000",
          "2016-10-26T00:00:00.000000000",
          "2016-10-27T00:00:00.000000000",
          "2016-10-28T00:00:00.000000000",
          "2016-10-31T00:00:00.000000000",
          "2016-11-01T00:00:00.000000000",
          "2016-11-02T00:00:00.000000000",
          "2016-11-03T00:00:00.000000000",
          "2016-11-04T00:00:00.000000000",
          "2016-11-07T00:00:00.000000000",
          "2016-11-08T00:00:00.000000000",
          "2016-11-09T00:00:00.000000000",
          "2016-11-10T00:00:00.000000000",
          "2016-11-11T00:00:00.000000000",
          "2016-11-14T00:00:00.000000000",
          "2016-11-15T00:00:00.000000000",
          "2016-11-16T00:00:00.000000000",
          "2016-11-17T00:00:00.000000000",
          "2016-11-18T00:00:00.000000000",
          "2016-11-21T00:00:00.000000000",
          "2016-11-22T00:00:00.000000000",
          "2016-11-23T00:00:00.000000000",
          "2016-11-25T00:00:00.000000000",
          "2016-11-28T00:00:00.000000000",
          "2016-11-29T00:00:00.000000000",
          "2016-11-30T00:00:00.000000000",
          "2016-12-01T00:00:00.000000000",
          "2016-12-02T00:00:00.000000000",
          "2016-12-05T00:00:00.000000000",
          "2016-12-06T00:00:00.000000000",
          "2016-12-07T00:00:00.000000000",
          "2016-12-08T00:00:00.000000000",
          "2016-12-09T00:00:00.000000000",
          "2016-12-12T00:00:00.000000000",
          "2016-12-13T00:00:00.000000000",
          "2016-12-14T00:00:00.000000000",
          "2016-12-15T00:00:00.000000000",
          "2016-12-16T00:00:00.000000000",
          "2016-12-19T00:00:00.000000000",
          "2016-12-20T00:00:00.000000000",
          "2016-12-21T00:00:00.000000000",
          "2016-12-22T00:00:00.000000000",
          "2016-12-23T00:00:00.000000000",
          "2016-12-27T00:00:00.000000000",
          "2016-12-28T00:00:00.000000000",
          "2016-12-29T00:00:00.000000000",
          "2016-12-30T00:00:00.000000000",
          "2017-01-03T00:00:00.000000000",
          "2017-01-04T00:00:00.000000000",
          "2017-01-05T00:00:00.000000000",
          "2017-01-06T00:00:00.000000000",
          "2017-01-09T00:00:00.000000000",
          "2017-01-10T00:00:00.000000000",
          "2017-01-11T00:00:00.000000000",
          "2017-01-12T00:00:00.000000000",
          "2017-01-13T00:00:00.000000000",
          "2017-01-17T00:00:00.000000000",
          "2017-01-18T00:00:00.000000000",
          "2017-01-19T00:00:00.000000000",
          "2017-01-20T00:00:00.000000000",
          "2017-01-23T00:00:00.000000000",
          "2017-01-24T00:00:00.000000000",
          "2017-01-25T00:00:00.000000000",
          "2017-01-26T00:00:00.000000000",
          "2017-01-27T00:00:00.000000000",
          "2017-01-30T00:00:00.000000000",
          "2017-01-31T00:00:00.000000000",
          "2017-02-01T00:00:00.000000000",
          "2017-02-02T00:00:00.000000000",
          "2017-02-03T00:00:00.000000000",
          "2017-02-06T00:00:00.000000000",
          "2017-02-07T00:00:00.000000000",
          "2017-02-08T00:00:00.000000000",
          "2017-02-09T00:00:00.000000000",
          "2017-02-10T00:00:00.000000000",
          "2017-02-13T00:00:00.000000000",
          "2017-02-14T00:00:00.000000000",
          "2017-02-15T00:00:00.000000000",
          "2017-02-16T00:00:00.000000000",
          "2017-02-17T00:00:00.000000000",
          "2017-02-21T00:00:00.000000000",
          "2017-02-22T00:00:00.000000000",
          "2017-02-23T00:00:00.000000000",
          "2017-02-24T00:00:00.000000000",
          "2017-02-27T00:00:00.000000000",
          "2017-02-28T00:00:00.000000000",
          "2017-03-01T00:00:00.000000000",
          "2017-03-02T00:00:00.000000000",
          "2017-03-03T00:00:00.000000000",
          "2017-03-06T00:00:00.000000000",
          "2017-03-07T00:00:00.000000000",
          "2017-03-08T00:00:00.000000000",
          "2017-03-09T00:00:00.000000000",
          "2017-03-10T00:00:00.000000000",
          "2017-03-13T00:00:00.000000000",
          "2017-03-14T00:00:00.000000000",
          "2017-03-15T00:00:00.000000000",
          "2017-03-16T00:00:00.000000000",
          "2017-03-17T00:00:00.000000000",
          "2017-03-20T00:00:00.000000000",
          "2017-03-21T00:00:00.000000000",
          "2017-03-22T00:00:00.000000000",
          "2017-03-23T00:00:00.000000000",
          "2017-03-24T00:00:00.000000000",
          "2017-03-27T00:00:00.000000000",
          "2017-03-28T00:00:00.000000000",
          "2017-03-29T00:00:00.000000000",
          "2017-03-30T00:00:00.000000000",
          "2017-03-31T00:00:00.000000000",
          "2017-04-03T00:00:00.000000000",
          "2017-04-04T00:00:00.000000000",
          "2017-04-05T00:00:00.000000000",
          "2017-04-06T00:00:00.000000000",
          "2017-04-07T00:00:00.000000000",
          "2017-04-10T00:00:00.000000000",
          "2017-04-11T00:00:00.000000000",
          "2017-04-12T00:00:00.000000000",
          "2017-04-13T00:00:00.000000000",
          "2017-04-17T00:00:00.000000000",
          "2017-04-18T00:00:00.000000000",
          "2017-04-19T00:00:00.000000000",
          "2017-04-20T00:00:00.000000000",
          "2017-04-21T00:00:00.000000000",
          "2017-04-24T00:00:00.000000000",
          "2017-04-25T00:00:00.000000000",
          "2017-04-26T00:00:00.000000000",
          "2017-04-27T00:00:00.000000000",
          "2017-04-28T00:00:00.000000000",
          "2017-05-01T00:00:00.000000000",
          "2017-05-02T00:00:00.000000000",
          "2017-05-03T00:00:00.000000000",
          "2017-05-04T00:00:00.000000000",
          "2017-05-05T00:00:00.000000000",
          "2017-05-08T00:00:00.000000000",
          "2017-05-09T00:00:00.000000000",
          "2017-05-10T00:00:00.000000000",
          "2017-05-11T00:00:00.000000000",
          "2017-05-12T00:00:00.000000000",
          "2017-05-15T00:00:00.000000000",
          "2017-05-16T00:00:00.000000000",
          "2017-05-17T00:00:00.000000000",
          "2017-05-18T00:00:00.000000000",
          "2017-05-19T00:00:00.000000000",
          "2017-05-22T00:00:00.000000000",
          "2017-05-23T00:00:00.000000000",
          "2017-05-24T00:00:00.000000000",
          "2017-05-25T00:00:00.000000000",
          "2017-05-26T00:00:00.000000000",
          "2017-05-30T00:00:00.000000000",
          "2017-05-31T00:00:00.000000000",
          "2017-06-01T00:00:00.000000000",
          "2017-06-02T00:00:00.000000000",
          "2017-06-05T00:00:00.000000000",
          "2017-06-06T00:00:00.000000000",
          "2017-06-07T00:00:00.000000000",
          "2017-06-08T00:00:00.000000000",
          "2017-06-09T00:00:00.000000000",
          "2017-06-12T00:00:00.000000000",
          "2017-06-13T00:00:00.000000000",
          "2017-06-14T00:00:00.000000000",
          "2017-06-15T00:00:00.000000000",
          "2017-06-16T00:00:00.000000000",
          "2017-06-19T00:00:00.000000000",
          "2017-06-20T00:00:00.000000000",
          "2017-06-21T00:00:00.000000000",
          "2017-06-22T00:00:00.000000000",
          "2017-06-23T00:00:00.000000000",
          "2017-06-26T00:00:00.000000000",
          "2017-06-27T00:00:00.000000000",
          "2017-06-28T00:00:00.000000000",
          "2017-06-29T00:00:00.000000000",
          "2017-06-30T00:00:00.000000000",
          "2017-07-03T00:00:00.000000000",
          "2017-07-05T00:00:00.000000000",
          "2017-07-06T00:00:00.000000000",
          "2017-07-07T00:00:00.000000000",
          "2017-07-10T00:00:00.000000000",
          "2017-07-11T00:00:00.000000000",
          "2017-07-12T00:00:00.000000000",
          "2017-07-13T00:00:00.000000000",
          "2017-07-14T00:00:00.000000000",
          "2017-07-17T00:00:00.000000000",
          "2017-07-18T00:00:00.000000000",
          "2017-07-19T00:00:00.000000000",
          "2017-07-20T00:00:00.000000000",
          "2017-07-21T00:00:00.000000000",
          "2017-07-24T00:00:00.000000000",
          "2017-07-25T00:00:00.000000000",
          "2017-07-26T00:00:00.000000000",
          "2017-07-27T00:00:00.000000000",
          "2017-07-28T00:00:00.000000000",
          "2017-07-31T00:00:00.000000000",
          "2017-08-01T00:00:00.000000000",
          "2017-08-02T00:00:00.000000000",
          "2017-08-03T00:00:00.000000000",
          "2017-08-04T00:00:00.000000000",
          "2017-08-07T00:00:00.000000000",
          "2017-08-08T00:00:00.000000000",
          "2017-08-09T00:00:00.000000000",
          "2017-08-10T00:00:00.000000000",
          "2017-08-11T00:00:00.000000000",
          "2017-08-14T00:00:00.000000000",
          "2017-08-15T00:00:00.000000000",
          "2017-08-16T00:00:00.000000000",
          "2017-08-17T00:00:00.000000000",
          "2017-08-18T00:00:00.000000000",
          "2017-08-21T00:00:00.000000000",
          "2017-08-22T00:00:00.000000000",
          "2017-08-23T00:00:00.000000000",
          "2017-08-24T00:00:00.000000000",
          "2017-08-25T00:00:00.000000000",
          "2017-08-28T00:00:00.000000000",
          "2017-08-29T00:00:00.000000000",
          "2017-08-30T00:00:00.000000000",
          "2017-08-31T00:00:00.000000000",
          "2017-09-01T00:00:00.000000000",
          "2017-09-05T00:00:00.000000000",
          "2017-09-06T00:00:00.000000000",
          "2017-09-07T00:00:00.000000000",
          "2017-09-08T00:00:00.000000000",
          "2017-09-11T00:00:00.000000000",
          "2017-09-12T00:00:00.000000000",
          "2017-09-13T00:00:00.000000000",
          "2017-09-14T00:00:00.000000000",
          "2017-09-15T00:00:00.000000000",
          "2017-09-18T00:00:00.000000000",
          "2017-09-19T00:00:00.000000000",
          "2017-09-20T00:00:00.000000000",
          "2017-09-21T00:00:00.000000000",
          "2017-09-22T00:00:00.000000000",
          "2017-09-25T00:00:00.000000000",
          "2017-09-26T00:00:00.000000000",
          "2017-09-27T00:00:00.000000000",
          "2017-09-28T00:00:00.000000000",
          "2017-09-29T00:00:00.000000000",
          "2017-10-02T00:00:00.000000000",
          "2017-10-03T00:00:00.000000000",
          "2017-10-04T00:00:00.000000000",
          "2017-10-05T00:00:00.000000000",
          "2017-10-06T00:00:00.000000000",
          "2017-10-09T00:00:00.000000000",
          "2017-10-10T00:00:00.000000000",
          "2017-10-11T00:00:00.000000000",
          "2017-10-12T00:00:00.000000000",
          "2017-10-13T00:00:00.000000000",
          "2017-10-16T00:00:00.000000000",
          "2017-10-17T00:00:00.000000000",
          "2017-10-18T00:00:00.000000000",
          "2017-10-19T00:00:00.000000000",
          "2017-10-20T00:00:00.000000000",
          "2017-10-23T00:00:00.000000000",
          "2017-10-24T00:00:00.000000000",
          "2017-10-25T00:00:00.000000000",
          "2017-10-26T00:00:00.000000000",
          "2017-10-27T00:00:00.000000000",
          "2017-10-30T00:00:00.000000000",
          "2017-10-31T00:00:00.000000000",
          "2017-11-01T00:00:00.000000000",
          "2017-11-02T00:00:00.000000000",
          "2017-11-03T00:00:00.000000000",
          "2017-11-06T00:00:00.000000000",
          "2017-11-07T00:00:00.000000000",
          "2017-11-08T00:00:00.000000000",
          "2017-11-09T00:00:00.000000000",
          "2017-11-10T00:00:00.000000000",
          "2017-11-13T00:00:00.000000000",
          "2017-11-14T00:00:00.000000000",
          "2017-11-15T00:00:00.000000000",
          "2017-11-16T00:00:00.000000000",
          "2017-11-17T00:00:00.000000000",
          "2017-11-20T00:00:00.000000000",
          "2017-11-21T00:00:00.000000000",
          "2017-11-22T00:00:00.000000000",
          "2017-11-24T00:00:00.000000000",
          "2017-11-27T00:00:00.000000000",
          "2017-11-28T00:00:00.000000000",
          "2017-11-29T00:00:00.000000000",
          "2017-11-30T00:00:00.000000000",
          "2017-12-01T00:00:00.000000000",
          "2017-12-04T00:00:00.000000000",
          "2017-12-05T00:00:00.000000000",
          "2017-12-06T00:00:00.000000000",
          "2017-12-07T00:00:00.000000000",
          "2017-12-08T00:00:00.000000000",
          "2017-12-11T00:00:00.000000000",
          "2017-12-12T00:00:00.000000000",
          "2017-12-13T00:00:00.000000000",
          "2017-12-14T00:00:00.000000000",
          "2017-12-15T00:00:00.000000000",
          "2017-12-18T00:00:00.000000000",
          "2017-12-19T00:00:00.000000000",
          "2017-12-20T00:00:00.000000000",
          "2017-12-21T00:00:00.000000000",
          "2017-12-22T00:00:00.000000000",
          "2017-12-26T00:00:00.000000000",
          "2017-12-27T00:00:00.000000000",
          "2017-12-28T00:00:00.000000000",
          "2017-12-29T00:00:00.000000000",
          "2018-01-02T00:00:00.000000000",
          "2018-01-03T00:00:00.000000000",
          "2018-01-04T00:00:00.000000000",
          "2018-01-05T00:00:00.000000000",
          "2018-01-08T00:00:00.000000000",
          "2018-01-09T00:00:00.000000000",
          "2018-01-10T00:00:00.000000000",
          "2018-01-11T00:00:00.000000000",
          "2018-01-12T00:00:00.000000000",
          "2018-01-16T00:00:00.000000000",
          "2018-01-17T00:00:00.000000000",
          "2018-01-18T00:00:00.000000000",
          "2018-01-19T00:00:00.000000000",
          "2018-01-22T00:00:00.000000000",
          "2018-01-23T00:00:00.000000000",
          "2018-01-24T00:00:00.000000000",
          "2018-01-25T00:00:00.000000000",
          "2018-01-26T00:00:00.000000000",
          "2018-01-29T00:00:00.000000000",
          "2018-01-30T00:00:00.000000000",
          "2018-01-31T00:00:00.000000000",
          "2018-02-01T00:00:00.000000000",
          "2018-02-02T00:00:00.000000000",
          "2018-02-05T00:00:00.000000000",
          "2018-02-06T00:00:00.000000000",
          "2018-02-07T00:00:00.000000000",
          "2018-02-08T00:00:00.000000000",
          "2018-02-09T00:00:00.000000000",
          "2018-02-12T00:00:00.000000000",
          "2018-02-13T00:00:00.000000000",
          "2018-02-14T00:00:00.000000000",
          "2018-02-15T00:00:00.000000000",
          "2018-02-16T00:00:00.000000000",
          "2018-02-20T00:00:00.000000000",
          "2018-02-21T00:00:00.000000000",
          "2018-02-22T00:00:00.000000000",
          "2018-02-23T00:00:00.000000000",
          "2018-02-26T00:00:00.000000000",
          "2018-02-27T00:00:00.000000000",
          "2018-02-28T00:00:00.000000000",
          "2018-03-01T00:00:00.000000000",
          "2018-03-02T00:00:00.000000000",
          "2018-03-05T00:00:00.000000000",
          "2018-03-06T00:00:00.000000000",
          "2018-03-07T00:00:00.000000000",
          "2018-03-08T00:00:00.000000000",
          "2018-03-09T00:00:00.000000000",
          "2018-03-12T00:00:00.000000000",
          "2018-03-13T00:00:00.000000000",
          "2018-03-14T00:00:00.000000000",
          "2018-03-15T00:00:00.000000000",
          "2018-03-16T00:00:00.000000000",
          "2018-03-19T00:00:00.000000000",
          "2018-03-20T00:00:00.000000000",
          "2018-03-21T00:00:00.000000000",
          "2018-03-22T00:00:00.000000000",
          "2018-03-23T00:00:00.000000000",
          "2018-03-26T00:00:00.000000000",
          "2018-03-27T00:00:00.000000000",
          "2018-03-28T00:00:00.000000000",
          "2018-03-29T00:00:00.000000000",
          "2018-04-02T00:00:00.000000000",
          "2018-04-03T00:00:00.000000000",
          "2018-04-04T00:00:00.000000000",
          "2018-04-05T00:00:00.000000000",
          "2018-04-06T00:00:00.000000000",
          "2018-04-09T00:00:00.000000000",
          "2018-04-10T00:00:00.000000000",
          "2018-04-11T00:00:00.000000000",
          "2018-04-12T00:00:00.000000000",
          "2018-04-13T00:00:00.000000000",
          "2018-04-16T00:00:00.000000000",
          "2018-04-17T00:00:00.000000000",
          "2018-04-18T00:00:00.000000000",
          "2018-04-19T00:00:00.000000000",
          "2018-04-20T00:00:00.000000000",
          "2018-04-23T00:00:00.000000000",
          "2018-04-24T00:00:00.000000000",
          "2018-04-25T00:00:00.000000000",
          "2018-04-26T00:00:00.000000000",
          "2018-04-27T00:00:00.000000000",
          "2018-04-30T00:00:00.000000000",
          "2018-05-01T00:00:00.000000000",
          "2018-05-02T00:00:00.000000000",
          "2018-05-03T00:00:00.000000000",
          "2018-05-04T00:00:00.000000000",
          "2018-05-07T00:00:00.000000000",
          "2018-05-08T00:00:00.000000000",
          "2018-05-09T00:00:00.000000000",
          "2018-05-10T00:00:00.000000000",
          "2018-05-11T00:00:00.000000000",
          "2018-05-14T00:00:00.000000000",
          "2018-05-15T00:00:00.000000000",
          "2018-05-16T00:00:00.000000000",
          "2018-05-17T00:00:00.000000000",
          "2018-05-18T00:00:00.000000000",
          "2018-05-21T00:00:00.000000000",
          "2018-05-22T00:00:00.000000000",
          "2018-05-23T00:00:00.000000000",
          "2018-05-24T00:00:00.000000000",
          "2018-05-25T00:00:00.000000000",
          "2018-05-29T00:00:00.000000000",
          "2018-05-30T00:00:00.000000000",
          "2018-05-31T00:00:00.000000000",
          "2018-06-01T00:00:00.000000000",
          "2018-06-04T00:00:00.000000000",
          "2018-06-05T00:00:00.000000000",
          "2018-06-06T00:00:00.000000000",
          "2018-06-07T00:00:00.000000000",
          "2018-06-08T00:00:00.000000000",
          "2018-06-11T00:00:00.000000000",
          "2018-06-12T00:00:00.000000000",
          "2018-06-13T00:00:00.000000000",
          "2018-06-14T00:00:00.000000000",
          "2018-06-15T00:00:00.000000000",
          "2018-06-18T00:00:00.000000000",
          "2018-06-19T00:00:00.000000000",
          "2018-06-20T00:00:00.000000000",
          "2018-06-21T00:00:00.000000000",
          "2018-06-22T00:00:00.000000000",
          "2018-06-25T00:00:00.000000000",
          "2018-06-26T00:00:00.000000000",
          "2018-06-27T00:00:00.000000000",
          "2018-06-28T00:00:00.000000000",
          "2018-06-29T00:00:00.000000000",
          "2018-07-02T00:00:00.000000000",
          "2018-07-03T00:00:00.000000000",
          "2018-07-05T00:00:00.000000000",
          "2018-07-06T00:00:00.000000000",
          "2018-07-09T00:00:00.000000000",
          "2018-07-10T00:00:00.000000000",
          "2018-07-11T00:00:00.000000000",
          "2018-07-12T00:00:00.000000000",
          "2018-07-13T00:00:00.000000000",
          "2018-07-16T00:00:00.000000000",
          "2018-07-17T00:00:00.000000000",
          "2018-07-18T00:00:00.000000000",
          "2018-07-19T00:00:00.000000000",
          "2018-07-20T00:00:00.000000000",
          "2018-07-23T00:00:00.000000000",
          "2018-07-24T00:00:00.000000000",
          "2018-07-25T00:00:00.000000000",
          "2018-07-26T00:00:00.000000000",
          "2018-07-27T00:00:00.000000000",
          "2018-07-30T00:00:00.000000000",
          "2018-07-31T00:00:00.000000000",
          "2018-08-01T00:00:00.000000000",
          "2018-08-02T00:00:00.000000000",
          "2018-08-03T00:00:00.000000000",
          "2018-08-06T00:00:00.000000000",
          "2018-08-07T00:00:00.000000000",
          "2018-08-08T00:00:00.000000000",
          "2018-08-09T00:00:00.000000000",
          "2018-08-10T00:00:00.000000000",
          "2018-08-13T00:00:00.000000000",
          "2018-08-14T00:00:00.000000000",
          "2018-08-15T00:00:00.000000000",
          "2018-08-16T00:00:00.000000000",
          "2018-08-17T00:00:00.000000000",
          "2018-08-20T00:00:00.000000000",
          "2018-08-21T00:00:00.000000000",
          "2018-08-22T00:00:00.000000000",
          "2018-08-23T00:00:00.000000000",
          "2018-08-24T00:00:00.000000000",
          "2018-08-27T00:00:00.000000000",
          "2018-08-28T00:00:00.000000000",
          "2018-08-29T00:00:00.000000000",
          "2018-08-30T00:00:00.000000000",
          "2018-08-31T00:00:00.000000000",
          "2018-09-04T00:00:00.000000000",
          "2018-09-05T00:00:00.000000000",
          "2018-09-06T00:00:00.000000000",
          "2018-09-07T00:00:00.000000000",
          "2018-09-10T00:00:00.000000000",
          "2018-09-11T00:00:00.000000000",
          "2018-09-12T00:00:00.000000000",
          "2018-09-13T00:00:00.000000000",
          "2018-09-14T00:00:00.000000000",
          "2018-09-17T00:00:00.000000000",
          "2018-09-18T00:00:00.000000000",
          "2018-09-19T00:00:00.000000000",
          "2018-09-20T00:00:00.000000000",
          "2018-09-21T00:00:00.000000000",
          "2018-09-24T00:00:00.000000000",
          "2018-09-25T00:00:00.000000000",
          "2018-09-26T00:00:00.000000000",
          "2018-09-27T00:00:00.000000000",
          "2018-09-28T00:00:00.000000000",
          "2018-10-01T00:00:00.000000000",
          "2018-10-02T00:00:00.000000000",
          "2018-10-03T00:00:00.000000000",
          "2018-10-04T00:00:00.000000000",
          "2018-10-05T00:00:00.000000000",
          "2018-10-08T00:00:00.000000000",
          "2018-10-09T00:00:00.000000000",
          "2018-10-10T00:00:00.000000000",
          "2018-10-11T00:00:00.000000000",
          "2018-10-12T00:00:00.000000000",
          "2018-10-15T00:00:00.000000000",
          "2018-10-16T00:00:00.000000000",
          "2018-10-17T00:00:00.000000000",
          "2018-10-18T00:00:00.000000000",
          "2018-10-19T00:00:00.000000000",
          "2018-10-22T00:00:00.000000000",
          "2018-10-23T00:00:00.000000000",
          "2018-10-24T00:00:00.000000000",
          "2018-10-25T00:00:00.000000000",
          "2018-10-26T00:00:00.000000000",
          "2018-10-29T00:00:00.000000000",
          "2018-10-30T00:00:00.000000000",
          "2018-10-31T00:00:00.000000000",
          "2018-11-01T00:00:00.000000000",
          "2018-11-02T00:00:00.000000000",
          "2018-11-05T00:00:00.000000000",
          "2018-11-06T00:00:00.000000000",
          "2018-11-07T00:00:00.000000000",
          "2018-11-08T00:00:00.000000000",
          "2018-11-09T00:00:00.000000000",
          "2018-11-12T00:00:00.000000000",
          "2018-11-13T00:00:00.000000000",
          "2018-11-14T00:00:00.000000000",
          "2018-11-15T00:00:00.000000000",
          "2018-11-16T00:00:00.000000000",
          "2018-11-19T00:00:00.000000000",
          "2018-11-20T00:00:00.000000000",
          "2018-11-21T00:00:00.000000000",
          "2018-11-23T00:00:00.000000000",
          "2018-11-26T00:00:00.000000000",
          "2018-11-27T00:00:00.000000000",
          "2018-11-28T00:00:00.000000000",
          "2018-11-29T00:00:00.000000000",
          "2018-11-30T00:00:00.000000000",
          "2018-12-03T00:00:00.000000000",
          "2018-12-04T00:00:00.000000000",
          "2018-12-06T00:00:00.000000000",
          "2018-12-07T00:00:00.000000000",
          "2018-12-10T00:00:00.000000000",
          "2018-12-11T00:00:00.000000000",
          "2018-12-12T00:00:00.000000000",
          "2018-12-13T00:00:00.000000000",
          "2018-12-14T00:00:00.000000000",
          "2018-12-17T00:00:00.000000000",
          "2018-12-18T00:00:00.000000000",
          "2018-12-19T00:00:00.000000000",
          "2018-12-20T00:00:00.000000000",
          "2018-12-21T00:00:00.000000000",
          "2018-12-24T00:00:00.000000000",
          "2018-12-26T00:00:00.000000000",
          "2018-12-27T00:00:00.000000000",
          "2018-12-28T00:00:00.000000000",
          "2018-12-31T00:00:00.000000000",
          "2019-01-02T00:00:00.000000000",
          "2019-01-03T00:00:00.000000000",
          "2019-01-04T00:00:00.000000000",
          "2019-01-07T00:00:00.000000000",
          "2019-01-08T00:00:00.000000000",
          "2019-01-09T00:00:00.000000000",
          "2019-01-10T00:00:00.000000000",
          "2019-01-11T00:00:00.000000000",
          "2019-01-14T00:00:00.000000000",
          "2019-01-15T00:00:00.000000000",
          "2019-01-16T00:00:00.000000000",
          "2019-01-17T00:00:00.000000000",
          "2019-01-18T00:00:00.000000000",
          "2019-01-22T00:00:00.000000000",
          "2019-01-23T00:00:00.000000000",
          "2019-01-24T00:00:00.000000000",
          "2019-01-25T00:00:00.000000000",
          "2019-01-28T00:00:00.000000000",
          "2019-01-29T00:00:00.000000000",
          "2019-01-30T00:00:00.000000000",
          "2019-01-31T00:00:00.000000000",
          "2019-02-01T00:00:00.000000000",
          "2019-02-04T00:00:00.000000000",
          "2019-02-05T00:00:00.000000000",
          "2019-02-06T00:00:00.000000000",
          "2019-02-07T00:00:00.000000000",
          "2019-02-08T00:00:00.000000000",
          "2019-02-11T00:00:00.000000000",
          "2019-02-12T00:00:00.000000000",
          "2019-02-13T00:00:00.000000000",
          "2019-02-14T00:00:00.000000000",
          "2019-02-15T00:00:00.000000000",
          "2019-02-19T00:00:00.000000000",
          "2019-02-20T00:00:00.000000000",
          "2019-02-21T00:00:00.000000000",
          "2019-02-22T00:00:00.000000000",
          "2019-02-25T00:00:00.000000000",
          "2019-02-26T00:00:00.000000000",
          "2019-02-27T00:00:00.000000000",
          "2019-02-28T00:00:00.000000000",
          "2019-03-01T00:00:00.000000000",
          "2019-03-04T00:00:00.000000000",
          "2019-03-05T00:00:00.000000000",
          "2019-03-06T00:00:00.000000000",
          "2019-03-07T00:00:00.000000000",
          "2019-03-08T00:00:00.000000000",
          "2019-03-11T00:00:00.000000000",
          "2019-03-12T00:00:00.000000000",
          "2019-03-13T00:00:00.000000000",
          "2019-03-14T00:00:00.000000000",
          "2019-03-15T00:00:00.000000000",
          "2019-03-18T00:00:00.000000000",
          "2019-03-19T00:00:00.000000000",
          "2019-03-20T00:00:00.000000000",
          "2019-03-21T00:00:00.000000000",
          "2019-03-22T00:00:00.000000000",
          "2019-03-25T00:00:00.000000000",
          "2019-03-26T00:00:00.000000000",
          "2019-03-27T00:00:00.000000000",
          "2019-03-28T00:00:00.000000000",
          "2019-03-29T00:00:00.000000000",
          "2019-04-01T00:00:00.000000000",
          "2019-04-02T00:00:00.000000000",
          "2019-04-03T00:00:00.000000000",
          "2019-04-04T00:00:00.000000000",
          "2019-04-05T00:00:00.000000000",
          "2019-04-08T00:00:00.000000000",
          "2019-04-09T00:00:00.000000000",
          "2019-04-10T00:00:00.000000000",
          "2019-04-11T00:00:00.000000000",
          "2019-04-12T00:00:00.000000000",
          "2019-04-15T00:00:00.000000000",
          "2019-04-16T00:00:00.000000000",
          "2019-04-17T00:00:00.000000000",
          "2019-04-18T00:00:00.000000000",
          "2019-04-22T00:00:00.000000000",
          "2019-04-23T00:00:00.000000000",
          "2019-04-24T00:00:00.000000000",
          "2019-04-25T00:00:00.000000000",
          "2019-04-26T00:00:00.000000000",
          "2019-04-29T00:00:00.000000000",
          "2019-04-30T00:00:00.000000000",
          "2019-05-01T00:00:00.000000000",
          "2019-05-02T00:00:00.000000000",
          "2019-05-03T00:00:00.000000000",
          "2019-05-06T00:00:00.000000000",
          "2019-05-07T00:00:00.000000000",
          "2019-05-08T00:00:00.000000000",
          "2019-05-09T00:00:00.000000000",
          "2019-05-10T00:00:00.000000000",
          "2019-05-13T00:00:00.000000000",
          "2019-05-14T00:00:00.000000000",
          "2019-05-15T00:00:00.000000000",
          "2019-05-16T00:00:00.000000000",
          "2019-05-17T00:00:00.000000000",
          "2019-05-20T00:00:00.000000000",
          "2019-05-21T00:00:00.000000000",
          "2019-05-22T00:00:00.000000000",
          "2019-05-23T00:00:00.000000000",
          "2019-05-24T00:00:00.000000000",
          "2019-05-28T00:00:00.000000000",
          "2019-05-29T00:00:00.000000000",
          "2019-05-30T00:00:00.000000000",
          "2019-05-31T00:00:00.000000000",
          "2019-06-03T00:00:00.000000000",
          "2019-06-04T00:00:00.000000000",
          "2019-06-05T00:00:00.000000000",
          "2019-06-06T00:00:00.000000000",
          "2019-06-07T00:00:00.000000000",
          "2019-06-10T00:00:00.000000000",
          "2019-06-11T00:00:00.000000000",
          "2019-06-12T00:00:00.000000000",
          "2019-06-13T00:00:00.000000000",
          "2019-06-14T00:00:00.000000000",
          "2019-06-17T00:00:00.000000000",
          "2019-06-18T00:00:00.000000000",
          "2019-06-19T00:00:00.000000000",
          "2019-06-20T00:00:00.000000000",
          "2019-06-21T00:00:00.000000000",
          "2019-06-24T00:00:00.000000000",
          "2019-06-25T00:00:00.000000000",
          "2019-06-26T00:00:00.000000000",
          "2019-06-27T00:00:00.000000000",
          "2019-06-28T00:00:00.000000000",
          "2019-07-01T00:00:00.000000000",
          "2019-07-02T00:00:00.000000000",
          "2019-07-03T00:00:00.000000000",
          "2019-07-05T00:00:00.000000000",
          "2019-07-08T00:00:00.000000000",
          "2019-07-09T00:00:00.000000000",
          "2019-07-10T00:00:00.000000000",
          "2019-07-11T00:00:00.000000000",
          "2019-07-12T00:00:00.000000000",
          "2019-07-15T00:00:00.000000000",
          "2019-07-16T00:00:00.000000000",
          "2019-07-17T00:00:00.000000000",
          "2019-07-18T00:00:00.000000000",
          "2019-07-19T00:00:00.000000000",
          "2019-07-22T00:00:00.000000000",
          "2019-07-23T00:00:00.000000000",
          "2019-07-24T00:00:00.000000000",
          "2019-07-25T00:00:00.000000000",
          "2019-07-26T00:00:00.000000000",
          "2019-07-29T00:00:00.000000000",
          "2019-07-30T00:00:00.000000000",
          "2019-07-31T00:00:00.000000000",
          "2019-08-01T00:00:00.000000000",
          "2019-08-02T00:00:00.000000000",
          "2019-08-05T00:00:00.000000000",
          "2019-08-06T00:00:00.000000000",
          "2019-08-07T00:00:00.000000000",
          "2019-08-08T00:00:00.000000000",
          "2019-08-09T00:00:00.000000000",
          "2019-08-12T00:00:00.000000000",
          "2019-08-13T00:00:00.000000000",
          "2019-08-14T00:00:00.000000000",
          "2019-08-15T00:00:00.000000000",
          "2019-08-16T00:00:00.000000000",
          "2019-08-19T00:00:00.000000000",
          "2019-08-20T00:00:00.000000000",
          "2019-08-21T00:00:00.000000000",
          "2019-08-22T00:00:00.000000000",
          "2019-08-23T00:00:00.000000000",
          "2019-08-26T00:00:00.000000000",
          "2019-08-27T00:00:00.000000000",
          "2019-08-28T00:00:00.000000000",
          "2019-08-29T00:00:00.000000000",
          "2019-08-30T00:00:00.000000000",
          "2019-09-03T00:00:00.000000000",
          "2019-09-04T00:00:00.000000000",
          "2019-09-05T00:00:00.000000000",
          "2019-09-06T00:00:00.000000000",
          "2019-09-09T00:00:00.000000000",
          "2019-09-10T00:00:00.000000000",
          "2019-09-11T00:00:00.000000000",
          "2019-09-12T00:00:00.000000000",
          "2019-09-13T00:00:00.000000000",
          "2019-09-16T00:00:00.000000000",
          "2019-09-17T00:00:00.000000000",
          "2019-09-18T00:00:00.000000000",
          "2019-09-19T00:00:00.000000000",
          "2019-09-20T00:00:00.000000000",
          "2019-09-23T00:00:00.000000000",
          "2019-09-24T00:00:00.000000000",
          "2019-09-25T00:00:00.000000000",
          "2019-09-26T00:00:00.000000000",
          "2019-09-27T00:00:00.000000000",
          "2019-09-30T00:00:00.000000000",
          "2019-10-01T00:00:00.000000000",
          "2019-10-02T00:00:00.000000000",
          "2019-10-03T00:00:00.000000000",
          "2019-10-04T00:00:00.000000000",
          "2019-10-07T00:00:00.000000000",
          "2019-10-08T00:00:00.000000000",
          "2019-10-09T00:00:00.000000000",
          "2019-10-10T00:00:00.000000000",
          "2019-10-11T00:00:00.000000000",
          "2019-10-14T00:00:00.000000000",
          "2019-10-15T00:00:00.000000000",
          "2019-10-16T00:00:00.000000000",
          "2019-10-17T00:00:00.000000000",
          "2019-10-18T00:00:00.000000000",
          "2019-10-21T00:00:00.000000000",
          "2019-10-22T00:00:00.000000000",
          "2019-10-23T00:00:00.000000000",
          "2019-10-24T00:00:00.000000000",
          "2019-10-25T00:00:00.000000000",
          "2019-10-28T00:00:00.000000000",
          "2019-10-29T00:00:00.000000000",
          "2019-10-30T00:00:00.000000000",
          "2019-10-31T00:00:00.000000000",
          "2019-11-01T00:00:00.000000000",
          "2019-11-04T00:00:00.000000000",
          "2019-11-05T00:00:00.000000000",
          "2019-11-06T00:00:00.000000000",
          "2019-11-07T00:00:00.000000000",
          "2019-11-08T00:00:00.000000000",
          "2019-11-11T00:00:00.000000000",
          "2019-11-12T00:00:00.000000000",
          "2019-11-13T00:00:00.000000000",
          "2019-11-14T00:00:00.000000000",
          "2019-11-15T00:00:00.000000000",
          "2019-11-18T00:00:00.000000000",
          "2019-11-19T00:00:00.000000000",
          "2019-11-20T00:00:00.000000000",
          "2019-11-21T00:00:00.000000000",
          "2019-11-22T00:00:00.000000000",
          "2019-11-25T00:00:00.000000000",
          "2019-11-26T00:00:00.000000000",
          "2019-11-27T00:00:00.000000000",
          "2019-11-29T00:00:00.000000000",
          "2019-12-02T00:00:00.000000000",
          "2019-12-03T00:00:00.000000000",
          "2019-12-04T00:00:00.000000000",
          "2019-12-05T00:00:00.000000000",
          "2019-12-06T00:00:00.000000000",
          "2019-12-09T00:00:00.000000000",
          "2019-12-10T00:00:00.000000000",
          "2019-12-11T00:00:00.000000000",
          "2019-12-12T00:00:00.000000000",
          "2019-12-13T00:00:00.000000000",
          "2019-12-16T00:00:00.000000000",
          "2019-12-17T00:00:00.000000000",
          "2019-12-18T00:00:00.000000000",
          "2019-12-19T00:00:00.000000000",
          "2019-12-20T00:00:00.000000000",
          "2019-12-23T00:00:00.000000000",
          "2019-12-24T00:00:00.000000000",
          "2019-12-26T00:00:00.000000000",
          "2019-12-27T00:00:00.000000000",
          "2019-12-30T00:00:00.000000000",
          "2019-12-31T00:00:00.000000000",
          "2020-01-02T00:00:00.000000000",
          "2020-01-03T00:00:00.000000000",
          "2020-01-06T00:00:00.000000000",
          "2020-01-07T00:00:00.000000000",
          "2020-01-08T00:00:00.000000000",
          "2020-01-09T00:00:00.000000000",
          "2020-01-10T00:00:00.000000000",
          "2020-01-13T00:00:00.000000000",
          "2020-01-14T00:00:00.000000000",
          "2020-01-15T00:00:00.000000000",
          "2020-01-16T00:00:00.000000000",
          "2020-01-17T00:00:00.000000000",
          "2020-01-21T00:00:00.000000000",
          "2020-01-22T00:00:00.000000000",
          "2020-01-23T00:00:00.000000000",
          "2020-01-24T00:00:00.000000000",
          "2020-01-27T00:00:00.000000000",
          "2020-01-28T00:00:00.000000000",
          "2020-01-29T00:00:00.000000000",
          "2020-01-30T00:00:00.000000000",
          "2020-01-31T00:00:00.000000000",
          "2020-02-03T00:00:00.000000000",
          "2020-02-04T00:00:00.000000000",
          "2020-02-05T00:00:00.000000000",
          "2020-02-06T00:00:00.000000000",
          "2020-02-07T00:00:00.000000000",
          "2020-02-10T00:00:00.000000000",
          "2020-02-11T00:00:00.000000000",
          "2020-02-12T00:00:00.000000000",
          "2020-02-13T00:00:00.000000000",
          "2020-02-14T00:00:00.000000000",
          "2020-02-18T00:00:00.000000000",
          "2020-02-19T00:00:00.000000000",
          "2020-02-20T00:00:00.000000000",
          "2020-02-21T00:00:00.000000000",
          "2020-02-24T00:00:00.000000000",
          "2020-02-25T00:00:00.000000000",
          "2020-02-26T00:00:00.000000000",
          "2020-02-27T00:00:00.000000000",
          "2020-02-28T00:00:00.000000000",
          "2020-03-02T00:00:00.000000000",
          "2020-03-03T00:00:00.000000000",
          "2020-03-04T00:00:00.000000000",
          "2020-03-05T00:00:00.000000000",
          "2020-03-06T00:00:00.000000000",
          "2020-03-09T00:00:00.000000000",
          "2020-03-10T00:00:00.000000000",
          "2020-03-11T00:00:00.000000000",
          "2020-03-12T00:00:00.000000000",
          "2020-03-13T00:00:00.000000000",
          "2020-03-16T00:00:00.000000000",
          "2020-03-17T00:00:00.000000000",
          "2020-03-18T00:00:00.000000000",
          "2020-03-19T00:00:00.000000000",
          "2020-03-20T00:00:00.000000000",
          "2020-03-23T00:00:00.000000000",
          "2020-03-24T00:00:00.000000000",
          "2020-03-25T00:00:00.000000000",
          "2020-03-26T00:00:00.000000000",
          "2020-03-27T00:00:00.000000000",
          "2020-03-30T00:00:00.000000000",
          "2020-03-31T00:00:00.000000000",
          "2020-04-01T00:00:00.000000000",
          "2020-04-02T00:00:00.000000000",
          "2020-04-03T00:00:00.000000000",
          "2020-04-06T00:00:00.000000000",
          "2020-04-07T00:00:00.000000000",
          "2020-04-08T00:00:00.000000000",
          "2020-04-09T00:00:00.000000000",
          "2020-04-13T00:00:00.000000000",
          "2020-04-14T00:00:00.000000000",
          "2020-04-15T00:00:00.000000000",
          "2020-04-16T00:00:00.000000000",
          "2020-04-17T00:00:00.000000000",
          "2020-04-20T00:00:00.000000000",
          "2020-04-21T00:00:00.000000000",
          "2020-04-22T00:00:00.000000000",
          "2020-04-23T00:00:00.000000000",
          "2020-04-24T00:00:00.000000000",
          "2020-04-27T00:00:00.000000000",
          "2020-04-28T00:00:00.000000000",
          "2020-04-29T00:00:00.000000000",
          "2020-04-30T00:00:00.000000000",
          "2020-05-01T00:00:00.000000000",
          "2020-05-04T00:00:00.000000000",
          "2020-05-05T00:00:00.000000000",
          "2020-05-06T00:00:00.000000000",
          "2020-05-07T00:00:00.000000000",
          "2020-05-08T00:00:00.000000000",
          "2020-05-11T00:00:00.000000000",
          "2020-05-12T00:00:00.000000000",
          "2020-05-13T00:00:00.000000000",
          "2020-05-14T00:00:00.000000000",
          "2020-05-15T00:00:00.000000000",
          "2020-05-18T00:00:00.000000000",
          "2020-05-19T00:00:00.000000000",
          "2020-05-20T00:00:00.000000000",
          "2020-05-21T00:00:00.000000000",
          "2020-05-22T00:00:00.000000000",
          "2020-05-26T00:00:00.000000000",
          "2020-05-27T00:00:00.000000000",
          "2020-05-28T00:00:00.000000000",
          "2020-05-29T00:00:00.000000000",
          "2020-06-01T00:00:00.000000000",
          "2020-06-02T00:00:00.000000000",
          "2020-06-03T00:00:00.000000000",
          "2020-06-04T00:00:00.000000000",
          "2020-06-05T00:00:00.000000000",
          "2020-06-08T00:00:00.000000000",
          "2020-06-09T00:00:00.000000000",
          "2020-06-10T00:00:00.000000000",
          "2020-06-11T00:00:00.000000000",
          "2020-06-12T00:00:00.000000000",
          "2020-06-15T00:00:00.000000000",
          "2020-06-16T00:00:00.000000000",
          "2020-06-17T00:00:00.000000000",
          "2020-06-18T00:00:00.000000000",
          "2020-06-19T00:00:00.000000000",
          "2020-06-22T00:00:00.000000000",
          "2020-06-23T00:00:00.000000000",
          "2020-06-24T00:00:00.000000000",
          "2020-06-25T00:00:00.000000000",
          "2020-06-26T00:00:00.000000000",
          "2020-06-29T00:00:00.000000000",
          "2020-06-30T00:00:00.000000000",
          "2020-07-01T00:00:00.000000000",
          "2020-07-02T00:00:00.000000000",
          "2020-07-06T00:00:00.000000000",
          "2020-07-07T00:00:00.000000000",
          "2020-07-08T00:00:00.000000000",
          "2020-07-09T00:00:00.000000000",
          "2020-07-10T00:00:00.000000000",
          "2020-07-13T00:00:00.000000000",
          "2020-07-14T00:00:00.000000000",
          "2020-07-15T00:00:00.000000000",
          "2020-07-16T00:00:00.000000000",
          "2020-07-17T00:00:00.000000000",
          "2020-07-20T00:00:00.000000000",
          "2020-07-21T00:00:00.000000000",
          "2020-07-22T00:00:00.000000000",
          "2020-07-23T00:00:00.000000000",
          "2020-07-24T00:00:00.000000000",
          "2020-07-27T00:00:00.000000000",
          "2020-07-28T00:00:00.000000000",
          "2020-07-29T00:00:00.000000000",
          "2020-07-30T00:00:00.000000000",
          "2020-07-31T00:00:00.000000000",
          "2020-08-03T00:00:00.000000000",
          "2020-08-04T00:00:00.000000000",
          "2020-08-05T00:00:00.000000000",
          "2020-08-06T00:00:00.000000000",
          "2020-08-07T00:00:00.000000000",
          "2020-08-10T00:00:00.000000000",
          "2020-08-11T00:00:00.000000000",
          "2020-08-12T00:00:00.000000000",
          "2020-08-13T00:00:00.000000000",
          "2020-08-14T00:00:00.000000000",
          "2020-08-17T00:00:00.000000000",
          "2020-08-18T00:00:00.000000000",
          "2020-08-19T00:00:00.000000000",
          "2020-08-20T00:00:00.000000000",
          "2020-08-21T00:00:00.000000000",
          "2020-08-24T00:00:00.000000000",
          "2020-08-25T00:00:00.000000000",
          "2020-08-26T00:00:00.000000000",
          "2020-08-27T00:00:00.000000000",
          "2020-08-28T00:00:00.000000000",
          "2020-08-31T00:00:00.000000000",
          "2020-09-01T00:00:00.000000000",
          "2020-09-02T00:00:00.000000000",
          "2020-09-03T00:00:00.000000000",
          "2020-09-04T00:00:00.000000000",
          "2020-09-08T00:00:00.000000000",
          "2020-09-09T00:00:00.000000000",
          "2020-09-10T00:00:00.000000000",
          "2020-09-11T00:00:00.000000000",
          "2020-09-14T00:00:00.000000000",
          "2020-09-15T00:00:00.000000000",
          "2020-09-16T00:00:00.000000000",
          "2020-09-17T00:00:00.000000000",
          "2020-09-18T00:00:00.000000000",
          "2020-09-21T00:00:00.000000000",
          "2020-09-22T00:00:00.000000000",
          "2020-09-23T00:00:00.000000000",
          "2020-09-24T00:00:00.000000000",
          "2020-09-25T00:00:00.000000000",
          "2020-09-28T00:00:00.000000000",
          "2020-09-29T00:00:00.000000000",
          "2020-09-30T00:00:00.000000000",
          "2020-10-01T00:00:00.000000000",
          "2020-10-02T00:00:00.000000000",
          "2020-10-05T00:00:00.000000000",
          "2020-10-06T00:00:00.000000000",
          "2020-10-07T00:00:00.000000000",
          "2020-10-08T00:00:00.000000000",
          "2020-10-09T00:00:00.000000000",
          "2020-10-12T00:00:00.000000000",
          "2020-10-13T00:00:00.000000000",
          "2020-10-14T00:00:00.000000000",
          "2020-10-15T00:00:00.000000000",
          "2020-10-16T00:00:00.000000000",
          "2020-10-19T00:00:00.000000000",
          "2020-10-20T00:00:00.000000000",
          "2020-10-21T00:00:00.000000000",
          "2020-10-22T00:00:00.000000000",
          "2020-10-23T00:00:00.000000000",
          "2020-10-26T00:00:00.000000000",
          "2020-10-27T00:00:00.000000000",
          "2020-10-28T00:00:00.000000000",
          "2020-10-29T00:00:00.000000000",
          "2020-10-30T00:00:00.000000000",
          "2020-11-02T00:00:00.000000000",
          "2020-11-03T00:00:00.000000000",
          "2020-11-04T00:00:00.000000000",
          "2020-11-05T00:00:00.000000000",
          "2020-11-06T00:00:00.000000000",
          "2020-11-09T00:00:00.000000000",
          "2020-11-10T00:00:00.000000000",
          "2020-11-11T00:00:00.000000000",
          "2020-11-12T00:00:00.000000000",
          "2020-11-13T00:00:00.000000000",
          "2020-11-16T00:00:00.000000000",
          "2020-11-17T00:00:00.000000000",
          "2020-11-18T00:00:00.000000000",
          "2020-11-19T00:00:00.000000000",
          "2020-11-20T00:00:00.000000000",
          "2020-11-23T00:00:00.000000000",
          "2020-11-24T00:00:00.000000000",
          "2020-11-25T00:00:00.000000000",
          "2020-11-27T00:00:00.000000000",
          "2020-11-30T00:00:00.000000000",
          "2020-12-01T00:00:00.000000000",
          "2020-12-02T00:00:00.000000000",
          "2020-12-03T00:00:00.000000000",
          "2020-12-04T00:00:00.000000000",
          "2020-12-07T00:00:00.000000000",
          "2020-12-08T00:00:00.000000000",
          "2020-12-09T00:00:00.000000000",
          "2020-12-10T00:00:00.000000000",
          "2020-12-11T00:00:00.000000000",
          "2020-12-14T00:00:00.000000000",
          "2020-12-15T00:00:00.000000000",
          "2020-12-16T00:00:00.000000000",
          "2020-12-17T00:00:00.000000000",
          "2020-12-18T00:00:00.000000000",
          "2020-12-21T00:00:00.000000000",
          "2020-12-22T00:00:00.000000000",
          "2020-12-23T00:00:00.000000000",
          "2020-12-24T00:00:00.000000000",
          "2020-12-28T00:00:00.000000000",
          "2020-12-29T00:00:00.000000000",
          "2020-12-30T00:00:00.000000000",
          "2020-12-31T00:00:00.000000000",
          "2021-01-04T00:00:00.000000000",
          "2021-01-05T00:00:00.000000000",
          "2021-01-06T00:00:00.000000000",
          "2021-01-07T00:00:00.000000000",
          "2021-01-08T00:00:00.000000000",
          "2021-01-11T00:00:00.000000000",
          "2021-01-12T00:00:00.000000000",
          "2021-01-13T00:00:00.000000000",
          "2021-01-14T00:00:00.000000000",
          "2021-01-15T00:00:00.000000000",
          "2021-01-19T00:00:00.000000000",
          "2021-01-20T00:00:00.000000000",
          "2021-01-21T00:00:00.000000000",
          "2021-01-22T00:00:00.000000000",
          "2021-01-25T00:00:00.000000000",
          "2021-01-26T00:00:00.000000000",
          "2021-01-27T00:00:00.000000000",
          "2021-01-28T00:00:00.000000000",
          "2021-01-29T00:00:00.000000000",
          "2021-02-01T00:00:00.000000000",
          "2021-02-02T00:00:00.000000000",
          "2021-02-03T00:00:00.000000000",
          "2021-02-04T00:00:00.000000000",
          "2021-02-05T00:00:00.000000000",
          "2021-02-08T00:00:00.000000000",
          "2021-02-09T00:00:00.000000000",
          "2021-02-10T00:00:00.000000000",
          "2021-02-11T00:00:00.000000000",
          "2021-02-12T00:00:00.000000000",
          "2021-02-16T00:00:00.000000000",
          "2021-02-17T00:00:00.000000000",
          "2021-02-18T00:00:00.000000000",
          "2021-02-19T00:00:00.000000000",
          "2021-02-22T00:00:00.000000000",
          "2021-02-23T00:00:00.000000000",
          "2021-02-24T00:00:00.000000000",
          "2021-02-25T00:00:00.000000000",
          "2021-02-26T00:00:00.000000000",
          "2021-03-01T00:00:00.000000000",
          "2021-03-02T00:00:00.000000000",
          "2021-03-03T00:00:00.000000000",
          "2021-03-04T00:00:00.000000000",
          "2021-03-05T00:00:00.000000000",
          "2021-03-08T00:00:00.000000000",
          "2021-03-09T00:00:00.000000000",
          "2021-03-10T00:00:00.000000000",
          "2021-03-11T00:00:00.000000000",
          "2021-03-12T00:00:00.000000000",
          "2021-03-15T00:00:00.000000000",
          "2021-03-16T00:00:00.000000000",
          "2021-03-17T00:00:00.000000000",
          "2021-03-18T00:00:00.000000000",
          "2021-03-19T00:00:00.000000000",
          "2021-03-22T00:00:00.000000000",
          "2021-03-23T00:00:00.000000000",
          "2021-03-24T00:00:00.000000000",
          "2021-03-25T00:00:00.000000000",
          "2021-03-26T00:00:00.000000000",
          "2021-03-29T00:00:00.000000000",
          "2021-03-30T00:00:00.000000000",
          "2021-03-31T00:00:00.000000000",
          "2021-04-01T00:00:00.000000000",
          "2021-04-05T00:00:00.000000000",
          "2021-04-06T00:00:00.000000000",
          "2021-04-07T00:00:00.000000000",
          "2021-04-08T00:00:00.000000000",
          "2021-04-09T00:00:00.000000000",
          "2021-04-12T00:00:00.000000000",
          "2021-04-13T00:00:00.000000000",
          "2021-04-14T00:00:00.000000000",
          "2021-04-15T00:00:00.000000000",
          "2021-04-16T00:00:00.000000000",
          "2021-04-19T00:00:00.000000000",
          "2021-04-20T00:00:00.000000000",
          "2021-04-21T00:00:00.000000000",
          "2021-04-22T00:00:00.000000000",
          "2021-04-23T00:00:00.000000000",
          "2021-04-26T00:00:00.000000000",
          "2021-04-27T00:00:00.000000000",
          "2021-04-28T00:00:00.000000000",
          "2021-04-29T00:00:00.000000000",
          "2021-04-30T00:00:00.000000000",
          "2021-05-03T00:00:00.000000000",
          "2021-05-04T00:00:00.000000000",
          "2021-05-05T00:00:00.000000000",
          "2021-05-06T00:00:00.000000000",
          "2021-05-07T00:00:00.000000000",
          "2021-05-10T00:00:00.000000000",
          "2021-05-11T00:00:00.000000000",
          "2021-05-12T00:00:00.000000000",
          "2021-05-13T00:00:00.000000000",
          "2021-05-14T00:00:00.000000000",
          "2021-05-17T00:00:00.000000000",
          "2021-05-18T00:00:00.000000000",
          "2021-05-19T00:00:00.000000000",
          "2021-05-20T00:00:00.000000000",
          "2021-05-21T00:00:00.000000000",
          "2021-05-24T00:00:00.000000000",
          "2021-05-25T00:00:00.000000000",
          "2021-05-26T00:00:00.000000000",
          "2021-05-27T00:00:00.000000000",
          "2021-05-28T00:00:00.000000000",
          "2021-06-01T00:00:00.000000000",
          "2021-06-02T00:00:00.000000000",
          "2021-06-03T00:00:00.000000000",
          "2021-06-04T00:00:00.000000000",
          "2021-06-07T00:00:00.000000000",
          "2021-06-08T00:00:00.000000000",
          "2021-06-09T00:00:00.000000000",
          "2021-06-10T00:00:00.000000000",
          "2021-06-11T00:00:00.000000000",
          "2021-06-14T00:00:00.000000000",
          "2021-06-15T00:00:00.000000000",
          "2021-06-16T00:00:00.000000000",
          "2021-06-17T00:00:00.000000000",
          "2021-06-18T00:00:00.000000000",
          "2021-06-21T00:00:00.000000000",
          "2021-06-22T00:00:00.000000000",
          "2021-06-23T00:00:00.000000000",
          "2021-06-24T00:00:00.000000000",
          "2021-06-25T00:00:00.000000000",
          "2021-06-28T00:00:00.000000000",
          "2021-06-29T00:00:00.000000000",
          "2021-06-30T00:00:00.000000000",
          "2021-07-01T00:00:00.000000000",
          "2021-07-02T00:00:00.000000000",
          "2021-07-06T00:00:00.000000000",
          "2021-07-07T00:00:00.000000000",
          "2021-07-08T00:00:00.000000000",
          "2021-07-09T00:00:00.000000000",
          "2021-07-12T00:00:00.000000000",
          "2021-07-13T00:00:00.000000000",
          "2021-07-14T00:00:00.000000000",
          "2021-07-15T00:00:00.000000000",
          "2021-07-16T00:00:00.000000000",
          "2021-07-19T00:00:00.000000000",
          "2021-07-20T00:00:00.000000000",
          "2021-07-21T00:00:00.000000000",
          "2021-07-22T00:00:00.000000000",
          "2021-07-23T00:00:00.000000000",
          "2021-07-26T00:00:00.000000000",
          "2021-07-27T00:00:00.000000000",
          "2021-07-28T00:00:00.000000000",
          "2021-07-29T00:00:00.000000000",
          "2021-07-30T00:00:00.000000000",
          "2021-08-02T00:00:00.000000000",
          "2021-08-03T00:00:00.000000000",
          "2021-08-04T00:00:00.000000000",
          "2021-08-05T00:00:00.000000000",
          "2021-08-06T00:00:00.000000000",
          "2021-08-09T00:00:00.000000000",
          "2021-08-10T00:00:00.000000000",
          "2021-08-11T00:00:00.000000000",
          "2021-08-12T00:00:00.000000000",
          "2021-08-13T00:00:00.000000000",
          "2021-08-16T00:00:00.000000000",
          "2021-08-17T00:00:00.000000000",
          "2021-08-18T00:00:00.000000000",
          "2021-08-19T00:00:00.000000000",
          "2021-08-20T00:00:00.000000000",
          "2021-08-23T00:00:00.000000000",
          "2021-08-24T00:00:00.000000000",
          "2021-08-25T00:00:00.000000000",
          "2021-08-26T00:00:00.000000000",
          "2021-08-27T00:00:00.000000000",
          "2021-08-30T00:00:00.000000000",
          "2021-08-31T00:00:00.000000000",
          "2021-09-01T00:00:00.000000000",
          "2021-09-02T00:00:00.000000000",
          "2021-09-03T00:00:00.000000000",
          "2021-09-07T00:00:00.000000000",
          "2021-09-08T00:00:00.000000000",
          "2021-09-09T00:00:00.000000000",
          "2021-09-10T00:00:00.000000000",
          "2021-09-13T00:00:00.000000000",
          "2021-09-14T00:00:00.000000000",
          "2021-09-15T00:00:00.000000000",
          "2021-09-16T00:00:00.000000000",
          "2021-09-17T00:00:00.000000000",
          "2021-09-20T00:00:00.000000000",
          "2021-09-21T00:00:00.000000000",
          "2021-09-22T00:00:00.000000000",
          "2021-09-23T00:00:00.000000000",
          "2021-09-24T00:00:00.000000000",
          "2021-09-27T00:00:00.000000000",
          "2021-09-28T00:00:00.000000000",
          "2021-09-29T00:00:00.000000000",
          "2021-09-30T00:00:00.000000000",
          "2021-10-01T00:00:00.000000000",
          "2021-10-04T00:00:00.000000000",
          "2021-10-05T00:00:00.000000000",
          "2021-10-06T00:00:00.000000000",
          "2021-10-07T00:00:00.000000000",
          "2021-10-08T00:00:00.000000000",
          "2021-10-11T00:00:00.000000000",
          "2021-10-12T00:00:00.000000000",
          "2021-10-13T00:00:00.000000000",
          "2021-10-14T00:00:00.000000000",
          "2021-10-15T00:00:00.000000000",
          "2021-10-18T00:00:00.000000000",
          "2021-10-19T00:00:00.000000000",
          "2021-10-20T00:00:00.000000000",
          "2021-10-21T00:00:00.000000000",
          "2021-10-22T00:00:00.000000000",
          "2021-10-25T00:00:00.000000000",
          "2021-10-26T00:00:00.000000000",
          "2021-10-27T00:00:00.000000000",
          "2021-10-28T00:00:00.000000000",
          "2021-10-29T00:00:00.000000000",
          "2021-11-01T00:00:00.000000000",
          "2021-11-02T00:00:00.000000000",
          "2021-11-03T00:00:00.000000000",
          "2021-11-04T00:00:00.000000000",
          "2021-11-05T00:00:00.000000000",
          "2021-11-08T00:00:00.000000000",
          "2021-11-09T00:00:00.000000000",
          "2021-11-10T00:00:00.000000000",
          "2021-11-11T00:00:00.000000000",
          "2021-11-12T00:00:00.000000000",
          "2021-11-15T00:00:00.000000000",
          "2021-11-16T00:00:00.000000000",
          "2021-11-17T00:00:00.000000000",
          "2021-11-18T00:00:00.000000000",
          "2021-11-19T00:00:00.000000000",
          "2021-11-22T00:00:00.000000000",
          "2021-11-23T00:00:00.000000000",
          "2021-11-24T00:00:00.000000000",
          "2021-11-26T00:00:00.000000000",
          "2021-11-29T00:00:00.000000000",
          "2021-11-30T00:00:00.000000000",
          "2021-12-01T00:00:00.000000000",
          "2021-12-02T00:00:00.000000000",
          "2021-12-03T00:00:00.000000000",
          "2021-12-06T00:00:00.000000000",
          "2021-12-07T00:00:00.000000000",
          "2021-12-08T00:00:00.000000000",
          "2021-12-09T00:00:00.000000000",
          "2021-12-10T00:00:00.000000000",
          "2021-12-13T00:00:00.000000000",
          "2021-12-14T00:00:00.000000000",
          "2021-12-15T00:00:00.000000000",
          "2021-12-16T00:00:00.000000000",
          "2021-12-17T00:00:00.000000000",
          "2021-12-20T00:00:00.000000000",
          "2021-12-21T00:00:00.000000000",
          "2021-12-22T00:00:00.000000000",
          "2021-12-23T00:00:00.000000000",
          "2021-12-27T00:00:00.000000000",
          "2021-12-28T00:00:00.000000000",
          "2021-12-29T00:00:00.000000000",
          "2021-12-30T00:00:00.000000000",
          "2021-12-31T00:00:00.000000000",
          "2022-01-03T00:00:00.000000000",
          "2022-01-04T00:00:00.000000000",
          "2022-01-05T00:00:00.000000000",
          "2022-01-06T00:00:00.000000000",
          "2022-01-07T00:00:00.000000000",
          "2022-01-10T00:00:00.000000000",
          "2022-01-11T00:00:00.000000000",
          "2022-01-12T00:00:00.000000000",
          "2022-01-13T00:00:00.000000000",
          "2022-01-14T00:00:00.000000000",
          "2022-01-18T00:00:00.000000000",
          "2022-01-19T00:00:00.000000000",
          "2022-01-20T00:00:00.000000000",
          "2022-01-21T00:00:00.000000000",
          "2022-01-24T00:00:00.000000000",
          "2022-01-25T00:00:00.000000000",
          "2022-01-26T00:00:00.000000000",
          "2022-01-27T00:00:00.000000000",
          "2022-01-28T00:00:00.000000000",
          "2022-01-31T00:00:00.000000000",
          "2022-02-01T00:00:00.000000000",
          "2022-02-02T00:00:00.000000000",
          "2022-02-03T00:00:00.000000000",
          "2022-02-04T00:00:00.000000000",
          "2022-02-07T00:00:00.000000000",
          "2022-02-08T00:00:00.000000000",
          "2022-02-09T00:00:00.000000000",
          "2022-02-10T00:00:00.000000000",
          "2022-02-11T00:00:00.000000000",
          "2022-02-14T00:00:00.000000000",
          "2022-02-15T00:00:00.000000000",
          "2022-02-16T00:00:00.000000000",
          "2022-02-17T00:00:00.000000000",
          "2022-02-18T00:00:00.000000000",
          "2022-02-22T00:00:00.000000000",
          "2022-02-23T00:00:00.000000000",
          "2022-02-24T00:00:00.000000000",
          "2022-02-25T00:00:00.000000000",
          "2022-02-28T00:00:00.000000000",
          "2022-03-01T00:00:00.000000000",
          "2022-03-02T00:00:00.000000000",
          "2022-03-03T00:00:00.000000000",
          "2022-03-04T00:00:00.000000000"
         ],
         "y": {
          "bdata": "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",
          "dtype": "f8"
         }
        },
        {
         "mode": "lines",
         "name": "Test",
         "type": "scatter",
         "x": [
          "2022-03-07T00:00:00.000000000",
          "2022-03-08T00:00:00.000000000",
          "2022-03-09T00:00:00.000000000",
          "2022-03-10T00:00:00.000000000",
          "2022-03-11T00:00:00.000000000",
          "2022-03-14T00:00:00.000000000",
          "2022-03-15T00:00:00.000000000",
          "2022-03-16T00:00:00.000000000",
          "2022-03-17T00:00:00.000000000",
          "2022-03-18T00:00:00.000000000",
          "2022-03-21T00:00:00.000000000",
          "2022-03-22T00:00:00.000000000",
          "2022-03-23T00:00:00.000000000",
          "2022-03-24T00:00:00.000000000",
          "2022-03-25T00:00:00.000000000",
          "2022-03-28T00:00:00.000000000",
          "2022-03-29T00:00:00.000000000",
          "2022-03-30T00:00:00.000000000",
          "2022-03-31T00:00:00.000000000",
          "2022-04-01T00:00:00.000000000",
          "2022-04-04T00:00:00.000000000",
          "2022-04-05T00:00:00.000000000",
          "2022-04-06T00:00:00.000000000",
          "2022-04-07T00:00:00.000000000",
          "2022-04-08T00:00:00.000000000",
          "2022-04-11T00:00:00.000000000",
          "2022-04-12T00:00:00.000000000",
          "2022-04-13T00:00:00.000000000",
          "2022-04-14T00:00:00.000000000",
          "2022-04-18T00:00:00.000000000",
          "2022-04-19T00:00:00.000000000",
          "2022-04-20T00:00:00.000000000",
          "2022-04-21T00:00:00.000000000",
          "2022-04-22T00:00:00.000000000",
          "2022-04-25T00:00:00.000000000",
          "2022-04-26T00:00:00.000000000",
          "2022-04-27T00:00:00.000000000",
          "2022-04-28T00:00:00.000000000",
          "2022-04-29T00:00:00.000000000",
          "2022-05-02T00:00:00.000000000",
          "2022-05-03T00:00:00.000000000",
          "2022-05-04T00:00:00.000000000",
          "2022-05-05T00:00:00.000000000",
          "2022-05-06T00:00:00.000000000",
          "2022-05-09T00:00:00.000000000",
          "2022-05-10T00:00:00.000000000",
          "2022-05-11T00:00:00.000000000",
          "2022-05-12T00:00:00.000000000",
          "2022-05-13T00:00:00.000000000",
          "2022-05-16T00:00:00.000000000",
          "2022-05-17T00:00:00.000000000",
          "2022-05-18T00:00:00.000000000",
          "2022-05-19T00:00:00.000000000",
          "2022-05-20T00:00:00.000000000",
          "2022-05-23T00:00:00.000000000",
          "2022-05-24T00:00:00.000000000",
          "2022-05-25T00:00:00.000000000",
          "2022-05-26T00:00:00.000000000",
          "2022-05-27T00:00:00.000000000",
          "2022-05-31T00:00:00.000000000",
          "2022-06-01T00:00:00.000000000",
          "2022-06-02T00:00:00.000000000",
          "2022-06-03T00:00:00.000000000",
          "2022-06-06T00:00:00.000000000",
          "2022-06-07T00:00:00.000000000",
          "2022-06-08T00:00:00.000000000",
          "2022-06-09T00:00:00.000000000",
          "2022-06-10T00:00:00.000000000",
          "2022-06-13T00:00:00.000000000",
          "2022-06-14T00:00:00.000000000",
          "2022-06-15T00:00:00.000000000",
          "2022-06-16T00:00:00.000000000",
          "2022-06-17T00:00:00.000000000",
          "2022-06-21T00:00:00.000000000",
          "2022-06-22T00:00:00.000000000",
          "2022-06-23T00:00:00.000000000",
          "2022-06-24T00:00:00.000000000",
          "2022-06-27T00:00:00.000000000",
          "2022-06-28T00:00:00.000000000",
          "2022-06-29T00:00:00.000000000",
          "2022-06-30T00:00:00.000000000",
          "2022-07-01T00:00:00.000000000",
          "2022-07-05T00:00:00.000000000",
          "2022-07-06T00:00:00.000000000",
          "2022-07-07T00:00:00.000000000",
          "2022-07-08T00:00:00.000000000",
          "2022-07-11T00:00:00.000000000",
          "2022-07-12T00:00:00.000000000",
          "2022-07-13T00:00:00.000000000",
          "2022-07-14T00:00:00.000000000",
          "2022-07-15T00:00:00.000000000",
          "2022-07-18T00:00:00.000000000",
          "2022-07-19T00:00:00.000000000",
          "2022-07-20T00:00:00.000000000",
          "2022-07-21T00:00:00.000000000",
          "2022-07-22T00:00:00.000000000",
          "2022-07-25T00:00:00.000000000",
          "2022-07-26T00:00:00.000000000",
          "2022-07-27T00:00:00.000000000",
          "2022-07-28T00:00:00.000000000"
         ],
         "y": {
          "bdata": "AAAAwMgwYkAAAADAS7thQAAAAGC6a2JAAAAAAFQjY0AAAADgpadjQAAAACAEKGRAAAAAYLovZEAAAADAcpxkQAAAAGAObWRAAAAAwMh0ZEAAAACAwJhkQAAAACCyH2VAAAAAgBQqZUAAAADAoclkQAAAAIDrX2RAAAAAgOtxZEAAAACAFgtlQAAAAIDCgWRAAAAAIDHYY0AAAACgGrljQAAAAGC8TmNAAAAAYOfjYkAAAABAM9liQAAAAOBPcWNAAAAAoJv2YkAAAADAHhljQAAAAMAeGWNAAAAAILLDY0AAAACg7z9jQAAAAOB4iWJAAAAAQDMLYkAAAABAXkJiQAAAACCDbGFAAAAAIFhFYUAAAACAFhNiQAAAACAEEl9AAAAAAAAgX0AAAABgORBfQAAAAIBse19AAAAAQAwaXUAAAACgcLFcQAAAAAB/MltAAAAA4Pk2W0AAAADgzldaQAAAAECNu1pAAAAAIIVDXEAAAABA37NbQAAAAICV11xAAAAAQDPHWkAAAACAatRaQAAAAADT5VpAAAAA4KXjWkAAAABgZgZaQAAAAKCZsVpAAAAAwPXEW0AAAABAYMlcQAAAAIBoDV5AAAAAgGgNXkAAAACgxmteQAAAAEC0YF9AAAAAYGaWXkAAAABgjzJfQAAAAAAAwF5AAAAAIIVLXkAAAACgmQldQAAAAKCZaVtAAAAAQOHqWUAAAAAA15NZQAAAAEDh6lpAAAAAgD3qWUAAAACAFI5aQAAAACCFK1tAAAAAIIUrW0AAAADAzDxbQAAAAAApHFxAAAAAoHAdXUAAAACAFE5cQAAAAKCZ2VpAAAAAQOE6W0AAAACgcI1aQAAAAADXY1tAAAAAAABgXEAAAAAAAGBcQAAAAMAelVxAAAAAwB4VXUAAAABgj+JcQAAAAAAA8FtAAAAAgBROW0AAAACgmZlbQAAAAOBRqFtAAAAAQDNjXEAAAADgo3BcQAAAAKBwjV1AAAAAoEexXkAAAADgUShfQAAAAEDhml5AAAAAwPVIXkAAAAAA17NcQAAAAIAUPl5AAAAAgOuRXkA=",
          "dtype": "f8"
         }
        },
        {
         "mode": "lines",
         "name": "Pronóstico Futuro Random Forest",
         "type": "scatter",
         "x": [
          "2022-07-28T00:00:00",
          "2022-07-29T00:00:00",
          "2022-07-30T00:00:00",
          "2022-07-31T00:00:00",
          "2022-08-01T00:00:00",
          "2022-08-02T00:00:00",
          "2022-08-03T00:00:00",
          "2022-08-04T00:00:00",
          "2022-08-05T00:00:00",
          "2022-08-06T00:00:00",
          "2022-08-07T00:00:00",
          "2022-08-08T00:00:00"
         ],
         "y": {
          "bdata": "aJAgVCKHXkCk1b/T2pBeQJtlddN0pF5AtrxS+cOvXkDu2RzExLZeQC2yfbwiuV5A48UyuBeuXkAMGLgAl7NeQO7ZHMTEtl5ALbJ9vCK5XkAtsn28IrleQC2yfbwiuV5A",
          "dtype": "f8"
         }
        }
       ],
       "layout": {
        "template": {
         "data": {
          "bar": [
           {
            "error_x": {
             "color": "#2a3f5f"
            },
            "error_y": {
             "color": "#2a3f5f"
            },
            "marker": {
             "line": {
              "color": "#E5ECF6",
              "width": 0.5
             },
             "pattern": {
              "fillmode": "overlay",
              "size": 10,
              "solidity": 0.2
             }
            },
            "type": "bar"
           }
          ],
          "barpolar": [
           {
            "marker": {
             "line": {
              "color": "#E5ECF6",
              "width": 0.5
             },
             "pattern": {
              "fillmode": "overlay",
              "size": 10,
              "solidity": 0.2
             }
            },
            "type": "barpolar"
           }
          ],
          "carpet": [
           {
            "aaxis": {
             "endlinecolor": "#2a3f5f",
             "gridcolor": "white",
             "linecolor": "white",
             "minorgridcolor": "white",
             "startlinecolor": "#2a3f5f"
            },
            "baxis": {
             "endlinecolor": "#2a3f5f",
             "gridcolor": "white",
             "linecolor": "white",
             "minorgridcolor": "white",
             "startlinecolor": "#2a3f5f"
            },
            "type": "carpet"
           }
          ],
          "choropleth": [
           {
            "colorbar": {
             "outlinewidth": 0,
             "ticks": ""
            },
            "type": "choropleth"
           }
          ],
          "contour": [
           {
            "colorbar": {
             "outlinewidth": 0,
             "ticks": ""
            },
            "colorscale": [
             [
              0,
              "#0d0887"
             ],
             [
              0.1111111111111111,
              "#46039f"
             ],
             [
              0.2222222222222222,
              "#7201a8"
             ],
             [
              0.3333333333333333,
              "#9c179e"
             ],
             [
              0.4444444444444444,
              "#bd3786"
             ],
             [
              0.5555555555555556,
              "#d8576b"
             ],
             [
              0.6666666666666666,
              "#ed7953"
             ],
             [
              0.7777777777777778,
              "#fb9f3a"
             ],
             [
              0.8888888888888888,
              "#fdca26"
             ],
             [
              1,
              "#f0f921"
             ]
            ],
            "type": "contour"
           }
          ],
          "contourcarpet": [
           {
            "colorbar": {
             "outlinewidth": 0,
             "ticks": ""
            },
            "type": "contourcarpet"
           }
          ],
          "heatmap": [
           {
            "colorbar": {
             "outlinewidth": 0,
             "ticks": ""
            },
            "colorscale": [
             [
              0,
              "#0d0887"
             ],
             [
              0.1111111111111111,
              "#46039f"
             ],
             [
              0.2222222222222222,
              "#7201a8"
             ],
             [
              0.3333333333333333,
              "#9c179e"
             ],
             [
              0.4444444444444444,
              "#bd3786"
             ],
             [
              0.5555555555555556,
              "#d8576b"
             ],
             [
              0.6666666666666666,
              "#ed7953"
             ],
             [
              0.7777777777777778,
              "#fb9f3a"
             ],
             [
              0.8888888888888888,
              "#fdca26"
             ],
             [
              1,
              "#f0f921"
             ]
            ],
            "type": "heatmap"
           }
          ],
          "histogram": [
           {
            "marker": {
             "pattern": {
              "fillmode": "overlay",
              "size": 10,
              "solidity": 0.2
             }
            },
            "type": "histogram"
           }
          ],
          "histogram2d": [
           {
            "colorbar": {
             "outlinewidth": 0,
             "ticks": ""
            },
            "colorscale": [
             [
              0,
              "#0d0887"
             ],
             [
              0.1111111111111111,
              "#46039f"
             ],
             [
              0.2222222222222222,
              "#7201a8"
             ],
             [
              0.3333333333333333,
              "#9c179e"
             ],
             [
              0.4444444444444444,
              "#bd3786"
             ],
             [
              0.5555555555555556,
              "#d8576b"
             ],
             [
              0.6666666666666666,
              "#ed7953"
             ],
             [
              0.7777777777777778,
              "#fb9f3a"
             ],
             [
              0.8888888888888888,
              "#fdca26"
             ],
             [
              1,
              "#f0f921"
             ]
            ],
            "type": "histogram2d"
           }
          ],
          "histogram2dcontour": [
           {
            "colorbar": {
             "outlinewidth": 0,
             "ticks": ""
            },
            "colorscale": [
             [
              0,
              "#0d0887"
             ],
             [
              0.1111111111111111,
              "#46039f"
             ],
             [
              0.2222222222222222,
              "#7201a8"
             ],
             [
              0.3333333333333333,
              "#9c179e"
             ],
             [
              0.4444444444444444,
              "#bd3786"
             ],
             [
              0.5555555555555556,
              "#d8576b"
             ],
             [
              0.6666666666666666,
              "#ed7953"
             ],
             [
              0.7777777777777778,
              "#fb9f3a"
             ],
             [
              0.8888888888888888,
              "#fdca26"
             ],
             [
              1,
              "#f0f921"
             ]
            ],
            "type": "histogram2dcontour"
           }
          ],
          "mesh3d": [
           {
            "colorbar": {
             "outlinewidth": 0,
             "ticks": ""
            },
            "type": "mesh3d"
           }
          ],
          "parcoords": [
           {
            "line": {
             "colorbar": {
              "outlinewidth": 0,
              "ticks": ""
             }
            },
            "type": "parcoords"
           }
          ],
          "pie": [
           {
            "automargin": true,
            "type": "pie"
           }
          ],
          "scatter": [
           {
            "fillpattern": {
             "fillmode": "overlay",
             "size": 10,
             "solidity": 0.2
            },
            "type": "scatter"
           }
          ],
          "scatter3d": [
           {
            "line": {
             "colorbar": {
              "outlinewidth": 0,
              "ticks": ""
             }
            },
            "marker": {
             "colorbar": {
              "outlinewidth": 0,
              "ticks": ""
             }
            },
            "type": "scatter3d"
           }
          ],
          "scattercarpet": [
           {
            "marker": {
             "colorbar": {
              "outlinewidth": 0,
              "ticks": ""
             }
            },
            "type": "scattercarpet"
           }
          ],
          "scattergeo": [
           {
            "marker": {
             "colorbar": {
              "outlinewidth": 0,
              "ticks": ""
             }
            },
            "type": "scattergeo"
           }
          ],
          "scattergl": [
           {
            "marker": {
             "colorbar": {
              "outlinewidth": 0,
              "ticks": ""
             }
            },
            "type": "scattergl"
           }
          ],
          "scattermap": [
           {
            "marker": {
             "colorbar": {
              "outlinewidth": 0,
              "ticks": ""
             }
            },
            "type": "scattermap"
           }
          ],
          "scattermapbox": [
           {
            "marker": {
             "colorbar": {
              "outlinewidth": 0,
              "ticks": ""
             }
            },
            "type": "scattermapbox"
           }
          ],
          "scatterpolar": [
           {
            "marker": {
             "colorbar": {
              "outlinewidth": 0,
              "ticks": ""
             }
            },
            "type": "scatterpolar"
           }
          ],
          "scatterpolargl": [
           {
            "marker": {
             "colorbar": {
              "outlinewidth": 0,
              "ticks": ""
             }
            },
            "type": "scatterpolargl"
           }
          ],
          "scatterternary": [
           {
            "marker": {
             "colorbar": {
              "outlinewidth": 0,
              "ticks": ""
             }
            },
            "type": "scatterternary"
           }
          ],
          "surface": [
           {
            "colorbar": {
             "outlinewidth": 0,
             "ticks": ""
            },
            "colorscale": [
             [
              0,
              "#0d0887"
             ],
             [
              0.1111111111111111,
              "#46039f"
             ],
             [
              0.2222222222222222,
              "#7201a8"
             ],
             [
              0.3333333333333333,
              "#9c179e"
             ],
             [
              0.4444444444444444,
              "#bd3786"
             ],
             [
              0.5555555555555556,
              "#d8576b"
             ],
             [
              0.6666666666666666,
              "#ed7953"
             ],
             [
              0.7777777777777778,
              "#fb9f3a"
             ],
             [
              0.8888888888888888,
              "#fdca26"
             ],
             [
              1,
              "#f0f921"
             ]
            ],
            "type": "surface"
           }
          ],
          "table": [
           {
            "cells": {
             "fill": {
              "color": "#EBF0F8"
             },
             "line": {
              "color": "white"
             }
            },
            "header": {
             "fill": {
              "color": "#C8D4E3"
             },
             "line": {
              "color": "white"
             }
            },
            "type": "table"
           }
          ]
         },
         "layout": {
          "annotationdefaults": {
           "arrowcolor": "#2a3f5f",
           "arrowhead": 0,
           "arrowwidth": 1
          },
          "autotypenumbers": "strict",
          "coloraxis": {
           "colorbar": {
            "outlinewidth": 0,
            "ticks": ""
           }
          },
          "colorscale": {
           "diverging": [
            [
             0,
             "#8e0152"
            ],
            [
             0.1,
             "#c51b7d"
            ],
            [
             0.2,
             "#de77ae"
            ],
            [
             0.3,
             "#f1b6da"
            ],
            [
             0.4,
             "#fde0ef"
            ],
            [
             0.5,
             "#f7f7f7"
            ],
            [
             0.6,
             "#e6f5d0"
            ],
            [
             0.7,
             "#b8e186"
            ],
            [
             0.8,
             "#7fbc41"
            ],
            [
             0.9,
             "#4d9221"
            ],
            [
             1,
             "#276419"
            ]
           ],
           "sequential": [
            [
             0,
             "#0d0887"
            ],
            [
             0.1111111111111111,
             "#46039f"
            ],
            [
             0.2222222222222222,
             "#7201a8"
            ],
            [
             0.3333333333333333,
             "#9c179e"
            ],
            [
             0.4444444444444444,
             "#bd3786"
            ],
            [
             0.5555555555555556,
             "#d8576b"
            ],
            [
             0.6666666666666666,
             "#ed7953"
            ],
            [
             0.7777777777777778,
             "#fb9f3a"
            ],
            [
             0.8888888888888888,
             "#fdca26"
            ],
            [
             1,
             "#f0f921"
            ]
           ],
           "sequentialminus": [
            [
             0,
             "#0d0887"
            ],
            [
             0.1111111111111111,
             "#46039f"
            ],
            [
             0.2222222222222222,
             "#7201a8"
            ],
            [
             0.3333333333333333,
             "#9c179e"
            ],
            [
             0.4444444444444444,
             "#bd3786"
            ],
            [
             0.5555555555555556,
             "#d8576b"
            ],
            [
             0.6666666666666666,
             "#ed7953"
            ],
            [
             0.7777777777777778,
             "#fb9f3a"
            ],
            [
             0.8888888888888888,
             "#fdca26"
            ],
            [
             1,
             "#f0f921"
            ]
           ]
          },
          "colorway": [
           "#636efa",
           "#EF553B",
           "#00cc96",
           "#ab63fa",
           "#FFA15A",
           "#19d3f3",
           "#FF6692",
           "#B6E880",
           "#FF97FF",
           "#FECB52"
          ],
          "font": {
           "color": "#2a3f5f"
          },
          "geo": {
           "bgcolor": "white",
           "lakecolor": "white",
           "landcolor": "#E5ECF6",
           "showlakes": true,
           "showland": true,
           "subunitcolor": "white"
          },
          "hoverlabel": {
           "align": "left"
          },
          "hovermode": "closest",
          "mapbox": {
           "style": "light"
          },
          "paper_bgcolor": "white",
          "plot_bgcolor": "#E5ECF6",
          "polar": {
           "angularaxis": {
            "gridcolor": "white",
            "linecolor": "white",
            "ticks": ""
           },
           "bgcolor": "#E5ECF6",
           "radialaxis": {
            "gridcolor": "white",
            "linecolor": "white",
            "ticks": ""
           }
          },
          "scene": {
           "xaxis": {
            "backgroundcolor": "#E5ECF6",
            "gridcolor": "white",
            "gridwidth": 2,
            "linecolor": "white",
            "showbackground": true,
            "ticks": "",
            "zerolinecolor": "white"
           },
           "yaxis": {
            "backgroundcolor": "#E5ECF6",
            "gridcolor": "white",
            "gridwidth": 2,
            "linecolor": "white",
            "showbackground": true,
            "ticks": "",
            "zerolinecolor": "white"
           },
           "zaxis": {
            "backgroundcolor": "#E5ECF6",
            "gridcolor": "white",
            "gridwidth": 2,
            "linecolor": "white",
            "showbackground": true,
            "ticks": "",
            "zerolinecolor": "white"
           }
          },
          "shapedefaults": {
           "line": {
            "color": "#2a3f5f"
           }
          },
          "ternary": {
           "aaxis": {
            "gridcolor": "white",
            "linecolor": "white",
            "ticks": ""
           },
           "baxis": {
            "gridcolor": "white",
            "linecolor": "white",
            "ticks": ""
           },
           "bgcolor": "#E5ECF6",
           "caxis": {
            "gridcolor": "white",
            "linecolor": "white",
            "ticks": ""
           }
          },
          "title": {
           "x": 0.05
          },
          "xaxis": {
           "automargin": true,
           "gridcolor": "white",
           "linecolor": "white",
           "ticks": "",
           "title": {
            "standoff": 15
           },
           "zerolinecolor": "white",
           "zerolinewidth": 2
          },
          "yaxis": {
           "automargin": true,
           "gridcolor": "white",
           "linecolor": "white",
           "ticks": "",
           "title": {
            "standoff": 15
           },
           "zerolinecolor": "white",
           "zerolinewidth": 2
          }
         }
        },
        "title": {
         "text": "AMZN"
        },
        "xaxis": {
         "title": {
          "text": "Date"
         }
        },
        "yaxis": {
         "title": {
          "text": "Close"
         }
        }
       }
      }
     },
     "metadata": {},
     "output_type": "display_data"
    }
   ],
   "source": [
    "## Graficamos la serie anterior, aunando el valor del pronóstico.\n",
    "\n",
    "trace3 = go.Scatter(\n",
    "    x = date_test,\n",
    "    y = data_test['y'],\n",
    "    mode = 'lines',\n",
    "    name = 'Test'\n",
    ")\n",
    "\n",
    "trace4 = go.Scatter(\n",
    "    x = fwd_dates,\n",
    "    y = predictions,\n",
    "    mode = 'lines',\n",
    "    name = 'Pronóstico Futuro Random Forest'\n",
    ")\n",
    "\n",
    "trace1 = go.Scatter(\n",
    "    x = date_train,\n",
    "    y = data_train['y'],\n",
    "    mode = 'lines',\n",
    "    name = 'Train'\n",
    "    )\n",
    "\n",
    "layout = go.Layout(\n",
    "    title = \"AMZN\",\n",
    "    xaxis = {'title' : \"Date\"},\n",
    "    yaxis = {'title' : \"Close\"}\n",
    ")\n",
    "fig = go.Figure(data=[trace1, trace3, trace4], layout=layout)\n",
    "fig.show()"
   ]
  },
  {
   "cell_type": "markdown",
   "metadata": {},
   "source": [
    "En este tutorial aprendiste un proceso para la generación de pronósticos futuros de una serie financiera mediante modelos de ensamble tipo Random Forest. En el proceso, reiteramos la importancia de transformar los datos de una serie de tiempo en una estructura de datos que permiten generar secuencias de entrenamiento y pronóstico de la serie con base en datos históricos. Este proceso se debe hacer especialmente cuando deseamos generar un pronóstico hacia adelante en series de tiempo. Dicho proceso es muy similar al que se emplea cuando aplicamos un problema supervisado tal como una regresión lineal o modelos regresivos, donde se generan los retrasos o lags de la serie y cuyos features ingresan al modelo de regresión. En este caso, se crea una estructura en la cual se puede emplear para entrenar un modelo de ensamble cuyo proceso puede ser tedioso. Para ello, existen funciones que ayudan es esa tarea, en el caso particular de este tutorial, empleamos la función de Forecaster Autoregressor que crea la estructura de datos y aplica el modelo de Random Forest con los parámetros suministrados. Una vez obtenido el modelo se genera el pronóstico futuro especificando la serie a emplear."
   ]
  },
  {
   "cell_type": "markdown",
   "metadata": {},
   "source": [
    "**Referencia:**\n",
    "\n",
    " Este tutorial emplea la función ForecasterAutoreg de la paquetería skforecast (https://pypi.org/project/skforecast/). \n",
    " \n",
    " Ceballos, F. 2019. Stacking classifiers for higher predictive performance. Towards Data Science. Retrieved from: https://towardsdatascience.com/stacking-classifiers-for-higher-predictive-performance-566f963e4840 "
   ]
  }
 ],
 "metadata": {
  "kaggle": {
   "accelerator": "none",
   "dataSources": [],
   "dockerImageVersionId": 30698,
   "isGpuEnabled": false,
   "isInternetEnabled": true,
   "language": "python",
   "sourceType": "notebook"
  },
  "kernelspec": {
   "display_name": "tmenv",
   "language": "python",
   "name": "python3"
  },
  "language_info": {
   "codemirror_mode": {
    "name": "ipython",
    "version": 3
   },
   "file_extension": ".py",
   "mimetype": "text/x-python",
   "name": "python",
   "nbconvert_exporter": "python",
   "pygments_lexer": "ipython3",
   "version": "3.10.11"
  }
 },
 "nbformat": 4,
 "nbformat_minor": 4
}
