{
 "cells": [
  {
   "cell_type": "markdown",
   "id": "69ff998f",
   "metadata": {},
   "source": [
    "## Exploración de los datos para su entendimiento.\n"
   ]
  },
  {
   "cell_type": "code",
   "execution_count": 1,
   "id": "e5cbb307",
   "metadata": {},
   "outputs": [],
   "source": [
    "#pip install medmnist\n",
    "#pip install tensorflow\n"
   ]
  },
  {
   "cell_type": "code",
   "execution_count": 1,
   "id": "89f8a8ba",
   "metadata": {},
   "outputs": [
    {
     "name": "stdout",
     "output_type": "stream",
     "text": [
      "Forma del set de entrenamiento: (4708, 28, 28)\n",
      "Número de clases: 2\n",
      "Etiquetas: {'0': 'normal', '1': 'pneumonia'}\n"
     ]
    },
    {
     "data": {
      "image/png": "[encoded data removed]",
      "text/plain": [
       "<Figure size 1200x200 with 6 Axes>"
      ]
     },
     "metadata": {},
     "output_type": "display_data"
    },
    {
     "name": "stdout",
     "output_type": "stream",
     "text": [
      "Número total de imágenes (train+test+val): 5856\n",
      "Cantidad por clase:\n",
      "  Clase 1 (pneumonia): 4273\n",
      "  Clase 0 (normal): 1583\n"
     ]
    }
   ],
   "source": [
    "\n",
    "import ssl\n",
    "ssl._create_default_https_context = ssl._create_unverified_context\n",
    "\n",
    "import medmnist\n",
    "from medmnist import INFO, Evaluator\n",
    "from medmnist import PneumoniaMNIST\n",
    "\n",
    "import numpy as np\n",
    "import matplotlib.pyplot as plt\n",
    "import tensorflow as tf\n",
    "from tensorflow.keras.utils import to_categorical\n",
    "import collections\n",
    "\n",
    "# Seleccionamos el dataset\n",
    "data_flag = 'pneumoniamnist'\n",
    "download = True\n",
    "\n",
    "# Obtenemos información del dataset\n",
    "info = INFO[data_flag]\n",
    "DataClass = getattr(medmnist, info['python_class'])\n",
    "\n",
    "# Cargar datos\n",
    "train_dataset = DataClass(split='train', download=download)\n",
    "test_dataset = DataClass(split='test', download=download)\n",
    "val_dataset = DataClass(split='val', download=download)\n",
    "\n",
    "print(f\"Forma del set de entrenamiento: {train_dataset.imgs.shape}\")\n",
    "print(f\"Número de clases: {len(info['label'])}\")\n",
    "print(f\"Etiquetas: {info['label']}\")\n",
    "\n",
    "# Mostrar algunas imágenes\n",
    "fig, axes = plt.subplots(1, 6, figsize=(12, 2))\n",
    "for i in range(6):\n",
    "    axes[i].imshow(train_dataset.imgs[i].squeeze(), cmap='gray')\n",
    "    axes[i].set_title(f\"Label: {train_dataset.labels[i][0]}\")\n",
    "    axes[i].axis('off')\n",
    "plt.show()\n",
    "\n",
    "# Contar cantidad de cada clase en los datasets\n",
    "labels_train = train_dataset.labels.flatten()\n",
    "labels_test = test_dataset.labels.flatten()\n",
    "labels_val = val_dataset.labels.flatten()\n",
    "\n",
    "all_labels = np.concatenate([labels_train, labels_test, labels_val])\n",
    "counts = collections.Counter(all_labels)\n",
    "\n",
    "print(f\"Número total de imágenes (train+test+val): {len(all_labels)}\")\n",
    "print(\"Cantidad por clase:\")\n",
    "for label, count in counts.items():\n",
    "    print(f\"  Clase {label} ({info['label'][str(label)]}): {count}\")\n"
   ]
  },
  {
   "cell_type": "markdown",
   "id": "06a46bbe",
   "metadata": {},
   "source": [
    "## Preparación de los datos para poder utilizarlos como entrada en modelos de deep learning.\n"
   ]
  },
  {
   "cell_type": "code",
   "execution_count": 2,
   "id": "60261e62",
   "metadata": {},
   "outputs": [
    {
     "name": "stdout",
     "output_type": "stream",
     "text": [
      "x_train: (4708, 28, 28, 1)\n",
      "y_train: (4708, 2)\n"
     ]
    }
   ],
   "source": [
    "# Convertir imágenes a float32 y normalizar\n",
    "x_train = train_dataset.imgs.astype('float32') / 255.0\n",
    "x_test = test_dataset.imgs.astype('float32') / 255.0\n",
    "x_val = val_dataset.imgs.astype('float32') / 255.0\n",
    "\n",
    "# Expandir dimensión de canal (por si es necesario para conv2D)\n",
    "x_train = np.expand_dims(x_train, -1)\n",
    "x_test = np.expand_dims(x_test, -1)\n",
    "x_val = np.expand_dims(x_val, -1)\n",
    "\n",
    "# Convertir etiquetas a categóricas (one-hot encoding)\n",
    "y_train = to_categorical(train_dataset.labels, num_classes=2)\n",
    "y_test = to_categorical(test_dataset.labels, num_classes=2)\n",
    "y_val = to_categorical(val_dataset.labels, num_classes=2)\n",
    "\n",
    "print(\"x_train:\", x_train.shape)\n",
    "print(\"y_train:\", y_train.shape)\n"
   ]
  },
  {
   "cell_type": "markdown",
   "id": "78241588",
   "metadata": {},
   "source": [
    "## Análisis sobre la selección del modelo de deep learning apropiado y la estrategia de estimación y calibración.\n",
    "\n",
    "Un ejemplo de modelo usando transfer learnning: Usamos red EfficientNetB0 como base para modelo y adicionamos una capa de dropout y la capa de salida para la prediccion."
   ]
  },
  {
   "cell_type": "code",
   "execution_count": 3,
   "id": "12215b22",
   "metadata": {},
   "outputs": [
    {
     "name": "stdout",
     "output_type": "stream",
     "text": [
      "x_train_rgb shape: (4708, 32, 32, 3)\n"
     ]
    },
    {
     "data": {
      "text/html": [
       "<pre style=\"white-space:pre;overflow-x:auto;line-height:normal;font-family:Menlo,'DejaVu Sans Mono',consolas,'Courier New',monospace\"><span style=\"font-weight: bold\">Model: \"functional\"</span>\n",
       "</pre>\n"
      ],
      "text/plain": [
       "\u001b[1mModel: \"functional\"\u001b[0m\n"
      ]
     },
     "metadata": {},
     "output_type": "display_data"
    },
    {
     "data": {
      "text/html": [
       "<pre style=\"white-space:pre;overflow-x:auto;line-height:normal;font-family:Menlo,'DejaVu Sans Mono',consolas,'Courier New',monospace\">┏━━━━━━━━━━━━━━━━━━━━━━━━━━━━━━━━━┳━━━━━━━━━━━━━━━━━━━━━━━━┳━━━━━━━━━━━━━━━┓\n",
       "┃<span style=\"font-weight: bold\"> Layer (type)                    </span>┃<span style=\"font-weight: bold\"> Output Shape           </span>┃<span style=\"font-weight: bold\">       Param # </span>┃\n",
       "┡━━━━━━━━━━━━━━━━━━━━━━━━━━━━━━━━━╇━━━━━━━━━━━━━━━━━━━━━━━━╇━━━━━━━━━━━━━━━┩\n",
       "│ input_layer_1 (<span style=\"color: #0087ff; text-decoration-color: #0087ff\">InputLayer</span>)      │ (<span style=\"color: #00d7ff; text-decoration-color: #00d7ff\">None</span>, <span style=\"color: #00af00; text-decoration-color: #00af00\">32</span>, <span style=\"color: #00af00; text-decoration-color: #00af00\">32</span>, <span style=\"color: #00af00; text-decoration-color: #00af00\">3</span>)      │             <span style=\"color: #00af00; text-decoration-color: #00af00\">0</span> │\n",
       "├─────────────────────────────────┼────────────────────────┼───────────────┤\n",
       "│ efficientnetb0 (<span style=\"color: #0087ff; text-decoration-color: #0087ff\">Functional</span>)     │ (<span style=\"color: #00d7ff; text-decoration-color: #00d7ff\">None</span>, <span style=\"color: #00af00; text-decoration-color: #00af00\">1280</span>)           │     <span style=\"color: #00af00; text-decoration-color: #00af00\">4,049,571</span> │\n",
       "├─────────────────────────────────┼────────────────────────┼───────────────┤\n",
       "│ dropout (<span style=\"color: #0087ff; text-decoration-color: #0087ff\">Dropout</span>)               │ (<span style=\"color: #00d7ff; text-decoration-color: #00d7ff\">None</span>, <span style=\"color: #00af00; text-decoration-color: #00af00\">1280</span>)           │             <span style=\"color: #00af00; text-decoration-color: #00af00\">0</span> │\n",
       "├─────────────────────────────────┼────────────────────────┼───────────────┤\n",
       "│ dense (<span style=\"color: #0087ff; text-decoration-color: #0087ff\">Dense</span>)                   │ (<span style=\"color: #00d7ff; text-decoration-color: #00d7ff\">None</span>, <span style=\"color: #00af00; text-decoration-color: #00af00\">2</span>)              │         <span style=\"color: #00af00; text-decoration-color: #00af00\">2,562</span> │\n",
       "└─────────────────────────────────┴────────────────────────┴───────────────┘\n",
       "</pre>\n"
      ],
      "text/plain": [
       "┏━━━━━━━━━━━━━━━━━━━━━━━━━━━━━━━━━┳━━━━━━━━━━━━━━━━━━━━━━━━┳━━━━━━━━━━━━━━━┓\n",
       "┃\u001b[1m \u001b[0m\u001b[1mLayer (type)                   \u001b[0m\u001b[1m \u001b[0m┃\u001b[1m \u001b[0m\u001b[1mOutput Shape          \u001b[0m\u001b[1m \u001b[0m┃\u001b[1m \u001b[0m\u001b[1m      Param #\u001b[0m\u001b[1m \u001b[0m┃\n",
       "┡━━━━━━━━━━━━━━━━━━━━━━━━━━━━━━━━━╇━━━━━━━━━━━━━━━━━━━━━━━━╇━━━━━━━━━━━━━━━┩\n",
       "│ input_layer_1 (\u001b[38;5;33mInputLayer\u001b[0m)      │ (\u001b[38;5;45mNone\u001b[0m, \u001b[38;5;34m32\u001b[0m, \u001b[38;5;34m32\u001b[0m, \u001b[38;5;34m3\u001b[0m)      │             \u001b[38;5;34m0\u001b[0m │\n",
       "├─────────────────────────────────┼────────────────────────┼───────────────┤\n",
       "│ efficientnetb0 (\u001b[38;5;33mFunctional\u001b[0m)     │ (\u001b[38;5;45mNone\u001b[0m, \u001b[38;5;34m1280\u001b[0m)           │     \u001b[38;5;34m4,049,571\u001b[0m │\n",
       "├─────────────────────────────────┼────────────────────────┼───────────────┤\n",
       "│ dropout (\u001b[38;5;33mDropout\u001b[0m)               │ (\u001b[38;5;45mNone\u001b[0m, \u001b[38;5;34m1280\u001b[0m)           │             \u001b[38;5;34m0\u001b[0m │\n",
       "├─────────────────────────────────┼────────────────────────┼───────────────┤\n",
       "│ dense (\u001b[38;5;33mDense\u001b[0m)                   │ (\u001b[38;5;45mNone\u001b[0m, \u001b[38;5;34m2\u001b[0m)              │         \u001b[38;5;34m2,562\u001b[0m │\n",
       "└─────────────────────────────────┴────────────────────────┴───────────────┘\n"
      ]
     },
     "metadata": {},
     "output_type": "display_data"
    },
    {
     "data": {
      "text/html": [
       "<pre style=\"white-space:pre;overflow-x:auto;line-height:normal;font-family:Menlo,'DejaVu Sans Mono',consolas,'Courier New',monospace\"><span style=\"font-weight: bold\"> Total params: </span><span style=\"color: #00af00; text-decoration-color: #00af00\">4,052,133</span> (15.46 MB)\n",
       "</pre>\n"
      ],
      "text/plain": [
       "\u001b[1m Total params: \u001b[0m\u001b[38;5;34m4,052,133\u001b[0m (15.46 MB)\n"
      ]
     },
     "metadata": {},
     "output_type": "display_data"
    },
    {
     "data": {
      "text/html": [
       "<pre style=\"white-space:pre;overflow-x:auto;line-height:normal;font-family:Menlo,'DejaVu Sans Mono',consolas,'Courier New',monospace\"><span style=\"font-weight: bold\"> Trainable params: </span><span style=\"color: #00af00; text-decoration-color: #00af00\">2,562</span> (10.01 KB)\n",
       "</pre>\n"
      ],
      "text/plain": [
       "\u001b[1m Trainable params: \u001b[0m\u001b[38;5;34m2,562\u001b[0m (10.01 KB)\n"
      ]
     },
     "metadata": {},
     "output_type": "display_data"
    },
    {
     "data": {
      "text/html": [
       "<pre style=\"white-space:pre;overflow-x:auto;line-height:normal;font-family:Menlo,'DejaVu Sans Mono',consolas,'Courier New',monospace\"><span style=\"font-weight: bold\"> Non-trainable params: </span><span style=\"color: #00af00; text-decoration-color: #00af00\">4,049,571</span> (15.45 MB)\n",
       "</pre>\n"
      ],
      "text/plain": [
       "\u001b[1m Non-trainable params: \u001b[0m\u001b[38;5;34m4,049,571\u001b[0m (15.45 MB)\n"
      ]
     },
     "metadata": {},
     "output_type": "display_data"
    }
   ],
   "source": [
    "from tensorflow.keras.applications import EfficientNetB0\n",
    "from tensorflow.keras.layers import Dense, Dropout, GlobalAveragePooling2D, Input\n",
    "from tensorflow.keras.models import Model\n",
    "import tensorflow as tf\n",
    "\n",
    "# Función para convertir imágenes grayscale a RGB\n",
    "def to_rgb(images):\n",
    "    return np.repeat(images, 3, axis=-1)\n",
    "\n",
    "# Redimensionar imágenes a 32x32 para EfficientNetB0\n",
    "def resize_images(images, size=(32,32)):\n",
    "    images_resized = tf.image.resize(images, size).numpy()\n",
    "    return images_resized\n",
    "\n",
    "# Convertir a RGB\n",
    "x_train_rgb = to_rgb(x_train)\n",
    "x_val_rgb = to_rgb(x_val)\n",
    "x_test_rgb = to_rgb(x_test)\n",
    "\n",
    "# Redimensionar a 32x32\n",
    "x_train_rgb = resize_images(x_train_rgb, (32,32))\n",
    "x_val_rgb = resize_images(x_val_rgb, (32,32))\n",
    "x_test_rgb = resize_images(x_test_rgb, (32,32))\n",
    "\n",
    "print(\"x_train_rgb shape:\", x_train_rgb.shape)\n",
    "\n",
    "# Definir modelo EfficientNetB0 preentrenado\n",
    "base_model = EfficientNetB0(include_top=False, input_shape=(32,32,3), weights='imagenet', pooling='avg')\n",
    "base_model.trainable = False  # Congelar base para transfer learning inicial\n",
    "\n",
    "inputs = Input(shape=(32,32,3))\n",
    "x = base_model(inputs, training=False)\n",
    "x = Dropout(0.3)(x)\n",
    "outputs = Dense(2, activation='softmax')(x)\n",
    "\n",
    "model = Model(inputs, outputs)\n",
    "\n",
    "model.compile(optimizer='adam', loss='categorical_crossentropy', metrics=['accuracy'])\n",
    "\n",
    "model.summary()"
   ]
  },
  {
   "cell_type": "markdown",
   "id": "6e373e07",
   "metadata": {},
   "source": [
    "Entrenar modelo"
   ]
  },
  {
   "cell_type": "code",
   "execution_count": null,
   "id": "91557fac",
   "metadata": {},
   "outputs": [
    {
     "name": "stdout",
     "output_type": "stream",
     "text": [
      "Epoch 1/5\n",
      "\u001b[1m148/148\u001b[0m \u001b[32m━━━━━━━━━━━━━━━━━━━━\u001b[0m\u001b[37m\u001b[0m \u001b[1m6s\u001b[0m 21ms/step - accuracy: 0.7196 - loss: 0.5954 - val_accuracy: 0.7424 - val_loss: 0.5730\n",
      "Epoch 2/5\n",
      "\u001b[1m148/148\u001b[0m \u001b[32m━━━━━━━━━━━━━━━━━━━━\u001b[0m\u001b[37m\u001b[0m \u001b[1m2s\u001b[0m 15ms/step - accuracy: 0.7474 - loss: 0.5778 - val_accuracy: 0.7424 - val_loss: 0.5854\n",
      "Epoch 3/5\n",
      "\u001b[1m148/148\u001b[0m \u001b[32m━━━━━━━━━━━━━━━━━━━━\u001b[0m\u001b[37m\u001b[0m \u001b[1m2s\u001b[0m 16ms/step - accuracy: 0.7382 - loss: 0.5859 - val_accuracy: 0.7424 - val_loss: 0.5698\n",
      "Epoch 4/5\n",
      "\u001b[1m148/148\u001b[0m \u001b[32m━━━━━━━━━━━━━━━━━━━━\u001b[0m\u001b[37m\u001b[0m \u001b[1m2s\u001b[0m 16ms/step - accuracy: 0.7301 - loss: 0.5951 - val_accuracy: 0.7424 - val_loss: 0.5716\n",
      "Epoch 5/5\n",
      "\u001b[1m148/148\u001b[0m \u001b[32m━━━━━━━━━━━━━━━━━━━━\u001b[0m\u001b[37m\u001b[0m \u001b[1m2s\u001b[0m 16ms/step - accuracy: 0.7406 - loss: 0.5830 - val_accuracy: 0.7424 - val_loss: 0.5767\n"
     ]
    }
   ],
   "source": [
    "history = model.fit(x_train_rgb, y_train, validation_data=(x_val_rgb, y_val), epochs=5, batch_size=32)\n"
   ]
  },
  {
   "cell_type": "markdown",
   "id": "d620c925",
   "metadata": {},
   "source": [
    "**Predicciones**"
   ]
  },
  {
   "cell_type": "code",
   "execution_count": 6,
   "id": "317fa177",
   "metadata": {},
   "outputs": [
    {
     "name": "stdout",
     "output_type": "stream",
     "text": [
      "\u001b[1m20/20\u001b[0m \u001b[32m━━━━━━━━━━━━━━━━━━━━\u001b[0m\u001b[37m\u001b[0m \u001b[1m1s\u001b[0m 46ms/step\n",
      "Accuracy en test: 0.6250\n"
     ]
    },
    {
     "data": {
      "image/png": "[encoded data removed]",
      "text/plain": [
       "<Figure size 1500x300 with 6 Axes>"
      ]
     },
     "metadata": {},
     "output_type": "display_data"
    }
   ],
   "source": [
    "import numpy as np\n",
    "import matplotlib.pyplot as plt\n",
    "\n",
    "# Obtener predicciones (probabilidades)\n",
    "y_pred_probs = model.predict(x_test_rgb)\n",
    "\n",
    "# Convertir probabilidades a etiquetas (clase con máxima probabilidad)\n",
    "y_pred = np.argmax(y_pred_probs, axis=1)\n",
    "\n",
    "# Etiquetas reales (no one-hot)\n",
    "y_true = np.argmax(y_test, axis=1)\n",
    "\n",
    "# Calcular accuracy simple en test\n",
    "accuracy = np.mean(y_pred == y_true)\n",
    "print(f\"Accuracy en test: {accuracy:.4f}\")\n",
    "\n",
    "# Mostrar algunas imágenes con predicción y etiqueta real\n",
    "num_to_show = 6\n",
    "fig, axes = plt.subplots(1, num_to_show, figsize=(15,3))\n",
    "\n",
    "for i in range(num_to_show):\n",
    "    axes[i].imshow(x_test_rgb[i])\n",
    "    axes[i].axis('off')\n",
    "    axes[i].set_title(f\"Real: {y_true[i]}\\nPred: {y_pred[i]}\")\n",
    "\n",
    "plt.show()\n"
   ]
  },
  {
   "cell_type": "code",
   "execution_count": null,
   "id": "ce215e9d",
   "metadata": {},
   "outputs": [],
   "source": []
  }
 ],
 "metadata": {
  "kernelspec": {
   "display_name": "tmenv",
   "language": "python",
   "name": "python3"
  },
  "language_info": {
   "codemirror_mode": {
    "name": "ipython",
    "version": 3
   },
   "file_extension": ".py",
   "mimetype": "text/x-python",
   "name": "python",
   "nbconvert_exporter": "python",
   "pygments_lexer": "ipython3",
   "version": "3.10.11"
  }
 },
 "nbformat": 4,
 "nbformat_minor": 5
}
