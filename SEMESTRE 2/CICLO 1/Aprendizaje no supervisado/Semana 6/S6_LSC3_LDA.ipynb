{
 "cells": [
  {
   "cell_type": "markdown",
   "metadata": {},
   "source": [
    "<div >\n",
    "<img src = \"figs/ans_banner_1920x200.png\" />\n",
    "</div>"
   ]
  },
  {
   "cell_type": "markdown",
   "metadata": {},
   "source": [
    "# Modelado de Temas\n",
    "\n",
    "Este *cuaderno* trata sobre modelado de temas o tópicos a partir de datos de texto. El objetivo del *cuaderno* es que usted obtenga una visión general del modelo de asignación latente de Dirichlet (LDA, por sus siglas en inglés). Busca también que sea capaz de crear e implementar este modelo en `Python` y que sea  capaz de evaluar e interpretar los resultados, y de identificar el mejor modelo de temas para un determinado problema. \n",
    "\n",
    "**NO** es necesario editar el archivo o hacer una entrega. Sin embargo, los ejemplos contienen celdas con código ejecutable (`en gris`), que podrá modificar  libremente. Esta puede ser una buena forma de aprender nuevas funcionalidades del *cuaderno*, o experimentar variaciones en los códigos de ejemplo."
   ]
  },
  {
   "cell_type": "markdown",
   "metadata": {},
   "source": [
    "## Introducción\n",
    "\n",
    "Todo texto presenta una variedad de temas o tópicos que se expresan a través  de palabras. El modelado de temas es una faceta del procesamiento del lenguaje natural (NLP, por sus siglas en inglés). Como vimos anteriormente, utilizar el lenguaje, textos, como datos puede ser extremadamente poderoso. \n",
    "\n",
    "En este *cuaderno* nos centraremos sobre el modelado de temas. Inmediatamente nos surge la pregunta ¿qué son los temas? Responderemos esa pregunta con un ejemplo. Habremos notado que en los días en que se llevan a cabo eventos importantes (como elecciones nacionales, desastres naturales o eventos deportivos), las publicaciones de las redes sociales tienden a centrarse en esos eventos. Las publicaciones de alguna manera reflejan los eventos del día, y lo hacen de diferentes formas. Las publicaciones pueden tener, puntos de vista divergentes que permiten que las agrupemos en grupos o clústeres de temas. Por ejemplo, la siguiente figura con un breve texto sobre ciencia de datos muestra cómo se pueden identificar palabras y asignarlas a temas."
   ]
  },
  {
   "cell_type": "markdown",
   "metadata": {},
   "source": [
    "<center>\n",
    "<img src = \"figs/topicos1.jpeg\" alt = \"topicos\" style = \"width: 500px;\"/>\n",
    "</center>\n"
   ]
  },
  {
   "cell_type": "markdown",
   "metadata": {},
   "source": [
    "En  la figura se muestra cómo palabras como *información*, *predicción*, y *estadística*, son asignadas al tema modelado; mientras que *computacional*, *producción* y *escala* son asignadas al tema ingeniería. Los modelos de temas son importantes porque ofrecen la misma función para los datos textuales que las estadísticas clásicas para los datos numéricos. Es decir, proporcionan un resumen significativo de los datos. \n",
    "\n",
    "Los modelos de temas entran en la categoría de aprendizaje no supervisado porque, casi siempre, no se conocen de antemano los temas subyacentes de los documentos. Por lo tanto, no existe una variable que guíe el aprendizaje. En términos de aprendizaje no supervisado, los modelos de temas se pueden pensar como parte del análisis de clusters, más específicamente a K-medias. Recordemos que con K-medias, primero se establece el número de clusters y luego el modelo asigna cada uno de los datos a uno de los clústers predeterminados. Lo mismo ocurre generalmente con los modelos de temas. Seleccionamos el número de temas al inicio y luego el modelo aísla las palabras que forman esa cantidad de temas. \n",
    "\n",
    "Los modelos de temas buscan entonces buscan identificar los temas subyacentes en una colección de documentos (también referidos como corpus), utilizando las palabras contenidas en los mismos.  Para ello asumen que las palabras en el mismo documento están relacionadas y usan esa suposición para definir temas abstractos al encontrar grupos de palabras que aparecen con frecuencia una cerca de otra.  Por ejemplo, si una oración contiene las palabras *salario*, *empleado*, y *reunión*, podemos asumir que esa oración trata sobre trabajo.\n",
    "\n",
    "Este tipo de algoritmos por lo general pretenden primero determinar el número de temas, luego identificar palabras o frases concurrentes en los documentos; y a partir de esto, buscar clusters de palabras que caracterizan el documento y finalmente retornar un conjunto de temas abstractos que caracterizan el corpus.\n",
    "\n",
    "Un aspecto clave de los modelos de temas es que no producen tópicos específicos de una palabra o una frase, sino un conjunto de palabras, cada una de las cuales representa un tema abstracto. Esto se debe a que los modelos de temas entienden la proximidad de las palabras, no el contexto. Por ejemplo, en la figura siguiente, el modelo no tiene idea de lo que significan *ala*, *elevar*, *piloto*, *equipaje*, *pasajero*, o *mosca*; sólo sabe que estas palabras, generalmente, siempre que aparecen, aparecen muy próximas entre sí. Será nuestra tarea darle una interpretación (o no) a este tópico."
   ]
  },
  {
   "cell_type": "markdown",
   "metadata": {},
   "source": [
    "<center>\n",
    "<img src = \"figs/topicos3.jpeg\" alt = \"topicos3\" style = \"width: 500px;\"/>\n",
    "</center>"
   ]
  },
  {
   "cell_type": "markdown",
   "metadata": {},
   "source": [
    "Existen varios algoritmos de modelado de temas, pero quizás el más conocidos es el de asignación latente de Dirichlet, o Latent Dirichlet Allocation (LDA) en inglés. En este *cuaderno* nos centraremos en este."
   ]
  },
  {
   "cell_type": "markdown",
   "metadata": {},
   "source": [
    "## Asignación Latente de Dirichlet (LDA)\n",
    "\n",
    "En 2003, David Blei, Andrew Ng, y Michael Jordan publicaron un artículo sobre el algoritmo del modelado de temas conocido como Latent Dirichlet Allocation (LDA). LDA es un modelo probabilístico generativo, esto significa que el proceso de modelado comienza con el texto y funciona como ingeniería reversa a través del proceso que suponemos que lo generó, con el fin de identificar los parámetros de interés. En este caso, son los temas que generaron los datos que son de interés. \n",
    "\n",
    "Esencialmente LDA es una técnica de clustering que puede ser aplicada a colecciones de datos discretos como los son los documentos de texto. LDA es un modelo bayesiano jerárquico de 3 niveles en donde cada elemento o palabra de un texto se modela como una mezcla finita de temas. A su vez, cada tópico se modela como una combinación infinita de palabras. \n",
    "\n",
    "Esta técnica de aprendizaje no supervisado se diferencia de las técnicas de clustering estudiadas anteriormente porque en este caso cada observación pertenece a más de un grupo, donde la pertenencia de un elemento a un grupo se modela como una distribución de probabilidades."
   ]
  },
  {
   "cell_type": "markdown",
   "metadata": {},
   "source": [
    "### Set-up del modelo\n",
    "\n",
    "LDA representa los documentos como una mezcla de temas que generan palabras con ciertas probabilidades. Asume  que los documentos se generan siguiendo un proceso definido. Al empezar a escribir un documento:\n",
    "\n",
    "1. Decidimos el número de palabras que el documento tendrá, que surge de una distribución de Poisson.\n",
    "2. Elegimos la mezcla de temas del documento, esta mezcla surge de una distribución de Dirichlet sobre un conjunto fijo de K temas. Usando el ejemplo anterior, podríamos elegir que el documento consista 1/3 sobre aviones y 2/3 sobre automóviles. Intuitivamente, cuando utilizamos la distribución de Dirichlet estamos suponiendo que los documentos dentro del corpus se distribuirían a lo largo del simplex en donde cada vértice se representa un tema. Luego, cada documento se ubicaría más cercano a los vértices que representan los temas contenidos en él. Por ejemplo, supongamos que tenemos 7 documentos y 3 temas posibles (aviones, automóviles y barcos), podríamos representar los documentos dentro del simplex  de la siguiente manera:\n",
    "\n",
    "<center>\n",
    "<img src = \"figs/Triangulo.png\" alt = \"LDA\" style = \"width: 500px;\"/>\n",
    "</center>\n",
    "\n",
    "   De esta manera podríamos ver que cada documento es una combinación de temas. El documento 1 sería 100% sobre aviones, el documento 2 sería 50% sobre aviones y 50% sobre automóviles, el documento 5 sería 100% sobre barcos, etc.\n",
    "\n",
    "\n",
    "3. Generamos cada palabra en el documento siguiendo el siguiente esquema:\n",
    "    \n",
    "    3.1. Elegimos un tema, de acuerdo con la distribución multinomial que obtuvimos en el paso anterior, por ejemplo, podemos elegir el tópico de aviones con probabilidad 1/3 y el tópico de automóviles con 2/3.\n",
    "    \n",
    "    3.2 Usando el tópico generamos la palabra (de acuerdo con la distribución multinomial). Por ejemplo, si seleccionamos el tema de aviones, podríamos generar la palabra “piloto” con probabilidad del 20%, y “equipaje” con probabilidad del 10%, y así sucesivamente.\n",
    "\n",
    "Formalmente, definimos una palabra como un ítem de un vocabulario indexado por $\\{1, \\cdots, V\\}$. Las palabras se representan  mediante vectores de base uno, es decir, un vector donde sólo un elemento es 1 y el resto son 0. Así, usando superíndices para denotar componentes, la v-ésima palabra en el vocabulario se representa mediante un V-vector $w$ tal que $w^v = 1$ y $w^u = 0$ para $u\\neq v$. Un *documento* es una secuencia de $N$ palabras denotadas por $\\mathbf{w}=(w_1,w_2,\\cdots,w_N)$, en donde $w_n$ es la n-ésima palabra de la secuencia. Un *corpus* es una colección de $M$ documentos denotados por $\\mathbf{D}=(\\mathbf{w_1},\\mathbf{w_2},\\cdots,\\mathbf{w_m})$.\n",
    "\n",
    "Así, para cada documento del corpus $D$, LDA supone los siguientes pasos que generan cada documento:\n",
    "\n",
    "1. Decidimos $N\\sim Poisson(\\xi)$, donde $N$ son palabras del documento que surgen de un proceso de Poisson  con parámetro $\\xi$\n",
    "2. Elegimos  $\\theta\\sim Dir(\\alpha)$ donde $\\theta$  es la distribución de temas que asumimos surgen de una distribución Dirichlet con $K$ categorías.\n",
    "3. Generamos $N$ palabras, $w_n$:\n",
    "\n",
    "    3.1. Elegimos un tópico $z_n\\sim Multinomial(\\theta)$, de una distribución multiomial con parámetro $\\theta$\n",
    "  \n",
    "    3.2 Usando el tópico generamos $w_n$ de $p(w_n|z_n, \\beta)$\n",
    "\n",
    "\n",
    "Estos 3 pasos se repiten para cada documento en el corpus.\n",
    "\n",
    "Es importante que notemos que este modelo inicial cuenta con algunas simplificaciones:   \n",
    "\n",
    "  - En primer lugar, la dimensionalidad $K$ de la distribución Dirichlet (y por consiguiente la dimensionalidad de la variable de los temas $z$) se supone fija y conocida. \n",
    "  - Segundo, las probabilidades de cada palabra son parametrizadas por una matriz $\\beta$ de tamaño $k\\times V$ en donde $\\beta_{ij}=p(w^j = 1|z^i = 1)$, que trataremos como una cantidad fija que será estimada. \n",
    "\n",
    "Tomando como dados los parámetros $\\alpha$ y $\\beta$, la distribución de probabilidad conjunta de una mezcla de temas $\\theta$, un conjunto de $N$ temas $\\mathbf{z}$ y un conjunto de $N$ palabras $\\mathbf{w}$ esta dada por:\n",
    "\n",
    "$$p(\\theta, \\mathbf{z}, \\mathbf{w}|\\alpha, \\beta) = p(\\theta|\\alpha)\\prod_{n=1}^N p(z_n|\\theta)p(w_n|z_n, \\beta)$$\n",
    "\n",
    "Notemos que el lado izquierdo de esta ecuación ($p(\\theta, \\mathbf{z}, \\mathbf{w}|\\alpha, \\beta)$) corresponde a la probabilidad de que un documento $x$ aparezca en nuestro corpus. De este modo, nuestro objetivo será estimar $\\alpha$ y $\\beta$ de modo que se maximice la probabilidad de encontrar nuestra muestra de documentos.\n",
    "\n",
    "Podemos representar la solución LDA a través de una gráfica, que nos permitirá entender un poco mejor la intuición detrás del problema: \n",
    "\n",
    "<center>\n",
    "<img src = \"figs/topicos4.jpeg\" alt = \"LDA1\" style = \"width: 500px;\"/>\n",
    "</center>\n",
    "\n",
    "\n",
    "Las cajas son \"placas\" que utilizamos  para representar los 2 pasos iterativos del proceso. Dado que el proceso lo ejecutamos para cada documento del corpus, la placa externa (etiquetada como M) representa la iteración sobre cada documento. Mientras que, la iteración sobre palabras en el Paso 3 está representada por la placa  interna del diagrama, etiquetada como N. Los círculos representan los parámetros, las distribuciones y los resultados. El círculo etiquetado como W es la palabra seleccionada, que es el único dato conocido y, como tal, se utiliza para realizar \"ingeniería inversa\" en el proceso. Además de W, las otras 4 variables en el diagrama se definen de la siguiente manera:\n",
    "\n",
    "- $\\alpha$: hiperparámetro del documento del tópico para la distribución de Dirichlet.\n",
    "- $\\beta$: distribución de palabras para cada tópico.\n",
    "- $z$: variable latente del tópico.\n",
    "- $\\theta$: variable latente para la distribución de temas de cada documento.\n",
    "\n",
    "$\\alpha$ y $\\beta$ controlan la frecuencia de temas de los documentos y la frecuencia de palabra en los temas. Si $\\alpha$ aumenta, los documentos se vuelven cada vez más similares a medida que aumenta el número de temas en cada documento. Por otro lado, si $\\alpha$ disminuye, los documentos se vuelven cada vez más disímiles a medida que disminuye el número de temas en cada documento. \n",
    "\n",
    "El parámetro $\\beta$  se comporta de manera similar. Si $\\beta$ aumenta, se usan más palabras del documento para modelar un tema, mientras que un valor más bajo hace que se use una cantidad menor de palabras para un temas. Dada la complejidad de las distribuciones en LDA, no existe una solución directa, por lo que se requiere algún tipo de algoritmo de aproximación para generar los resultados. "
   ]
  },
  {
   "cell_type": "markdown",
   "metadata": {},
   "source": [
    "### Inferencia variacional\n",
    "\n",
    "El principal desafío  de este modelo es el cálculo de la distribución posterior:\n",
    "\n",
    "$$p(\\theta, \\mathbf{z}|\\mathbf{w},\\alpha, \\beta)=\\frac{p(\\theta, \\mathbf{z}, \\mathbf{w}|\\alpha, \\beta)}{p(\\mathbf{w}|\\alpha, \\beta)}$$\n",
    "\n",
    "Desafortunadamente, esta distribución no se puede calcular directamente, por ende se debe aproximar numéricamente. La inferencia variacional es uno de los algoritmos de aproximación más simples, pero tiene una derivación extensa que requiere un conocimiento significativo de la probabilidad y es material para cursos más avanzados.\n",
    "\n",
    "Sin embargo, en este *cuaderno* describiremos la intuición detrás de un algoritmo variacional simple basado en la convexidad. \n",
    "\n",
    "#### Intuición\n",
    "\n",
    "\n",
    "La intuición detrás de la inferencia variacional es que, si la distribución real es intratable, entonces se debe encontrar una distribución más simple, muy cercana a la distribución verdadera, que es manejable, para que la inferencia sea posible. En otras palabras, dado que es imposible inferir la distribución real debido a su  complejidad, buscamos encontrar una distribución más simple que sea una buena aproximación de la distribución real.\n"
   ]
  },
  {
   "cell_type": "markdown",
   "metadata": {},
   "source": [
    "<center>\n",
    "<img src = \"figs/topicos5.jpeg\" alt = \"LDA1\" style = \"width: 500px;\"/>\n",
    "</center>\n",
    "\n"
   ]
  },
  {
   "cell_type": "markdown",
   "metadata": {},
   "source": [
    "La inferencia variacional es como tratar de ver animales en un zoológico lleno de gente. Los animales del zoológico están en un hábitat cerrado que, en este ejemplo, es la distribución posterior. Los visitantes en realidad no pueden ingresar al hábitat, por lo que los visitantes deben conformarse con ver el hábitat desde la posición más cercana posible, que es la aproximación posterior (es decir, la mejor aproximación del hábitat). Si hay mucha gente en el zoológico, puede ser difícil llegar a ese punto de vista óptimo. La gente generalmente comienza en la parte de atrás de la multitud y avanza estratégicamente hacia ese punto de vista óptimo. El paso de los visitantes desde la parte trasera de la multitud al punto de vista óptimo es el camino de optimización. La inferencia variacional es simplemente el proceso de acercarse lo mejor posible al punto deseado sabiendo que en realidad no se puede alcanzar el punto deseado.\n",
    "\n",
    "Con la intuición  desarrollada veamos una aplicación en `Python`."
   ]
  },
  {
   "cell_type": "markdown",
   "metadata": {},
   "source": [
    "## LDA en `Python`\n",
    "\n",
    "\n",
    "Ilustremos ahora la implementación de LDA en `Phyton`. Para ello vamos a usar textos que contienen  páginas sobre distintos ensayos. Por la frecuencia de palabras tenemos la sospecha de que estas páginas se refieren a [Chomsky](https://en.wikipedia.org/wiki/Noam_Chomsky), [Freud](https://en.wikipedia.org/wiki/Sigmund_Freud), y [Voltaire](https://en.wikipedia.org/wiki/Voltaire). El objetivo será entonces ver si podemos encontrar de forma no supervisada estas páginas."
   ]
  },
  {
   "cell_type": "code",
   "execution_count": 1,
   "metadata": {},
   "outputs": [
    {
     "data": {
      "text/html": [
       "<div>\n",
       "<style scoped>\n",
       "    .dataframe tbody tr th:only-of-type {\n",
       "        vertical-align: middle;\n",
       "    }\n",
       "\n",
       "    .dataframe tbody tr th {\n",
       "        vertical-align: top;\n",
       "    }\n",
       "\n",
       "    .dataframe thead th {\n",
       "        text-align: right;\n",
       "    }\n",
       "</style>\n",
       "<table border=\"1\" class=\"dataframe\">\n",
       "  <thead>\n",
       "    <tr style=\"text-align: right;\">\n",
       "      <th></th>\n",
       "      <th>texto</th>\n",
       "      <th>titulo</th>\n",
       "      <th>pagina</th>\n",
       "    </tr>\n",
       "  </thead>\n",
       "  <tbody>\n",
       "    <tr>\n",
       "      <th>0</th>\n",
       "      <td>Introducción Noam Chomsky. Avram Noam Chomsky ...</td>\n",
       "      <td>Chomsky</td>\n",
       "      <td>1</td>\n",
       "    </tr>\n",
       "    <tr>\n",
       "      <th>1</th>\n",
       "      <td>toda su construcción intelectual. Si de algo n...</td>\n",
       "      <td>Chomsky</td>\n",
       "      <td>2</td>\n",
       "    </tr>\n",
       "    <tr>\n",
       "      <th>2</th>\n",
       "      <td>tales como la ya lejana Guerra de Vietnam (la ...</td>\n",
       "      <td>Chomsky</td>\n",
       "      <td>3</td>\n",
       "    </tr>\n",
       "    <tr>\n",
       "      <th>3</th>\n",
       "      <td>un sistema de financiación sin parangón, que d...</td>\n",
       "      <td>Chomsky</td>\n",
       "      <td>4</td>\n",
       "    </tr>\n",
       "    <tr>\n",
       "      <th>4</th>\n",
       "      <td>de la lingüística y de las ciencias cognitivas...</td>\n",
       "      <td>Chomsky</td>\n",
       "      <td>5</td>\n",
       "    </tr>\n",
       "  </tbody>\n",
       "</table>\n",
       "</div>"
      ],
      "text/plain": [
       "                                               texto   titulo  pagina\n",
       "0  Introducción Noam Chomsky. Avram Noam Chomsky ...  Chomsky       1\n",
       "1  toda su construcción intelectual. Si de algo n...  Chomsky       2\n",
       "2  tales como la ya lejana Guerra de Vietnam (la ...  Chomsky       3\n",
       "3  un sistema de financiación sin parangón, que d...  Chomsky       4\n",
       "4  de la lingüística y de las ciencias cognitivas...  Chomsky       5"
      ]
     },
     "execution_count": 1,
     "metadata": {},
     "output_type": "execute_result"
    }
   ],
   "source": [
    "# Cargamos las librerías a utilizar\n",
    "import pandas as pd\n",
    "import numpy as np\n",
    "\n",
    "# Cargamos los datos \n",
    "ensayos= pd.read_csv('data/ensayos.csv', sep=',')\n",
    "ensayos.head()"
   ]
  },
  {
   "cell_type": "code",
   "execution_count": 2,
   "metadata": {},
   "outputs": [
    {
     "data": {
      "text/plain": [
       "(269, 3)"
      ]
     },
     "execution_count": 2,
     "metadata": {},
     "output_type": "execute_result"
    }
   ],
   "source": [
    "ensayos.shape"
   ]
  },
  {
   "cell_type": "markdown",
   "metadata": {},
   "source": [
    "Los datos entonces contienen 269 entradas donde fueron catalogadas como pertenecientes a alguno de estos 3 autores. De estas, 101 páginas se refieren a Voltaire, 85 a Freud, y 83 a Chomsky. En nuestra tarea no supervisada ignoraremos por ahora esta información."
   ]
  },
  {
   "cell_type": "code",
   "execution_count": 3,
   "metadata": {},
   "outputs": [
    {
     "data": {
      "text/plain": [
       "Voltaire    101\n",
       "Freud        85\n",
       "Chomsky      83\n",
       "Name: titulo, dtype: int64"
      ]
     },
     "execution_count": 3,
     "metadata": {},
     "output_type": "execute_result"
    }
   ],
   "source": [
    "ensayos.titulo.value_counts()"
   ]
  },
  {
   "cell_type": "markdown",
   "metadata": {},
   "source": [
    "Antes de proceder con el análisis de datos tenemos que normalizar, para ello cargaremos las librerías y utilizaremos la función que creamos en el *cuaderno: Sistemas de Recomendación basado en Contenidos* "
   ]
  },
  {
   "cell_type": "code",
   "execution_count": 4,
   "metadata": {},
   "outputs": [],
   "source": [
    "# Cargamos las librerías a utilizar\n",
    "import unidecode\n",
    "import re\n",
    "import spacy\n",
    "\n",
    "# Cargamos el modelo para el idioma deseado (por ejemplo, español)\n",
    "nlp = spacy.load(\"es_core_news_sm\")\n",
    "\n",
    "\n",
    "# Cargamos las stopwords extra\n",
    "extra_stopwords = pd.read_csv('data/extra_stopwords.csv', sep=',',header=None)\n",
    "extra_stopwords.columns = ['stopwords']\n",
    "extra_stopwords=set(extra_stopwords['stopwords'].to_list())\n",
    "\n",
    "# Agregamos a nuestro modelo de SpaCy\n",
    "nlp.Defaults.stop_words |= extra_stopwords\n",
    "\n",
    "\n",
    "# Definimos nuestra función limpiadora\n",
    "def text_cleaning(txt):\n",
    "    \n",
    "    # Eliminar caracteres especiales\n",
    "    out = unidecode.unidecode(txt)\n",
    "    out = re.sub(\"[^\\\\w\\\\s]|\\n\", ' ', out)\n",
    "    out = re.sub(\"\\d+\", \"\", out)\n",
    "    out = re.sub('tv', ' ', out)\n",
    "    out = re.sub('miniserie', 'miniseriedetv', out)\n",
    "    out = re.sub('\\s+', ' ', out)\n",
    "    # Poner en minúsculas\n",
    "    out = out.lower()\n",
    "    #NLP object\n",
    "    out = nlp(out)\n",
    "    # Eliminar Stopwords\n",
    "    out = [token.text for token in out if not token.is_stop]\n",
    "    out = \" \".join(out)\n",
    "    # Obtener los lemas de cada palabra\n",
    "    lemmas =[token.lemma_ for token in nlp(out)]\n",
    "    # Convertir la lista de lemmas nuevamente a texto\n",
    "    out = \" \".join(lemmas)\n",
    "    # Remover palabras muy cortas\n",
    "    out = [token.text for token in nlp(out) if len(token) > 2]\n",
    "    \n",
    "    return out"
   ]
  },
  {
   "cell_type": "markdown",
   "metadata": {},
   "source": [
    "Aplicamos esta función sobre las filas que contienen el texto:"
   ]
  },
  {
   "cell_type": "code",
   "execution_count": 5,
   "metadata": {},
   "outputs": [],
   "source": [
    "clean = list(map(text_cleaning, ensayos['texto']))"
   ]
  },
  {
   "cell_type": "markdown",
   "metadata": {},
   "source": [
    "Así la fila 100 lucirá de la siguiente manera y podemos ver que se refiere a Freud:"
   ]
  },
  {
   "cell_type": "code",
   "execution_count": 6,
   "metadata": {},
   "outputs": [
    {
     "name": "stdout",
     "output_type": "stream",
     "text": [
      "['serio', 'candidatura', 'premio', 'nobel', 'freud', 'escribio', 'publico', 'magistral', 'libro', 'malestar', 'cultura', 'contribución', 'significativo', 'autor', 'pensamiento', 'contemporaneo', 'obstante', 'progresion', 'cancer', 'consecuent', 'dolor', 'seriar', 'unico', 'motivo', 'preocupacion', 'freud', 'ano', 'venidero', 'fruto', 'persecucion', 'nazi', 'freud', 'ver', 'obligado', 'abandonar', 'viena', 'refugiar', 'amado', 'londr', 'freud', 'llego', 'londres', 'recuperar', 'viaje', 'animo', 'reemprender', 'escrito', 'epocar', 'termino', 'ultima', 'obra', 'moises', 'religion', 'monoteista', 'labor', 'terapeutar', 'paciente', 'obstante', 'cancer', 'progreso', 'devino', 'inoperable', 'largo', 'agonia', 'soporto', 'estoicamente', 'murio', 'noche', 'septiembre', 'ceniza', 'reposar', 'golders', 'green', 'londres', 'freud', 'gestapo', 'estallido', 'guerra', 'mundial', 'adolf', 'hitler', 'promover', 'durisima', 'represalia', 'comunidad', 'judia', 'alemán', 'judio', 'austriaco', 'temiar', 'medida', 'extender', 'territorio', 'principio', 'freud', 'encontrar', 'respondio', 'ironia', 'noticia', 'libro', 'psicoanalista', 'habiar', 'quemado', 'publicamente', 'berlin', 'progresamos', 'exclamo', 'edad', 'medio', 'quemado', 'conformar', 'quemar', 'libro', 'dejar', 'oportuno', 'mentar', 'palabra', 'premonitoria', 'heinrich', 'heinar', 'poeta', 'romantico', 'origen', 'judio', 'dejar', 'escrita', 'quemar', 'libro', 'acabar', 'quemar', 'ser', 'humano', 'efecto', 'nacionalismo', 'antisemitar', 'violento', 'extremo', 'extendio', 'polvoro', 'austria', 'freud', 'termino', 'aceptar', 'necesidad', 'abandonar', 'viena', 'movio', 'cielo', 'tierra', 'salvoconducto', 'allegado', 'presidente', 'roosevelt', 'intercedio', 'favor', 'finalmente', 'nazi', 'acceder', 'reganadient', 'freud', 'obligado', 'firmar', 'carta', 'dejar', 'constancia', 'persona', 'excelente', 'trato', 'recibido', 'autoridad', 'nazi', 'circunstancia', 'luctuoso', 'freud', 'respondio', 'sarcasmo', 'pedir', 'anadir', 'ultima', 'line']\n"
     ]
    }
   ],
   "source": [
    "print(clean[100])"
   ]
  },
  {
   "cell_type": "markdown",
   "metadata": {},
   "source": [
    "### Modelado de temas con [Gensim](https://radimrehurek.com)\n",
    "\n",
    "Con los datos tokenizados vamos a cargar la primero utilizaremos la librería  [gensim](https://radimrehurek.com/gensim/index.html) que contiene múltiples  funciones que facilitan el modelado de temas. \n",
    "\n",
    "El primer paso es generar una representación de diccionario del documento, esto en términos de [gensim](https://radimrehurek.com/gensim/index.html), implica crear un mapeo entre palabras y un identificador."
   ]
  },
  {
   "cell_type": "code",
   "execution_count": 7,
   "metadata": {},
   "outputs": [
    {
     "data": {
      "text/plain": [
       "<gensim.corpora.dictionary.Dictionary at 0x7fadf2672d10>"
      ]
     },
     "execution_count": 7,
     "metadata": {},
     "output_type": "execute_result"
    }
   ],
   "source": [
    "# Cargamos la función \n",
    "from gensim.corpora import Dictionary\n",
    "\n",
    "# Creamos la representación de diccionario del documento\n",
    "dictionary = Dictionary(clean)\n",
    "dictionary"
   ]
  },
  {
   "cell_type": "markdown",
   "metadata": {},
   "source": [
    "Ahora haremos un paso opcional, y es el uso de la función `filter_extremes` para remover palabras que aparecen en menos de 20 páginas o en más de 50% de las páginas: "
   ]
  },
  {
   "cell_type": "code",
   "execution_count": 8,
   "metadata": {},
   "outputs": [],
   "source": [
    "dictionary.filter_extremes(no_below=20, no_above=0.5)"
   ]
  },
  {
   "cell_type": "markdown",
   "metadata": {},
   "source": [
    "Estamos en condiciones de vectorizar el documento usando la función `doc2bow` que va a crear el corpus con la matriz de frecuencia de los documentos:"
   ]
  },
  {
   "cell_type": "code",
   "execution_count": 9,
   "metadata": {},
   "outputs": [],
   "source": [
    "corpus = [dictionary.doc2bow(doc) for doc in clean]"
   ]
  },
  {
   "cell_type": "markdown",
   "metadata": {},
   "source": [
    "Con esto podemos ver el número de palabras únicas con el que vamos a estimar LDA:"
   ]
  },
  {
   "cell_type": "code",
   "execution_count": 10,
   "metadata": {},
   "outputs": [
    {
     "name": "stdout",
     "output_type": "stream",
     "text": [
      "Numero de palabras únicas: 295\n"
     ]
    }
   ],
   "source": [
    "print('Numero de palabras únicas: %d' % len(dictionary))"
   ]
  },
  {
   "cell_type": "markdown",
   "metadata": {},
   "source": [
    "Estamos listos para estimar LDA utilizando la función [LDAModel](https://radimrehurek.com/gensim/models/ldamodel.html?highlight=ldamodel#module-gensim.models.ldamode) disponible en [gensim](https://radimrehurek.com/gensim/index.html). Carguemos entonces esta función:"
   ]
  },
  {
   "cell_type": "code",
   "execution_count": 11,
   "metadata": {},
   "outputs": [],
   "source": [
    "from gensim.models import LdaModel"
   ]
  },
  {
   "cell_type": "markdown",
   "metadata": {},
   "source": [
    "Antes de apicarla, discutiremos algunos de los parámetros:\n",
    "\n",
    "   - `corpus` es donde especificamos la matriz de frecuencia de los documentos.\n",
    "   \n",
    "   - `id2word` es donde especificamos el diccionario que mapea palabras con identificadores, este sirve para determinar el tamaño del vocabulario y para mostrar luego los temas con las palabras encontradas.\n",
    "   \n",
    "   - `num_topics` donde especificamos el número de temas a buscar.  \n",
    "   \n",
    "   - `chunksize` controla cuántos documentos se procesan a la vez en el entrenamiento. Aumentar el tamaño de los fragmentos acelerará el entrenamiento, siempre y cuando el fragmento de documentos entre fácilmente en la memoria.  \n",
    "   \n",
    "   - `passes` controla la frecuencia con la que entrenamos el modelo en todo el corpus.\n",
    "   \n",
    "   - `iterations` controla la frecuencia con la que repetimos un bucle particular sobre cada documento. Cuando entrenamos  es importante establecer el número de \"passes\" e \"iterations\" lo suficientemente alto.\n",
    "   \n",
    "   - `alpha` es el parámetro que controla el \"prior\" de la distribución de temas. \n",
    "   \n",
    "   - `eta` es el parámetro que controla el \"prior\" de la distribución de palabras-temas.\n",
    "   \n",
    "Estimemos el modelo:"
   ]
  },
  {
   "cell_type": "code",
   "execution_count": 12,
   "metadata": {},
   "outputs": [],
   "source": [
    "Estimacion = LdaModel(\n",
    "    corpus=corpus,\n",
    "    id2word=dictionary,\n",
    "    num_topics=3,\n",
    "    chunksize=1000,\n",
    "    passes=20,\n",
    "    iterations=400,\n",
    "    alpha='auto',\n",
    "    eta='auto',\n",
    "    random_state=123,\n",
    "    eval_every=None\n",
    ")"
   ]
  },
  {
   "cell_type": "markdown",
   "metadata": {},
   "source": [
    "Notemos que elegimos 3 temas ya que tenemos la sospecha de que los textos se refieren a 3 escritores distintos. Vamos a fijar `chunksize = 1000`, que es más que la cantidad de documentos, así procesamos todos los datos de una sola vez. No obstante, el tamaño de los fragmentos puede influir en la calidad del modelo (Hoffman et al., 2010). Por eso, los invito a que prueben con distintos tamaños. Especificamos también 20 passes y 400 iteraciones. Es importante asignar estos parámetros lo suficientemente altos de forma tal que haya convergencia en la estimación. Nuevamente los invito a que prueben con distintos valores. Fijamos `alpha = 'auto'` y `eta = 'auto'` de forma que el modelo \"aprenda\" automáticamente estos 2 parámetros. Luego, establecemos el `random_state` para lograr reproducibilidad y finalmente fijamos `eval_every=None`. Esto evitará el cálculo de la perplejidad, que discutiremos más adelante, haciendo que el proceso sea más rápido."
   ]
  },
  {
   "cell_type": "markdown",
   "metadata": {},
   "source": [
    "Con el modelo estimado podemos utilizar `pprint` para ver los temas con las palabras asociadas y su peso dentro del tema."
   ]
  },
  {
   "cell_type": "code",
   "execution_count": 13,
   "metadata": {},
   "outputs": [
    {
     "name": "stdout",
     "output_type": "stream",
     "text": [
      "[(0,\n",
      "  '0.079*\"freud\" + 0.024*\"hombre\" + 0.022*\"humano\" + 0.014*\"psicoanalisis\" + '\n",
      "  '0.012*\"sexual\" + 0.012*\"caso\" + 0.012*\"deseo\" + 0.011*\"sociedad\" + '\n",
      "  '0.010*\"inconsciente\" + 0.010*\"mente\"'),\n",
      " (1,\n",
      "  '0.047*\"chomsky\" + 0.040*\"lenguaje\" + 0.033*\"linguistico\" + 0.020*\"humano\" + '\n",
      "  '0.020*\"teoria\" + 0.020*\"generativo\" + 0.018*\"mente\" + 0.018*\"frase\" + '\n",
      "  '0.017*\"ejemplo\" + 0.017*\"estructura\"'),\n",
      " (2,\n",
      "  '0.074*\"voltaire\" + 0.024*\"hombre\" + 0.017*\"diccionario\" + 0.014*\"obra\" + '\n",
      "  '0.014*\"ano\" + 0.013*\"mundo\" + 0.013*\"historia\" + 0.013*\"filosofico\" + '\n",
      "  '0.012*\"filosofo\" + 0.012*\"rousseau\"')]\n"
     ]
    }
   ],
   "source": [
    "from pprint import pprint\n",
    "\n",
    "pprint(Estimacion.print_topics())"
   ]
  },
  {
   "cell_type": "markdown",
   "metadata": {},
   "source": [
    "Vemos entonces que Freud tiene el mayor peso en el primer tema, Chomsky en el segundo, y Voltaire en el tercero. El modelo parece haber hecho un gran trabajo encontrando los 3 autores."
   ]
  },
  {
   "cell_type": "markdown",
   "metadata": {},
   "source": [
    "Podemos también generar una visualización interactiva de los resultados utilizando [pyLDAvis](https://pyldavis.readthedocs.io/en/latest/readme.html) que permite ayudar a la interpretación de los temas:"
   ]
  },
  {
   "cell_type": "code",
   "execution_count": 14,
   "metadata": {},
   "outputs": [
    {
     "data": {
      "text/html": [
       "\n",
       "<link rel=\"stylesheet\" type=\"text/css\" href=\"https://cdn.jsdelivr.net/gh/bmabey/pyLDAvis@3.3.1/pyLDAvis/js/ldavis.v1.0.0.css\">\n",
       "\n",
       "\n",
       "<div id=\"ldavis_el861403848392247847178704651\"></div>\n",
       "<script type=\"text/javascript\">\n",
       "\n",
       "var ldavis_el861403848392247847178704651_data = {\"mdsDat\": {\"x\": [-0.17972009812207507, 0.13816190785440716, 0.041558190267667966], \"y\": [-0.03587690710195155, -0.08217883115222277, 0.11805573825417433], \"topics\": [1, 2, 3], \"cluster\": [1, 1, 1], \"Freq\": [37.233116318649856, 31.46405335362213, 31.30283032772801]}, \"tinfo\": {\"Term\": [\"freud\", \"voltaire\", \"chomsky\", \"lenguaje\", \"linguistico\", \"generativo\", \"frase\", \"diccionario\", \"gramatico\", \"hombre\", \"psicoanalisis\", \"sexual\", \"rousseau\", \"regla\", \"deseo\", \"gramatica\", \"rey\", \"mente\", \"inconsciente\", \"estructura\", \"sexualidad\", \"teoria\", \"lengua\", \"tolerancia\", \"fanatismo\", \"sociedad\", \"escribir\", \"cognitiva\", \"historia\", \"ley\", \"linguistico\", \"chomsky\", \"generativo\", \"gramatico\", \"frase\", \"gramatica\", \"lenguaje\", \"cognitiva\", \"sintaxis\", \"cognitivo\", \"especifico\", \"regla\", \"concepto\", \"lengua\", \"estructura\", \"simple\", \"formal\", \"hipotesis\", \"aprender\", \"desarrollar\", \"fundamental\", \"representacion\", \"base\", \"nivel\", \"disciplina\", \"consistir\", \"sistema\", \"explicar\", \"facultad\", \"fenomeno\", \"mental\", \"ciencia\", \"teoria\", \"estudio\", \"mente\", \"forma\", \"luis\", \"ejemplo\", \"pensamiento\", \"proceso\", \"humano\", \"idea\", \"aspecto\", \"politico\", \"palabra\", \"punto\", \"filosofia\", \"visto\", \"voltaire\", \"diccionario\", \"rousseau\", \"tolerancia\", \"fanatismo\", \"voltairar\", \"rey\", \"mil\", \"ley\", \"hacer\", \"hijo\", \"carta\", \"escribir\", \"pueblo\", \"habrio\", \"espiritu\", \"mano\", \"tratado\", \"comun\", \"joven\", \"decidir\", \"casa\", \"tierra\", \"vivir\", \"libertad\", \"celebrar\", \"servir\", \"dejar\", \"dio\", \"publicar\", \"historia\", \"articulo\", \"guerra\", \"antiguo\", \"moral\", \"filosofo\", \"libro\", \"hombre\", \"filosofico\", \"obra\", \"mundo\", \"ano\", \"cosa\", \"religion\", \"escrito\", \"vida\", \"tiempo\", \"razon\", \"sociedad\", \"politico\", \"caso\", \"idea\", \"freud\", \"psicoanalisis\", \"sexual\", \"deseo\", \"inconsciente\", \"sexualidad\", \"psique\", \"impulso\", \"sentimiento\", \"cultura\", \"medico\", \"caracter\", \"racional\", \"consciente\", \"afirmar\", \"podiar\", \"mayorio\", \"tenia\", \"arte\", \"sujeto\", \"fuerza\", \"oscuro\", \"origen\", \"desear\", \"amor\", \"madre\", \"placer\", \"necesidad\", \"serie\", \"cultural\", \"camino\", \"termino\", \"sociedad\", \"hombre\", \"humano\", \"caso\", \"naturaleza\", \"nino\", \"vida\", \"padre\", \"religioso\", \"momento\", \"mente\", \"considerar\", \"realidad\", \"ejemplo\", \"resultar\"], \"Freq\": [367.0, 346.0, 260.0, 221.0, 182.0, 108.0, 99.0, 77.0, 90.0, 228.0, 66.0, 57.0, 56.0, 77.0, 54.0, 64.0, 58.0, 149.0, 48.0, 107.0, 45.0, 144.0, 82.0, 42.0, 41.0, 93.0, 49.0, 44.0, 77.0, 42.0, 181.3940568553917, 259.28794706264824, 107.61505521439825, 89.90128370809906, 98.61929899160914, 64.30682657467584, 218.65231904562356, 43.633108720851965, 37.72804513959186, 33.78424756956679, 34.71029619022334, 74.38966756431306, 30.831082875735692, 72.36833584281834, 92.47333071596297, 27.827050664833386, 20.992188351626517, 21.52414796717534, 27.822496318970536, 27.69594125060867, 27.624357980682348, 35.14115623201543, 18.991112089749787, 25.247186343492363, 21.936762496484874, 17.961957783978054, 32.01146141019434, 40.50821629180485, 27.871072598594743, 16.659715336399195, 45.89907606913808, 61.524031751011265, 108.09178603445415, 53.27501436117343, 100.44533340696258, 84.68677505583027, 39.119281448791156, 93.93162152107224, 58.765652926391326, 50.418490789660616, 109.55370804176738, 76.19363859050047, 35.498878235613596, 49.29427058731542, 40.670766291309604, 40.34037036288854, 39.25999053419451, 37.698366454536135, 345.60163485735796, 76.66689453081591, 55.956322601109186, 41.4349913116159, 40.44835602026433, 26.731408707539142, 55.770566204211036, 26.67214213074379, 39.455890450192065, 24.577954852037436, 33.03611177263235, 41.90420557372954, 45.13550681640267, 29.552881117870122, 33.44537659357861, 23.800675836719943, 20.852929702606435, 23.762251750013967, 18.828988854728003, 23.671538836693927, 17.897529436829206, 20.929038826603094, 19.633314485489624, 29.06578488525471, 24.237907843434648, 16.409202767391655, 21.06426325997092, 45.13946570098989, 33.392255796131536, 20.156554988632237, 60.88997014784521, 38.92253447829793, 29.030306191393915, 27.385791584559815, 36.135758493148394, 56.91858654946148, 43.19608556130553, 110.91881822532844, 59.1982990020033, 65.3915331022152, 61.072035619593265, 65.08126200558146, 45.69347183724835, 42.07092820673892, 39.71771707374922, 47.76303494026073, 41.13467793341989, 38.939415922836886, 41.733186945873335, 34.704044737693366, 35.13703909556771, 33.709236683509445, 366.6459454167145, 65.77528019472722, 56.971556633613986, 54.013991185908125, 48.193313572853455, 45.25587539854466, 24.748252001445195, 34.39185817387203, 39.16846949011717, 42.07562430904559, 30.463630135359203, 39.246544907836444, 24.10197561513687, 35.27046246016475, 19.09267951711029, 35.51552201076412, 17.77321549211725, 24.10704505656715, 22.604327603518584, 41.35633119699655, 31.050302961780726, 20.089476174934426, 29.207337413278218, 29.042232284558448, 25.258225339967368, 34.37279079641437, 23.638450657488825, 16.8641848827363, 14.813681819801795, 15.293094467089265, 19.651949841211906, 34.27829881603114, 51.615349929958555, 109.73907149675014, 102.89366585052689, 55.13836663650396, 44.640520885048765, 32.876123134792785, 44.38171708548256, 34.588022768386224, 34.528890034484675, 34.079360862973665, 48.07855242631047, 35.42087953805684, 36.97308316703508, 37.706922437149125, 33.13742295704794], \"Total\": [367.0, 346.0, 260.0, 221.0, 182.0, 108.0, 99.0, 77.0, 90.0, 228.0, 66.0, 57.0, 56.0, 77.0, 54.0, 64.0, 58.0, 149.0, 48.0, 107.0, 45.0, 144.0, 82.0, 42.0, 41.0, 93.0, 49.0, 44.0, 77.0, 42.0, 182.14070267430264, 260.90160004498944, 108.29800809724402, 90.57572278238047, 99.43592538970682, 64.97677287663686, 221.51090343133419, 44.3007040862581, 38.393284033396796, 34.454937879357836, 35.43905664450063, 77.76012858523274, 34.43301951881497, 82.6415322350921, 107.20988009220476, 32.4579544560818, 24.585906316213883, 25.57207515000829, 33.43874691822093, 33.432301114278275, 33.43701730912683, 43.25935982043486, 23.594991931778452, 31.45969333000501, 27.5275402771905, 22.61366875092411, 40.311588135883845, 51.12272037061264, 35.38928673496912, 21.623809439170895, 59.94988154508641, 80.60981682055744, 144.458353350862, 72.71569494965595, 149.27786905749528, 126.70204603366342, 52.105698587619486, 152.19723042826797, 88.39788109562579, 75.62679668363087, 235.36845558894174, 140.36246576541345, 47.17219680534183, 85.44480105243822, 80.45449373288574, 81.42145374345452, 73.62682226652905, 63.81862691455459, 346.5409940131837, 77.3359669512114, 56.77814139173813, 42.09456922262077, 41.115655129872025, 27.410621354505068, 58.731472458721875, 28.387101858297477, 42.10529297836834, 26.437684490601878, 36.21556566482889, 46.003061303140555, 49.94902692948148, 33.278382695193045, 38.185718074320725, 27.404375407063956, 24.471453476873407, 28.411734413242264, 22.516429169943795, 28.381050378906938, 21.53764677332479, 25.444719748642523, 24.465116789354276, 36.230317462472016, 30.338475913920746, 20.550746519668937, 26.450053563757592, 56.76357328944338, 42.078349974312786, 25.453011540419542, 77.37958083151723, 49.96175475177964, 37.23794815009221, 35.234285937175116, 50.876861940589066, 92.08290548735707, 64.6879340731523, 228.90036647287616, 101.82684855613937, 118.52463363216057, 110.69053195478043, 124.43263872172415, 75.46304568495812, 67.4977973234192, 64.5791675109447, 94.88329029395481, 78.36772662669654, 74.37070385315576, 93.87790002997204, 85.44480105243822, 119.48733554506278, 140.36246576541345, 367.3625714932486, 66.44005334077248, 57.646885906920176, 54.71573442265498, 48.85364320222843, 45.92262215695315, 25.40514089243999, 39.11381057998271, 44.954968696187834, 49.849004999083306, 36.1616053467307, 46.92328568457574, 29.34185310730748, 43.03936802059551, 24.45692422371635, 45.941033394125625, 23.463120212478948, 32.258134639555614, 30.308319953978614, 55.785993474892905, 42.04860840025492, 27.37151955125706, 40.100925853788404, 40.11664207227179, 35.19373996402648, 47.90114642970497, 34.217102562552135, 24.45742682135012, 22.515500196116975, 23.465167567964023, 30.319836042243246, 54.84634180196452, 93.87790002997204, 228.90036647287616, 235.36845558894174, 119.48733554506278, 90.10834056784097, 56.81537164761403, 94.88329029395481, 64.54763191663997, 64.54260185223612, 63.648462711591186, 149.27786905749528, 70.52186000044719, 80.34420738847646, 152.19723042826797, 74.38791626180684], \"Category\": [\"Default\", \"Default\", \"Default\", \"Default\", \"Default\", \"Default\", \"Default\", \"Default\", \"Default\", \"Default\", \"Default\", \"Default\", \"Default\", \"Default\", \"Default\", \"Default\", \"Default\", \"Default\", \"Default\", \"Default\", \"Default\", \"Default\", \"Default\", \"Default\", \"Default\", \"Default\", \"Default\", \"Default\", \"Default\", \"Default\", \"Topic1\", \"Topic1\", \"Topic1\", \"Topic1\", \"Topic1\", \"Topic1\", \"Topic1\", \"Topic1\", \"Topic1\", \"Topic1\", \"Topic1\", \"Topic1\", \"Topic1\", \"Topic1\", \"Topic1\", \"Topic1\", \"Topic1\", \"Topic1\", \"Topic1\", \"Topic1\", \"Topic1\", \"Topic1\", \"Topic1\", \"Topic1\", \"Topic1\", \"Topic1\", \"Topic1\", \"Topic1\", \"Topic1\", \"Topic1\", \"Topic1\", \"Topic1\", \"Topic1\", \"Topic1\", \"Topic1\", \"Topic1\", \"Topic1\", \"Topic1\", \"Topic1\", \"Topic1\", \"Topic1\", \"Topic1\", \"Topic1\", \"Topic1\", \"Topic1\", \"Topic1\", \"Topic1\", \"Topic1\", \"Topic2\", \"Topic2\", \"Topic2\", \"Topic2\", \"Topic2\", \"Topic2\", \"Topic2\", \"Topic2\", \"Topic2\", \"Topic2\", \"Topic2\", \"Topic2\", \"Topic2\", \"Topic2\", \"Topic2\", \"Topic2\", \"Topic2\", \"Topic2\", \"Topic2\", \"Topic2\", \"Topic2\", \"Topic2\", \"Topic2\", \"Topic2\", \"Topic2\", \"Topic2\", \"Topic2\", \"Topic2\", \"Topic2\", \"Topic2\", \"Topic2\", \"Topic2\", \"Topic2\", \"Topic2\", \"Topic2\", \"Topic2\", \"Topic2\", \"Topic2\", \"Topic2\", \"Topic2\", \"Topic2\", \"Topic2\", \"Topic2\", \"Topic2\", \"Topic2\", \"Topic2\", \"Topic2\", \"Topic2\", \"Topic2\", \"Topic2\", \"Topic2\", \"Topic2\", \"Topic3\", \"Topic3\", \"Topic3\", \"Topic3\", \"Topic3\", \"Topic3\", \"Topic3\", \"Topic3\", \"Topic3\", \"Topic3\", \"Topic3\", \"Topic3\", \"Topic3\", \"Topic3\", \"Topic3\", \"Topic3\", \"Topic3\", \"Topic3\", \"Topic3\", \"Topic3\", \"Topic3\", \"Topic3\", \"Topic3\", \"Topic3\", \"Topic3\", \"Topic3\", \"Topic3\", \"Topic3\", \"Topic3\", \"Topic3\", \"Topic3\", \"Topic3\", \"Topic3\", \"Topic3\", \"Topic3\", \"Topic3\", \"Topic3\", \"Topic3\", \"Topic3\", \"Topic3\", \"Topic3\", \"Topic3\", \"Topic3\", \"Topic3\", \"Topic3\", \"Topic3\", \"Topic3\"], \"logprob\": [30.0, 29.0, 28.0, 27.0, 26.0, 25.0, 24.0, 23.0, 22.0, 21.0, 20.0, 19.0, 18.0, 17.0, 16.0, 15.0, 14.0, 13.0, 12.0, 11.0, 10.0, 9.0, 8.0, 7.0, 6.0, 5.0, 4.0, 3.0, 2.0, 1.0, -3.4103, -3.053, -3.9324, -4.1122, -4.0197, -4.4473, -3.2235, -4.8351, -4.9806, -5.091, -5.0639, -4.3016, -5.1824, -4.3292, -4.084, -5.285, -5.5668, -5.5418, -5.2851, -5.2897, -5.2923, -5.0516, -5.667, -5.3822, -5.5228, -5.7227, -5.1449, -4.9095, -5.2834, -5.798, -4.7845, -4.4915, -3.928, -4.6355, -4.0013, -4.172, -4.9443, -4.0684, -4.5374, -4.6906, -3.9145, -4.2777, -5.0415, -4.7132, -4.9054, -4.9136, -4.9408, -4.9813, -2.5973, -4.1031, -4.418, -4.7185, -4.7426, -5.1568, -4.4214, -5.159, -4.7674, -5.2408, -4.945, -4.7072, -4.6329, -5.0564, -4.9327, -5.2729, -5.4051, -5.2745, -5.5072, -5.2783, -5.5579, -5.4015, -5.4654, -5.073, -5.2547, -5.6448, -5.395, -4.6328, -4.9343, -5.4391, -4.3335, -4.781, -5.0743, -5.1326, -4.8553, -4.401, -4.6769, -3.7338, -4.3617, -4.2622, -4.3306, -4.267, -4.6207, -4.7032, -4.7608, -4.5764, -4.7258, -4.7806, -4.7113, -4.8957, -4.8834, -4.9248, -2.5331, -4.2512, -4.3949, -4.4482, -4.5622, -4.6251, -5.2287, -4.8996, -4.7696, -4.698, -5.0209, -4.7676, -5.2552, -4.8744, -5.4882, -4.8675, -5.5598, -5.255, -5.3193, -4.7152, -5.0019, -5.4373, -5.063, -5.0687, -5.2083, -4.9002, -5.2746, -5.6123, -5.7419, -5.7101, -5.4593, -4.903, -4.4936, -3.7394, -3.8038, -4.4276, -4.6388, -4.9447, -4.6446, -4.894, -4.8957, -4.9088, -4.5646, -4.8702, -4.8273, -4.8076, -4.9368], \"loglift\": [30.0, 29.0, 28.0, 27.0, 26.0, 25.0, 24.0, 23.0, 22.0, 21.0, 20.0, 19.0, 18.0, 17.0, 16.0, 15.0, 14.0, 13.0, 12.0, 11.0, 10.0, 9.0, 8.0, 7.0, 6.0, 5.0, 4.0, 3.0, 2.0, 1.0, 0.9839, 0.9818, 0.9816, 0.9805, 0.9797, 0.9776, 0.975, 0.9728, 0.9705, 0.9683, 0.9672, 0.9437, 0.8775, 0.8552, 0.8401, 0.834, 0.8299, 0.8156, 0.8041, 0.7997, 0.797, 0.7801, 0.7709, 0.768, 0.7609, 0.7577, 0.7574, 0.7552, 0.7492, 0.7272, 0.7209, 0.7178, 0.698, 0.6769, 0.5918, 0.5851, 0.7013, 0.5054, 0.5797, 0.5825, 0.2232, 0.377, 0.7037, 0.4379, 0.3058, 0.2857, 0.3592, 0.4615, 1.1536, 1.1476, 1.1417, 1.1405, 1.14, 1.1312, 1.1046, 1.094, 1.0913, 1.0834, 1.0644, 1.063, 1.055, 1.0376, 1.0238, 1.0153, 0.9963, 0.9776, 0.9775, 0.9749, 0.9712, 0.961, 0.9363, 0.936, 0.9318, 0.9313, 0.9286, 0.9272, 0.9251, 0.923, 0.9167, 0.9066, 0.9073, 0.9043, 0.8142, 0.6753, 0.7525, 0.4318, 0.6139, 0.5616, 0.5616, 0.5082, 0.6546, 0.6836, 0.6702, 0.4699, 0.5118, 0.5093, 0.3456, 0.2553, -0.0676, -0.2701, 1.1595, 1.1514, 1.1497, 1.1486, 1.1479, 1.1468, 1.1353, 1.0328, 1.0237, 0.9919, 0.99, 0.9828, 0.9647, 0.9624, 0.9139, 0.9041, 0.8837, 0.8702, 0.8682, 0.8622, 0.8582, 0.8522, 0.8445, 0.8384, 0.8297, 0.8296, 0.7916, 0.7897, 0.7428, 0.7333, 0.7278, 0.6914, 0.5633, 0.4263, 0.334, 0.3881, 0.4591, 0.6144, 0.4016, 0.5376, 0.5359, 0.5368, 0.0285, 0.4728, 0.3853, -0.2339, 0.3528]}, \"token.table\": {\"Topic\": [1, 2, 3, 1, 2, 3, 1, 2, 3, 1, 2, 3, 1, 2, 3, 1, 2, 3, 1, 2, 3, 1, 2, 3, 1, 2, 3, 1, 2, 3, 1, 2, 3, 2, 3, 2, 3, 1, 2, 3, 2, 3, 1, 2, 1, 2, 3, 1, 1, 1, 2, 3, 1, 2, 3, 1, 2, 3, 1, 2, 3, 1, 2, 3, 1, 2, 3, 1, 2, 3, 2, 3, 1, 2, 3, 1, 2, 3, 1, 2, 3, 1, 2, 3, 3, 2, 2, 3, 1, 2, 3, 1, 2, 3, 1, 2, 1, 2, 3, 1, 2, 3, 1, 2, 3, 1, 2, 3, 1, 2, 3, 1, 2, 3, 2, 1, 2, 3, 1, 2, 3, 1, 2, 3, 1, 2, 3, 1, 2, 3, 1, 3, 1, 3, 1, 2, 3, 1, 2, 3, 1, 1, 1, 1, 2, 3, 1, 2, 3, 1, 2, 2, 3, 1, 2, 3, 1, 2, 3, 1, 2, 3, 1, 2, 3, 1, 2, 3, 1, 3, 3, 2, 3, 1, 2, 3, 1, 2, 1, 2, 1, 2, 3, 1, 2, 3, 1, 1, 2, 2, 3, 1, 2, 3, 1, 2, 3, 2, 3, 1, 3, 1, 2, 3, 2, 3, 1, 2, 3, 2, 3, 1, 2, 3, 1, 2, 3, 1, 2, 3, 1, 2, 3, 1, 2, 3, 1, 2, 3, 1, 2, 3, 2, 3, 1, 2, 3, 1, 2, 3, 1, 2, 3, 2, 3, 2, 3, 1, 2, 3, 1, 2, 3, 3, 3, 1, 2, 3, 2, 3, 1, 2, 3, 1, 2, 3, 1, 2, 3, 1, 2, 3, 1, 2, 2, 3, 2, 3, 1, 2, 3, 1, 2, 3, 2, 3, 2, 2, 3, 1, 2, 3, 1, 2, 3, 3, 3, 1, 2, 3, 1, 1, 2, 3, 1, 2, 3, 1, 2, 3, 2, 3, 1, 2, 3, 1, 2, 3, 1, 2, 3, 2, 3, 2, 1, 2, 1, 2, 3, 1, 2, 3, 1, 2, 3, 2, 2, 3], \"Freq\": [0.16355286394194749, 0.04088821598548687, 0.7768761037242506, 0.02841414413535353, 0.25572729721818177, 0.7103536033838382, 0.23305782387894516, 0.5223709845562564, 0.24109430056442605, 0.028381446463341446, 0.7662990545102191, 0.19867012524339014, 0.8373519518682283, 0.11962170740974691, 0.029905426852436728, 0.03299424057547369, 0.19796544345284212, 0.7588675332358948, 0.16012247847870156, 0.7805970825836701, 0.06004592942951308, 0.7419624772708606, 0.04239785584404918, 0.1907903512982213, 0.8052556260640302, 0.04238187505600159, 0.1271456251680048, 0.06596341738832265, 0.2638536695532906, 0.6596341738832265, 0.042622761190344874, 0.10655690297586219, 0.8311438432117251, 0.9129827191985749, 0.08695073516176904, 0.8253185811221344, 0.15720353926135894, 0.24270354567462177, 0.2929180723659228, 0.460299828003593, 0.7785605250245553, 0.19464013125613883, 0.992711428198748, 0.003832862657138023, 0.7691370908088766, 0.14886524338236323, 0.08683805863971188, 0.9932122052581241, 0.986796148611535, 0.044412015442255676, 0.8438282934028579, 0.08882403088451135, 0.9002986213004325, 0.02904189100969137, 0.05808378201938274, 0.13940725145241065, 0.02323454190873511, 0.8132089668057287, 0.26942000678767575, 0.22688000571593747, 0.4963000125036132, 0.7959787594953794, 0.13266312658256324, 0.04422104219418775, 0.25177886510598696, 0.6095698839408105, 0.14576671137715033, 0.020060580948774994, 0.12036348569264996, 0.8425443998485498, 0.3409308702709651, 0.6392453817580596, 0.04643032781271809, 0.8357459006289255, 0.09286065562543618, 0.01761693181119687, 0.7927619315038591, 0.1761693181119687, 0.8375133947343443, 0.029911192669083726, 0.1196447706763349, 0.1744911746947616, 0.09970924268272092, 0.7228920094497266, 0.986919038367899, 0.9956557477140829, 0.7842512840961025, 0.19012152341723695, 0.7991996298423126, 0.0726545118038466, 0.10898176770576991, 0.6176196487642599, 0.1379788577026538, 0.24967602822384977, 0.08008164014180374, 0.9009184515952922, 0.0464546093675111, 0.6193947915668147, 0.34066713536174803, 0.9876109387192517, 0.875772559801293, 0.10947156997516162, 0.858129865651154, 0.03730999415874583, 0.10260248393655103, 0.728866031421333, 0.06876094636050312, 0.20628283908150932, 0.8019917504931607, 0.07824309760908886, 0.11736464641363328, 0.7911998964458483, 0.0565142783175606, 0.1412856957939015, 0.9728654419746443, 0.786170450115279, 0.09249064119003282, 0.13873596178504924, 0.529698264836421, 0.353132176557614, 0.1086560543254197, 0.12766770438577224, 0.5794149660585048, 0.2847971867067227, 0.18461624239619687, 0.6190074009754837, 0.19547602136067904, 0.6708652516741236, 0.07103279135373072, 0.26045356829701266, 0.8541478898482154, 0.12202112712117363, 0.9956160171688617, 0.9990130418246617, 0.07134599964506345, 0.19025599905350257, 0.7372419963323225, 0.8373952658856696, 0.11962789512652423, 0.05981394756326212, 0.9972482587401198, 0.984967353203408, 0.9936437406769172, 0.18798028215157356, 0.7787754546279476, 0.026854326021653364, 0.05237560273470325, 0.8641974451226037, 0.05237560273470325, 0.07564959029263565, 0.9456198786579456, 0.911210397910429, 0.08283730890094809, 0.8603134423368403, 0.11731546940956912, 0.03910515646985637, 0.12923305984008293, 0.7883216650245058, 0.07753983590404975, 0.03494970376531909, 0.4849271397438024, 0.48055842677313754, 0.46735234645083046, 0.09771912698517364, 0.4376117425857776, 0.5414552928061134, 0.24222999941326123, 0.2137323524234658, 0.10226566884401392, 0.8692581851741183, 0.9825265190828287, 0.8456346639600423, 0.14093911066000706, 0.8712326363356876, 0.10890407954196095, 0.012100453282440105, 0.9886646508481578, 0.009028900920987742, 0.04749996635880204, 0.9262493439966398, 0.03296144482792401, 0.7910746758701761, 0.16480722413962004, 0.2473413354321443, 0.6647298389738878, 0.0927530007870541, 0.9937372445721678, 0.7484785936497654, 0.2494928645499218, 0.2713922519386363, 0.7097951204548949, 0.040863939730635276, 0.8581427343433408, 0.12259181919190583, 0.04262007742125219, 0.21310038710626097, 0.7671613935825395, 0.13826819777656912, 0.8296091866594147, 0.7673076045263718, 0.23352840137759143, 0.6698916633214023, 0.006698916633214023, 0.32154799839427306, 0.9511361932887126, 0.035227266418100464, 0.23566947827112739, 0.21995817971971887, 0.5341841507478887, 0.7075908109670489, 0.2751742042649634, 0.1987523197466202, 0.5510859774792651, 0.2439233015072157, 0.266346043537788, 0.244150539909639, 0.4993988316333525, 0.12266212721042057, 0.16354950294722742, 0.6950853875257165, 0.31681566938682365, 0.10560522312894122, 0.5808287272091767, 0.794667631936386, 0.06357341055491088, 0.1589335263872772, 0.19405248761519192, 0.5484092041298902, 0.2531119403676416, 0.09974832039001695, 0.17455956068252967, 0.723175322827623, 0.2557402772941234, 0.7306865065546383, 0.015492435125915228, 0.4492806186515416, 0.542235229407033, 0.5096048473827046, 0.1864407978229407, 0.3107346630382345, 0.6674368126106532, 0.10181239514399795, 0.23756225533599523, 0.2922515131641858, 0.7014036315940458, 0.21767033218888535, 0.7836131958799872, 0.5734696481992891, 0.40962117728520653, 0.011703462208148758, 0.6611413175301435, 0.07933695810361721, 0.2512337006614545, 0.9933766859199309, 0.9840527988348786, 0.07857616364271817, 0.7857616364271817, 0.15715232728543635, 0.9014861171223144, 0.09014861171223144, 0.4912710122572038, 0.13509952837073105, 0.3684532591929029, 0.13632404147656968, 0.03408101036914242, 0.8179442488594182, 0.08067692907474619, 0.5244000389858502, 0.4033846453737309, 0.31116120019855564, 0.22403606414296007, 0.4605185762938624, 0.9516445168797366, 0.038580183116746075, 0.6222425273932246, 0.37038245678168136, 0.4648092754097832, 0.5422774879780804, 0.8090734616804638, 0.023116384619441824, 0.16181469233609277, 0.13443043578213956, 0.43017739450284664, 0.4436204380810606, 0.9534921849500431, 0.0510799384794666, 0.9862950534719095, 0.11122241089279189, 0.8675348049637768, 0.22206923925511105, 0.08882769570204442, 0.6662077177653332, 0.15122842720745497, 0.7939492428391386, 0.03780710680186374, 0.9887784761181259, 0.9799092013125941, 0.8626544854478193, 0.061618177531987096, 0.061618177531987096, 0.9897564367493363, 0.7938164056482512, 0.12403381338253924, 0.07442028802952355, 0.010652134311491137, 0.44738964108262774, 0.5539109841975391, 0.21510775828346107, 0.035851293047243514, 0.734951507468492, 0.24799946089226838, 0.7439983826768051, 0.7476203175159309, 0.027689641389478922, 0.22151713111583138, 0.30995686205257694, 0.07293102636531222, 0.6199137241051539, 0.2169260323318965, 0.5231745485651622, 0.26796745170410746, 0.8174904772456585, 0.16349809544913171, 0.97399737679148, 0.14078689958947604, 0.8447213975368563, 0.031617790558335385, 0.5058846489333662, 0.4637275948555856, 0.5954374425961466, 0.20370228299341858, 0.20370228299341858, 0.08280358026416554, 0.8004346092202669, 0.11040477368555406, 0.9850196261808717, 0.9984388744115995, 0.002885661486738727], \"Term\": [\"afirmar\", \"afirmar\", \"afirmar\", \"amor\", \"amor\", \"amor\", \"ano\", \"ano\", \"ano\", \"antiguo\", \"antiguo\", \"antiguo\", \"aprender\", \"aprender\", \"aprender\", \"arte\", \"arte\", \"arte\", \"articulo\", \"articulo\", \"articulo\", \"aspecto\", \"aspecto\", \"aspecto\", \"base\", \"base\", \"base\", \"camino\", \"camino\", \"camino\", \"caracter\", \"caracter\", \"caracter\", \"carta\", \"carta\", \"casa\", \"casa\", \"caso\", \"caso\", \"caso\", \"celebrar\", \"celebrar\", \"chomsky\", \"chomsky\", \"ciencia\", \"ciencia\", \"ciencia\", \"cognitiva\", \"cognitivo\", \"comun\", \"comun\", \"comun\", \"concepto\", \"concepto\", \"concepto\", \"consciente\", \"consciente\", \"consciente\", \"considerar\", \"considerar\", \"considerar\", \"consistir\", \"consistir\", \"consistir\", \"cosa\", \"cosa\", \"cosa\", \"cultura\", \"cultura\", \"cultura\", \"cultural\", \"cultural\", \"decidir\", \"decidir\", \"decidir\", \"dejar\", \"dejar\", \"dejar\", \"desarrollar\", \"desarrollar\", \"desarrollar\", \"desear\", \"desear\", \"desear\", \"deseo\", \"diccionario\", \"dio\", \"dio\", \"disciplina\", \"disciplina\", \"disciplina\", \"ejemplo\", \"ejemplo\", \"ejemplo\", \"escribir\", \"escribir\", \"escrito\", \"escrito\", \"escrito\", \"especifico\", \"espiritu\", \"espiritu\", \"estructura\", \"estructura\", \"estructura\", \"estudio\", \"estudio\", \"estudio\", \"explicar\", \"explicar\", \"explicar\", \"facultad\", \"facultad\", \"facultad\", \"fanatismo\", \"fenomeno\", \"fenomeno\", \"fenomeno\", \"filosofia\", \"filosofia\", \"filosofia\", \"filosofico\", \"filosofico\", \"filosofico\", \"filosofo\", \"filosofo\", \"filosofo\", \"forma\", \"forma\", \"forma\", \"formal\", \"formal\", \"frase\", \"freud\", \"fuerza\", \"fuerza\", \"fuerza\", \"fundamental\", \"fundamental\", \"fundamental\", \"generativo\", \"gramatica\", \"gramatico\", \"guerra\", \"guerra\", \"guerra\", \"habrio\", \"habrio\", \"habrio\", \"hacer\", \"hacer\", \"hijo\", \"hijo\", \"hipotesis\", \"hipotesis\", \"hipotesis\", \"historia\", \"historia\", \"historia\", \"hombre\", \"hombre\", \"hombre\", \"humano\", \"humano\", \"humano\", \"idea\", \"idea\", \"idea\", \"impulso\", \"impulso\", \"inconsciente\", \"joven\", \"joven\", \"lengua\", \"lengua\", \"lengua\", \"lenguaje\", \"lenguaje\", \"ley\", \"ley\", \"libertad\", \"libertad\", \"libertad\", \"libro\", \"libro\", \"libro\", \"linguistico\", \"luis\", \"luis\", \"madre\", \"madre\", \"mano\", \"mano\", \"mano\", \"mayorio\", \"mayorio\", \"mayorio\", \"medico\", \"medico\", \"mental\", \"mental\", \"mente\", \"mente\", \"mente\", \"mil\", \"mil\", \"momento\", \"momento\", \"momento\", \"moral\", \"moral\", \"mundo\", \"mundo\", \"mundo\", \"naturaleza\", \"naturaleza\", \"naturaleza\", \"necesidad\", \"necesidad\", \"necesidad\", \"nino\", \"nino\", \"nino\", \"nivel\", \"nivel\", \"nivel\", \"obra\", \"obra\", \"obra\", \"origen\", \"origen\", \"origen\", \"oscuro\", \"oscuro\", \"padre\", \"padre\", \"padre\", \"palabra\", \"palabra\", \"palabra\", \"pensamiento\", \"pensamiento\", \"pensamiento\", \"placer\", \"placer\", \"podiar\", \"podiar\", \"politico\", \"politico\", \"politico\", \"proceso\", \"proceso\", \"proceso\", \"psicoanalisis\", \"psique\", \"publicar\", \"publicar\", \"publicar\", \"pueblo\", \"pueblo\", \"punto\", \"punto\", \"punto\", \"racional\", \"racional\", \"racional\", \"razon\", \"razon\", \"razon\", \"realidad\", \"realidad\", \"realidad\", \"regla\", \"regla\", \"religion\", \"religion\", \"religioso\", \"religioso\", \"representacion\", \"representacion\", \"representacion\", \"resultar\", \"resultar\", \"resultar\", \"rey\", \"rey\", \"rousseau\", \"sentimiento\", \"sentimiento\", \"serie\", \"serie\", \"serie\", \"servir\", \"servir\", \"servir\", \"sexual\", \"sexualidad\", \"simple\", \"simple\", \"simple\", \"sintaxis\", \"sistema\", \"sistema\", \"sistema\", \"sociedad\", \"sociedad\", \"sociedad\", \"sujeto\", \"sujeto\", \"sujeto\", \"tenia\", \"tenia\", \"teoria\", \"teoria\", \"teoria\", \"termino\", \"termino\", \"termino\", \"tiempo\", \"tiempo\", \"tiempo\", \"tierra\", \"tierra\", \"tolerancia\", \"tratado\", \"tratado\", \"vida\", \"vida\", \"vida\", \"visto\", \"visto\", \"visto\", \"vivir\", \"vivir\", \"vivir\", \"voltairar\", \"voltaire\", \"voltaire\"]}, \"R\": 30, \"lambda.step\": 0.01, \"plot.opts\": {\"xlab\": \"PC1\", \"ylab\": \"PC2\"}, \"topic.order\": [2, 3, 1]};\n",
       "\n",
       "function LDAvis_load_lib(url, callback){\n",
       "  var s = document.createElement('script');\n",
       "  s.src = url;\n",
       "  s.async = true;\n",
       "  s.onreadystatechange = s.onload = callback;\n",
       "  s.onerror = function(){console.warn(\"failed to load library \" + url);};\n",
       "  document.getElementsByTagName(\"head\")[0].appendChild(s);\n",
       "}\n",
       "\n",
       "if(typeof(LDAvis) !== \"undefined\"){\n",
       "   // already loaded: just create the visualization\n",
       "   !function(LDAvis){\n",
       "       new LDAvis(\"#\" + \"ldavis_el861403848392247847178704651\", ldavis_el861403848392247847178704651_data);\n",
       "   }(LDAvis);\n",
       "}else if(typeof define === \"function\" && define.amd){\n",
       "   // require.js is available: use it to load d3/LDAvis\n",
       "   require.config({paths: {d3: \"https://d3js.org/d3.v5\"}});\n",
       "   require([\"d3\"], function(d3){\n",
       "      window.d3 = d3;\n",
       "      LDAvis_load_lib(\"https://cdn.jsdelivr.net/gh/bmabey/pyLDAvis@3.3.1/pyLDAvis/js/ldavis.v3.0.0.js\", function(){\n",
       "        new LDAvis(\"#\" + \"ldavis_el861403848392247847178704651\", ldavis_el861403848392247847178704651_data);\n",
       "      });\n",
       "    });\n",
       "}else{\n",
       "    // require.js not available: dynamically load d3 & LDAvis\n",
       "    LDAvis_load_lib(\"https://d3js.org/d3.v5.js\", function(){\n",
       "         LDAvis_load_lib(\"https://cdn.jsdelivr.net/gh/bmabey/pyLDAvis@3.3.1/pyLDAvis/js/ldavis.v3.0.0.js\", function(){\n",
       "                 new LDAvis(\"#\" + \"ldavis_el861403848392247847178704651\", ldavis_el861403848392247847178704651_data);\n",
       "            })\n",
       "         });\n",
       "}\n",
       "</script>"
      ],
      "text/plain": [
       "PreparedData(topic_coordinates=              x         y  topics  cluster       Freq\n",
       "topic                                                \n",
       "1     -0.179720 -0.035877       1        1  37.233116\n",
       "2      0.138162 -0.082179       2        1  31.464053\n",
       "0      0.041558  0.118056       3        1  31.302830, topic_info=            Term        Freq       Total Category  logprob  loglift\n",
       "269        freud  367.000000  367.000000  Default  30.0000  30.0000\n",
       "292     voltaire  346.000000  346.000000  Default  29.0000  29.0000\n",
       "7        chomsky  260.000000  260.000000  Default  28.0000  28.0000\n",
       "24      lenguaje  221.000000  221.000000  Default  27.0000  27.0000\n",
       "26   linguistico  182.000000  182.000000  Default  26.0000  26.0000\n",
       "..           ...         ...         ...      ...      ...      ...\n",
       "28         mente   48.078552  149.277869   Topic3  -4.5646   0.0285\n",
       "85    considerar   35.420880   70.521860   Topic3  -4.8702   0.4728\n",
       "79      realidad   36.973083   80.344207   Topic3  -4.8273   0.3853\n",
       "87       ejemplo   37.706922  152.197230   Topic3  -4.8076  -0.2339\n",
       "42      resultar   33.137423   74.387916   Topic3  -4.9368   0.3528\n",
       "\n",
       "[177 rows x 6 columns], token_table=      Topic      Freq       Term\n",
       "term                            \n",
       "201       1  0.163553    afirmar\n",
       "201       2  0.040888    afirmar\n",
       "201       3  0.776876    afirmar\n",
       "156       1  0.028414       amor\n",
       "156       2  0.255727       amor\n",
       "...     ...       ...        ...\n",
       "222       2  0.800435      vivir\n",
       "222       3  0.110405      vivir\n",
       "293       2  0.985020  voltairar\n",
       "292       2  0.998439   voltaire\n",
       "292       3  0.002886   voltaire\n",
       "\n",
       "[338 rows x 3 columns], R=30, lambda_step=0.01, plot_opts={'xlab': 'PC1', 'ylab': 'PC2'}, topic_order=[2, 3, 1])"
      ]
     },
     "execution_count": 14,
     "metadata": {},
     "output_type": "execute_result"
    }
   ],
   "source": [
    "# Visualizamos los resultados\n",
    "import pyLDAvis\n",
    "import pyLDAvis.gensim_models as gensimvis\n",
    "\n",
    "pyLDAvis.enable_notebook()\n",
    "LDA_visualization = gensimvis.prepare(Estimacion, corpus, dictionary)\n",
    "LDA_visualization"
   ]
  },
  {
   "cell_type": "markdown",
   "metadata": {},
   "source": [
    "Tenemos entonces una gráfica  interactiva donde cada burbuja en la gráfica del lado izquierdo representa un tema. Cuanto más grande es la burbuja, más frecuente es ese tema. Un buen modelo de temas tendrá burbujas grandes que no se superpongan y están dispersas por todo el gráfico en lugar de estar agrupadas en un cuadrante. Un modelo con demasiados temas normalmente tendrá muchas burbujas pequeñas, superpuestas y agrupadas en una región del gráfico.\n",
    "\n",
    "Cuando posamos el cursor sobre las burbujas, las palabras y las barras del lado derecho se actualizarán. Estas palabras son las palabras claves sobresalientes que forman el tema seleccionado. La gráfica de la derecha también contiene un parámetro $\\lambda$ que al deslizarlo cambia la distribución de frecuencia de las palabras. Los valores de $\\lambda$ que están muy cerca de cero mostrarán términos que son más específicos para un tema elegido. Lo que significa que verán términos que son \"importantes\" para ese tema específico, pero no necesariamente \"importantes\" para todo el corpus. Los valores de  $\\lambda$ que están muy cerca de uno mostrarán aquellos términos que tienen la relación más alta entre la frecuencia de los términos para ese tema específico y la frecuencia general de los términos del corpus. Utilizar diferentes valores del parámetro $\\lambda$ puede ayudar cuando estamos intentando asignar un  \"significado\" a cada tópico.\n",
    "\n",
    "El escenario ideal es como el que aparece por la gráfica anterior, donde los círculos se distribuyen por todo el gráfico, alejados entre si y tienen un tamaño razonable y consistente. Es decir, los tópicos son distintos y  aparecen de manera uniforme en todo el corpus.\n",
    "\n",
    "[pyLDAvis](https://pyldavis.readthedocs.io/en/latest/readme.html) permite también guardar la visualización como html, que permite una mejor interacción, para ello podemos utilizar la función  `save_html`. Por ahora la dejamos escrita pero comentada y los invito a que la prueben por su cuenta."
   ]
  },
  {
   "cell_type": "code",
   "execution_count": 15,
   "metadata": {},
   "outputs": [],
   "source": [
    "#pyLDAvis.save_html(LDA_visualization, 'visualizacion_LDA.html')"
   ]
  },
  {
   "cell_type": "markdown",
   "metadata": {},
   "source": [
    "### Eligiendo el número de temas\n",
    "\n",
    "Elegir el número de tópicos,  como el número de clusters en K-medias, es un paso clave. La pregunta natural que surge es si existe algún método para hacerlo. Desafortunadamente, no existe una forma objetiva aceptada en la literatura de responderla. Sin embargo, hay 2 métodos  que pueden servir de guía.\n",
    "\n",
    "#### Medida de Coherencia\n",
    "\n",
    "Decimos que hechos, documentos o enunciados son coherentes, si se apoyan entre sí.  Un ejemplo de un conjunto de hechos coherente es \"el juego es un deporte de equipo\", “el juego se juega con una pelota”, “el juego exige un gran esfuerzo físico”. El problema fundamental es cómo medir esta coherencia en los datos. Röder et al. (2015) proponen una forma de hacerlo que consiste en 4 pasos que se muestran en la figura y describimos brevemente (los invito a leer el artículo original para los detalles matemáticos):"
   ]
  },
  {
   "cell_type": "markdown",
   "metadata": {},
   "source": [
    "<center>\n",
    "<img src = \"figs/coherencia.jpeg\" alt = \"coherencia\" style = \"width: 600px;\"/>\n",
    "</center>\n"
   ]
  },
  {
   "cell_type": "markdown",
   "metadata": {},
   "source": [
    "Comenzando con el tópico  que queremos evaluar (t), elegimos un corpus de referencia, y las n-palabras más importantes del tópico  que llamamos $W$:\n",
    "\n",
    "1. En el primer paso segmentamos el conjunto $W$ creando pares de palabras. Por ejemplo si tenemos las palabras $W={perro, gato, conejo}$ y la segmentamos una a una vamos a tener: $S={(perro,gato),(perro,conejo),(gato,perro),(gato,conejo),(conejo,perro),(conejo,gato)}$. Existen múltiples formas de segmentar, pero la idea es que dependiendo la segmentación, la medida de coherencia va a estar interesada en estos conjuntos resultantes.\n",
    "\n",
    "2. Usando el corpus de referencia, en el segundo definimos y calculamos la probabilidad de ocurrencia de distintas palabras dentro del texto.  Al igual que en el paso anterior, se pueden definir distintas formas de calcular estas probabilidades.\n",
    "\n",
    "3. Con las palabras segmentadas y las probabilidades, utilizamos una medida de confirmación para evaluar la relación entre los subconjuntos creados en el paso de segmentación. Esto nos dice cuán fuerte es la relación de estos subconjuntos. Esto se pueden hacer por medidas de confirmación directa o indirecta, que están  más allá de este curso.\n",
    "\n",
    "4. Agregación, toma los valores calculados en el paso anterior y se los agrega en un solo resultado que da la medida de coherencia del tópico. Aquí también existen varias formas de hacer la agregación, por ejemplo, la media, la mediana, etc.\n",
    "\n",
    "\n",
    "[Gensim](https://radimrehurek.com/gensim/index.html) implementa esta medida a través de la función [CoherenceModel](https://radimrehurek.com/gensim/models/coherencemodel.html) que implementa los 4 pasos anteriores. La función requiere como insumos el modelo estimado, el corpus y el diccionario."
   ]
  },
  {
   "cell_type": "code",
   "execution_count": 16,
   "metadata": {},
   "outputs": [
    {
     "data": {
      "text/plain": [
       "0.6043466319744287"
      ]
     },
     "execution_count": 16,
     "metadata": {},
     "output_type": "execute_result"
    }
   ],
   "source": [
    "from gensim.models import CoherenceModel\n",
    "\n",
    "coherencemodel = CoherenceModel(model=Estimacion, texts=clean, dictionary=dictionary)\n",
    "coherencemodel.get_coherence() "
   ]
  },
  {
   "cell_type": "markdown",
   "metadata": {},
   "source": [
    "Obtuvimos una coherencia de 0.51, sin embargo, este número no tiene interpretación directa. Sirve sólo en un contexto donde se compara con otros modelos con diferentes números de temas, y escogeremos aquella con mayor coherencia.\n",
    "\n",
    "Ilustremos esto creando una función que itere a lo largo de distinto número de temas y devuelve la medida de coherencia. Adicionalmente, aprovecharemos que [Gensim](https://radimrehurek.com/gensim/index.html) tiene una implementación de LDA ([LdaMulticore](https://radimrehurek.com/gensim/models/ldamulticore.html)) que paraleliza y acelera la estimación del modelo:"
   ]
  },
  {
   "cell_type": "code",
   "execution_count": 17,
   "metadata": {},
   "outputs": [],
   "source": [
    "from gensim.models.ldamulticore import LdaMulticore\n",
    "\n",
    "def calcular_coherencia(dictionary, corpus, texts, start=1, limit=10, step=1):\n",
    " \n",
    "    coherence_values = []\n",
    "    model_list = []\n",
    "    \n",
    "    for num_topics in range(start, limit, step):\n",
    "        model = LdaMulticore(corpus=corpus,\n",
    "                        id2word=dictionary,\n",
    "                        num_topics=num_topics, \n",
    "                        random_state=123,\n",
    "                        passes=20)\n",
    "        model_list.append(model)\n",
    "        coherencemodel = CoherenceModel(model=model, texts=texts, dictionary=dictionary, coherence='c_v')\n",
    "        coherence_values.append(coherencemodel.get_coherence())\n",
    "\n",
    "    return model_list, coherence_values"
   ]
  },
  {
   "cell_type": "markdown",
   "metadata": {},
   "source": [
    "La función además de los insumos esenciales para la estimación de LDA, tiene además un punto de inicio, finalización y tamaño de paso para el rango de temas a estimar:"
   ]
  },
  {
   "cell_type": "code",
   "execution_count": 18,
   "metadata": {},
   "outputs": [],
   "source": [
    "modelos, valores_c = calcular_coherencia(dictionary=dictionary, corpus=corpus, texts=clean, start=1, limit=10, step=1)"
   ]
  },
  {
   "cell_type": "markdown",
   "metadata": {},
   "source": [
    "Graficamos los resultados:"
   ]
  },
  {
   "cell_type": "code",
   "execution_count": 19,
   "metadata": {},
   "outputs": [
    {
     "data": {
      "image/png": "[encoded data removed]",
      "text/plain": [
       "<Figure size 640x480 with 1 Axes>"
      ]
     },
     "metadata": {},
     "output_type": "display_data"
    }
   ],
   "source": [
    "import matplotlib.pyplot as plt\n",
    "# Show graph\n",
    "limit=10; start=1; step=1;\n",
    "x = range(start, limit, step)\n",
    "plt.plot(x, valores_c)\n",
    "plt.xlabel(\"Número de Temas\")\n",
    "plt.ylabel(\"Medida de Coherencia\")\n",
    "plt.show()"
   ]
  },
  {
   "cell_type": "markdown",
   "metadata": {},
   "source": [
    "La medida de coherencia sugiere que hay 4 tipos de temas en estas páginas, visualicemos entonces los resultados:"
   ]
  },
  {
   "cell_type": "code",
   "execution_count": 20,
   "metadata": {},
   "outputs": [
    {
     "data": {
      "text/html": [
       "\n",
       "<link rel=\"stylesheet\" type=\"text/css\" href=\"https://cdn.jsdelivr.net/gh/bmabey/pyLDAvis@3.3.1/pyLDAvis/js/ldavis.v1.0.0.css\">\n",
       "\n",
       "\n",
       "<div id=\"ldavis_el861403864566224165283234745\"></div>\n",
       "<script type=\"text/javascript\">\n",
       "\n",
       "var ldavis_el861403864566224165283234745_data = {\"mdsDat\": {\"x\": [0.028882489273339963, -0.009190758628113934, -0.0031617212470447537, -0.016530009398181278], \"y\": [-0.003355487999633881, -0.015617219561594092, 0.019972623420502815, -0.000999915859274833], \"topics\": [1, 2, 3, 4], \"cluster\": [1, 1, 1, 1], \"Freq\": [32.32931758919849, 27.165254582493244, 22.827197768975736, 17.678230059332538]}, \"tinfo\": {\"Term\": [\"freud\", \"hombre\", \"historia\", \"chomsky\", \"frase\", \"politico\", \"voltaire\", \"generativo\", \"linguistico\", \"diccionario\", \"estructura\", \"gramatico\", \"teoria\", \"inconsciente\", \"forma\", \"lengua\", \"caso\", \"tolerancia\", \"sociedad\", \"luis\", \"rey\", \"religion\", \"hijo\", \"lenguaje\", \"filosofo\", \"proceso\", \"gramatica\", \"articulo\", \"ciencia\", \"religioso\", \"inconsciente\", \"freud\", \"psique\", \"oscuro\", \"consciente\", \"muerte\", \"tenia\", \"religioso\", \"psicoanalisis\", \"deseo\", \"interno\", \"medico\", \"finalmente\", \"cultura\", \"habiar\", \"existencia\", \"habrio\", \"realidad\", \"pese\", \"caracter\", \"mayorio\", \"autor\", \"origen\", \"dudar\", \"sujeto\", \"ciudad\", \"completo\", \"casa\", \"sentimiento\", \"persona\", \"mundo\", \"mente\", \"ano\", \"razon\", \"humano\", \"lenguaje\", \"vida\", \"voltaire\", \"pensamiento\", \"estudio\", \"palabra\", \"lugar\", \"hombre\", \"obra\", \"idea\", \"ejemplo\", \"filosofico\", \"forma\", \"chomsky\", \"naturaleza\", \"linguistico\", \"teoria\", \"tiempo\", \"caso\", \"cognitiva\", \"cerebro\", \"ciencia\", \"capitulo\", \"proceso\", \"nombre\", \"gramatica\", \"chomsky\", \"teoria\", \"fundamental\", \"logico\", \"caber\", \"campo\", \"rousseau\", \"producir\", \"distinto\", \"intentar\", \"idea\", \"especifico\", \"servir\", \"investigacion\", \"natural\", \"humano\", \"orden\", \"estructura\", \"principio\", \"desarrollar\", \"aspecto\", \"general\", \"ser\", \"rey\", \"pensamiento\", \"gramatico\", \"generativo\", \"politico\", \"linguistico\", \"historia\", \"lenguaje\", \"mental\", \"voltaire\", \"mente\", \"filosofia\", \"ejemplo\", \"mundo\", \"forma\", \"filosofo\", \"lugar\", \"obra\", \"freud\", \"frase\", \"tolerancia\", \"hijo\", \"politico\", \"tierra\", \"diccionario\", \"antiguo\", \"moral\", \"articulo\", \"celebrar\", \"leer\", \"sociedad\", \"hecho\", \"creer\", \"convertir\", \"hombre\", \"fanatismo\", \"guerra\", \"lector\", \"dejar\", \"parecer\", \"preguntar\", \"cultural\", \"dio\", \"amigo\", \"tipo\", \"religion\", \"pequeno\", \"mostrar\", \"recibir\", \"ley\", \"caso\", \"visto\", \"chomsky\", \"naturaleza\", \"escribir\", \"filosofico\", \"determinado\", \"voltaire\", \"ejemplo\", \"ano\", \"linguistico\", \"frase\", \"freud\", \"obra\", \"resultar\", \"punto\", \"humano\", \"idea\", \"lenguaje\", \"generativo\", \"mente\", \"tiempo\", \"estructura\", \"teoria\", \"forma\", \"historia\", \"frase\", \"hacer\", \"querer\", \"justo\", \"nivel\", \"lengua\", \"luis\", \"concreto\", \"objeto\", \"gramatico\", \"generativo\", \"fenomeno\", \"significado\", \"momento\", \"especifico\", \"pese\", \"constituir\", \"pueblo\", \"rey\", \"forma\", \"conocimiento\", \"mantener\", \"llevar\", \"tomar\", \"filosofo\", \"expresar\", \"importante\", \"estructura\", \"nino\", \"intelectual\", \"voltaire\", \"linguistico\", \"hombre\", \"escrito\", \"caso\", \"lenguaje\", \"teoria\", \"profundo\", \"ejemplo\", \"obra\", \"razon\", \"palabra\", \"filosofia\", \"chomsky\", \"filosofico\", \"cosa\", \"humano\", \"ano\", \"vida\", \"idea\", \"freud\", \"mente\"], \"Freq\": [353.0, 219.0, 81.0, 269.0, 100.0, 85.0, 348.0, 111.0, 185.0, 76.0, 111.0, 93.0, 150.0, 48.0, 128.0, 83.0, 117.0, 39.0, 92.0, 52.0, 61.0, 64.0, 34.0, 224.0, 94.0, 79.0, 68.0, 49.0, 84.0, 61.0, 34.10971658218755, 239.02854552685056, 16.78280612605408, 17.15891797499918, 27.01248443832055, 21.2473574652418, 18.48476497679132, 36.627700925038454, 37.134069728387686, 29.94500225733272, 15.150500907180636, 18.50669354766434, 14.265751016385673, 25.14704604896618, 13.847136463547148, 14.177311775583927, 18.58072800884491, 39.396333984272665, 19.5276654703898, 22.696959009550493, 11.133091690553657, 26.110810735537516, 19.063326427880533, 11.53946079297048, 25.294761929329663, 13.252128584303161, 13.220178283515656, 11.028853265259505, 19.692456149256074, 19.82627016831579, 47.22244908716623, 61.95931910668904, 49.675580281165445, 31.110391671192026, 87.92067317616394, 80.99564115233407, 38.16457267485478, 105.81416496956065, 35.98890362594105, 30.007692746400057, 31.86015073626843, 31.261786737656827, 63.68497950965229, 39.33212474849845, 43.12583412122956, 44.07018371831996, 33.182106504721666, 37.00055990274733, 49.70517363805038, 30.364054226985946, 40.041113013820855, 35.38952712952486, 28.100118017489446, 29.986687857734726, 24.13028153166458, 15.684039788578916, 39.01073328630013, 14.271601054281431, 35.89912262476746, 15.721527702465746, 29.806688280424385, 118.08063380390851, 63.73057303966723, 14.58543010017183, 11.49176766596167, 10.41545613128068, 24.244219192200823, 24.143988977209123, 15.14199306197843, 12.237893386671546, 13.281902776472249, 56.41183445925373, 14.358230169774055, 10.568564585230252, 10.237625020340396, 17.486607124948495, 93.13467250635908, 19.714200424923845, 42.513133947678895, 30.947561193303745, 13.025333613184932, 18.312268493346398, 24.358050506691605, 9.849934914433636, 23.02151952735568, 33.53234100847801, 34.36122447548153, 40.380421843180315, 31.196127350239717, 61.55596059325502, 29.135708168016894, 68.6987468428648, 22.482434631407425, 90.45661788071061, 45.06486812851466, 25.69840061506383, 41.80256325483651, 32.92302667668006, 35.920100781525704, 28.951468308547206, 25.60412764433832, 30.745794759253215, 49.34666216563322, 25.33050113507428, 21.3933583711289, 17.36894529319957, 39.68925556588117, 10.72290737264071, 34.46218067401496, 14.609077468656837, 21.039601200366985, 20.556353183401434, 8.227843977992991, 9.453488672974991, 36.7525953838955, 15.954278767491612, 13.73189162959027, 10.08041908696245, 84.38369488681768, 15.523910425465251, 14.059949739259265, 12.43517708419747, 20.965106533035886, 8.512320920003305, 9.280530323212803, 8.242876643152185, 14.782820492655057, 11.389337237256868, 22.697198479763973, 23.18355854140189, 8.21758677281971, 14.396492678029947, 7.770283263765179, 14.837554852152136, 37.830795792086654, 20.81520631779201, 69.00005379980922, 26.566213135564794, 16.031247392753688, 28.340288681427054, 17.478388927702667, 70.75987508362556, 36.75347961220543, 30.738801869977497, 40.74452561368035, 23.607277925516154, 45.110518909741735, 25.302396900199682, 19.590546972974536, 20.459871959654578, 33.79052774802551, 25.923766396074857, 30.404977462925647, 23.117217901446608, 25.255670764474118, 19.871454078350602, 21.261244627828606, 21.642397198391507, 20.844236912854093, 30.950358955606045, 36.097031138507504, 9.447544853745162, 12.907367758003787, 8.608077121503355, 10.311612430828925, 25.977659556264822, 16.065030601730466, 12.722586632368477, 16.036501775204066, 26.980822312499857, 31.88373979177561, 6.1241162572666585, 8.21014934656065, 17.98243194282574, 10.266469208329113, 10.887519069389908, 8.767073394223774, 9.069368225141062, 16.519765308243326, 34.573851386757966, 11.654942924558174, 6.371201367802262, 7.163215354631557, 9.708744430313425, 24.53669702446089, 6.435845622231843, 10.19416793196104, 28.38290055276298, 14.136836702479119, 16.10315605101146, 81.35353361086571, 43.04124158158585, 47.860242034254, 15.930733733956489, 25.90583058331926, 43.9124022090406, 30.178505889935657, 12.520984705665086, 29.63144982701924, 23.175062041277155, 16.424720618737723, 16.94484931583287, 16.28638792428912, 32.76511625726897, 18.830079387554605, 16.08729685485502, 26.93264736340361, 19.039255167084814, 17.25168263053769, 18.832852500708892, 20.41190004084783, 17.370752873063015], \"Total\": [353.0, 219.0, 81.0, 269.0, 100.0, 85.0, 348.0, 111.0, 185.0, 76.0, 111.0, 93.0, 150.0, 48.0, 128.0, 83.0, 117.0, 39.0, 92.0, 52.0, 61.0, 64.0, 34.0, 224.0, 94.0, 79.0, 68.0, 49.0, 84.0, 61.0, 48.03671559141218, 353.8976266430734, 25.124786858223704, 26.37438688400935, 41.67714880695635, 35.45998650769407, 30.857278260743662, 61.44638141219134, 65.42196039109355, 53.57799032993257, 28.059924912327098, 34.453643437511154, 27.30831805684681, 48.141617487858625, 26.602524222590812, 27.811373311962868, 37.016476874183226, 79.0268171758416, 39.37816494161151, 46.1729055247938, 22.889382497814395, 54.162615652360266, 39.56972528799041, 24.28766067787715, 54.64556549473808, 28.93993189060495, 29.091161759388783, 24.389622558015965, 43.74560937812792, 44.12611493698876, 110.81204390306773, 149.65061087274083, 121.24316029750044, 73.47842096791335, 241.77852079395214, 224.01176766716512, 94.2021365786116, 348.38419154476253, 90.65307654430251, 72.1152849440296, 78.5350960912731, 78.85649221759883, 219.40580226188484, 118.5553784492285, 144.29428747726703, 152.25767641238116, 99.85204442451544, 128.33874898388507, 269.5509774990371, 88.37411142147093, 185.38284080234206, 150.94100325751924, 77.768503940487, 117.51737621204397, 46.93350131540771, 33.780004157120516, 84.65719226207267, 30.97581179363319, 79.73717514389064, 35.70366189166435, 68.00340525663485, 269.5509774990371, 150.94100325751924, 34.68634912557888, 27.381999430175135, 25.34756346174553, 59.241614020728505, 59.00462352370433, 37.485729281389055, 30.48971845467044, 33.58359612548979, 144.29428747726703, 36.85406002415675, 27.166573095489298, 26.38264320169756, 45.32994270180877, 241.77852079395214, 51.201620604487545, 111.12561061410355, 81.1731462617327, 34.274895819013324, 48.227391816791005, 64.3755493521033, 26.03785551617183, 61.152469208015134, 90.65307654430251, 93.90013387773095, 111.77386664859343, 85.29530651506157, 185.38284080234206, 81.46260513008377, 224.01176766716512, 61.3975404821194, 348.38419154476253, 149.65061087274083, 75.32786278050372, 152.25767641238116, 110.81204390306773, 128.33874898388507, 94.10788241804521, 78.85649221759883, 118.5553784492285, 353.8976266430734, 100.34986642381308, 39.991788109316474, 34.04854771111837, 85.29530651506157, 23.141022686054086, 76.70156401792974, 33.649124518203756, 49.255879374241744, 49.103325962844835, 19.67728389265265, 22.91662100170772, 92.61317129846003, 40.252641004793524, 34.84277765287922, 25.643582533311, 219.40580226188484, 40.399556290014466, 36.70194256319708, 32.466577361257904, 55.55011366107136, 22.97537655324617, 25.22766120409881, 22.443962322301413, 40.47185219408963, 31.394953569264622, 63.21007554108373, 64.59736306187261, 22.952749362752662, 40.27783175917256, 21.841647909912588, 41.835353541607304, 117.51737621204397, 63.52803471787286, 269.5509774990371, 88.37411142147093, 49.269516711295246, 99.85204442451544, 55.02452742014371, 348.38419154476253, 152.25767641238116, 121.24316029750044, 185.38284080234206, 100.34986642381308, 353.8976266430734, 118.5553784492285, 73.84439949524236, 81.08181199994667, 241.77852079395214, 144.29428747726703, 224.01176766716512, 111.77386664859343, 149.65061087274083, 77.768503940487, 111.12561061410355, 150.94100325751924, 128.33874898388507, 81.46260513008377, 100.34986642381308, 26.554379682464138, 40.395834517647074, 26.971202503384617, 32.76280939960376, 83.76248984433514, 52.7343218059969, 42.32661524148571, 54.071209574745744, 93.90013387773095, 111.77386664859343, 21.77462054852689, 29.263243047410285, 64.33629856274615, 36.85406002415675, 39.37816494161151, 31.968677958621576, 33.52033121278464, 61.152469208015134, 128.33874898388507, 43.52383819165031, 24.12392510158798, 27.303125350044546, 37.14205878711598, 94.10788241804521, 24.711395750801408, 39.379245111901604, 111.12561061410355, 56.32789004837437, 64.42097596081749, 348.38419154476253, 185.38284080234206, 219.40580226188484, 65.57593179702069, 117.51737621204397, 224.01176766716512, 150.94100325751924, 50.15887452460861, 152.25767641238116, 118.5553784492285, 73.47842096791335, 78.5350960912731, 75.32786278050372, 269.5509774990371, 99.85204442451544, 74.26622289809202, 241.77852079395214, 121.24316029750044, 94.2021365786116, 144.29428747726703, 353.8976266430734, 149.65061087274083], \"Category\": [\"Default\", \"Default\", \"Default\", \"Default\", \"Default\", \"Default\", \"Default\", \"Default\", \"Default\", \"Default\", \"Default\", \"Default\", \"Default\", \"Default\", \"Default\", \"Default\", \"Default\", \"Default\", \"Default\", \"Default\", \"Default\", \"Default\", \"Default\", \"Default\", \"Default\", \"Default\", \"Default\", \"Default\", \"Default\", \"Default\", \"Topic1\", \"Topic1\", \"Topic1\", \"Topic1\", \"Topic1\", \"Topic1\", \"Topic1\", \"Topic1\", \"Topic1\", \"Topic1\", \"Topic1\", \"Topic1\", \"Topic1\", \"Topic1\", \"Topic1\", \"Topic1\", \"Topic1\", \"Topic1\", \"Topic1\", \"Topic1\", \"Topic1\", \"Topic1\", \"Topic1\", \"Topic1\", \"Topic1\", \"Topic1\", \"Topic1\", \"Topic1\", \"Topic1\", \"Topic1\", \"Topic1\", \"Topic1\", \"Topic1\", \"Topic1\", \"Topic1\", \"Topic1\", \"Topic1\", \"Topic1\", \"Topic1\", \"Topic1\", \"Topic1\", \"Topic1\", \"Topic1\", \"Topic1\", \"Topic1\", \"Topic1\", \"Topic1\", \"Topic1\", \"Topic1\", \"Topic1\", \"Topic1\", \"Topic1\", \"Topic1\", \"Topic1\", \"Topic2\", \"Topic2\", \"Topic2\", \"Topic2\", \"Topic2\", \"Topic2\", \"Topic2\", \"Topic2\", \"Topic2\", \"Topic2\", \"Topic2\", \"Topic2\", \"Topic2\", \"Topic2\", \"Topic2\", \"Topic2\", \"Topic2\", \"Topic2\", \"Topic2\", \"Topic2\", \"Topic2\", \"Topic2\", \"Topic2\", \"Topic2\", \"Topic2\", \"Topic2\", \"Topic2\", \"Topic2\", \"Topic2\", \"Topic2\", \"Topic2\", \"Topic2\", \"Topic2\", \"Topic2\", \"Topic2\", \"Topic2\", \"Topic2\", \"Topic2\", \"Topic2\", \"Topic2\", \"Topic2\", \"Topic2\", \"Topic2\", \"Topic2\", \"Topic2\", \"Topic2\", \"Topic2\", \"Topic2\", \"Topic2\", \"Topic2\", \"Topic3\", \"Topic3\", \"Topic3\", \"Topic3\", \"Topic3\", \"Topic3\", \"Topic3\", \"Topic3\", \"Topic3\", \"Topic3\", \"Topic3\", \"Topic3\", \"Topic3\", \"Topic3\", \"Topic3\", \"Topic3\", \"Topic3\", \"Topic3\", \"Topic3\", \"Topic3\", \"Topic3\", \"Topic3\", \"Topic3\", \"Topic3\", \"Topic3\", \"Topic3\", \"Topic3\", \"Topic3\", \"Topic3\", \"Topic3\", \"Topic3\", \"Topic3\", \"Topic3\", \"Topic3\", \"Topic3\", \"Topic3\", \"Topic3\", \"Topic3\", \"Topic3\", \"Topic3\", \"Topic3\", \"Topic3\", \"Topic3\", \"Topic3\", \"Topic3\", \"Topic3\", \"Topic3\", \"Topic3\", \"Topic3\", \"Topic3\", \"Topic3\", \"Topic3\", \"Topic3\", \"Topic3\", \"Topic3\", \"Topic4\", \"Topic4\", \"Topic4\", \"Topic4\", \"Topic4\", \"Topic4\", \"Topic4\", \"Topic4\", \"Topic4\", \"Topic4\", \"Topic4\", \"Topic4\", \"Topic4\", \"Topic4\", \"Topic4\", \"Topic4\", \"Topic4\", \"Topic4\", \"Topic4\", \"Topic4\", \"Topic4\", \"Topic4\", \"Topic4\", \"Topic4\", \"Topic4\", \"Topic4\", \"Topic4\", \"Topic4\", \"Topic4\", \"Topic4\", \"Topic4\", \"Topic4\", \"Topic4\", \"Topic4\", \"Topic4\", \"Topic4\", \"Topic4\", \"Topic4\", \"Topic4\", \"Topic4\", \"Topic4\", \"Topic4\", \"Topic4\", \"Topic4\", \"Topic4\", \"Topic4\", \"Topic4\", \"Topic4\", \"Topic4\", \"Topic4\", \"Topic4\", \"Topic4\", \"Topic4\"], \"logprob\": [30.0, 29.0, 28.0, 27.0, 26.0, 25.0, 24.0, 23.0, 22.0, 21.0, 20.0, 19.0, 18.0, 17.0, 16.0, 15.0, 14.0, 13.0, 12.0, 11.0, 10.0, 9.0, 8.0, 7.0, 6.0, 5.0, 4.0, 3.0, 2.0, 1.0, -4.9402, -2.9932, -5.6494, -5.6272, -5.1734, -5.4135, -5.5528, -4.8689, -4.8552, -5.0704, -5.7517, -5.5516, -5.8119, -5.245, -5.8417, -5.8181, -5.5476, -4.7961, -5.4979, -5.3475, -6.0598, -5.2074, -5.522, -6.024, -5.2391, -5.8856, -5.888, -6.0692, -5.4895, -5.4827, -4.6149, -4.3433, -4.5642, -5.0322, -3.9933, -4.0753, -4.8278, -3.8081, -4.8865, -5.0683, -5.0084, -5.0273, -4.3158, -4.7977, -4.7056, -4.684, -4.9677, -4.8588, -4.5636, -5.0565, -4.7798, -4.9033, -5.134, -5.069, -5.1122, -5.5431, -4.6319, -5.6374, -4.715, -5.5407, -4.901, -3.5243, -4.141, -5.6157, -5.8541, -5.9524, -5.1075, -5.1117, -5.5782, -5.7912, -5.7093, -4.263, -5.6314, -5.9378, -5.9696, -5.4343, -3.7617, -5.3144, -4.5459, -4.8634, -5.7288, -5.3881, -5.1028, -6.0082, -5.1593, -4.7832, -4.7588, -4.5974, -4.8554, -4.1758, -4.9237, -4.066, -5.183, -3.7908, -4.4876, -5.0493, -4.5627, -4.8015, -4.7144, -4.9301, -5.0529, -4.8699, -4.3968, -5.0637, -5.0586, -5.267, -4.4406, -5.7493, -4.5819, -5.4401, -5.0753, -5.0985, -6.0142, -5.8753, -4.5175, -5.352, -5.502, -5.8111, -3.6863, -5.3793, -5.4784, -5.6012, -5.0789, -5.9802, -5.8938, -6.0124, -5.4282, -5.689, -4.9995, -4.9783, -6.0154, -5.4547, -6.0714, -5.4246, -4.4886, -5.086, -3.8876, -4.8421, -5.3472, -4.7774, -5.2607, -3.8624, -4.5175, -4.6962, -4.4144, -4.9602, -4.3126, -4.8908, -5.1467, -5.1032, -4.6015, -4.8666, -4.7071, -4.9811, -4.8927, -5.1324, -5.0648, -5.0471, -5.0846, -4.4337, -4.2799, -5.6203, -5.3083, -5.7134, -5.5328, -4.6089, -5.0894, -5.3227, -5.0912, -4.571, -4.404, -6.0539, -5.7607, -4.9767, -5.5372, -5.4785, -5.6951, -5.6612, -5.0615, -4.323, -5.4104, -6.0143, -5.8971, -5.5931, -4.6659, -6.0042, -5.5443, -4.5203, -5.2173, -5.0871, -3.4673, -4.1039, -3.9978, -5.0978, -4.6116, -4.0839, -4.459, -5.3387, -4.4773, -4.723, -5.0673, -5.0361, -5.0758, -4.3767, -4.9306, -5.0881, -4.5728, -4.9196, -5.0182, -4.9305, -4.85, -5.0113], \"loglift\": [30.0, 29.0, 28.0, 27.0, 26.0, 25.0, 24.0, 23.0, 22.0, 21.0, 20.0, 19.0, 18.0, 17.0, 16.0, 15.0, 14.0, 13.0, 12.0, 11.0, 10.0, 9.0, 8.0, 7.0, 6.0, 5.0, 4.0, 3.0, 2.0, 1.0, 0.7868, 0.7368, 0.7257, 0.6993, 0.6955, 0.617, 0.6168, 0.6118, 0.5629, 0.5474, 0.5129, 0.5077, 0.4799, 0.4798, 0.4763, 0.4554, 0.44, 0.4331, 0.4278, 0.419, 0.4084, 0.3996, 0.3989, 0.385, 0.3589, 0.3481, 0.3405, 0.3356, 0.331, 0.3292, 0.2762, 0.2474, 0.2369, 0.2697, 0.1176, 0.1119, 0.2257, -0.0624, 0.2054, 0.2524, 0.227, 0.204, -0.1078, 0.0259, -0.0785, -0.1106, 0.0275, -0.1145, -0.5615, 0.0609, -0.4033, -0.3213, 0.1112, -0.2366, 0.638, 0.536, 0.5285, 0.5283, 0.5052, 0.483, 0.4784, 0.4778, 0.441, 0.4369, 0.435, 0.4138, 0.4098, 0.4097, 0.3967, 0.3904, 0.3756, 0.3641, 0.3606, 0.3591, 0.3566, 0.3507, 0.3493, 0.3488, 0.3424, 0.3389, 0.3357, 0.3349, 0.3314, 0.3311, 0.3263, 0.3087, 0.2979, 0.2851, 0.2974, 0.2008, 0.2751, 0.1213, 0.2986, -0.0452, 0.103, 0.2278, 0.0106, 0.0896, 0.0299, 0.1244, 0.1784, -0.0464, -0.6669, -0.0734, 0.8516, 0.8041, 0.7122, 0.708, 0.6772, 0.6429, 0.6266, 0.6065, 0.6053, 0.5917, 0.553, 0.5518, 0.5461, 0.5435, 0.5217, 0.5208, 0.5177, 0.5175, 0.5028, 0.4843, 0.4772, 0.4755, 0.4701, 0.4632, 0.453, 0.4525, 0.4501, 0.4484, 0.4437, 0.4406, 0.3438, 0.3614, 0.1146, 0.2753, 0.3545, 0.2178, 0.3304, -0.1168, 0.0559, 0.1049, -0.0379, 0.0301, -0.5827, -0.0673, 0.1503, 0.1002, -0.4906, -0.2395, -0.5199, -0.0987, -0.302, 0.1128, -0.1766, -0.465, -0.3404, 0.7651, 0.7104, 0.6994, 0.5919, 0.5908, 0.5768, 0.5621, 0.5442, 0.5308, 0.5174, 0.4857, 0.4785, 0.4643, 0.4619, 0.4581, 0.4548, 0.4472, 0.4391, 0.4256, 0.424, 0.4213, 0.4153, 0.4014, 0.3948, 0.3911, 0.3886, 0.3875, 0.3814, 0.368, 0.3504, 0.3464, 0.2783, 0.2726, 0.2102, 0.3179, 0.2207, 0.1033, 0.1231, 0.345, 0.0961, 0.1005, 0.2346, 0.1993, 0.2013, -0.3746, 0.0646, 0.2032, -0.4618, -0.1185, 0.0353, -0.3034, -1.1201, -0.4207]}, \"token.table\": {\"Topic\": [1, 2, 3, 4, 1, 2, 3, 4, 1, 2, 3, 4, 1, 2, 3, 4, 1, 2, 3, 4, 1, 2, 3, 4, 1, 2, 3, 4, 1, 2, 3, 4, 1, 2, 3, 4, 1, 2, 3, 4, 1, 2, 3, 4, 1, 2, 3, 4, 1, 2, 3, 4, 1, 2, 3, 4, 1, 2, 3, 4, 1, 2, 3, 4, 1, 2, 3, 4, 1, 2, 3, 4, 1, 2, 3, 4, 1, 2, 3, 4, 1, 2, 3, 4, 1, 2, 3, 4, 1, 2, 3, 4, 1, 2, 3, 4, 1, 2, 3, 4, 1, 2, 3, 4, 1, 2, 3, 4, 1, 2, 3, 4, 1, 2, 3, 4, 1, 2, 3, 4, 1, 2, 3, 4, 1, 2, 3, 4, 1, 2, 3, 4, 1, 2, 3, 4, 1, 2, 3, 4, 1, 2, 3, 4, 1, 2, 3, 4, 1, 2, 3, 4, 1, 2, 3, 4, 1, 2, 3, 4, 1, 2, 3, 4, 1, 2, 3, 4, 1, 2, 3, 4, 1, 2, 3, 4, 1, 2, 3, 4, 1, 2, 3, 4, 1, 2, 3, 4, 1, 2, 3, 4, 1, 2, 3, 4, 1, 2, 3, 4, 1, 2, 3, 4, 1, 2, 3, 4, 1, 2, 3, 4, 1, 2, 3, 4, 1, 2, 3, 4, 1, 2, 3, 4, 1, 2, 3, 4, 1, 2, 3, 4, 1, 2, 3, 4, 1, 2, 3, 4, 1, 2, 3, 4, 1, 2, 3, 4, 1, 2, 3, 4, 1, 2, 3, 4, 1, 2, 3, 4, 1, 2, 3, 4, 1, 2, 3, 4, 1, 2, 3, 4, 1, 2, 3, 4, 1, 2, 3, 4, 1, 2, 3, 4, 1, 2, 3, 4, 1, 2, 3, 4, 1, 2, 3, 4, 1, 2, 3, 4, 1, 2, 3, 4, 1, 2, 3, 4, 1, 2, 3, 4, 1, 2, 3, 4, 1, 2, 3, 4, 1, 2, 3, 4, 1, 2, 3, 4, 1, 2, 3, 4, 1, 2, 3, 4, 1, 2, 3, 4, 1, 2, 3, 4, 1, 2, 3, 4, 1, 2, 3, 4, 1, 2, 3, 4, 1, 2, 3, 4, 1, 2, 3, 4, 1, 2, 3, 4, 1, 2, 3, 4, 1, 2, 3, 4, 1, 2, 3, 4, 1, 2, 3, 4, 1, 2, 3, 4, 1, 2, 3, 4, 1, 2, 3, 4, 1, 2, 3, 4, 1, 2, 3, 4, 1, 2, 3, 4, 1, 2, 3, 4, 1, 2, 3, 4, 1, 2, 3, 4, 1, 2, 3, 4, 1, 2, 3, 4, 1, 2, 3, 4, 1, 2, 3, 4, 1, 2, 3, 4, 1, 2, 3, 4, 1, 2, 3, 4, 1, 2, 3, 4, 1, 2, 3, 4, 1, 2, 3, 4, 1, 2, 3, 4, 1, 2, 3, 4, 1, 2, 3, 4, 1, 2, 3, 4, 1, 2, 3, 4, 1, 2, 3, 4, 1, 2, 3, 4, 1, 2, 3, 4, 1, 2, 3, 4, 1, 2, 3, 4, 1, 2, 3, 4, 1, 2, 3, 4, 1, 2, 3, 4, 1, 2, 3, 4, 1, 2, 3, 4, 1, 2, 3, 4, 1, 2, 3, 4, 1, 2, 3, 4, 1, 2, 3, 4, 1, 2, 3, 4, 1, 2, 3, 4, 1, 2, 3, 4, 1, 2, 3, 4, 1, 2, 3, 4, 1, 2, 3, 4, 1, 2, 3, 4, 1, 2, 3, 4, 1, 2, 3, 4, 1, 2, 3, 4, 1, 2, 3, 4, 1, 2, 3, 4], \"Freq\": [0.28667027585003085, 0.1911135172333539, 0.35037478159448215, 0.15926126436112825, 0.4123943971545486, 0.1814535347480014, 0.25568452623582016, 0.15670987091872848, 0.26746609693013296, 0.11887382085783688, 0.4457768282168883, 0.20802918650121455, 0.16292175414051147, 0.2443826312107672, 0.4276696046188426, 0.1832869734080754, 0.2488212517398057, 0.37323187760970855, 0.22808614742815522, 0.14514573018155333, 0.48003590090403964, 0.16616627338985987, 0.24001795045201982, 0.11077751559323992, 0.2761606657209629, 0.39451523674423267, 0.19725761837211633, 0.11835457102326981, 0.2194403413021686, 0.4051206300963113, 0.2869604463182205, 0.08440013127006485, 0.2259827780022472, 0.4519655560044944, 0.16141627000160513, 0.16141627000160513, 0.49812763001560567, 0.21657723044156768, 0.1949195073974109, 0.08663089217662708, 0.45101148957242504, 0.12300313351975228, 0.28700731154608866, 0.16400417802633638, 0.2552813972451965, 0.20422511779615718, 0.3233564365105822, 0.2212438776125036, 0.3049201319009457, 0.15246006595047285, 0.4065601758679276, 0.1016400439669819, 0.26642980735403143, 0.47365299085161144, 0.1776198715693543, 0.08880993578467715, 0.1854936697463047, 0.43776506060127907, 0.2559812642499005, 0.1224258220325611, 0.20080987268480652, 0.46068147262985026, 0.1653728363286642, 0.1653728363286642, 0.44920630943918416, 0.13821732598128741, 0.34554331495321855, 0.06910866299064371, 0.23437416113655324, 0.5113618061161161, 0.14914719345053387, 0.1065337096075242, 0.44687111871028745, 0.24062291007477019, 0.1718735071962644, 0.13749880575701154, 0.18900637233470385, 0.33076115158573177, 0.18900637233470385, 0.3071353550438938, 0.25273506329021916, 0.27571097813478457, 0.2067832336010884, 0.27571097813478457, 0.6478370227546232, 0.1439637828343607, 0.11996981902863392, 0.09597585522290714, 0.25024494320205365, 0.18768370740154022, 0.2815255611023103, 0.2815255611023103, 0.27297277948223514, 0.1949805567730251, 0.3899611135460502, 0.11698833406381505, 0.32316171556122836, 0.20197607222576772, 0.269301429634357, 0.21544114370748557, 0.31570387727371724, 0.17220211487657305, 0.4018049347120038, 0.11480140991771537, 0.5193012055796636, 0.1454043375623058, 0.20772048223186543, 0.12463228933911927, 0.35644330021222725, 0.13366623757958523, 0.35644330021222725, 0.13366623757958523, 0.25202468685155865, 0.21602116015847886, 0.378037030277338, 0.14401410677231924, 0.23340698224856915, 0.37928634615392487, 0.204231109467498, 0.17505523668642686, 0.5599314161516771, 0.1679794248455031, 0.13065066376872464, 0.14931504430711387, 0.2362582762544705, 0.30895313048661527, 0.30895313048661527, 0.14538970846428953, 0.11733789415162593, 0.28682596348175227, 0.4432764890172535, 0.14341298174087613, 0.3459194289616553, 0.1482511838407094, 0.3706279596017735, 0.1482511838407094, 0.19678764856160602, 0.39357529712321204, 0.22958558998854034, 0.19678764856160602, 0.49407804889708523, 0.20586585370711885, 0.12351951222427131, 0.20586585370711885, 0.28898378746322473, 0.27584816076035085, 0.24300909400316623, 0.19703440054310775, 0.24355830543896828, 0.22326177998572094, 0.32474440725195775, 0.22326177998572094, 0.2744909528043915, 0.28974045018241323, 0.19824346591428274, 0.24399195804834797, 0.13567026256327383, 0.3798767351771667, 0.18993836758858335, 0.27134052512654766, 0.1709776881764878, 0.3869495048204724, 0.18897533956348653, 0.251967119417982, 0.4160005749583285, 0.22186697331110852, 0.1525335441513871, 0.20800028747916424, 0.5033911789597962, 0.21573907669705553, 0.17978256391421293, 0.10786953834852776, 0.28327011839357497, 0.12140147931153213, 0.32373727816408565, 0.24280295862306425, 0.1732692297348371, 0.19802197683981385, 0.3960439536796277, 0.22277472394479056, 0.22962512659437653, 0.27555015191325183, 0.22962512659437653, 0.27555015191325183, 0.252230705859314, 0.3451578080180086, 0.18585420431738925, 0.21240480493415914, 0.33048897686763756, 0.19028153213591253, 0.28041488946345006, 0.19028153213591253, 0.2656525612694718, 0.30815697107258727, 0.17001763921246194, 0.2656525612694718, 0.5126643087595754, 0.10985663759133757, 0.21971327518267514, 0.14647551678845008, 0.28829952210805737, 0.2805076431321639, 0.1636294584937623, 0.27271576415627047, 0.1494770300605053, 0.2491283834341755, 0.23916324809680847, 0.3587448721452127, 0.6753365436978349, 0.13845811983763143, 0.1271554161774166, 0.056513518301074046, 0.2018084974771232, 0.43244678030812117, 0.2018084974771232, 0.17297871212324847, 0.23300772033737857, 0.3728123525398057, 0.23300772033737857, 0.15533848022491906, 0.14314616179739492, 0.35786540449348736, 0.2057726075837552, 0.28629232359478984, 0.17646175150661594, 0.4411543787665399, 0.17646175150661594, 0.20587204342438528, 0.20234262950828422, 0.36208681069903487, 0.14909456911136731, 0.2875395261433512, 0.24521862799231672, 0.27246514221368523, 0.38145119909915937, 0.08173954266410557, 0.5262658491674721, 0.15036167119070631, 0.1879520889883829, 0.11277125339302974, 0.5132849369911635, 0.1080599867349818, 0.1620899801024727, 0.24313497015370905, 0.1882928563871472, 0.22595142766457668, 0.22595142766457668, 0.338927141496865, 0.17390163291810837, 0.34780326583621674, 0.39748944666996194, 0.09937236166749049, 0.2643284546630193, 0.08810948488767309, 0.4992870810301475, 0.14684914147945516, 0.171857995182502, 0.3559915614494684, 0.085928997591251, 0.3805427036183973, 0.2916969348130958, 0.10482858594845629, 0.3828522269421882, 0.2187727011098218, 0.3639694697073407, 0.3846495532134396, 0.14062456784147254, 0.11167245093293407, 0.2980020952442381, 0.38809575194598445, 0.18018731340349278, 0.13167534441024473, 0.3555172264023105, 0.2285467884014853, 0.1523645256009902, 0.25394087600165033, 0.7077919375086998, 0.22899150919399114, 0.04163481985345294, 0.02081740992672647, 0.23284341437365666, 0.23284341437365666, 0.279412097248388, 0.24836630866523376, 0.2382115354802054, 0.3870937451553338, 0.17865865161015404, 0.20843509354517972, 0.5345702116761653, 0.10691404233523305, 0.2138280846704661, 0.1425520564469774, 0.18951853920680248, 0.37903707841360496, 0.18951853920680248, 0.18951853920680248, 0.37076581953456095, 0.14830632781382438, 0.14830632781382438, 0.33368923758110486, 0.21560634255069466, 0.184805436472024, 0.369610872944048, 0.24640724862936533, 0.2181822529432854, 0.1745458023546283, 0.39272805529791366, 0.1745458023546283, 0.27458591599585186, 0.27458591599585186, 0.143262217041314, 0.3104014702561803, 0.36158814710283055, 0.30801953271722604, 0.13392153596401132, 0.19641825274721658, 0.19122582511567898, 0.2629355095340586, 0.3585484220918981, 0.21512905325513887, 0.21576970029631057, 0.3344430354592814, 0.22116394280371834, 0.23195242781853387, 0.29300674913346314, 0.21975506185009736, 0.21975506185009736, 0.2563809054917802, 0.3286830833135561, 0.4017237684943464, 0.1460813703615805, 0.10956102777118537, 0.3931191856018364, 0.32971286534347566, 0.20290022482675427, 0.07608758431003285, 0.1517038567297977, 0.2844447313683707, 0.26548174927714596, 0.3034077134595954, 0.3730736172534198, 0.16581049655707547, 0.20726312069634434, 0.2487157448356132, 0.4805721605224755, 0.1747535129172638, 0.21844189114657975, 0.13106513468794787, 0.5514656246576781, 0.08707351968279128, 0.2321960524874434, 0.1160980262437217, 0.37460783965276606, 0.35832054227655885, 0.11401108163345054, 0.14658567638586498, 0.4142983422414711, 0.30070040969139034, 0.16705578316188352, 0.1135979325500808, 0.31086650066593935, 0.24869320053275148, 0.15543325033296967, 0.2797798505993454, 0.2436257387432895, 0.1827193040574671, 0.4263450428007566, 0.14211501426691886, 0.2731030822555374, 0.22344797639089425, 0.3475857410525022, 0.1489653175939295, 0.5922168073990508, 0.11280320140934302, 0.22560640281868605, 0.05640160070467151, 0.42414162165543134, 0.2978015641410475, 0.18048579644911972, 0.09024289822455986, 0.19854426155365246, 0.37502804960134356, 0.24266520856557525, 0.1544233145417297, 0.3394659308869877, 0.22631062059132512, 0.30551933779828894, 0.13578637235479507, 0.23079153131487093, 0.2130383365983424, 0.3018043101809851, 0.24854472603139946, 0.15261206507096645, 0.36626895617031946, 0.15261206507096645, 0.3052241301419329, 0.2800833155529818, 0.448133304884771, 0.1680499893317891, 0.11203332622119275, 0.2589178254029438, 0.22192956463109467, 0.2034354342451701, 0.29590608617479286, 0.3289601915167586, 0.2614811778722953, 0.2108719176389478, 0.19400216422783198, 0.2343675816961986, 0.390612636160331, 0.25389821350421515, 0.13671442265611586, 0.4801650722039909, 0.22744661314925885, 0.17690292133831245, 0.10108738362189283, 0.6445647466522533, 0.11374671999745647, 0.11374671999745647, 0.11374671999745647, 0.40746114275851597, 0.1655310892456471, 0.2164637320904616, 0.2164637320904616, 0.2611491474838207, 0.21762428956985055, 0.391723721225731, 0.17409943165588046, 0.3971183480177494, 0.3750562175723189, 0.09927958700443736, 0.13237278267258315, 0.30497435794595845, 0.21783882710425603, 0.3485421233668097, 0.13070329626255361, 0.45324633787859214, 0.22662316893929607, 0.22662316893929607, 0.09064926757571842, 0.5078956835509034, 0.12697392088772586, 0.10157913671018069, 0.2793426259529969, 0.1289637196867052, 0.3634432100261692, 0.468958980678928, 0.0468958980678928, 0.1981951461750103, 0.23783417541001237, 0.35675126311501854, 0.15855611694000826, 0.30798362699150056, 0.3818996974694607, 0.12319345079660021, 0.18479017619490032, 0.25082403488597094, 0.4514832627947477, 0.11287081569868693, 0.1881180261644782, 0.18673773017603704, 0.4001522789486508, 0.24009136736919048, 0.1600609115794603, 0.3389230751511295, 0.2990497721921731, 0.09968325739739103, 0.2591764692332167, 0.5655593286843347, 0.21399542166434285, 0.12228309809391019, 0.09171232357043264, 0.6766226553852598, 0.23880799601832697, 0.03980133266972116, 0.07960266533944232, 0.14916320391527044, 0.2684937670474868, 0.2983264078305409, 0.2684937670474868, 0.30833055383637015, 0.27133088737600575, 0.24666444306909613, 0.1726651101483673, 0.27230530403313263, 0.22279524875438123, 0.19804022111500555, 0.321815359311884, 0.4218925718822553, 0.19053212923714757, 0.16331325363184077, 0.21775100484245435, 0.4935033624500096, 0.21511685029872213, 0.16450112081666987, 0.12653932370513066, 0.2747045472368853, 0.13735227361844266, 0.36627272964918045, 0.22892045603073777, 0.34057117747868393, 0.10836355647049034, 0.35605168554589683, 0.20124660487376778, 0.6021509997765137, 0.11392045941717825, 0.2278409188343565, 0.06509740538124471, 0.3656336862992508, 0.2708397676290747, 0.2708397676290747, 0.09479391867017614, 0.16352569453874677, 0.3761090974391176, 0.1962308334464961, 0.2779936807158695, 0.2711651908696987, 0.40674778630454805, 0.1694782442935617, 0.15253041986420554, 0.4571887392657895, 0.1828754957063158, 0.2514538065961842, 0.13715662177973684, 0.3072449647410973, 0.38405620592637163, 0.23043372355582298, 0.11521686177791149, 0.1840497136839903, 0.40490937010477873, 0.2944795418943845, 0.14723977094719226, 0.30755306188787146, 0.20503537459191432, 0.20503537459191432, 0.2733804994558858, 0.20515440442882157, 0.24834480536120507, 0.39951120862454725, 0.15116640326334221, 0.45749366437441835, 0.18299746574976736, 0.20129721232474407, 0.14639797259981388, 0.583330773631433, 0.09722179560523883, 0.19444359121047766, 0.09722179560523883, 0.23187867606979384, 0.42400672195619443, 0.14575231067244185, 0.19875315091696613, 0.3600429297370467, 0.27003219730278505, 0.25717352124074766, 0.11572808455833644, 0.302493113418818, 0.12963990575092202, 0.47534632108671404, 0.12963990575092202, 0.2847647285012466, 0.22148367772319183, 0.36386604197381517, 0.1265621015561096, 0.17503593439897433, 0.1250256674278388, 0.525107803196923, 0.17503593439897433, 0.32308386750393653, 0.21538924500262435, 0.1884655893772963, 0.2692365562532804, 0.40338787823871736, 0.22292488007929118, 0.19107846863939243, 0.18046299815942618, 0.2046340652238468, 0.26759839298503046, 0.33056272074621407, 0.1888929832835509, 0.30426179652408386, 0.2583354876147882, 0.20379799578499957, 0.2325019388533094], \"Term\": [\"amigo\", \"amigo\", \"amigo\", \"amigo\", \"ano\", \"ano\", \"ano\", \"ano\", \"antiguo\", \"antiguo\", \"antiguo\", \"antiguo\", \"articulo\", \"articulo\", \"articulo\", \"articulo\", \"aspecto\", \"aspecto\", \"aspecto\", \"aspecto\", \"autor\", \"autor\", \"autor\", \"autor\", \"caber\", \"caber\", \"caber\", \"caber\", \"campo\", \"campo\", \"campo\", \"campo\", \"capitulo\", \"capitulo\", \"capitulo\", \"capitulo\", \"caracter\", \"caracter\", \"caracter\", \"caracter\", \"casa\", \"casa\", \"casa\", \"casa\", \"caso\", \"caso\", \"caso\", \"caso\", \"celebrar\", \"celebrar\", \"celebrar\", \"celebrar\", \"cerebro\", \"cerebro\", \"cerebro\", \"cerebro\", \"chomsky\", \"chomsky\", \"chomsky\", \"chomsky\", \"ciencia\", \"ciencia\", \"ciencia\", \"ciencia\", \"ciudad\", \"ciudad\", \"ciudad\", \"ciudad\", \"cognitiva\", \"cognitiva\", \"cognitiva\", \"cognitiva\", \"completo\", \"completo\", \"completo\", \"completo\", \"concreto\", \"concreto\", \"concreto\", \"concreto\", \"conocimiento\", \"conocimiento\", \"conocimiento\", \"conocimiento\", \"consciente\", \"consciente\", \"consciente\", \"consciente\", \"constituir\", \"constituir\", \"constituir\", \"constituir\", \"convertir\", \"convertir\", \"convertir\", \"convertir\", \"cosa\", \"cosa\", \"cosa\", \"cosa\", \"creer\", \"creer\", \"creer\", \"creer\", \"cultura\", \"cultura\", \"cultura\", \"cultura\", \"cultural\", \"cultural\", \"cultural\", \"cultural\", \"dejar\", \"dejar\", \"dejar\", \"dejar\", \"desarrollar\", \"desarrollar\", \"desarrollar\", \"desarrollar\", \"deseo\", \"deseo\", \"deseo\", \"deseo\", \"determinado\", \"determinado\", \"determinado\", \"determinado\", \"diccionario\", \"diccionario\", \"diccionario\", \"diccionario\", \"dio\", \"dio\", \"dio\", \"dio\", \"distinto\", \"distinto\", \"distinto\", \"distinto\", \"dudar\", \"dudar\", \"dudar\", \"dudar\", \"ejemplo\", \"ejemplo\", \"ejemplo\", \"ejemplo\", \"escribir\", \"escribir\", \"escribir\", \"escribir\", \"escrito\", \"escrito\", \"escrito\", \"escrito\", \"especifico\", \"especifico\", \"especifico\", \"especifico\", \"estructura\", \"estructura\", \"estructura\", \"estructura\", \"estudio\", \"estudio\", \"estudio\", \"estudio\", \"existencia\", \"existencia\", \"existencia\", \"existencia\", \"expresar\", \"expresar\", \"expresar\", \"expresar\", \"fanatismo\", \"fanatismo\", \"fanatismo\", \"fanatismo\", \"fenomeno\", \"fenomeno\", \"fenomeno\", \"fenomeno\", \"filosofia\", \"filosofia\", \"filosofia\", \"filosofia\", \"filosofico\", \"filosofico\", \"filosofico\", \"filosofico\", \"filosofo\", \"filosofo\", \"filosofo\", \"filosofo\", \"finalmente\", \"finalmente\", \"finalmente\", \"finalmente\", \"forma\", \"forma\", \"forma\", \"forma\", \"frase\", \"frase\", \"frase\", \"frase\", \"freud\", \"freud\", \"freud\", \"freud\", \"fundamental\", \"fundamental\", \"fundamental\", \"fundamental\", \"general\", \"general\", \"general\", \"general\", \"generativo\", \"generativo\", \"generativo\", \"generativo\", \"gramatica\", \"gramatica\", \"gramatica\", \"gramatica\", \"gramatico\", \"gramatico\", \"gramatico\", \"gramatico\", \"guerra\", \"guerra\", \"guerra\", \"guerra\", \"habiar\", \"habiar\", \"habiar\", \"habiar\", \"habrio\", \"habrio\", \"habrio\", \"habrio\", \"hacer\", \"hacer\", \"hacer\", \"hacer\", \"hecho\", \"hecho\", \"hecho\", \"hecho\", \"hijo\", \"hijo\", \"hijo\", \"hijo\", \"historia\", \"historia\", \"historia\", \"historia\", \"hombre\", \"hombre\", \"hombre\", \"hombre\", \"humano\", \"humano\", \"humano\", \"humano\", \"idea\", \"idea\", \"idea\", \"idea\", \"importante\", \"importante\", \"importante\", \"importante\", \"inconsciente\", \"inconsciente\", \"inconsciente\", \"inconsciente\", \"intelectual\", \"intelectual\", \"intelectual\", \"intelectual\", \"intentar\", \"intentar\", \"intentar\", \"intentar\", \"interno\", \"interno\", \"interno\", \"interno\", \"investigacion\", \"investigacion\", \"investigacion\", \"investigacion\", \"justo\", \"justo\", \"justo\", \"justo\", \"lector\", \"lector\", \"lector\", \"lector\", \"leer\", \"leer\", \"leer\", \"leer\", \"lengua\", \"lengua\", \"lengua\", \"lengua\", \"lenguaje\", \"lenguaje\", \"lenguaje\", \"lenguaje\", \"ley\", \"ley\", \"ley\", \"ley\", \"linguistico\", \"linguistico\", \"linguistico\", \"linguistico\", \"llevar\", \"llevar\", \"llevar\", \"llevar\", \"logico\", \"logico\", \"logico\", \"logico\", \"lugar\", \"lugar\", \"lugar\", \"lugar\", \"luis\", \"luis\", \"luis\", \"luis\", \"mantener\", \"mantener\", \"mantener\", \"mantener\", \"mayorio\", \"mayorio\", \"mayorio\", \"mayorio\", \"medico\", \"medico\", \"medico\", \"medico\", \"mental\", \"mental\", \"mental\", \"mental\", \"mente\", \"mente\", \"mente\", \"mente\", \"momento\", \"momento\", \"momento\", \"momento\", \"moral\", \"moral\", \"moral\", \"moral\", \"mostrar\", \"mostrar\", \"mostrar\", \"mostrar\", \"muerte\", \"muerte\", \"muerte\", \"muerte\", \"mundo\", \"mundo\", \"mundo\", \"mundo\", \"natural\", \"natural\", \"natural\", \"natural\", \"naturaleza\", \"naturaleza\", \"naturaleza\", \"naturaleza\", \"nino\", \"nino\", \"nino\", \"nino\", \"nivel\", \"nivel\", \"nivel\", \"nivel\", \"nombre\", \"nombre\", \"nombre\", \"nombre\", \"objeto\", \"objeto\", \"objeto\", \"objeto\", \"obra\", \"obra\", \"obra\", \"obra\", \"orden\", \"orden\", \"orden\", \"orden\", \"origen\", \"origen\", \"origen\", \"origen\", \"oscuro\", \"oscuro\", \"oscuro\", \"oscuro\", \"palabra\", \"palabra\", \"palabra\", \"palabra\", \"parecer\", \"parecer\", \"parecer\", \"parecer\", \"pensamiento\", \"pensamiento\", \"pensamiento\", \"pensamiento\", \"pequeno\", \"pequeno\", \"pequeno\", \"pequeno\", \"persona\", \"persona\", \"persona\", \"persona\", \"pese\", \"pese\", \"pese\", \"pese\", \"politico\", \"politico\", \"politico\", \"politico\", \"preguntar\", \"preguntar\", \"preguntar\", \"preguntar\", \"principio\", \"principio\", \"principio\", \"principio\", \"proceso\", \"proceso\", \"proceso\", \"proceso\", \"producir\", \"producir\", \"producir\", \"producir\", \"profundo\", \"profundo\", \"profundo\", \"profundo\", \"psicoanalisis\", \"psicoanalisis\", \"psicoanalisis\", \"psicoanalisis\", \"psique\", \"psique\", \"psique\", \"psique\", \"pueblo\", \"pueblo\", \"pueblo\", \"pueblo\", \"punto\", \"punto\", \"punto\", \"punto\", \"querer\", \"querer\", \"querer\", \"querer\", \"razon\", \"razon\", \"razon\", \"razon\", \"realidad\", \"realidad\", \"realidad\", \"realidad\", \"recibir\", \"recibir\", \"recibir\", \"recibir\", \"religion\", \"religion\", \"religion\", \"religion\", \"religioso\", \"religioso\", \"religioso\", \"religioso\", \"resultar\", \"resultar\", \"resultar\", \"resultar\", \"rey\", \"rey\", \"rey\", \"rey\", \"rousseau\", \"rousseau\", \"rousseau\", \"rousseau\", \"sentimiento\", \"sentimiento\", \"sentimiento\", \"sentimiento\", \"ser\", \"ser\", \"ser\", \"ser\", \"servir\", \"servir\", \"servir\", \"servir\", \"significado\", \"significado\", \"significado\", \"significado\", \"sociedad\", \"sociedad\", \"sociedad\", \"sociedad\", \"sujeto\", \"sujeto\", \"sujeto\", \"sujeto\", \"tenia\", \"tenia\", \"tenia\", \"tenia\", \"teoria\", \"teoria\", \"teoria\", \"teoria\", \"tiempo\", \"tiempo\", \"tiempo\", \"tiempo\", \"tierra\", \"tierra\", \"tierra\", \"tierra\", \"tipo\", \"tipo\", \"tipo\", \"tipo\", \"tolerancia\", \"tolerancia\", \"tolerancia\", \"tolerancia\", \"tomar\", \"tomar\", \"tomar\", \"tomar\", \"vida\", \"vida\", \"vida\", \"vida\", \"visto\", \"visto\", \"visto\", \"visto\", \"voltaire\", \"voltaire\", \"voltaire\", \"voltaire\"]}, \"R\": 30, \"lambda.step\": 0.01, \"plot.opts\": {\"xlab\": \"PC1\", \"ylab\": \"PC2\"}, \"topic.order\": [1, 2, 3, 4]};\n",
       "\n",
       "function LDAvis_load_lib(url, callback){\n",
       "  var s = document.createElement('script');\n",
       "  s.src = url;\n",
       "  s.async = true;\n",
       "  s.onreadystatechange = s.onload = callback;\n",
       "  s.onerror = function(){console.warn(\"failed to load library \" + url);};\n",
       "  document.getElementsByTagName(\"head\")[0].appendChild(s);\n",
       "}\n",
       "\n",
       "if(typeof(LDAvis) !== \"undefined\"){\n",
       "   // already loaded: just create the visualization\n",
       "   !function(LDAvis){\n",
       "       new LDAvis(\"#\" + \"ldavis_el861403864566224165283234745\", ldavis_el861403864566224165283234745_data);\n",
       "   }(LDAvis);\n",
       "}else if(typeof define === \"function\" && define.amd){\n",
       "   // require.js is available: use it to load d3/LDAvis\n",
       "   require.config({paths: {d3: \"https://d3js.org/d3.v5\"}});\n",
       "   require([\"d3\"], function(d3){\n",
       "      window.d3 = d3;\n",
       "      LDAvis_load_lib(\"https://cdn.jsdelivr.net/gh/bmabey/pyLDAvis@3.3.1/pyLDAvis/js/ldavis.v3.0.0.js\", function(){\n",
       "        new LDAvis(\"#\" + \"ldavis_el861403864566224165283234745\", ldavis_el861403864566224165283234745_data);\n",
       "      });\n",
       "    });\n",
       "}else{\n",
       "    // require.js not available: dynamically load d3 & LDAvis\n",
       "    LDAvis_load_lib(\"https://d3js.org/d3.v5.js\", function(){\n",
       "         LDAvis_load_lib(\"https://cdn.jsdelivr.net/gh/bmabey/pyLDAvis@3.3.1/pyLDAvis/js/ldavis.v3.0.0.js\", function(){\n",
       "                 new LDAvis(\"#\" + \"ldavis_el861403864566224165283234745\", ldavis_el861403864566224165283234745_data);\n",
       "            })\n",
       "         });\n",
       "}\n",
       "</script>"
      ],
      "text/plain": [
       "PreparedData(topic_coordinates=              x         y  topics  cluster       Freq\n",
       "topic                                                \n",
       "0      0.028882 -0.003355       1        1  32.329318\n",
       "1     -0.009191 -0.015617       2        1  27.165255\n",
       "2     -0.003162  0.019973       3        1  22.827198\n",
       "3     -0.016530 -0.001000       4        1  17.678230, topic_info=         Term        Freq       Total Category  logprob  loglift\n",
       "269     freud  353.000000  353.000000  Default  30.0000  30.0000\n",
       "70     hombre  219.000000  219.000000  Default  29.0000  29.0000\n",
       "89   historia   81.000000   81.000000  Default  28.0000  28.0000\n",
       "7     chomsky  269.000000  269.000000  Default  27.0000  27.0000\n",
       "104     frase  100.000000  100.000000  Default  26.0000  26.0000\n",
       "..        ...         ...         ...      ...      ...      ...\n",
       "48        ano   19.039255  121.243160   Topic4  -4.9196  -0.1185\n",
       "97       vida   17.251683   94.202137   Topic4  -5.0182   0.0353\n",
       "22       idea   18.832853  144.294287   Topic4  -4.9305  -0.3034\n",
       "269     freud   20.411900  353.897627   Topic4  -4.8500  -1.1201\n",
       "28      mente   17.370753  149.650611   Topic4  -5.0113  -0.4207\n",
       "\n",
       "[242 rows x 6 columns], token_table=      Topic      Freq      Term\n",
       "term                           \n",
       "82        1  0.286670     amigo\n",
       "82        2  0.191114     amigo\n",
       "82        3  0.350375     amigo\n",
       "82        4  0.159261     amigo\n",
       "48        1  0.412394       ano\n",
       "...     ...       ...       ...\n",
       "63        4  0.188893     visto\n",
       "292       1  0.304262  voltaire\n",
       "292       2  0.258335  voltaire\n",
       "292       3  0.203798  voltaire\n",
       "292       4  0.232502  voltaire\n",
       "\n",
       "[584 rows x 3 columns], R=30, lambda_step=0.01, plot_opts={'xlab': 'PC1', 'ylab': 'PC2'}, topic_order=[1, 2, 3, 4])"
      ]
     },
     "execution_count": 20,
     "metadata": {},
     "output_type": "execute_result"
    }
   ],
   "source": [
    "lda_model_opt = LdaMulticore(corpus = corpus,\n",
    "    id2word = dictionary,\n",
    "    num_topics = 4,\n",
    "    random_state=123)\n",
    "pyLDAvis.enable_notebook()\n",
    "LDA_visualization = gensimvis.prepare(lda_model_opt, corpus, dictionary)\n",
    "LDA_visualization"
   ]
  },
  {
   "cell_type": "markdown",
   "metadata": {},
   "source": [
    "Los resultados sugieren que hay 4 tipos de temas en estas páginas. Los 3 encontrados anteriormente, y páginas que hablan sobre estos 3 autores simultáneamente.\n",
    "\n",
    "Es importante destacar que la medida de coherencia  no es sólo del tema en sí, sino también del conjunto de datos que se utiliza como referencia. Asimismo, parte de la literatura suele favorecerla ya que lleva a mejor interpretabilidad que otras medidas."
   ]
  },
  {
   "cell_type": "markdown",
   "metadata": {},
   "source": [
    "#### Medida de Perplejidad\n",
    "\n",
    "Otra de las medidas utilizadas, es la medida de Perplejidad. A diferencia de la medida de coherencia lo que buscaremos es minimizar la perplejidad.\n",
    "\n",
    "Esta medida calcula el número de palabras diferentes que son igualmente probables a seguir a cualquier palabra dada. Para aclarar qué queremos decir con esto, consideremos un ejemplo con 2 palabras: *el* y *anunciar*. La palabra *el* puede anteceder a una gran cantidad de palabras de igual probabilidad, mientras que el número de palabras de igual probabilidad que anteceden a *anunciar* será relativamente menor. \n",
    "\n",
    "La idea intuitiva es que palabras que, en promedio, pueden ir seguidas de un menor número de palabras de igual probabilidad, son más específicas y por lo tanto  pueden estar más estrechamente vinculadas a los tópicos. Entonces puntuaciones más bajas de perplejidad implican mejores modelos de lenguaje.\n",
    "\n",
    "El cálculo es sencillo usando  [gensim](https://radimrehurek.com/gensim/index.html); ya que tanto [LDAModel](https://radimrehurek.com/gensim/models/ldamodel.html?highlight=ldamodel#module-gensim.models.ldamode)  como  [LdaMulticore](https://radimrehurek.com/gensim/models/ldamulticore.html) retornan el límite por palabra de la verosimilitud, por lo que para convertirlo en perplejidad necesitamos hacer $perplejidad=2^{(-limite)}$:"
   ]
  },
  {
   "cell_type": "code",
   "execution_count": 21,
   "metadata": {},
   "outputs": [
    {
     "data": {
      "text/plain": [
       "47.55663431070144"
      ]
     },
     "execution_count": 21,
     "metadata": {},
     "output_type": "execute_result"
    }
   ],
   "source": [
    "np.exp2(-lda_model_opt.log_perplexity(corpus))"
   ]
  },
  {
   "cell_type": "markdown",
   "metadata": {},
   "source": [
    "Dado que nos interesa minimizar esta perplejidad comparemos esta medida para distinto números de temas. Crearemos entonces una función similar a la que construimos en la sección anterior:"
   ]
  },
  {
   "cell_type": "code",
   "execution_count": 22,
   "metadata": {},
   "outputs": [],
   "source": [
    "def perplejidad_ntemas(dictionary, corpus, texts, start=1, limit=10, step=1):\n",
    " \n",
    "    perplejidad_values = []\n",
    "    model_list = []\n",
    "    \n",
    "    for num_topics in range(start, limit, step):\n",
    "        model = LdaMulticore(corpus=corpus,\n",
    "                        id2word=dictionary,\n",
    "                        num_topics=num_topics, \n",
    "                        random_state=123,\n",
    "                        passes=20)\n",
    "        model_list.append(model)\n",
    "        perplejidad_values.append(np.exp2(-model.log_perplexity(corpus)))\n",
    "\n",
    "    return model_list, perplejidad_values"
   ]
  },
  {
   "cell_type": "code",
   "execution_count": 23,
   "metadata": {},
   "outputs": [],
   "source": [
    "modelos, valores_p = perplejidad_ntemas(dictionary=dictionary, corpus=corpus, texts=clean, start=1, limit=10, step=1)"
   ]
  },
  {
   "cell_type": "code",
   "execution_count": 24,
   "metadata": {},
   "outputs": [
    {
     "data": {
      "image/png": "[encoded data removed]",
      "text/plain": [
       "<Figure size 640x480 with 1 Axes>"
      ]
     },
     "metadata": {},
     "output_type": "display_data"
    }
   ],
   "source": [
    "import matplotlib.pyplot as plt\n",
    "# Show graph\n",
    "limit=10; start=1; step=1;\n",
    "x = range(start, limit, step)\n",
    "plt.plot(x, valores_p)\n",
    "plt.xlabel(\"Número de Temas\")\n",
    "plt.ylabel(\"Medida de Perplejidad\")\n",
    "\n",
    "plt.show()"
   ]
  },
  {
   "cell_type": "markdown",
   "metadata": {},
   "source": [
    "Tenemos entonces un resultado análogo al anterior. En este caso ambos indicadores coinciden, pero a priori esto no tiene que ser así. En la práctica se tienden a utilizar ambos e indican el rango de posibles valores. Por esta razón, es recomendable calcular los 2 y en función de los resultados unidos al conocimiento del investigador decidir. "
   ]
  },
  {
   "cell_type": "markdown",
   "metadata": {},
   "source": [
    "## Consideraciones Finales\n",
    "\n",
    "Cuando queremos extraer información de una colección de documentos, el modelado de temas o tópicos es un enfoque que puede ser potencialmente útil, ya que proporciona información sobre la estructura subyacente de los documentos. \n",
    "\n",
    "En este sentido los modelos de temas se pueden usar para predecir los temas que pertenecen a documentos no vistos. Si vamos a hacer predicciones, es importante reconocer que los modelos de temas sólo conocen las palabras que se usan para entrenarlos. Es decir, si los documentos no vistos tienen palabras que no estaban en los datos de entrenamiento, el modelo no podrá procesar esas palabras incluso si se vinculan a uno de los temas identificados en los datos de entrenamiento. Debido a este hecho, los modelos de temas tienden a usarse más para el análisis exploratorio y la inferencia que para la predicción.\n",
    "\n",
    "Cuando se analiza el modelado de temas, es importante reforzar continuamente el hecho de que los grupos de palabras que representan los temas no están relacionados conceptualmente; están relacionados solo por proximidad. La proximidad frecuente de ciertas palabras en los documentos es suficiente para definir temas debido a que estamos asumiendo que todas las palabras en el mismo documento están relacionadas.\n",
    "\n",
    "Sin embargo, esta suposición puede no ser cierta o las palabras pueden ser demasiado genéricas para formar temas coherentes. La interpretación de temas abstractos implica equilibrar las características innatas de los datos de texto con las agrupaciones de palabras generadas. Los datos de texto, y el lenguaje en general, son muy variables, complejos y contextuales, lo que significa que cualquier resultado generalizado debe interpretarse con cautela.\n",
    "\n",
    "Es importante tener en cuenta también que la naturaleza ruidosa de los datos de texto puede hacer que los modelos de tópico asignen palabras no relacionadas con uno de los temas a ese tópico en particular. Esto no es necesariamente una falla en el modelo. En cambio, es una característica que, dados datos ruidosos, el modelo podría extraer peculiaridades de los datos que podrían afectar negativamente los resultados. Las correlaciones espurias podrían ser el resultado de cómo, dónde o cuándo se recopilaron los datos. \n",
    "\n",
    "Esto no es para minimizar o invalidar los resultados del modelo. Dados documentos cuidadosamente limpios y una cantidad adecuada de temas, las agrupaciones de palabras, como vimos, pueden ser una buena guía sobre lo que contiene un corpus y pueden incorporarse de manera efectiva en sistemas de datos más grandes como ser los sistemas de recomendación vistos en este módulo."
   ]
  },
  {
   "cell_type": "markdown",
   "metadata": {},
   "source": [
    "## Referencias\n",
    "\n",
    "- Banik, R. (2018). Hands-on recommendation systems with Python: start building powerful and personalized, recommendation engines with Python. Packt Publishing Ltd.\n",
    "\n",
    "- Blei, D. M., Jordan, M. I., &; Ng, A. Y. (2003). Latent Dirichlet Allocation. JMLR.org, 3, 993–1022. https://doi.org/10.5555/944919.944937 \n",
    "\n",
    "- Fradejas Rueda, J. M. (2020). Cuentapalabras. Estilometrıa y análisis de texto con R para filólogos.\n",
    "\n",
    "- Hoffman, M., Bach, F., & Blei, D. (2010). Online learning for latent dirichlet allocation. advances in neural information processing systems, 23.\n",
    "\n",
    "- Murphy, K. P. (2012). Machine learning: a probabilistic perspective. MIT press.\n",
    "\n",
    "- Patel, A. A. (2019). Hands-on unsupervised learning using Python: how to build applied machine learning solutions from unlabeled data. O'Reilly Media.\n",
    "\n",
    "- Rehurek, R., & Sojka, P. (2011). Gensim–python framework for vector space modeling. NLP Centre, Faculty of Informatics, Masaryk University, Brno, Czech Republic, 3(2).\n",
    "\n",
    "- Röder, M., Both, A., & Hinneburg, A. (2015). Exploring the space of topic coherence measures. In Proceedings of the eighth ACM international conference on Web search and data mining (pp. 399-408)."
   ]
  },
  {
   "cell_type": "markdown",
   "metadata": {},
   "source": [
    "# Información de Sesión"
   ]
  },
  {
   "cell_type": "code",
   "execution_count": 25,
   "metadata": {},
   "outputs": [
    {
     "name": "stdout",
     "output_type": "stream",
     "text": [
      "-----\n",
      "gensim              4.2.0\n",
      "matplotlib          3.5.3\n",
      "numpy               1.21.6\n",
      "pandas              1.3.5\n",
      "pyLDAvis            3.3.1\n",
      "session_info        1.0.0\n",
      "spacy               3.6.1\n",
      "unidecode           NA\n",
      "-----\n",
      "IPython             7.34.0\n",
      "jupyter_client      7.4.9\n",
      "jupyter_core        4.12.0\n",
      "jupyterlab          2.1.1\n",
      "notebook            6.0.3\n",
      "-----\n",
      "Python 3.7.6 | packaged by conda-forge | (default, Mar 23 2020, 23:03:20) [GCC 7.3.0]\n",
      "Linux-5.15.0-1017-aws-x86_64-with-debian-buster-sid\n",
      "-----\n",
      "Session information updated at 2023-09-02 13:29\n"
     ]
    }
   ],
   "source": [
    "import session_info\n",
    "\n",
    "session_info.show(html=False)"
   ]
  }
 ],
 "metadata": {
  "interpreter": {
   "hash": "fe36d3cf18f454bb22b210d1ce52ae8c21a1b2f0a9257a143474ae90bef14b60"
  },
  "kernelspec": {
   "display_name": "Python 3 (ipykernel)",
   "language": "python",
   "name": "python3"
  },
  "language_info": {
   "codemirror_mode": {
    "name": "ipython",
    "version": 3
   },
   "file_extension": ".py",
   "mimetype": "text/x-python",
   "name": "python",
   "nbconvert_exporter": "python",
   "pygments_lexer": "ipython3",
   "version": "3.7.6"
  },
  "toc": {
   "base_numbering": 1,
   "nav_menu": {},
   "number_sections": true,
   "sideBar": true,
   "skip_h1_title": false,
   "title_cell": "Table of Contents",
   "title_sidebar": "Contents",
   "toc_cell": false,
   "toc_position": {},
   "toc_section_display": true,
   "toc_window_display": false
  }
 },
 "nbformat": 4,
 "nbformat_minor": 2
}
