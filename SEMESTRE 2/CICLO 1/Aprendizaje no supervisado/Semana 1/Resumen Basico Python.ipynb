{
 "cells": [
  {
   "cell_type": "markdown",
   "metadata": {},
   "source": [
    "<div >\n",
    "<img src = \"figs/ans_banner_1920x200.png\" />\n",
    "</div>"
   ]
  },
  {
   "cell_type": "markdown",
   "metadata": {},
   "source": [
    "# Revisión Conceptos Básicos de `Python`\n",
    "\n",
    "\n",
    "   Este *cuaderno* tiene como objetivo brindar una breve revisión de las estructuras de datos, estructuras de control y funciones integradas en `Python`. Esta revisión no tiene como objetivo ser exhaustiva, pero busca proporcionar una referencia  para reforzar y recordar los conceptos clave de `Python` que utilizaremos en las actividades del curso. Además, haremos una breve guía sobre cómo crear una cuenta en  [Google Colab](https://colab.research.google.com/), para aprovechar sus recursos computacionales. \n",
    "   \n",
    "  **NO** es necesario editar el archivo o hacer una entrega. Sin embargo, los ejemplos contienen celdas con código ejecutable (`en gris`), que podrá modificar  libremente. Esta puede ser una buena forma de aprender nuevas funcionalidades del *cuaderno*, o experimentar variaciones en los códigos de ejemplo."
   ]
  },
  {
   "cell_type": "markdown",
   "metadata": {},
   "source": [
    "## Sobre Python\n",
    "\n",
    "<center>\n",
    "    <img width=\"50%\" src=\"https://www.python.org/static/community_logos/python-logo-generic.svg\">\n",
    "</center>\n",
    "\n",
    "\n",
    "`Python` es un lenguaje de programación de alto nivel, interpretado, orientado a objetos y de propósito general. Fue creado en la década de 1990 por Guido van Rossum y se ha convertido en uno de los lenguajes de programación más populares del mundo. `Python` es utilizado en una variedad de aplicaciones, desde la creación de páginas web hasta el análisis de datos y el aprendizaje automático. \n",
    "\n",
    "`Python` es conocido por su sintaxis clara y legible, lo que lo hace muy fácil de aprender para los principiantes en programación. Además, es altamente modular y escalable, lo que lo convierte en una excelente opción para proyectos de cualquier tamaño y complejidad.\n",
    "\n",
    "\n",
    "\n",
    "### En `Python` todo es un objeto\n",
    "\n",
    "Una característica importante del lenguaje `Python` es que cada número, estructura de datos, función, clase, módulo, etc. existe en el interpretador de `Python` en su propia \"caja\", que se denomina objeto de `Python`. Cada objeto tiene un tipo (`type`) asociado (p. ej., entero, caracter (`str`) o función) y datos internos. En la práctica, esto hace que el lenguaje sea muy flexible, ya que incluso las funciones pueden tratarse como cualquier otro objeto."
   ]
  },
  {
   "cell_type": "markdown",
   "metadata": {},
   "source": [
    "### Variables\n",
    "\n",
    "Al asignar una variable (o nombre) en `Python`, está creando una referencia a un objeto. Para definir variables en `Python` utilizamos el símbolo  de igual (`=`). \n",
    "\n",
    "Como buena práctica de programación, cuando definimos un nombre, utilizamos guion bajo (`_`) para separar las palabras. **Nunca usamos un punto**. Adicionalmente, es recomendable no usar caracteres especiales como tildes o ñ en los nombres de los objetos que definamos."
   ]
  },
  {
   "cell_type": "markdown",
   "metadata": {},
   "source": [
    "A continuación creamos 4 objetos o variables:\n",
    "\n",
    "- A la primer variable la llamaremos `refran` y contendrá un texto alusivo a un refrán. Todas las cadenas de caracteres que conforman los textos deben estar entre comillas para que `Python` sepa que son cadenas de caracteres."
   ]
  },
  {
   "cell_type": "code",
   "execution_count": 1,
   "metadata": {},
   "outputs": [],
   "source": [
    "refran = \"Al que madruga le da sueño por la tarde\""
   ]
  },
  {
   "cell_type": "markdown",
   "metadata": {},
   "source": [
    "- La segunda variable la llamaremos `x` y será un número entero."
   ]
  },
  {
   "cell_type": "code",
   "execution_count": 2,
   "metadata": {},
   "outputs": [],
   "source": [
    "x = 3"
   ]
  },
  {
   "cell_type": "markdown",
   "metadata": {},
   "source": [
    "- La tercera variable la llamaremos  `pi` y será una aproximación al número $\\pi$."
   ]
  },
  {
   "cell_type": "code",
   "execution_count": 3,
   "metadata": {},
   "outputs": [],
   "source": [
    "pi = 3.1416"
   ]
  },
  {
   "cell_type": "markdown",
   "metadata": {},
   "source": [
    "- La cuarta variable la llamaremos `condicion` y tomará el valor de vardadero (`True`)."
   ]
  },
  {
   "cell_type": "code",
   "execution_count": 4,
   "metadata": {},
   "outputs": [],
   "source": [
    "condicion = True"
   ]
  },
  {
   "cell_type": "markdown",
   "metadata": {},
   "source": [
    "`Python` tiene un pequeño conjunto de tipos de datos incorporados para manejarlos mas eficientemente.\n",
    "\n",
    "![](https://realpython.com/cdn-cgi/image/width=1920,format=auto/https://files.realpython.com/media/Basic-Data-Types-in-Python_Watermarked.e3dd34457952.jpg)\n",
    "\n",
    "La siguiente tabla contiene una lista de los tipos escalares principales que usaremos en el curso:\n",
    "\n",
    "| Tipos |  Descripción | Ejemplos |\n",
    "|-------|-----------------------------| ----------------------------------------- |\n",
    "| `str`  |  caracteres o cadena de texto |`'a', 'aa', 'aaa', 'Hello!', '11 cats'`   |\n",
    "| `int` | Entero de precisión arbitraria | `-2, -1, 0, 1, 2, 3, 4, 5`                |\n",
    "| `float`  | Número de punto flotante de precisión doble  | `-1.25, -1.0, --0.5, 0.0, 0.5, 1.0, 1.25` |\n",
    "| `bool`  | Un valor booleano `verdadero` o `falso` | `true`, `false`|\n",
    "| `None`  |  El valor \"nulo\" de Python |\n"
   ]
  },
  {
   "cell_type": "markdown",
   "metadata": {},
   "source": [
    "Notemos que cuando definimos las variable cada una tiene un color diferente. El color está asociado al **tipo** (`type`):  caracteres o texto (`str`), número (`int` o `float`), o booleana (`bool`). Para verificar el tipo de una variable escribimos: `type(nombre_de_la_variable)`."
   ]
  },
  {
   "cell_type": "code",
   "execution_count": 5,
   "metadata": {
    "noteable": {
     "output_collection_id": "8addae25-fe62-447b-98de-72bef2ab6051"
    }
   },
   "outputs": [
    {
     "data": {
      "text/plain": [
       "str"
      ]
     },
     "execution_count": 5,
     "metadata": {},
     "output_type": "execute_result"
    }
   ],
   "source": [
    "type(refran)"
   ]
  },
  {
   "cell_type": "code",
   "execution_count": 6,
   "metadata": {
    "noteable": {
     "output_collection_id": "8eadcad6-8e88-46b2-a2ee-4f75297b2479"
    }
   },
   "outputs": [
    {
     "data": {
      "text/plain": [
       "int"
      ]
     },
     "execution_count": 6,
     "metadata": {},
     "output_type": "execute_result"
    }
   ],
   "source": [
    "type(x)"
   ]
  },
  {
   "cell_type": "code",
   "execution_count": 7,
   "metadata": {
    "noteable": {
     "output_collection_id": "7c1aaa5d-16d0-484b-abed-962ce783a733"
    }
   },
   "outputs": [
    {
     "data": {
      "text/plain": [
       "float"
      ]
     },
     "execution_count": 7,
     "metadata": {},
     "output_type": "execute_result"
    }
   ],
   "source": [
    "type(pi)"
   ]
  },
  {
   "cell_type": "code",
   "execution_count": 8,
   "metadata": {
    "noteable": {
     "output_collection_id": "94128fa7-71f6-48b7-95ff-ed31752be1eb"
    }
   },
   "outputs": [
    {
     "data": {
      "text/plain": [
       "bool"
      ]
     },
     "execution_count": 8,
     "metadata": {},
     "output_type": "execute_result"
    }
   ],
   "source": [
    "type(condicion)"
   ]
  },
  {
   "cell_type": "markdown",
   "metadata": {},
   "source": [
    "Es importante que conozcamos la clase de los objetos con los que trabajamos. Dependiendo de la misma, las operaciones y funciones a implementar cambian su resultado. Comparemos los resultados de las siguientes operaciones:"
   ]
  },
  {
   "cell_type": "markdown",
   "metadata": {},
   "source": [
    "- Sumar dos números: un número entero (`int`) y un número flotante (`float`)."
   ]
  },
  {
   "cell_type": "code",
   "execution_count": 9,
   "metadata": {
    "noteable": {
     "output_collection_id": "5e01f7d6-5cf3-4a66-bd7b-119e81b421b2"
    }
   },
   "outputs": [
    {
     "data": {
      "text/plain": [
       "6.1416"
      ]
     },
     "execution_count": 9,
     "metadata": {},
     "output_type": "execute_result"
    }
   ],
   "source": [
    "x + pi"
   ]
  },
  {
   "cell_type": "markdown",
   "metadata": {},
   "source": [
    "- Combinar números y un booleano.  `Python` interpreta `condicion` como si fuera 1, debido a que `True` es una palabra clave y siempre es igual a `1`. Por el contrario, `False` es siempre igual a `0`. (Cambie en la celda el valor de `condicion` a `False` y compare los resultados)."
   ]
  },
  {
   "cell_type": "code",
   "execution_count": 10,
   "metadata": {
    "noteable": {
     "output_collection_id": "25389c0d-1850-454a-a84c-485f31a9a7ef"
    }
   },
   "outputs": [
    {
     "data": {
      "text/plain": [
       "1.1416"
      ]
     },
     "execution_count": 10,
     "metadata": {},
     "output_type": "execute_result"
    }
   ],
   "source": [
    "pi - 2*condicion"
   ]
  },
  {
   "cell_type": "markdown",
   "metadata": {},
   "source": [
    "- Negar el booleano."
   ]
  },
  {
   "cell_type": "code",
   "execution_count": 11,
   "metadata": {
    "noteable": {
     "output_collection_id": "f9982f1c-a628-4cd1-a53f-7c70d1c39311"
    }
   },
   "outputs": [
    {
     "data": {
      "text/plain": [
       "False"
      ]
     },
     "execution_count": 11,
     "metadata": {},
     "output_type": "execute_result"
    }
   ],
   "source": [
    "not condicion"
   ]
  },
  {
   "cell_type": "markdown",
   "metadata": {},
   "source": [
    "- Concatenar texto."
   ]
  },
  {
   "cell_type": "code",
   "execution_count": 12,
   "metadata": {
    "noteable": {
     "output_collection_id": "768d29e7-6038-4ea3-b22b-eb0f6310e950"
    }
   },
   "outputs": [
    {
     "data": {
      "text/plain": [
       "'Al que madruga le da sueño por la tardeAl que madruga le da sueño por la tarde'"
      ]
     },
     "execution_count": 12,
     "metadata": {},
     "output_type": "execute_result"
    }
   ],
   "source": [
    "refran + refran"
   ]
  },
  {
   "cell_type": "markdown",
   "metadata": {},
   "source": [
    "- Agregar un espacio en blanco y repetir 5 veces la variable `refran`."
   ]
  },
  {
   "cell_type": "code",
   "execution_count": 13,
   "metadata": {},
   "outputs": [
    {
     "data": {
      "text/plain": [
       "'Al que madruga le da sueño por la tarde Al que madruga le da sueño por la tarde Al que madruga le da sueño por la tarde Al que madruga le da sueño por la tarde Al que madruga le da sueño por la tarde '"
      ]
     },
     "execution_count": 13,
     "metadata": {},
     "output_type": "execute_result"
    }
   ],
   "source": [
    "(refran + \" \")* 5"
   ]
  },
  {
   "cell_type": "markdown",
   "metadata": {},
   "source": [
    "### Condicionales y Flujos de Control\n",
    "\n",
    "Los condicionales y flujos de control en `Python` son elementos fundamentales para el desarrollo de programas eficientes y flexibles. A través de los condicionales, como las sentencias `if`, `elif` y `else`, nos permiten tomar decisiones en función de las condiciones que se evalúen en el programa. \n",
    "\n",
    "Por otro lado, las estructuras de control, como los bucles `for` y `while`, podemos iterar sobre colecciones de datos o repetir una serie de instrucciones hasta que se cumpla una condición específica. \n",
    "\n",
    "Estos condicionales y estructuras de control  nos brindan un alto grado de control sobre la ejecución del código, lo que nos permite adaptar el comportamiento del programa según las necesidades y lógica requerida en cada situación."
   ]
  },
  {
   "cell_type": "markdown",
   "metadata": {},
   "source": [
    "#### Condicionales\n",
    "\n",
    "`Python` soporta distintos tipos de condiciones que retornan valores booleanos de verdadero (`True`) o falso (`False`) dependiendo si se cumplen o no."
   ]
  },
  {
   "cell_type": "markdown",
   "metadata": {},
   "source": [
    "- Igual (`==`)"
   ]
  },
  {
   "cell_type": "code",
   "execution_count": 14,
   "metadata": {},
   "outputs": [
    {
     "data": {
      "text/plain": [
       "True"
      ]
     },
     "execution_count": 14,
     "metadata": {},
     "output_type": "execute_result"
    }
   ],
   "source": [
    "x = 2\n",
    "condicion1 = x == 2 \n",
    "condicion1"
   ]
  },
  {
   "cell_type": "markdown",
   "metadata": {},
   "source": [
    "- No es igual (`!=`)\n"
   ]
  },
  {
   "cell_type": "code",
   "execution_count": 15,
   "metadata": {},
   "outputs": [
    {
     "data": {
      "text/plain": [
       "False"
      ]
     },
     "execution_count": 15,
     "metadata": {},
     "output_type": "execute_result"
    }
   ],
   "source": [
    "condicion2 = x == 3 \n",
    "condicion2"
   ]
  },
  {
   "cell_type": "markdown",
   "metadata": {},
   "source": [
    "- Menor que y Menor o igual que (`<` y `<=`) "
   ]
  },
  {
   "cell_type": "code",
   "execution_count": 16,
   "metadata": {},
   "outputs": [
    {
     "data": {
      "text/plain": [
       "True"
      ]
     },
     "execution_count": 16,
     "metadata": {},
     "output_type": "execute_result"
    }
   ],
   "source": [
    "condicion3 = x < 3\n",
    "condicion3 "
   ]
  },
  {
   "cell_type": "markdown",
   "metadata": {},
   "source": [
    "- Mayor que y Mayor o igual que (`>` y `>=`)"
   ]
  },
  {
   "cell_type": "code",
   "execution_count": 17,
   "metadata": {},
   "outputs": [
    {
     "data": {
      "text/plain": [
       "False"
      ]
     },
     "execution_count": 17,
     "metadata": {},
     "output_type": "execute_result"
    }
   ],
   "source": [
    "condicion4 = x>5\n",
    "condicion4"
   ]
  },
  {
   "cell_type": "markdown",
   "metadata": {},
   "source": [
    "- y (`and`, `&`)"
   ]
  },
  {
   "cell_type": "code",
   "execution_count": 18,
   "metadata": {},
   "outputs": [
    {
     "data": {
      "text/plain": [
       "False"
      ]
     },
     "execution_count": 18,
     "metadata": {},
     "output_type": "execute_result"
    }
   ],
   "source": [
    "condicion1 and condicion2 # V & F -> F"
   ]
  },
  {
   "cell_type": "code",
   "execution_count": 19,
   "metadata": {},
   "outputs": [
    {
     "data": {
      "text/plain": [
       "False"
      ]
     },
     "execution_count": 19,
     "metadata": {},
     "output_type": "execute_result"
    }
   ],
   "source": [
    "condicion2 and condicion1 # F & V -> F"
   ]
  },
  {
   "cell_type": "markdown",
   "metadata": {},
   "source": [
    "- o (`or`, `|`)"
   ]
  },
  {
   "cell_type": "code",
   "execution_count": 20,
   "metadata": {},
   "outputs": [
    {
     "data": {
      "text/plain": [
       "True"
      ]
     },
     "execution_count": 20,
     "metadata": {},
     "output_type": "execute_result"
    }
   ],
   "source": [
    "condicion1 or condicion2 # V | F -> V"
   ]
  },
  {
   "cell_type": "code",
   "execution_count": 21,
   "metadata": {},
   "outputs": [
    {
     "data": {
      "text/plain": [
       "True"
      ]
     },
     "execution_count": 21,
     "metadata": {},
     "output_type": "execute_result"
    }
   ],
   "source": [
    "condicion2 or condicion1 # F | V -> V"
   ]
  },
  {
   "cell_type": "markdown",
   "metadata": {},
   "source": [
    "- Negación (`not`, `~`)"
   ]
  },
  {
   "cell_type": "code",
   "execution_count": 22,
   "metadata": {},
   "outputs": [
    {
     "data": {
      "text/plain": [
       "True"
      ]
     },
     "execution_count": 22,
     "metadata": {},
     "output_type": "execute_result"
    }
   ],
   "source": [
    "not condicion2"
   ]
  },
  {
   "cell_type": "markdown",
   "metadata": {},
   "source": [
    "#### Control del Flujo de Código \n"
   ]
  },
  {
   "cell_type": "markdown",
   "metadata": {},
   "source": [
    "##### Sentencias `if`, `else` y `elif`\n",
    "\n",
    "Para controlar el flujo (*control flows*) de un programa podemos utilizar las funciones `if`, `else` y `elif`, junto con las condiciones que describimos anteriormente. Por ejemplo:\n",
    "\n",
    "```\n",
    "if condicion1:\n",
    "    # Si la condición es verdadera (True) se ejecuta esta porción de código\n",
    "    print(\"condicion1 es verdadera\")\n",
    "elif condicion2:\n",
    "    # Si la condición 1 es falsa (False) y la condición 2 es verdadera (True), se ejecuta esta porción\n",
    "    print(\"condicion1 es falsa y la condicion2 es verdadera\")\n",
    "else:\n",
    "    # Si la condición 1 y 2 son falsas, se ejecuta esta porción\n",
    "    print(\"condicion1 y la condicion2 son falsas\")\n",
    "```\n",
    "\n",
    "Notemos que luego de la condición sólo debemos incluir el símbolo de dos puntos (`:`) y el código debajo e indentado por 4 espacios (un tab).\n",
    "\n",
    "Algunos ejemplos:"
   ]
  },
  {
   "cell_type": "code",
   "execution_count": 23,
   "metadata": {},
   "outputs": [
    {
     "name": "stdout",
     "output_type": "stream",
     "text": [
      "Darth Vader\n"
     ]
    }
   ],
   "source": [
    "lado_oscuro = \"Anakin Skywalker\"\n",
    "hijo = \"Luke Skywalker\"\n",
    "\n",
    "if lado_oscuro == \"Anakin Skywalker\": \n",
    "    print(\"Darth Vader\")\n",
    "\n",
    "if lado_oscuro == hijo:\n",
    "    print(\"Luke, no te rindas al odio. Eso lleva al lado oscuro\")"
   ]
  },
  {
   "cell_type": "code",
   "execution_count": 24,
   "metadata": {},
   "outputs": [
    {
     "name": "stdout",
     "output_type": "stream",
     "text": [
      "Anakin Skywalker es el padre de Luke Skywalker\n"
     ]
    }
   ],
   "source": [
    "if lado_oscuro == hijo:\n",
    "    print(\"Luke, no te rindas al odio. Eso lleva al lado oscuro\")\n",
    "else: \n",
    "    print(lado_oscuro + \" es el padre de \" + hijo)"
   ]
  },
  {
   "cell_type": "code",
   "execution_count": 25,
   "metadata": {},
   "outputs": [
    {
     "name": "stdout",
     "output_type": "stream",
     "text": [
      "Yo soy tu padre!\n"
     ]
    }
   ],
   "source": [
    "padre = lado_oscuro\n",
    "\n",
    "if lado_oscuro == hijo:\n",
    "    print(\"Luke, no te rindas al odio. Eso lleva al lado oscuro\")\n",
    "elif padre == \"Anakin Skywalker\":\n",
    "    print(\"Yo soy tu padre!\")\n",
    "else: \n",
    "    print(lado_oscuro + \" es el padre de \" + hijo)"
   ]
  },
  {
   "cell_type": "markdown",
   "metadata": {},
   "source": [
    "##### Bucles (Loops)\n",
    "\n",
    "Los bucles son una parte esencial de cualquier lenguaje de programación, permitiendo repetir una operación muchas veces. \n",
    "Un bucle (loop) es una estructura de control que repite una porción de código un número predeterminado de veces.  \n",
    "\n",
    "Existen dos tipos de bucles:\n",
    "\n",
    "- *`for` loops* en donde se itera sobre una lista de elementos.\n",
    "- *`while` loops* en donde se itera mientras que cierta condición se cumple.\n",
    "\n",
    "Algunos ejemplos:"
   ]
  },
  {
   "cell_type": "markdown",
   "metadata": {},
   "source": [
    "- Iterar sobre los números del 0 al 4."
   ]
  },
  {
   "cell_type": "code",
   "execution_count": 26,
   "metadata": {},
   "outputs": [
    {
     "name": "stdout",
     "output_type": "stream",
     "text": [
      "0\n",
      "1\n",
      "2\n",
      "3\n",
      "4\n"
     ]
    }
   ],
   "source": [
    "for x in range(0, 5):\n",
    "    print(x)"
   ]
  },
  {
   "cell_type": "markdown",
   "metadata": {},
   "source": [
    "- Iterar sobre los números del 3 al 7 de dos en dos."
   ]
  },
  {
   "cell_type": "code",
   "execution_count": 27,
   "metadata": {},
   "outputs": [
    {
     "name": "stdout",
     "output_type": "stream",
     "text": [
      "3\n",
      "5\n",
      "7\n"
     ]
    }
   ],
   "source": [
    "for x in range(3, 8, 2):\n",
    "    print(x)"
   ]
  },
  {
   "cell_type": "markdown",
   "metadata": {},
   "source": [
    "- Iterar sobre texto (string)."
   ]
  },
  {
   "cell_type": "code",
   "execution_count": 28,
   "metadata": {},
   "outputs": [
    {
     "name": "stdout",
     "output_type": "stream",
     "text": [
      "P\n",
      "y\n",
      "t\n",
      "h\n",
      "o\n",
      "n\n"
     ]
    }
   ],
   "source": [
    "for x in \"Python\":\n",
    "   print(x)"
   ]
  },
  {
   "cell_type": "markdown",
   "metadata": {},
   "source": [
    "- Agregar un freno (`break`), detiene la iteración."
   ]
  },
  {
   "cell_type": "code",
   "execution_count": 29,
   "metadata": {},
   "outputs": [
    {
     "name": "stdout",
     "output_type": "stream",
     "text": [
      "Harry\n",
      "Hermione\n",
      "Ron\n"
     ]
    }
   ],
   "source": [
    "mago = [\"Harry\", \"Hermione\", \"Ron\", \"Voldemort\", \"Dumbledore\"]\n",
    "for x in mago:\n",
    "    if x == \"Voldemort\":\n",
    "        break #detiene la iteración\n",
    "    print(x)"
   ]
  },
  {
   "cell_type": "markdown",
   "metadata": {},
   "source": [
    "- Detener la iteración y continuar con la siguiente."
   ]
  },
  {
   "cell_type": "code",
   "execution_count": 30,
   "metadata": {},
   "outputs": [
    {
     "name": "stdout",
     "output_type": "stream",
     "text": [
      "Harry\n",
      "Hermione\n",
      "Ron\n",
      "Dumbledore\n"
     ]
    }
   ],
   "source": [
    "for x in mago:\n",
    "    if x == \"Voldemort\":\n",
    "        continue # continue con la siguiente\n",
    "    print(x)"
   ]
  },
  {
   "cell_type": "markdown",
   "metadata": {},
   "source": [
    "- Iterar hasta que `x` sea menor al valor 5."
   ]
  },
  {
   "cell_type": "code",
   "execution_count": 31,
   "metadata": {},
   "outputs": [
    {
     "name": "stdout",
     "output_type": "stream",
     "text": [
      "1\n",
      "2\n",
      "3\n",
      "4\n"
     ]
    }
   ],
   "source": [
    "x = 1\n",
    "while x < 5: \n",
    "    print(x)\n",
    "    x += 1"
   ]
  },
  {
   "cell_type": "markdown",
   "metadata": {},
   "source": [
    "**Bucles (loops) de una sola línea**\n",
    "\n",
    "Los bucles o *loops* de una sola línea típicamente se usan para definir listas de una manera exhaustiva a partir de un iterable (características en común, operaciones sobre el iterable, etc). \n",
    "\n",
    "Por ejemplo:"
   ]
  },
  {
   "cell_type": "markdown",
   "metadata": {},
   "source": [
    " - Una lista cuyos elementos son las letras de la palabra **tiburon**."
   ]
  },
  {
   "cell_type": "code",
   "execution_count": 32,
   "metadata": {},
   "outputs": [
    {
     "data": {
      "text/plain": [
       "['t', 'i', 'b', 'u', 'r', 'o', 'n']"
      ]
     },
     "execution_count": 32,
     "metadata": {},
     "output_type": "execute_result"
    }
   ],
   "source": [
    "lista_tiburon = [letra for letra in 'tiburon']\n",
    "lista_tiburon"
   ]
  },
  {
   "cell_type": "markdown",
   "metadata": {},
   "source": [
    "- Una lista con los cuadrados de los números múltiplos de 3 menores a 30."
   ]
  },
  {
   "cell_type": "code",
   "execution_count": 33,
   "metadata": {},
   "outputs": [
    {
     "data": {
      "text/plain": [
       "[0, 9, 36, 81, 144, 225, 324, 441, 576, 729]"
      ]
     },
     "execution_count": 33,
     "metadata": {},
     "output_type": "execute_result"
    }
   ],
   "source": [
    "lista_numeros = [x**2 for x in range(30) if x%3==0]\n",
    "lista_numeros"
   ]
  },
  {
   "cell_type": "markdown",
   "metadata": {},
   "source": [
    "## Estructura de datos en `Python`"
   ]
  },
  {
   "cell_type": "markdown",
   "metadata": {},
   "source": [
    "\n",
    "Las estructuras de datos de `Python` son simples pero poderosas y será importante repasar su uso para el éxito en el curso. Revisaremos listas, tuplas, y diccionarios, que son algunos de los tipos de secuencia (`sequence`) más utilizados."
   ]
  },
  {
   "cell_type": "markdown",
   "metadata": {},
   "source": [
    "### Listas\n",
    "\n",
    "Las listas son una forma de almacenar una secuencia de objetos. Una lista puede contener objetos de diferentes tipos e incluso puede contener otras listas. La forma más fácil de construir una lista es con dos corchetes (`[]`) y separando los elementos con una coma (`[\"a\", \"b\"]`).\n",
    "\n",
    "A modo de ejemplo, creemos 4 listas:"
   ]
  },
  {
   "cell_type": "code",
   "execution_count": 32,
   "metadata": {},
   "outputs": [
    {
     "name": "stdout",
     "output_type": "stream",
     "text": [
      "['John', 'Paul', 'George', 'Ringo']\n",
      "<class 'list'>\n"
     ]
    }
   ],
   "source": [
    "beatles = [\"John\", \"Paul\", \"George\", \"Ringo\"]\n",
    "print(beatles)\n",
    "print(type(beatles)) "
   ]
  },
  {
   "cell_type": "code",
   "execution_count": 33,
   "metadata": {},
   "outputs": [
    {
     "name": "stdout",
     "output_type": "stream",
     "text": [
      "[4.2, 3.8, 4.5, 2, 5]\n"
     ]
    }
   ],
   "source": [
    "notas_taller1 = [4.2, 3.8, 4.5, 2, 5]\n",
    "print(notas_taller1)\n"
   ]
  },
  {
   "cell_type": "code",
   "execution_count": 34,
   "metadata": {},
   "outputs": [
    {
     "name": "stdout",
     "output_type": "stream",
     "text": [
      "['mytext', 3.0, 7, [10, 20]]\n"
     ]
    }
   ],
   "source": [
    "random_list = ['mytext', 3.0, 7, [10, 20]]\n",
    "print(random_list)\n"
   ]
  },
  {
   "cell_type": "code",
   "execution_count": 35,
   "metadata": {},
   "outputs": [
    {
     "name": "stdout",
     "output_type": "stream",
     "text": [
      "[]\n"
     ]
    }
   ],
   "source": [
    "lista_vacia = []\n",
    "print(lista_vacia)"
   ]
  },
  {
   "cell_type": "markdown",
   "metadata": {},
   "source": [
    "Cada elemento de una lista se encuentra en una posición. En `Python` se le conoce como *index* y **la primera posición es el 0**, la segunda es el 1 y así sucesivamente hasta llegar a la última posición que es **$n - 1$**.\n",
    "\n",
    "Con las listas, al igual que en las variables, podemos hacer diferentes operaciones. Veamos como podemos acceder y extraer elementos de las listas:\n"
   ]
  },
  {
   "cell_type": "markdown",
   "metadata": {},
   "source": [
    "- Acceder al primer elemento"
   ]
  },
  {
   "cell_type": "code",
   "execution_count": 36,
   "metadata": {},
   "outputs": [
    {
     "name": "stdout",
     "output_type": "stream",
     "text": [
      "John\n"
     ]
    }
   ],
   "source": [
    "print(beatles[0])"
   ]
  },
  {
   "cell_type": "markdown",
   "metadata": {},
   "source": [
    "- Acceder el segundo elemento."
   ]
  },
  {
   "cell_type": "code",
   "execution_count": 37,
   "metadata": {},
   "outputs": [
    {
     "name": "stdout",
     "output_type": "stream",
     "text": [
      "Paul\n"
     ]
    }
   ],
   "source": [
    "print(beatles[1])"
   ]
  },
  {
   "cell_type": "markdown",
   "metadata": {},
   "source": [
    "- Acceder al último elemento (tenga en cuenta que es -1 y no -0)."
   ]
  },
  {
   "cell_type": "code",
   "execution_count": 38,
   "metadata": {},
   "outputs": [
    {
     "name": "stdout",
     "output_type": "stream",
     "text": [
      "Ringo\n"
     ]
    }
   ],
   "source": [
    "print(beatles[-1]) "
   ]
  },
  {
   "cell_type": "markdown",
   "metadata": {},
   "source": [
    "- Acceder al n-ésimo - 1 elemento."
   ]
  },
  {
   "cell_type": "code",
   "execution_count": 39,
   "metadata": {},
   "outputs": [
    {
     "name": "stdout",
     "output_type": "stream",
     "text": [
      "George\n"
     ]
    }
   ],
   "source": [
    "print(beatles[-2]) "
   ]
  },
  {
   "cell_type": "markdown",
   "metadata": {},
   "source": [
    "Si queremos acceder o extraer más de un elemento, podemos usar los siguientes atajos. Debemos tener en cuenta que los corchetes en `Python` son inclusivos por la izquierda, pero exclusivos por la derecha. \n",
    "\n",
    "Para ello, creemos una nueva lista:"
   ]
  },
  {
   "cell_type": "code",
   "execution_count": 40,
   "metadata": {},
   "outputs": [],
   "source": [
    "example = [1, 2, 3, 4, 5, 6, 7, 8, 9, 10] "
   ]
  },
  {
   "cell_type": "markdown",
   "metadata": {},
   "source": [
    "- Extraer los primeros 5 elementos."
   ]
  },
  {
   "cell_type": "code",
   "execution_count": 41,
   "metadata": {},
   "outputs": [
    {
     "name": "stdout",
     "output_type": "stream",
     "text": [
      "[1, 2, 3, 4, 5]\n"
     ]
    }
   ],
   "source": [
    "print(example[0:5])"
   ]
  },
  {
   "cell_type": "markdown",
   "metadata": {},
   "source": [
    "- De los primeros 5 elementos, extraer los últimos 4."
   ]
  },
  {
   "cell_type": "code",
   "execution_count": 42,
   "metadata": {},
   "outputs": [
    {
     "name": "stdout",
     "output_type": "stream",
     "text": [
      "[2, 3, 4, 5]\n"
     ]
    }
   ],
   "source": [
    "print(example[1:5]) "
   ]
  },
  {
   "cell_type": "markdown",
   "metadata": {},
   "source": [
    "- Extraer el tercer elemento, sin incluir el cuarto."
   ]
  },
  {
   "cell_type": "code",
   "execution_count": 43,
   "metadata": {},
   "outputs": [
    {
     "name": "stdout",
     "output_type": "stream",
     "text": [
      "[3]\n"
     ]
    }
   ],
   "source": [
    "print(example[2:3]) "
   ]
  },
  {
   "cell_type": "markdown",
   "metadata": {},
   "source": [
    "- Extraer desde el primero al tercer elemento. Notemos que es excluyente a la derecha."
   ]
  },
  {
   "cell_type": "code",
   "execution_count": 44,
   "metadata": {},
   "outputs": [
    {
     "name": "stdout",
     "output_type": "stream",
     "text": [
      "[1, 2, 3]\n"
     ]
    }
   ],
   "source": [
    "print(example[:3]) \n"
   ]
  },
  {
   "cell_type": "markdown",
   "metadata": {},
   "source": [
    "- Extraer desde el cuarto elemento hasta el final de la lista. Notemos que es incluyente a la izquierda."
   ]
  },
  {
   "cell_type": "code",
   "execution_count": 45,
   "metadata": {},
   "outputs": [
    {
     "name": "stdout",
     "output_type": "stream",
     "text": [
      "[4, 5, 6, 7, 8, 9, 10]\n"
     ]
    }
   ],
   "source": [
    "print(example[3:]) \n"
   ]
  },
  {
   "cell_type": "markdown",
   "metadata": {},
   "source": [
    "- Extraer de 2 en dos desde el elemento 1 hasta el elemento 10. Sintaxis: `nombre_lista[indice_inicial:indice_final:tamaño_paso]`."
   ]
  },
  {
   "cell_type": "code",
   "execution_count": 46,
   "metadata": {},
   "outputs": [
    {
     "name": "stdout",
     "output_type": "stream",
     "text": [
      "[1, 3, 5, 7, 9]\n"
     ]
    }
   ],
   "source": [
    "print(example[0:9:2]) "
   ]
  },
  {
   "cell_type": "markdown",
   "metadata": {},
   "source": [
    "- Extraer toda la lista de 2 en 2."
   ]
  },
  {
   "cell_type": "code",
   "execution_count": 49,
   "metadata": {},
   "outputs": [
    {
     "name": "stdout",
     "output_type": "stream",
     "text": [
      "[1, 3, 5, 7, 9]\n"
     ]
    }
   ],
   "source": [
    "print(example[::2]) \n"
   ]
  },
  {
   "cell_type": "markdown",
   "metadata": {},
   "source": [
    "- Invertir el orden de la lista."
   ]
  },
  {
   "cell_type": "code",
   "execution_count": 50,
   "metadata": {},
   "outputs": [
    {
     "name": "stdout",
     "output_type": "stream",
     "text": [
      "[10, 9, 8, 7, 6, 5, 4, 3, 2, 1]\n"
     ]
    }
   ],
   "source": [
    "print(example[::-1]) "
   ]
  },
  {
   "cell_type": "markdown",
   "metadata": {},
   "source": [
    "- Modificar la lista."
   ]
  },
  {
   "cell_type": "code",
   "execution_count": 51,
   "metadata": {},
   "outputs": [
    {
     "name": "stdout",
     "output_type": "stream",
     "text": [
      "['Hola', 2, 3, 4, 5, 6, 7, 8, 9, 10]\n"
     ]
    }
   ],
   "source": [
    "example[0] = \"Hola\" \n",
    "print(example)"
   ]
  },
  {
   "cell_type": "markdown",
   "metadata": {},
   "source": [
    "### Tuplas\n",
    "\n",
    "Las `tuplas` son un conjunto ordenado e inmutable de elementos del mismo o diferente tipo. Las tuplas se escriben entre paréntesis  y separadas por comas."
   ]
  },
  {
   "cell_type": "code",
   "execution_count": 52,
   "metadata": {},
   "outputs": [
    {
     "data": {
      "text/plain": [
       "(2, 'Darth Vader', 3.1415)"
      ]
     },
     "execution_count": 52,
     "metadata": {},
     "output_type": "execute_result"
    }
   ],
   "source": [
    "tupla1= (2, \"Darth Vader\", 3.1415)\n",
    "tupla1"
   ]
  },
  {
   "cell_type": "code",
   "execution_count": 53,
   "metadata": {},
   "outputs": [
    {
     "data": {
      "text/plain": [
       "()"
      ]
     },
     "execution_count": 53,
     "metadata": {},
     "output_type": "execute_result"
    }
   ],
   "source": [
    "tupla_vacia = ()\n",
    "tupla_vacia"
   ]
  },
  {
   "cell_type": "markdown",
   "metadata": {},
   "source": [
    "### Diccionario\n",
    "\n",
    "El diccionario o `dict` es quizás  la estructura de datos en `Python` más importante. Un diccionario almacena una colección de pares clave-valor (`key-value`), donde clave y valor son objetos de `Python`. Cada clave está asociada con un valor para que un valor pueda recuperarse, insertarse, modificarse o eliminarse convenientemente dada una clave en particular. \n",
    "\n",
    "Un enfoque para crear un diccionario es usar llaves `{}` y dos puntos `:` para separar claves y valores:"
   ]
  },
  {
   "cell_type": "code",
   "execution_count": 54,
   "metadata": {},
   "outputs": [
    {
     "data": {
      "text/plain": [
       "{}"
      ]
     },
     "execution_count": 54,
     "metadata": {},
     "output_type": "execute_result"
    }
   ],
   "source": [
    "dict_vacio = {}\n",
    "\n",
    "dict_vacio"
   ]
  },
  {
   "cell_type": "code",
   "execution_count": 55,
   "metadata": {},
   "outputs": [
    {
     "data": {
      "text/plain": [
       "{'a': 'algun valor', 'b': [1, 2, 3, 4]}"
      ]
     },
     "execution_count": 55,
     "metadata": {},
     "output_type": "execute_result"
    }
   ],
   "source": [
    "d1 = {\"a\": \"algun valor\", \"b\": [1, 2, 3, 4]}\n",
    "\n",
    "d1"
   ]
  },
  {
   "cell_type": "markdown",
   "metadata": {},
   "source": [
    "Podemos acceder, insertar o configurar elementos usando la misma sintaxis que para acceder a elementos de una lista o tupla:"
   ]
  },
  {
   "cell_type": "code",
   "execution_count": 56,
   "metadata": {},
   "outputs": [
    {
     "data": {
      "text/plain": [
       "{'a': 'algun valor', 'b': [1, 2, 3, 4], 7: 'un entero'}"
      ]
     },
     "execution_count": 56,
     "metadata": {},
     "output_type": "execute_result"
    }
   ],
   "source": [
    "d1[7] = \"un entero\"\n",
    "d1"
   ]
  },
  {
   "cell_type": "code",
   "execution_count": 57,
   "metadata": {},
   "outputs": [
    {
     "data": {
      "text/plain": [
       "[1, 2, 3, 4]"
      ]
     },
     "execution_count": 57,
     "metadata": {},
     "output_type": "execute_result"
    }
   ],
   "source": [
    "d1[\"b\"]"
   ]
  },
  {
   "cell_type": "markdown",
   "metadata": {},
   "source": [
    "Podemos verificar si un diccionario contiene una clave utilizando la misma sintaxis utilizada para verificar si una lista o tupla contiene un valor:"
   ]
  },
  {
   "cell_type": "code",
   "execution_count": 58,
   "metadata": {},
   "outputs": [
    {
     "data": {
      "text/plain": [
       "True"
      ]
     },
     "execution_count": 58,
     "metadata": {},
     "output_type": "execute_result"
    }
   ],
   "source": [
    "\"b\" in d1"
   ]
  },
  {
   "cell_type": "markdown",
   "metadata": {},
   "source": [
    "Podemos eliminar valores utilizando la palabra clave `del` o el método `pop` (que simultáneamente devuelve el valor y elimina la clave):"
   ]
  },
  {
   "cell_type": "code",
   "execution_count": 59,
   "metadata": {},
   "outputs": [
    {
     "data": {
      "text/plain": [
       "{'a': 'algun valor', 'b': [1, 2, 3, 4], 7: 'un entero', 5: 'algun valor'}"
      ]
     },
     "execution_count": 59,
     "metadata": {},
     "output_type": "execute_result"
    }
   ],
   "source": [
    "d1[5] = \"algun valor\"\n",
    "d1"
   ]
  },
  {
   "cell_type": "code",
   "execution_count": 60,
   "metadata": {},
   "outputs": [
    {
     "data": {
      "text/plain": [
       "{'a': 'algun valor',\n",
       " 'b': [1, 2, 3, 4],\n",
       " 7: 'un entero',\n",
       " 5: 'algun valor',\n",
       " 'dummy': 'otro valor'}"
      ]
     },
     "execution_count": 60,
     "metadata": {},
     "output_type": "execute_result"
    }
   ],
   "source": [
    "d1[\"dummy\"] = \"otro valor\"\n",
    "d1"
   ]
  },
  {
   "cell_type": "code",
   "execution_count": 61,
   "metadata": {},
   "outputs": [
    {
     "data": {
      "text/plain": [
       "{'a': 'algun valor', 'b': [1, 2, 3, 4], 7: 'un entero', 'dummy': 'otro valor'}"
      ]
     },
     "execution_count": 61,
     "metadata": {},
     "output_type": "execute_result"
    }
   ],
   "source": [
    "del d1[5]\n",
    "d1"
   ]
  },
  {
   "cell_type": "code",
   "execution_count": 62,
   "metadata": {},
   "outputs": [
    {
     "data": {
      "text/plain": [
       "'otro valor'"
      ]
     },
     "execution_count": 62,
     "metadata": {},
     "output_type": "execute_result"
    }
   ],
   "source": [
    "ret = d1.pop(\"dummy\")\n",
    "ret"
   ]
  },
  {
   "cell_type": "code",
   "execution_count": 63,
   "metadata": {},
   "outputs": [
    {
     "data": {
      "text/plain": [
       "{'a': 'algun valor', 'b': [1, 2, 3, 4], 7: 'un entero'}"
      ]
     },
     "execution_count": 63,
     "metadata": {},
     "output_type": "execute_result"
    }
   ],
   "source": [
    "d1"
   ]
  },
  {
   "cell_type": "markdown",
   "metadata": {},
   "source": [
    "El método de claves (`keys`) y valores (`values`) no brinda iteradores de las claves y valores del diccionario, respectivamente. El orden de las claves depende del orden de su inserción, y estas funciones generan las claves y los valores en el mismo orden respectivo:"
   ]
  },
  {
   "cell_type": "code",
   "execution_count": 64,
   "metadata": {},
   "outputs": [
    {
     "data": {
      "text/plain": [
       "['a', 'b', 7]"
      ]
     },
     "execution_count": 64,
     "metadata": {},
     "output_type": "execute_result"
    }
   ],
   "source": [
    "list(d1.keys())"
   ]
  },
  {
   "cell_type": "code",
   "execution_count": 65,
   "metadata": {},
   "outputs": [
    {
     "data": {
      "text/plain": [
       "['algun valor', [1, 2, 3, 4], 'un entero']"
      ]
     },
     "execution_count": 65,
     "metadata": {},
     "output_type": "execute_result"
    }
   ],
   "source": [
    "list(d1.values())"
   ]
  },
  {
   "cell_type": "markdown",
   "metadata": {},
   "source": [
    "Si necesitamos iterar sobre las claves y los valores, podemos usar el método `items` para iterar sobre las claves y los valores como 2-tuplas:"
   ]
  },
  {
   "cell_type": "code",
   "execution_count": 66,
   "metadata": {},
   "outputs": [
    {
     "data": {
      "text/plain": [
       "[('a', 'algun valor'), ('b', [1, 2, 3, 4]), (7, 'un entero')]"
      ]
     },
     "execution_count": 66,
     "metadata": {},
     "output_type": "execute_result"
    }
   ],
   "source": [
    "list(d1.items())"
   ]
  },
  {
   "cell_type": "markdown",
   "metadata": {},
   "source": [
    "Podemos unir un diccionario en otro utilizando el método  `update`:"
   ]
  },
  {
   "cell_type": "code",
   "execution_count": 67,
   "metadata": {},
   "outputs": [
    {
     "data": {
      "text/plain": [
       "{'a': 'algun valor', 'b': 'foo', 7: 'un entero', 'c': 12}"
      ]
     },
     "execution_count": 67,
     "metadata": {},
     "output_type": "execute_result"
    }
   ],
   "source": [
    "d1.update({\"b\": \"foo\", \"c\": 12})\n",
    "d1"
   ]
  },
  {
   "cell_type": "markdown",
   "metadata": {},
   "source": [
    "El método `update` cambia los diccionarios en su lugar, por lo que cualquier clave existente en los datos pasados a `update` tendrá sus valores antiguos descartados."
   ]
  },
  {
   "cell_type": "markdown",
   "metadata": {},
   "source": [
    "#### Creando diccionarios a partir de secuencias\n",
    "\n",
    "A menudos tenemos dos  secuencias que deseamos emparejar sus elementos en un diccionario. Dado que un diccionario es esencialmente una colección de 2-tuplas, la función `dict` acepta este tipo de listas:"
   ]
  },
  {
   "cell_type": "code",
   "execution_count": 68,
   "metadata": {},
   "outputs": [
    {
     "data": {
      "text/plain": [
       "<zip at 0x784cc8531320>"
      ]
     },
     "execution_count": 68,
     "metadata": {},
     "output_type": "execute_result"
    }
   ],
   "source": [
    "tuples = zip(range(5), reversed(range(5)))\n",
    "tuples"
   ]
  },
  {
   "cell_type": "code",
   "execution_count": 69,
   "metadata": {},
   "outputs": [
    {
     "data": {
      "text/plain": [
       "{0: 4, 1: 3, 2: 2, 3: 1, 4: 0}"
      ]
     },
     "execution_count": 69,
     "metadata": {},
     "output_type": "execute_result"
    }
   ],
   "source": [
    "mapping = dict(tuples)\n",
    "mapping"
   ]
  },
  {
   "cell_type": "markdown",
   "metadata": {},
   "source": [
    "En resumen, en `Python`, las listas, tuplas y diccionarios son estructuras de datos muy versátiles y útiles. Las listas son secuencias ordenadas de elementos, lo que nos permite almacenar y manipular colecciones de datos de manera flexible. Por otro lado, las tuplas son similares a las listas, pero son inmutables, es decir, no se pueden modificar una vez creadas. Ambas estructuras nos permiten acceder a los elementos mediante índices y realizar operaciones como agregar, eliminar o modificar elementos.\n",
    "\n",
    "Sin embargo, los diccionarios son estructuras de datos más potentes y flexibles. A diferencia de las listas y las tuplas, los diccionarios son colecciones desordenadas de pares clave-valor (`key-value`). Cada elemento del diccionario está compuesto por una clave única y su correspondiente valor. Esto nos permite acceder rápidamente a los valores a través de sus claves, en lugar de usar índices. Los diccionarios son especialmente útiles cuando necesitamos almacenar y recuperar datos relacionados, ya que nos permiten organizar la información de manera eficiente y lógica. Además, los diccionarios son mutables, lo que significa que podemos agregar, modificar o eliminar pares clave-valor según nuestras necesidades.\n",
    "\n",
    "En resumen, las listas y tuplas son estructuras de datos secuenciales, mientras que los diccionarios son estructuras de datos basadas en pares clave-valor. Los diccionarios son especialmente útiles cuando necesitamos organizar y acceder a datos relacionados de manera eficiente."
   ]
  },
  {
   "cell_type": "markdown",
   "metadata": {},
   "source": [
    "## Funciones\n",
    "\n",
    "\n",
    "\n",
    "Una de las fortalezas de `Python` es que podemos crear funciones. Las funciones son elementos fundamentales en `Python` que nos permiten organizar y reutilizar bloques de código de manera eficiente.\n",
    "\n",
    " Una función es un conjunto de instrucciones que se agrupan bajo un nombre y se pueden llamar en cualquier momento durante la ejecución del programa. Es más, muchas de las funciones de `Python` son funciones de funciones. Al utilizar funciones, podemos dividir tareas complejas en partes más pequeñas y manejables, lo que facilita el desarrollo y mantenimiento del código. Además, las funciones nos permiten evitar la repetición de código, ya que podemos llamarlas múltiples veces sin tener que reescribir todo el bloque de instrucciones.\n",
    " \n",
    "  Las funciones pueden tener parámetros, que son valores que se pasan a la función para su procesamiento, y pueden devolver un resultado mediante la sentencia return. En resumen, las funciones en Python nos brindan modularidad, reutilización de código y un enfoque más organizado para resolver problemas y realizar tareas en nuestros programas.\n",
    "\n",
    "Las funciones se inician con la sentencia `def` y siguen la siguiente estructura básica:\n",
    "\n",
    "```python\n",
    "def nombre_funcion(parametro1, parametro2, ...):\n",
    "    \"\"\"\n",
    "    Descripción de lo que hace la función\n",
    "\n",
    "    Parameters:\n",
    "        parametro1 (clase_parametro1): Descripción del primer parámetro. \n",
    "        parametro2 (clase_parametro2): Descripción del segundo parámetro.\n",
    "\n",
    "    Returns:\n",
    "        output1 (clase_output): Descripción de lo que es el producto y qué valores puede tomar.\n",
    "    \"\"\"\n",
    "\n",
    "    # Bloque de código\n",
    "    \n",
    "    return(resultado)\n",
    "```"
   ]
  },
  {
   "cell_type": "markdown",
   "metadata": {},
   "source": [
    "Por ejemplo, una función que suma dos números `a` y `b` la definimos de la siguiente manera:"
   ]
  },
  {
   "cell_type": "code",
   "execution_count": 47,
   "metadata": {},
   "outputs": [],
   "source": [
    "def suma_dos_numeros(a, b):\n",
    "    \"\"\"\n",
    "    Esta función toma dos números y entrega la suma de estos.\n",
    "\n",
    "    Parameters:\n",
    "        a (float): número a sumar.\n",
    "        b (float): número a sumar.\n",
    "\n",
    "    Returns:\n",
    "        resultado (float): suma de a + b\n",
    "    \"\"\"\n",
    "    \n",
    "    resultado = a + b\n",
    "\n",
    "    return(resultado)"
   ]
  },
  {
   "cell_type": "code",
   "execution_count": 48,
   "metadata": {
    "noteable": {
     "output_collection_id": "497449ab-e634-4b4b-a7c1-6fb193e88bde"
    }
   },
   "outputs": [
    {
     "data": {
      "text/plain": [
       "5"
      ]
     },
     "execution_count": 48,
     "metadata": {},
     "output_type": "execute_result"
    }
   ],
   "source": [
    "suma_dos_numeros(2, 3)"
   ]
  },
  {
   "cell_type": "markdown",
   "metadata": {},
   "source": [
    "Es importante documentar adecuadamente una función para que sea útil a otros usuarios. Así, otros usuarios interesados podrán acceder a la documentación de la función por medio del signo de interrogación (`?`). "
   ]
  },
  {
   "cell_type": "code",
   "execution_count": 49,
   "metadata": {},
   "outputs": [],
   "source": [
    "?suma_dos_numeros"
   ]
  },
  {
   "cell_type": "markdown",
   "metadata": {},
   "source": [
    "### Otras funciones útiles\n",
    "\n",
    "`Python` contiene ciertas función integrada que nos permiten simplificar los flujos de trabajos. Aquí revisamos algunas de las qeu nos serán útiles en el curso.\n",
    "\n",
    "\n",
    "#### La función `len()`\n",
    "\n",
    "Evalúa el valor entero del número de caracteres en una cadena de caracters, lista, diccionario, etc.:"
   ]
  },
  {
   "cell_type": "code",
   "execution_count": 73,
   "metadata": {},
   "outputs": [
    {
     "data": {
      "text/plain": [
       "5"
      ]
     },
     "execution_count": 73,
     "metadata": {},
     "output_type": "execute_result"
    }
   ],
   "source": [
    "len('hello')"
   ]
  },
  {
   "cell_type": "code",
   "execution_count": 74,
   "metadata": {},
   "outputs": [
    {
     "data": {
      "text/plain": [
       "3"
      ]
     },
     "execution_count": 74,
     "metadata": {},
     "output_type": "execute_result"
    }
   ],
   "source": [
    "len(['cat', 3, 'dog'])"
   ]
  },
  {
   "cell_type": "markdown",
   "metadata": {},
   "source": [
    "Sin embargo, si queremos probar si un elemento es vacío de cadenas, es preferible  la evaluación booleana directa y no la función `len()`:"
   ]
  },
  {
   "cell_type": "code",
   "execution_count": 75,
   "metadata": {},
   "outputs": [
    {
     "name": "stdout",
     "output_type": "stream",
     "text": [
      "Esta lista no es vacía \n"
     ]
    }
   ],
   "source": [
    "# Elemento a evaluar\n",
    "a = [1, 2, 3]\n",
    "\n",
    "# Hacerlo de forma incorrecta\n",
    "if len(a) > 0:  # evalúa a True\n",
    "        print(\"Esta lista no es vacía \")"
   ]
  },
  {
   "cell_type": "code",
   "execution_count": 76,
   "metadata": {},
   "outputs": [
    {
     "name": "stdout",
     "output_type": "stream",
     "text": [
      "Esta lista no es vacía \n"
     ]
    }
   ],
   "source": [
    "# Hacerlo de forma correcta\n",
    "if a: # evalúa a True\n",
    "    print(\"Esta lista no es vacía \")\n"
   ]
  },
  {
   "cell_type": "markdown",
   "metadata": {},
   "source": [
    "#### Las funciones` str()`, `int()`, y `float()` \n",
    "\n",
    "Estas funciones le permiten cambiar el tipo de variable. Por ejemplo, puede transformar  un `integer` o un `float` a un `string`:\n"
   ]
  },
  {
   "cell_type": "code",
   "execution_count": 77,
   "metadata": {},
   "outputs": [
    {
     "data": {
      "text/plain": [
       "'29'"
      ]
     },
     "execution_count": 77,
     "metadata": {},
     "output_type": "execute_result"
    }
   ],
   "source": [
    "str(29)"
   ]
  },
  {
   "cell_type": "code",
   "execution_count": 78,
   "metadata": {},
   "outputs": [
    {
     "data": {
      "text/plain": [
       "'-3.14'"
      ]
     },
     "execution_count": 78,
     "metadata": {},
     "output_type": "execute_result"
    }
   ],
   "source": [
    "str(-3.14)"
   ]
  },
  {
   "cell_type": "markdown",
   "metadata": {},
   "source": [
    "O de un  `string` a un `integer` o `float`:"
   ]
  },
  {
   "cell_type": "code",
   "execution_count": 79,
   "metadata": {},
   "outputs": [
    {
     "data": {
      "text/plain": [
       "11"
      ]
     },
     "execution_count": 79,
     "metadata": {},
     "output_type": "execute_result"
    }
   ],
   "source": [
    "int('11')"
   ]
  },
  {
   "cell_type": "code",
   "execution_count": 80,
   "metadata": {},
   "outputs": [
    {
     "data": {
      "text/plain": [
       "3.14"
      ]
     },
     "execution_count": 80,
     "metadata": {},
     "output_type": "execute_result"
    }
   ],
   "source": [
    "float('3.14')"
   ]
  },
  {
   "cell_type": "markdown",
   "metadata": {},
   "source": [
    "#### La función `input()`\n",
    "\n",
    "Esta función toma la entrada del usuario y la convierte en un `string`:\n"
   ]
  },
  {
   "cell_type": "code",
   "execution_count": 81,
   "metadata": {},
   "outputs": [
    {
     "name": "stdout",
     "output_type": "stream",
     "text": [
      "¿Cuál es tu nombre?\n",
      "Ignacio\n",
      "Hola, Ignacio\n"
     ]
    }
   ],
   "source": [
    "print('¿Cuál es tu nombre?')   # pregunta el nombre\n",
    "my_name = input()\n",
    "print('Hola, {}'.format(my_name))"
   ]
  },
  {
   "cell_type": "markdown",
   "metadata": {},
   "source": [
    "En `input()` también podemos configurar un mensaje predeterminado sin usar `print()`:"
   ]
  },
  {
   "cell_type": "code",
   "execution_count": 82,
   "metadata": {},
   "outputs": [
    {
     "name": "stdout",
     "output_type": "stream",
     "text": [
      "¿Cuál es tu nombre?Ignacio\n",
      "Hola, Ignacio\n"
     ]
    }
   ],
   "source": [
    "my_name = input('¿Cuál es tu nombre?')  # default \n",
    "print('Hola, {}'.format(my_name))"
   ]
  },
  {
   "cell_type": "markdown",
   "metadata": {
    "noteable": {
     "cell_type": "markdown"
    }
   },
   "source": [
    "## Google Colab\n",
    "\n",
    "Finalizamos este cuaderno, introduciendo [Google Colab](https://colab.research.google.com/). Este es un entorno de Jupyter notebook que se ejecuta completamente en la nube en los servidores de google. Permitiéndonos escribir y ejecutar código de `Python`, guardar y compartir nuestros análisis, y acceder a potentes recursos de computación, todo de forma gratuita desde nuestro  navegador.\n",
    "\n",
    "### Conexión y Login\n",
    "\n",
    "Para usar Google Colab, necesitamos una cuenta de Google. Si ya tenemos una, podemos acceder a Google Colab en [colab.research.google.com](https://colab.research.google.com/). Si no tenemos una cuenta de Google, podemos crearla gratis.\n",
    "\n",
    "Una vez que estamos en Google Colab, podemos crear un nuevo notebook seleccionando `'Archivo' > 'Nuevo notebook'`, o podemos abrir un notebook existente desde Google Drive.\n",
    "\n",
    "### ¿Para qué sirve Google Colab?\n",
    "\n",
    "Google Colab sirve para muchas cosas, incluyendo:\n",
    "\n",
    "- **Aprendizaje y enseñanza de Python y Data Science**: Google Colab proporciona un entorno de Jupyter notebook completamente configurado, lo que facilita el aprendizaje y la enseñanza de Python, machine learning, y data science.\n",
    "- **Análisis de datos**: Podemos usar Google Colab para analizar tus propios datos. Podemos cargar datos desde tu Google Drive, Github, y muchas otras fuentes.\n",
    "- **Machine Learning**: Google Colab proporciona acceso gratuito a GPUs, lo que nos permite entrenar modelos de machine learning más rápidamente.\n",
    "- **Colaboración y Compartir**: Podemos compartir nuestros notebooks de Google Colab con otros, al igual que compartiríamos un documento de Google Docs. Esto hace que Colab sea una gran herramienta para la colaboración en proyectos de data science."
   ]
  },
  {
   "cell_type": "markdown",
   "metadata": {},
   "source": [
    "## Palabras Finales\n",
    "\n",
    "Este cuaderno busca refrescar conocimientos de `Python` que serán útiles a lo largo del curso, sin embargo no es exhaustiva y te invito a revisar las notas de clase  del [Python Bootcamp](https://pythonbootcampuniandes.github.io/) dictado en la universidad: https://github.com/PythonBootcampUniandes/notas-de-clase/tree/master/Introduccion"
   ]
  }
 ],
 "metadata": {
  "interpreter": {
   "hash": "8fac594bfae6525c0c41b4041d2d72effa188cc8ead05f81b1fab2bb098927fb"
  },
  "kernelspec": {
   "display_name": "Python 3 (ipykernel)",
   "language": "python",
   "name": "python3"
  },
  "language_info": {
   "codemirror_mode": {
    "name": "ipython",
    "version": 3
   },
   "file_extension": ".py",
   "mimetype": "text/x-python",
   "name": "python",
   "nbconvert_exporter": "python",
   "pygments_lexer": "ipython3",
   "version": "3.7.6"
  },
  "noteable": {
   "last_transaction_id": "fc2c69e6-b257-4ebe-a0f1-b36a9bec5df5"
  },
  "selected_hardware_size": "small",
  "toc": {
   "base_numbering": 1,
   "nav_menu": {},
   "number_sections": true,
   "sideBar": true,
   "skip_h1_title": false,
   "title_cell": "Table of Contents",
   "title_sidebar": "Contents",
   "toc_cell": false,
   "toc_position": {},
   "toc_section_display": true,
   "toc_window_display": true
  }
 },
 "nbformat": 4,
 "nbformat_minor": 5
}
