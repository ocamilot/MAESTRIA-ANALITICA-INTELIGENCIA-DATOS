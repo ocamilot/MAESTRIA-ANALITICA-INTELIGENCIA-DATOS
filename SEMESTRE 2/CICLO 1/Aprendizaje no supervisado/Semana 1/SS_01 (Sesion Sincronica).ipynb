{
 "cells": [
  {
   "cell_type": "markdown",
   "metadata": {
    "slideshow": {
     "slide_type": "slide"
    }
   },
   "source": [
    "<div >\n",
    "<img src = \"figs/ans_banner_1920x200.png\" />\n",
    "</div>\n",
    "\n",
    "#  Aprendizaje No Supervisado"
   ]
  },
  {
   "cell_type": "markdown",
   "metadata": {
    "slideshow": {
     "slide_type": "skip"
    }
   },
   "source": [
    "El objetivo de este cuaderno es introducir el curso de Aprendizaje No Supervisado y el Análisis de Componentes principales que se estudiará en la primer semana de cursado.\n",
    "\n",
    "**NO** es necesario editar el archivo o hacer una entrega. Los ejemplos contienen celdas con código ejecutable (`en gris`), que podrá modificar libremente. Esta puede ser una buena forma de aprender nuevas funcionalidades del *cuaderno*, o experimentar variaciones en los códigos de ejemplo."
   ]
  },
  {
   "cell_type": "markdown",
   "metadata": {
    "slideshow": {
     "slide_type": "slide"
    }
   },
   "source": [
    "## Sobre el Curso\n",
    "\n",
    "<div >\n",
    "<img src = \"figs/Programa.png\" />\n",
    "</div>\n",
    "\n"
   ]
  },
  {
   "cell_type": "markdown",
   "metadata": {
    "slideshow": {
     "slide_type": "slide"
    }
   },
   "source": [
    "\n",
    "## Aprendizaje Supervisado vs **NO** Supervisado.\n",
    "\n",
    "- Estos modelos a diferencia de los vistos en aprendizaje supervisado no cuentan con una respuesta observada. \n",
    "\n",
    "    "
   ]
  },
  {
   "cell_type": "markdown",
   "metadata": {
    "slideshow": {
     "slide_type": "subslide"
    }
   },
   "source": [
    "### Aprendizaje Supervisado: Para cada predictor $x_i$ ase observa una respuesta $y_i$.\n",
    "\n",
    "<div >\n",
    "<img src = \"figs/supevised.png\" />\n",
    "</div>\n",
    "    \n",
    " "
   ]
  },
  {
   "cell_type": "markdown",
   "metadata": {
    "slideshow": {
     "slide_type": "subslide"
    }
   },
   "source": [
    "### Aprendizaje **NO** Supervisado: \n",
    "  \n",
    "  <div >\n",
    "<img src = \"figs/unsupevised.png\" />\n",
    "</div>\n",
    "    \n",
    "  - Complementa los dos cursos anteriores estudiando aplicaciones donde no hay una variable de respuesta definida.\n",
    "  \n",
    "  "
   ]
  },
  {
   "cell_type": "markdown",
   "metadata": {
    "slideshow": {
     "slide_type": "slide"
    }
   },
   "source": [
    "## Temas del Curso\n",
    "\n",
    "- Abarca cuatro grandes tópicos:\n",
    "   \n",
    "    - Reducción de Dimensión (Semanas 1 y 2)\n",
    "      \n",
    "    - Clustering (Semanas 3 y 4)\n",
    "\n",
    "    - Sistemas de Recomendación (Semanas 5 y 6)\n",
    "    \n",
    "    - Análisis Geográfico (Semanas 7 y 8)\n",
    "\n"
   ]
  },
  {
   "cell_type": "markdown",
   "metadata": {
    "slideshow": {
     "slide_type": "slide"
    }
   },
   "source": [
    "\n",
    "## Equipo\n",
    "\n",
    "- Profesor: [Ignacio Sarmiento-Barbieri](https://ignaciomsarmiento.github.io/)\n",
    "\n",
    "- Tutor Líder: Juan Esteban Segura\n",
    "\n",
    "- Tutores:\n",
    "    - Andrés Felipe Arteta Isaacs\n",
    "    - Camilo Bonilla Hernández \t\n",
    "    - Juan Camilo Prieto\n",
    "    - Juan Sebastián Paniagua Álvarez\n",
    "\n"
   ]
  },
  {
   "cell_type": "markdown",
   "metadata": {
    "slideshow": {
     "slide_type": "slide"
    }
   },
   "source": [
    "\n",
    "## Comunicaciones\n",
    "\n",
    "  - Vía el canal de Slack, donde las consultas serán atendidas por los tutores y el profesor en horarios fijos. Estos horarios son:\n",
    "    -  12 pm\n",
    "    -  7 pm\n",
    "    \n",
    "    -  Tutorías virtuales viernes de 7pm a 9pm y sábados (vía zoom) 10 am a 12pm. Reservar espacio en los links disponibles en Coursera \n",
    "\n",
    " - [solicitudes-miad@uniandes.edu.co](solicitudes-miad@uniandes.edu.co): comunicación e inquietudes al equipo docente o a la coordinación del programa \n"
   ]
  },
  {
   "cell_type": "markdown",
   "metadata": {},
   "source": [
    "\n",
    "## Actividades Semanales\n",
    "\n",
    "- **Evaluación individual:** \n",
    "    - Quices semanales teórico-prácticos (28\\%, 4\\% c/u)\n",
    "    - Casos- talleres semanas 2, 4, 6 y 8 calificados por pares  (12\\%, 3\\% c/u)\n",
    "   \n"
   ]
  },
  {
   "cell_type": "markdown",
   "metadata": {},
   "source": [
    "- **Evaluaciones grupales:** \n",
    "    - Casos-talleres semanas 1, 3, 5, y 7 calificado por tutores (Sumativo, heteroevaluación)  (28%, 7% c/u)\n",
    "    - Proyecto libre guiado por los tutores con dos entregas (Sumativo, heteroevaluación) (30%)\n",
    "        - Entrega 1 semana 4 (14%) \n",
    "        - Entrega 2 en semana 7 (18%) \n",
    "  \n"
   ]
  },
  {
   "cell_type": "markdown",
   "metadata": {},
   "source": [
    "\n",
    " \n",
    "- Para los casos-talleres individuales de las semanas 2, 4, 6 y 8 el estudiante es libre de trabajar en equipo, pero es responsable de realizar y entregar su **propia versión del trabajo asignado**. \n",
    "- Esto significa que, a pesar de colaborar y discutir los temas con los compañeros de grupo, la entrega debe ser realizada individualmente. \n",
    "- **Está permitido compartir código entre los compañeros de grupo** para fines educativos y para facilitar la comprensión del problema a resolver, pero el análisis y las conclusiones deben ser propias. La universidad toma muy en serio el fraude académico y no será tolerado."
   ]
  },
  {
   "cell_type": "markdown",
   "metadata": {},
   "source": [
    "###  Equipos de trabajo\n",
    "\n",
    "\n",
    "  - Los equipos deben ser de  tres a cinco personas. \n",
    "  \n",
    "  - Los estudiantes son libres de conformarlos y decidir con quienes quieren trabajar.\n",
    "  \n",
    "  - Tan pronto lo hagan, registren los nombres en el link de la plataforma\n",
    "  \n",
    "  - Los equipos deberán estar registrados en el documento antes del sábado 10 de Agosto a las 11:59 a.m. hora colombiana. \n",
    "  \n",
    "  - Los estudiantes que para esta fecha no hagan parte de ningún equipo, serán asignados aleatoriamente a equipos de trabajo.\n",
    "  \n",
    "\n",
    "\n",
    "\n"
   ]
  },
  {
   "cell_type": "markdown",
   "metadata": {
    "slideshow": {
     "slide_type": "slide"
    }
   },
   "source": [
    "<div >\n",
    "<img src = \"figs/ans_banner_1920x200.png\" />\n",
    "</div>\n",
    "\n",
    "\n",
    "# Introducción al Análisis de Componentes Principales\n"
   ]
  },
  {
   "cell_type": "markdown",
   "metadata": {
    "slideshow": {
     "slide_type": "slide"
    }
   },
   "source": [
    "## ¿Qué es?\n",
    "\n",
    "- Los grandes conjuntos de datos son cada vez más comunes y, a menudo, difíciles de interpretar.\n",
    "  \n",
    "- Supongamos que tenemos una gran cantidad de variables observables $X_1,\\dots,X_k$\n",
    "\n",
    "- ¿Necesitamos todas?\n",
    "\n",
    "- Si muchas son muy similares entre sí y están altamente correlacionados, tal vez la pregunta no es \"¿cuál de ellas es importante?\", sino más bien \"¿cuál combinación lineal es importante?\".\n",
    "\n",
    "- Por ejemplo, si tienes un conjunto de datos con una gran cantidad de calificaciones de exámenes tomados por estudiantes, y estás tratando de predecir algún resultado (calificaciones en clases futuras, éxito en la universidad, salarios futuros), lo que podría ser el mejor predictor es un promedio, o una combinación lineal, de las calificaciones de los exámenes.\n",
    "\n",
    "- PCA es una técnica de aprendizaje no supervisado que facilita esta tarea.\n",
    "\n",
    "- PCA reproyecta los datos a un nuevo espacio vectorial de forma tal que retengamos la máxima información posible. \n",
    "\n",
    "- Como se mide información? En PCA y en otros métodos estadísticos utilizamos la varianza. \n",
    "\n",
    "- Si algo varía más entonces tiene más información.\n",
    "\n",
    "- PCA identifica los ejes con la mayor cantidad de variación en los datos."
   ]
  },
  {
   "cell_type": "markdown",
   "metadata": {
    "slideshow": {
     "slide_type": "slide"
    }
   },
   "source": [
    "<div >\n",
    "<img src = \"figs/pca_best_projection_plot_0.png\" />\n",
    "</div>"
   ]
  },
  {
   "cell_type": "markdown",
   "metadata": {},
   "source": [
    "<div >\n",
    "<img src = \"figs/pca_best_projection_plot_1.png\" />\n",
    "</div>"
   ]
  },
  {
   "cell_type": "markdown",
   "metadata": {},
   "source": [
    "<div >\n",
    "<img src = \"figs/pca_best_projection_plot_11.png\" />\n",
    "</div>"
   ]
  },
  {
   "cell_type": "markdown",
   "metadata": {},
   "source": [
    "<div >\n",
    "<img src = \"figs/pca_best_projection_plot_2.png\" />\n",
    "</div>"
   ]
  },
  {
   "cell_type": "markdown",
   "metadata": {},
   "source": [
    "<div >\n",
    "<img src = \"figs/pca_best_projection_plot_21.png\" />\n",
    "</div>"
   ]
  },
  {
   "cell_type": "markdown",
   "metadata": {},
   "source": [
    "<div >\n",
    "<img src = \"figs/pca_best_projection_plot_3.png\" />\n",
    "</div>"
   ]
  },
  {
   "cell_type": "markdown",
   "metadata": {},
   "source": [
    "<div >\n",
    "<img src = \"figs/pca_best_projection_plot_31.png\" />\n",
    "</div>"
   ]
  },
  {
   "cell_type": "markdown",
   "metadata": {},
   "source": [
    "<div >\n",
    "<img src = \"figs/pca_best_projection_plot.png\" />\n",
    "</div>"
   ]
  },
  {
   "cell_type": "markdown",
   "metadata": {},
   "source": [
    "<div >\n",
    "<img src = \"figs/pca_best_projection_plot_C1C2.png\" />\n",
    "</div>"
   ]
  },
  {
   "cell_type": "markdown",
   "metadata": {
    "slideshow": {
     "slide_type": "slide"
    }
   },
   "source": [
    "\n",
    "\n",
    "\n",
    "- PCA \"transforma\" las variables originales en un nuevo conjunto de variables, los componentes principales, que no están correlacionados y que se ordenan de manera que los primeros retengan la mayor parte de la variación presente en todas las variables originales.\n",
    "\n",
    "- PCA se refiere entonces al proceso por el cual los componentes principales son calculados, y el uso de estos componentes para entender los datos.\n",
    "\n",
    "## Como lo hace? \n",
    "\n",
    "- Reproyectando a través de combinaciones lineales\n",
    "\n",
    "- Por ejemplo, si tenemos 7 variables ($X_1, X_2, \\dots, X_{7} $), el primer componente principal va a buscar la combinación lineal de estas 7 variables de forma tal que la información retenida sea la más alta posible\n",
    "    \n",
    "    \n",
    "\\begin{align}\n",
    "PC_1 = \\delta_{1,1} X_1+ \\delta_{2,1} X_2 + \\dots + \\delta_{7,1} X_{7}\n",
    "\\end{align}\n",
    "\n",
    "\n",
    "en donde $\\delta_1$ es un vector de $7$ números reales $(\\delta_1= \\delta_{1,1},\\dots, \\delta_{7,1})$, que llamamos pesos o loadings y han sido normalizados para que $\\sum_{j=1}^{7} \\delta_{j1}^2=1$\n",
    " \n",
    "\n",
    "- Podemos entonces calcular los componentes principales restantes, agregando la restricción de que este no este correlacionado con PC1.\n",
    "\n"
   ]
  },
  {
   "cell_type": "markdown",
   "metadata": {},
   "source": [
    "## PCA como analisis de factores\n",
    "\n",
    "\n",
    "### Modelo de Factor Único\n",
    "\n",
    "$$x_i = h f_i + u_i$$\n",
    "\n",
    "- h y $u_i$ son $k \\times 1$\n",
    "- $f_i$ es el factor que es $1 \\times 1$ \n",
    "- $h$ son los loadings (cargas, pesos) factoriales.\n",
    "- $u_i$ son los errores idiosincráticos.\n",
    "\n",
    "En este modelo, el factor $f_i$ afecta a todos los regresores $x_{ji}$.\n",
    "- Pero la magnitud es específica para el regresor y se captura por $h$.\n",
    "\n",
    "### Escalado\n",
    "\n",
    "- La escala de $h$ y $f_i$ no se identifican por separado, ni su signo.\n",
    "- Por esto reescalamos $h^T h = 1$.\n",
    "\n",
    "#### Ejemplo de calificaciones en exámenes\n",
    "\n",
    "- $x_i$ es un conjunto de calificaciones en exámenes para un estudiante dado.\n",
    "- $f_i$ es la habilidad latente del estudiante.\n",
    "- $h$ es cómo la habilidad afecta las diferentes calificaciones en exámenes.\n",
    "\n",
    "- Algunos exámenes pueden estar altamente relacionadas con la habilidad.\n",
    "- Algunos exámenes pueden estar menos relacionadas.\n",
    "- Algunos exámenes no estar relacionadas (¿aleatorias?).\n"
   ]
  },
  {
   "cell_type": "markdown",
   "metadata": {},
   "source": [
    "### Modelo de Factores Múltiples\n",
    "\n",
    "$$x_i = \\sum_{m=1}^{r} h_m f_{mi} + u_i = H_0 f_i + u_i$$\n",
    "\n",
    "- Los loadings normalizadas para ser ortonormales $\\rightarrow$ factores no correlacionados\n",
    "\n",
    "- Las cargas factoriales $h_m$ son los eigen vectors de $\\Sigma_x$ (varianza de x) asociados con los mayores $r$ eigen values.\n",
    "\n",
    "\n",
    "#### Ejemplo de calificaciones en exámenes (cont.)\n",
    "\n",
    "- Existen más de una forma de \"habilidad\". Ej. literaria y matemática.\n",
    "- En la economía laboral, se ha hipotetizado una distinción entre habilidad cognitiva y no cognitiva que ha sido muy útil para explicar los patrones salariales (algunos trabajos requieren una u otra, y algunos ambas, por ejemplo, cirujano).\n",
    "\n"
   ]
  },
  {
   "cell_type": "markdown",
   "metadata": {},
   "source": [
    "### A los datos"
   ]
  },
  {
   "cell_type": "code",
   "execution_count": null,
   "metadata": {},
   "outputs": [],
   "source": [
    "#Cargamos las librerías a utilizar\n",
    "import pandas as pd\n",
    "import numpy as np\n",
    "from matplotlib import pyplot as plt\n",
    "import seaborn as sb\n",
    "np.set_printoptions(precision=2)"
   ]
  },
  {
   "cell_type": "markdown",
   "metadata": {},
   "source": [
    "Datos del artículo \"Peer Effects, Teacher Incentives, and the Impact of Tracking: Evidence from a Randomized Evaluation in Kenya\" de Duflo, Dupas y Kremer (AER, 2011)"
   ]
  },
  {
   "cell_type": "code",
   "execution_count": null,
   "metadata": {},
   "outputs": [],
   "source": [
    "# Cargamos los datos\n",
    "X = pd.read_csv('data/duflo_data.csv', index_col=0)\n",
    "X.head()"
   ]
  },
  {
   "cell_type": "markdown",
   "metadata": {},
   "source": [
    "Variables:\n",
    "\n",
    "- `pupilid`: ID del estudiante\n",
    "- `wordscore`: Calificación final en la sección de Reconocimiento de Palabras (máximo: 24)\n",
    "- `sentscore`: Calificación final en la sección de Reconocimiento de Oraciones (máximo: 40)\n",
    "- `letterscore`: Calificación final en la sección de Reconocimiento de Letras (máximo: 70)\n",
    "- `spellscore`: Calificación final en la sección de Ortografía (máximo: 10)\n",
    "- `additions_score`: Calificación final en la sección de Adiciones\n",
    "- `substractionscore`: Calificación final en la sección de Sustracciones\n",
    "- `multiplicationscore`: Calificación final en la sección de Multiplicaciones\n",
    "\n"
   ]
  },
  {
   "cell_type": "code",
   "execution_count": null,
   "metadata": {},
   "outputs": [],
   "source": [
    "#dimensión\n",
    "X.shape"
   ]
  },
  {
   "cell_type": "code",
   "execution_count": null,
   "metadata": {},
   "outputs": [],
   "source": [
    "X.describe()"
   ]
  },
  {
   "cell_type": "code",
   "execution_count": null,
   "metadata": {},
   "outputs": [],
   "source": [
    "X.corr()"
   ]
  },
  {
   "cell_type": "code",
   "execution_count": null,
   "metadata": {},
   "outputs": [],
   "source": [
    "plt.figure(figsize=(20,20))\n",
    "\n",
    "dataplot = sb.heatmap(X.corr(), cmap=\"YlGnBu\", annot=True)\n",
    "\n",
    "plt.show()"
   ]
  },
  {
   "cell_type": "code",
   "execution_count": null,
   "metadata": {},
   "outputs": [],
   "source": [
    "from sklearn.decomposition import PCA\n",
    "from sklearn.preprocessing import StandardScaler\n",
    "\n",
    "scaler = StandardScaler(with_std=True, with_mean=True)\n",
    "X_scaled = scaler.fit_transform(X)\n",
    "\n",
    "\n",
    "pcaX = PCA()\n",
    "\n",
    "pcaX.fit(X_scaled)"
   ]
  },
  {
   "cell_type": "code",
   "execution_count": null,
   "metadata": {},
   "outputs": [],
   "source": [
    "pd.DataFrame(pcaX.components_)"
   ]
  },
  {
   "cell_type": "code",
   "execution_count": null,
   "metadata": {},
   "outputs": [],
   "source": [
    "pd.DataFrame(pcaX.explained_variance_ratio_*100)"
   ]
  },
  {
   "cell_type": "code",
   "execution_count": null,
   "metadata": {},
   "outputs": [],
   "source": [
    "# Carguemos el paquete\n",
    "from pca import pca\n",
    "\n",
    "model_estudiantes = pca(n_components=2,normalize=True, verbose=0)\n",
    "results_estudiantes = model_estudiantes.fit_transform(X)\n",
    "\n"
   ]
  },
  {
   "cell_type": "code",
   "execution_count": null,
   "metadata": {},
   "outputs": [],
   "source": [
    "# Biplot\n",
    "\n",
    "model_estudiantes.biplot(PC=[0, 1], alpha=0.1,legend=False, color_arrow=\"red\", arrowdict={'color_text':\"black\"})\n"
   ]
  },
  {
   "cell_type": "code",
   "execution_count": null,
   "metadata": {},
   "outputs": [],
   "source": [
    "# matrix product\n",
    "#result = X_scaled.dot(results_estudiantes['loadings'].T)\n",
    "#pd.DataFrame(result)"
   ]
  },
  {
   "cell_type": "code",
   "execution_count": null,
   "metadata": {},
   "outputs": [],
   "source": [
    "scores = results_estudiantes['PC']\n",
    "scores"
   ]
  },
  {
   "cell_type": "code",
   "execution_count": null,
   "metadata": {},
   "outputs": [],
   "source": [
    "sorted_scores_pc1 = scores.sort_values(by='PC1', ascending=False)\n",
    "sorted_scores_pc1"
   ]
  },
  {
   "cell_type": "markdown",
   "metadata": {},
   "source": [
    "# Información de Sesión"
   ]
  },
  {
   "cell_type": "code",
   "execution_count": null,
   "metadata": {},
   "outputs": [],
   "source": [
    "import session_info\n",
    "\n",
    "session_info.show(html=False)"
   ]
  }
 ],
 "metadata": {
  "kernelspec": {
   "display_name": "Python 3",
   "language": "python",
   "name": "python3"
  },
  "language_info": {
   "codemirror_mode": {
    "name": "ipython",
    "version": 3
   },
   "file_extension": ".py",
   "mimetype": "text/x-python",
   "name": "python",
   "nbconvert_exporter": "python",
   "pygments_lexer": "ipython3",
   "version": "3.7.6"
  },
  "toc": {
   "base_numbering": 1,
   "nav_menu": {},
   "number_sections": true,
   "sideBar": true,
   "skip_h1_title": false,
   "title_cell": "Table of Contents",
   "title_sidebar": "Contents",
   "toc_cell": false,
   "toc_position": {},
   "toc_section_display": true,
   "toc_window_display": false
  }
 },
 "nbformat": 4,
 "nbformat_minor": 4
}
