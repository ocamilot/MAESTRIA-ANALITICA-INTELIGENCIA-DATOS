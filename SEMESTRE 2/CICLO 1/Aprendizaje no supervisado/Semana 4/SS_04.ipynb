{
 "cells": [
  {
   "cell_type": "markdown",
   "metadata": {},
   "source": [
    "<div >\n",
    "<img src = \"figs/ans_banner_1920x200.png\" />\n",
    "</div>"
   ]
  },
  {
   "cell_type": "markdown",
   "metadata": {},
   "source": [
    "# Clustering II. Sesión Sincrónica.\n",
    "\n",
    "\n",
    "Tanto Clustering como PCA y SVD buscan simplificar los datos de forma no supervizada, pero sus mecanismos son diferentes:\n",
    "\n",
    "- PCA y SVD buscan encontrar una representación de baja dimensión de las observaciones que explique una buena fracción de la varianza;\n",
    "\n",
    "- Clustering busca encontrar subgrupos homogéneos entre las observaciones.\n",
    "\n",
    "\n",
    "El objetivo de este cuaderno es introducir los algoritmos que serán estudiados en la semana 4.\n",
    "\n",
    "**NO** es necesario editar el archivo o hacer una entrega. Los ejemplos contienen celdas con código ejecutable (`en gris`), que podrá modificar libremente. Esta puede ser una buena forma de aprender nuevas funcionalidades del *cuaderno*, o experimentar variaciones en los códigos de ejemplo.\n",
    "\n"
   ]
  },
  {
   "cell_type": "markdown",
   "metadata": {},
   "source": [
    "# Introducción \n",
    "\n",
    "## ¿Qué es el análisis de clusters? \n",
    "\n",
    "El análisis de clusters es una de las principales aplicaciones de los algoritmos de aprendizaje no supervisado. Este tipo de análisis se utiliza para juntar observaciones similares en grupos:\n",
    "\n",
    "\n",
    "\n",
    "<div style=\"max-width:500px\">\n",
    "<img src = \"figs/plot_clustering_notebook.png\" />\n",
    "</div>\n",
    "\n",
    "\n",
    "\n",
    "## Caveat\n",
    "\n",
    "Los métodos de clustering son exploratorios: se pueden utilizar para evaluar la calidad de los datos y generar hipótesis. \n",
    "\n",
    "Pero no importa lo que entre en el algoritmo de agrupamiento, los clusters salen. Esta es una situación clásica de \"basura que entra, basura que sale\". \n",
    "\n",
    "\n",
    "La conclusión es que la agrupación es buena si es útil para responder el problema en particular. Pero, esto es difícil de evaluar, a pesar de tener ciertas medidas de validez interna. Esto requiere que el usuario utilice su capacidad y discernimiento.\n"
   ]
  },
  {
   "cell_type": "markdown",
   "metadata": {},
   "source": [
    "## Etapas\n",
    "\n",
    "Las etapas del análisis de clusters podemos resumirlas de la siguiente forma:\n",
    "\n",
    "1. Iniciamos con una matriz de datos\n",
    "\n",
    "    \\begin{align}\n",
    "X_{n\\times k}=\\left(\\begin{array}{cccc}\n",
    "x_{11} &  & \\dots & x_{1k}\\\\\n",
    "\\\\\n",
    "\\vdots &  & x_{ik} & \\vdots\\\\\n",
    "\\\\\n",
    "x_{n1} &  & \\dots & x_{nk} \n",
    "\\end{array}\\right)\n",
    "    \\end{align}\n",
    "\n",
    "2. Calculamos la matriz de distancia o disimilitud\n",
    "\n",
    "\\begin{align}\n",
    "D_{n\\times n}=\\left(\\begin{array}{ccccc}\n",
    "d_{11} &  & \\dots &  & d_{1n}\\\\\n",
    " & \\ddots\\\\\n",
    "\\vdots &  & d_{jj} &  & \\vdots\\\\\n",
    " &  &  & \\ddots\\\\\n",
    "d_{n1} &  & \\dots &  & d_{nn}\n",
    "\\end{array}\\right)\n",
    "\\end{align}\n",
    "\n",
    "\n",
    "3. Aplicamos el algoritmo de clustering. Existen varios tipos\n",
    "    - **basados en centroides**\n",
    "    - **basados en conectividad** \n",
    "    - **basados en densidades**\n",
    "    \n"
   ]
  },
  {
   "cell_type": "markdown",
   "metadata": {},
   "source": [
    "## Distancias\n",
    "\n",
    "Ejemplo 1: Calcular el parecido entre tres alumnos/as  a partir de sus notas usando la distancia euclideana:"
   ]
  },
  {
   "cell_type": "code",
   "execution_count": 1,
   "metadata": {},
   "outputs": [
    {
     "data": {
      "text/html": [
       "<div>\n",
       "<style scoped>\n",
       "    .dataframe tbody tr th:only-of-type {\n",
       "        vertical-align: middle;\n",
       "    }\n",
       "\n",
       "    .dataframe tbody tr th {\n",
       "        vertical-align: top;\n",
       "    }\n",
       "\n",
       "    .dataframe thead th {\n",
       "        text-align: right;\n",
       "    }\n",
       "</style>\n",
       "<table border=\"1\" class=\"dataframe\">\n",
       "  <thead>\n",
       "    <tr style=\"text-align: right;\">\n",
       "      <th></th>\n",
       "      <th>0</th>\n",
       "      <th>1</th>\n",
       "      <th>2</th>\n",
       "      <th>3</th>\n",
       "    </tr>\n",
       "  </thead>\n",
       "  <tbody>\n",
       "    <tr>\n",
       "      <th>0</th>\n",
       "      <td>3</td>\n",
       "      <td>5</td>\n",
       "      <td>2</td>\n",
       "      <td>4</td>\n",
       "    </tr>\n",
       "    <tr>\n",
       "      <th>1</th>\n",
       "      <td>1</td>\n",
       "      <td>0</td>\n",
       "      <td>3</td>\n",
       "      <td>5</td>\n",
       "    </tr>\n",
       "    <tr>\n",
       "      <th>2</th>\n",
       "      <td>9</td>\n",
       "      <td>10</td>\n",
       "      <td>2</td>\n",
       "      <td>5</td>\n",
       "    </tr>\n",
       "  </tbody>\n",
       "</table>\n",
       "</div>"
      ],
      "text/plain": [
       "   0   1  2  3\n",
       "0  3   5  2  4\n",
       "1  1   0  3  5\n",
       "2  9  10  2  5"
      ]
     },
     "execution_count": 1,
     "metadata": {},
     "output_type": "execute_result"
    }
   ],
   "source": [
    "import pandas as pd\n",
    "import numpy as np\n",
    "\n",
    "A= pd.DataFrame(np.array([[3,5,2,4], [1, 0, 3, 5], [9, 10, 2, 5]]))\n",
    "A"
   ]
  },
  {
   "cell_type": "markdown",
   "metadata": {},
   "source": [
    "Distancia Euclideana:\n",
    "\n",
    "\n",
    "\n",
    "\\begin{equation}\n",
    "d_{02} = \\sqrt{(3−9)^2 +(5−10)^2 +(2−2)^2 +(4−5)^2} =7,87 \\\\\n",
    "d_{12} = \\sqrt{(1−9)^2 +(0−10)^2 +(3−2)^2 +(5−5)^2} =12,85  \\\\\n",
    "d_{01} = \\sqrt{(3−1)^2 +(5−0)^2  +(2−3)^2 +(4−5)^2} =5,57 \n",
    "\\end{equation}\n",
    "\n"
   ]
  },
  {
   "cell_type": "code",
   "execution_count": 2,
   "metadata": {},
   "outputs": [
    {
     "data": {
      "text/plain": [
       "7.874007874011811"
      ]
     },
     "execution_count": 2,
     "metadata": {},
     "output_type": "execute_result"
    }
   ],
   "source": [
    "import math\n",
    "math.sqrt((3-9)**2 +(5-10)**2 +(2-2)**2 +(4-5)**2 )"
   ]
  },
  {
   "cell_type": "code",
   "execution_count": 3,
   "metadata": {},
   "outputs": [
    {
     "data": {
      "text/plain": [
       "12.84523257866513"
      ]
     },
     "execution_count": 3,
     "metadata": {},
     "output_type": "execute_result"
    }
   ],
   "source": [
    "math.sqrt((1-9)**2 +(0-10)**2 +(3-2)**2 +(5-5)**2 )"
   ]
  },
  {
   "cell_type": "code",
   "execution_count": 4,
   "metadata": {},
   "outputs": [
    {
     "data": {
      "text/plain": [
       "5.5677643628300215"
      ]
     },
     "execution_count": 4,
     "metadata": {},
     "output_type": "execute_result"
    }
   ],
   "source": [
    "math.sqrt((3-1)**2 +(5-0)**2  +(2-3)**2 +(4-5)**2 )"
   ]
  },
  {
   "cell_type": "code",
   "execution_count": 5,
   "metadata": {},
   "outputs": [
    {
     "data": {
      "text/html": [
       "<div>\n",
       "<style scoped>\n",
       "    .dataframe tbody tr th:only-of-type {\n",
       "        vertical-align: middle;\n",
       "    }\n",
       "\n",
       "    .dataframe tbody tr th {\n",
       "        vertical-align: top;\n",
       "    }\n",
       "\n",
       "    .dataframe thead th {\n",
       "        text-align: right;\n",
       "    }\n",
       "</style>\n",
       "<table border=\"1\" class=\"dataframe\">\n",
       "  <thead>\n",
       "    <tr style=\"text-align: right;\">\n",
       "      <th></th>\n",
       "      <th>0</th>\n",
       "      <th>1</th>\n",
       "      <th>2</th>\n",
       "    </tr>\n",
       "  </thead>\n",
       "  <tbody>\n",
       "    <tr>\n",
       "      <th>0</th>\n",
       "      <td>0.000000</td>\n",
       "      <td>5.567764</td>\n",
       "      <td>7.874008</td>\n",
       "    </tr>\n",
       "    <tr>\n",
       "      <th>1</th>\n",
       "      <td>5.567764</td>\n",
       "      <td>0.000000</td>\n",
       "      <td>12.845233</td>\n",
       "    </tr>\n",
       "    <tr>\n",
       "      <th>2</th>\n",
       "      <td>7.874008</td>\n",
       "      <td>12.845233</td>\n",
       "      <td>0.000000</td>\n",
       "    </tr>\n",
       "  </tbody>\n",
       "</table>\n",
       "</div>"
      ],
      "text/plain": [
       "          0          1          2\n",
       "0  0.000000   5.567764   7.874008\n",
       "1  5.567764   0.000000  12.845233\n",
       "2  7.874008  12.845233   0.000000"
      ]
     },
     "execution_count": 5,
     "metadata": {},
     "output_type": "execute_result"
    }
   ],
   "source": [
    "from scipy.spatial import distance_matrix\n",
    "\n",
    "# Creamos la matriz de distancias escogiendo p = 2, el cual convierte \n",
    "# la distancia Minkowski en la distancia euclidiana\n",
    "pd.DataFrame(distance_matrix(A, A, p = 2))"
   ]
  },
  {
   "cell_type": "markdown",
   "metadata": {},
   "source": [
    "- Un problema de la distancia euclídiana, como medida de similaridad, es su dependencia de las diferentes escalas en que estén medidas las variables. \n",
    "\n",
    "- Escalas y rangos de variación diferentes pueden afectar al análisis de clusters.\n",
    "\n",
    "- Este problema se soluciona si en vez de calcular la distancia euclídea con puntuaciones directas se calcula con puntuaciones normalizadas. \n",
    "\n",
    "- Estandarizar las puntuaciones de los sujetos en las variables es uno de los procedimientos de normalización más frecuentes en análisis de datos. "
   ]
  },
  {
   "cell_type": "markdown",
   "metadata": {},
   "source": [
    "EJEMPLO 2. Supongamos que estamos interesados en agrupar a una muestra de 5 familias en base al número de hijos, al\n",
    "sueldo en euros al mes y al tamaño de la casa en metros cuadrados. La matriz de datos de la que partimos es:"
   ]
  },
  {
   "cell_type": "code",
   "execution_count": 6,
   "metadata": {},
   "outputs": [
    {
     "data": {
      "text/html": [
       "<div>\n",
       "<style scoped>\n",
       "    .dataframe tbody tr th:only-of-type {\n",
       "        vertical-align: middle;\n",
       "    }\n",
       "\n",
       "    .dataframe tbody tr th {\n",
       "        vertical-align: top;\n",
       "    }\n",
       "\n",
       "    .dataframe thead th {\n",
       "        text-align: right;\n",
       "    }\n",
       "</style>\n",
       "<table border=\"1\" class=\"dataframe\">\n",
       "  <thead>\n",
       "    <tr style=\"text-align: right;\">\n",
       "      <th></th>\n",
       "      <th>Hijos</th>\n",
       "      <th>Salario</th>\n",
       "      <th>Metros2</th>\n",
       "    </tr>\n",
       "  </thead>\n",
       "  <tbody>\n",
       "    <tr>\n",
       "      <th>0</th>\n",
       "      <td>1</td>\n",
       "      <td>723</td>\n",
       "      <td>60</td>\n",
       "    </tr>\n",
       "    <tr>\n",
       "      <th>1</th>\n",
       "      <td>1</td>\n",
       "      <td>900</td>\n",
       "      <td>60</td>\n",
       "    </tr>\n",
       "    <tr>\n",
       "      <th>2</th>\n",
       "      <td>4</td>\n",
       "      <td>800</td>\n",
       "      <td>80</td>\n",
       "    </tr>\n",
       "    <tr>\n",
       "      <th>3</th>\n",
       "      <td>0</td>\n",
       "      <td>1205</td>\n",
       "      <td>50</td>\n",
       "    </tr>\n",
       "    <tr>\n",
       "      <th>4</th>\n",
       "      <td>2</td>\n",
       "      <td>600</td>\n",
       "      <td>65</td>\n",
       "    </tr>\n",
       "  </tbody>\n",
       "</table>\n",
       "</div>"
      ],
      "text/plain": [
       "   Hijos  Salario  Metros2\n",
       "0      1      723       60\n",
       "1      1      900       60\n",
       "2      4      800       80\n",
       "3      0     1205       50\n",
       "4      2      600       65"
      ]
     },
     "execution_count": 6,
     "metadata": {},
     "output_type": "execute_result"
    }
   ],
   "source": [
    "B= pd.DataFrame(np.array([[1,723,60], [1, 900, 60], [4,800,80], [0,1205,50], [2,600,65]]))\n",
    "B.columns = ['Hijos','Salario','Metros2']\n",
    "B"
   ]
  },
  {
   "cell_type": "markdown",
   "metadata": {},
   "source": [
    "Podemos como antes calcular las distancias entre los sujetos a partir de las puntuaciones directas o bien podemos calcularlas a partir de las variables estandarizadas."
   ]
  },
  {
   "cell_type": "code",
   "execution_count": 7,
   "metadata": {},
   "outputs": [
    {
     "data": {
      "text/html": [
       "<div>\n",
       "<style scoped>\n",
       "    .dataframe tbody tr th:only-of-type {\n",
       "        vertical-align: middle;\n",
       "    }\n",
       "\n",
       "    .dataframe tbody tr th {\n",
       "        vertical-align: top;\n",
       "    }\n",
       "\n",
       "    .dataframe thead th {\n",
       "        text-align: right;\n",
       "    }\n",
       "</style>\n",
       "<table border=\"1\" class=\"dataframe\">\n",
       "  <thead>\n",
       "    <tr style=\"text-align: right;\">\n",
       "      <th></th>\n",
       "      <th>0</th>\n",
       "      <th>1</th>\n",
       "      <th>2</th>\n",
       "      <th>3</th>\n",
       "      <th>4</th>\n",
       "    </tr>\n",
       "  </thead>\n",
       "  <tbody>\n",
       "    <tr>\n",
       "      <th>0</th>\n",
       "      <td>0.000000</td>\n",
       "      <td>177.000000</td>\n",
       "      <td>79.611557</td>\n",
       "      <td>482.104760</td>\n",
       "      <td>123.105646</td>\n",
       "    </tr>\n",
       "    <tr>\n",
       "      <th>1</th>\n",
       "      <td>177.000000</td>\n",
       "      <td>0.000000</td>\n",
       "      <td>102.024507</td>\n",
       "      <td>305.165529</td>\n",
       "      <td>300.043330</td>\n",
       "    </tr>\n",
       "    <tr>\n",
       "      <th>2</th>\n",
       "      <td>79.611557</td>\n",
       "      <td>102.024507</td>\n",
       "      <td>0.000000</td>\n",
       "      <td>406.129290</td>\n",
       "      <td>200.571683</td>\n",
       "    </tr>\n",
       "    <tr>\n",
       "      <th>3</th>\n",
       "      <td>482.104760</td>\n",
       "      <td>305.165529</td>\n",
       "      <td>406.129290</td>\n",
       "      <td>0.000000</td>\n",
       "      <td>605.189227</td>\n",
       "    </tr>\n",
       "    <tr>\n",
       "      <th>4</th>\n",
       "      <td>123.105646</td>\n",
       "      <td>300.043330</td>\n",
       "      <td>200.571683</td>\n",
       "      <td>605.189227</td>\n",
       "      <td>0.000000</td>\n",
       "    </tr>\n",
       "  </tbody>\n",
       "</table>\n",
       "</div>"
      ],
      "text/plain": [
       "            0           1           2           3           4\n",
       "0    0.000000  177.000000   79.611557  482.104760  123.105646\n",
       "1  177.000000    0.000000  102.024507  305.165529  300.043330\n",
       "2   79.611557  102.024507    0.000000  406.129290  200.571683\n",
       "3  482.104760  305.165529  406.129290    0.000000  605.189227\n",
       "4  123.105646  300.043330  200.571683  605.189227    0.000000"
      ]
     },
     "execution_count": 7,
     "metadata": {},
     "output_type": "execute_result"
    }
   ],
   "source": [
    "pd.DataFrame(distance_matrix(B, B, p = 2))"
   ]
  },
  {
   "cell_type": "markdown",
   "metadata": {},
   "source": [
    "Como puede observarse, las familias más parecidas son la familia primera y la tercera. Sin embargo, son familias que salvo en que tienen un salario similar son diferentes en el resto de las variables. Si por el contrario seleccionamos la opción estandarizar\n",
    "la matriz de distancias que obtenemos es:"
   ]
  },
  {
   "cell_type": "code",
   "execution_count": 8,
   "metadata": {},
   "outputs": [
    {
     "data": {
      "text/html": [
       "<div>\n",
       "<style scoped>\n",
       "    .dataframe tbody tr th:only-of-type {\n",
       "        vertical-align: middle;\n",
       "    }\n",
       "\n",
       "    .dataframe tbody tr th {\n",
       "        vertical-align: top;\n",
       "    }\n",
       "\n",
       "    .dataframe thead th {\n",
       "        text-align: right;\n",
       "    }\n",
       "</style>\n",
       "<table border=\"1\" class=\"dataframe\">\n",
       "  <thead>\n",
       "    <tr style=\"text-align: right;\">\n",
       "      <th></th>\n",
       "      <th>0</th>\n",
       "      <th>1</th>\n",
       "      <th>2</th>\n",
       "      <th>3</th>\n",
       "      <th>4</th>\n",
       "    </tr>\n",
       "  </thead>\n",
       "  <tbody>\n",
       "    <tr>\n",
       "      <th>0</th>\n",
       "      <td>0.000000</td>\n",
       "      <td>0.864584</td>\n",
       "      <td>3.033057</td>\n",
       "      <td>2.669898</td>\n",
       "      <td>1.079292</td>\n",
       "    </tr>\n",
       "    <tr>\n",
       "      <th>1</th>\n",
       "      <td>0.864584</td>\n",
       "      <td>0.000000</td>\n",
       "      <td>3.049028</td>\n",
       "      <td>1.950566</td>\n",
       "      <td>1.717929</td>\n",
       "    </tr>\n",
       "    <tr>\n",
       "      <th>2</th>\n",
       "      <td>3.033057</td>\n",
       "      <td>3.049028</td>\n",
       "      <td>0.000000</td>\n",
       "      <td>4.688738</td>\n",
       "      <td>2.339243</td>\n",
       "    </tr>\n",
       "    <tr>\n",
       "      <th>3</th>\n",
       "      <td>2.669898</td>\n",
       "      <td>1.950566</td>\n",
       "      <td>4.688738</td>\n",
       "      <td>0.000000</td>\n",
       "      <td>3.640187</td>\n",
       "    </tr>\n",
       "    <tr>\n",
       "      <th>4</th>\n",
       "      <td>1.079292</td>\n",
       "      <td>1.717929</td>\n",
       "      <td>2.339243</td>\n",
       "      <td>3.640187</td>\n",
       "      <td>0.000000</td>\n",
       "    </tr>\n",
       "  </tbody>\n",
       "</table>\n",
       "</div>"
      ],
      "text/plain": [
       "          0         1         2         3         4\n",
       "0  0.000000  0.864584  3.033057  2.669898  1.079292\n",
       "1  0.864584  0.000000  3.049028  1.950566  1.717929\n",
       "2  3.033057  3.049028  0.000000  4.688738  2.339243\n",
       "3  2.669898  1.950566  4.688738  0.000000  3.640187\n",
       "4  1.079292  1.717929  2.339243  3.640187  0.000000"
      ]
     },
     "execution_count": 8,
     "metadata": {},
     "output_type": "execute_result"
    }
   ],
   "source": [
    "from sklearn.preprocessing import scale\n",
    "\n",
    "pd.DataFrame(distance_matrix(scale(B), scale(B), p = 2))"
   ]
  },
  {
   "cell_type": "markdown",
   "metadata": {},
   "source": [
    "- Con las puntuaciones estandarizadas las familias más parecidas son la primera y la segunda. \n",
    "\n",
    "- Es evidente que los resultados de un análisis de clusters son distintos si se parte de matrices de similaridad o distancia que ordenen a los sujetos de manera distinta. \n",
    "\n",
    "- Es por ello que en caso de variables medidas en escalas distintas es necesario normalizar."
   ]
  },
  {
   "cell_type": "markdown",
   "metadata": {},
   "source": [
    "EJEMPLO 3.  Supongamos que queremos agrupar a los sujetos de una muestra (N = 5) en\n",
    "función de su parecido en un conjunto de variables todas ellas dicotómicas: \n",
    "- Estado civil: soltero(1)-casado(0)\n",
    "- Situación laboral: ocupado(1)-desocupado(0)\n",
    "- Nivel de estudios: bajo(1)-alto(0)\n",
    "- Creencias religiosa: creyente(1)-no creyente(0)\n",
    "- Tendencia de voto en las últimas elecciones: izquierda(1)-derecha(0). \n",
    "\n",
    "La matriz de datos de la que partimos es"
   ]
  },
  {
   "cell_type": "code",
   "execution_count": 9,
   "metadata": {},
   "outputs": [
    {
     "data": {
      "text/html": [
       "<div>\n",
       "<style scoped>\n",
       "    .dataframe tbody tr th:only-of-type {\n",
       "        vertical-align: middle;\n",
       "    }\n",
       "\n",
       "    .dataframe tbody tr th {\n",
       "        vertical-align: top;\n",
       "    }\n",
       "\n",
       "    .dataframe thead th {\n",
       "        text-align: right;\n",
       "    }\n",
       "</style>\n",
       "<table border=\"1\" class=\"dataframe\">\n",
       "  <thead>\n",
       "    <tr style=\"text-align: right;\">\n",
       "      <th></th>\n",
       "      <th>Soltero</th>\n",
       "      <th>Ocupado</th>\n",
       "      <th>Baja_educacion</th>\n",
       "      <th>Creyente</th>\n",
       "      <th>Izquierda</th>\n",
       "    </tr>\n",
       "  </thead>\n",
       "  <tbody>\n",
       "    <tr>\n",
       "      <th>0</th>\n",
       "      <td>1</td>\n",
       "      <td>1</td>\n",
       "      <td>0</td>\n",
       "      <td>1</td>\n",
       "      <td>0</td>\n",
       "    </tr>\n",
       "    <tr>\n",
       "      <th>1</th>\n",
       "      <td>1</td>\n",
       "      <td>1</td>\n",
       "      <td>1</td>\n",
       "      <td>0</td>\n",
       "      <td>0</td>\n",
       "    </tr>\n",
       "    <tr>\n",
       "      <th>2</th>\n",
       "      <td>0</td>\n",
       "      <td>0</td>\n",
       "      <td>0</td>\n",
       "      <td>1</td>\n",
       "      <td>1</td>\n",
       "    </tr>\n",
       "    <tr>\n",
       "      <th>3</th>\n",
       "      <td>0</td>\n",
       "      <td>0</td>\n",
       "      <td>0</td>\n",
       "      <td>0</td>\n",
       "      <td>1</td>\n",
       "    </tr>\n",
       "    <tr>\n",
       "      <th>4</th>\n",
       "      <td>1</td>\n",
       "      <td>0</td>\n",
       "      <td>0</td>\n",
       "      <td>1</td>\n",
       "      <td>0</td>\n",
       "    </tr>\n",
       "  </tbody>\n",
       "</table>\n",
       "</div>"
      ],
      "text/plain": [
       "   Soltero  Ocupado  Baja_educacion  Creyente  Izquierda\n",
       "0        1        1               0         1          0\n",
       "1        1        1               1         0          0\n",
       "2        0        0               0         1          1\n",
       "3        0        0               0         0          1\n",
       "4        1        0               0         1          0"
      ]
     },
     "execution_count": 9,
     "metadata": {},
     "output_type": "execute_result"
    }
   ],
   "source": [
    "C= pd.DataFrame(np.array([[1,1,0,1,0], [1,1,1,0,0], [0,0,0,1,1], [0,0,0,0,1], [1,0,0,1,0]]))\n",
    "C.columns = ['Soltero','Ocupado','Baja_educacion', 'Creyente', \"Izquierda\"]\n",
    "C"
   ]
  },
  {
   "cell_type": "markdown",
   "metadata": {},
   "source": [
    " La medida de distancia más utilizada en estos casos se conoce como distancia de coincidencia simple:\n",
    "\n",
    "\n",
    "\\begin{align}\n",
    "d_{ii'}=d(x_i,x_{i'})= I(x_i \\neq x_{i'})\n",
    "\\end{align}\n",
    "\n",
    "donde $I(.)$ es la función indicadora que toma valor 1 cuando las variables no coinciden, y 0 en caso contrario."
   ]
  },
  {
   "cell_type": "code",
   "execution_count": 10,
   "metadata": {},
   "outputs": [
    {
     "data": {
      "text/html": [
       "<div>\n",
       "<style scoped>\n",
       "    .dataframe tbody tr th:only-of-type {\n",
       "        vertical-align: middle;\n",
       "    }\n",
       "\n",
       "    .dataframe tbody tr th {\n",
       "        vertical-align: top;\n",
       "    }\n",
       "\n",
       "    .dataframe thead th {\n",
       "        text-align: right;\n",
       "    }\n",
       "</style>\n",
       "<table border=\"1\" class=\"dataframe\">\n",
       "  <thead>\n",
       "    <tr style=\"text-align: right;\">\n",
       "      <th></th>\n",
       "      <th>Soltero</th>\n",
       "    </tr>\n",
       "  </thead>\n",
       "  <tbody>\n",
       "    <tr>\n",
       "      <th>0</th>\n",
       "      <td>1</td>\n",
       "    </tr>\n",
       "    <tr>\n",
       "      <th>1</th>\n",
       "      <td>1</td>\n",
       "    </tr>\n",
       "    <tr>\n",
       "      <th>2</th>\n",
       "      <td>0</td>\n",
       "    </tr>\n",
       "    <tr>\n",
       "      <th>3</th>\n",
       "      <td>0</td>\n",
       "    </tr>\n",
       "    <tr>\n",
       "      <th>4</th>\n",
       "      <td>1</td>\n",
       "    </tr>\n",
       "  </tbody>\n",
       "</table>\n",
       "</div>"
      ],
      "text/plain": [
       "   Soltero\n",
       "0        1\n",
       "1        1\n",
       "2        0\n",
       "3        0\n",
       "4        1"
      ]
     },
     "execution_count": 10,
     "metadata": {},
     "output_type": "execute_result"
    }
   ],
   "source": [
    "C.iloc[:,0:1]"
   ]
  },
  {
   "cell_type": "code",
   "execution_count": 11,
   "metadata": {},
   "outputs": [
    {
     "data": {
      "text/plain": [
       "array([[0., 0., 1., 1., 0.],\n",
       "       [0., 0., 1., 1., 0.],\n",
       "       [1., 1., 0., 0., 1.],\n",
       "       [1., 1., 0., 0., 1.],\n",
       "       [0., 0., 1., 1., 0.]])"
      ]
     },
     "execution_count": 11,
     "metadata": {},
     "output_type": "execute_result"
    }
   ],
   "source": [
    "from sklearn.metrics import DistanceMetric\n",
    "\n",
    "DistanceMetric.get_metric('matching').pairwise(C.iloc[:,0:1])"
   ]
  },
  {
   "cell_type": "code",
   "execution_count": 12,
   "metadata": {},
   "outputs": [
    {
     "data": {
      "text/plain": [
       "array([[0. , 0.4, 0.6, 0.8, 0.2],\n",
       "       [0.4, 0. , 1. , 0.8, 0.6],\n",
       "       [0.6, 1. , 0. , 0.2, 0.4],\n",
       "       [0.8, 0.8, 0.2, 0. , 0.6],\n",
       "       [0.2, 0.6, 0.4, 0.6, 0. ]])"
      ]
     },
     "execution_count": 12,
     "metadata": {},
     "output_type": "execute_result"
    }
   ],
   "source": [
    "DistanceMetric.get_metric('matching').pairwise(C)"
   ]
  },
  {
   "cell_type": "markdown",
   "metadata": {},
   "source": [
    "EJEMPLO 4. Supongamos que tenemos los siguientes datos"
   ]
  },
  {
   "cell_type": "code",
   "execution_count": 13,
   "metadata": {},
   "outputs": [
    {
     "data": {
      "text/html": [
       "<div>\n",
       "<style scoped>\n",
       "    .dataframe tbody tr th:only-of-type {\n",
       "        vertical-align: middle;\n",
       "    }\n",
       "\n",
       "    .dataframe tbody tr th {\n",
       "        vertical-align: top;\n",
       "    }\n",
       "\n",
       "    .dataframe thead th {\n",
       "        text-align: right;\n",
       "    }\n",
       "</style>\n",
       "<table border=\"1\" class=\"dataframe\">\n",
       "  <thead>\n",
       "    <tr style=\"text-align: right;\">\n",
       "      <th></th>\n",
       "      <th>Edad</th>\n",
       "      <th>Genero</th>\n",
       "      <th>Estado_Civil</th>\n",
       "      <th>Salario</th>\n",
       "      <th>tiene_hijos</th>\n",
       "      <th>Volumen_compras</th>\n",
       "    </tr>\n",
       "  </thead>\n",
       "  <tbody>\n",
       "    <tr>\n",
       "      <th>0</th>\n",
       "      <td>22</td>\n",
       "      <td>M</td>\n",
       "      <td>Soltero</td>\n",
       "      <td>18000</td>\n",
       "      <td>False</td>\n",
       "      <td>Bajo</td>\n",
       "    </tr>\n",
       "    <tr>\n",
       "      <th>1</th>\n",
       "      <td>25</td>\n",
       "      <td>M</td>\n",
       "      <td>Soltero</td>\n",
       "      <td>23000</td>\n",
       "      <td>False</td>\n",
       "      <td>Bajo</td>\n",
       "    </tr>\n",
       "    <tr>\n",
       "      <th>2</th>\n",
       "      <td>30</td>\n",
       "      <td>F</td>\n",
       "      <td>Soltero</td>\n",
       "      <td>27000</td>\n",
       "      <td>False</td>\n",
       "      <td>Bajo</td>\n",
       "    </tr>\n",
       "    <tr>\n",
       "      <th>3</th>\n",
       "      <td>38</td>\n",
       "      <td>F</td>\n",
       "      <td>Casado</td>\n",
       "      <td>32000</td>\n",
       "      <td>True</td>\n",
       "      <td>Alto</td>\n",
       "    </tr>\n",
       "    <tr>\n",
       "      <th>4</th>\n",
       "      <td>42</td>\n",
       "      <td>F</td>\n",
       "      <td>Casado</td>\n",
       "      <td>34000</td>\n",
       "      <td>True</td>\n",
       "      <td>Alto</td>\n",
       "    </tr>\n",
       "    <tr>\n",
       "      <th>5</th>\n",
       "      <td>47</td>\n",
       "      <td>M</td>\n",
       "      <td>Soltero</td>\n",
       "      <td>20000</td>\n",
       "      <td>False</td>\n",
       "      <td>Bajo</td>\n",
       "    </tr>\n",
       "    <tr>\n",
       "      <th>6</th>\n",
       "      <td>55</td>\n",
       "      <td>M</td>\n",
       "      <td>Casado</td>\n",
       "      <td>40000</td>\n",
       "      <td>False</td>\n",
       "      <td>Medio</td>\n",
       "    </tr>\n",
       "    <tr>\n",
       "      <th>7</th>\n",
       "      <td>62</td>\n",
       "      <td>M</td>\n",
       "      <td>Divorciado</td>\n",
       "      <td>42000</td>\n",
       "      <td>False</td>\n",
       "      <td>Medio</td>\n",
       "    </tr>\n",
       "    <tr>\n",
       "      <th>8</th>\n",
       "      <td>61</td>\n",
       "      <td>M</td>\n",
       "      <td>Casado</td>\n",
       "      <td>25000</td>\n",
       "      <td>False</td>\n",
       "      <td>Medio</td>\n",
       "    </tr>\n",
       "    <tr>\n",
       "      <th>9</th>\n",
       "      <td>90</td>\n",
       "      <td>M</td>\n",
       "      <td>Divorciado</td>\n",
       "      <td>70000</td>\n",
       "      <td>True</td>\n",
       "      <td>Bajo</td>\n",
       "    </tr>\n",
       "  </tbody>\n",
       "</table>\n",
       "</div>"
      ],
      "text/plain": [
       "   Edad Genero Estado_Civil  Salario  tiene_hijos Volumen_compras\n",
       "0    22      M      Soltero    18000        False            Bajo\n",
       "1    25      M      Soltero    23000        False            Bajo\n",
       "2    30      F      Soltero    27000        False            Bajo\n",
       "3    38      F       Casado    32000         True            Alto\n",
       "4    42      F       Casado    34000         True            Alto\n",
       "5    47      M      Soltero    20000        False            Bajo\n",
       "6    55      M       Casado    40000        False           Medio\n",
       "7    62      M   Divorciado    42000        False           Medio\n",
       "8    61      M       Casado    25000        False           Medio\n",
       "9    90      M   Divorciado    70000         True            Bajo"
      ]
     },
     "execution_count": 13,
     "metadata": {},
     "output_type": "execute_result"
    }
   ],
   "source": [
    "import pandas as pd\n",
    "\n",
    "# Creamos un diccionario\n",
    "dictionary = {\"Edad\": [22, 25, 30, 38, 42, 47, 55, 62, 61, 90], \n",
    "              \"Genero\": [\"M\", \"M\", \"F\", \"F\", \"F\", \"M\", \"M\", \"M\", \"M\", \"M\"], \n",
    "              \"Estado_Civil\": [\"Soltero\", \"Soltero\", \"Soltero\", \"Casado\", \"Casado\", \"Soltero\", \"Casado\", \"Divorciado\", \"Casado\", \"Divorciado\"], \n",
    "              \"Salario\": [18000, 23000, 27000, 32000, 34000, 20000, 40000, 42000, 25000, 70000], \n",
    "              \"tiene_hijos\": [False, False, False, True, True, False, False, False, False, True], \n",
    "              \"Volumen_compras\": [\"Bajo\", \"Bajo\", \"Bajo\", \"Alto\", \"Alto\", \"Bajo\", \"Medio\", \"Medio\", \"Medio\", \"Bajo\"]}\n",
    "\n",
    "# Creamos un Pandas DataFrame \n",
    "D = pd.DataFrame.from_dict(dictionary)\n",
    "D"
   ]
  },
  {
   "cell_type": "markdown",
   "metadata": {},
   "source": [
    "Distancia de Gower\n",
    "\n",
    "- Para una característica numérica, la diferencia parcial entre dos clientes i y j es la resta entre sus valores en la característica específica (en valor absoluto) dividida por el rango total de la característica. El rango de salario es 52000 (70000–18000) mientras que el rango de edad es 68 (90–22). \n",
    "    Note, hay que tener en cuenta si existen outliers o valores atípicos. Un valor erróneo extremadamente grande o pequeño afectaría directamente el rango y, por lo tanto, las diferencias en esa característica, distorsionando su importancia.\n",
    "\n",
    "-    Para una característica categórica, la diferencia parcial entre dos clientes es uno cuando ambos clientes tienen un valor diferente para esta característica. Cero en caso contrario.\n",
    "  "
   ]
  },
  {
   "cell_type": "code",
   "execution_count": 14,
   "metadata": {},
   "outputs": [
    {
     "data": {
      "text/html": [
       "<div>\n",
       "<style scoped>\n",
       "    .dataframe tbody tr th:only-of-type {\n",
       "        vertical-align: middle;\n",
       "    }\n",
       "\n",
       "    .dataframe tbody tr th {\n",
       "        vertical-align: top;\n",
       "    }\n",
       "\n",
       "    .dataframe thead th {\n",
       "        text-align: right;\n",
       "    }\n",
       "</style>\n",
       "<table border=\"1\" class=\"dataframe\">\n",
       "  <thead>\n",
       "    <tr style=\"text-align: right;\">\n",
       "      <th></th>\n",
       "      <th>Edad</th>\n",
       "      <th>Genero</th>\n",
       "      <th>Estado_Civil</th>\n",
       "      <th>Salario</th>\n",
       "      <th>tiene_hijos</th>\n",
       "      <th>Volumen_compras</th>\n",
       "    </tr>\n",
       "  </thead>\n",
       "  <tbody>\n",
       "    <tr>\n",
       "      <th>0</th>\n",
       "      <td>22</td>\n",
       "      <td>M</td>\n",
       "      <td>Soltero</td>\n",
       "      <td>18000</td>\n",
       "      <td>False</td>\n",
       "      <td>Bajo</td>\n",
       "    </tr>\n",
       "    <tr>\n",
       "      <th>1</th>\n",
       "      <td>25</td>\n",
       "      <td>M</td>\n",
       "      <td>Soltero</td>\n",
       "      <td>23000</td>\n",
       "      <td>False</td>\n",
       "      <td>Bajo</td>\n",
       "    </tr>\n",
       "  </tbody>\n",
       "</table>\n",
       "</div>"
      ],
      "text/plain": [
       "   Edad Genero Estado_Civil  Salario  tiene_hijos Volumen_compras\n",
       "0    22      M      Soltero    18000        False            Bajo\n",
       "1    25      M      Soltero    23000        False            Bajo"
      ]
     },
     "execution_count": 14,
     "metadata": {},
     "output_type": "execute_result"
    }
   ],
   "source": [
    "D.iloc[0:2,:]"
   ]
  },
  {
   "cell_type": "code",
   "execution_count": 15,
   "metadata": {},
   "outputs": [
    {
     "data": {
      "text/plain": [
       "68"
      ]
     },
     "execution_count": 15,
     "metadata": {},
     "output_type": "execute_result"
    }
   ],
   "source": [
    "D.iloc[:,0].max()-D.iloc[:,0].min()"
   ]
  },
  {
   "cell_type": "code",
   "execution_count": 16,
   "metadata": {},
   "outputs": [
    {
     "data": {
      "text/plain": [
       "0.04411764705882353"
      ]
     },
     "execution_count": 16,
     "metadata": {},
     "output_type": "execute_result"
    }
   ],
   "source": [
    "abs(22-25)/68"
   ]
  },
  {
   "cell_type": "code",
   "execution_count": 17,
   "metadata": {},
   "outputs": [
    {
     "data": {
      "text/plain": [
       "52000"
      ]
     },
     "execution_count": 17,
     "metadata": {},
     "output_type": "execute_result"
    }
   ],
   "source": [
    "D.iloc[:,3].max()-D.iloc[:,3].min()"
   ]
  },
  {
   "cell_type": "code",
   "execution_count": 18,
   "metadata": {},
   "outputs": [
    {
     "data": {
      "text/plain": [
       "0.09615384615384616"
      ]
     },
     "execution_count": 18,
     "metadata": {},
     "output_type": "execute_result"
    }
   ],
   "source": [
    "abs(18000-23000)/52000"
   ]
  },
  {
   "cell_type": "markdown",
   "metadata": {},
   "source": [
    "La Disimilitud de Gower entre ambos clientes es el promedio de disimilitudes parciales a lo largo de las diferentes características: \n",
    "\n",
    "\\begin{align}\n",
    "\\frac{(0,044118 + 0 + 0 + 0,096154 + 0 + 0)}{ 6} = 0,023379. \n",
    "\\end{align}\n",
    "\n",
    "Como el valor es cercano a cero, podemos decir que ambos clientes son muy similares."
   ]
  },
  {
   "cell_type": "code",
   "execution_count": 19,
   "metadata": {},
   "outputs": [
    {
     "data": {
      "text/html": [
       "<div>\n",
       "<style scoped>\n",
       "    .dataframe tbody tr th:only-of-type {\n",
       "        vertical-align: middle;\n",
       "    }\n",
       "\n",
       "    .dataframe tbody tr th {\n",
       "        vertical-align: top;\n",
       "    }\n",
       "\n",
       "    .dataframe thead th {\n",
       "        text-align: right;\n",
       "    }\n",
       "</style>\n",
       "<table border=\"1\" class=\"dataframe\">\n",
       "  <thead>\n",
       "    <tr style=\"text-align: right;\">\n",
       "      <th></th>\n",
       "      <th>0</th>\n",
       "      <th>1</th>\n",
       "      <th>2</th>\n",
       "      <th>3</th>\n",
       "      <th>4</th>\n",
       "      <th>5</th>\n",
       "      <th>6</th>\n",
       "      <th>7</th>\n",
       "      <th>8</th>\n",
       "      <th>9</th>\n",
       "    </tr>\n",
       "  </thead>\n",
       "  <tbody>\n",
       "    <tr>\n",
       "      <th>0</th>\n",
       "      <td>0.000000</td>\n",
       "      <td>0.023379</td>\n",
       "      <td>0.215121</td>\n",
       "      <td>0.750754</td>\n",
       "      <td>0.766968</td>\n",
       "      <td>0.067685</td>\n",
       "      <td>0.484729</td>\n",
       "      <td>0.508296</td>\n",
       "      <td>0.451357</td>\n",
       "      <td>0.666667</td>\n",
       "    </tr>\n",
       "    <tr>\n",
       "      <th>1</th>\n",
       "      <td>0.023379</td>\n",
       "      <td>0.000000</td>\n",
       "      <td>0.191742</td>\n",
       "      <td>0.727376</td>\n",
       "      <td>0.743590</td>\n",
       "      <td>0.063537</td>\n",
       "      <td>0.461350</td>\n",
       "      <td>0.484917</td>\n",
       "      <td>0.427979</td>\n",
       "      <td>0.643288</td>\n",
       "    </tr>\n",
       "    <tr>\n",
       "      <th>2</th>\n",
       "      <td>0.215121</td>\n",
       "      <td>0.191742</td>\n",
       "      <td>0.000000</td>\n",
       "      <td>0.535634</td>\n",
       "      <td>0.551848</td>\n",
       "      <td>0.230769</td>\n",
       "      <td>0.602941</td>\n",
       "      <td>0.626508</td>\n",
       "      <td>0.582391</td>\n",
       "      <td>0.784879</td>\n",
       "    </tr>\n",
       "    <tr>\n",
       "      <th>3</th>\n",
       "      <td>0.750754</td>\n",
       "      <td>0.727376</td>\n",
       "      <td>0.535634</td>\n",
       "      <td>0.000000</td>\n",
       "      <td>0.016214</td>\n",
       "      <td>0.727187</td>\n",
       "      <td>0.567308</td>\n",
       "      <td>0.757541</td>\n",
       "      <td>0.578808</td>\n",
       "      <td>0.749246</td>\n",
       "    </tr>\n",
       "    <tr>\n",
       "      <th>4</th>\n",
       "      <td>0.766968</td>\n",
       "      <td>0.743590</td>\n",
       "      <td>0.551848</td>\n",
       "      <td>0.016214</td>\n",
       "      <td>0.000000</td>\n",
       "      <td>0.723793</td>\n",
       "      <td>0.551094</td>\n",
       "      <td>0.741327</td>\n",
       "      <td>0.575415</td>\n",
       "      <td>0.733032</td>\n",
       "    </tr>\n",
       "    <tr>\n",
       "      <th>5</th>\n",
       "      <td>0.067685</td>\n",
       "      <td>0.063537</td>\n",
       "      <td>0.230769</td>\n",
       "      <td>0.727187</td>\n",
       "      <td>0.723793</td>\n",
       "      <td>0.000000</td>\n",
       "      <td>0.417044</td>\n",
       "      <td>0.440611</td>\n",
       "      <td>0.383673</td>\n",
       "      <td>0.598982</td>\n",
       "    </tr>\n",
       "    <tr>\n",
       "      <th>6</th>\n",
       "      <td>0.484729</td>\n",
       "      <td>0.461350</td>\n",
       "      <td>0.602941</td>\n",
       "      <td>0.567308</td>\n",
       "      <td>0.551094</td>\n",
       "      <td>0.417044</td>\n",
       "      <td>0.000000</td>\n",
       "      <td>0.190234</td>\n",
       "      <td>0.062783</td>\n",
       "      <td>0.681938</td>\n",
       "    </tr>\n",
       "    <tr>\n",
       "      <th>7</th>\n",
       "      <td>0.508296</td>\n",
       "      <td>0.484917</td>\n",
       "      <td>0.626508</td>\n",
       "      <td>0.757541</td>\n",
       "      <td>0.741327</td>\n",
       "      <td>0.440611</td>\n",
       "      <td>0.190234</td>\n",
       "      <td>0.000000</td>\n",
       "      <td>0.223605</td>\n",
       "      <td>0.491704</td>\n",
       "    </tr>\n",
       "    <tr>\n",
       "      <th>8</th>\n",
       "      <td>0.451357</td>\n",
       "      <td>0.427979</td>\n",
       "      <td>0.582391</td>\n",
       "      <td>0.578808</td>\n",
       "      <td>0.575415</td>\n",
       "      <td>0.383673</td>\n",
       "      <td>0.062783</td>\n",
       "      <td>0.223605</td>\n",
       "      <td>0.000000</td>\n",
       "      <td>0.715309</td>\n",
       "    </tr>\n",
       "    <tr>\n",
       "      <th>9</th>\n",
       "      <td>0.666667</td>\n",
       "      <td>0.643288</td>\n",
       "      <td>0.784879</td>\n",
       "      <td>0.749246</td>\n",
       "      <td>0.733032</td>\n",
       "      <td>0.598982</td>\n",
       "      <td>0.681938</td>\n",
       "      <td>0.491704</td>\n",
       "      <td>0.715309</td>\n",
       "      <td>0.000000</td>\n",
       "    </tr>\n",
       "  </tbody>\n",
       "</table>\n",
       "</div>"
      ],
      "text/plain": [
       "          0         1         2         3         4         5         6  \\\n",
       "0  0.000000  0.023379  0.215121  0.750754  0.766968  0.067685  0.484729   \n",
       "1  0.023379  0.000000  0.191742  0.727376  0.743590  0.063537  0.461350   \n",
       "2  0.215121  0.191742  0.000000  0.535634  0.551848  0.230769  0.602941   \n",
       "3  0.750754  0.727376  0.535634  0.000000  0.016214  0.727187  0.567308   \n",
       "4  0.766968  0.743590  0.551848  0.016214  0.000000  0.723793  0.551094   \n",
       "5  0.067685  0.063537  0.230769  0.727187  0.723793  0.000000  0.417044   \n",
       "6  0.484729  0.461350  0.602941  0.567308  0.551094  0.417044  0.000000   \n",
       "7  0.508296  0.484917  0.626508  0.757541  0.741327  0.440611  0.190234   \n",
       "8  0.451357  0.427979  0.582391  0.578808  0.575415  0.383673  0.062783   \n",
       "9  0.666667  0.643288  0.784879  0.749246  0.733032  0.598982  0.681938   \n",
       "\n",
       "          7         8         9  \n",
       "0  0.508296  0.451357  0.666667  \n",
       "1  0.484917  0.427979  0.643288  \n",
       "2  0.626508  0.582391  0.784879  \n",
       "3  0.757541  0.578808  0.749246  \n",
       "4  0.741327  0.575415  0.733032  \n",
       "5  0.440611  0.383673  0.598982  \n",
       "6  0.190234  0.062783  0.681938  \n",
       "7  0.000000  0.223605  0.491704  \n",
       "8  0.223605  0.000000  0.715309  \n",
       "9  0.491704  0.715309  0.000000  "
      ]
     },
     "execution_count": 19,
     "metadata": {},
     "output_type": "execute_result"
    }
   ],
   "source": [
    "import gower\n",
    "\n",
    "distance_matrix = gower.gower_matrix(D)\n",
    "pd.DataFrame(distance_matrix)"
   ]
  },
  {
   "cell_type": "markdown",
   "metadata": {},
   "source": [
    "## Clustering Jerárquico\n",
    "\n",
    "- Comenzamos con el clustering jerárquico ya que este método es especialmente útil cuando no existen expectativas sobre los patrones y estructuras subyacentes de los datos. \n",
    "\n",
    "\n",
    "- Una característica atractiva es que no es necesario especificar el número de clusers a buscar a priori como en   k-medias \n",
    "\n",
    "\n",
    "- Este  mide la conectividad entre las observaciones en algún espacio de características o conjunto de datos. \n",
    "\n",
    "\n",
    "- Podemos usar los resultados para visualizar su similitud espacial entre sí en una variedad de niveles, típicamente en forma de dendrograma, que es una estructura similar a un árbol que muestra progresivamente las similitudes entre las observaciones.\n",
    "\n",
    "\n",
    "- En algunos casos puede informar a los otros métodos de clustering  basados en los patrones revelados. Por ejemplo, si el dendrograma revela dos grupos naturales, entonces una segunda etapa puede inicializar un algoritmo de k-medias con dos conglomerados. Al especificar el algoritmo de k-medias, podríamos comparar directamente la validez interna de ambos algoritmos  para determinar cuál es mejor para agrupar los datos a lo largo de una variedad de dimensiones (p. ej., conectividad, compacidad, etc.). \n",
    "\n",
    "\n",
    "- Hay dos tipos de agrupamiento jerárquico: \n",
    "    -  aglomerativo (de abajo hacia arriba) y \n",
    "    -  divisivo (de arriba hacia abajo).\n"
   ]
  },
  {
   "cell_type": "markdown",
   "metadata": {},
   "source": [
    "### Enlaces\n",
    "\n",
    "- Los algoritmos de clustering jerárquico son únicos en el sentido de que requieren especificar:\n",
    " \n",
    "    - una medida de distancia (al igual que los otros algoritmos  aquí estudiados)\n",
    "    - un método de enlace o vinculación, \n",
    "\n",
    "\n",
    "- Por lo tanto, con nuestros datos de distancia estandarizados, podemos ajustar un algoritmo de agrupamiento jerárquico, pero como el algoritmo procede en forma de pares, debemos especificar con precisión cómo se unen estos pares. \n",
    "\n",
    "\n",
    "- El método de enlace es el mecanismo para determinar esto y hay muchos métodos de vinculación entre los que elegir:\n",
    "\n",
    "   - *Enlace simple*\n",
    "   - *Enlace completo (complete linkage - CL)*\n",
    "   - *Enlace promedio de grupo (average )*\n",
    "   - *Enlace usando centroides (Centroid)*\n",
    "   - *Enlace de Ward*\n",
    "   \n",
    "   \n",
    "- Es importante señalar que, al igual que las medidas de distancia, no existe una guía en la literatura sobre cuál es el mejor método de enlace.\n",
    "\n",
    "\n",
    "- La selección del método de enlace generalmente depende de las preferencias específicas del problema o disciplina, por ejemplo, el enlace centroide es popular entre los genetistas y ward entre los economistas.\n",
    "\n",
    "\n",
    "- Se recomienda que se comparen varios métodos de enlace para descubrir patrones naturales de la manera más eficiente posible.\n",
    "\n",
    "\n",
    "- Es importante reiterar que solo los algoritmos jerárquicos requieren la especificación de un método de vinculación, sin embargo, todos los algoritmos de agrupamiento requieren la especificación y el cálculo de una distancia entre las observaciones.\n",
    "\n",
    "    - La medida de distancia determina cómo se definen la similitud y la diferencia en el espacio de características, mientras que el método de enlace determina cómo se unen los elementos únicos, que se convierten en grupos más grandes.\n",
    "\n",
    "    - Se requieren medidas tanto de enlace como de distancia para el agrupamiento jerárquico, mientras que solo se requieren medidas de distancia para todas las demás técnicas de agrupamiento.\n",
    "   "
   ]
  },
  {
   "cell_type": "markdown",
   "metadata": {},
   "source": [
    "#### Enlace completo (complete linkage - CL)\n",
    "   \n",
    "   El enlace completo o técnica del vecino más lejano, es lo opuesto al enlace simple y combina los clusters encontrando la distancia máxima entre las observaciones del cluster $G$ y las observaciones del cluster $H$:\n",
    "\n",
    "   \\begin{align}\n",
    "     d_{CL}(G, H)= max_{i\\in G,\\ i'\\in H} d_{ii'} \n",
    "   \\end{align}\n",
    "\n",
    "   En otras palabras, funciona combinando clusters en función de los puntos más alejados entre los dos clusters."
   ]
  },
  {
   "cell_type": "markdown",
   "metadata": {},
   "source": [
    "##### Ejemplo:\n",
    "\n",
    "|   | 1  | 2  | 3 | 4 | 5 |\n",
    "|---|----|----|---|---|---|\n",
    "| **1** | 0  |    |   |   |   |\n",
    "| **2** | 9  | 0  |   |   |   |\n",
    "| **3** | 3  | 7  | 0 |   |   |\n",
    "| **4** | 6  | 5  | 9 | 0 |   |\n",
    "| **5** | 11 | 10 | 2 | 8 | 0 |"
   ]
  },
  {
   "cell_type": "markdown",
   "metadata": {},
   "source": [
    "<div >\n",
    "<img src = \"figs/complete_link0.png\" />\n",
    "</div>\n"
   ]
  },
  {
   "cell_type": "markdown",
   "metadata": {},
   "source": [
    "|    | 35 | 1 | 2 | 4 |\n",
    "|----|----|---|---|---|\n",
    "| **35** | 0  |   |   |   |\n",
    "| **1** | 11 | 0 |   |   |\n",
    "| **2** | 10 | 9 | 0 |   |\n",
    "| **4** | 9  | 6 | 5 | 0 |"
   ]
  },
  {
   "cell_type": "markdown",
   "metadata": {},
   "source": [
    "<div >\n",
    "<img src = \"figs/complete_link1.png\" />\n",
    "</div>\n"
   ]
  },
  {
   "cell_type": "markdown",
   "metadata": {},
   "source": [
    "<div >\n",
    "<img src = \"figs/complete_link.png\" />\n",
    "</div>\n"
   ]
  },
  {
   "cell_type": "markdown",
   "metadata": {},
   "source": [
    "   - **Enlace simple**\n",
    "   \n",
    "   También conocido como técnica del vecino más cercano; en este método combinamos los clusters, basándonos en los dos puntos más cercanos de cada cluster. Para lograrlo, tomamos las distancias por pares entre las observaciones del cluster $G$ y las observaciones del cluster $H$, y guardamos la menor:\n",
    "\n",
    "$$d_{SL}(G, H)= min_{i\\in G,\\ i'\\in H} d_{ii'}$$"
   ]
  },
  {
   "cell_type": "markdown",
   "metadata": {},
   "source": [
    "<div >\n",
    "<img src = \"figs/single_link.png\" />\n",
    "</div>"
   ]
  },
  {
   "cell_type": "markdown",
   "metadata": {},
   "source": [
    "## DBSCAN\n",
    "\n",
    "- DBSCAN (por su nombre en inglés *Density-based spatial clustering of applications with noise*) agrupa los datos en función de las densidades de las observaciones, mientras maneja el ruido de manera eficiente.  \n",
    "\n",
    "\n",
    "- DBSCAN  incorpora  la noción de densidad. Si hay grupos de puntos de datos que existen en el mismo vencindario, estos se pueden ver como miembros del mismo cluster.\n",
    "\n",
    "\n",
    "- Pero para hacerlo dependende de principalmente de 2 parámetros: *eps* y *min_samples*.\n",
    "\n",
    "\n",
    "- **Formalmente** *Cluster.* Sea $D$ conjunto de puntos. El cluster $C$ con respecto a `eps` y `min_samples` es un subconjunto no vacío de $D$ que satisface las siguientes condiciones:\n",
    "    1. $\\forall\\ p, q:$ if $p\\in C$ y $q$ es alcanzable por densidad por $p$ con respecto a `eps` y `min_samples` dados, entonces $q \\in C$.\n",
    "    2. $\\forall\\ p, q \\in C:$ $p$ está conectado por densidad con $q$ con respecto al `eps` y `min_samples` dados.\n",
    "  \n",
    "  - *Ruido.* Sean $C_1, \\cdots, C_k$ los clústeres conformados a partir de los puntos  $D$ usando los parámetros `eps` y `min_samples` fijos. Definimos como ruido a todos los puntos que no pertenecen a ningún cluster pero están presentes en $D$:\n",
    "\n",
    "$$ruido = \\{p\\in D | \\forall i: p \\notin C_i \\}$$\n",
    "\n",
    "Veamos como funciona:"
   ]
  },
  {
   "cell_type": "markdown",
   "metadata": {},
   "source": [
    "<div style=\"max-width:400px\">\n",
    "    <img src = \"figs/DBSCAN_tutorial_1.png\" />\n",
    "</div>"
   ]
  },
  {
   "cell_type": "markdown",
   "metadata": {},
   "source": [
    "<div style=\"max-width:400px\">\n",
    "    <img src = \"figs/DBSCAN_tutorial_3.png\" />\n",
    "</div>"
   ]
  },
  {
   "cell_type": "markdown",
   "metadata": {},
   "source": [
    "<div style=\"max-width:400px\">\n",
    "    <img src = \"figs/DBSCAN_tutorial_4.png\" />\n",
    "</div>"
   ]
  },
  {
   "cell_type": "markdown",
   "metadata": {},
   "source": [
    "<div style=\"max-width:400px\">\n",
    "    <img src = \"figs/DBSCAN_tutorial_5.png\" />\n",
    "</div>"
   ]
  },
  {
   "cell_type": "markdown",
   "metadata": {},
   "source": [
    "<div style=\"max-width:400px\">\n",
    "    <img src = \"figs/DBSCAN_tutorial_6.png\" />\n",
    "</div>"
   ]
  },
  {
   "cell_type": "markdown",
   "metadata": {},
   "source": [
    "<div style=\"max-width:400px\">\n",
    "    <img src = \"figs/DBSCAN_tutorial_7.png\" />\n",
    "</div>"
   ]
  },
  {
   "cell_type": "markdown",
   "metadata": {},
   "source": [
    "<div style=\"max-width:400px\">\n",
    "    <img src = \"figs/DBSCAN_tutorial_8.png\" />\n",
    "</div>"
   ]
  },
  {
   "cell_type": "markdown",
   "metadata": {},
   "source": [
    "<div style=\"max-width:400px\">\n",
    "    <img src = \"figs/DBSCAN_tutorial_9.png\" />\n",
    "</div>"
   ]
  },
  {
   "cell_type": "markdown",
   "metadata": {},
   "source": [
    "<div style=\"max-width:400px\">\n",
    "    <img src = \"figs/DBSCAN_tutorial_10.png\" />\n",
    "</div>"
   ]
  },
  {
   "cell_type": "markdown",
   "metadata": {},
   "source": [
    "<div style=\"max-width:400px\">\n",
    "    <img src = \"figs/DBSCAN_tutorial_11.png\" />\n",
    "</div>"
   ]
  },
  {
   "cell_type": "markdown",
   "metadata": {},
   "source": [
    "<div style=\"max-width:400px\">\n",
    "    <img src = \"figs/DBSCAN_tutorial_12.png\" />\n",
    "</div>"
   ]
  },
  {
   "cell_type": "markdown",
   "metadata": {},
   "source": [
    "<div style=\"max-width:400px\">\n",
    "    <img src = \"figs/DBSCAN_tutorial_14.png\" />\n",
    "</div>"
   ]
  },
  {
   "cell_type": "markdown",
   "metadata": {},
   "source": [
    "### Todos los pasos"
   ]
  },
  {
   "cell_type": "markdown",
   "metadata": {},
   "source": [
    "<div style=\"max-width:400px\">\n",
    "    <img src = \"figs/DBSCAN_tutorial.gif\" />\n",
    "</div>"
   ]
  },
  {
   "cell_type": "markdown",
   "metadata": {},
   "source": [
    "## Clustering para \"Marketing Data Science\""
   ]
  },
  {
   "cell_type": "markdown",
   "metadata": {},
   "source": [
    "Para que un negocio prospere, es fundamental atraer nuevos clientes, al mismo tiempo que reteniendo efectivamente los actuales. \n",
    "\n",
    "El análisis de clusters facilita identificar grupos homogéneos permitiendo realizar estrategias que permiten captar oportunidades que los análisis tradicionales a menudo no son capaces.\n",
    "\n",
    "En esta tarea es importante que los segmentos identificados mediante el análisis de clusters deben ser tanto reconocibles como accesibles. Esto permite a los gerentes de marketing personalizar productos y mensajes de manera eficaz, optimizando las campañas de marketing para alcanzar de manera efectiva a cada grupo.\n",
    "\n",
    "Para ello es crucial elegir variables que no solo segmenten efectivamente el mercado, sino que también sean fáciles de medir y estén ampliamente disponibles. \n"
   ]
  },
  {
   "cell_type": "markdown",
   "metadata": {},
   "source": [
    "<div >\n",
    "<img src = \"figs/Harrans.png\" />\n",
    "</div>"
   ]
  },
  {
   "cell_type": "markdown",
   "metadata": {},
   "source": [
    "<div >\n",
    "<img src = \"figs/WallStreet.png\" />\n",
    "\n",
    "</div>"
   ]
  },
  {
   "cell_type": "markdown",
   "metadata": {},
   "source": [
    "### \"Marketing Bancario\"\n",
    "\n",
    "Esta base de datos proviene del UCI Machine Learning Repository y fue utilizada en estudios sobre campañas de marketing directo, particularmente en la promoción de depósitos a plazo fijo.\n",
    "\n",
    "Los datos fueron recopilados de campañas de marketing telefónico de un banco en Portugal. El objetivo principal era predecir si un cliente suscribiría o no un depósito a plazo después de ser contactado. Pero nosotros la utilizaremos para ver si podemos identificar segmentos de clientes potenciales."
   ]
  },
  {
   "cell_type": "markdown",
   "metadata": {},
   "source": [
    "### Carga de datos "
   ]
  },
  {
   "cell_type": "code",
   "execution_count": 20,
   "metadata": {},
   "outputs": [
    {
     "data": {
      "text/html": [
       "<div>\n",
       "<style scoped>\n",
       "    .dataframe tbody tr th:only-of-type {\n",
       "        vertical-align: middle;\n",
       "    }\n",
       "\n",
       "    .dataframe tbody tr th {\n",
       "        vertical-align: top;\n",
       "    }\n",
       "\n",
       "    .dataframe thead th {\n",
       "        text-align: right;\n",
       "    }\n",
       "</style>\n",
       "<table border=\"1\" class=\"dataframe\">\n",
       "  <thead>\n",
       "    <tr style=\"text-align: right;\">\n",
       "      <th></th>\n",
       "      <th>edad</th>\n",
       "      <th>trabajo</th>\n",
       "      <th>estado_civil</th>\n",
       "      <th>educacion</th>\n",
       "      <th>impago</th>\n",
       "      <th>saldo</th>\n",
       "      <th>hipoteca</th>\n",
       "      <th>prestamo</th>\n",
       "      <th>contacto</th>\n",
       "      <th>día</th>\n",
       "      <th>mes</th>\n",
       "      <th>duracion</th>\n",
       "      <th>contactos_campana</th>\n",
       "      <th>dias_ultimo_contacto</th>\n",
       "      <th>contactos_previos</th>\n",
       "      <th>resultado_campana_previa</th>\n",
       "      <th>respuesta</th>\n",
       "    </tr>\n",
       "  </thead>\n",
       "  <tbody>\n",
       "    <tr>\n",
       "      <th>0</th>\n",
       "      <td>30</td>\n",
       "      <td>desempleado</td>\n",
       "      <td>casado</td>\n",
       "      <td>primaria</td>\n",
       "      <td>no</td>\n",
       "      <td>1787</td>\n",
       "      <td>no</td>\n",
       "      <td>no</td>\n",
       "      <td>cellular</td>\n",
       "      <td>19</td>\n",
       "      <td>oct</td>\n",
       "      <td>79</td>\n",
       "      <td>1</td>\n",
       "      <td>-1</td>\n",
       "      <td>0</td>\n",
       "      <td>unknown</td>\n",
       "      <td>no</td>\n",
       "    </tr>\n",
       "    <tr>\n",
       "      <th>1</th>\n",
       "      <td>33</td>\n",
       "      <td>servicios</td>\n",
       "      <td>casado</td>\n",
       "      <td>secundaria</td>\n",
       "      <td>no</td>\n",
       "      <td>4789</td>\n",
       "      <td>yes</td>\n",
       "      <td>yes</td>\n",
       "      <td>cellular</td>\n",
       "      <td>11</td>\n",
       "      <td>may</td>\n",
       "      <td>220</td>\n",
       "      <td>1</td>\n",
       "      <td>339</td>\n",
       "      <td>4</td>\n",
       "      <td>failure</td>\n",
       "      <td>no</td>\n",
       "    </tr>\n",
       "    <tr>\n",
       "      <th>2</th>\n",
       "      <td>35</td>\n",
       "      <td>gerente</td>\n",
       "      <td>soltero</td>\n",
       "      <td>terciaria</td>\n",
       "      <td>no</td>\n",
       "      <td>1350</td>\n",
       "      <td>yes</td>\n",
       "      <td>no</td>\n",
       "      <td>cellular</td>\n",
       "      <td>16</td>\n",
       "      <td>apr</td>\n",
       "      <td>185</td>\n",
       "      <td>1</td>\n",
       "      <td>330</td>\n",
       "      <td>1</td>\n",
       "      <td>failure</td>\n",
       "      <td>no</td>\n",
       "    </tr>\n",
       "    <tr>\n",
       "      <th>3</th>\n",
       "      <td>30</td>\n",
       "      <td>gerente</td>\n",
       "      <td>casado</td>\n",
       "      <td>terciaria</td>\n",
       "      <td>no</td>\n",
       "      <td>1476</td>\n",
       "      <td>yes</td>\n",
       "      <td>yes</td>\n",
       "      <td>unknown</td>\n",
       "      <td>3</td>\n",
       "      <td>jun</td>\n",
       "      <td>199</td>\n",
       "      <td>4</td>\n",
       "      <td>-1</td>\n",
       "      <td>0</td>\n",
       "      <td>unknown</td>\n",
       "      <td>no</td>\n",
       "    </tr>\n",
       "    <tr>\n",
       "      <th>4</th>\n",
       "      <td>59</td>\n",
       "      <td>obrero</td>\n",
       "      <td>casado</td>\n",
       "      <td>secundaria</td>\n",
       "      <td>no</td>\n",
       "      <td>0</td>\n",
       "      <td>yes</td>\n",
       "      <td>no</td>\n",
       "      <td>unknown</td>\n",
       "      <td>5</td>\n",
       "      <td>may</td>\n",
       "      <td>226</td>\n",
       "      <td>1</td>\n",
       "      <td>-1</td>\n",
       "      <td>0</td>\n",
       "      <td>unknown</td>\n",
       "      <td>no</td>\n",
       "    </tr>\n",
       "  </tbody>\n",
       "</table>\n",
       "</div>"
      ],
      "text/plain": [
       "   edad      trabajo estado_civil   educacion impago  saldo hipoteca prestamo  \\\n",
       "0    30  desempleado       casado    primaria     no   1787       no       no   \n",
       "1    33    servicios       casado  secundaria     no   4789      yes      yes   \n",
       "2    35      gerente      soltero   terciaria     no   1350      yes       no   \n",
       "3    30      gerente       casado   terciaria     no   1476      yes      yes   \n",
       "4    59       obrero       casado  secundaria     no      0      yes       no   \n",
       "\n",
       "   contacto  día  mes  duracion  contactos_campana  dias_ultimo_contacto  \\\n",
       "0  cellular   19  oct        79                  1                    -1   \n",
       "1  cellular   11  may       220                  1                   339   \n",
       "2  cellular   16  apr       185                  1                   330   \n",
       "3   unknown    3  jun       199                  4                    -1   \n",
       "4   unknown    5  may       226                  1                    -1   \n",
       "\n",
       "   contactos_previos resultado_campana_previa respuesta  \n",
       "0                  0                  unknown        no  \n",
       "1                  4                  failure        no  \n",
       "2                  1                  failure        no  \n",
       "3                  0                  unknown        no  \n",
       "4                  0                  unknown        no  "
      ]
     },
     "execution_count": 20,
     "metadata": {},
     "output_type": "execute_result"
    }
   ],
   "source": [
    "# Importar las librerías\n",
    "import pandas as pd\n",
    "\n",
    "\n",
    "# leer los datos\n",
    "bank = pd.read_csv('data/bank_es.csv', sep = ',')\n",
    "\n",
    "# Ver las primeras observaciones\n",
    "bank.head()\n"
   ]
  },
  {
   "cell_type": "markdown",
   "metadata": {},
   "source": [
    "1. **Variables Demográficas**:\n",
    "     - `edad`: Edad del cliente.\n",
    "     - `trabajo`: Tipo de empleo del cliente (e.g., \"admin.\", \"blue-collar\", \"technician\").\n",
    "     - `estado civil`: Estado civil del cliente (e.g., \"single\", \"married\", \"divorced\").\n",
    "     - `educación`: Nivel educativo del cliente (e.g., \"primary\", \"secondary\", \"tertiary\").\n",
    "\n",
    "2. **Historial Bancario**:\n",
    "     - `impago`: Si el cliente tiene crédito en mora (binaria: \"sí\", \"no\").\n",
    "     - `saldo`: Saldo promedio en la cuenta bancaria del cliente.\n",
    "     - `hipoteca`: Si el cliente tiene un préstamo hipotecario (binaria: \"sí\", \"no\").\n",
    "     - `préstamo`: Si el cliente tiene un préstamo personal (binaria: \"sí\", \"no\").\n",
    "     - `contactos_campaña`: Número de contactos realizados durante esta campaña.\n",
    "     - `dias_ultimo_contacto`: Días transcurridos desde que el cliente fue contactado por última vez en una campaña anterior.\n",
    "     - `contactos_previos`: Número de contactos realizados antes de esta campaña.\n",
    "     - `resultado de la campaña previa`: Resultado de la campaña anterior (e.g., \"success\", \"failure\").\n",
    "\n",
    "3. **Información del Contacto**:\n",
    "     - `contacto`: Tipo de contacto de la comunicación (e.g., \"cellular\", \"telephone\").\n",
    "     - `mes`: Último mes de contacto en la campaña.\n",
    "     - `día`: Último día del mes en que se realizó el contacto.\n",
    "     - `duración`: Duración de la última llamada en segundos.\n",
    "\n",
    "4. **Variable de Resultado**:\n",
    "     - `respuesta`: Variable binaria objetivo que indica si el cliente suscribió o no un depósito a plazo (binaria: \"sí\", \"no\")."
   ]
  },
  {
   "cell_type": "markdown",
   "metadata": {},
   "source": [
    "Nos preocuparan principalmente aquellos individuos sin contactos previos a esta campaña."
   ]
  },
  {
   "cell_type": "code",
   "execution_count": 21,
   "metadata": {},
   "outputs": [],
   "source": [
    "# Sin contacto previo\n",
    "bank = bank[bank['contactos_previos'] == 0]"
   ]
  },
  {
   "cell_type": "markdown",
   "metadata": {},
   "source": [
    "En este ejercicio  nos centramos principalmente en las variables demográficas (`edad`, `trabajo`, `estado civil`, `educación`) y algunas relacionadas a componentes bancarios (`hipoteca`, `préstamo`) que son accesibles para todos los clientes, incluidas aquellas personas que aún no tienen un historial de transacciones con el banco.\n",
    "\n"
   ]
  },
  {
   "cell_type": "markdown",
   "metadata": {},
   "source": [
    "Vamos a preparar los datos para el análisis de clustering, se transforman las variables categóricas en variables binarias y se estandarizan las variables numéricas, lo que facilita la identificación de segmentos de clientes similares.\n"
   ]
  },
  {
   "cell_type": "code",
   "execution_count": 22,
   "metadata": {},
   "outputs": [
    {
     "data": {
      "text/html": [
       "<div>\n",
       "<style scoped>\n",
       "    .dataframe tbody tr th:only-of-type {\n",
       "        vertical-align: middle;\n",
       "    }\n",
       "\n",
       "    .dataframe tbody tr th {\n",
       "        vertical-align: top;\n",
       "    }\n",
       "\n",
       "    .dataframe thead th {\n",
       "        text-align: right;\n",
       "    }\n",
       "</style>\n",
       "<table border=\"1\" class=\"dataframe\">\n",
       "  <thead>\n",
       "    <tr style=\"text-align: right;\">\n",
       "      <th>empleo_cuello_blanco</th>\n",
       "      <th>0</th>\n",
       "      <th>1</th>\n",
       "    </tr>\n",
       "    <tr>\n",
       "      <th>trabajo</th>\n",
       "      <th></th>\n",
       "      <th></th>\n",
       "    </tr>\n",
       "  </thead>\n",
       "  <tbody>\n",
       "    <tr>\n",
       "      <th>administrativo</th>\n",
       "      <td>370</td>\n",
       "      <td>0</td>\n",
       "    </tr>\n",
       "    <tr>\n",
       "      <th>ama_de_casa</th>\n",
       "      <td>94</td>\n",
       "      <td>0</td>\n",
       "    </tr>\n",
       "    <tr>\n",
       "      <th>autonomo</th>\n",
       "      <td>0</td>\n",
       "      <td>155</td>\n",
       "    </tr>\n",
       "    <tr>\n",
       "      <th>desconocido</th>\n",
       "      <td>32</td>\n",
       "      <td>0</td>\n",
       "    </tr>\n",
       "    <tr>\n",
       "      <th>desempleado</th>\n",
       "      <td>107</td>\n",
       "      <td>0</td>\n",
       "    </tr>\n",
       "    <tr>\n",
       "      <th>emprendedor</th>\n",
       "      <td>0</td>\n",
       "      <td>145</td>\n",
       "    </tr>\n",
       "    <tr>\n",
       "      <th>estudiante</th>\n",
       "      <td>62</td>\n",
       "      <td>0</td>\n",
       "    </tr>\n",
       "    <tr>\n",
       "      <th>gerente</th>\n",
       "      <td>0</td>\n",
       "      <td>783</td>\n",
       "    </tr>\n",
       "    <tr>\n",
       "      <th>jubilado</th>\n",
       "      <td>181</td>\n",
       "      <td>0</td>\n",
       "    </tr>\n",
       "    <tr>\n",
       "      <th>obrero</th>\n",
       "      <td>794</td>\n",
       "      <td>0</td>\n",
       "    </tr>\n",
       "    <tr>\n",
       "      <th>servicios</th>\n",
       "      <td>355</td>\n",
       "      <td>0</td>\n",
       "    </tr>\n",
       "    <tr>\n",
       "      <th>tecnico</th>\n",
       "      <td>627</td>\n",
       "      <td>0</td>\n",
       "    </tr>\n",
       "  </tbody>\n",
       "</table>\n",
       "</div>"
      ],
      "text/plain": [
       "empleo_cuello_blanco    0    1\n",
       "trabajo                       \n",
       "administrativo        370    0\n",
       "ama_de_casa            94    0\n",
       "autonomo                0  155\n",
       "desconocido            32    0\n",
       "desempleado           107    0\n",
       "emprendedor             0  145\n",
       "estudiante             62    0\n",
       "gerente                 0  783\n",
       "jubilado              181    0\n",
       "obrero                794    0\n",
       "servicios             355    0\n",
       "tecnico               627    0"
      ]
     },
     "execution_count": 22,
     "metadata": {},
     "output_type": "execute_result"
    }
   ],
   "source": [
    "# generar una nueva variable empleo_cuello_blanco que son los que tienen trabajos administrativos, gerenciales, emprendedores y autonomos\n",
    "bank['empleo_cuello_blanco'] = bank['trabajo'].apply(lambda x: 1 if x in ['administrativo.', 'gerente', 'emprendedor', 'autonomo'] else 0)\n",
    "\n",
    "# generar tabla de contingencia trabajo vs empleo_cuello_blanco\n",
    "pd.crosstab(index = bank['trabajo'], columns = bank['empleo_cuello_blanco'])\n"
   ]
  },
  {
   "cell_type": "code",
   "execution_count": 23,
   "metadata": {},
   "outputs": [
    {
     "data": {
      "text/html": [
       "<div>\n",
       "<style scoped>\n",
       "    .dataframe tbody tr th:only-of-type {\n",
       "        vertical-align: middle;\n",
       "    }\n",
       "\n",
       "    .dataframe tbody tr th {\n",
       "        vertical-align: top;\n",
       "    }\n",
       "\n",
       "    .dataframe thead th {\n",
       "        text-align: right;\n",
       "    }\n",
       "</style>\n",
       "<table border=\"1\" class=\"dataframe\">\n",
       "  <thead>\n",
       "    <tr style=\"text-align: right;\">\n",
       "      <th>empleo_cuello_azul</th>\n",
       "      <th>0</th>\n",
       "      <th>1</th>\n",
       "    </tr>\n",
       "    <tr>\n",
       "      <th>trabajo</th>\n",
       "      <th></th>\n",
       "      <th></th>\n",
       "    </tr>\n",
       "  </thead>\n",
       "  <tbody>\n",
       "    <tr>\n",
       "      <th>administrativo</th>\n",
       "      <td>370</td>\n",
       "      <td>0</td>\n",
       "    </tr>\n",
       "    <tr>\n",
       "      <th>ama_de_casa</th>\n",
       "      <td>0</td>\n",
       "      <td>94</td>\n",
       "    </tr>\n",
       "    <tr>\n",
       "      <th>autonomo</th>\n",
       "      <td>155</td>\n",
       "      <td>0</td>\n",
       "    </tr>\n",
       "    <tr>\n",
       "      <th>desconocido</th>\n",
       "      <td>32</td>\n",
       "      <td>0</td>\n",
       "    </tr>\n",
       "    <tr>\n",
       "      <th>desempleado</th>\n",
       "      <td>107</td>\n",
       "      <td>0</td>\n",
       "    </tr>\n",
       "    <tr>\n",
       "      <th>emprendedor</th>\n",
       "      <td>145</td>\n",
       "      <td>0</td>\n",
       "    </tr>\n",
       "    <tr>\n",
       "      <th>estudiante</th>\n",
       "      <td>62</td>\n",
       "      <td>0</td>\n",
       "    </tr>\n",
       "    <tr>\n",
       "      <th>gerente</th>\n",
       "      <td>783</td>\n",
       "      <td>0</td>\n",
       "    </tr>\n",
       "    <tr>\n",
       "      <th>jubilado</th>\n",
       "      <td>181</td>\n",
       "      <td>0</td>\n",
       "    </tr>\n",
       "    <tr>\n",
       "      <th>obrero</th>\n",
       "      <td>0</td>\n",
       "      <td>794</td>\n",
       "    </tr>\n",
       "    <tr>\n",
       "      <th>servicios</th>\n",
       "      <td>0</td>\n",
       "      <td>355</td>\n",
       "    </tr>\n",
       "    <tr>\n",
       "      <th>tecnico</th>\n",
       "      <td>0</td>\n",
       "      <td>627</td>\n",
       "    </tr>\n",
       "  </tbody>\n",
       "</table>\n",
       "</div>"
      ],
      "text/plain": [
       "empleo_cuello_azul    0    1\n",
       "trabajo                     \n",
       "administrativo      370    0\n",
       "ama_de_casa           0   94\n",
       "autonomo            155    0\n",
       "desconocido          32    0\n",
       "desempleado         107    0\n",
       "emprendedor         145    0\n",
       "estudiante           62    0\n",
       "gerente             783    0\n",
       "jubilado            181    0\n",
       "obrero                0  794\n",
       "servicios             0  355\n",
       "tecnico               0  627"
      ]
     },
     "execution_count": 23,
     "metadata": {},
     "output_type": "execute_result"
    }
   ],
   "source": [
    "# generar una nueva variable empleo_cuello_azul que son los que tienen trabajos obreros, ama de casa, servicios, tecnico \n",
    "bank['empleo_cuello_azul'] = bank['trabajo'].apply(lambda x: 1 if x in ['obrero', 'ama_de_casa', 'servicios', 'tecnico'] else 0)\n",
    "\n",
    "# generar tabla de contingencia trabajo vs empleo_cuello_blanco\n",
    "pd.crosstab(index = bank['trabajo'], columns = bank['empleo_cuello_azul'])\n"
   ]
  },
  {
   "cell_type": "code",
   "execution_count": 24,
   "metadata": {},
   "outputs": [],
   "source": [
    "# generar dummies estado_civil en la base de datos\n",
    "bank = pd.get_dummies(bank, columns = ['estado_civil'], drop_first = True)\n"
   ]
  },
  {
   "cell_type": "code",
   "execution_count": 25,
   "metadata": {},
   "outputs": [],
   "source": [
    "# generar dummies educacion en la base de datos\n",
    "bank = pd.get_dummies(bank, columns = ['educacion'], drop_first = True)"
   ]
  },
  {
   "cell_type": "code",
   "execution_count": 26,
   "metadata": {},
   "outputs": [
    {
     "data": {
      "text/html": [
       "<div>\n",
       "<style scoped>\n",
       "    .dataframe tbody tr th:only-of-type {\n",
       "        vertical-align: middle;\n",
       "    }\n",
       "\n",
       "    .dataframe tbody tr th {\n",
       "        vertical-align: top;\n",
       "    }\n",
       "\n",
       "    .dataframe thead th {\n",
       "        text-align: right;\n",
       "    }\n",
       "</style>\n",
       "<table border=\"1\" class=\"dataframe\">\n",
       "  <thead>\n",
       "    <tr style=\"text-align: right;\">\n",
       "      <th></th>\n",
       "      <th>edad</th>\n",
       "      <th>trabajo</th>\n",
       "      <th>impago</th>\n",
       "      <th>saldo</th>\n",
       "      <th>hipoteca</th>\n",
       "      <th>prestamo</th>\n",
       "      <th>contacto</th>\n",
       "      <th>día</th>\n",
       "      <th>mes</th>\n",
       "      <th>duracion</th>\n",
       "      <th>...</th>\n",
       "      <th>contactos_previos</th>\n",
       "      <th>resultado_campana_previa</th>\n",
       "      <th>respuesta</th>\n",
       "      <th>empleo_cuello_blanco</th>\n",
       "      <th>empleo_cuello_azul</th>\n",
       "      <th>estado_civil_divorciado</th>\n",
       "      <th>estado_civil_soltero</th>\n",
       "      <th>educacion_primaria</th>\n",
       "      <th>educacion_secundaria</th>\n",
       "      <th>educacion_terciaria</th>\n",
       "    </tr>\n",
       "  </thead>\n",
       "  <tbody>\n",
       "    <tr>\n",
       "      <th>0</th>\n",
       "      <td>30</td>\n",
       "      <td>desempleado</td>\n",
       "      <td>no</td>\n",
       "      <td>1787</td>\n",
       "      <td>no</td>\n",
       "      <td>no</td>\n",
       "      <td>cellular</td>\n",
       "      <td>19</td>\n",
       "      <td>oct</td>\n",
       "      <td>79</td>\n",
       "      <td>...</td>\n",
       "      <td>0</td>\n",
       "      <td>unknown</td>\n",
       "      <td>no</td>\n",
       "      <td>0</td>\n",
       "      <td>0</td>\n",
       "      <td>0</td>\n",
       "      <td>0</td>\n",
       "      <td>1</td>\n",
       "      <td>0</td>\n",
       "      <td>0</td>\n",
       "    </tr>\n",
       "    <tr>\n",
       "      <th>3</th>\n",
       "      <td>30</td>\n",
       "      <td>gerente</td>\n",
       "      <td>no</td>\n",
       "      <td>1476</td>\n",
       "      <td>yes</td>\n",
       "      <td>yes</td>\n",
       "      <td>unknown</td>\n",
       "      <td>3</td>\n",
       "      <td>jun</td>\n",
       "      <td>199</td>\n",
       "      <td>...</td>\n",
       "      <td>0</td>\n",
       "      <td>unknown</td>\n",
       "      <td>no</td>\n",
       "      <td>1</td>\n",
       "      <td>0</td>\n",
       "      <td>0</td>\n",
       "      <td>0</td>\n",
       "      <td>0</td>\n",
       "      <td>0</td>\n",
       "      <td>1</td>\n",
       "    </tr>\n",
       "    <tr>\n",
       "      <th>4</th>\n",
       "      <td>59</td>\n",
       "      <td>obrero</td>\n",
       "      <td>no</td>\n",
       "      <td>0</td>\n",
       "      <td>yes</td>\n",
       "      <td>no</td>\n",
       "      <td>unknown</td>\n",
       "      <td>5</td>\n",
       "      <td>may</td>\n",
       "      <td>226</td>\n",
       "      <td>...</td>\n",
       "      <td>0</td>\n",
       "      <td>unknown</td>\n",
       "      <td>no</td>\n",
       "      <td>0</td>\n",
       "      <td>1</td>\n",
       "      <td>0</td>\n",
       "      <td>0</td>\n",
       "      <td>0</td>\n",
       "      <td>1</td>\n",
       "      <td>0</td>\n",
       "    </tr>\n",
       "    <tr>\n",
       "      <th>7</th>\n",
       "      <td>39</td>\n",
       "      <td>tecnico</td>\n",
       "      <td>no</td>\n",
       "      <td>147</td>\n",
       "      <td>yes</td>\n",
       "      <td>no</td>\n",
       "      <td>cellular</td>\n",
       "      <td>6</td>\n",
       "      <td>may</td>\n",
       "      <td>151</td>\n",
       "      <td>...</td>\n",
       "      <td>0</td>\n",
       "      <td>unknown</td>\n",
       "      <td>no</td>\n",
       "      <td>0</td>\n",
       "      <td>1</td>\n",
       "      <td>0</td>\n",
       "      <td>0</td>\n",
       "      <td>0</td>\n",
       "      <td>1</td>\n",
       "      <td>0</td>\n",
       "    </tr>\n",
       "    <tr>\n",
       "      <th>8</th>\n",
       "      <td>41</td>\n",
       "      <td>emprendedor</td>\n",
       "      <td>no</td>\n",
       "      <td>221</td>\n",
       "      <td>yes</td>\n",
       "      <td>no</td>\n",
       "      <td>unknown</td>\n",
       "      <td>14</td>\n",
       "      <td>may</td>\n",
       "      <td>57</td>\n",
       "      <td>...</td>\n",
       "      <td>0</td>\n",
       "      <td>unknown</td>\n",
       "      <td>no</td>\n",
       "      <td>1</td>\n",
       "      <td>0</td>\n",
       "      <td>0</td>\n",
       "      <td>0</td>\n",
       "      <td>0</td>\n",
       "      <td>0</td>\n",
       "      <td>1</td>\n",
       "    </tr>\n",
       "  </tbody>\n",
       "</table>\n",
       "<p>5 rows × 22 columns</p>\n",
       "</div>"
      ],
      "text/plain": [
       "   edad      trabajo impago  saldo hipoteca prestamo  contacto  día  mes  \\\n",
       "0    30  desempleado     no   1787       no       no  cellular   19  oct   \n",
       "3    30      gerente     no   1476      yes      yes   unknown    3  jun   \n",
       "4    59       obrero     no      0      yes       no   unknown    5  may   \n",
       "7    39      tecnico     no    147      yes       no  cellular    6  may   \n",
       "8    41  emprendedor     no    221      yes       no   unknown   14  may   \n",
       "\n",
       "   duracion  ...  contactos_previos  resultado_campana_previa  respuesta  \\\n",
       "0        79  ...                  0                   unknown         no   \n",
       "3       199  ...                  0                   unknown         no   \n",
       "4       226  ...                  0                   unknown         no   \n",
       "7       151  ...                  0                   unknown         no   \n",
       "8        57  ...                  0                   unknown         no   \n",
       "\n",
       "  empleo_cuello_blanco empleo_cuello_azul  estado_civil_divorciado  \\\n",
       "0                    0                  0                        0   \n",
       "3                    1                  0                        0   \n",
       "4                    0                  1                        0   \n",
       "7                    0                  1                        0   \n",
       "8                    1                  0                        0   \n",
       "\n",
       "   estado_civil_soltero  educacion_primaria  educacion_secundaria  \\\n",
       "0                     0                   1                     0   \n",
       "3                     0                   0                     0   \n",
       "4                     0                   0                     1   \n",
       "7                     0                   0                     1   \n",
       "8                     0                   0                     0   \n",
       "\n",
       "   educacion_terciaria  \n",
       "0                    0  \n",
       "3                    1  \n",
       "4                    0  \n",
       "7                    0  \n",
       "8                    1  \n",
       "\n",
       "[5 rows x 22 columns]"
      ]
     },
     "execution_count": 26,
     "metadata": {},
     "output_type": "execute_result"
    }
   ],
   "source": [
    "bank.head()"
   ]
  },
  {
   "cell_type": "code",
   "execution_count": 27,
   "metadata": {},
   "outputs": [],
   "source": [
    "# reemplazar hipoteca y prestamo \"no\" por 0 y \"si\" por 1\n",
    "bank['hipoteca'] = bank['hipoteca'].apply(lambda x: 0 if x == 'no' else 1)\n",
    "bank['prestamo'] = bank['prestamo'].apply(lambda x: 0 if x == 'no' else 1)"
   ]
  },
  {
   "cell_type": "code",
   "execution_count": 28,
   "metadata": {},
   "outputs": [
    {
     "data": {
      "text/html": [
       "<div>\n",
       "<style scoped>\n",
       "    .dataframe tbody tr th:only-of-type {\n",
       "        vertical-align: middle;\n",
       "    }\n",
       "\n",
       "    .dataframe tbody tr th {\n",
       "        vertical-align: top;\n",
       "    }\n",
       "\n",
       "    .dataframe thead th {\n",
       "        text-align: right;\n",
       "    }\n",
       "</style>\n",
       "<table border=\"1\" class=\"dataframe\">\n",
       "  <thead>\n",
       "    <tr style=\"text-align: right;\">\n",
       "      <th></th>\n",
       "      <th>edad</th>\n",
       "      <th>empleo_cuello_blanco</th>\n",
       "      <th>empleo_cuello_azul</th>\n",
       "      <th>estado_civil_soltero</th>\n",
       "      <th>estado_civil_divorciado</th>\n",
       "      <th>educacion_primaria</th>\n",
       "      <th>educacion_secundaria</th>\n",
       "      <th>educacion_terciaria</th>\n",
       "      <th>hipoteca</th>\n",
       "      <th>prestamo</th>\n",
       "    </tr>\n",
       "  </thead>\n",
       "  <tbody>\n",
       "    <tr>\n",
       "      <th>0</th>\n",
       "      <td>30</td>\n",
       "      <td>0</td>\n",
       "      <td>0</td>\n",
       "      <td>0</td>\n",
       "      <td>0</td>\n",
       "      <td>1</td>\n",
       "      <td>0</td>\n",
       "      <td>0</td>\n",
       "      <td>0</td>\n",
       "      <td>0</td>\n",
       "    </tr>\n",
       "    <tr>\n",
       "      <th>3</th>\n",
       "      <td>30</td>\n",
       "      <td>1</td>\n",
       "      <td>0</td>\n",
       "      <td>0</td>\n",
       "      <td>0</td>\n",
       "      <td>0</td>\n",
       "      <td>0</td>\n",
       "      <td>1</td>\n",
       "      <td>1</td>\n",
       "      <td>1</td>\n",
       "    </tr>\n",
       "    <tr>\n",
       "      <th>4</th>\n",
       "      <td>59</td>\n",
       "      <td>0</td>\n",
       "      <td>1</td>\n",
       "      <td>0</td>\n",
       "      <td>0</td>\n",
       "      <td>0</td>\n",
       "      <td>1</td>\n",
       "      <td>0</td>\n",
       "      <td>1</td>\n",
       "      <td>0</td>\n",
       "    </tr>\n",
       "    <tr>\n",
       "      <th>7</th>\n",
       "      <td>39</td>\n",
       "      <td>0</td>\n",
       "      <td>1</td>\n",
       "      <td>0</td>\n",
       "      <td>0</td>\n",
       "      <td>0</td>\n",
       "      <td>1</td>\n",
       "      <td>0</td>\n",
       "      <td>1</td>\n",
       "      <td>0</td>\n",
       "    </tr>\n",
       "    <tr>\n",
       "      <th>8</th>\n",
       "      <td>41</td>\n",
       "      <td>1</td>\n",
       "      <td>0</td>\n",
       "      <td>0</td>\n",
       "      <td>0</td>\n",
       "      <td>0</td>\n",
       "      <td>0</td>\n",
       "      <td>1</td>\n",
       "      <td>1</td>\n",
       "      <td>0</td>\n",
       "    </tr>\n",
       "  </tbody>\n",
       "</table>\n",
       "</div>"
      ],
      "text/plain": [
       "   edad  empleo_cuello_blanco  empleo_cuello_azul  estado_civil_soltero  \\\n",
       "0    30                     0                   0                     0   \n",
       "3    30                     1                   0                     0   \n",
       "4    59                     0                   1                     0   \n",
       "7    39                     0                   1                     0   \n",
       "8    41                     1                   0                     0   \n",
       "\n",
       "   estado_civil_divorciado  educacion_primaria  educacion_secundaria  \\\n",
       "0                        0                   1                     0   \n",
       "3                        0                   0                     0   \n",
       "4                        0                   0                     1   \n",
       "7                        0                   0                     1   \n",
       "8                        0                   0                     0   \n",
       "\n",
       "   educacion_terciaria  hipoteca  prestamo  \n",
       "0                    0         0         0  \n",
       "3                    1         1         1  \n",
       "4                    0         1         0  \n",
       "7                    0         1         0  \n",
       "8                    1         1         0  "
      ]
     },
     "execution_count": 28,
     "metadata": {},
     "output_type": "execute_result"
    }
   ],
   "source": [
    "\n",
    "# retener `edad`, `trabajo`, `estado civil`, `educación`, `hipoteca`, `préstamo`\n",
    "bank = bank[['edad', 'empleo_cuello_blanco', 'empleo_cuello_azul', 'estado_civil_soltero', 'estado_civil_divorciado', 'educacion_primaria', 'educacion_secundaria', 'educacion_terciaria', 'hipoteca', 'prestamo']]\n",
    "bank.head()"
   ]
  },
  {
   "cell_type": "markdown",
   "metadata": {},
   "source": [
    "## Clustering Jerárquico"
   ]
  },
  {
   "cell_type": "code",
   "execution_count": 29,
   "metadata": {},
   "outputs": [],
   "source": [
    "# Importamos  las librerías\n",
    "from scipy.cluster.hierarchy import linkage, fcluster\n",
    "from scipy.cluster.hierarchy import dendrogram"
   ]
  },
  {
   "cell_type": "code",
   "execution_count": 30,
   "metadata": {},
   "outputs": [],
   "source": [
    "from sklearn.preprocessing import scale\n",
    "import numpy as np\n",
    "import matplotlib.pyplot as plt\n",
    "\n",
    "distances1 = linkage(scale(bank), method='complete', metric=\"euclidean\")"
   ]
  },
  {
   "cell_type": "code",
   "execution_count": 31,
   "metadata": {},
   "outputs": [
    {
     "data": {
      "image/png": "[encoded data removed]",
      "text/plain": [
       "<Figure size 1200x500 with 1 Axes>"
      ]
     },
     "metadata": {},
     "output_type": "display_data"
    }
   ],
   "source": [
    "\n",
    "fig, ax = plt.subplots(figsize=(12, 5))\n",
    "d = dendrogram(distances1, show_leaf_counts=True, leaf_font_size=6, ax=ax,labels=bank.index)\n",
    "ax.set_xlabel('Observaciones', fontsize=6)\n",
    "ax.set_yticks(np.arange(0, 10, 1))\n",
    "ax.set_ylabel('Distancia', fontsize=14)\n",
    "plt.show()\n"
   ]
  },
  {
   "cell_type": "code",
   "execution_count": 32,
   "metadata": {},
   "outputs": [],
   "source": [
    "distances2 = linkage(bank, method='complete', metric=\"euclidean\")"
   ]
  },
  {
   "cell_type": "code",
   "execution_count": 33,
   "metadata": {},
   "outputs": [
    {
     "data": {
      "image/png": "[encoded data removed]",
      "text/plain": [
       "<Figure size 1200x500 with 1 Axes>"
      ]
     },
     "metadata": {},
     "output_type": "display_data"
    }
   ],
   "source": [
    "\n",
    "\n",
    "fig, ax = plt.subplots(figsize=(12, 5))\n",
    "d = dendrogram(distances2, show_leaf_counts=True, leaf_font_size=6, ax=ax,labels=bank.index)\n",
    "ax.set_xlabel('Observaciones', fontsize=6)\n",
    "ax.set_yticks(np.arange(0, 20, 1))\n",
    "ax.set_ylabel('Distancia', fontsize=14)\n",
    "plt.show()\n"
   ]
  },
  {
   "cell_type": "code",
   "execution_count": 34,
   "metadata": {},
   "outputs": [],
   "source": [
    "distances3 = linkage(bank, method='complete', metric=\"cityblock\")"
   ]
  },
  {
   "cell_type": "code",
   "execution_count": 35,
   "metadata": {},
   "outputs": [
    {
     "data": {
      "image/png": "[encoded data removed]",
      "text/plain": [
       "<Figure size 1200x500 with 1 Axes>"
      ]
     },
     "metadata": {},
     "output_type": "display_data"
    }
   ],
   "source": [
    "\n",
    "fig, ax = plt.subplots(figsize=(12, 5))\n",
    "d = dendrogram(distances3, show_leaf_counts=True, leaf_font_size=14, ax=ax,labels=bank.index)\n",
    "ax.set_xlabel('Observaciones', fontsize=14)\n",
    "ax.set_yticks(np.arange(0, 20,1))\n",
    "ax.set_ylabel('Distancia', fontsize=14)\n",
    "plt.show()"
   ]
  },
  {
   "cell_type": "markdown",
   "metadata": {},
   "source": [
    "## DBSCAN"
   ]
  },
  {
   "cell_type": "code",
   "execution_count": 36,
   "metadata": {},
   "outputs": [
    {
     "data": {
      "text/plain": [
       "[<matplotlib.lines.Line2D at 0x7acb9d397410>]"
      ]
     },
     "execution_count": 36,
     "metadata": {},
     "output_type": "execute_result"
    },
    {
     "data": {
      "image/png": "[encoded data removed]",
      "text/plain": [
       "<Figure size 1000x800 with 1 Axes>"
      ]
     },
     "metadata": {},
     "output_type": "display_data"
    }
   ],
   "source": [
    "from sklearn.cluster import DBSCAN\n",
    "from sklearn.neighbors import NearestNeighbors\n",
    "\n",
    "neigh = NearestNeighbors(n_neighbors = 4)\n",
    "nbrs = neigh.fit(bank)\n",
    "distancias, indices = nbrs.kneighbors(bank)\n",
    "distancias = np.sort(distancias.flatten())\n",
    "fig=plt.figure(figsize=(10,8), dpi= 100, facecolor='w', edgecolor='k')\n",
    "plt.axhline(y = 0.5, color = 'r', linestyle = '--')\n",
    "plt.plot(distancias)"
   ]
  },
  {
   "cell_type": "code",
   "execution_count": 37,
   "metadata": {},
   "outputs": [
    {
     "name": "stdout",
     "output_type": "stream",
     "text": [
      "1.0\n"
     ]
    }
   ],
   "source": [
    "from kneed import KneeLocator\n",
    "\n",
    "i = np.arange(len(distancias))\n",
    "knee = KneeLocator(i, distancias, S=1, curve='convex', direction='increasing', interp_method='polynomial')\n",
    "\n",
    "print(distancias[knee.knee])"
   ]
  },
  {
   "cell_type": "code",
   "execution_count": 38,
   "metadata": {},
   "outputs": [],
   "source": [
    "db = DBSCAN(eps=1, min_samples=30)\n",
    "clusters=db.fit_predict(bank)\n"
   ]
  },
  {
   "cell_type": "code",
   "execution_count": 39,
   "metadata": {},
   "outputs": [
    {
     "data": {
      "text/html": [
       "<div>\n",
       "<style scoped>\n",
       "    .dataframe tbody tr th:only-of-type {\n",
       "        vertical-align: middle;\n",
       "    }\n",
       "\n",
       "    .dataframe tbody tr th {\n",
       "        vertical-align: top;\n",
       "    }\n",
       "\n",
       "    .dataframe thead th {\n",
       "        text-align: right;\n",
       "    }\n",
       "</style>\n",
       "<table border=\"1\" class=\"dataframe\">\n",
       "  <thead>\n",
       "    <tr style=\"text-align: right;\">\n",
       "      <th></th>\n",
       "      <th>edad</th>\n",
       "      <th>empleo_cuello_blanco</th>\n",
       "      <th>empleo_cuello_azul</th>\n",
       "      <th>estado_civil_soltero</th>\n",
       "      <th>estado_civil_divorciado</th>\n",
       "      <th>educacion_primaria</th>\n",
       "      <th>educacion_secundaria</th>\n",
       "      <th>educacion_terciaria</th>\n",
       "      <th>hipoteca</th>\n",
       "      <th>prestamo</th>\n",
       "    </tr>\n",
       "    <tr>\n",
       "      <th>cluster_dbscan</th>\n",
       "      <th></th>\n",
       "      <th></th>\n",
       "      <th></th>\n",
       "      <th></th>\n",
       "      <th></th>\n",
       "      <th></th>\n",
       "      <th></th>\n",
       "      <th></th>\n",
       "      <th></th>\n",
       "      <th></th>\n",
       "    </tr>\n",
       "  </thead>\n",
       "  <tbody>\n",
       "    <tr>\n",
       "      <th>-1</th>\n",
       "      <td>44.832913</td>\n",
       "      <td>0.331652</td>\n",
       "      <td>0.419294</td>\n",
       "      <td>0.255990</td>\n",
       "      <td>0.174653</td>\n",
       "      <td>0.311475</td>\n",
       "      <td>0.271122</td>\n",
       "      <td>0.351828</td>\n",
       "      <td>0.450820</td>\n",
       "      <td>0.214376</td>\n",
       "    </tr>\n",
       "    <tr>\n",
       "      <th>0</th>\n",
       "      <td>37.919811</td>\n",
       "      <td>0.038410</td>\n",
       "      <td>0.776954</td>\n",
       "      <td>0.258086</td>\n",
       "      <td>0.081536</td>\n",
       "      <td>0.040431</td>\n",
       "      <td>0.933962</td>\n",
       "      <td>0.002022</td>\n",
       "      <td>0.690027</td>\n",
       "      <td>0.133423</td>\n",
       "    </tr>\n",
       "    <tr>\n",
       "      <th>1</th>\n",
       "      <td>35.986742</td>\n",
       "      <td>0.935606</td>\n",
       "      <td>0.000000</td>\n",
       "      <td>0.314394</td>\n",
       "      <td>0.068182</td>\n",
       "      <td>0.000000</td>\n",
       "      <td>0.000000</td>\n",
       "      <td>0.990530</td>\n",
       "      <td>0.501894</td>\n",
       "      <td>0.092803</td>\n",
       "    </tr>\n",
       "    <tr>\n",
       "      <th>2</th>\n",
       "      <td>58.076923</td>\n",
       "      <td>0.092308</td>\n",
       "      <td>0.169231</td>\n",
       "      <td>0.000000</td>\n",
       "      <td>0.061538</td>\n",
       "      <td>0.000000</td>\n",
       "      <td>0.938462</td>\n",
       "      <td>0.000000</td>\n",
       "      <td>0.107692</td>\n",
       "      <td>0.030769</td>\n",
       "    </tr>\n",
       "    <tr>\n",
       "      <th>3</th>\n",
       "      <td>55.250000</td>\n",
       "      <td>0.000000</td>\n",
       "      <td>0.937500</td>\n",
       "      <td>0.062500</td>\n",
       "      <td>0.125000</td>\n",
       "      <td>0.000000</td>\n",
       "      <td>0.875000</td>\n",
       "      <td>0.000000</td>\n",
       "      <td>1.000000</td>\n",
       "      <td>0.125000</td>\n",
       "    </tr>\n",
       "    <tr>\n",
       "      <th>4</th>\n",
       "      <td>45.269231</td>\n",
       "      <td>0.000000</td>\n",
       "      <td>1.000000</td>\n",
       "      <td>0.038462</td>\n",
       "      <td>0.115385</td>\n",
       "      <td>1.000000</td>\n",
       "      <td>0.000000</td>\n",
       "      <td>0.000000</td>\n",
       "      <td>0.615385</td>\n",
       "      <td>0.038462</td>\n",
       "    </tr>\n",
       "  </tbody>\n",
       "</table>\n",
       "</div>"
      ],
      "text/plain": [
       "                     edad  empleo_cuello_blanco  empleo_cuello_azul  \\\n",
       "cluster_dbscan                                                        \n",
       "-1              44.832913              0.331652            0.419294   \n",
       " 0              37.919811              0.038410            0.776954   \n",
       " 1              35.986742              0.935606            0.000000   \n",
       " 2              58.076923              0.092308            0.169231   \n",
       " 3              55.250000              0.000000            0.937500   \n",
       " 4              45.269231              0.000000            1.000000   \n",
       "\n",
       "                estado_civil_soltero  estado_civil_divorciado  \\\n",
       "cluster_dbscan                                                  \n",
       "-1                          0.255990                 0.174653   \n",
       " 0                          0.258086                 0.081536   \n",
       " 1                          0.314394                 0.068182   \n",
       " 2                          0.000000                 0.061538   \n",
       " 3                          0.062500                 0.125000   \n",
       " 4                          0.038462                 0.115385   \n",
       "\n",
       "                educacion_primaria  educacion_secundaria  educacion_terciaria  \\\n",
       "cluster_dbscan                                                                  \n",
       "-1                        0.311475              0.271122             0.351828   \n",
       " 0                        0.040431              0.933962             0.002022   \n",
       " 1                        0.000000              0.000000             0.990530   \n",
       " 2                        0.000000              0.938462             0.000000   \n",
       " 3                        0.000000              0.875000             0.000000   \n",
       " 4                        1.000000              0.000000             0.000000   \n",
       "\n",
       "                hipoteca  prestamo  \n",
       "cluster_dbscan                      \n",
       "-1              0.450820  0.214376  \n",
       " 0              0.690027  0.133423  \n",
       " 1              0.501894  0.092803  \n",
       " 2              0.107692  0.030769  \n",
       " 3              1.000000  0.125000  \n",
       " 4              0.615385  0.038462  "
      ]
     },
     "execution_count": 39,
     "metadata": {},
     "output_type": "execute_result"
    }
   ],
   "source": [
    "bank['cluster_dbscan'] = clusters\n",
    "bank.groupby('cluster_dbscan').mean()"
   ]
  },
  {
   "cell_type": "markdown",
   "metadata": {},
   "source": [
    "# Referencias\n",
    "\n",
    "- Leskovec, J., Rajaraman, A., & Ullman, J. D. (2020). Mining of massive data sets. Cambridge university press.\n",
    "- Sheehan, D. (2022). https://dashee87.github.io/data%20science/general/Clustering-with-Scikit-with-GIFs/\n",
    "- Waggoner, P. Unsupervised Machine Learning for Clustering in Political and Social Research. Mimeo"
   ]
  },
  {
   "cell_type": "markdown",
   "metadata": {},
   "source": [
    "# Información de Sesión"
   ]
  },
  {
   "cell_type": "code",
   "execution_count": 40,
   "metadata": {},
   "outputs": [
    {
     "name": "stdout",
     "output_type": "stream",
     "text": [
      "-----\n",
      "gower               NA\n",
      "kneed               0.8.5\n",
      "matplotlib          3.5.3\n",
      "numpy               1.21.6\n",
      "pandas              1.3.5\n",
      "scipy               1.7.3\n",
      "session_info        1.0.0\n",
      "sklearn             1.0.2\n",
      "-----\n",
      "IPython             7.34.0\n",
      "jupyter_client      7.4.9\n",
      "jupyter_core        4.12.0\n",
      "jupyterlab          2.1.1\n",
      "notebook            6.0.3\n",
      "-----\n",
      "Python 3.7.6 | packaged by conda-forge | (default, Mar 23 2020, 23:03:20) [GCC 7.3.0]\n",
      "Linux-6.5.0-1020-aws-x86_64-with-debian-buster-sid\n",
      "-----\n",
      "Session information updated at 2024-08-29 22:20\n"
     ]
    }
   ],
   "source": [
    "import session_info\n",
    "\n",
    "session_info.show(html=False)"
   ]
  }
 ],
 "metadata": {
  "kernelspec": {
   "display_name": "Python 3 (ipykernel)",
   "language": "python",
   "name": "python3"
  },
  "language_info": {
   "codemirror_mode": {
    "name": "ipython",
    "version": 3
   },
   "file_extension": ".py",
   "mimetype": "text/x-python",
   "name": "python",
   "nbconvert_exporter": "python",
   "pygments_lexer": "ipython3",
   "version": "3.7.6"
  },
  "toc": {
   "base_numbering": 1,
   "nav_menu": {},
   "number_sections": true,
   "sideBar": true,
   "skip_h1_title": false,
   "title_cell": "Table of Contents",
   "title_sidebar": "Contents",
   "toc_cell": false,
   "toc_position": {},
   "toc_section_display": true,
   "toc_window_display": false
  }
 },
 "nbformat": 4,
 "nbformat_minor": 5
}
