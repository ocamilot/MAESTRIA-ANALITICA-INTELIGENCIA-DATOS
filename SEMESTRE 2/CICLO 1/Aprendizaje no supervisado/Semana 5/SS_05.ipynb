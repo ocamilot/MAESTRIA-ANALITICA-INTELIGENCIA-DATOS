{
 "cells": [
  {
   "cell_type": "markdown",
   "metadata": {},
   "source": [
    "<div >\n",
    "<img src = \"figs/ans_banner_1920x200.png\" />\n",
    "</div>"
   ]
  },
  {
   "cell_type": "markdown",
   "metadata": {},
   "source": [
    "# Semana 5. Sesión Sincrónica.\n",
    "\n",
    "El  *cuaderno* tiene como objetivo hacer una introducción a los sistemas de recomendación.\n",
    "\n",
    "**NO** es necesario editar el archivo o hacer una entrega. Los ejemplos contienen celdas con código ejecutable (`en gris`), que podrá modificar libremente. Esta puede ser una buena forma de aprender nuevas funcionalidades del *cuaderno*, o experimentar variaciones en los códigos de ejemplo.\n",
    "\n"
   ]
  },
  {
   "cell_type": "markdown",
   "metadata": {},
   "source": [
    "# Sistemas de Recomendación\n",
    "\n",
    "## ¿Qué son los sistemas de recomendaciones?\n",
    "\n",
    "\n",
    "Las preferencias de los individuos suelen seguir patrones que los sistemas de recomendación pueden aprovechar, por ejemplo,\n",
    "\n",
    "- Si te interesó:  <div style=\"max-width:200px\">\n",
    "<img src = \"figs/iron_man.jpg\" />\n",
    "</div>\n",
    "\n",
    "\n",
    "- También te puede interesar: <div style=\"max-width:200px\">\n",
    "<img src = \"figs/thor.jpg\" />\n",
    "</div> \n",
    "\n",
    "\n",
    "\n",
    "\n",
    "- Los sistemas de recomendación entonces encuentran patrones que son utilizados para predecir qué otros productos podrían gustarnos y generar sugerencias, de forma tal que  los usuarios encuentren contenido atractivo en un gran corpus. \n",
    "\n",
    "- Estos sistemas son muy exitosos, por ejemplo según un estudio del 2013 de [McKinsey](https://www.mckinsey.com/industries/retail/our-insights/how-retailers-can-keep-up-with-consumers), el 35% de los artículos comprados en Amazon surgen de estos sistemas de recomendación, y por lo tanto vale la pena estudiarlos cuidadosamente."
   ]
  },
  {
   "cell_type": "markdown",
   "metadata": {},
   "source": [
    "## Filtrado Colaborativo Basado en Usuarios.\n",
    "\n",
    "El filtrado colaborativo aprovecha el poder de la colaboración para generar recomendaciones. \n",
    "\n",
    " <div style=\"max-width:400px\">\n",
    "<img src = \"figs/Colab.png\" />\n",
    "</div> \n",
    "\n",
    "\n",
    "\n",
    "### Ejemplo\n",
    "\n",
    "Para entender un poco mejor cuál es el problema al que nos enfrentamos, supongamos que tenemos una matriz con 5 usuarios y 5 productos, en este caso restaurantes. \n",
    "\n",
    "El valor de la celda denota el rating que le dió cada usuario al restaurante. Este valor lo denotamos como $r_{ij}$ que será entonces el rating que le dio el usuario $i$ al restaurante $j$. \n",
    " "
   ]
  },
  {
   "cell_type": "code",
   "execution_count": null,
   "metadata": {},
   "outputs": [],
   "source": [
    "#cargamos librerias\n",
    "import pandas as pd\n",
    "import numpy as np\n",
    "\n",
    "# Cargamos y visualizamos  los datos\n",
    "ratings = pd.read_csv('data/Ratings.csv')\n",
    "ratings.head()"
   ]
  },
  {
   "cell_type": "code",
   "execution_count": null,
   "metadata": {},
   "outputs": [],
   "source": [
    "# pivotamos la tabla para tener una matriz de usuarios y restaurantes\n",
    "r_matrix = ratings.pivot_table(values='rating', index='user_id', columns='restaurant_id')\n",
    "r_matrix.head()"
   ]
  },
  {
   "cell_type": "code",
   "execution_count": null,
   "metadata": {},
   "outputs": [],
   "source": [
    "# creamos una matriz de usuarios y restaurantes donde remplazamos los valores nulos por 0\n",
    "r_matrix_dummy = r_matrix.copy().fillna(0)\n",
    "r_matrix_dummy"
   ]
  },
  {
   "cell_type": "markdown",
   "metadata": {},
   "source": [
    "### Filtrado colaborativo sencillo (simple): medias, y medias ponderadas.\n",
    "\n",
    "\n",
    "#### Medias \n",
    "\n",
    "- Esta estrategia consiste en calcular el rating promedio que le asignó cada usuario "
   ]
  },
  {
   "cell_type": "code",
   "execution_count": null,
   "metadata": {},
   "outputs": [],
   "source": [
    " puntuac_promedio = ratings.groupby('restaurant_id').mean()\n",
    " pd.DataFrame(puntuac_promedio.iloc[:,1])"
   ]
  },
  {
   "cell_type": "markdown",
   "metadata": {},
   "source": [
    "#### Medias ponderadas\n",
    "\n",
    "- Podemos hacer algo más sofisticado usando recomendaciones de usuarios similares?\n",
    "\n",
    "\n",
    "- Podemos hacer una media ponderada\n",
    "\n",
    "\n",
    "$$\n",
    "r_{ur}=\\frac{\\sum_{u',u'\\neq u}sim(u,u').r_{u'r}}{\\sum_{u',u'\\neq u}sim(u,u')}\n",
    "$$\n",
    "\n",
    "\n",
    "\n",
    "- Es decir la predicción del rating del usuario $u$ para el restaurante $r$, $r_{ur}$, es la suma ponderada de los ratings de los otros usuarios ($u'$) a este restaurante, \n",
    "\n",
    "\n",
    "- Ponderado por cuán similares son los usuarios $u'$ a $u$. \n",
    "\n",
    "\n",
    "- Como medimos similitud?\n",
    "\n",
    "    - Existen múltiples medidas de distancia que se utilizan para medir la similitud. \n",
    "\n",
    "    - La distancia de coseno, que suele ser la más utilizada en los sistemas de recomendación.\n",
    "\n",
    "    - Matemáticamente\n",
    "\n",
    "$$\n",
    "coseno(x,y)=\\frac{x.y'}{|x||y|}\n",
    "$$\n",
    "\n",
    "\n",
    "Es decir, es el cociente del producto punto, dividido por las normas de los vectores.\n",
    "\n",
    "<center>\n",
    "<img src = \"figs/dist_cos.png\" alt = \"coseno\" style = \"width: 300px;\"/>\n",
    "</center>\n",
    "\n",
    "\n",
    "- Si el ángulo es 0  de grados, entonces los vectores se solapan, y el coseno es igual a 1 \n",
    "- Si el ángulo es 90 de grados, los vectores forman un angulo recto, y el coseno es igual a 0.\n",
    "- Si el ángulo es 180 de grados, los vectores estan en sentido opuesto, y  el coseno es igual a -1."
   ]
  },
  {
   "cell_type": "code",
   "execution_count": null,
   "metadata": {},
   "outputs": [],
   "source": [
    "import math\n",
    "\n",
    "math.cos(math.radians(0))"
   ]
  },
  {
   "cell_type": "markdown",
   "metadata": {},
   "source": [
    "##### Creamos una función recomendadora usando esto"
   ]
  },
  {
   "cell_type": "code",
   "execution_count": null,
   "metadata": {},
   "outputs": [],
   "source": [
    "# Importamos cosine_similarity \n",
    "from sklearn.metrics.pairwise import cosine_similarity\n",
    "\n",
    "#Calculamos la similitud de coseno \n",
    "cosine_sim = cosine_similarity(r_matrix_dummy, r_matrix_dummy)\n",
    "\n",
    "# Transformamos la matriz de similitud en un DataFrame\n",
    "cosine_sim = pd.DataFrame(cosine_sim, index=r_matrix.index, columns=r_matrix.index)\n",
    "\n",
    "cosine_sim\n"
   ]
  },
  {
   "cell_type": "code",
   "execution_count": null,
   "metadata": {},
   "outputs": [],
   "source": [
    "?cosine_similarity"
   ]
  },
  {
   "cell_type": "code",
   "execution_count": null,
   "metadata": {},
   "outputs": [],
   "source": [
    "# Definimos una función para calcular el promedio ponderado de los ratings\n",
    "def cf_user_wmean(user_id, restaurant_id):\n",
    "    \n",
    "    # Primero verificamos si el restaurante está en la matriz\n",
    "    if restaurant_id in r_matrix:\n",
    "    \n",
    "        #Buscamos las medidas de similitud con los otros usuarios\n",
    "        sim_scores = cosine_sim[user_id]\n",
    "        \n",
    "        # Obtenemos los ratings no faltantes de la matriz bajo evaluación\n",
    "        m_ratings = r_matrix[restaurant_id]\n",
    "        \n",
    "         # Obtenemos los índices de los restaurantes sin rating \n",
    "        idx = m_ratings[m_ratings.isnull()].index\n",
    "        \n",
    "        # Nos quedamos con similitudes y ratings completos\n",
    "        sim_scores = sim_scores.drop(idx)\n",
    "        m_ratings = m_ratings.dropna()\n",
    "        \n",
    "        # Calculamos la media ponderada\n",
    "        wmean_rating = np.dot(sim_scores, m_ratings)/ sim_scores.sum()\n",
    "    \n",
    "    else:\n",
    "        # Si no tenemos ninguna información retornamos 3\n",
    "        wmean_rating = 3.0\n",
    "    \n",
    "    return wmean_rating"
   ]
  },
  {
   "cell_type": "code",
   "execution_count": null,
   "metadata": {},
   "outputs": [],
   "source": [
    "cf_user_wmean(1,1)"
   ]
  },
  {
   "cell_type": "code",
   "execution_count": null,
   "metadata": {},
   "outputs": [],
   "source": [
    "sim_scores = cosine_sim[1]\n",
    "sim_scores"
   ]
  },
  {
   "cell_type": "code",
   "execution_count": null,
   "metadata": {},
   "outputs": [],
   "source": [
    "m_ratings =r_matrix[1]\n",
    "m_ratings"
   ]
  },
  {
   "cell_type": "code",
   "execution_count": null,
   "metadata": {},
   "outputs": [],
   "source": [
    "idx = m_ratings[m_ratings.isnull()].index\n",
    "idx"
   ]
  },
  {
   "cell_type": "markdown",
   "metadata": {},
   "source": [
    "Falta entonces \n",
    "\n",
    "$$\n",
    "r_{um}=\\frac{\\sum_{u',u'\\neq u}sim(u,u').r_{u'm}}{\\sum_{u',u'\\neq u}sim(u,u')}\n",
    "$$\n"
   ]
  },
  {
   "cell_type": "code",
   "execution_count": null,
   "metadata": {},
   "outputs": [],
   "source": [
    "sim_scores1 = sim_scores.drop(idx)\n",
    "\n",
    "m_ratings = m_ratings.dropna()\n",
    "        \n",
    "# Calculamos la media ponderada\n",
    "wmean_rating = np.dot(sim_scores1, m_ratings)/ sim_scores1.sum()\n",
    "wmean_rating"
   ]
  },
  {
   "cell_type": "markdown",
   "metadata": {},
   "source": [
    "#### Filtrado colaborativo basado en embeddings\n"
   ]
  },
  {
   "cell_type": "markdown",
   "metadata": {},
   "source": [
    "\n",
    "Estudiemos un ejemplo en el que queremos generar recomendaciones de películas a partir de *embeddings*. Supondremos que nuestra plataforma de streaming: **\"SlowFlow\"** tiene 4 usuarios y 5 películas: [Batman: El caballero de la noche asciende](https://es.wikipedia.org/wiki/The_Dark_Knight_Rises), [Harry Potter y la Piedra Filosofal](https://es.wikipedia.org/wiki/Harry_Potter_y_la_piedra_filosofal), [Shrek](https://es.wikipedia.org/wiki/Shrek), [Las trillizas de Belleville](https://es.wikipedia.org/wiki/Les_Triplettes_de_Belleville) y [Memento](https://es.wikipedia.org/wiki/Memento). \n",
    "\n",
    "La siguiente matriz que llamaremos $A$, donde $A\\in\\mathbb{R}^{ m\\times n}$, es decir, las filas son los $m$ usuarios y las columnas las $n$ películas, muestra con un $\\checkmark$ las películas que cada usuario vió:\n",
    "\n",
    "\n",
    "<center>\n",
    "<img src = \"figs/colab0.png\" alt = \"embedding1D\" style = \"width: 500px;\"/>\n",
    "</center>\n",
    "\n",
    "Esta matriz puede considerarse como una representación inicial de las interacciones entre usuarios y películas, pero es una representación altamente dispersa y difícil de analizar directamente. Aquí es donde entran en juego los embeddings.\n",
    "\n",
    "#### Embedding en una sola dimensión \n",
    "\n",
    "Comencemos representando las películas y los usuarios a un *embedding space*  de una sola dimensión. Por ejemplo, a lo largo del segmento $[-1,1]$. En este espacio, intentaremos ubicar a las películas y a los usuarios de tal manera que aquellos que tienen gustos o preferencias similares estén más cerca unos de otros. Esta reducción a una sola dimensión permite captar la principal tendencia subyacente, como si los gustos de los usuarios y las características de las películas se representaran en un único \"eje\" de preferencias.\n",
    "\n",
    "\n",
    "\n",
    "<center>\n",
    "<img src = \"figs/colab1.png\" alt = \"embedding1D\" style = \"width: 500px;\"/>\n",
    "</center>\n",
    "\n",
    "Por ejemplo, si en esta dimensión las películas de acción como Batman y Memento se sitúan en un extremo, y las películas más familiares como Shrek y Las trillizas de Belville en otro, podríamos deducir que los usuarios ubicados cerca de un extremo tienen más afinidad por cierto tipo de contenido.\n",
    "\n",
    "<center>\n",
    "<img src = \"figs/colab2b.png\" alt = \"embedding1D\" style = \"width: 500px;\"/>\n",
    "</center>\n",
    "\n",
    "En esta representación, podemos ver cómo los usuarios y las películas se distribuyen a lo largo de esta línea. Usuarios que están más cerca de ciertas películas probablemente prefieran ese tipo de contenido. Sin embargo, esta representación de una sola dimensión es bastante limitada en su capacidad para captar matices complejos.\n",
    "\n",
    "#### Embeddings en dos dimensiones\n",
    "\n",
    "Aumentar la representación a dos dimensiones nos permite capturar relaciones más complejas. Al incorporar una segunda dimensión, podemos representar múltiples ejes de preferencias.\n",
    "\n",
    "<center>\n",
    "<img src = \"figs/colab4.png\" alt = \"embedding2D\" style = \"width: 500px;\"/>\n",
    "</center>\n",
    "\n",
    "<center>\n",
    "<img src = \"figs/colab5.png\" alt = \"embedding2D\" style = \"width: 500px;\"/>\n",
    "</center>\n",
    "\n",
    "\n",
    "Finalmente, podemos visualizar la relación entre los usuarios y las películas de manera más clara en este espacio de dos dimensiones:\n",
    "\n",
    "<center>\n",
    "<img src = \"figs/colab3b.png\" alt = \"embedding2D\" style = \"width: 500px;\"/>\n",
    "</center>\n",
    "\n",
    "Este proceso de mapeo de usuarios y películas a un espacio latente multidimensional mediante embeddings es fundamental para muchas técnicas de recomendación. Al ubicar usuarios e ítems en un espacio compartido, podemos medir las similitudes entre ellos, lo que permite hacer recomendaciones basadas en las distancias o proximidades en este espacio latente. Esto facilita predecir qué películas podrían gustar a un usuario en función de sus preferencias latentes y las características latentes de las películas.\n"
   ]
  },
  {
   "cell_type": "markdown",
   "metadata": {},
   "source": [
    "#### Como obtenemos los embeddings?\n",
    "\n",
    "Una forma de obtener embeddings es mediante la Descomposición en Valores Singulares (SVD):\n",
    "\n",
    "$$\n",
    "A = U\\Sigma V'\n",
    "$$\n",
    "\n",
    "En el contexto tradicional de SVD, \n",
    "    \n",
    "   - $U$ es una matriz ortogonal cuyas columnas son los vectores singulares de la matriz original $A$, que están relacionados con los **vectores propios (característicos)** de $AA'$. Estos vectores también tienen una estrecha relación con las **componentes principales** en Análisis de Componentes Principales (PCA), ya que representan las direcciones principales de variabilidad en los datos para las filas de $A$. \n",
    "   - Por otro lado, $V$ es otra matriz ortogonal cuyas columnas son los vectores singulares de $A$, pero asociados con las columnas de la matriz original, representando las direcciones principales de variabilidad en las columnas de $A$. En otras palabras, $U$ y $V$ son matrices que describen cómo las filas y las columnas de $A$ se pueden proyectar en espacios de características latentes.\n",
    "\n",
    "En el **contexto de embeddings**, $U$ y $V$ tienen una interpretación más específica.\n",
    "    \n",
    "   - $U$ representa la matriz de **embeddings de los usuarios**, es decir, cada fila de $U$ es una representación latente de un usuario en un espacio de características, capturando sus preferencias a lo largo de diferentes dimensiones latentes. \n",
    "   - Similarmente, $V$ es la matriz de **embeddings de los ítems**, donde cada columna de $V$ describe un ítem en ese mismo espacio latente, permitiendo modelar cómo los ítems están relacionados con esas características latentes identificadas.\n",
    "\n",
    "Este **espacio de características latentes** es comparable a lo que ocurre en el contexto de reconocimiento facial con las **Eigenfaces**. En Eigenfaces, las imágenes de rostros se proyectan en un espacio de características latentes donde cada dimensión captura un patrón característico de los rostros, como la forma general o las características distintivas. De manera similar, en el caso de embeddings obtenidos a partir de SVD, tanto los usuarios como los ítems se proyectan en un espacio de características latentes que captura los patrones más representativos de sus interacciones, como preferencias o similitudes. En ambos casos, el objetivo es reducir la dimensionalidad mientras se preserva la información más relevante.\n",
    "\n",
    "La matriz $\\Sigma$ sigue conteniendo los valores singulares, que actúan como ponderadores, indicando qué tan importantes son estas características latentes para describir las interacciones entre usuarios e ítems.\n",
    "\n",
    "Para reducir la dimensionalidad y obtener una representación de rango inferior, seleccionamos solamente las primeras $k$ características de estas matrices, que consideramos capturan de manera más efectiva las preferencias y los gustos de los usuarios."
   ]
  },
  {
   "cell_type": "markdown",
   "metadata": {},
   "source": [
    "####  Interpretación de Embeddings\n",
    "\n",
    "##### Ejemplo 1:"
   ]
  },
  {
   "cell_type": "code",
   "execution_count": null,
   "metadata": {},
   "outputs": [],
   "source": [
    "import pandas as pd\n",
    "import numpy as np\n",
    "\n",
    "# Cargamos y visualizamos  los datos\n",
    "pelis = pd.read_csv('data/pelis.csv')\n",
    "pelis = pelis.set_index(\"Usuarios\")\n",
    "pelis"
   ]
  },
  {
   "cell_type": "code",
   "execution_count": null,
   "metadata": {},
   "outputs": [],
   "source": [
    "np.linalg.matrix_rank(pelis.to_numpy())"
   ]
  },
  {
   "cell_type": "code",
   "execution_count": null,
   "metadata": {},
   "outputs": [],
   "source": [
    "U, S, Vt = np.linalg.svd(pelis, full_matrices=False)"
   ]
  },
  {
   "cell_type": "code",
   "execution_count": null,
   "metadata": {},
   "outputs": [],
   "source": [
    "print(U[:,0:2])"
   ]
  },
  {
   "cell_type": "code",
   "execution_count": null,
   "metadata": {},
   "outputs": [],
   "source": [
    "print(Vt[0:2,:])"
   ]
  },
  {
   "cell_type": "code",
   "execution_count": null,
   "metadata": {},
   "outputs": [],
   "source": [
    "n=2\n",
    "k=2\n",
    "S2= np.resize(S,[n,1])*np.eye(n,k) #ponemos los valores singulares en una matriz diagonal\n",
    "\n",
    "print(S2)"
   ]
  },
  {
   "cell_type": "code",
   "execution_count": null,
   "metadata": {},
   "outputs": [],
   "source": [
    "#Reconstrucción\n",
    "l=2\n",
    "pd.DataFrame(np.dot(U[:,0:l],np.dot(S2[0:l,0:l],Vt[0:l,:]))).round()"
   ]
  },
  {
   "cell_type": "markdown",
   "metadata": {},
   "source": [
    "##### Ejemplo 2:"
   ]
  },
  {
   "cell_type": "code",
   "execution_count": null,
   "metadata": {},
   "outputs": [],
   "source": [
    "# Cargamos y visualizamos  los datos\n",
    "pelis2 = pd.read_csv('data/pelis2.csv')\n",
    "pelis2 = pelis2.set_index(\"Usuarios\")\n",
    "pelis2"
   ]
  },
  {
   "cell_type": "code",
   "execution_count": null,
   "metadata": {},
   "outputs": [],
   "source": [
    "np.linalg.matrix_rank(pelis2.to_numpy())"
   ]
  },
  {
   "cell_type": "code",
   "execution_count": null,
   "metadata": {},
   "outputs": [],
   "source": [
    "U, S, Vt = np.linalg.svd(pelis2,full_matrices=False)\n",
    "print('U, S, Vt ='), U, S, Vt"
   ]
  },
  {
   "cell_type": "code",
   "execution_count": null,
   "metadata": {},
   "outputs": [],
   "source": [
    "n=3\n",
    "k=3\n",
    "S2= np.resize(S,[n,1])*np.eye(n,k) #ponemos los valores singulares en una matriz diagonal\n",
    "l=3\n",
    "pd.DataFrame(np.dot(U[:,0:l],np.dot(S2[0:l,0:l],Vt[0:l,:]))).round()"
   ]
  },
  {
   "cell_type": "markdown",
   "metadata": {},
   "source": [
    "# Evaluación Sistemas de Recomendación\n",
    "\n",
    "\n",
    "- La evaluación de los sistemas de recomendación es otro paso importante para evaluar la efectividad del método. \n",
    "\n",
    "- En la literatura podemos ver dos tipologías principales: evaluación offline y online.\n",
    "\n",
    "\n",
    "##  Offline\n",
    "   \n",
    "   - La evaluación offline es la que estamos acostumbrados en ML supervisado donde usamos un conjunto de entrenamiento y un conjunto de prueba; y aplicamos la métrica de evaluación apropiada. \n",
    "   \n",
    "   Por ejemplo si se trata de etiquetas numéricas, como las calificaciones de 5 estrellas, la forma más común de validar un sistema de recomendación se basa en su valor de predicción, es decir, la capacidad de predecir las calificaciones del usuario. Las funciones estándar como el error cuadrático medio (RMSE), la precisión, las curvas ROC, etc...\n",
    "\n",
    "\n",
    "##  Online    \n",
    " \n",
    "   - La evaluación online es cuando utilizamos un conjunto de herramientas que nos permite observar las interacciones de los usuarios con el sistema. \n",
    "   - La técnica en línea más común se llama prueba A-B y tiene la ventaja de permitir la evaluación del sistema al mismo tiempo que los usuarios aprenden, compran o juegan con el sistema de recomendación. \n",
    "\n",
    "<div style=\"max-width:500px\">\n",
    "<img src = \"figs/AB.jpg\" />\n",
    "</div>\n",
    "\n",
    "    \n",
    "   - Esto acerca la evaluación al funcionamiento real del sistema y la hace realmente efectiva cuando el propósito del sistema es cambiar o influir en el comportamiento de los usuarios. \n",
    "   - Para evaluar la prueba, estamos interesados en medir cómo cambia el comportamiento del usuario cuando el usuario interactúa con diferentes sistemas de recomendación. Y require estimación de parámetros causales.\n",
    "\n",
    "<div style=\"max-width:500px\">\n",
    "<img src = \"figs/BING.png\" />\n",
    "</div>\n",
    "\n",
    "\n",
    "\n",
    "    \n",
    "   - En esta situación, las métricas fuera de línea como RMSE no son lo suficientemente buenas. En este caso, estamos particularmente interesados en la evaluación del objetivo global del sistema de recomendación, la retención de usuario.\n"
   ]
  },
  {
   "cell_type": "markdown",
   "metadata": {},
   "source": [
    "# Información de Sesión"
   ]
  },
  {
   "cell_type": "code",
   "execution_count": null,
   "metadata": {},
   "outputs": [],
   "source": [
    "import session_info\n",
    "\n",
    "session_info.show(html=False)"
   ]
  }
 ],
 "metadata": {
  "kernelspec": {
   "display_name": "Python 3 (ipykernel)",
   "language": "python",
   "name": "python3"
  },
  "language_info": {
   "codemirror_mode": {
    "name": "ipython",
    "version": 3
   },
   "file_extension": ".py",
   "mimetype": "text/x-python",
   "name": "python",
   "nbconvert_exporter": "python",
   "pygments_lexer": "ipython3",
   "version": "3.7.6"
  },
  "toc": {
   "base_numbering": 1,
   "nav_menu": {},
   "number_sections": true,
   "sideBar": true,
   "skip_h1_title": false,
   "title_cell": "Table of Contents",
   "title_sidebar": "Contents",
   "toc_cell": false,
   "toc_position": {},
   "toc_section_display": true,
   "toc_window_display": false
  }
 },
 "nbformat": 4,
 "nbformat_minor": 5
}
